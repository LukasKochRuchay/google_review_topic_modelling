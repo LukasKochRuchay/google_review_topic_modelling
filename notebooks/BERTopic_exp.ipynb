{
 "cells": [
  {
   "cell_type": "code",
   "execution_count": 72,
   "metadata": {},
   "outputs": [],
   "source": [
    "import pandas as pd\n",
    "from bertopic.representation import KeyBERTInspired\n",
    "from bertopic.representation import PartOfSpeech\n",
    "from bertopic.representation import MaximalMarginalRelevance"
   ]
  },
  {
   "cell_type": "code",
   "execution_count": 124,
   "metadata": {},
   "outputs": [],
   "source": [
    "df = pd.read_csv('../data/reviews_berlin.csv')"
   ]
  },
  {
   "cell_type": "code",
   "execution_count": 34,
   "metadata": {},
   "outputs": [],
   "source": [
    "df = df[df.review_en.apply(lambda x: isinstance(x, str))]"
   ]
  },
  {
   "cell_type": "code",
   "execution_count": 35,
   "metadata": {},
   "outputs": [],
   "source": [
    "# split sentences at \"\\\" as reviews seem to organized this way\n",
    "\n",
    "all_sentences_with_index = []\n",
    "\n",
    "for idx, row in df.review_en.items():\n",
    "    # replace \\\n",
    "    cleaned_row = row.replace(\"[\", \"\").replace(\"]\", \"\").replace(\"\\\\n\", \"\").strip()\n",
    "    # Split sentences\n",
    "    sentences = cleaned_row.split(\", '\")\n",
    "    # Append each sentence with its original index\n",
    "    for sentence in sentences:\n",
    "        all_sentences_with_index.append((idx, sentence))\n"
   ]
  },
  {
   "cell_type": "code",
   "execution_count": 36,
   "metadata": {},
   "outputs": [
    {
     "data": {
      "text/plain": [
       "13805"
      ]
     },
     "execution_count": 36,
     "metadata": {},
     "output_type": "execute_result"
    }
   ],
   "source": [
    "len(all_sentences_with_index)"
   ]
  },
  {
   "cell_type": "code",
   "execution_count": 37,
   "metadata": {},
   "outputs": [],
   "source": [
    "# create look up for remapping review to parkname\n",
    "doc_look_up_df = pd.DataFrame(all_sentences_with_index)\n",
    "cols=['orig_index', 'sentence']\n",
    "doc_look_up_df.columns = cols"
   ]
  },
  {
   "cell_type": "code",
   "execution_count": 38,
   "metadata": {},
   "outputs": [],
   "source": [
    "docs = list(doc_look_up_df.sentence)"
   ]
  },
  {
   "cell_type": "markdown",
   "metadata": {},
   "source": [
    "#### topic modelling with BERTopic"
   ]
  },
  {
   "cell_type": "code",
   "execution_count": 85,
   "metadata": {},
   "outputs": [],
   "source": [
    "#defines how a document will be split into token (ngram_range) and removes stop words\n",
    "vectorizer_model = CountVectorizer(stop_words='english') #ngram_range=(1, 3)"
   ]
  },
  {
   "cell_type": "code",
   "execution_count": 86,
   "metadata": {},
   "outputs": [],
   "source": [
    "topic_model = BERTopic(vectorizer_model=vectorizer_model, calculate_probabilities=True, nr_topics=50).fit(docs)"
   ]
  },
  {
   "cell_type": "code",
   "execution_count": 42,
   "metadata": {},
   "outputs": [],
   "source": [
    "# cleaning  outliers using probabilities\n",
    "#new_topics = topic_model.reduce_outliers(docs, topics, probabilities=probs, strategy=\"probabilities\")\n",
    "#new_topics = topic_model.reduce_outliers(docs, topics , strategy=\"c-tf-idf\", threshold=0.1)"
   ]
  },
  {
   "cell_type": "code",
   "execution_count": 87,
   "metadata": {},
   "outputs": [
    {
     "data": {
      "application/vnd.plotly.v1+json": {
       "config": {
        "plotlyServerURL": "https://plot.ly"
       },
       "data": [
        {
         "marker": {
          "color": "#D55E00"
         },
         "orientation": "h",
         "type": "bar",
         "x": [
          0.012095675185444374,
          0.012133873133011307,
          0.012475164101524286,
          0.014417047191040613,
          0.015175204972007595,
          0.016131443769441048,
          0.016675111453307908,
          0.01989222386289428,
          0.021686602147575618,
          0.027518102277628614
         ],
         "xaxis": "x",
         "y": [
          "little  ",
          "good  ",
          "walk  ",
          "small  ",
          "great  ",
          "playground  ",
          "beautiful  ",
          "place  ",
          "nice  ",
          "park  "
         ],
         "yaxis": "y"
        },
        {
         "marker": {
          "color": "#0072B2"
         },
         "orientation": "h",
         "type": "bar",
         "x": [
          0.008913082992973746,
          0.00893491904129469,
          0.008950230166649234,
          0.009161264685032037,
          0.010118144922296485,
          0.01050189880184447,
          0.010713791248657581,
          0.01088167564503839,
          0.011806268128749235,
          0.0313564397970122
         ],
         "xaxis": "x2",
         "y": [
          "marx  ",
          "brandenburg  ",
          "best  ",
          "cathedral  ",
          "city  ",
          "place  ",
          "german  ",
          "visit  ",
          "park  ",
          "berlin  "
         ],
         "yaxis": "y2"
        },
        {
         "marker": {
          "color": "#CC79A7"
         },
         "orientation": "h",
         "type": "bar",
         "x": [
          0.01695166453855117,
          0.017115071073119072,
          0.019840872075372155,
          0.023003946460111963,
          0.023320580498687113,
          0.025533997407832246,
          0.02829763722225209,
          0.029735374991524562,
          0.03451016921965398,
          0.04170556933790944
         ],
         "xaxis": "x3",
         "y": [
          "place  ",
          "modern  ",
          "worth  ",
          "tour  ",
          "visit  ",
          "beautiful  ",
          "view  ",
          "architecture  ",
          "building  ",
          "church  "
         ],
         "yaxis": "y3"
        },
        {
         "marker": {
          "color": "#E69F00"
         },
         "orientation": "h",
         "type": "bar",
         "x": [
          0.037315449547985664,
          0.042372900544902135,
          0.04746164228629032,
          0.07038747576491024,
          0.08193281183933739,
          0.10571093861953716,
          0.10946332640766385,
          0.11101714392572574,
          0.12889222828211197,
          0.29688283406156646
         ],
         "xaxis": "x4",
         "y": [
          "bad  ",
          "love  ",
          "great  ",
          "gut  ",
          "okay  ",
          "beautiful  ",
          "cool  ",
          "nice  ",
          "good  ",
          "ok  "
         ],
         "yaxis": "y4"
        },
        {
         "marker": {
          "color": "#56B4E9"
         },
         "orientation": "h",
         "type": "bar",
         "x": [
          0.021529663403335127,
          0.02169538570397078,
          0.021887915933807293,
          0.02303726044018655,
          0.023131506601296446,
          0.027474573680881544,
          0.03072526482855893,
          0.031049836700709647,
          0.04362871621780765,
          0.08603937675904998
         ],
         "xaxis": "x5",
         "y": [
          "prices  ",
          "stalls  ",
          "books  ",
          "selection  ",
          "store  ",
          "sunday  ",
          "clothes  ",
          "saturday  ",
          "flea  ",
          "market  "
         ],
         "yaxis": "y5"
        },
        {
         "marker": {
          "color": "#009E73"
         },
         "orientation": "h",
         "type": "bar",
         "x": [
          0.018092944248188483,
          0.021024363816739677,
          0.02340737316023896,
          0.02616563146205771,
          0.02616699517589115,
          0.027533878975906544,
          0.041659077574704134,
          0.043324153483303554,
          0.04422919042408958,
          0.05897617178115366
         ],
         "xaxis": "x6",
         "y": [
          "jewish  ",
          "victims  ",
          "prison  ",
          "soldiers  ",
          "history  ",
          "monument  ",
          "soviet  ",
          "cemetery  ",
          "war  ",
          "memorial  "
         ],
         "yaxis": "y6"
        },
        {
         "marker": {
          "color": "#F0E442"
         },
         "orientation": "h",
         "type": "bar",
         "x": [
          0.01944801057375019,
          0.020296813511609186,
          0.022819943639496597,
          0.024689146649025617,
          0.02838432645323964,
          0.02882519196567991,
          0.02888779036244888,
          0.03918600051850704,
          0.04882781122540597,
          0.09916468318693816
         ],
         "xaxis": "x7",
         "y": [
          "neb  ",
          "ubahn  ",
          "elevator  ",
          "trains  ",
          "u1  ",
          "sbahn  ",
          "u3  ",
          "train  ",
          "subway  ",
          "station  "
         ],
         "yaxis": "y7"
        },
        {
         "marker": {
          "color": "#D55E00"
         },
         "orientation": "h",
         "type": "bar",
         "x": [
          0.018487966438375553,
          0.02029465097922908,
          0.020657155145956473,
          0.02110245243179076,
          0.02321430704540481,
          0.03001982566785806,
          0.03326518324500275,
          0.03637734457880667,
          0.03792877588135566,
          0.03900599258085395
         ],
         "xaxis": "x8",
         "y": [
          "unfriendly  ",
          "whiskeys  ",
          "friendly  ",
          "menu  ",
          "cocktails  ",
          "bar  ",
          "staff  ",
          "food  ",
          "whiskey  ",
          "service  "
         ],
         "yaxis": "y8"
        },
        {
         "marker": {
          "color": "#0072B2"
         },
         "orientation": "h",
         "type": "bar",
         "x": [
          0.01815807628405501,
          0.01893792578784709,
          0.027503785569707607,
          0.02960269194310196,
          0.031298150341912905,
          0.047156836850395074,
          0.052862608739497455,
          0.06155592551801854,
          0.07042759886026141,
          0.09519075840297504
         ],
         "xaxis": "x9",
         "y": [
          "impressive  ",
          "artistic  ",
          "beauty  ",
          "statues  ",
          "beautiful  ",
          "flowers  ",
          "roses  ",
          "tiergarten  ",
          "rose  ",
          "garden  "
         ],
         "yaxis": "y9"
        },
        {
         "marker": {
          "color": "#CC79A7"
         },
         "orientation": "h",
         "type": "bar",
         "x": [
          0.060241302520507606,
          0.060795267486188166,
          0.06264142474569562,
          0.06295535849755957,
          0.06333042751229849,
          0.06514171752811727,
          0.06759210524387405,
          0.07253739346317979,
          0.10478517994115907,
          0.1187250999563243
         ],
         "xaxis": "x10",
         "y": [
          "skates  ",
          "shared  ",
          "bearable  ",
          "cyclists  ",
          "footpath  ",
          "beginners  ",
          "autumnwinter  ",
          "roller  ",
          "walk  ",
          "route  "
         ],
         "yaxis": "y10"
        },
        {
         "marker": {
          "color": "#E69F00"
         },
         "orientation": "h",
         "type": "bar",
         "x": [
          0.0323577827822837,
          0.03257645472256294,
          0.033093910275100565,
          0.034496407547428394,
          0.036636317176912625,
          0.03930114686314094,
          0.07157311435390795,
          0.09226383594681742,
          0.1261544669977115,
          0.13020318566905226
         ],
         "xaxis": "x11",
         "y": [
          "suspicious  ",
          "grass  ",
          "garbage  ",
          "ts  ",
          "reccomend  ",
          "littered  ",
          "unfortunately  ",
          "clean  ",
          "rubbish  ",
          "dirty  "
         ],
         "yaxis": "y11"
        },
        {
         "marker": {
          "color": "#56B4E9"
         },
         "orientation": "h",
         "type": "bar",
         "x": [
          0.06875195144952116,
          0.06875195144952116,
          0.06875195144952116,
          0.08243657786432723,
          0.09073829219361469,
          0.09279907292576793,
          0.1012183535792924,
          0.15869885010332405,
          0.2158163678793661,
          1.3210421738453504
         ],
         "xaxis": "x12",
         "y": [
          "ding  ",
          "bb  ",
          "fdxb  ",
          "simply  ",
          "bvg  ",
          "mega  ",
          "mid  ",
          "superb  ",
          "jetty  ",
          "super  "
         ],
         "yaxis": "y12"
        },
        {
         "marker": {
          "color": "#009E73"
         },
         "orientation": "h",
         "type": "bar",
         "x": [
          0.04935975895192479,
          0.055308970360674545,
          0.06731478665757976,
          0.0807928806390759,
          0.0924491886575552,
          0.09702218331520009,
          0.21086986878671388,
          0.21086986878671388,
          0.24423602608762135,
          0.5434172915736917
         ],
         "xaxis": "x13",
         "y": [
          "msto  ",
          "worth  ",
          "gu  ",
          "ut  ",
          "weather  ",
          "trip  ",
          "wound  ",
          "erable  ",
          "non  ",
          "ne  "
         ],
         "yaxis": "y13"
        },
        {
         "marker": {
          "color": "#F0E442"
         },
         "orientation": "h",
         "type": "bar",
         "x": [
          0.20290210061931854,
          0.20290210061931854,
          0.20290210061931854,
          0.20290210061931854,
          0.20290210061931854,
          0.20290210061931854,
          0.20290210061931854,
          0.2386481747761765,
          0.37200403697914053,
          0.37200403697914053
         ],
         "xaxis": "x14",
         "y": [
          "building1  ",
          "ids  ",
          "n228  ",
          "machineeduardo  ",
          "federalreichstag  ",
          "frank198219981991volume  ",
          "chonen  ",
          "google  ",
          "jk  ",
          "kp  "
         ],
         "yaxis": "y14"
        },
        {
         "marker": {
          "color": "#D55E00"
         },
         "orientation": "h",
         "type": "bar",
         "x": [
          0.04173271083051614,
          0.04322619099915664,
          0.049700623093961976,
          0.05062519261430249,
          0.05064811683116736,
          0.05097078637958172,
          0.05097078637958172,
          0.054192441116322584,
          0.1625501898219453,
          0.24366754372391605
         ],
         "xaxis": "x15",
         "y": [
          "nature  ",
          "quietly  ",
          "peace  ",
          "silence  ",
          "place  ",
          "spruced  ",
          "ieckiem  ",
          "nice  ",
          "peaceful  ",
          "quiet  "
         ],
         "yaxis": "y15"
        },
        {
         "marker": {
          "color": "#0072B2"
         },
         "orientation": "h",
         "type": "bar",
         "x": [
          0.046156200626725145,
          0.04691421578831171,
          0.04790648285042863,
          0.04852823860114128,
          0.05154602387414324,
          0.05722262463052808,
          0.05727290003016301,
          0.05967326315921656,
          0.06549070190835182,
          0.06786994646026319
         ],
         "xaxis": "x16",
         "y": [
          "que  ",
          "en  ",
          "muy  ",
          "del  ",
          "la  ",
          "lugar  ",
          "che  ",
          "il  ",
          "di  ",
          "una  "
         ],
         "yaxis": "y16"
        },
        {
         "marker": {
          "color": "#CC79A7"
         },
         "orientation": "h",
         "type": "bar",
         "x": [
          0.03122597267796102,
          0.0347462854793163,
          0.0349734385745107,
          0.03515207768669155,
          0.038549180906755715,
          0.03982260149223829,
          0.040884334252038,
          0.04231862034705217,
          0.0510749394160642,
          0.06402168658860034
         ],
         "xaxis": "x17",
         "y": [
          "photo  ",
          "colors  ",
          "possible  ",
          "memory  ",
          "phone  ",
          "remember  ",
          "stopped  ",
          "ruins  ",
          "gardenmany  ",
          "youll  "
         ],
         "yaxis": "y17"
        },
        {
         "marker": {
          "color": "#E69F00"
         },
         "orientation": "h",
         "type": "bar",
         "x": [
          0.028722796389417014,
          0.03238389129711751,
          0.03268929733049629,
          0.03429183520737445,
          0.03827961758187927,
          0.03951091730684778,
          0.051059454739005805,
          0.05566203113612694,
          0.0946259565037455,
          0.1438930467086441
         ],
         "xaxis": "x18",
         "y": [
          "tapas  ",
          "dishes  ",
          "delicious  ",
          "asian  ",
          "thailand  ",
          "pad  ",
          "vietnamese  ",
          "authentic  ",
          "food  ",
          "thai  "
         ],
         "yaxis": "y18"
        },
        {
         "marker": {
          "color": "#56B4E9"
         },
         "orientation": "h",
         "type": "bar",
         "x": [
          0.04098602392889663,
          0.04514705442518824,
          0.045471843372270136,
          0.04718232400803373,
          0.047607548974427386,
          0.050717666827055766,
          0.057448164470958615,
          0.07910219990221966,
          0.09964800662226748,
          0.13820511321367465
         ],
         "xaxis": "x19",
         "y": [
          "aggressive  ",
          "make  ",
          "pedestrians  ",
          "recklessly  ",
          "spaces  ",
          "speeding  ",
          "garage  ",
          "cyclists  ",
          "car  ",
          "parking  "
         ],
         "yaxis": "y19"
        },
        {
         "marker": {
          "color": "#009E73"
         },
         "orientation": "h",
         "type": "bar",
         "x": [
          0.049996376195303886,
          0.05802981698596814,
          0.058216226242721096,
          0.05981241378880298,
          0.05981241378880298,
          0.06411256584695667,
          0.07894733069944032,
          0.08069597795932815,
          0.2746709721104471,
          0.4539148760212209
         ],
         "xaxis": "x20",
         "y": [
          "stinks  ",
          "chilling  ",
          "place  ",
          "spartan  ",
          "includedtake  ",
          "totally  ",
          "chillout  ",
          "spot  ",
          "chillig  ",
          "chill  "
         ],
         "yaxis": "y20"
        },
        {
         "marker": {
          "color": "#F0E442"
         },
         "orientation": "h",
         "type": "bar",
         "x": [
          0.06302547733944117,
          0.06302547733944117,
          0.06388858007964068,
          0.06498885343345993,
          0.07752697022444797,
          0.09393543372888669,
          0.12008395542938478,
          0.12717512588875704,
          0.14342753252602194,
          0.30861587624768094
         ],
         "xaxis": "x21",
         "y": [
          "interestinggood  ",
          "gums  ",
          "site  ",
          "seeing  ",
          "exciting  ",
          "valuable  ",
          "history  ",
          "historical  ",
          "historically  ",
          "interesting  "
         ],
         "yaxis": "y21"
        },
        {
         "marker": {
          "color": "#D55E00"
         },
         "orientation": "h",
         "type": "bar",
         "x": [
          0.03241531841286407,
          0.03241531841286407,
          0.033068808588167777,
          0.03331937988804582,
          0.03718718984728071,
          0.03950512034179097,
          0.043159889808870464,
          0.04636947890643099,
          0.048649139158269634,
          0.08314679337584252
         ],
         "xaxis": "x22",
         "y": [
          "centrum  ",
          "om  ",
          "te  ",
          "tot  ",
          "jest  ",
          "iin  ",
          "na  ",
          "miejsce  ",
          "bardzo  ",
          "bir  "
         ],
         "yaxis": "y22"
        },
        {
         "marker": {
          "color": "#0072B2"
         },
         "orientation": "h",
         "type": "bar",
         "x": [
          0.044539854173191805,
          0.046667396697595454,
          0.047702148890413784,
          0.05433356101968864,
          0.054566704843569964,
          0.05597095679501214,
          0.06414584035707221,
          0.06913458230141901,
          0.11089710811079241,
          0.1399823988300314
         ],
         "xaxis": "x23",
         "y": [
          "cleaning  ",
          "unfortunately  ",
          "public  ",
          "parking  ",
          "elevators  ",
          "used  ",
          "toilets  ",
          "smell  ",
          "toilet  ",
          "urine  "
         ],
         "yaxis": "y23"
        },
        {
         "marker": {
          "color": "#CC79A7"
         },
         "orientation": "h",
         "type": "bar",
         "x": [
          0.14388835392589397,
          0.15696200236588792,
          0.15696200236588792,
          0.15696200236588792,
          0.15696200236588792,
          0.15696200236588792,
          0.15696200236588792,
          0.15696200236588792,
          0.15696200236588792,
          0.15696200236588792
         ],
         "xaxis": "x24",
         "y": [
          "lessing  ",
          "p2  ",
          "chwil  ",
          "choralspace  ",
          "gehrung  ",
          "hhe  ",
          "hilalspor  ",
          "amina  ",
          "koyim  ",
          "p3  "
         ],
         "yaxis": "y24"
        },
        {
         "marker": {
          "color": "#E69F00"
         },
         "orientation": "h",
         "type": "bar",
         "x": [
          0.023959367892102842,
          0.023959367892102842,
          0.025207777901746442,
          0.026140662332845316,
          0.028743773424249094,
          0.028751241470523412,
          0.034755037724791396,
          0.04131243723549164,
          0.14533873635280342,
          0.21138214121777146
         ],
         "xaxis": "x25",
         "y": [
          "sauna  ",
          "temperature  ",
          "changing  ",
          "rooms  ",
          "water  ",
          "pools  ",
          "clean  ",
          "swim  ",
          "swimming  ",
          "pool  "
         ],
         "yaxis": "y25"
        },
        {
         "marker": {
          "color": "#56B4E9"
         },
         "orientation": "h",
         "type": "bar",
         "x": [
          0.029972310905769167,
          0.0314485805013964,
          0.031621279439486324,
          0.032775253901013726,
          0.03373377318978271,
          0.03626518970970268,
          0.04779539712544332,
          0.06206370113435087,
          0.06866439301785043,
          0.07221212371691288
         ],
         "xaxis": "x26",
         "y": [
          "avoid  ",
          "park  ",
          "yelling  ",
          "dont  ",
          "dangerous  ",
          "offered  ",
          "aggressive  ",
          "dealers  ",
          "drug  ",
          "drugs  "
         ],
         "yaxis": "y26"
        },
        {
         "marker": {
          "color": "#009E73"
         },
         "orientation": "h",
         "type": "bar",
         "x": [
          0.06295814360508863,
          0.07536032096656321,
          0.08376008626923434,
          0.09107345648960485,
          0.10236352695399167,
          0.10236352695399167,
          0.10376534482733588,
          0.11304048144984483,
          0.30181061722547137,
          0.3060109105888551
         ],
         "xaxis": "x27",
         "y": [
          "rebuilt  ",
          "politics  ",
          "renovated  ",
          "better  ",
          "displaced  ",
          "neverending  ",
          "site  ",
          "sites  ",
          "construction  ",
          "renovation  "
         ],
         "yaxis": "y27"
        },
        {
         "marker": {
          "color": "#F0E442"
         },
         "orientation": "h",
         "type": "bar",
         "x": [
          0.04253422766428434,
          0.05389457779556452,
          0.057460282438607756,
          0.059516013201508414,
          0.06914894110122428,
          0.0879717782881949,
          0.10441346934896657,
          0.1321973483158794,
          0.15558511747775464,
          0.16906898351627997
         ],
         "xaxis": "x28",
         "y": [
          "unbelievable  ",
          "incorrect  ",
          "hours  ",
          "correct  ",
          "google  ",
          "times  ",
          "website  ",
          "open  ",
          "opening  ",
          "closed  "
         ],
         "yaxis": "y28"
        },
        {
         "marker": {
          "color": "#D55E00"
         },
         "orientation": "h",
         "type": "bar",
         "x": [
          0.03841267593305389,
          0.04314069772299256,
          0.0562180927732881,
          0.059754324033212916,
          0.059815813412464655,
          0.07188343841655452,
          0.10705575484347556,
          0.1502205598177623,
          0.18065492208222153,
          0.3260631596520102
         ],
         "xaxis": "x29",
         "y": [
          "shady  ",
          "missing  ",
          "dogs  ",
          "ok  ",
          "website  ",
          "pm  ",
          "wasnt  ",
          "clean  ",
          "arround  ",
          "benches  "
         ],
         "yaxis": "y29"
        },
        {
         "marker": {
          "color": "#0072B2"
         },
         "orientation": "h",
         "type": "bar",
         "x": [
          0.07768062124317679,
          0.08057513673088408,
          0.08838374703631426,
          0.09122925033856204,
          0.10564376053604149,
          0.1071868776138342,
          0.11355121280993895,
          0.12708541475708077,
          0.12909891292712225,
          0.41567897734746423
         ],
         "xaxis": "x30",
         "y": [
          "ok  ",
          "fortunately  ",
          "bit  ",
          "newspaper  ",
          "dog  ",
          "walk  ",
          "quiet  ",
          "nice  ",
          "quite  ",
          "small  "
         ],
         "yaxis": "y30"
        },
        {
         "marker": {
          "color": "#CC79A7"
         },
         "orientation": "h",
         "type": "bar",
         "x": [
          0.09183341755934722,
          0.1010077186499653,
          0.1010077186499653,
          0.15034788578162528,
          0.15074071803045178,
          0.1617609339769008,
          0.3244349876316392,
          0.33066225321158216,
          0.3474486465410228,
          0.5041135099089187
         ],
         "xaxis": "x31",
         "y": [
          "bon  ",
          "charter  ",
          "ami  ",
          "location  ",
          "crowded  ",
          "better  ",
          "piers  ",
          "embarkation  ",
          "trip  ",
          "boat  "
         ],
         "yaxis": "y31"
        },
        {
         "marker": {
          "color": "#E69F00"
         },
         "orientation": "h",
         "type": "bar",
         "x": [
          0.10168110344096508,
          0.10330217726305493,
          0.10753506651821272,
          0.11091981500522748,
          0.11091981500522748,
          0.11091981500522748,
          0.11091981500522748,
          0.13511912414959243,
          0.14562141150002078,
          0.4638179477447839
         ],
         "xaxis": "x32",
         "y": [
          "jardn  ",
          "ones  ",
          "suitable  ",
          "tardes  ",
          "agrad  ",
          "adultos  ",
          "kiddies  ",
          "impressed  ",
          "kids  ",
          "children  "
         ],
         "yaxis": "y32"
        },
        {
         "marker": {
          "color": "#56B4E9"
         },
         "orientation": "h",
         "type": "bar",
         "x": [
          0.09246296339805353,
          0.09941515717707301,
          0.11297900382329452,
          0.16816689446685495,
          0.18356706720139945,
          0.20121300480339147,
          0.2720749288102022,
          0.31010674418323486,
          0.39822158742545094,
          0.44664735748722634
         ],
         "xaxis": "x33",
         "y": [
          "content  ",
          "2016  ",
          "03102018  ",
          "location  ",
          "light  ",
          "installation  ",
          "low  ",
          "key  ",
          "festival  ",
          "lights  "
         ],
         "yaxis": "y33"
        },
        {
         "marker": {
          "color": "#009E73"
         },
         "orientation": "h",
         "type": "bar",
         "x": [
          0.1155414739637786,
          0.1155414739637786,
          0.1155414739637786,
          0.12382681437869408,
          0.12819779213447943,
          0.13028838051608618,
          0.15249074104760243,
          0.2118356321686772,
          0.43168373408360416,
          0.5348471025312127
         ],
         "xaxis": "x34",
         "y": [
          "spraying  ",
          "cemeteryyou  ",
          "deepest  ",
          "nice  ",
          "smells  ",
          "tip  ",
          "insider  ",
          "houseboats  ",
          "piece  ",
          "water  "
         ],
         "yaxis": "y34"
        },
        {
         "marker": {
          "color": "#F0E442"
         },
         "orientation": "h",
         "type": "bar",
         "x": [
          0.05586873815437641,
          0.05586873815437641,
          0.05586873815437641,
          0.05586873815437641,
          0.057093197456897574,
          0.09352730760081741,
          0.09755609499389543,
          0.15920149830598007,
          0.19703028261060954,
          0.284390033671946
         ],
         "xaxis": "x35",
         "y": [
          "19611989  ",
          "gumthis  ",
          "wellunfortunately  ",
          "residue  ",
          "parts  ",
          "remains  ",
          "covered  ",
          "chewing  ",
          "gum  ",
          "wall  "
         ],
         "yaxis": "y35"
        },
        {
         "marker": {
          "color": "#D55E00"
         },
         "orientation": "h",
         "type": "bar",
         "x": [
          0.12766774551905416,
          0.1691728514988007,
          0.17073796501861865,
          0.18203852278422042,
          0.18261348335097713,
          0.18871744242046923,
          0.21427018369415948,
          0.21544773689960742,
          0.2194435337260781,
          0.3314165190490863
         ],
         "xaxis": "x36",
         "y": [
          "possible  ",
          "deduction  ",
          "unfortunately  ",
          "isosceles  ",
          "horrible  ",
          "zero  ",
          "dealer  ",
          "stars  ",
          "user  ",
          "star  "
         ],
         "yaxis": "y36"
        },
        {
         "marker": {
          "color": "#0072B2"
         },
         "orientation": "h",
         "type": "bar",
         "x": [
          0.11254602318977205,
          0.11562600780654497,
          0.12159912827806252,
          0.127020389378535,
          0.13002604227851278,
          0.14444631303605654,
          0.2429504086259941,
          0.2429504086259941,
          0.2828500351191626,
          0.30381304413480426
         ],
         "xaxis": "x37",
         "y": [
          "basketball  ",
          "pingpong  ",
          "casual  ",
          "play  ",
          "session  ",
          "colleague  ",
          "pong  ",
          "ping  ",
          "table  ",
          "tennis  "
         ],
         "yaxis": "y37"
        },
        {
         "marker": {
          "color": "#CC79A7"
         },
         "orientation": "h",
         "type": "bar",
         "x": [
          0.16497902167548106,
          0.17544824725028,
          0.17544824725028,
          0.21666946955408484,
          0.2256519188679399,
          0.2256519188679399,
          0.26192853255021514,
          0.2840766968763161,
          0.28997322579408896,
          0.8602221409949449
         ],
         "xaxis": "x38",
         "y": [
          "honest  ",
          "cause  ",
          "mention  ",
          "spiritual  ",
          "expects  ",
          "ppl  ",
          "said  ",
          "created  ",
          "hotel  ",
          "special  "
         ],
         "yaxis": "y38"
        },
        {
         "marker": {
          "color": "#E69F00"
         },
         "orientation": "h",
         "type": "bar",
         "x": [
          0.05098822009222282,
          0.05282792673312771,
          0.06669393966801307,
          0.0945545458129737,
          0.10396933170386961,
          0.12089713200649672,
          0.38537765532377904,
          0.43848007170870756,
          0.5080621547004105,
          0.5767379999603351
         ],
         "xaxis": "x39",
         "y": [
          "wonderful  ",
          "center  ",
          "urban  ",
          "unexpected  ",
          "practical  ",
          "eyecatcher  ",
          "city  ",
          "middle  ",
          "open  ",
          "space  "
         ],
         "yaxis": "y39"
        },
        {
         "marker": {
          "color": "#56B4E9"
         },
         "orientation": "h",
         "type": "bar",
         "x": [
          0.23111579359473922,
          0.23393099633370665,
          0.24319825655612504,
          0.2507747172706764,
          0.27201854701461764,
          0.2888926260721131,
          0.3008692251572532,
          0.3008692251572532,
          0.3008692251572532,
          0.36898295090508976
         ],
         "xaxis": "x40",
         "y": [
          "track  ",
          "correct  ",
          "waited  ",
          "triangular  ",
          "krumme  ",
          "lanke  ",
          "magnetic  ",
          "clues  ",
          "arrivewe  ",
          "train  "
         ],
         "yaxis": "y40"
        },
        {
         "marker": {
          "color": "#009E73"
         },
         "orientation": "h",
         "type": "bar",
         "x": [
          0.09362949264095584,
          0.10855095210839553,
          0.11693318946238347,
          0.15844755523819867,
          0.1657844077841822,
          0.1808475244650448,
          0.20802084842747812,
          0.35079956838715043,
          0.4782095661233671,
          1.1329155542274216
         ],
         "xaxis": "x41",
         "y": [
          "15  ",
          "u7  ",
          "disgrace  ",
          "perfect  ",
          "minutesa  ",
          "lotterywaiting  ",
          "good  ",
          "directions  ",
          "subway  ",
          "connection  "
         ],
         "yaxis": "y41"
        },
        {
         "marker": {
          "color": "#F0E442"
         },
         "orientation": "h",
         "type": "bar",
         "x": [
          0.12925563996732847,
          0.14099976483715357,
          0.14099976483715357,
          0.14099976483715357,
          0.14099976483715357,
          0.14099976483715357,
          0.14099976483715357,
          0.22130322468985844,
          0.22271703591174397,
          0.7352952939580575
         ],
         "xaxis": "x42",
         "y": [
          "thankfully  ",
          "stable  ",
          "spreebo  ",
          "obstacles  ",
          "cke  ",
          "lows  ",
          "yep  ",
          "overcome  ",
          "bridges  ",
          "bridge  "
         ],
         "yaxis": "y42"
        },
        {
         "marker": {
          "color": "#D55E00"
         },
         "orientation": "h",
         "type": "bar",
         "x": [
          0.04094992268673177,
          0.04171020270674201,
          0.042182743505720974,
          0.04307896499998504,
          0.05811129222011661,
          0.06016821589960416,
          0.06084859614879243,
          0.08189984537346354,
          0.09148493485806292,
          0.1460323873386975
         ],
         "xaxis": "x43",
         "y": [
          "disappointment  ",
          "bad  ",
          "complete  ",
          "worst  ",
          "sound  ",
          "music  ",
          "bars  ",
          "vip  ",
          "party  ",
          "fireworks  "
         ],
         "yaxis": "y43"
        },
        {
         "marker": {
          "color": "#0072B2"
         },
         "orientation": "h",
         "type": "bar",
         "x": [
          0.15563434200147713,
          0.15563434200147713,
          0.15563434200147713,
          0.15563434200147713,
          0.15563434200147713,
          0.15563434200147713,
          0.1697154962849574,
          0.31809067154557213,
          0.48355316849791896,
          0.5094897983158051
         ],
         "xaxis": "x44",
         "y": [
          "segments  ",
          "soontobe  ",
          "kom  ",
          "stuk  ",
          "drugged  ",
          "uit  ",
          "summer  ",
          "doing  ",
          "drunken  ",
          "touristswhy  "
         ],
         "yaxis": "y44"
        },
        {
         "marker": {
          "color": "#CC79A7"
         },
         "orientation": "h",
         "type": "bar",
         "x": [
          0.00001,
          0.00001,
          0.00001,
          0.3122901525458003,
          0.3953304564776796,
          0.4254954561583817,
          0.4324035097314792,
          0.6355068965060316,
          0.8798881156025656,
          1.6586996314278832
         ],
         "xaxis": "x45",
         "y": [
          "  ",
          "  ",
          "  ",
          "natural  ",
          "private  ",
          "classic  ",
          "usual  ",
          "ahhh  ",
          "standard  ",
          "normal  "
         ],
         "yaxis": "y45"
        },
        {
         "marker": {
          "color": "#E69F00"
         },
         "orientation": "h",
         "type": "bar",
         "x": [
          0.00001,
          0.00001,
          0.00001,
          0.00001,
          0.00001,
          0.00001,
          0.00001,
          0.8192094105347746,
          0.8850192236538998,
          1.8714479706696532
         ],
         "xaxis": "x46",
         "y": [
          "  ",
          "  ",
          "  ",
          "  ",
          "  ",
          "  ",
          "  ",
          "cool  ",
          "relaxing  ",
          "mega  "
         ],
         "yaxis": "y46"
        },
        {
         "marker": {
          "color": "#56B4E9"
         },
         "orientation": "h",
         "type": "bar",
         "x": [
          0.10338692695047645,
          0.11373940329791198,
          0.12064676699456085,
          0.13476595010906248,
          0.14588415639715943,
          0.19172923169864078,
          0.287742110499228,
          0.3619403009836826,
          0.5030836873823059,
          1.3117898353349031
         ],
         "xaxis": "x47",
         "y": [
          "important  ",
          "pictures  ",
          "transport  ",
          "class  ",
          "option  ",
          "account  ",
          "ive  ",
          "known  ",
          "station  ",
          "transfer  "
         ],
         "yaxis": "y47"
        },
        {
         "marker": {
          "color": "#009E73"
         },
         "orientation": "h",
         "type": "bar",
         "x": [
          0.18951436336055258,
          0.19502183542482557,
          0.197064957661517,
          0.2015405506875011,
          0.2095246518022,
          0.2126394061471618,
          0.2126394061471618,
          0.2160520641101212,
          0.26760830900027543,
          0.27731786977010814
         ],
         "xaxis": "x48",
         "y": [
          "bnd  ",
          "term  ",
          "partially  ",
          "combination  ",
          "dominated  ",
          "flows  ",
          "misleading  ",
          "channel  ",
          "panke  ",
          "path  "
         ],
         "yaxis": "y48"
        },
        {
         "marker": {
          "color": "#F0E442"
         },
         "orientation": "h",
         "type": "bar",
         "x": [
          0.08174532794046246,
          0.08428105675105522,
          0.09140330890853261,
          0.09653269314015671,
          0.09653269314015671,
          0.09653269314015671,
          0.11082452197494305,
          0.1937883035299744,
          0.19750791232179157,
          0.20137082310219875
         ],
         "xaxis": "x49",
         "y": [
          "staff  ",
          "help  ",
          "prof  ",
          "glaucoma  ",
          "checkup  ",
          "tetz  ",
          "dr  ",
          "doctor  ",
          "clinic  ",
          "eye  "
         ],
         "yaxis": "y49"
        }
       ],
       "layout": {
        "annotations": [
         {
          "font": {
           "size": 16
          },
          "showarrow": false,
          "text": "Topic 0",
          "x": 0.0875,
          "xanchor": "center",
          "xref": "paper",
          "y": 0.9999999999999999,
          "yanchor": "bottom",
          "yref": "paper"
         },
         {
          "font": {
           "size": 16
          },
          "showarrow": false,
          "text": "Topic 1",
          "x": 0.36250000000000004,
          "xanchor": "center",
          "xref": "paper",
          "y": 0.9999999999999999,
          "yanchor": "bottom",
          "yref": "paper"
         },
         {
          "font": {
           "size": 16
          },
          "showarrow": false,
          "text": "Topic 2",
          "x": 0.6375000000000001,
          "xanchor": "center",
          "xref": "paper",
          "y": 0.9999999999999999,
          "yanchor": "bottom",
          "yref": "paper"
         },
         {
          "font": {
           "size": 16
          },
          "showarrow": false,
          "text": "Topic 3",
          "x": 0.9125,
          "xanchor": "center",
          "xref": "paper",
          "y": 0.9999999999999999,
          "yanchor": "bottom",
          "yref": "paper"
         },
         {
          "font": {
           "size": 16
          },
          "showarrow": false,
          "text": "Topic 4",
          "x": 0.0875,
          "xanchor": "center",
          "xref": "paper",
          "y": 0.9207100591715975,
          "yanchor": "bottom",
          "yref": "paper"
         },
         {
          "font": {
           "size": 16
          },
          "showarrow": false,
          "text": "Topic 5",
          "x": 0.36250000000000004,
          "xanchor": "center",
          "xref": "paper",
          "y": 0.9207100591715975,
          "yanchor": "bottom",
          "yref": "paper"
         },
         {
          "font": {
           "size": 16
          },
          "showarrow": false,
          "text": "Topic 6",
          "x": 0.6375000000000001,
          "xanchor": "center",
          "xref": "paper",
          "y": 0.9207100591715975,
          "yanchor": "bottom",
          "yref": "paper"
         },
         {
          "font": {
           "size": 16
          },
          "showarrow": false,
          "text": "Topic 7",
          "x": 0.9125,
          "xanchor": "center",
          "xref": "paper",
          "y": 0.9207100591715975,
          "yanchor": "bottom",
          "yref": "paper"
         },
         {
          "font": {
           "size": 16
          },
          "showarrow": false,
          "text": "Topic 8",
          "x": 0.0875,
          "xanchor": "center",
          "xref": "paper",
          "y": 0.8414201183431951,
          "yanchor": "bottom",
          "yref": "paper"
         },
         {
          "font": {
           "size": 16
          },
          "showarrow": false,
          "text": "Topic 9",
          "x": 0.36250000000000004,
          "xanchor": "center",
          "xref": "paper",
          "y": 0.8414201183431951,
          "yanchor": "bottom",
          "yref": "paper"
         },
         {
          "font": {
           "size": 16
          },
          "showarrow": false,
          "text": "Topic 10",
          "x": 0.6375000000000001,
          "xanchor": "center",
          "xref": "paper",
          "y": 0.8414201183431951,
          "yanchor": "bottom",
          "yref": "paper"
         },
         {
          "font": {
           "size": 16
          },
          "showarrow": false,
          "text": "Topic 11",
          "x": 0.9125,
          "xanchor": "center",
          "xref": "paper",
          "y": 0.8414201183431951,
          "yanchor": "bottom",
          "yref": "paper"
         },
         {
          "font": {
           "size": 16
          },
          "showarrow": false,
          "text": "Topic 12",
          "x": 0.0875,
          "xanchor": "center",
          "xref": "paper",
          "y": 0.7621301775147928,
          "yanchor": "bottom",
          "yref": "paper"
         },
         {
          "font": {
           "size": 16
          },
          "showarrow": false,
          "text": "Topic 13",
          "x": 0.36250000000000004,
          "xanchor": "center",
          "xref": "paper",
          "y": 0.7621301775147928,
          "yanchor": "bottom",
          "yref": "paper"
         },
         {
          "font": {
           "size": 16
          },
          "showarrow": false,
          "text": "Topic 14",
          "x": 0.6375000000000001,
          "xanchor": "center",
          "xref": "paper",
          "y": 0.7621301775147928,
          "yanchor": "bottom",
          "yref": "paper"
         },
         {
          "font": {
           "size": 16
          },
          "showarrow": false,
          "text": "Topic 15",
          "x": 0.9125,
          "xanchor": "center",
          "xref": "paper",
          "y": 0.7621301775147928,
          "yanchor": "bottom",
          "yref": "paper"
         },
         {
          "font": {
           "size": 16
          },
          "showarrow": false,
          "text": "Topic 16",
          "x": 0.0875,
          "xanchor": "center",
          "xref": "paper",
          "y": 0.6828402366863904,
          "yanchor": "bottom",
          "yref": "paper"
         },
         {
          "font": {
           "size": 16
          },
          "showarrow": false,
          "text": "Topic 17",
          "x": 0.36250000000000004,
          "xanchor": "center",
          "xref": "paper",
          "y": 0.6828402366863904,
          "yanchor": "bottom",
          "yref": "paper"
         },
         {
          "font": {
           "size": 16
          },
          "showarrow": false,
          "text": "Topic 18",
          "x": 0.6375000000000001,
          "xanchor": "center",
          "xref": "paper",
          "y": 0.6828402366863904,
          "yanchor": "bottom",
          "yref": "paper"
         },
         {
          "font": {
           "size": 16
          },
          "showarrow": false,
          "text": "Topic 19",
          "x": 0.9125,
          "xanchor": "center",
          "xref": "paper",
          "y": 0.6828402366863904,
          "yanchor": "bottom",
          "yref": "paper"
         },
         {
          "font": {
           "size": 16
          },
          "showarrow": false,
          "text": "Topic 20",
          "x": 0.0875,
          "xanchor": "center",
          "xref": "paper",
          "y": 0.6035502958579881,
          "yanchor": "bottom",
          "yref": "paper"
         },
         {
          "font": {
           "size": 16
          },
          "showarrow": false,
          "text": "Topic 21",
          "x": 0.36250000000000004,
          "xanchor": "center",
          "xref": "paper",
          "y": 0.6035502958579881,
          "yanchor": "bottom",
          "yref": "paper"
         },
         {
          "font": {
           "size": 16
          },
          "showarrow": false,
          "text": "Topic 22",
          "x": 0.6375000000000001,
          "xanchor": "center",
          "xref": "paper",
          "y": 0.6035502958579881,
          "yanchor": "bottom",
          "yref": "paper"
         },
         {
          "font": {
           "size": 16
          },
          "showarrow": false,
          "text": "Topic 23",
          "x": 0.9125,
          "xanchor": "center",
          "xref": "paper",
          "y": 0.6035502958579881,
          "yanchor": "bottom",
          "yref": "paper"
         },
         {
          "font": {
           "size": 16
          },
          "showarrow": false,
          "text": "Topic 24",
          "x": 0.0875,
          "xanchor": "center",
          "xref": "paper",
          "y": 0.5242603550295858,
          "yanchor": "bottom",
          "yref": "paper"
         },
         {
          "font": {
           "size": 16
          },
          "showarrow": false,
          "text": "Topic 25",
          "x": 0.36250000000000004,
          "xanchor": "center",
          "xref": "paper",
          "y": 0.5242603550295858,
          "yanchor": "bottom",
          "yref": "paper"
         },
         {
          "font": {
           "size": 16
          },
          "showarrow": false,
          "text": "Topic 26",
          "x": 0.6375000000000001,
          "xanchor": "center",
          "xref": "paper",
          "y": 0.5242603550295858,
          "yanchor": "bottom",
          "yref": "paper"
         },
         {
          "font": {
           "size": 16
          },
          "showarrow": false,
          "text": "Topic 27",
          "x": 0.9125,
          "xanchor": "center",
          "xref": "paper",
          "y": 0.5242603550295858,
          "yanchor": "bottom",
          "yref": "paper"
         },
         {
          "font": {
           "size": 16
          },
          "showarrow": false,
          "text": "Topic 28",
          "x": 0.0875,
          "xanchor": "center",
          "xref": "paper",
          "y": 0.4449704142011834,
          "yanchor": "bottom",
          "yref": "paper"
         },
         {
          "font": {
           "size": 16
          },
          "showarrow": false,
          "text": "Topic 29",
          "x": 0.36250000000000004,
          "xanchor": "center",
          "xref": "paper",
          "y": 0.4449704142011834,
          "yanchor": "bottom",
          "yref": "paper"
         },
         {
          "font": {
           "size": 16
          },
          "showarrow": false,
          "text": "Topic 30",
          "x": 0.6375000000000001,
          "xanchor": "center",
          "xref": "paper",
          "y": 0.4449704142011834,
          "yanchor": "bottom",
          "yref": "paper"
         },
         {
          "font": {
           "size": 16
          },
          "showarrow": false,
          "text": "Topic 31",
          "x": 0.9125,
          "xanchor": "center",
          "xref": "paper",
          "y": 0.4449704142011834,
          "yanchor": "bottom",
          "yref": "paper"
         },
         {
          "font": {
           "size": 16
          },
          "showarrow": false,
          "text": "Topic 32",
          "x": 0.0875,
          "xanchor": "center",
          "xref": "paper",
          "y": 0.36568047337278103,
          "yanchor": "bottom",
          "yref": "paper"
         },
         {
          "font": {
           "size": 16
          },
          "showarrow": false,
          "text": "Topic 33",
          "x": 0.36250000000000004,
          "xanchor": "center",
          "xref": "paper",
          "y": 0.36568047337278103,
          "yanchor": "bottom",
          "yref": "paper"
         },
         {
          "font": {
           "size": 16
          },
          "showarrow": false,
          "text": "Topic 34",
          "x": 0.6375000000000001,
          "xanchor": "center",
          "xref": "paper",
          "y": 0.36568047337278103,
          "yanchor": "bottom",
          "yref": "paper"
         },
         {
          "font": {
           "size": 16
          },
          "showarrow": false,
          "text": "Topic 35",
          "x": 0.9125,
          "xanchor": "center",
          "xref": "paper",
          "y": 0.36568047337278103,
          "yanchor": "bottom",
          "yref": "paper"
         },
         {
          "font": {
           "size": 16
          },
          "showarrow": false,
          "text": "Topic 36",
          "x": 0.0875,
          "xanchor": "center",
          "xref": "paper",
          "y": 0.2863905325443787,
          "yanchor": "bottom",
          "yref": "paper"
         },
         {
          "font": {
           "size": 16
          },
          "showarrow": false,
          "text": "Topic 37",
          "x": 0.36250000000000004,
          "xanchor": "center",
          "xref": "paper",
          "y": 0.2863905325443787,
          "yanchor": "bottom",
          "yref": "paper"
         },
         {
          "font": {
           "size": 16
          },
          "showarrow": false,
          "text": "Topic 38",
          "x": 0.6375000000000001,
          "xanchor": "center",
          "xref": "paper",
          "y": 0.2863905325443787,
          "yanchor": "bottom",
          "yref": "paper"
         },
         {
          "font": {
           "size": 16
          },
          "showarrow": false,
          "text": "Topic 39",
          "x": 0.9125,
          "xanchor": "center",
          "xref": "paper",
          "y": 0.2863905325443787,
          "yanchor": "bottom",
          "yref": "paper"
         },
         {
          "font": {
           "size": 16
          },
          "showarrow": false,
          "text": "Topic 40",
          "x": 0.0875,
          "xanchor": "center",
          "xref": "paper",
          "y": 0.20710059171597633,
          "yanchor": "bottom",
          "yref": "paper"
         },
         {
          "font": {
           "size": 16
          },
          "showarrow": false,
          "text": "Topic 41",
          "x": 0.36250000000000004,
          "xanchor": "center",
          "xref": "paper",
          "y": 0.20710059171597633,
          "yanchor": "bottom",
          "yref": "paper"
         },
         {
          "font": {
           "size": 16
          },
          "showarrow": false,
          "text": "Topic 42",
          "x": 0.6375000000000001,
          "xanchor": "center",
          "xref": "paper",
          "y": 0.20710059171597633,
          "yanchor": "bottom",
          "yref": "paper"
         },
         {
          "font": {
           "size": 16
          },
          "showarrow": false,
          "text": "Topic 43",
          "x": 0.9125,
          "xanchor": "center",
          "xref": "paper",
          "y": 0.20710059171597633,
          "yanchor": "bottom",
          "yref": "paper"
         },
         {
          "font": {
           "size": 16
          },
          "showarrow": false,
          "text": "Topic 44",
          "x": 0.0875,
          "xanchor": "center",
          "xref": "paper",
          "y": 0.12781065088757396,
          "yanchor": "bottom",
          "yref": "paper"
         },
         {
          "font": {
           "size": 16
          },
          "showarrow": false,
          "text": "Topic 45",
          "x": 0.36250000000000004,
          "xanchor": "center",
          "xref": "paper",
          "y": 0.12781065088757396,
          "yanchor": "bottom",
          "yref": "paper"
         },
         {
          "font": {
           "size": 16
          },
          "showarrow": false,
          "text": "Topic 46",
          "x": 0.6375000000000001,
          "xanchor": "center",
          "xref": "paper",
          "y": 0.12781065088757396,
          "yanchor": "bottom",
          "yref": "paper"
         },
         {
          "font": {
           "size": 16
          },
          "showarrow": false,
          "text": "Topic 47",
          "x": 0.9125,
          "xanchor": "center",
          "xref": "paper",
          "y": 0.12781065088757396,
          "yanchor": "bottom",
          "yref": "paper"
         },
         {
          "font": {
           "size": 16
          },
          "showarrow": false,
          "text": "Topic 48",
          "x": 0.0875,
          "xanchor": "center",
          "xref": "paper",
          "y": 0.04852071005917159,
          "yanchor": "bottom",
          "yref": "paper"
         }
        ],
        "height": 3250,
        "hoverlabel": {
         "bgcolor": "white",
         "font": {
          "family": "Rockwell",
          "size": 16
         }
        },
        "showlegend": false,
        "template": {
         "data": {
          "bar": [
           {
            "error_x": {
             "color": "#2a3f5f"
            },
            "error_y": {
             "color": "#2a3f5f"
            },
            "marker": {
             "line": {
              "color": "white",
              "width": 0.5
             },
             "pattern": {
              "fillmode": "overlay",
              "size": 10,
              "solidity": 0.2
             }
            },
            "type": "bar"
           }
          ],
          "barpolar": [
           {
            "marker": {
             "line": {
              "color": "white",
              "width": 0.5
             },
             "pattern": {
              "fillmode": "overlay",
              "size": 10,
              "solidity": 0.2
             }
            },
            "type": "barpolar"
           }
          ],
          "carpet": [
           {
            "aaxis": {
             "endlinecolor": "#2a3f5f",
             "gridcolor": "#C8D4E3",
             "linecolor": "#C8D4E3",
             "minorgridcolor": "#C8D4E3",
             "startlinecolor": "#2a3f5f"
            },
            "baxis": {
             "endlinecolor": "#2a3f5f",
             "gridcolor": "#C8D4E3",
             "linecolor": "#C8D4E3",
             "minorgridcolor": "#C8D4E3",
             "startlinecolor": "#2a3f5f"
            },
            "type": "carpet"
           }
          ],
          "choropleth": [
           {
            "colorbar": {
             "outlinewidth": 0,
             "ticks": ""
            },
            "type": "choropleth"
           }
          ],
          "contour": [
           {
            "colorbar": {
             "outlinewidth": 0,
             "ticks": ""
            },
            "colorscale": [
             [
              0,
              "#0d0887"
             ],
             [
              0.1111111111111111,
              "#46039f"
             ],
             [
              0.2222222222222222,
              "#7201a8"
             ],
             [
              0.3333333333333333,
              "#9c179e"
             ],
             [
              0.4444444444444444,
              "#bd3786"
             ],
             [
              0.5555555555555556,
              "#d8576b"
             ],
             [
              0.6666666666666666,
              "#ed7953"
             ],
             [
              0.7777777777777778,
              "#fb9f3a"
             ],
             [
              0.8888888888888888,
              "#fdca26"
             ],
             [
              1,
              "#f0f921"
             ]
            ],
            "type": "contour"
           }
          ],
          "contourcarpet": [
           {
            "colorbar": {
             "outlinewidth": 0,
             "ticks": ""
            },
            "type": "contourcarpet"
           }
          ],
          "heatmap": [
           {
            "colorbar": {
             "outlinewidth": 0,
             "ticks": ""
            },
            "colorscale": [
             [
              0,
              "#0d0887"
             ],
             [
              0.1111111111111111,
              "#46039f"
             ],
             [
              0.2222222222222222,
              "#7201a8"
             ],
             [
              0.3333333333333333,
              "#9c179e"
             ],
             [
              0.4444444444444444,
              "#bd3786"
             ],
             [
              0.5555555555555556,
              "#d8576b"
             ],
             [
              0.6666666666666666,
              "#ed7953"
             ],
             [
              0.7777777777777778,
              "#fb9f3a"
             ],
             [
              0.8888888888888888,
              "#fdca26"
             ],
             [
              1,
              "#f0f921"
             ]
            ],
            "type": "heatmap"
           }
          ],
          "heatmapgl": [
           {
            "colorbar": {
             "outlinewidth": 0,
             "ticks": ""
            },
            "colorscale": [
             [
              0,
              "#0d0887"
             ],
             [
              0.1111111111111111,
              "#46039f"
             ],
             [
              0.2222222222222222,
              "#7201a8"
             ],
             [
              0.3333333333333333,
              "#9c179e"
             ],
             [
              0.4444444444444444,
              "#bd3786"
             ],
             [
              0.5555555555555556,
              "#d8576b"
             ],
             [
              0.6666666666666666,
              "#ed7953"
             ],
             [
              0.7777777777777778,
              "#fb9f3a"
             ],
             [
              0.8888888888888888,
              "#fdca26"
             ],
             [
              1,
              "#f0f921"
             ]
            ],
            "type": "heatmapgl"
           }
          ],
          "histogram": [
           {
            "marker": {
             "pattern": {
              "fillmode": "overlay",
              "size": 10,
              "solidity": 0.2
             }
            },
            "type": "histogram"
           }
          ],
          "histogram2d": [
           {
            "colorbar": {
             "outlinewidth": 0,
             "ticks": ""
            },
            "colorscale": [
             [
              0,
              "#0d0887"
             ],
             [
              0.1111111111111111,
              "#46039f"
             ],
             [
              0.2222222222222222,
              "#7201a8"
             ],
             [
              0.3333333333333333,
              "#9c179e"
             ],
             [
              0.4444444444444444,
              "#bd3786"
             ],
             [
              0.5555555555555556,
              "#d8576b"
             ],
             [
              0.6666666666666666,
              "#ed7953"
             ],
             [
              0.7777777777777778,
              "#fb9f3a"
             ],
             [
              0.8888888888888888,
              "#fdca26"
             ],
             [
              1,
              "#f0f921"
             ]
            ],
            "type": "histogram2d"
           }
          ],
          "histogram2dcontour": [
           {
            "colorbar": {
             "outlinewidth": 0,
             "ticks": ""
            },
            "colorscale": [
             [
              0,
              "#0d0887"
             ],
             [
              0.1111111111111111,
              "#46039f"
             ],
             [
              0.2222222222222222,
              "#7201a8"
             ],
             [
              0.3333333333333333,
              "#9c179e"
             ],
             [
              0.4444444444444444,
              "#bd3786"
             ],
             [
              0.5555555555555556,
              "#d8576b"
             ],
             [
              0.6666666666666666,
              "#ed7953"
             ],
             [
              0.7777777777777778,
              "#fb9f3a"
             ],
             [
              0.8888888888888888,
              "#fdca26"
             ],
             [
              1,
              "#f0f921"
             ]
            ],
            "type": "histogram2dcontour"
           }
          ],
          "mesh3d": [
           {
            "colorbar": {
             "outlinewidth": 0,
             "ticks": ""
            },
            "type": "mesh3d"
           }
          ],
          "parcoords": [
           {
            "line": {
             "colorbar": {
              "outlinewidth": 0,
              "ticks": ""
             }
            },
            "type": "parcoords"
           }
          ],
          "pie": [
           {
            "automargin": true,
            "type": "pie"
           }
          ],
          "scatter": [
           {
            "fillpattern": {
             "fillmode": "overlay",
             "size": 10,
             "solidity": 0.2
            },
            "type": "scatter"
           }
          ],
          "scatter3d": [
           {
            "line": {
             "colorbar": {
              "outlinewidth": 0,
              "ticks": ""
             }
            },
            "marker": {
             "colorbar": {
              "outlinewidth": 0,
              "ticks": ""
             }
            },
            "type": "scatter3d"
           }
          ],
          "scattercarpet": [
           {
            "marker": {
             "colorbar": {
              "outlinewidth": 0,
              "ticks": ""
             }
            },
            "type": "scattercarpet"
           }
          ],
          "scattergeo": [
           {
            "marker": {
             "colorbar": {
              "outlinewidth": 0,
              "ticks": ""
             }
            },
            "type": "scattergeo"
           }
          ],
          "scattergl": [
           {
            "marker": {
             "colorbar": {
              "outlinewidth": 0,
              "ticks": ""
             }
            },
            "type": "scattergl"
           }
          ],
          "scattermapbox": [
           {
            "marker": {
             "colorbar": {
              "outlinewidth": 0,
              "ticks": ""
             }
            },
            "type": "scattermapbox"
           }
          ],
          "scatterpolar": [
           {
            "marker": {
             "colorbar": {
              "outlinewidth": 0,
              "ticks": ""
             }
            },
            "type": "scatterpolar"
           }
          ],
          "scatterpolargl": [
           {
            "marker": {
             "colorbar": {
              "outlinewidth": 0,
              "ticks": ""
             }
            },
            "type": "scatterpolargl"
           }
          ],
          "scatterternary": [
           {
            "marker": {
             "colorbar": {
              "outlinewidth": 0,
              "ticks": ""
             }
            },
            "type": "scatterternary"
           }
          ],
          "surface": [
           {
            "colorbar": {
             "outlinewidth": 0,
             "ticks": ""
            },
            "colorscale": [
             [
              0,
              "#0d0887"
             ],
             [
              0.1111111111111111,
              "#46039f"
             ],
             [
              0.2222222222222222,
              "#7201a8"
             ],
             [
              0.3333333333333333,
              "#9c179e"
             ],
             [
              0.4444444444444444,
              "#bd3786"
             ],
             [
              0.5555555555555556,
              "#d8576b"
             ],
             [
              0.6666666666666666,
              "#ed7953"
             ],
             [
              0.7777777777777778,
              "#fb9f3a"
             ],
             [
              0.8888888888888888,
              "#fdca26"
             ],
             [
              1,
              "#f0f921"
             ]
            ],
            "type": "surface"
           }
          ],
          "table": [
           {
            "cells": {
             "fill": {
              "color": "#EBF0F8"
             },
             "line": {
              "color": "white"
             }
            },
            "header": {
             "fill": {
              "color": "#C8D4E3"
             },
             "line": {
              "color": "white"
             }
            },
            "type": "table"
           }
          ]
         },
         "layout": {
          "annotationdefaults": {
           "arrowcolor": "#2a3f5f",
           "arrowhead": 0,
           "arrowwidth": 1
          },
          "autotypenumbers": "strict",
          "coloraxis": {
           "colorbar": {
            "outlinewidth": 0,
            "ticks": ""
           }
          },
          "colorscale": {
           "diverging": [
            [
             0,
             "#8e0152"
            ],
            [
             0.1,
             "#c51b7d"
            ],
            [
             0.2,
             "#de77ae"
            ],
            [
             0.3,
             "#f1b6da"
            ],
            [
             0.4,
             "#fde0ef"
            ],
            [
             0.5,
             "#f7f7f7"
            ],
            [
             0.6,
             "#e6f5d0"
            ],
            [
             0.7,
             "#b8e186"
            ],
            [
             0.8,
             "#7fbc41"
            ],
            [
             0.9,
             "#4d9221"
            ],
            [
             1,
             "#276419"
            ]
           ],
           "sequential": [
            [
             0,
             "#0d0887"
            ],
            [
             0.1111111111111111,
             "#46039f"
            ],
            [
             0.2222222222222222,
             "#7201a8"
            ],
            [
             0.3333333333333333,
             "#9c179e"
            ],
            [
             0.4444444444444444,
             "#bd3786"
            ],
            [
             0.5555555555555556,
             "#d8576b"
            ],
            [
             0.6666666666666666,
             "#ed7953"
            ],
            [
             0.7777777777777778,
             "#fb9f3a"
            ],
            [
             0.8888888888888888,
             "#fdca26"
            ],
            [
             1,
             "#f0f921"
            ]
           ],
           "sequentialminus": [
            [
             0,
             "#0d0887"
            ],
            [
             0.1111111111111111,
             "#46039f"
            ],
            [
             0.2222222222222222,
             "#7201a8"
            ],
            [
             0.3333333333333333,
             "#9c179e"
            ],
            [
             0.4444444444444444,
             "#bd3786"
            ],
            [
             0.5555555555555556,
             "#d8576b"
            ],
            [
             0.6666666666666666,
             "#ed7953"
            ],
            [
             0.7777777777777778,
             "#fb9f3a"
            ],
            [
             0.8888888888888888,
             "#fdca26"
            ],
            [
             1,
             "#f0f921"
            ]
           ]
          },
          "colorway": [
           "#636efa",
           "#EF553B",
           "#00cc96",
           "#ab63fa",
           "#FFA15A",
           "#19d3f3",
           "#FF6692",
           "#B6E880",
           "#FF97FF",
           "#FECB52"
          ],
          "font": {
           "color": "#2a3f5f"
          },
          "geo": {
           "bgcolor": "white",
           "lakecolor": "white",
           "landcolor": "white",
           "showlakes": true,
           "showland": true,
           "subunitcolor": "#C8D4E3"
          },
          "hoverlabel": {
           "align": "left"
          },
          "hovermode": "closest",
          "mapbox": {
           "style": "light"
          },
          "paper_bgcolor": "white",
          "plot_bgcolor": "white",
          "polar": {
           "angularaxis": {
            "gridcolor": "#EBF0F8",
            "linecolor": "#EBF0F8",
            "ticks": ""
           },
           "bgcolor": "white",
           "radialaxis": {
            "gridcolor": "#EBF0F8",
            "linecolor": "#EBF0F8",
            "ticks": ""
           }
          },
          "scene": {
           "xaxis": {
            "backgroundcolor": "white",
            "gridcolor": "#DFE8F3",
            "gridwidth": 2,
            "linecolor": "#EBF0F8",
            "showbackground": true,
            "ticks": "",
            "zerolinecolor": "#EBF0F8"
           },
           "yaxis": {
            "backgroundcolor": "white",
            "gridcolor": "#DFE8F3",
            "gridwidth": 2,
            "linecolor": "#EBF0F8",
            "showbackground": true,
            "ticks": "",
            "zerolinecolor": "#EBF0F8"
           },
           "zaxis": {
            "backgroundcolor": "white",
            "gridcolor": "#DFE8F3",
            "gridwidth": 2,
            "linecolor": "#EBF0F8",
            "showbackground": true,
            "ticks": "",
            "zerolinecolor": "#EBF0F8"
           }
          },
          "shapedefaults": {
           "line": {
            "color": "#2a3f5f"
           }
          },
          "ternary": {
           "aaxis": {
            "gridcolor": "#DFE8F3",
            "linecolor": "#A2B1C6",
            "ticks": ""
           },
           "baxis": {
            "gridcolor": "#DFE8F3",
            "linecolor": "#A2B1C6",
            "ticks": ""
           },
           "bgcolor": "white",
           "caxis": {
            "gridcolor": "#DFE8F3",
            "linecolor": "#A2B1C6",
            "ticks": ""
           }
          },
          "title": {
           "x": 0.05
          },
          "xaxis": {
           "automargin": true,
           "gridcolor": "#EBF0F8",
           "linecolor": "#EBF0F8",
           "ticks": "",
           "title": {
            "standoff": 15
           },
           "zerolinecolor": "#EBF0F8",
           "zerolinewidth": 2
          },
          "yaxis": {
           "automargin": true,
           "gridcolor": "#EBF0F8",
           "linecolor": "#EBF0F8",
           "ticks": "",
           "title": {
            "standoff": 15
           },
           "zerolinecolor": "#EBF0F8",
           "zerolinewidth": 2
          }
         }
        },
        "title": {
         "font": {
          "color": "Black",
          "size": 22
         },
         "text": "Topic Word Scores",
         "x": 0.5,
         "xanchor": "center",
         "yanchor": "top"
        },
        "width": 1000,
        "xaxis": {
         "anchor": "y",
         "domain": [
          0,
          0.175
         ],
         "showgrid": true
        },
        "xaxis10": {
         "anchor": "y10",
         "domain": [
          0.275,
          0.45
         ],
         "showgrid": true
        },
        "xaxis11": {
         "anchor": "y11",
         "domain": [
          0.55,
          0.7250000000000001
         ],
         "showgrid": true
        },
        "xaxis12": {
         "anchor": "y12",
         "domain": [
          0.825,
          1
         ],
         "showgrid": true
        },
        "xaxis13": {
         "anchor": "y13",
         "domain": [
          0,
          0.175
         ],
         "showgrid": true
        },
        "xaxis14": {
         "anchor": "y14",
         "domain": [
          0.275,
          0.45
         ],
         "showgrid": true
        },
        "xaxis15": {
         "anchor": "y15",
         "domain": [
          0.55,
          0.7250000000000001
         ],
         "showgrid": true
        },
        "xaxis16": {
         "anchor": "y16",
         "domain": [
          0.825,
          1
         ],
         "showgrid": true
        },
        "xaxis17": {
         "anchor": "y17",
         "domain": [
          0,
          0.175
         ],
         "showgrid": true
        },
        "xaxis18": {
         "anchor": "y18",
         "domain": [
          0.275,
          0.45
         ],
         "showgrid": true
        },
        "xaxis19": {
         "anchor": "y19",
         "domain": [
          0.55,
          0.7250000000000001
         ],
         "showgrid": true
        },
        "xaxis2": {
         "anchor": "y2",
         "domain": [
          0.275,
          0.45
         ],
         "showgrid": true
        },
        "xaxis20": {
         "anchor": "y20",
         "domain": [
          0.825,
          1
         ],
         "showgrid": true
        },
        "xaxis21": {
         "anchor": "y21",
         "domain": [
          0,
          0.175
         ],
         "showgrid": true
        },
        "xaxis22": {
         "anchor": "y22",
         "domain": [
          0.275,
          0.45
         ],
         "showgrid": true
        },
        "xaxis23": {
         "anchor": "y23",
         "domain": [
          0.55,
          0.7250000000000001
         ],
         "showgrid": true
        },
        "xaxis24": {
         "anchor": "y24",
         "domain": [
          0.825,
          1
         ],
         "showgrid": true
        },
        "xaxis25": {
         "anchor": "y25",
         "domain": [
          0,
          0.175
         ],
         "showgrid": true
        },
        "xaxis26": {
         "anchor": "y26",
         "domain": [
          0.275,
          0.45
         ],
         "showgrid": true
        },
        "xaxis27": {
         "anchor": "y27",
         "domain": [
          0.55,
          0.7250000000000001
         ],
         "showgrid": true
        },
        "xaxis28": {
         "anchor": "y28",
         "domain": [
          0.825,
          1
         ],
         "showgrid": true
        },
        "xaxis29": {
         "anchor": "y29",
         "domain": [
          0,
          0.175
         ],
         "showgrid": true
        },
        "xaxis3": {
         "anchor": "y3",
         "domain": [
          0.55,
          0.7250000000000001
         ],
         "showgrid": true
        },
        "xaxis30": {
         "anchor": "y30",
         "domain": [
          0.275,
          0.45
         ],
         "showgrid": true
        },
        "xaxis31": {
         "anchor": "y31",
         "domain": [
          0.55,
          0.7250000000000001
         ],
         "showgrid": true
        },
        "xaxis32": {
         "anchor": "y32",
         "domain": [
          0.825,
          1
         ],
         "showgrid": true
        },
        "xaxis33": {
         "anchor": "y33",
         "domain": [
          0,
          0.175
         ],
         "showgrid": true
        },
        "xaxis34": {
         "anchor": "y34",
         "domain": [
          0.275,
          0.45
         ],
         "showgrid": true
        },
        "xaxis35": {
         "anchor": "y35",
         "domain": [
          0.55,
          0.7250000000000001
         ],
         "showgrid": true
        },
        "xaxis36": {
         "anchor": "y36",
         "domain": [
          0.825,
          1
         ],
         "showgrid": true
        },
        "xaxis37": {
         "anchor": "y37",
         "domain": [
          0,
          0.175
         ],
         "showgrid": true
        },
        "xaxis38": {
         "anchor": "y38",
         "domain": [
          0.275,
          0.45
         ],
         "showgrid": true
        },
        "xaxis39": {
         "anchor": "y39",
         "domain": [
          0.55,
          0.7250000000000001
         ],
         "showgrid": true
        },
        "xaxis4": {
         "anchor": "y4",
         "domain": [
          0.825,
          1
         ],
         "showgrid": true
        },
        "xaxis40": {
         "anchor": "y40",
         "domain": [
          0.825,
          1
         ],
         "showgrid": true
        },
        "xaxis41": {
         "anchor": "y41",
         "domain": [
          0,
          0.175
         ],
         "showgrid": true
        },
        "xaxis42": {
         "anchor": "y42",
         "domain": [
          0.275,
          0.45
         ],
         "showgrid": true
        },
        "xaxis43": {
         "anchor": "y43",
         "domain": [
          0.55,
          0.7250000000000001
         ],
         "showgrid": true
        },
        "xaxis44": {
         "anchor": "y44",
         "domain": [
          0.825,
          1
         ],
         "showgrid": true
        },
        "xaxis45": {
         "anchor": "y45",
         "domain": [
          0,
          0.175
         ],
         "showgrid": true
        },
        "xaxis46": {
         "anchor": "y46",
         "domain": [
          0.275,
          0.45
         ],
         "showgrid": true
        },
        "xaxis47": {
         "anchor": "y47",
         "domain": [
          0.55,
          0.7250000000000001
         ],
         "showgrid": true
        },
        "xaxis48": {
         "anchor": "y48",
         "domain": [
          0.825,
          1
         ],
         "showgrid": true
        },
        "xaxis49": {
         "anchor": "y49",
         "domain": [
          0,
          0.175
         ],
         "showgrid": true
        },
        "xaxis5": {
         "anchor": "y5",
         "domain": [
          0,
          0.175
         ],
         "showgrid": true
        },
        "xaxis50": {
         "anchor": "y50",
         "domain": [
          0.275,
          0.45
         ],
         "showgrid": true
        },
        "xaxis51": {
         "anchor": "y51",
         "domain": [
          0.55,
          0.7250000000000001
         ],
         "showgrid": true
        },
        "xaxis52": {
         "anchor": "y52",
         "domain": [
          0.825,
          1
         ],
         "showgrid": true
        },
        "xaxis6": {
         "anchor": "y6",
         "domain": [
          0.275,
          0.45
         ],
         "showgrid": true
        },
        "xaxis7": {
         "anchor": "y7",
         "domain": [
          0.55,
          0.7250000000000001
         ],
         "showgrid": true
        },
        "xaxis8": {
         "anchor": "y8",
         "domain": [
          0.825,
          1
         ],
         "showgrid": true
        },
        "xaxis9": {
         "anchor": "y9",
         "domain": [
          0,
          0.175
         ],
         "showgrid": true
        },
        "yaxis": {
         "anchor": "x",
         "domain": [
          0.9514792899408283,
          0.9999999999999999
         ],
         "showgrid": true
        },
        "yaxis10": {
         "anchor": "x10",
         "domain": [
          0.7928994082840235,
          0.8414201183431951
         ],
         "showgrid": true
        },
        "yaxis11": {
         "anchor": "x11",
         "domain": [
          0.7928994082840235,
          0.8414201183431951
         ],
         "showgrid": true
        },
        "yaxis12": {
         "anchor": "x12",
         "domain": [
          0.7928994082840235,
          0.8414201183431951
         ],
         "showgrid": true
        },
        "yaxis13": {
         "anchor": "x13",
         "domain": [
          0.7136094674556213,
          0.7621301775147928
         ],
         "showgrid": true
        },
        "yaxis14": {
         "anchor": "x14",
         "domain": [
          0.7136094674556213,
          0.7621301775147928
         ],
         "showgrid": true
        },
        "yaxis15": {
         "anchor": "x15",
         "domain": [
          0.7136094674556213,
          0.7621301775147928
         ],
         "showgrid": true
        },
        "yaxis16": {
         "anchor": "x16",
         "domain": [
          0.7136094674556213,
          0.7621301775147928
         ],
         "showgrid": true
        },
        "yaxis17": {
         "anchor": "x17",
         "domain": [
          0.6343195266272188,
          0.6828402366863904
         ],
         "showgrid": true
        },
        "yaxis18": {
         "anchor": "x18",
         "domain": [
          0.6343195266272188,
          0.6828402366863904
         ],
         "showgrid": true
        },
        "yaxis19": {
         "anchor": "x19",
         "domain": [
          0.6343195266272188,
          0.6828402366863904
         ],
         "showgrid": true
        },
        "yaxis2": {
         "anchor": "x2",
         "domain": [
          0.9514792899408283,
          0.9999999999999999
         ],
         "showgrid": true
        },
        "yaxis20": {
         "anchor": "x20",
         "domain": [
          0.6343195266272188,
          0.6828402366863904
         ],
         "showgrid": true
        },
        "yaxis21": {
         "anchor": "x21",
         "domain": [
          0.5550295857988166,
          0.6035502958579881
         ],
         "showgrid": true
        },
        "yaxis22": {
         "anchor": "x22",
         "domain": [
          0.5550295857988166,
          0.6035502958579881
         ],
         "showgrid": true
        },
        "yaxis23": {
         "anchor": "x23",
         "domain": [
          0.5550295857988166,
          0.6035502958579881
         ],
         "showgrid": true
        },
        "yaxis24": {
         "anchor": "x24",
         "domain": [
          0.5550295857988166,
          0.6035502958579881
         ],
         "showgrid": true
        },
        "yaxis25": {
         "anchor": "x25",
         "domain": [
          0.47573964497041416,
          0.5242603550295858
         ],
         "showgrid": true
        },
        "yaxis26": {
         "anchor": "x26",
         "domain": [
          0.47573964497041416,
          0.5242603550295858
         ],
         "showgrid": true
        },
        "yaxis27": {
         "anchor": "x27",
         "domain": [
          0.47573964497041416,
          0.5242603550295858
         ],
         "showgrid": true
        },
        "yaxis28": {
         "anchor": "x28",
         "domain": [
          0.47573964497041416,
          0.5242603550295858
         ],
         "showgrid": true
        },
        "yaxis29": {
         "anchor": "x29",
         "domain": [
          0.3964497041420118,
          0.4449704142011834
         ],
         "showgrid": true
        },
        "yaxis3": {
         "anchor": "x3",
         "domain": [
          0.9514792899408283,
          0.9999999999999999
         ],
         "showgrid": true
        },
        "yaxis30": {
         "anchor": "x30",
         "domain": [
          0.3964497041420118,
          0.4449704142011834
         ],
         "showgrid": true
        },
        "yaxis31": {
         "anchor": "x31",
         "domain": [
          0.3964497041420118,
          0.4449704142011834
         ],
         "showgrid": true
        },
        "yaxis32": {
         "anchor": "x32",
         "domain": [
          0.3964497041420118,
          0.4449704142011834
         ],
         "showgrid": true
        },
        "yaxis33": {
         "anchor": "x33",
         "domain": [
          0.31715976331360946,
          0.36568047337278103
         ],
         "showgrid": true
        },
        "yaxis34": {
         "anchor": "x34",
         "domain": [
          0.31715976331360946,
          0.36568047337278103
         ],
         "showgrid": true
        },
        "yaxis35": {
         "anchor": "x35",
         "domain": [
          0.31715976331360946,
          0.36568047337278103
         ],
         "showgrid": true
        },
        "yaxis36": {
         "anchor": "x36",
         "domain": [
          0.31715976331360946,
          0.36568047337278103
         ],
         "showgrid": true
        },
        "yaxis37": {
         "anchor": "x37",
         "domain": [
          0.2378698224852071,
          0.2863905325443787
         ],
         "showgrid": true
        },
        "yaxis38": {
         "anchor": "x38",
         "domain": [
          0.2378698224852071,
          0.2863905325443787
         ],
         "showgrid": true
        },
        "yaxis39": {
         "anchor": "x39",
         "domain": [
          0.2378698224852071,
          0.2863905325443787
         ],
         "showgrid": true
        },
        "yaxis4": {
         "anchor": "x4",
         "domain": [
          0.9514792899408283,
          0.9999999999999999
         ],
         "showgrid": true
        },
        "yaxis40": {
         "anchor": "x40",
         "domain": [
          0.2378698224852071,
          0.2863905325443787
         ],
         "showgrid": true
        },
        "yaxis41": {
         "anchor": "x41",
         "domain": [
          0.15857988165680473,
          0.20710059171597633
         ],
         "showgrid": true
        },
        "yaxis42": {
         "anchor": "x42",
         "domain": [
          0.15857988165680473,
          0.20710059171597633
         ],
         "showgrid": true
        },
        "yaxis43": {
         "anchor": "x43",
         "domain": [
          0.15857988165680473,
          0.20710059171597633
         ],
         "showgrid": true
        },
        "yaxis44": {
         "anchor": "x44",
         "domain": [
          0.15857988165680473,
          0.20710059171597633
         ],
         "showgrid": true
        },
        "yaxis45": {
         "anchor": "x45",
         "domain": [
          0.07928994082840236,
          0.12781065088757396
         ],
         "showgrid": true
        },
        "yaxis46": {
         "anchor": "x46",
         "domain": [
          0.07928994082840236,
          0.12781065088757396
         ],
         "showgrid": true
        },
        "yaxis47": {
         "anchor": "x47",
         "domain": [
          0.07928994082840236,
          0.12781065088757396
         ],
         "showgrid": true
        },
        "yaxis48": {
         "anchor": "x48",
         "domain": [
          0.07928994082840236,
          0.12781065088757396
         ],
         "showgrid": true
        },
        "yaxis49": {
         "anchor": "x49",
         "domain": [
          0,
          0.04852071005917159
         ],
         "showgrid": true
        },
        "yaxis5": {
         "anchor": "x5",
         "domain": [
          0.872189349112426,
          0.9207100591715975
         ],
         "showgrid": true
        },
        "yaxis50": {
         "anchor": "x50",
         "domain": [
          0,
          0.04852071005917159
         ],
         "showgrid": true
        },
        "yaxis51": {
         "anchor": "x51",
         "domain": [
          0,
          0.04852071005917159
         ],
         "showgrid": true
        },
        "yaxis52": {
         "anchor": "x52",
         "domain": [
          0,
          0.04852071005917159
         ],
         "showgrid": true
        },
        "yaxis6": {
         "anchor": "x6",
         "domain": [
          0.872189349112426,
          0.9207100591715975
         ],
         "showgrid": true
        },
        "yaxis7": {
         "anchor": "x7",
         "domain": [
          0.872189349112426,
          0.9207100591715975
         ],
         "showgrid": true
        },
        "yaxis8": {
         "anchor": "x8",
         "domain": [
          0.872189349112426,
          0.9207100591715975
         ],
         "showgrid": true
        },
        "yaxis9": {
         "anchor": "x9",
         "domain": [
          0.7928994082840235,
          0.8414201183431951
         ],
         "showgrid": true
        }
       }
      },
      "text/html": [
       "<div>                            <div id=\"715ea236-4062-49d6-9704-93006c1d7a1a\" class=\"plotly-graph-div\" style=\"height:3250px; width:1000px;\"></div>            <script type=\"text/javascript\">                require([\"plotly\"], function(Plotly) {                    window.PLOTLYENV=window.PLOTLYENV || {};                                    if (document.getElementById(\"715ea236-4062-49d6-9704-93006c1d7a1a\")) {                    Plotly.newPlot(                        \"715ea236-4062-49d6-9704-93006c1d7a1a\",                        [{\"marker\":{\"color\":\"#D55E00\"},\"orientation\":\"h\",\"x\":[0.012095675185444374,0.012133873133011307,0.012475164101524286,0.014417047191040613,0.015175204972007595,0.016131443769441048,0.016675111453307908,0.01989222386289428,0.021686602147575618,0.027518102277628614],\"y\":[\"little  \",\"good  \",\"walk  \",\"small  \",\"great  \",\"playground  \",\"beautiful  \",\"place  \",\"nice  \",\"park  \"],\"type\":\"bar\",\"xaxis\":\"x\",\"yaxis\":\"y\"},{\"marker\":{\"color\":\"#0072B2\"},\"orientation\":\"h\",\"x\":[0.008913082992973746,0.00893491904129469,0.008950230166649234,0.009161264685032037,0.010118144922296485,0.01050189880184447,0.010713791248657581,0.01088167564503839,0.011806268128749235,0.0313564397970122],\"y\":[\"marx  \",\"brandenburg  \",\"best  \",\"cathedral  \",\"city  \",\"place  \",\"german  \",\"visit  \",\"park  \",\"berlin  \"],\"type\":\"bar\",\"xaxis\":\"x2\",\"yaxis\":\"y2\"},{\"marker\":{\"color\":\"#CC79A7\"},\"orientation\":\"h\",\"x\":[0.01695166453855117,0.017115071073119072,0.019840872075372155,0.023003946460111963,0.023320580498687113,0.025533997407832246,0.02829763722225209,0.029735374991524562,0.03451016921965398,0.04170556933790944],\"y\":[\"place  \",\"modern  \",\"worth  \",\"tour  \",\"visit  \",\"beautiful  \",\"view  \",\"architecture  \",\"building  \",\"church  \"],\"type\":\"bar\",\"xaxis\":\"x3\",\"yaxis\":\"y3\"},{\"marker\":{\"color\":\"#E69F00\"},\"orientation\":\"h\",\"x\":[0.037315449547985664,0.042372900544902135,0.04746164228629032,0.07038747576491024,0.08193281183933739,0.10571093861953716,0.10946332640766385,0.11101714392572574,0.12889222828211197,0.29688283406156646],\"y\":[\"bad  \",\"love  \",\"great  \",\"gut  \",\"okay  \",\"beautiful  \",\"cool  \",\"nice  \",\"good  \",\"ok  \"],\"type\":\"bar\",\"xaxis\":\"x4\",\"yaxis\":\"y4\"},{\"marker\":{\"color\":\"#56B4E9\"},\"orientation\":\"h\",\"x\":[0.021529663403335127,0.02169538570397078,0.021887915933807293,0.02303726044018655,0.023131506601296446,0.027474573680881544,0.03072526482855893,0.031049836700709647,0.04362871621780765,0.08603937675904998],\"y\":[\"prices  \",\"stalls  \",\"books  \",\"selection  \",\"store  \",\"sunday  \",\"clothes  \",\"saturday  \",\"flea  \",\"market  \"],\"type\":\"bar\",\"xaxis\":\"x5\",\"yaxis\":\"y5\"},{\"marker\":{\"color\":\"#009E73\"},\"orientation\":\"h\",\"x\":[0.018092944248188483,0.021024363816739677,0.02340737316023896,0.02616563146205771,0.02616699517589115,0.027533878975906544,0.041659077574704134,0.043324153483303554,0.04422919042408958,0.05897617178115366],\"y\":[\"jewish  \",\"victims  \",\"prison  \",\"soldiers  \",\"history  \",\"monument  \",\"soviet  \",\"cemetery  \",\"war  \",\"memorial  \"],\"type\":\"bar\",\"xaxis\":\"x6\",\"yaxis\":\"y6\"},{\"marker\":{\"color\":\"#F0E442\"},\"orientation\":\"h\",\"x\":[0.01944801057375019,0.020296813511609186,0.022819943639496597,0.024689146649025617,0.02838432645323964,0.02882519196567991,0.02888779036244888,0.03918600051850704,0.04882781122540597,0.09916468318693816],\"y\":[\"neb  \",\"ubahn  \",\"elevator  \",\"trains  \",\"u1  \",\"sbahn  \",\"u3  \",\"train  \",\"subway  \",\"station  \"],\"type\":\"bar\",\"xaxis\":\"x7\",\"yaxis\":\"y7\"},{\"marker\":{\"color\":\"#D55E00\"},\"orientation\":\"h\",\"x\":[0.018487966438375553,0.02029465097922908,0.020657155145956473,0.02110245243179076,0.02321430704540481,0.03001982566785806,0.03326518324500275,0.03637734457880667,0.03792877588135566,0.03900599258085395],\"y\":[\"unfriendly  \",\"whiskeys  \",\"friendly  \",\"menu  \",\"cocktails  \",\"bar  \",\"staff  \",\"food  \",\"whiskey  \",\"service  \"],\"type\":\"bar\",\"xaxis\":\"x8\",\"yaxis\":\"y8\"},{\"marker\":{\"color\":\"#0072B2\"},\"orientation\":\"h\",\"x\":[0.01815807628405501,0.01893792578784709,0.027503785569707607,0.02960269194310196,0.031298150341912905,0.047156836850395074,0.052862608739497455,0.06155592551801854,0.07042759886026141,0.09519075840297504],\"y\":[\"impressive  \",\"artistic  \",\"beauty  \",\"statues  \",\"beautiful  \",\"flowers  \",\"roses  \",\"tiergarten  \",\"rose  \",\"garden  \"],\"type\":\"bar\",\"xaxis\":\"x9\",\"yaxis\":\"y9\"},{\"marker\":{\"color\":\"#CC79A7\"},\"orientation\":\"h\",\"x\":[0.060241302520507606,0.060795267486188166,0.06264142474569562,0.06295535849755957,0.06333042751229849,0.06514171752811727,0.06759210524387405,0.07253739346317979,0.10478517994115907,0.1187250999563243],\"y\":[\"skates  \",\"shared  \",\"bearable  \",\"cyclists  \",\"footpath  \",\"beginners  \",\"autumnwinter  \",\"roller  \",\"walk  \",\"route  \"],\"type\":\"bar\",\"xaxis\":\"x10\",\"yaxis\":\"y10\"},{\"marker\":{\"color\":\"#E69F00\"},\"orientation\":\"h\",\"x\":[0.0323577827822837,0.03257645472256294,0.033093910275100565,0.034496407547428394,0.036636317176912625,0.03930114686314094,0.07157311435390795,0.09226383594681742,0.1261544669977115,0.13020318566905226],\"y\":[\"suspicious  \",\"grass  \",\"garbage  \",\"ts  \",\"reccomend  \",\"littered  \",\"unfortunately  \",\"clean  \",\"rubbish  \",\"dirty  \"],\"type\":\"bar\",\"xaxis\":\"x11\",\"yaxis\":\"y11\"},{\"marker\":{\"color\":\"#56B4E9\"},\"orientation\":\"h\",\"x\":[0.06875195144952116,0.06875195144952116,0.06875195144952116,0.08243657786432723,0.09073829219361469,0.09279907292576793,0.1012183535792924,0.15869885010332405,0.2158163678793661,1.3210421738453504],\"y\":[\"ding  \",\"bb  \",\"fdxb  \",\"simply  \",\"bvg  \",\"mega  \",\"mid  \",\"superb  \",\"jetty  \",\"super  \"],\"type\":\"bar\",\"xaxis\":\"x12\",\"yaxis\":\"y12\"},{\"marker\":{\"color\":\"#009E73\"},\"orientation\":\"h\",\"x\":[0.04935975895192479,0.055308970360674545,0.06731478665757976,0.0807928806390759,0.0924491886575552,0.09702218331520009,0.21086986878671388,0.21086986878671388,0.24423602608762135,0.5434172915736917],\"y\":[\"msto  \",\"worth  \",\"gu  \",\"ut  \",\"weather  \",\"trip  \",\"wound  \",\"erable  \",\"non  \",\"ne  \"],\"type\":\"bar\",\"xaxis\":\"x13\",\"yaxis\":\"y13\"},{\"marker\":{\"color\":\"#F0E442\"},\"orientation\":\"h\",\"x\":[0.20290210061931854,0.20290210061931854,0.20290210061931854,0.20290210061931854,0.20290210061931854,0.20290210061931854,0.20290210061931854,0.2386481747761765,0.37200403697914053,0.37200403697914053],\"y\":[\"building1  \",\"ids  \",\"n228  \",\"machineeduardo  \",\"federalreichstag  \",\"frank198219981991volume  \",\"chonen  \",\"google  \",\"jk  \",\"kp  \"],\"type\":\"bar\",\"xaxis\":\"x14\",\"yaxis\":\"y14\"},{\"marker\":{\"color\":\"#D55E00\"},\"orientation\":\"h\",\"x\":[0.04173271083051614,0.04322619099915664,0.049700623093961976,0.05062519261430249,0.05064811683116736,0.05097078637958172,0.05097078637958172,0.054192441116322584,0.1625501898219453,0.24366754372391605],\"y\":[\"nature  \",\"quietly  \",\"peace  \",\"silence  \",\"place  \",\"spruced  \",\"ieckiem  \",\"nice  \",\"peaceful  \",\"quiet  \"],\"type\":\"bar\",\"xaxis\":\"x15\",\"yaxis\":\"y15\"},{\"marker\":{\"color\":\"#0072B2\"},\"orientation\":\"h\",\"x\":[0.046156200626725145,0.04691421578831171,0.04790648285042863,0.04852823860114128,0.05154602387414324,0.05722262463052808,0.05727290003016301,0.05967326315921656,0.06549070190835182,0.06786994646026319],\"y\":[\"que  \",\"en  \",\"muy  \",\"del  \",\"la  \",\"lugar  \",\"che  \",\"il  \",\"di  \",\"una  \"],\"type\":\"bar\",\"xaxis\":\"x16\",\"yaxis\":\"y16\"},{\"marker\":{\"color\":\"#CC79A7\"},\"orientation\":\"h\",\"x\":[0.03122597267796102,0.0347462854793163,0.0349734385745107,0.03515207768669155,0.038549180906755715,0.03982260149223829,0.040884334252038,0.04231862034705217,0.0510749394160642,0.06402168658860034],\"y\":[\"photo  \",\"colors  \",\"possible  \",\"memory  \",\"phone  \",\"remember  \",\"stopped  \",\"ruins  \",\"gardenmany  \",\"youll  \"],\"type\":\"bar\",\"xaxis\":\"x17\",\"yaxis\":\"y17\"},{\"marker\":{\"color\":\"#E69F00\"},\"orientation\":\"h\",\"x\":[0.028722796389417014,0.03238389129711751,0.03268929733049629,0.03429183520737445,0.03827961758187927,0.03951091730684778,0.051059454739005805,0.05566203113612694,0.0946259565037455,0.1438930467086441],\"y\":[\"tapas  \",\"dishes  \",\"delicious  \",\"asian  \",\"thailand  \",\"pad  \",\"vietnamese  \",\"authentic  \",\"food  \",\"thai  \"],\"type\":\"bar\",\"xaxis\":\"x18\",\"yaxis\":\"y18\"},{\"marker\":{\"color\":\"#56B4E9\"},\"orientation\":\"h\",\"x\":[0.04098602392889663,0.04514705442518824,0.045471843372270136,0.04718232400803373,0.047607548974427386,0.050717666827055766,0.057448164470958615,0.07910219990221966,0.09964800662226748,0.13820511321367465],\"y\":[\"aggressive  \",\"make  \",\"pedestrians  \",\"recklessly  \",\"spaces  \",\"speeding  \",\"garage  \",\"cyclists  \",\"car  \",\"parking  \"],\"type\":\"bar\",\"xaxis\":\"x19\",\"yaxis\":\"y19\"},{\"marker\":{\"color\":\"#009E73\"},\"orientation\":\"h\",\"x\":[0.049996376195303886,0.05802981698596814,0.058216226242721096,0.05981241378880298,0.05981241378880298,0.06411256584695667,0.07894733069944032,0.08069597795932815,0.2746709721104471,0.4539148760212209],\"y\":[\"stinks  \",\"chilling  \",\"place  \",\"spartan  \",\"includedtake  \",\"totally  \",\"chillout  \",\"spot  \",\"chillig  \",\"chill  \"],\"type\":\"bar\",\"xaxis\":\"x20\",\"yaxis\":\"y20\"},{\"marker\":{\"color\":\"#F0E442\"},\"orientation\":\"h\",\"x\":[0.06302547733944117,0.06302547733944117,0.06388858007964068,0.06498885343345993,0.07752697022444797,0.09393543372888669,0.12008395542938478,0.12717512588875704,0.14342753252602194,0.30861587624768094],\"y\":[\"interestinggood  \",\"gums  \",\"site  \",\"seeing  \",\"exciting  \",\"valuable  \",\"history  \",\"historical  \",\"historically  \",\"interesting  \"],\"type\":\"bar\",\"xaxis\":\"x21\",\"yaxis\":\"y21\"},{\"marker\":{\"color\":\"#D55E00\"},\"orientation\":\"h\",\"x\":[0.03241531841286407,0.03241531841286407,0.033068808588167777,0.03331937988804582,0.03718718984728071,0.03950512034179097,0.043159889808870464,0.04636947890643099,0.048649139158269634,0.08314679337584252],\"y\":[\"centrum  \",\"om  \",\"te  \",\"tot  \",\"jest  \",\"iin  \",\"na  \",\"miejsce  \",\"bardzo  \",\"bir  \"],\"type\":\"bar\",\"xaxis\":\"x22\",\"yaxis\":\"y22\"},{\"marker\":{\"color\":\"#0072B2\"},\"orientation\":\"h\",\"x\":[0.044539854173191805,0.046667396697595454,0.047702148890413784,0.05433356101968864,0.054566704843569964,0.05597095679501214,0.06414584035707221,0.06913458230141901,0.11089710811079241,0.1399823988300314],\"y\":[\"cleaning  \",\"unfortunately  \",\"public  \",\"parking  \",\"elevators  \",\"used  \",\"toilets  \",\"smell  \",\"toilet  \",\"urine  \"],\"type\":\"bar\",\"xaxis\":\"x23\",\"yaxis\":\"y23\"},{\"marker\":{\"color\":\"#CC79A7\"},\"orientation\":\"h\",\"x\":[0.14388835392589397,0.15696200236588792,0.15696200236588792,0.15696200236588792,0.15696200236588792,0.15696200236588792,0.15696200236588792,0.15696200236588792,0.15696200236588792,0.15696200236588792],\"y\":[\"lessing  \",\"p2  \",\"chwil  \",\"choralspace  \",\"gehrung  \",\"hhe  \",\"hilalspor  \",\"amina  \",\"koyim  \",\"p3  \"],\"type\":\"bar\",\"xaxis\":\"x24\",\"yaxis\":\"y24\"},{\"marker\":{\"color\":\"#E69F00\"},\"orientation\":\"h\",\"x\":[0.023959367892102842,0.023959367892102842,0.025207777901746442,0.026140662332845316,0.028743773424249094,0.028751241470523412,0.034755037724791396,0.04131243723549164,0.14533873635280342,0.21138214121777146],\"y\":[\"sauna  \",\"temperature  \",\"changing  \",\"rooms  \",\"water  \",\"pools  \",\"clean  \",\"swim  \",\"swimming  \",\"pool  \"],\"type\":\"bar\",\"xaxis\":\"x25\",\"yaxis\":\"y25\"},{\"marker\":{\"color\":\"#56B4E9\"},\"orientation\":\"h\",\"x\":[0.029972310905769167,0.0314485805013964,0.031621279439486324,0.032775253901013726,0.03373377318978271,0.03626518970970268,0.04779539712544332,0.06206370113435087,0.06866439301785043,0.07221212371691288],\"y\":[\"avoid  \",\"park  \",\"yelling  \",\"dont  \",\"dangerous  \",\"offered  \",\"aggressive  \",\"dealers  \",\"drug  \",\"drugs  \"],\"type\":\"bar\",\"xaxis\":\"x26\",\"yaxis\":\"y26\"},{\"marker\":{\"color\":\"#009E73\"},\"orientation\":\"h\",\"x\":[0.06295814360508863,0.07536032096656321,0.08376008626923434,0.09107345648960485,0.10236352695399167,0.10236352695399167,0.10376534482733588,0.11304048144984483,0.30181061722547137,0.3060109105888551],\"y\":[\"rebuilt  \",\"politics  \",\"renovated  \",\"better  \",\"displaced  \",\"neverending  \",\"site  \",\"sites  \",\"construction  \",\"renovation  \"],\"type\":\"bar\",\"xaxis\":\"x27\",\"yaxis\":\"y27\"},{\"marker\":{\"color\":\"#F0E442\"},\"orientation\":\"h\",\"x\":[0.04253422766428434,0.05389457779556452,0.057460282438607756,0.059516013201508414,0.06914894110122428,0.0879717782881949,0.10441346934896657,0.1321973483158794,0.15558511747775464,0.16906898351627997],\"y\":[\"unbelievable  \",\"incorrect  \",\"hours  \",\"correct  \",\"google  \",\"times  \",\"website  \",\"open  \",\"opening  \",\"closed  \"],\"type\":\"bar\",\"xaxis\":\"x28\",\"yaxis\":\"y28\"},{\"marker\":{\"color\":\"#D55E00\"},\"orientation\":\"h\",\"x\":[0.03841267593305389,0.04314069772299256,0.0562180927732881,0.059754324033212916,0.059815813412464655,0.07188343841655452,0.10705575484347556,0.1502205598177623,0.18065492208222153,0.3260631596520102],\"y\":[\"shady  \",\"missing  \",\"dogs  \",\"ok  \",\"website  \",\"pm  \",\"wasnt  \",\"clean  \",\"arround  \",\"benches  \"],\"type\":\"bar\",\"xaxis\":\"x29\",\"yaxis\":\"y29\"},{\"marker\":{\"color\":\"#0072B2\"},\"orientation\":\"h\",\"x\":[0.07768062124317679,0.08057513673088408,0.08838374703631426,0.09122925033856204,0.10564376053604149,0.1071868776138342,0.11355121280993895,0.12708541475708077,0.12909891292712225,0.41567897734746423],\"y\":[\"ok  \",\"fortunately  \",\"bit  \",\"newspaper  \",\"dog  \",\"walk  \",\"quiet  \",\"nice  \",\"quite  \",\"small  \"],\"type\":\"bar\",\"xaxis\":\"x30\",\"yaxis\":\"y30\"},{\"marker\":{\"color\":\"#CC79A7\"},\"orientation\":\"h\",\"x\":[0.09183341755934722,0.1010077186499653,0.1010077186499653,0.15034788578162528,0.15074071803045178,0.1617609339769008,0.3244349876316392,0.33066225321158216,0.3474486465410228,0.5041135099089187],\"y\":[\"bon  \",\"charter  \",\"ami  \",\"location  \",\"crowded  \",\"better  \",\"piers  \",\"embarkation  \",\"trip  \",\"boat  \"],\"type\":\"bar\",\"xaxis\":\"x31\",\"yaxis\":\"y31\"},{\"marker\":{\"color\":\"#E69F00\"},\"orientation\":\"h\",\"x\":[0.10168110344096508,0.10330217726305493,0.10753506651821272,0.11091981500522748,0.11091981500522748,0.11091981500522748,0.11091981500522748,0.13511912414959243,0.14562141150002078,0.4638179477447839],\"y\":[\"jardn  \",\"ones  \",\"suitable  \",\"tardes  \",\"agrad  \",\"adultos  \",\"kiddies  \",\"impressed  \",\"kids  \",\"children  \"],\"type\":\"bar\",\"xaxis\":\"x32\",\"yaxis\":\"y32\"},{\"marker\":{\"color\":\"#56B4E9\"},\"orientation\":\"h\",\"x\":[0.09246296339805353,0.09941515717707301,0.11297900382329452,0.16816689446685495,0.18356706720139945,0.20121300480339147,0.2720749288102022,0.31010674418323486,0.39822158742545094,0.44664735748722634],\"y\":[\"content  \",\"2016  \",\"03102018  \",\"location  \",\"light  \",\"installation  \",\"low  \",\"key  \",\"festival  \",\"lights  \"],\"type\":\"bar\",\"xaxis\":\"x33\",\"yaxis\":\"y33\"},{\"marker\":{\"color\":\"#009E73\"},\"orientation\":\"h\",\"x\":[0.1155414739637786,0.1155414739637786,0.1155414739637786,0.12382681437869408,0.12819779213447943,0.13028838051608618,0.15249074104760243,0.2118356321686772,0.43168373408360416,0.5348471025312127],\"y\":[\"spraying  \",\"cemeteryyou  \",\"deepest  \",\"nice  \",\"smells  \",\"tip  \",\"insider  \",\"houseboats  \",\"piece  \",\"water  \"],\"type\":\"bar\",\"xaxis\":\"x34\",\"yaxis\":\"y34\"},{\"marker\":{\"color\":\"#F0E442\"},\"orientation\":\"h\",\"x\":[0.05586873815437641,0.05586873815437641,0.05586873815437641,0.05586873815437641,0.057093197456897574,0.09352730760081741,0.09755609499389543,0.15920149830598007,0.19703028261060954,0.284390033671946],\"y\":[\"19611989  \",\"gumthis  \",\"wellunfortunately  \",\"residue  \",\"parts  \",\"remains  \",\"covered  \",\"chewing  \",\"gum  \",\"wall  \"],\"type\":\"bar\",\"xaxis\":\"x35\",\"yaxis\":\"y35\"},{\"marker\":{\"color\":\"#D55E00\"},\"orientation\":\"h\",\"x\":[0.12766774551905416,0.1691728514988007,0.17073796501861865,0.18203852278422042,0.18261348335097713,0.18871744242046923,0.21427018369415948,0.21544773689960742,0.2194435337260781,0.3314165190490863],\"y\":[\"possible  \",\"deduction  \",\"unfortunately  \",\"isosceles  \",\"horrible  \",\"zero  \",\"dealer  \",\"stars  \",\"user  \",\"star  \"],\"type\":\"bar\",\"xaxis\":\"x36\",\"yaxis\":\"y36\"},{\"marker\":{\"color\":\"#0072B2\"},\"orientation\":\"h\",\"x\":[0.11254602318977205,0.11562600780654497,0.12159912827806252,0.127020389378535,0.13002604227851278,0.14444631303605654,0.2429504086259941,0.2429504086259941,0.2828500351191626,0.30381304413480426],\"y\":[\"basketball  \",\"pingpong  \",\"casual  \",\"play  \",\"session  \",\"colleague  \",\"pong  \",\"ping  \",\"table  \",\"tennis  \"],\"type\":\"bar\",\"xaxis\":\"x37\",\"yaxis\":\"y37\"},{\"marker\":{\"color\":\"#CC79A7\"},\"orientation\":\"h\",\"x\":[0.16497902167548106,0.17544824725028,0.17544824725028,0.21666946955408484,0.2256519188679399,0.2256519188679399,0.26192853255021514,0.2840766968763161,0.28997322579408896,0.8602221409949449],\"y\":[\"honest  \",\"cause  \",\"mention  \",\"spiritual  \",\"expects  \",\"ppl  \",\"said  \",\"created  \",\"hotel  \",\"special  \"],\"type\":\"bar\",\"xaxis\":\"x38\",\"yaxis\":\"y38\"},{\"marker\":{\"color\":\"#E69F00\"},\"orientation\":\"h\",\"x\":[0.05098822009222282,0.05282792673312771,0.06669393966801307,0.0945545458129737,0.10396933170386961,0.12089713200649672,0.38537765532377904,0.43848007170870756,0.5080621547004105,0.5767379999603351],\"y\":[\"wonderful  \",\"center  \",\"urban  \",\"unexpected  \",\"practical  \",\"eyecatcher  \",\"city  \",\"middle  \",\"open  \",\"space  \"],\"type\":\"bar\",\"xaxis\":\"x39\",\"yaxis\":\"y39\"},{\"marker\":{\"color\":\"#56B4E9\"},\"orientation\":\"h\",\"x\":[0.23111579359473922,0.23393099633370665,0.24319825655612504,0.2507747172706764,0.27201854701461764,0.2888926260721131,0.3008692251572532,0.3008692251572532,0.3008692251572532,0.36898295090508976],\"y\":[\"track  \",\"correct  \",\"waited  \",\"triangular  \",\"krumme  \",\"lanke  \",\"magnetic  \",\"clues  \",\"arrivewe  \",\"train  \"],\"type\":\"bar\",\"xaxis\":\"x40\",\"yaxis\":\"y40\"},{\"marker\":{\"color\":\"#009E73\"},\"orientation\":\"h\",\"x\":[0.09362949264095584,0.10855095210839553,0.11693318946238347,0.15844755523819867,0.1657844077841822,0.1808475244650448,0.20802084842747812,0.35079956838715043,0.4782095661233671,1.1329155542274216],\"y\":[\"15  \",\"u7  \",\"disgrace  \",\"perfect  \",\"minutesa  \",\"lotterywaiting  \",\"good  \",\"directions  \",\"subway  \",\"connection  \"],\"type\":\"bar\",\"xaxis\":\"x41\",\"yaxis\":\"y41\"},{\"marker\":{\"color\":\"#F0E442\"},\"orientation\":\"h\",\"x\":[0.12925563996732847,0.14099976483715357,0.14099976483715357,0.14099976483715357,0.14099976483715357,0.14099976483715357,0.14099976483715357,0.22130322468985844,0.22271703591174397,0.7352952939580575],\"y\":[\"thankfully  \",\"stable  \",\"spreebo  \",\"obstacles  \",\"cke  \",\"lows  \",\"yep  \",\"overcome  \",\"bridges  \",\"bridge  \"],\"type\":\"bar\",\"xaxis\":\"x42\",\"yaxis\":\"y42\"},{\"marker\":{\"color\":\"#D55E00\"},\"orientation\":\"h\",\"x\":[0.04094992268673177,0.04171020270674201,0.042182743505720974,0.04307896499998504,0.05811129222011661,0.06016821589960416,0.06084859614879243,0.08189984537346354,0.09148493485806292,0.1460323873386975],\"y\":[\"disappointment  \",\"bad  \",\"complete  \",\"worst  \",\"sound  \",\"music  \",\"bars  \",\"vip  \",\"party  \",\"fireworks  \"],\"type\":\"bar\",\"xaxis\":\"x43\",\"yaxis\":\"y43\"},{\"marker\":{\"color\":\"#0072B2\"},\"orientation\":\"h\",\"x\":[0.15563434200147713,0.15563434200147713,0.15563434200147713,0.15563434200147713,0.15563434200147713,0.15563434200147713,0.1697154962849574,0.31809067154557213,0.48355316849791896,0.5094897983158051],\"y\":[\"segments  \",\"soontobe  \",\"kom  \",\"stuk  \",\"drugged  \",\"uit  \",\"summer  \",\"doing  \",\"drunken  \",\"touristswhy  \"],\"type\":\"bar\",\"xaxis\":\"x44\",\"yaxis\":\"y44\"},{\"marker\":{\"color\":\"#CC79A7\"},\"orientation\":\"h\",\"x\":[0.00001,0.00001,0.00001,0.3122901525458003,0.3953304564776796,0.4254954561583817,0.4324035097314792,0.6355068965060316,0.8798881156025656,1.6586996314278832],\"y\":[\"  \",\"  \",\"  \",\"natural  \",\"private  \",\"classic  \",\"usual  \",\"ahhh  \",\"standard  \",\"normal  \"],\"type\":\"bar\",\"xaxis\":\"x45\",\"yaxis\":\"y45\"},{\"marker\":{\"color\":\"#E69F00\"},\"orientation\":\"h\",\"x\":[0.00001,0.00001,0.00001,0.00001,0.00001,0.00001,0.00001,0.8192094105347746,0.8850192236538998,1.8714479706696532],\"y\":[\"  \",\"  \",\"  \",\"  \",\"  \",\"  \",\"  \",\"cool  \",\"relaxing  \",\"mega  \"],\"type\":\"bar\",\"xaxis\":\"x46\",\"yaxis\":\"y46\"},{\"marker\":{\"color\":\"#56B4E9\"},\"orientation\":\"h\",\"x\":[0.10338692695047645,0.11373940329791198,0.12064676699456085,0.13476595010906248,0.14588415639715943,0.19172923169864078,0.287742110499228,0.3619403009836826,0.5030836873823059,1.3117898353349031],\"y\":[\"important  \",\"pictures  \",\"transport  \",\"class  \",\"option  \",\"account  \",\"ive  \",\"known  \",\"station  \",\"transfer  \"],\"type\":\"bar\",\"xaxis\":\"x47\",\"yaxis\":\"y47\"},{\"marker\":{\"color\":\"#009E73\"},\"orientation\":\"h\",\"x\":[0.18951436336055258,0.19502183542482557,0.197064957661517,0.2015405506875011,0.2095246518022,0.2126394061471618,0.2126394061471618,0.2160520641101212,0.26760830900027543,0.27731786977010814],\"y\":[\"bnd  \",\"term  \",\"partially  \",\"combination  \",\"dominated  \",\"flows  \",\"misleading  \",\"channel  \",\"panke  \",\"path  \"],\"type\":\"bar\",\"xaxis\":\"x48\",\"yaxis\":\"y48\"},{\"marker\":{\"color\":\"#F0E442\"},\"orientation\":\"h\",\"x\":[0.08174532794046246,0.08428105675105522,0.09140330890853261,0.09653269314015671,0.09653269314015671,0.09653269314015671,0.11082452197494305,0.1937883035299744,0.19750791232179157,0.20137082310219875],\"y\":[\"staff  \",\"help  \",\"prof  \",\"glaucoma  \",\"checkup  \",\"tetz  \",\"dr  \",\"doctor  \",\"clinic  \",\"eye  \"],\"type\":\"bar\",\"xaxis\":\"x49\",\"yaxis\":\"y49\"}],                        {\"template\":{\"data\":{\"barpolar\":[{\"marker\":{\"line\":{\"color\":\"white\",\"width\":0.5},\"pattern\":{\"fillmode\":\"overlay\",\"size\":10,\"solidity\":0.2}},\"type\":\"barpolar\"}],\"bar\":[{\"error_x\":{\"color\":\"#2a3f5f\"},\"error_y\":{\"color\":\"#2a3f5f\"},\"marker\":{\"line\":{\"color\":\"white\",\"width\":0.5},\"pattern\":{\"fillmode\":\"overlay\",\"size\":10,\"solidity\":0.2}},\"type\":\"bar\"}],\"carpet\":[{\"aaxis\":{\"endlinecolor\":\"#2a3f5f\",\"gridcolor\":\"#C8D4E3\",\"linecolor\":\"#C8D4E3\",\"minorgridcolor\":\"#C8D4E3\",\"startlinecolor\":\"#2a3f5f\"},\"baxis\":{\"endlinecolor\":\"#2a3f5f\",\"gridcolor\":\"#C8D4E3\",\"linecolor\":\"#C8D4E3\",\"minorgridcolor\":\"#C8D4E3\",\"startlinecolor\":\"#2a3f5f\"},\"type\":\"carpet\"}],\"choropleth\":[{\"colorbar\":{\"outlinewidth\":0,\"ticks\":\"\"},\"type\":\"choropleth\"}],\"contourcarpet\":[{\"colorbar\":{\"outlinewidth\":0,\"ticks\":\"\"},\"type\":\"contourcarpet\"}],\"contour\":[{\"colorbar\":{\"outlinewidth\":0,\"ticks\":\"\"},\"colorscale\":[[0.0,\"#0d0887\"],[0.1111111111111111,\"#46039f\"],[0.2222222222222222,\"#7201a8\"],[0.3333333333333333,\"#9c179e\"],[0.4444444444444444,\"#bd3786\"],[0.5555555555555556,\"#d8576b\"],[0.6666666666666666,\"#ed7953\"],[0.7777777777777778,\"#fb9f3a\"],[0.8888888888888888,\"#fdca26\"],[1.0,\"#f0f921\"]],\"type\":\"contour\"}],\"heatmapgl\":[{\"colorbar\":{\"outlinewidth\":0,\"ticks\":\"\"},\"colorscale\":[[0.0,\"#0d0887\"],[0.1111111111111111,\"#46039f\"],[0.2222222222222222,\"#7201a8\"],[0.3333333333333333,\"#9c179e\"],[0.4444444444444444,\"#bd3786\"],[0.5555555555555556,\"#d8576b\"],[0.6666666666666666,\"#ed7953\"],[0.7777777777777778,\"#fb9f3a\"],[0.8888888888888888,\"#fdca26\"],[1.0,\"#f0f921\"]],\"type\":\"heatmapgl\"}],\"heatmap\":[{\"colorbar\":{\"outlinewidth\":0,\"ticks\":\"\"},\"colorscale\":[[0.0,\"#0d0887\"],[0.1111111111111111,\"#46039f\"],[0.2222222222222222,\"#7201a8\"],[0.3333333333333333,\"#9c179e\"],[0.4444444444444444,\"#bd3786\"],[0.5555555555555556,\"#d8576b\"],[0.6666666666666666,\"#ed7953\"],[0.7777777777777778,\"#fb9f3a\"],[0.8888888888888888,\"#fdca26\"],[1.0,\"#f0f921\"]],\"type\":\"heatmap\"}],\"histogram2dcontour\":[{\"colorbar\":{\"outlinewidth\":0,\"ticks\":\"\"},\"colorscale\":[[0.0,\"#0d0887\"],[0.1111111111111111,\"#46039f\"],[0.2222222222222222,\"#7201a8\"],[0.3333333333333333,\"#9c179e\"],[0.4444444444444444,\"#bd3786\"],[0.5555555555555556,\"#d8576b\"],[0.6666666666666666,\"#ed7953\"],[0.7777777777777778,\"#fb9f3a\"],[0.8888888888888888,\"#fdca26\"],[1.0,\"#f0f921\"]],\"type\":\"histogram2dcontour\"}],\"histogram2d\":[{\"colorbar\":{\"outlinewidth\":0,\"ticks\":\"\"},\"colorscale\":[[0.0,\"#0d0887\"],[0.1111111111111111,\"#46039f\"],[0.2222222222222222,\"#7201a8\"],[0.3333333333333333,\"#9c179e\"],[0.4444444444444444,\"#bd3786\"],[0.5555555555555556,\"#d8576b\"],[0.6666666666666666,\"#ed7953\"],[0.7777777777777778,\"#fb9f3a\"],[0.8888888888888888,\"#fdca26\"],[1.0,\"#f0f921\"]],\"type\":\"histogram2d\"}],\"histogram\":[{\"marker\":{\"pattern\":{\"fillmode\":\"overlay\",\"size\":10,\"solidity\":0.2}},\"type\":\"histogram\"}],\"mesh3d\":[{\"colorbar\":{\"outlinewidth\":0,\"ticks\":\"\"},\"type\":\"mesh3d\"}],\"parcoords\":[{\"line\":{\"colorbar\":{\"outlinewidth\":0,\"ticks\":\"\"}},\"type\":\"parcoords\"}],\"pie\":[{\"automargin\":true,\"type\":\"pie\"}],\"scatter3d\":[{\"line\":{\"colorbar\":{\"outlinewidth\":0,\"ticks\":\"\"}},\"marker\":{\"colorbar\":{\"outlinewidth\":0,\"ticks\":\"\"}},\"type\":\"scatter3d\"}],\"scattercarpet\":[{\"marker\":{\"colorbar\":{\"outlinewidth\":0,\"ticks\":\"\"}},\"type\":\"scattercarpet\"}],\"scattergeo\":[{\"marker\":{\"colorbar\":{\"outlinewidth\":0,\"ticks\":\"\"}},\"type\":\"scattergeo\"}],\"scattergl\":[{\"marker\":{\"colorbar\":{\"outlinewidth\":0,\"ticks\":\"\"}},\"type\":\"scattergl\"}],\"scattermapbox\":[{\"marker\":{\"colorbar\":{\"outlinewidth\":0,\"ticks\":\"\"}},\"type\":\"scattermapbox\"}],\"scatterpolargl\":[{\"marker\":{\"colorbar\":{\"outlinewidth\":0,\"ticks\":\"\"}},\"type\":\"scatterpolargl\"}],\"scatterpolar\":[{\"marker\":{\"colorbar\":{\"outlinewidth\":0,\"ticks\":\"\"}},\"type\":\"scatterpolar\"}],\"scatter\":[{\"fillpattern\":{\"fillmode\":\"overlay\",\"size\":10,\"solidity\":0.2},\"type\":\"scatter\"}],\"scatterternary\":[{\"marker\":{\"colorbar\":{\"outlinewidth\":0,\"ticks\":\"\"}},\"type\":\"scatterternary\"}],\"surface\":[{\"colorbar\":{\"outlinewidth\":0,\"ticks\":\"\"},\"colorscale\":[[0.0,\"#0d0887\"],[0.1111111111111111,\"#46039f\"],[0.2222222222222222,\"#7201a8\"],[0.3333333333333333,\"#9c179e\"],[0.4444444444444444,\"#bd3786\"],[0.5555555555555556,\"#d8576b\"],[0.6666666666666666,\"#ed7953\"],[0.7777777777777778,\"#fb9f3a\"],[0.8888888888888888,\"#fdca26\"],[1.0,\"#f0f921\"]],\"type\":\"surface\"}],\"table\":[{\"cells\":{\"fill\":{\"color\":\"#EBF0F8\"},\"line\":{\"color\":\"white\"}},\"header\":{\"fill\":{\"color\":\"#C8D4E3\"},\"line\":{\"color\":\"white\"}},\"type\":\"table\"}]},\"layout\":{\"annotationdefaults\":{\"arrowcolor\":\"#2a3f5f\",\"arrowhead\":0,\"arrowwidth\":1},\"autotypenumbers\":\"strict\",\"coloraxis\":{\"colorbar\":{\"outlinewidth\":0,\"ticks\":\"\"}},\"colorscale\":{\"diverging\":[[0,\"#8e0152\"],[0.1,\"#c51b7d\"],[0.2,\"#de77ae\"],[0.3,\"#f1b6da\"],[0.4,\"#fde0ef\"],[0.5,\"#f7f7f7\"],[0.6,\"#e6f5d0\"],[0.7,\"#b8e186\"],[0.8,\"#7fbc41\"],[0.9,\"#4d9221\"],[1,\"#276419\"]],\"sequential\":[[0.0,\"#0d0887\"],[0.1111111111111111,\"#46039f\"],[0.2222222222222222,\"#7201a8\"],[0.3333333333333333,\"#9c179e\"],[0.4444444444444444,\"#bd3786\"],[0.5555555555555556,\"#d8576b\"],[0.6666666666666666,\"#ed7953\"],[0.7777777777777778,\"#fb9f3a\"],[0.8888888888888888,\"#fdca26\"],[1.0,\"#f0f921\"]],\"sequentialminus\":[[0.0,\"#0d0887\"],[0.1111111111111111,\"#46039f\"],[0.2222222222222222,\"#7201a8\"],[0.3333333333333333,\"#9c179e\"],[0.4444444444444444,\"#bd3786\"],[0.5555555555555556,\"#d8576b\"],[0.6666666666666666,\"#ed7953\"],[0.7777777777777778,\"#fb9f3a\"],[0.8888888888888888,\"#fdca26\"],[1.0,\"#f0f921\"]]},\"colorway\":[\"#636efa\",\"#EF553B\",\"#00cc96\",\"#ab63fa\",\"#FFA15A\",\"#19d3f3\",\"#FF6692\",\"#B6E880\",\"#FF97FF\",\"#FECB52\"],\"font\":{\"color\":\"#2a3f5f\"},\"geo\":{\"bgcolor\":\"white\",\"lakecolor\":\"white\",\"landcolor\":\"white\",\"showlakes\":true,\"showland\":true,\"subunitcolor\":\"#C8D4E3\"},\"hoverlabel\":{\"align\":\"left\"},\"hovermode\":\"closest\",\"mapbox\":{\"style\":\"light\"},\"paper_bgcolor\":\"white\",\"plot_bgcolor\":\"white\",\"polar\":{\"angularaxis\":{\"gridcolor\":\"#EBF0F8\",\"linecolor\":\"#EBF0F8\",\"ticks\":\"\"},\"bgcolor\":\"white\",\"radialaxis\":{\"gridcolor\":\"#EBF0F8\",\"linecolor\":\"#EBF0F8\",\"ticks\":\"\"}},\"scene\":{\"xaxis\":{\"backgroundcolor\":\"white\",\"gridcolor\":\"#DFE8F3\",\"gridwidth\":2,\"linecolor\":\"#EBF0F8\",\"showbackground\":true,\"ticks\":\"\",\"zerolinecolor\":\"#EBF0F8\"},\"yaxis\":{\"backgroundcolor\":\"white\",\"gridcolor\":\"#DFE8F3\",\"gridwidth\":2,\"linecolor\":\"#EBF0F8\",\"showbackground\":true,\"ticks\":\"\",\"zerolinecolor\":\"#EBF0F8\"},\"zaxis\":{\"backgroundcolor\":\"white\",\"gridcolor\":\"#DFE8F3\",\"gridwidth\":2,\"linecolor\":\"#EBF0F8\",\"showbackground\":true,\"ticks\":\"\",\"zerolinecolor\":\"#EBF0F8\"}},\"shapedefaults\":{\"line\":{\"color\":\"#2a3f5f\"}},\"ternary\":{\"aaxis\":{\"gridcolor\":\"#DFE8F3\",\"linecolor\":\"#A2B1C6\",\"ticks\":\"\"},\"baxis\":{\"gridcolor\":\"#DFE8F3\",\"linecolor\":\"#A2B1C6\",\"ticks\":\"\"},\"bgcolor\":\"white\",\"caxis\":{\"gridcolor\":\"#DFE8F3\",\"linecolor\":\"#A2B1C6\",\"ticks\":\"\"}},\"title\":{\"x\":0.05},\"xaxis\":{\"automargin\":true,\"gridcolor\":\"#EBF0F8\",\"linecolor\":\"#EBF0F8\",\"ticks\":\"\",\"title\":{\"standoff\":15},\"zerolinecolor\":\"#EBF0F8\",\"zerolinewidth\":2},\"yaxis\":{\"automargin\":true,\"gridcolor\":\"#EBF0F8\",\"linecolor\":\"#EBF0F8\",\"ticks\":\"\",\"title\":{\"standoff\":15},\"zerolinecolor\":\"#EBF0F8\",\"zerolinewidth\":2}}},\"xaxis\":{\"anchor\":\"y\",\"domain\":[0.0,0.175],\"showgrid\":true},\"yaxis\":{\"anchor\":\"x\",\"domain\":[0.9514792899408283,0.9999999999999999],\"showgrid\":true},\"xaxis2\":{\"anchor\":\"y2\",\"domain\":[0.275,0.45],\"showgrid\":true},\"yaxis2\":{\"anchor\":\"x2\",\"domain\":[0.9514792899408283,0.9999999999999999],\"showgrid\":true},\"xaxis3\":{\"anchor\":\"y3\",\"domain\":[0.55,0.7250000000000001],\"showgrid\":true},\"yaxis3\":{\"anchor\":\"x3\",\"domain\":[0.9514792899408283,0.9999999999999999],\"showgrid\":true},\"xaxis4\":{\"anchor\":\"y4\",\"domain\":[0.825,1.0],\"showgrid\":true},\"yaxis4\":{\"anchor\":\"x4\",\"domain\":[0.9514792899408283,0.9999999999999999],\"showgrid\":true},\"xaxis5\":{\"anchor\":\"y5\",\"domain\":[0.0,0.175],\"showgrid\":true},\"yaxis5\":{\"anchor\":\"x5\",\"domain\":[0.872189349112426,0.9207100591715975],\"showgrid\":true},\"xaxis6\":{\"anchor\":\"y6\",\"domain\":[0.275,0.45],\"showgrid\":true},\"yaxis6\":{\"anchor\":\"x6\",\"domain\":[0.872189349112426,0.9207100591715975],\"showgrid\":true},\"xaxis7\":{\"anchor\":\"y7\",\"domain\":[0.55,0.7250000000000001],\"showgrid\":true},\"yaxis7\":{\"anchor\":\"x7\",\"domain\":[0.872189349112426,0.9207100591715975],\"showgrid\":true},\"xaxis8\":{\"anchor\":\"y8\",\"domain\":[0.825,1.0],\"showgrid\":true},\"yaxis8\":{\"anchor\":\"x8\",\"domain\":[0.872189349112426,0.9207100591715975],\"showgrid\":true},\"xaxis9\":{\"anchor\":\"y9\",\"domain\":[0.0,0.175],\"showgrid\":true},\"yaxis9\":{\"anchor\":\"x9\",\"domain\":[0.7928994082840235,0.8414201183431951],\"showgrid\":true},\"xaxis10\":{\"anchor\":\"y10\",\"domain\":[0.275,0.45],\"showgrid\":true},\"yaxis10\":{\"anchor\":\"x10\",\"domain\":[0.7928994082840235,0.8414201183431951],\"showgrid\":true},\"xaxis11\":{\"anchor\":\"y11\",\"domain\":[0.55,0.7250000000000001],\"showgrid\":true},\"yaxis11\":{\"anchor\":\"x11\",\"domain\":[0.7928994082840235,0.8414201183431951],\"showgrid\":true},\"xaxis12\":{\"anchor\":\"y12\",\"domain\":[0.825,1.0],\"showgrid\":true},\"yaxis12\":{\"anchor\":\"x12\",\"domain\":[0.7928994082840235,0.8414201183431951],\"showgrid\":true},\"xaxis13\":{\"anchor\":\"y13\",\"domain\":[0.0,0.175],\"showgrid\":true},\"yaxis13\":{\"anchor\":\"x13\",\"domain\":[0.7136094674556213,0.7621301775147928],\"showgrid\":true},\"xaxis14\":{\"anchor\":\"y14\",\"domain\":[0.275,0.45],\"showgrid\":true},\"yaxis14\":{\"anchor\":\"x14\",\"domain\":[0.7136094674556213,0.7621301775147928],\"showgrid\":true},\"xaxis15\":{\"anchor\":\"y15\",\"domain\":[0.55,0.7250000000000001],\"showgrid\":true},\"yaxis15\":{\"anchor\":\"x15\",\"domain\":[0.7136094674556213,0.7621301775147928],\"showgrid\":true},\"xaxis16\":{\"anchor\":\"y16\",\"domain\":[0.825,1.0],\"showgrid\":true},\"yaxis16\":{\"anchor\":\"x16\",\"domain\":[0.7136094674556213,0.7621301775147928],\"showgrid\":true},\"xaxis17\":{\"anchor\":\"y17\",\"domain\":[0.0,0.175],\"showgrid\":true},\"yaxis17\":{\"anchor\":\"x17\",\"domain\":[0.6343195266272188,0.6828402366863904],\"showgrid\":true},\"xaxis18\":{\"anchor\":\"y18\",\"domain\":[0.275,0.45],\"showgrid\":true},\"yaxis18\":{\"anchor\":\"x18\",\"domain\":[0.6343195266272188,0.6828402366863904],\"showgrid\":true},\"xaxis19\":{\"anchor\":\"y19\",\"domain\":[0.55,0.7250000000000001],\"showgrid\":true},\"yaxis19\":{\"anchor\":\"x19\",\"domain\":[0.6343195266272188,0.6828402366863904],\"showgrid\":true},\"xaxis20\":{\"anchor\":\"y20\",\"domain\":[0.825,1.0],\"showgrid\":true},\"yaxis20\":{\"anchor\":\"x20\",\"domain\":[0.6343195266272188,0.6828402366863904],\"showgrid\":true},\"xaxis21\":{\"anchor\":\"y21\",\"domain\":[0.0,0.175],\"showgrid\":true},\"yaxis21\":{\"anchor\":\"x21\",\"domain\":[0.5550295857988166,0.6035502958579881],\"showgrid\":true},\"xaxis22\":{\"anchor\":\"y22\",\"domain\":[0.275,0.45],\"showgrid\":true},\"yaxis22\":{\"anchor\":\"x22\",\"domain\":[0.5550295857988166,0.6035502958579881],\"showgrid\":true},\"xaxis23\":{\"anchor\":\"y23\",\"domain\":[0.55,0.7250000000000001],\"showgrid\":true},\"yaxis23\":{\"anchor\":\"x23\",\"domain\":[0.5550295857988166,0.6035502958579881],\"showgrid\":true},\"xaxis24\":{\"anchor\":\"y24\",\"domain\":[0.825,1.0],\"showgrid\":true},\"yaxis24\":{\"anchor\":\"x24\",\"domain\":[0.5550295857988166,0.6035502958579881],\"showgrid\":true},\"xaxis25\":{\"anchor\":\"y25\",\"domain\":[0.0,0.175],\"showgrid\":true},\"yaxis25\":{\"anchor\":\"x25\",\"domain\":[0.47573964497041416,0.5242603550295858],\"showgrid\":true},\"xaxis26\":{\"anchor\":\"y26\",\"domain\":[0.275,0.45],\"showgrid\":true},\"yaxis26\":{\"anchor\":\"x26\",\"domain\":[0.47573964497041416,0.5242603550295858],\"showgrid\":true},\"xaxis27\":{\"anchor\":\"y27\",\"domain\":[0.55,0.7250000000000001],\"showgrid\":true},\"yaxis27\":{\"anchor\":\"x27\",\"domain\":[0.47573964497041416,0.5242603550295858],\"showgrid\":true},\"xaxis28\":{\"anchor\":\"y28\",\"domain\":[0.825,1.0],\"showgrid\":true},\"yaxis28\":{\"anchor\":\"x28\",\"domain\":[0.47573964497041416,0.5242603550295858],\"showgrid\":true},\"xaxis29\":{\"anchor\":\"y29\",\"domain\":[0.0,0.175],\"showgrid\":true},\"yaxis29\":{\"anchor\":\"x29\",\"domain\":[0.3964497041420118,0.4449704142011834],\"showgrid\":true},\"xaxis30\":{\"anchor\":\"y30\",\"domain\":[0.275,0.45],\"showgrid\":true},\"yaxis30\":{\"anchor\":\"x30\",\"domain\":[0.3964497041420118,0.4449704142011834],\"showgrid\":true},\"xaxis31\":{\"anchor\":\"y31\",\"domain\":[0.55,0.7250000000000001],\"showgrid\":true},\"yaxis31\":{\"anchor\":\"x31\",\"domain\":[0.3964497041420118,0.4449704142011834],\"showgrid\":true},\"xaxis32\":{\"anchor\":\"y32\",\"domain\":[0.825,1.0],\"showgrid\":true},\"yaxis32\":{\"anchor\":\"x32\",\"domain\":[0.3964497041420118,0.4449704142011834],\"showgrid\":true},\"xaxis33\":{\"anchor\":\"y33\",\"domain\":[0.0,0.175],\"showgrid\":true},\"yaxis33\":{\"anchor\":\"x33\",\"domain\":[0.31715976331360946,0.36568047337278103],\"showgrid\":true},\"xaxis34\":{\"anchor\":\"y34\",\"domain\":[0.275,0.45],\"showgrid\":true},\"yaxis34\":{\"anchor\":\"x34\",\"domain\":[0.31715976331360946,0.36568047337278103],\"showgrid\":true},\"xaxis35\":{\"anchor\":\"y35\",\"domain\":[0.55,0.7250000000000001],\"showgrid\":true},\"yaxis35\":{\"anchor\":\"x35\",\"domain\":[0.31715976331360946,0.36568047337278103],\"showgrid\":true},\"xaxis36\":{\"anchor\":\"y36\",\"domain\":[0.825,1.0],\"showgrid\":true},\"yaxis36\":{\"anchor\":\"x36\",\"domain\":[0.31715976331360946,0.36568047337278103],\"showgrid\":true},\"xaxis37\":{\"anchor\":\"y37\",\"domain\":[0.0,0.175],\"showgrid\":true},\"yaxis37\":{\"anchor\":\"x37\",\"domain\":[0.2378698224852071,0.2863905325443787],\"showgrid\":true},\"xaxis38\":{\"anchor\":\"y38\",\"domain\":[0.275,0.45],\"showgrid\":true},\"yaxis38\":{\"anchor\":\"x38\",\"domain\":[0.2378698224852071,0.2863905325443787],\"showgrid\":true},\"xaxis39\":{\"anchor\":\"y39\",\"domain\":[0.55,0.7250000000000001],\"showgrid\":true},\"yaxis39\":{\"anchor\":\"x39\",\"domain\":[0.2378698224852071,0.2863905325443787],\"showgrid\":true},\"xaxis40\":{\"anchor\":\"y40\",\"domain\":[0.825,1.0],\"showgrid\":true},\"yaxis40\":{\"anchor\":\"x40\",\"domain\":[0.2378698224852071,0.2863905325443787],\"showgrid\":true},\"xaxis41\":{\"anchor\":\"y41\",\"domain\":[0.0,0.175],\"showgrid\":true},\"yaxis41\":{\"anchor\":\"x41\",\"domain\":[0.15857988165680473,0.20710059171597633],\"showgrid\":true},\"xaxis42\":{\"anchor\":\"y42\",\"domain\":[0.275,0.45],\"showgrid\":true},\"yaxis42\":{\"anchor\":\"x42\",\"domain\":[0.15857988165680473,0.20710059171597633],\"showgrid\":true},\"xaxis43\":{\"anchor\":\"y43\",\"domain\":[0.55,0.7250000000000001],\"showgrid\":true},\"yaxis43\":{\"anchor\":\"x43\",\"domain\":[0.15857988165680473,0.20710059171597633],\"showgrid\":true},\"xaxis44\":{\"anchor\":\"y44\",\"domain\":[0.825,1.0],\"showgrid\":true},\"yaxis44\":{\"anchor\":\"x44\",\"domain\":[0.15857988165680473,0.20710059171597633],\"showgrid\":true},\"xaxis45\":{\"anchor\":\"y45\",\"domain\":[0.0,0.175],\"showgrid\":true},\"yaxis45\":{\"anchor\":\"x45\",\"domain\":[0.07928994082840236,0.12781065088757396],\"showgrid\":true},\"xaxis46\":{\"anchor\":\"y46\",\"domain\":[0.275,0.45],\"showgrid\":true},\"yaxis46\":{\"anchor\":\"x46\",\"domain\":[0.07928994082840236,0.12781065088757396],\"showgrid\":true},\"xaxis47\":{\"anchor\":\"y47\",\"domain\":[0.55,0.7250000000000001],\"showgrid\":true},\"yaxis47\":{\"anchor\":\"x47\",\"domain\":[0.07928994082840236,0.12781065088757396],\"showgrid\":true},\"xaxis48\":{\"anchor\":\"y48\",\"domain\":[0.825,1.0],\"showgrid\":true},\"yaxis48\":{\"anchor\":\"x48\",\"domain\":[0.07928994082840236,0.12781065088757396],\"showgrid\":true},\"xaxis49\":{\"anchor\":\"y49\",\"domain\":[0.0,0.175],\"showgrid\":true},\"yaxis49\":{\"anchor\":\"x49\",\"domain\":[0.0,0.04852071005917159],\"showgrid\":true},\"xaxis50\":{\"anchor\":\"y50\",\"domain\":[0.275,0.45],\"showgrid\":true},\"yaxis50\":{\"anchor\":\"x50\",\"domain\":[0.0,0.04852071005917159],\"showgrid\":true},\"xaxis51\":{\"anchor\":\"y51\",\"domain\":[0.55,0.7250000000000001],\"showgrid\":true},\"yaxis51\":{\"anchor\":\"x51\",\"domain\":[0.0,0.04852071005917159],\"showgrid\":true},\"xaxis52\":{\"anchor\":\"y52\",\"domain\":[0.825,1.0],\"showgrid\":true},\"yaxis52\":{\"anchor\":\"x52\",\"domain\":[0.0,0.04852071005917159],\"showgrid\":true},\"annotations\":[{\"font\":{\"size\":16},\"showarrow\":false,\"text\":\"Topic 0\",\"x\":0.0875,\"xanchor\":\"center\",\"xref\":\"paper\",\"y\":0.9999999999999999,\"yanchor\":\"bottom\",\"yref\":\"paper\"},{\"font\":{\"size\":16},\"showarrow\":false,\"text\":\"Topic 1\",\"x\":0.36250000000000004,\"xanchor\":\"center\",\"xref\":\"paper\",\"y\":0.9999999999999999,\"yanchor\":\"bottom\",\"yref\":\"paper\"},{\"font\":{\"size\":16},\"showarrow\":false,\"text\":\"Topic 2\",\"x\":0.6375000000000001,\"xanchor\":\"center\",\"xref\":\"paper\",\"y\":0.9999999999999999,\"yanchor\":\"bottom\",\"yref\":\"paper\"},{\"font\":{\"size\":16},\"showarrow\":false,\"text\":\"Topic 3\",\"x\":0.9125,\"xanchor\":\"center\",\"xref\":\"paper\",\"y\":0.9999999999999999,\"yanchor\":\"bottom\",\"yref\":\"paper\"},{\"font\":{\"size\":16},\"showarrow\":false,\"text\":\"Topic 4\",\"x\":0.0875,\"xanchor\":\"center\",\"xref\":\"paper\",\"y\":0.9207100591715975,\"yanchor\":\"bottom\",\"yref\":\"paper\"},{\"font\":{\"size\":16},\"showarrow\":false,\"text\":\"Topic 5\",\"x\":0.36250000000000004,\"xanchor\":\"center\",\"xref\":\"paper\",\"y\":0.9207100591715975,\"yanchor\":\"bottom\",\"yref\":\"paper\"},{\"font\":{\"size\":16},\"showarrow\":false,\"text\":\"Topic 6\",\"x\":0.6375000000000001,\"xanchor\":\"center\",\"xref\":\"paper\",\"y\":0.9207100591715975,\"yanchor\":\"bottom\",\"yref\":\"paper\"},{\"font\":{\"size\":16},\"showarrow\":false,\"text\":\"Topic 7\",\"x\":0.9125,\"xanchor\":\"center\",\"xref\":\"paper\",\"y\":0.9207100591715975,\"yanchor\":\"bottom\",\"yref\":\"paper\"},{\"font\":{\"size\":16},\"showarrow\":false,\"text\":\"Topic 8\",\"x\":0.0875,\"xanchor\":\"center\",\"xref\":\"paper\",\"y\":0.8414201183431951,\"yanchor\":\"bottom\",\"yref\":\"paper\"},{\"font\":{\"size\":16},\"showarrow\":false,\"text\":\"Topic 9\",\"x\":0.36250000000000004,\"xanchor\":\"center\",\"xref\":\"paper\",\"y\":0.8414201183431951,\"yanchor\":\"bottom\",\"yref\":\"paper\"},{\"font\":{\"size\":16},\"showarrow\":false,\"text\":\"Topic 10\",\"x\":0.6375000000000001,\"xanchor\":\"center\",\"xref\":\"paper\",\"y\":0.8414201183431951,\"yanchor\":\"bottom\",\"yref\":\"paper\"},{\"font\":{\"size\":16},\"showarrow\":false,\"text\":\"Topic 11\",\"x\":0.9125,\"xanchor\":\"center\",\"xref\":\"paper\",\"y\":0.8414201183431951,\"yanchor\":\"bottom\",\"yref\":\"paper\"},{\"font\":{\"size\":16},\"showarrow\":false,\"text\":\"Topic 12\",\"x\":0.0875,\"xanchor\":\"center\",\"xref\":\"paper\",\"y\":0.7621301775147928,\"yanchor\":\"bottom\",\"yref\":\"paper\"},{\"font\":{\"size\":16},\"showarrow\":false,\"text\":\"Topic 13\",\"x\":0.36250000000000004,\"xanchor\":\"center\",\"xref\":\"paper\",\"y\":0.7621301775147928,\"yanchor\":\"bottom\",\"yref\":\"paper\"},{\"font\":{\"size\":16},\"showarrow\":false,\"text\":\"Topic 14\",\"x\":0.6375000000000001,\"xanchor\":\"center\",\"xref\":\"paper\",\"y\":0.7621301775147928,\"yanchor\":\"bottom\",\"yref\":\"paper\"},{\"font\":{\"size\":16},\"showarrow\":false,\"text\":\"Topic 15\",\"x\":0.9125,\"xanchor\":\"center\",\"xref\":\"paper\",\"y\":0.7621301775147928,\"yanchor\":\"bottom\",\"yref\":\"paper\"},{\"font\":{\"size\":16},\"showarrow\":false,\"text\":\"Topic 16\",\"x\":0.0875,\"xanchor\":\"center\",\"xref\":\"paper\",\"y\":0.6828402366863904,\"yanchor\":\"bottom\",\"yref\":\"paper\"},{\"font\":{\"size\":16},\"showarrow\":false,\"text\":\"Topic 17\",\"x\":0.36250000000000004,\"xanchor\":\"center\",\"xref\":\"paper\",\"y\":0.6828402366863904,\"yanchor\":\"bottom\",\"yref\":\"paper\"},{\"font\":{\"size\":16},\"showarrow\":false,\"text\":\"Topic 18\",\"x\":0.6375000000000001,\"xanchor\":\"center\",\"xref\":\"paper\",\"y\":0.6828402366863904,\"yanchor\":\"bottom\",\"yref\":\"paper\"},{\"font\":{\"size\":16},\"showarrow\":false,\"text\":\"Topic 19\",\"x\":0.9125,\"xanchor\":\"center\",\"xref\":\"paper\",\"y\":0.6828402366863904,\"yanchor\":\"bottom\",\"yref\":\"paper\"},{\"font\":{\"size\":16},\"showarrow\":false,\"text\":\"Topic 20\",\"x\":0.0875,\"xanchor\":\"center\",\"xref\":\"paper\",\"y\":0.6035502958579881,\"yanchor\":\"bottom\",\"yref\":\"paper\"},{\"font\":{\"size\":16},\"showarrow\":false,\"text\":\"Topic 21\",\"x\":0.36250000000000004,\"xanchor\":\"center\",\"xref\":\"paper\",\"y\":0.6035502958579881,\"yanchor\":\"bottom\",\"yref\":\"paper\"},{\"font\":{\"size\":16},\"showarrow\":false,\"text\":\"Topic 22\",\"x\":0.6375000000000001,\"xanchor\":\"center\",\"xref\":\"paper\",\"y\":0.6035502958579881,\"yanchor\":\"bottom\",\"yref\":\"paper\"},{\"font\":{\"size\":16},\"showarrow\":false,\"text\":\"Topic 23\",\"x\":0.9125,\"xanchor\":\"center\",\"xref\":\"paper\",\"y\":0.6035502958579881,\"yanchor\":\"bottom\",\"yref\":\"paper\"},{\"font\":{\"size\":16},\"showarrow\":false,\"text\":\"Topic 24\",\"x\":0.0875,\"xanchor\":\"center\",\"xref\":\"paper\",\"y\":0.5242603550295858,\"yanchor\":\"bottom\",\"yref\":\"paper\"},{\"font\":{\"size\":16},\"showarrow\":false,\"text\":\"Topic 25\",\"x\":0.36250000000000004,\"xanchor\":\"center\",\"xref\":\"paper\",\"y\":0.5242603550295858,\"yanchor\":\"bottom\",\"yref\":\"paper\"},{\"font\":{\"size\":16},\"showarrow\":false,\"text\":\"Topic 26\",\"x\":0.6375000000000001,\"xanchor\":\"center\",\"xref\":\"paper\",\"y\":0.5242603550295858,\"yanchor\":\"bottom\",\"yref\":\"paper\"},{\"font\":{\"size\":16},\"showarrow\":false,\"text\":\"Topic 27\",\"x\":0.9125,\"xanchor\":\"center\",\"xref\":\"paper\",\"y\":0.5242603550295858,\"yanchor\":\"bottom\",\"yref\":\"paper\"},{\"font\":{\"size\":16},\"showarrow\":false,\"text\":\"Topic 28\",\"x\":0.0875,\"xanchor\":\"center\",\"xref\":\"paper\",\"y\":0.4449704142011834,\"yanchor\":\"bottom\",\"yref\":\"paper\"},{\"font\":{\"size\":16},\"showarrow\":false,\"text\":\"Topic 29\",\"x\":0.36250000000000004,\"xanchor\":\"center\",\"xref\":\"paper\",\"y\":0.4449704142011834,\"yanchor\":\"bottom\",\"yref\":\"paper\"},{\"font\":{\"size\":16},\"showarrow\":false,\"text\":\"Topic 30\",\"x\":0.6375000000000001,\"xanchor\":\"center\",\"xref\":\"paper\",\"y\":0.4449704142011834,\"yanchor\":\"bottom\",\"yref\":\"paper\"},{\"font\":{\"size\":16},\"showarrow\":false,\"text\":\"Topic 31\",\"x\":0.9125,\"xanchor\":\"center\",\"xref\":\"paper\",\"y\":0.4449704142011834,\"yanchor\":\"bottom\",\"yref\":\"paper\"},{\"font\":{\"size\":16},\"showarrow\":false,\"text\":\"Topic 32\",\"x\":0.0875,\"xanchor\":\"center\",\"xref\":\"paper\",\"y\":0.36568047337278103,\"yanchor\":\"bottom\",\"yref\":\"paper\"},{\"font\":{\"size\":16},\"showarrow\":false,\"text\":\"Topic 33\",\"x\":0.36250000000000004,\"xanchor\":\"center\",\"xref\":\"paper\",\"y\":0.36568047337278103,\"yanchor\":\"bottom\",\"yref\":\"paper\"},{\"font\":{\"size\":16},\"showarrow\":false,\"text\":\"Topic 34\",\"x\":0.6375000000000001,\"xanchor\":\"center\",\"xref\":\"paper\",\"y\":0.36568047337278103,\"yanchor\":\"bottom\",\"yref\":\"paper\"},{\"font\":{\"size\":16},\"showarrow\":false,\"text\":\"Topic 35\",\"x\":0.9125,\"xanchor\":\"center\",\"xref\":\"paper\",\"y\":0.36568047337278103,\"yanchor\":\"bottom\",\"yref\":\"paper\"},{\"font\":{\"size\":16},\"showarrow\":false,\"text\":\"Topic 36\",\"x\":0.0875,\"xanchor\":\"center\",\"xref\":\"paper\",\"y\":0.2863905325443787,\"yanchor\":\"bottom\",\"yref\":\"paper\"},{\"font\":{\"size\":16},\"showarrow\":false,\"text\":\"Topic 37\",\"x\":0.36250000000000004,\"xanchor\":\"center\",\"xref\":\"paper\",\"y\":0.2863905325443787,\"yanchor\":\"bottom\",\"yref\":\"paper\"},{\"font\":{\"size\":16},\"showarrow\":false,\"text\":\"Topic 38\",\"x\":0.6375000000000001,\"xanchor\":\"center\",\"xref\":\"paper\",\"y\":0.2863905325443787,\"yanchor\":\"bottom\",\"yref\":\"paper\"},{\"font\":{\"size\":16},\"showarrow\":false,\"text\":\"Topic 39\",\"x\":0.9125,\"xanchor\":\"center\",\"xref\":\"paper\",\"y\":0.2863905325443787,\"yanchor\":\"bottom\",\"yref\":\"paper\"},{\"font\":{\"size\":16},\"showarrow\":false,\"text\":\"Topic 40\",\"x\":0.0875,\"xanchor\":\"center\",\"xref\":\"paper\",\"y\":0.20710059171597633,\"yanchor\":\"bottom\",\"yref\":\"paper\"},{\"font\":{\"size\":16},\"showarrow\":false,\"text\":\"Topic 41\",\"x\":0.36250000000000004,\"xanchor\":\"center\",\"xref\":\"paper\",\"y\":0.20710059171597633,\"yanchor\":\"bottom\",\"yref\":\"paper\"},{\"font\":{\"size\":16},\"showarrow\":false,\"text\":\"Topic 42\",\"x\":0.6375000000000001,\"xanchor\":\"center\",\"xref\":\"paper\",\"y\":0.20710059171597633,\"yanchor\":\"bottom\",\"yref\":\"paper\"},{\"font\":{\"size\":16},\"showarrow\":false,\"text\":\"Topic 43\",\"x\":0.9125,\"xanchor\":\"center\",\"xref\":\"paper\",\"y\":0.20710059171597633,\"yanchor\":\"bottom\",\"yref\":\"paper\"},{\"font\":{\"size\":16},\"showarrow\":false,\"text\":\"Topic 44\",\"x\":0.0875,\"xanchor\":\"center\",\"xref\":\"paper\",\"y\":0.12781065088757396,\"yanchor\":\"bottom\",\"yref\":\"paper\"},{\"font\":{\"size\":16},\"showarrow\":false,\"text\":\"Topic 45\",\"x\":0.36250000000000004,\"xanchor\":\"center\",\"xref\":\"paper\",\"y\":0.12781065088757396,\"yanchor\":\"bottom\",\"yref\":\"paper\"},{\"font\":{\"size\":16},\"showarrow\":false,\"text\":\"Topic 46\",\"x\":0.6375000000000001,\"xanchor\":\"center\",\"xref\":\"paper\",\"y\":0.12781065088757396,\"yanchor\":\"bottom\",\"yref\":\"paper\"},{\"font\":{\"size\":16},\"showarrow\":false,\"text\":\"Topic 47\",\"x\":0.9125,\"xanchor\":\"center\",\"xref\":\"paper\",\"y\":0.12781065088757396,\"yanchor\":\"bottom\",\"yref\":\"paper\"},{\"font\":{\"size\":16},\"showarrow\":false,\"text\":\"Topic 48\",\"x\":0.0875,\"xanchor\":\"center\",\"xref\":\"paper\",\"y\":0.04852071005917159,\"yanchor\":\"bottom\",\"yref\":\"paper\"}],\"title\":{\"font\":{\"size\":22,\"color\":\"Black\"},\"text\":\"Topic Word Scores\",\"x\":0.5,\"xanchor\":\"center\",\"yanchor\":\"top\"},\"hoverlabel\":{\"font\":{\"size\":16,\"family\":\"Rockwell\"},\"bgcolor\":\"white\"},\"showlegend\":false,\"width\":1000,\"height\":3250},                        {\"responsive\": true}                    ).then(function(){\n",
       "                            \n",
       "var gd = document.getElementById('715ea236-4062-49d6-9704-93006c1d7a1a');\n",
       "var x = new MutationObserver(function (mutations, observer) {{\n",
       "        var display = window.getComputedStyle(gd).display;\n",
       "        if (!display || display === 'none') {{\n",
       "            console.log([gd, 'removed!']);\n",
       "            Plotly.purge(gd);\n",
       "            observer.disconnect();\n",
       "        }}\n",
       "}});\n",
       "\n",
       "// Listen for the removal of the full notebook cells\n",
       "var notebookContainer = gd.closest('#notebook-container');\n",
       "if (notebookContainer) {{\n",
       "    x.observe(notebookContainer, {childList: true});\n",
       "}}\n",
       "\n",
       "// Listen for the clearing of the current output cell\n",
       "var outputEl = gd.closest('.output');\n",
       "if (outputEl) {{\n",
       "    x.observe(outputEl, {childList: true});\n",
       "}}\n",
       "\n",
       "                        })                };                });            </script>        </div>"
      ]
     },
     "metadata": {},
     "output_type": "display_data"
    }
   ],
   "source": [
    "topic_model.visualize_barchart(top_n_topics = 50, n_words = 20)"
   ]
  },
  {
   "cell_type": "code",
   "execution_count": 141,
   "metadata": {},
   "outputs": [
    {
     "data": {
      "text/html": [
       "<div>\n",
       "<style scoped>\n",
       "    .dataframe tbody tr th:only-of-type {\n",
       "        vertical-align: middle;\n",
       "    }\n",
       "\n",
       "    .dataframe tbody tr th {\n",
       "        vertical-align: top;\n",
       "    }\n",
       "\n",
       "    .dataframe thead th {\n",
       "        text-align: right;\n",
       "    }\n",
       "</style>\n",
       "<table border=\"1\" class=\"dataframe\">\n",
       "  <thead>\n",
       "    <tr style=\"text-align: right;\">\n",
       "      <th></th>\n",
       "      <th>Topic</th>\n",
       "      <th>Count</th>\n",
       "      <th>Name</th>\n",
       "      <th>Representation</th>\n",
       "      <th>Representative_Docs</th>\n",
       "    </tr>\n",
       "  </thead>\n",
       "  <tbody>\n",
       "    <tr>\n",
       "      <th>0</th>\n",
       "      <td>-1</td>\n",
       "      <td>4499</td>\n",
       "      <td>-1_park_place_nice_berlin</td>\n",
       "      <td>[park, place, nice, berlin, great, good, peopl...</td>\n",
       "      <td>[very nice place to relax.', \"A quite open pla...</td>\n",
       "    </tr>\n",
       "    <tr>\n",
       "      <th>1</th>\n",
       "      <td>0</td>\n",
       "      <td>3423</td>\n",
       "      <td>0_park_nice_place_beautiful</td>\n",
       "      <td>[park, nice, place, beautiful, playground, gre...</td>\n",
       "      <td>[Nice park', Nice park', Nice park']</td>\n",
       "    </tr>\n",
       "    <tr>\n",
       "      <th>2</th>\n",
       "      <td>1</td>\n",
       "      <td>1135</td>\n",
       "      <td>1_berlin_park_visit_german</td>\n",
       "      <td>[berlin, park, visit, german, place, city, cat...</td>\n",
       "      <td>[If you're looking for a peaceful escape in th...</td>\n",
       "    </tr>\n",
       "    <tr>\n",
       "      <th>3</th>\n",
       "      <td>2</td>\n",
       "      <td>568</td>\n",
       "      <td>2_church_building_architecture_view</td>\n",
       "      <td>[church, building, architecture, view, beautif...</td>\n",
       "      <td>[Building , so beautiful', Beautiful building....</td>\n",
       "    </tr>\n",
       "    <tr>\n",
       "      <th>4</th>\n",
       "      <td>3</td>\n",
       "      <td>547</td>\n",
       "      <td>3_ok_good_nice_cool</td>\n",
       "      <td>[ok, good, nice, cool, beautiful, okay, gut, g...</td>\n",
       "      <td>[Everything OK', Ok', Ok ']</td>\n",
       "    </tr>\n",
       "    <tr>\n",
       "      <th>5</th>\n",
       "      <td>4</td>\n",
       "      <td>417</td>\n",
       "      <td>4_market_flea_saturday_clothes</td>\n",
       "      <td>[market, flea, saturday, clothes, sunday, stor...</td>\n",
       "      <td>[We visited the Boxhagener Platz for the Sunda...</td>\n",
       "    </tr>\n",
       "    <tr>\n",
       "      <th>6</th>\n",
       "      <td>5</td>\n",
       "      <td>390</td>\n",
       "      <td>5_memorial_war_cemetery_soviet</td>\n",
       "      <td>[memorial, war, cemetery, soviet, monument, hi...</td>\n",
       "      <td>[Just a stone throw distance away from the Bra...</td>\n",
       "    </tr>\n",
       "    <tr>\n",
       "      <th>7</th>\n",
       "      <td>6</td>\n",
       "      <td>363</td>\n",
       "      <td>6_station_subway_train_u3</td>\n",
       "      <td>[station, subway, train, u3, sbahn, u1, trains...</td>\n",
       "      <td>[Nice subway station ............................</td>\n",
       "    </tr>\n",
       "    <tr>\n",
       "      <th>8</th>\n",
       "      <td>7</td>\n",
       "      <td>280</td>\n",
       "      <td>7_service_whiskey_food_staff</td>\n",
       "      <td>[service, whiskey, food, staff, bar, cocktails...</td>\n",
       "      <td>[beautiful bar with absolutely delicious cockt...</td>\n",
       "    </tr>\n",
       "    <tr>\n",
       "      <th>9</th>\n",
       "      <td>8</td>\n",
       "      <td>203</td>\n",
       "      <td>8_garden_rose_tiergarten_roses</td>\n",
       "      <td>[garden, rose, tiergarten, roses, flowers, bea...</td>\n",
       "      <td>[The Rose Garden in Berlin's Tiergarten - An o...</td>\n",
       "    </tr>\n",
       "    <tr>\n",
       "      <th>10</th>\n",
       "      <td>9</td>\n",
       "      <td>180</td>\n",
       "      <td>9_route_walk_roller_autumnwinter</td>\n",
       "      <td>[route, walk, roller, autumnwinter, beginners,...</td>\n",
       "      <td>[Beautiful route for beginners with roller ska...</td>\n",
       "    </tr>\n",
       "    <tr>\n",
       "      <th>11</th>\n",
       "      <td>10</td>\n",
       "      <td>133</td>\n",
       "      <td>10_dirty_rubbish_clean_unfortunately</td>\n",
       "      <td>[dirty, rubbish, clean, unfortunately, littere...</td>\n",
       "      <td>[Unfortunately quite dirty .', Unfortunately o...</td>\n",
       "    </tr>\n",
       "    <tr>\n",
       "      <th>12</th>\n",
       "      <td>11</td>\n",
       "      <td>126</td>\n",
       "      <td>11_super_jetty_superb_mid</td>\n",
       "      <td>[super, jetty, superb, mid, mega, bvg, simply,...</td>\n",
       "      <td>[Super', Super', Super']</td>\n",
       "    </tr>\n",
       "    <tr>\n",
       "      <th>13</th>\n",
       "      <td>12</td>\n",
       "      <td>115</td>\n",
       "      <td>12_ne_non_erable_wound</td>\n",
       "      <td>[ne, non, erable, wound, trip, weather, ut, gu...</td>\n",
       "      <td>[Dobré místo', None ... ne, None, Dobré místo'...</td>\n",
       "    </tr>\n",
       "    <tr>\n",
       "      <th>14</th>\n",
       "      <td>13</td>\n",
       "      <td>107</td>\n",
       "      <td>13_kp_jk_google_chonen</td>\n",
       "      <td>[kp, jk, google, chonen, frank198219981991volu...</td>\n",
       "      <td>[Kp', 😀 you jk', Kp']</td>\n",
       "    </tr>\n",
       "    <tr>\n",
       "      <th>15</th>\n",
       "      <td>14</td>\n",
       "      <td>101</td>\n",
       "      <td>14_quiet_peaceful_nice_ieckiem</td>\n",
       "      <td>[quiet, peaceful, nice, ieckiem, spruced, plac...</td>\n",
       "      <td>[Nice and quiet', Nice, quiet place', Nice and...</td>\n",
       "    </tr>\n",
       "    <tr>\n",
       "      <th>16</th>\n",
       "      <td>15</td>\n",
       "      <td>98</td>\n",
       "      <td>15_una_di_il_che</td>\n",
       "      <td>[una, di, il, che, lugar, la, del, muy, en, que]</td>\n",
       "      <td>[Metto una stella perché meno non è possible.O...</td>\n",
       "    </tr>\n",
       "    <tr>\n",
       "      <th>17</th>\n",
       "      <td>16</td>\n",
       "      <td>93</td>\n",
       "      <td>16_youll_gardenmany_ruins_stopped</td>\n",
       "      <td>[youll, gardenmany, ruins, stopped, remember, ...</td>\n",
       "      <td>[Place for expansion and relaxation. Внутри ра...</td>\n",
       "    </tr>\n",
       "    <tr>\n",
       "      <th>18</th>\n",
       "      <td>17</td>\n",
       "      <td>86</td>\n",
       "      <td>17_thai_food_authentic_vietnamese</td>\n",
       "      <td>[thai, food, authentic, vietnamese, pad, thail...</td>\n",
       "      <td>[Where else you could eat delicious real Thai ...</td>\n",
       "    </tr>\n",
       "    <tr>\n",
       "      <th>19</th>\n",
       "      <td>18</td>\n",
       "      <td>77</td>\n",
       "      <td>18_parking_car_cyclists_garage</td>\n",
       "      <td>[parking, car, cyclists, garage, speeding, spa...</td>\n",
       "      <td>[Berlin lives from such open spaces. Beware of...</td>\n",
       "    </tr>\n",
       "    <tr>\n",
       "      <th>20</th>\n",
       "      <td>19</td>\n",
       "      <td>75</td>\n",
       "      <td>19_chill_chillig_spot_chillout</td>\n",
       "      <td>[chill, chillig, spot, chillout, totally, incl...</td>\n",
       "      <td>[Chill down', Chill out', Chill in F-Hain!😁']</td>\n",
       "    </tr>\n",
       "    <tr>\n",
       "      <th>21</th>\n",
       "      <td>20</td>\n",
       "      <td>74</td>\n",
       "      <td>20_interesting_historically_historical_history</td>\n",
       "      <td>[interesting, historically, historical, histor...</td>\n",
       "      <td>[Very interesting', Very Interesting.', Intere...</td>\n",
       "    </tr>\n",
       "    <tr>\n",
       "      <th>22</th>\n",
       "      <td>21</td>\n",
       "      <td>72</td>\n",
       "      <td>21_bir_bardzo_miejsce_na</td>\n",
       "      <td>[bir, bardzo, miejsce, na, iin, jest, tot, te,...</td>\n",
       "      <td>[Bardzo spokojne miejsce na wędrówki, albo pik...</td>\n",
       "    </tr>\n",
       "    <tr>\n",
       "      <th>23</th>\n",
       "      <td>22</td>\n",
       "      <td>65</td>\n",
       "      <td>22_urine_toilet_smell_toilets</td>\n",
       "      <td>[urine, toilet, smell, toilets, used, elevator...</td>\n",
       "      <td>[Actually very nice, also with a small playgro...</td>\n",
       "    </tr>\n",
       "    <tr>\n",
       "      <th>24</th>\n",
       "      <td>23</td>\n",
       "      <td>60</td>\n",
       "      <td>23_p3_koyim_amina_hilalspor</td>\n",
       "      <td>[p3, koyim, amina, hilalspor, hhe, gehrung, ch...</td>\n",
       "      <td>[Η λιτότητα της ξαφνιάζει. Παρακολούθησα στο ν...</td>\n",
       "    </tr>\n",
       "    <tr>\n",
       "      <th>25</th>\n",
       "      <td>24</td>\n",
       "      <td>56</td>\n",
       "      <td>24_pool_swimming_swim_clean</td>\n",
       "      <td>[pool, swimming, swim, clean, pools, water, ro...</td>\n",
       "      <td>[Love it. Very clean, clear swimming pool.', N...</td>\n",
       "    </tr>\n",
       "    <tr>\n",
       "      <th>26</th>\n",
       "      <td>25</td>\n",
       "      <td>54</td>\n",
       "      <td>25_drugs_drug_dealers_aggressive</td>\n",
       "      <td>[drugs, drug, dealers, aggressive, offered, da...</td>\n",
       "      <td>[Görlitzer park is really cool and amazing. My...</td>\n",
       "    </tr>\n",
       "    <tr>\n",
       "      <th>27</th>\n",
       "      <td>26</td>\n",
       "      <td>39</td>\n",
       "      <td>26_renovation_construction_sites_site</td>\n",
       "      <td>[renovation, construction, sites, site, nevere...</td>\n",
       "      <td>[A renovation would be good!', It's better aft...</td>\n",
       "    </tr>\n",
       "    <tr>\n",
       "      <th>28</th>\n",
       "      <td>27</td>\n",
       "      <td>35</td>\n",
       "      <td>27_closed_opening_open_website</td>\n",
       "      <td>[closed, opening, open, website, times, google...</td>\n",
       "      <td>[The opening times on the GLS website and on G...</td>\n",
       "    </tr>\n",
       "    <tr>\n",
       "      <th>29</th>\n",
       "      <td>28</td>\n",
       "      <td>31</td>\n",
       "      <td>28_benches_arround_clean_wasnt</td>\n",
       "      <td>[benches, arround, clean, wasnt, pm, website, ...</td>\n",
       "      <td>['Not very clean. But ok. 4 benches. And somet...</td>\n",
       "    </tr>\n",
       "    <tr>\n",
       "      <th>30</th>\n",
       "      <td>29</td>\n",
       "      <td>22</td>\n",
       "      <td>29_small_quite_nice_quiet</td>\n",
       "      <td>[small, quite, nice, quiet, walk, dog, newspap...</td>\n",
       "      <td>[Nice and small', Small but nice :-)', Small b...</td>\n",
       "    </tr>\n",
       "    <tr>\n",
       "      <th>31</th>\n",
       "      <td>30</td>\n",
       "      <td>22</td>\n",
       "      <td>30_boat_trip_embarkation_piers</td>\n",
       "      <td>[boat, trip, embarkation, piers, better, crowd...</td>\n",
       "      <td>[Boat trip embarkation location better than ot...</td>\n",
       "    </tr>\n",
       "    <tr>\n",
       "      <th>32</th>\n",
       "      <td>31</td>\n",
       "      <td>21</td>\n",
       "      <td>31_children_kids_impressed_kiddies</td>\n",
       "      <td>[children, kids, impressed, kiddies, adultos, ...</td>\n",
       "      <td>[It is very good for children.', It is very go...</td>\n",
       "    </tr>\n",
       "    <tr>\n",
       "      <th>33</th>\n",
       "      <td>32</td>\n",
       "      <td>20</td>\n",
       "      <td>32_lights_festival_key_low</td>\n",
       "      <td>[lights, festival, key, low, installation, lig...</td>\n",
       "      <td>[A low key location to see the festival of lig...</td>\n",
       "    </tr>\n",
       "    <tr>\n",
       "      <th>34</th>\n",
       "      <td>33</td>\n",
       "      <td>20</td>\n",
       "      <td>33_water_piece_houseboats_insider</td>\n",
       "      <td>[water, piece, houseboats, insider, tip, smell...</td>\n",
       "      <td>[Nice piece of water', Nice piece of water', N...</td>\n",
       "    </tr>\n",
       "    <tr>\n",
       "      <th>35</th>\n",
       "      <td>34</td>\n",
       "      <td>18</td>\n",
       "      <td>34_wall_gum_chewing_covered</td>\n",
       "      <td>[wall, gum, chewing, covered, remains, parts, ...</td>\n",
       "      <td>[The wall is covered with gum?????', The whole...</td>\n",
       "    </tr>\n",
       "    <tr>\n",
       "      <th>36</th>\n",
       "      <td>35</td>\n",
       "      <td>17</td>\n",
       "      <td>35_star_user_stars_dealer</td>\n",
       "      <td>[star, user, stars, dealer, zero, horrible, is...</td>\n",
       "      <td>[Not sure how anyone can give this park more t...</td>\n",
       "    </tr>\n",
       "    <tr>\n",
       "      <th>37</th>\n",
       "      <td>36</td>\n",
       "      <td>15</td>\n",
       "      <td>36_tennis_table_ping_pong</td>\n",
       "      <td>[tennis, table, ping, pong, colleague, session...</td>\n",
       "      <td>[Table tennis football basketball', This is my...</td>\n",
       "    </tr>\n",
       "    <tr>\n",
       "      <th>38</th>\n",
       "      <td>37</td>\n",
       "      <td>15</td>\n",
       "      <td>37_special_hotel_created_said</td>\n",
       "      <td>[special, hotel, created, said, ppl, expects, ...</td>\n",
       "      <td>[Nothing special here.', Nothing special.', No...</td>\n",
       "    </tr>\n",
       "    <tr>\n",
       "      <th>39</th>\n",
       "      <td>38</td>\n",
       "      <td>15</td>\n",
       "      <td>38_space_open_middle_city</td>\n",
       "      <td>[space, open, middle, city, eyecatcher, practi...</td>\n",
       "      <td>[Once again an open space in the middle of the...</td>\n",
       "    </tr>\n",
       "    <tr>\n",
       "      <th>40</th>\n",
       "      <td>39</td>\n",
       "      <td>14</td>\n",
       "      <td>39_train_arrivewe_clues_magnetic</td>\n",
       "      <td>[train, arrivewe, clues, magnetic, lanke, krum...</td>\n",
       "      <td>[No clues, the track is correct but the train ...</td>\n",
       "    </tr>\n",
       "    <tr>\n",
       "      <th>41</th>\n",
       "      <td>40</td>\n",
       "      <td>13</td>\n",
       "      <td>40_connection_subway_directions_good</td>\n",
       "      <td>[connection, subway, directions, good, lottery...</td>\n",
       "      <td>[Very good connection to the subway', Very goo...</td>\n",
       "    </tr>\n",
       "    <tr>\n",
       "      <th>42</th>\n",
       "      <td>41</td>\n",
       "      <td>13</td>\n",
       "      <td>41_bridge_bridges_overcome_yep</td>\n",
       "      <td>[bridge, bridges, overcome, yep, lows, cke, ob...</td>\n",
       "      <td>[You can enjoy a very beautiful view from this...</td>\n",
       "    </tr>\n",
       "    <tr>\n",
       "      <th>43</th>\n",
       "      <td>42</td>\n",
       "      <td>12</td>\n",
       "      <td>42_fireworks_party_vip_bars</td>\n",
       "      <td>[fireworks, party, vip, bars, music, sound, wo...</td>\n",
       "      <td>[Dear organizers,The party did not correspond ...</td>\n",
       "    </tr>\n",
       "    <tr>\n",
       "      <th>44</th>\n",
       "      <td>43</td>\n",
       "      <td>12</td>\n",
       "      <td>43_touristswhy_drunken_doing_summer</td>\n",
       "      <td>[touristswhy, drunken, doing, summer, uit, dru...</td>\n",
       "      <td>[In summer it is always full of drunken touris...</td>\n",
       "    </tr>\n",
       "    <tr>\n",
       "      <th>45</th>\n",
       "      <td>44</td>\n",
       "      <td>11</td>\n",
       "      <td>44_normal_standard_ahhh_usual</td>\n",
       "      <td>[normal, standard, ahhh, usual, classic, priva...</td>\n",
       "      <td>[Normal', Normal', Normal']</td>\n",
       "    </tr>\n",
       "    <tr>\n",
       "      <th>46</th>\n",
       "      <td>45</td>\n",
       "      <td>11</td>\n",
       "      <td>45_mega_relaxing_cool_</td>\n",
       "      <td>[mega, relaxing, cool, , , , , , , ]</td>\n",
       "      <td>[Very cool ! Mega relaxing!', Very cool ! Mega...</td>\n",
       "    </tr>\n",
       "    <tr>\n",
       "      <th>47</th>\n",
       "      <td>46</td>\n",
       "      <td>11</td>\n",
       "      <td>46_transfer_station_known_ive</td>\n",
       "      <td>[transfer, station, known, ive, account, optio...</td>\n",
       "      <td>[Transfer station', None, None, None, None, No...</td>\n",
       "    </tr>\n",
       "    <tr>\n",
       "      <th>48</th>\n",
       "      <td>47</td>\n",
       "      <td>11</td>\n",
       "      <td>47_path_panke_channel_misleading</td>\n",
       "      <td>[path, panke, channel, misleading, flows, domi...</td>\n",
       "      <td>[A - still - well-maintained, fairly new path ...</td>\n",
       "    </tr>\n",
       "    <tr>\n",
       "      <th>49</th>\n",
       "      <td>48</td>\n",
       "      <td>10</td>\n",
       "      <td>48_eye_clinic_doctor_dr</td>\n",
       "      <td>[eye, clinic, doctor, dr, tetz, checkup, glauc...</td>\n",
       "      <td>[The eye clinic was super, incredibly nice and...</td>\n",
       "    </tr>\n",
       "  </tbody>\n",
       "</table>\n",
       "</div>"
      ],
      "text/plain": [
       "    Topic  Count                                            Name  \\\n",
       "0      -1   4499                       -1_park_place_nice_berlin   \n",
       "1       0   3423                     0_park_nice_place_beautiful   \n",
       "2       1   1135                      1_berlin_park_visit_german   \n",
       "3       2    568             2_church_building_architecture_view   \n",
       "4       3    547                             3_ok_good_nice_cool   \n",
       "5       4    417                  4_market_flea_saturday_clothes   \n",
       "6       5    390                  5_memorial_war_cemetery_soviet   \n",
       "7       6    363                       6_station_subway_train_u3   \n",
       "8       7    280                    7_service_whiskey_food_staff   \n",
       "9       8    203                  8_garden_rose_tiergarten_roses   \n",
       "10      9    180                9_route_walk_roller_autumnwinter   \n",
       "11     10    133            10_dirty_rubbish_clean_unfortunately   \n",
       "12     11    126                       11_super_jetty_superb_mid   \n",
       "13     12    115                          12_ne_non_erable_wound   \n",
       "14     13    107                          13_kp_jk_google_chonen   \n",
       "15     14    101                  14_quiet_peaceful_nice_ieckiem   \n",
       "16     15     98                                15_una_di_il_che   \n",
       "17     16     93               16_youll_gardenmany_ruins_stopped   \n",
       "18     17     86               17_thai_food_authentic_vietnamese   \n",
       "19     18     77                  18_parking_car_cyclists_garage   \n",
       "20     19     75                  19_chill_chillig_spot_chillout   \n",
       "21     20     74  20_interesting_historically_historical_history   \n",
       "22     21     72                        21_bir_bardzo_miejsce_na   \n",
       "23     22     65                   22_urine_toilet_smell_toilets   \n",
       "24     23     60                     23_p3_koyim_amina_hilalspor   \n",
       "25     24     56                     24_pool_swimming_swim_clean   \n",
       "26     25     54                25_drugs_drug_dealers_aggressive   \n",
       "27     26     39           26_renovation_construction_sites_site   \n",
       "28     27     35                  27_closed_opening_open_website   \n",
       "29     28     31                  28_benches_arround_clean_wasnt   \n",
       "30     29     22                       29_small_quite_nice_quiet   \n",
       "31     30     22                  30_boat_trip_embarkation_piers   \n",
       "32     31     21              31_children_kids_impressed_kiddies   \n",
       "33     32     20                      32_lights_festival_key_low   \n",
       "34     33     20               33_water_piece_houseboats_insider   \n",
       "35     34     18                     34_wall_gum_chewing_covered   \n",
       "36     35     17                       35_star_user_stars_dealer   \n",
       "37     36     15                       36_tennis_table_ping_pong   \n",
       "38     37     15                   37_special_hotel_created_said   \n",
       "39     38     15                       38_space_open_middle_city   \n",
       "40     39     14                39_train_arrivewe_clues_magnetic   \n",
       "41     40     13            40_connection_subway_directions_good   \n",
       "42     41     13                  41_bridge_bridges_overcome_yep   \n",
       "43     42     12                     42_fireworks_party_vip_bars   \n",
       "44     43     12             43_touristswhy_drunken_doing_summer   \n",
       "45     44     11                   44_normal_standard_ahhh_usual   \n",
       "46     45     11                          45_mega_relaxing_cool_   \n",
       "47     46     11                   46_transfer_station_known_ive   \n",
       "48     47     11                47_path_panke_channel_misleading   \n",
       "49     48     10                         48_eye_clinic_doctor_dr   \n",
       "\n",
       "                                       Representation  \\\n",
       "0   [park, place, nice, berlin, great, good, peopl...   \n",
       "1   [park, nice, place, beautiful, playground, gre...   \n",
       "2   [berlin, park, visit, german, place, city, cat...   \n",
       "3   [church, building, architecture, view, beautif...   \n",
       "4   [ok, good, nice, cool, beautiful, okay, gut, g...   \n",
       "5   [market, flea, saturday, clothes, sunday, stor...   \n",
       "6   [memorial, war, cemetery, soviet, monument, hi...   \n",
       "7   [station, subway, train, u3, sbahn, u1, trains...   \n",
       "8   [service, whiskey, food, staff, bar, cocktails...   \n",
       "9   [garden, rose, tiergarten, roses, flowers, bea...   \n",
       "10  [route, walk, roller, autumnwinter, beginners,...   \n",
       "11  [dirty, rubbish, clean, unfortunately, littere...   \n",
       "12  [super, jetty, superb, mid, mega, bvg, simply,...   \n",
       "13  [ne, non, erable, wound, trip, weather, ut, gu...   \n",
       "14  [kp, jk, google, chonen, frank198219981991volu...   \n",
       "15  [quiet, peaceful, nice, ieckiem, spruced, plac...   \n",
       "16   [una, di, il, che, lugar, la, del, muy, en, que]   \n",
       "17  [youll, gardenmany, ruins, stopped, remember, ...   \n",
       "18  [thai, food, authentic, vietnamese, pad, thail...   \n",
       "19  [parking, car, cyclists, garage, speeding, spa...   \n",
       "20  [chill, chillig, spot, chillout, totally, incl...   \n",
       "21  [interesting, historically, historical, histor...   \n",
       "22  [bir, bardzo, miejsce, na, iin, jest, tot, te,...   \n",
       "23  [urine, toilet, smell, toilets, used, elevator...   \n",
       "24  [p3, koyim, amina, hilalspor, hhe, gehrung, ch...   \n",
       "25  [pool, swimming, swim, clean, pools, water, ro...   \n",
       "26  [drugs, drug, dealers, aggressive, offered, da...   \n",
       "27  [renovation, construction, sites, site, nevere...   \n",
       "28  [closed, opening, open, website, times, google...   \n",
       "29  [benches, arround, clean, wasnt, pm, website, ...   \n",
       "30  [small, quite, nice, quiet, walk, dog, newspap...   \n",
       "31  [boat, trip, embarkation, piers, better, crowd...   \n",
       "32  [children, kids, impressed, kiddies, adultos, ...   \n",
       "33  [lights, festival, key, low, installation, lig...   \n",
       "34  [water, piece, houseboats, insider, tip, smell...   \n",
       "35  [wall, gum, chewing, covered, remains, parts, ...   \n",
       "36  [star, user, stars, dealer, zero, horrible, is...   \n",
       "37  [tennis, table, ping, pong, colleague, session...   \n",
       "38  [special, hotel, created, said, ppl, expects, ...   \n",
       "39  [space, open, middle, city, eyecatcher, practi...   \n",
       "40  [train, arrivewe, clues, magnetic, lanke, krum...   \n",
       "41  [connection, subway, directions, good, lottery...   \n",
       "42  [bridge, bridges, overcome, yep, lows, cke, ob...   \n",
       "43  [fireworks, party, vip, bars, music, sound, wo...   \n",
       "44  [touristswhy, drunken, doing, summer, uit, dru...   \n",
       "45  [normal, standard, ahhh, usual, classic, priva...   \n",
       "46               [mega, relaxing, cool, , , , , , , ]   \n",
       "47  [transfer, station, known, ive, account, optio...   \n",
       "48  [path, panke, channel, misleading, flows, domi...   \n",
       "49  [eye, clinic, doctor, dr, tetz, checkup, glauc...   \n",
       "\n",
       "                                  Representative_Docs  \n",
       "0   [very nice place to relax.', \"A quite open pla...  \n",
       "1                [Nice park', Nice park', Nice park']  \n",
       "2   [If you're looking for a peaceful escape in th...  \n",
       "3   [Building , so beautiful', Beautiful building....  \n",
       "4                         [Everything OK', Ok', Ok ']  \n",
       "5   [We visited the Boxhagener Platz for the Sunda...  \n",
       "6   [Just a stone throw distance away from the Bra...  \n",
       "7   [Nice subway station ............................  \n",
       "8   [beautiful bar with absolutely delicious cockt...  \n",
       "9   [The Rose Garden in Berlin's Tiergarten - An o...  \n",
       "10  [Beautiful route for beginners with roller ska...  \n",
       "11  [Unfortunately quite dirty .', Unfortunately o...  \n",
       "12                           [Super', Super', Super']  \n",
       "13  [Dobré místo', None ... ne, None, Dobré místo'...  \n",
       "14                              [Kp', 😀 you jk', Kp']  \n",
       "15  [Nice and quiet', Nice, quiet place', Nice and...  \n",
       "16  [Metto una stella perché meno non è possible.O...  \n",
       "17  [Place for expansion and relaxation. Внутри ра...  \n",
       "18  [Where else you could eat delicious real Thai ...  \n",
       "19  [Berlin lives from such open spaces. Beware of...  \n",
       "20      [Chill down', Chill out', Chill in F-Hain!😁']  \n",
       "21  [Very interesting', Very Interesting.', Intere...  \n",
       "22  [Bardzo spokojne miejsce na wędrówki, albo pik...  \n",
       "23  [Actually very nice, also with a small playgro...  \n",
       "24  [Η λιτότητα της ξαφνιάζει. Παρακολούθησα στο ν...  \n",
       "25  [Love it. Very clean, clear swimming pool.', N...  \n",
       "26  [Görlitzer park is really cool and amazing. My...  \n",
       "27  [A renovation would be good!', It's better aft...  \n",
       "28  [The opening times on the GLS website and on G...  \n",
       "29  ['Not very clean. But ok. 4 benches. And somet...  \n",
       "30  [Nice and small', Small but nice :-)', Small b...  \n",
       "31  [Boat trip embarkation location better than ot...  \n",
       "32  [It is very good for children.', It is very go...  \n",
       "33  [A low key location to see the festival of lig...  \n",
       "34  [Nice piece of water', Nice piece of water', N...  \n",
       "35  [The wall is covered with gum?????', The whole...  \n",
       "36  [Not sure how anyone can give this park more t...  \n",
       "37  [Table tennis football basketball', This is my...  \n",
       "38  [Nothing special here.', Nothing special.', No...  \n",
       "39  [Once again an open space in the middle of the...  \n",
       "40  [No clues, the track is correct but the train ...  \n",
       "41  [Very good connection to the subway', Very goo...  \n",
       "42  [You can enjoy a very beautiful view from this...  \n",
       "43  [Dear organizers,The party did not correspond ...  \n",
       "44  [In summer it is always full of drunken touris...  \n",
       "45                        [Normal', Normal', Normal']  \n",
       "46  [Very cool ! Mega relaxing!', Very cool ! Mega...  \n",
       "47  [Transfer station', None, None, None, None, No...  \n",
       "48  [A - still - well-maintained, fairly new path ...  \n",
       "49  [The eye clinic was super, incredibly nice and...  "
      ]
     },
     "execution_count": 141,
     "metadata": {},
     "output_type": "execute_result"
    }
   ],
   "source": [
    "topic_model.get_topic_info()"
   ]
  },
  {
   "cell_type": "code",
   "execution_count": 142,
   "metadata": {},
   "outputs": [],
   "source": [
    "topic_df = topic_model.get_document_info(docs)"
   ]
  },
  {
   "cell_type": "code",
   "execution_count": 143,
   "metadata": {},
   "outputs": [
    {
     "data": {
      "text/html": [
       "<div>\n",
       "<style scoped>\n",
       "    .dataframe tbody tr th:only-of-type {\n",
       "        vertical-align: middle;\n",
       "    }\n",
       "\n",
       "    .dataframe tbody tr th {\n",
       "        vertical-align: top;\n",
       "    }\n",
       "\n",
       "    .dataframe thead th {\n",
       "        text-align: right;\n",
       "    }\n",
       "</style>\n",
       "<table border=\"1\" class=\"dataframe\">\n",
       "  <thead>\n",
       "    <tr style=\"text-align: right;\">\n",
       "      <th></th>\n",
       "      <th>Document</th>\n",
       "      <th>Topic</th>\n",
       "      <th>Name</th>\n",
       "      <th>Representation</th>\n",
       "      <th>Representative_Docs</th>\n",
       "      <th>Top_n_words</th>\n",
       "      <th>Probability</th>\n",
       "      <th>Representative_document</th>\n",
       "    </tr>\n",
       "  </thead>\n",
       "  <tbody>\n",
       "    <tr>\n",
       "      <th>116</th>\n",
       "      <td>Good and clean'</td>\n",
       "      <td>10</td>\n",
       "      <td>10_dirty_rubbish_clean_unfortunately</td>\n",
       "      <td>[dirty, rubbish, clean, unfortunately, littere...</td>\n",
       "      <td>[Unfortunately quite dirty .', Unfortunately o...</td>\n",
       "      <td>dirty - rubbish - clean - unfortunately - litt...</td>\n",
       "      <td>1.000000</td>\n",
       "      <td>False</td>\n",
       "    </tr>\n",
       "    <tr>\n",
       "      <th>353</th>\n",
       "      <td>Unfortunately not very clean Platz!'</td>\n",
       "      <td>10</td>\n",
       "      <td>10_dirty_rubbish_clean_unfortunately</td>\n",
       "      <td>[dirty, rubbish, clean, unfortunately, littere...</td>\n",
       "      <td>[Unfortunately quite dirty .', Unfortunately o...</td>\n",
       "      <td>dirty - rubbish - clean - unfortunately - litt...</td>\n",
       "      <td>0.370921</td>\n",
       "      <td>False</td>\n",
       "    </tr>\n",
       "    <tr>\n",
       "      <th>832</th>\n",
       "      <td>Unfortunately it is very dirty in the mornings...</td>\n",
       "      <td>10</td>\n",
       "      <td>10_dirty_rubbish_clean_unfortunately</td>\n",
       "      <td>[dirty, rubbish, clean, unfortunately, littere...</td>\n",
       "      <td>[Unfortunately quite dirty .', Unfortunately o...</td>\n",
       "      <td>dirty - rubbish - clean - unfortunately - litt...</td>\n",
       "      <td>0.207275</td>\n",
       "      <td>False</td>\n",
       "    </tr>\n",
       "    <tr>\n",
       "      <th>852</th>\n",
       "      <td>A bit of a lot of weed but nice.'</td>\n",
       "      <td>10</td>\n",
       "      <td>10_dirty_rubbish_clean_unfortunately</td>\n",
       "      <td>[dirty, rubbish, clean, unfortunately, littere...</td>\n",
       "      <td>[Unfortunately quite dirty .', Unfortunately o...</td>\n",
       "      <td>dirty - rubbish - clean - unfortunately - litt...</td>\n",
       "      <td>1.000000</td>\n",
       "      <td>False</td>\n",
       "    </tr>\n",
       "    <tr>\n",
       "      <th>912</th>\n",
       "      <td>Unfortunately not very clean Platz!'</td>\n",
       "      <td>10</td>\n",
       "      <td>10_dirty_rubbish_clean_unfortunately</td>\n",
       "      <td>[dirty, rubbish, clean, unfortunately, littere...</td>\n",
       "      <td>[Unfortunately quite dirty .', Unfortunately o...</td>\n",
       "      <td>dirty - rubbish - clean - unfortunately - litt...</td>\n",
       "      <td>0.481770</td>\n",
       "      <td>False</td>\n",
       "    </tr>\n",
       "    <tr>\n",
       "      <th>...</th>\n",
       "      <td>...</td>\n",
       "      <td>...</td>\n",
       "      <td>...</td>\n",
       "      <td>...</td>\n",
       "      <td>...</td>\n",
       "      <td>...</td>\n",
       "      <td>...</td>\n",
       "      <td>...</td>\n",
       "    </tr>\n",
       "    <tr>\n",
       "      <th>12853</th>\n",
       "      <td>Unfortunately often dirty. But good for a quic...</td>\n",
       "      <td>10</td>\n",
       "      <td>10_dirty_rubbish_clean_unfortunately</td>\n",
       "      <td>[dirty, rubbish, clean, unfortunately, littere...</td>\n",
       "      <td>[Unfortunately quite dirty .', Unfortunately o...</td>\n",
       "      <td>dirty - rubbish - clean - unfortunately - litt...</td>\n",
       "      <td>0.252377</td>\n",
       "      <td>False</td>\n",
       "    </tr>\n",
       "    <tr>\n",
       "      <th>13032</th>\n",
       "      <td>Unfortunately not very clean Platz!'</td>\n",
       "      <td>10</td>\n",
       "      <td>10_dirty_rubbish_clean_unfortunately</td>\n",
       "      <td>[dirty, rubbish, clean, unfortunately, littere...</td>\n",
       "      <td>[Unfortunately quite dirty .', Unfortunately o...</td>\n",
       "      <td>dirty - rubbish - clean - unfortunately - litt...</td>\n",
       "      <td>0.505667</td>\n",
       "      <td>False</td>\n",
       "    </tr>\n",
       "    <tr>\n",
       "      <th>13062</th>\n",
       "      <td>Clean'</td>\n",
       "      <td>10</td>\n",
       "      <td>10_dirty_rubbish_clean_unfortunately</td>\n",
       "      <td>[dirty, rubbish, clean, unfortunately, littere...</td>\n",
       "      <td>[Unfortunately quite dirty .', Unfortunately o...</td>\n",
       "      <td>dirty - rubbish - clean - unfortunately - litt...</td>\n",
       "      <td>0.310505</td>\n",
       "      <td>False</td>\n",
       "    </tr>\n",
       "    <tr>\n",
       "      <th>13460</th>\n",
       "      <td>Sick spot 👌'</td>\n",
       "      <td>10</td>\n",
       "      <td>10_dirty_rubbish_clean_unfortunately</td>\n",
       "      <td>[dirty, rubbish, clean, unfortunately, littere...</td>\n",
       "      <td>[Unfortunately quite dirty .', Unfortunately o...</td>\n",
       "      <td>dirty - rubbish - clean - unfortunately - litt...</td>\n",
       "      <td>0.235130</td>\n",
       "      <td>False</td>\n",
       "    </tr>\n",
       "    <tr>\n",
       "      <th>13500</th>\n",
       "      <td>clear and sterile, that's how I like it'</td>\n",
       "      <td>10</td>\n",
       "      <td>10_dirty_rubbish_clean_unfortunately</td>\n",
       "      <td>[dirty, rubbish, clean, unfortunately, littere...</td>\n",
       "      <td>[Unfortunately quite dirty .', Unfortunately o...</td>\n",
       "      <td>dirty - rubbish - clean - unfortunately - litt...</td>\n",
       "      <td>0.292807</td>\n",
       "      <td>False</td>\n",
       "    </tr>\n",
       "  </tbody>\n",
       "</table>\n",
       "<p>133 rows × 8 columns</p>\n",
       "</div>"
      ],
      "text/plain": [
       "                                                Document  Topic  \\\n",
       "116                                      Good and clean'     10   \n",
       "353                 Unfortunately not very clean Platz!'     10   \n",
       "832    Unfortunately it is very dirty in the mornings...     10   \n",
       "852                    A bit of a lot of weed but nice.'     10   \n",
       "912                 Unfortunately not very clean Platz!'     10   \n",
       "...                                                  ...    ...   \n",
       "12853  Unfortunately often dirty. But good for a quic...     10   \n",
       "13032               Unfortunately not very clean Platz!'     10   \n",
       "13062                                             Clean'     10   \n",
       "13460                                       Sick spot 👌'     10   \n",
       "13500           clear and sterile, that's how I like it'     10   \n",
       "\n",
       "                                       Name  \\\n",
       "116    10_dirty_rubbish_clean_unfortunately   \n",
       "353    10_dirty_rubbish_clean_unfortunately   \n",
       "832    10_dirty_rubbish_clean_unfortunately   \n",
       "852    10_dirty_rubbish_clean_unfortunately   \n",
       "912    10_dirty_rubbish_clean_unfortunately   \n",
       "...                                     ...   \n",
       "12853  10_dirty_rubbish_clean_unfortunately   \n",
       "13032  10_dirty_rubbish_clean_unfortunately   \n",
       "13062  10_dirty_rubbish_clean_unfortunately   \n",
       "13460  10_dirty_rubbish_clean_unfortunately   \n",
       "13500  10_dirty_rubbish_clean_unfortunately   \n",
       "\n",
       "                                          Representation  \\\n",
       "116    [dirty, rubbish, clean, unfortunately, littere...   \n",
       "353    [dirty, rubbish, clean, unfortunately, littere...   \n",
       "832    [dirty, rubbish, clean, unfortunately, littere...   \n",
       "852    [dirty, rubbish, clean, unfortunately, littere...   \n",
       "912    [dirty, rubbish, clean, unfortunately, littere...   \n",
       "...                                                  ...   \n",
       "12853  [dirty, rubbish, clean, unfortunately, littere...   \n",
       "13032  [dirty, rubbish, clean, unfortunately, littere...   \n",
       "13062  [dirty, rubbish, clean, unfortunately, littere...   \n",
       "13460  [dirty, rubbish, clean, unfortunately, littere...   \n",
       "13500  [dirty, rubbish, clean, unfortunately, littere...   \n",
       "\n",
       "                                     Representative_Docs  \\\n",
       "116    [Unfortunately quite dirty .', Unfortunately o...   \n",
       "353    [Unfortunately quite dirty .', Unfortunately o...   \n",
       "832    [Unfortunately quite dirty .', Unfortunately o...   \n",
       "852    [Unfortunately quite dirty .', Unfortunately o...   \n",
       "912    [Unfortunately quite dirty .', Unfortunately o...   \n",
       "...                                                  ...   \n",
       "12853  [Unfortunately quite dirty .', Unfortunately o...   \n",
       "13032  [Unfortunately quite dirty .', Unfortunately o...   \n",
       "13062  [Unfortunately quite dirty .', Unfortunately o...   \n",
       "13460  [Unfortunately quite dirty .', Unfortunately o...   \n",
       "13500  [Unfortunately quite dirty .', Unfortunately o...   \n",
       "\n",
       "                                             Top_n_words  Probability  \\\n",
       "116    dirty - rubbish - clean - unfortunately - litt...     1.000000   \n",
       "353    dirty - rubbish - clean - unfortunately - litt...     0.370921   \n",
       "832    dirty - rubbish - clean - unfortunately - litt...     0.207275   \n",
       "852    dirty - rubbish - clean - unfortunately - litt...     1.000000   \n",
       "912    dirty - rubbish - clean - unfortunately - litt...     0.481770   \n",
       "...                                                  ...          ...   \n",
       "12853  dirty - rubbish - clean - unfortunately - litt...     0.252377   \n",
       "13032  dirty - rubbish - clean - unfortunately - litt...     0.505667   \n",
       "13062  dirty - rubbish - clean - unfortunately - litt...     0.310505   \n",
       "13460  dirty - rubbish - clean - unfortunately - litt...     0.235130   \n",
       "13500  dirty - rubbish - clean - unfortunately - litt...     0.292807   \n",
       "\n",
       "       Representative_document  \n",
       "116                      False  \n",
       "353                      False  \n",
       "832                      False  \n",
       "852                      False  \n",
       "912                      False  \n",
       "...                        ...  \n",
       "12853                    False  \n",
       "13032                    False  \n",
       "13062                    False  \n",
       "13460                    False  \n",
       "13500                    False  \n",
       "\n",
       "[133 rows x 8 columns]"
      ]
     },
     "execution_count": 143,
     "metadata": {},
     "output_type": "execute_result"
    }
   ],
   "source": [
    "topic_df = topic_df[topic_df.Topic == 10]\n",
    "topic_df"
   ]
  },
  {
   "cell_type": "markdown",
   "metadata": {},
   "source": [
    "### Multiple Representations "
   ]
  },
  {
   "cell_type": "code",
   "execution_count": 73,
   "metadata": {},
   "outputs": [],
   "source": [
    "main_representation = KeyBERTInspired()\n",
    "\n",
    "aspect_model1 = PartOfSpeech(\"en_core_web_sm\")\n",
    "aspect_model2 = [KeyBERTInspired(top_n_words=30), MaximalMarginalRelevance(diversity=.5)]\n",
    "\n",
    "representation_model = {\n",
    "   \"Main\": main_representation,\n",
    "   \"Aspect1\":  aspect_model1,\n",
    "   \"Aspect2\":  aspect_model2 \n",
    "}"
   ]
  },
  {
   "cell_type": "code",
   "execution_count": 77,
   "metadata": {},
   "outputs": [],
   "source": [
    "topic_model = BERTopic(representation_model=representation_model, calculate_probabilities=True, nr_topics=50)"
   ]
  },
  {
   "cell_type": "code",
   "execution_count": 78,
   "metadata": {},
   "outputs": [],
   "source": [
    "topic_model = topic_model.fit(docs)"
   ]
  },
  {
   "cell_type": "code",
   "execution_count": 79,
   "metadata": {},
   "outputs": [
    {
     "data": {
      "application/vnd.plotly.v1+json": {
       "config": {
        "plotlyServerURL": "https://plot.ly"
       },
       "data": [
        {
         "marker": {
          "color": "#D55E00"
         },
         "orientation": "h",
         "type": "bar",
         "x": [
          0.3187479078769684,
          0.33069443702697754,
          0.33951351046562195,
          0.3637803792953491,
          0.37325334548950195,
          0.3744804263114929,
          0.3900599777698517,
          0.4208105504512787,
          0.42327386140823364,
          0.5605130195617676
         ],
         "xaxis": "x",
         "y": [
          "pond  ",
          "area  ",
          "promenade  ",
          "places  ",
          "place  ",
          "playground  ",
          "picnic  ",
          "parking  ",
          "playgrounds  ",
          "park  "
         ],
         "yaxis": "y"
        },
        {
         "marker": {
          "color": "#0072B2"
         },
         "orientation": "h",
         "type": "bar",
         "x": [
          0.23684382438659668,
          0.24354740977287292,
          0.2548052668571472,
          0.27464595437049866,
          0.3057234287261963,
          0.3140047490596771,
          0.33023059368133545,
          0.3419297933578491,
          0.390903115272522,
          0.546617865562439
         ],
         "xaxis": "x2",
         "y": [
          "building  ",
          "place  ",
          "tiergarten  ",
          "city  ",
          "parks  ",
          "visit  ",
          "cathedral  ",
          "park  ",
          "zoo  ",
          "berlin  "
         ],
         "yaxis": "y2"
        },
        {
         "marker": {
          "color": "#CC79A7"
         },
         "orientation": "h",
         "type": "bar",
         "x": [
          0.3186720609664917,
          0.3247595429420471,
          0.3482283353805542,
          0.35848450660705566,
          0.3688693642616272,
          0.37046799063682556,
          0.41270822286605835,
          0.45678281784057617,
          0.46570611000061035,
          0.5515929460525513
         ],
         "xaxis": "x3",
         "y": [
          "street  ",
          "cozy  ",
          "great  ",
          "very  ",
          "beautiful  ",
          "neighborhood  ",
          "city  ",
          "visit  ",
          "location  ",
          "place  "
         ],
         "yaxis": "y3"
        },
        {
         "marker": {
          "color": "#E69F00"
         },
         "orientation": "h",
         "type": "bar",
         "x": [
          0.3028586208820343,
          0.31326091289520264,
          0.3175307512283325,
          0.32897159457206726,
          0.351438045501709,
          0.35604244470596313,
          0.4218805134296417,
          0.4273838400840759,
          0.43722715973854065,
          0.5104718208312988
         ],
         "xaxis": "x4",
         "y": [
          "tribute  ",
          "1945  ",
          "statue  ",
          "soviet  ",
          "cemetery  ",
          "brandenburg  ",
          "berlins  ",
          "monument  ",
          "berlin  ",
          "memorial  "
         ],
         "yaxis": "y4"
        },
        {
         "marker": {
          "color": "#56B4E9"
         },
         "orientation": "h",
         "type": "bar",
         "x": [
          0.34177806973457336,
          0.35195934772491455,
          0.3539848327636719,
          0.3547095060348511,
          0.35902082920074463,
          0.3842145800590515,
          0.3842950761318207,
          0.39397239685058594,
          0.4165717363357544,
          0.541709840297699
         ],
         "xaxis": "x5",
         "y": [
          "grill  ",
          "unfriendly  ",
          "drinks  ",
          "service  ",
          "served  ",
          "staff  ",
          "barbecue  ",
          "friendly  ",
          "food  ",
          "restaurant  "
         ],
         "yaxis": "y5"
        },
        {
         "marker": {
          "color": "#009E73"
         },
         "orientation": "h",
         "type": "bar",
         "x": [
          0.4498247504234314,
          0.4518893361091614,
          0.4919155538082123,
          0.493910014629364,
          0.5102329254150391,
          0.5794049501419067,
          0.5872798562049866,
          0.6090166568756104,
          0.6212302446365356,
          0.6457298994064331
         ],
         "xaxis": "x6",
         "y": [
          "best  ",
          "bad  ",
          "positively  ",
          "amazing  ",
          "exquisite  ",
          "wonderful  ",
          "fantastic  ",
          "very  ",
          "great  ",
          "good  "
         ],
         "yaxis": "y6"
        },
        {
         "marker": {
          "color": "#F0E442"
         },
         "orientation": "h",
         "type": "bar",
         "x": [
          0.414348304271698,
          0.44324254989624023,
          0.44851791858673096,
          0.4501796364784241,
          0.45653536915779114,
          0.47987401485443115,
          0.5230029821395874,
          0.5378843545913696,
          0.5863194465637207,
          0.6688395142555237
         ],
         "xaxis": "x7",
         "y": [
          "elevator  ",
          "metro  ",
          "underground  ",
          "trains  ",
          "bahn  ",
          "railway  ",
          "berlin  ",
          "stations  ",
          "station  ",
          "subway  "
         ],
         "yaxis": "y7"
        },
        {
         "marker": {
          "color": "#D55E00"
         },
         "orientation": "h",
         "type": "bar",
         "x": [
          0.34121203422546387,
          0.34679269790649414,
          0.3497177064418793,
          0.3540363013744354,
          0.37977492809295654,
          0.3996492922306061,
          0.4093990623950958,
          0.44318893551826477,
          0.6368353366851807,
          0.6496810913085938
         ],
         "xaxis": "x8",
         "y": [
          "plants  ",
          "place  ",
          "visit  ",
          "beautifully  ",
          "lovely  ",
          "park  ",
          "flower  ",
          "flowers  ",
          "garden  ",
          "gardens  "
         ],
         "yaxis": "y8"
        },
        {
         "marker": {
          "color": "#0072B2"
         },
         "orientation": "h",
         "type": "bar",
         "x": [
          0.26702484488487244,
          0.27085769176483154,
          0.2805131673812866,
          0.29896923899650574,
          0.30945897102355957,
          0.30995702743530273,
          0.31434229016304016,
          0.39785048365592957,
          0.4200732409954071,
          0.4544210135936737
         ],
         "xaxis": "x9",
         "y": [
          "prices  ",
          "street  ",
          "clothing  ",
          "vendors  ",
          "goods  ",
          "place  ",
          "store  ",
          "market  ",
          "flea  ",
          "shop  "
         ],
         "yaxis": "y9"
        },
        {
         "marker": {
          "color": "#CC79A7"
         },
         "orientation": "h",
         "type": "bar",
         "x": [
          0.3734332025051117,
          0.38370615243911743,
          0.3906596899032593,
          0.423858642578125,
          0.43693673610687256,
          0.5207176208496094,
          0.527768611907959,
          0.5740295648574829,
          0.6042025685310364,
          0.8844590187072754
         ],
         "xaxis": "x10",
         "y": [
          "fab  ",
          "fam  ",
          "epic  ",
          "top  ",
          "mega  ",
          "suha  ",
          "supe  ",
          "superb  ",
          "superbo  ",
          "super  "
         ],
         "yaxis": "y10"
        },
        {
         "marker": {
          "color": "#E69F00"
         },
         "orientation": "h",
         "type": "bar",
         "x": [
          0.3437540531158447,
          0.35146650671958923,
          0.3551236689090729,
          0.36670950055122375,
          0.3775385022163391,
          0.3912322223186493,
          0.3962365388870239,
          0.4006773829460144,
          0.40261584520339966,
          0.40917912125587463
         ],
         "xaxis": "x11",
         "y": [
          "sionante  ",
          "de  ",
          "cerca  ",
          "muito  ",
          "veramente  ",
          "es  ",
          "une  ",
          "viento  ",
          "suavemente  ",
          "descansar  "
         ],
         "yaxis": "y11"
        },
        {
         "marker": {
          "color": "#56B4E9"
         },
         "orientation": "h",
         "type": "bar",
         "x": [
          0.31617873907089233,
          0.31855612993240356,
          0.33562126755714417,
          0.3410722613334656,
          0.3525742292404175,
          0.3659212589263916,
          0.4643787741661072,
          0.4726009964942932,
          0.47700613737106323,
          0.48027026653289795
         ],
         "xaxis": "x12",
         "y": [
          "one  ",
          "ningn  ",
          "triangular  ",
          "paradox  ",
          "any  ",
          "ne  ",
          "empty  ",
          "blank  ",
          "non  ",
          "none  "
         ],
         "yaxis": "y12"
        },
        {
         "marker": {
          "color": "#009E73"
         },
         "orientation": "h",
         "type": "bar",
         "x": [
          0.29707056283950806,
          0.30363792181015015,
          0.38622087240219116,
          0.38811102509498596,
          0.3905121088027954,
          0.4390465021133423,
          0.4689725637435913,
          0.5264421105384827,
          0.6720387935638428,
          0.7073965668678284
         ],
         "xaxis": "x13",
         "y": [
          "wonderful  ",
          "magnificent  ",
          "abbey  ",
          "majestic  ",
          "visit  ",
          "franciscan  ",
          "protestant  ",
          "monastery  ",
          "cathedral  ",
          "church  "
         ],
         "yaxis": "y13"
        },
        {
         "marker": {
          "color": "#F0E442"
         },
         "orientation": "h",
         "type": "bar",
         "x": [
          0.27909722924232483,
          0.2939181327819824,
          0.30194759368896484,
          0.30217474699020386,
          0.3630163073539734,
          0.37708115577697754,
          0.3906708061695099,
          0.42446598410606384,
          0.46322059631347656,
          0.5231461524963379
         ],
         "xaxis": "x14",
         "y": [
          "demolished  ",
          "grounds  ",
          "historical  ",
          "place  ",
          "buried  ",
          "historic  ",
          "park  ",
          "cemetery  ",
          "prisoners  ",
          "prison  "
         ],
         "yaxis": "y14"
        },
        {
         "marker": {
          "color": "#D55E00"
         },
         "orientation": "h",
         "type": "bar",
         "x": [
          0.5878861546516418,
          0.5878861546516418,
          0.5878861546516418,
          0.5878861546516418,
          0.5878861546516418,
          0.5878861546516418,
          0.610685408115387,
          0.7086088061332703,
          0.8247038125991821,
          0.8551300168037415
         ],
         "xaxis": "x15",
         "y": [
          "  ",
          "  ",
          "  ",
          "  ",
          "  ",
          "  ",
          "fine  ",
          "alright  ",
          "okay  ",
          "ok  "
         ],
         "yaxis": "y15"
        },
        {
         "marker": {
          "color": "#0072B2"
         },
         "orientation": "h",
         "type": "bar",
         "x": [
          0.36680760979652405,
          0.39639812707901,
          0.4179891049861908,
          0.43364623188972473,
          0.46619170904159546,
          0.5095062851905823,
          0.5166230201721191,
          0.5215482711791992,
          0.5329696536064148,
          0.6599805951118469
         ],
         "xaxis": "x16",
         "y": [
          "peace  ",
          "place  ",
          "lively  ",
          "silence  ",
          "quietnow  ",
          "peaceful  ",
          "quietly  ",
          "loud  ",
          "noisy  ",
          "quiet  "
         ],
         "yaxis": "y16"
        },
        {
         "marker": {
          "color": "#CC79A7"
         },
         "orientation": "h",
         "type": "bar",
         "x": [
          0.2983199656009674,
          0.30576589703559875,
          0.31507259607315063,
          0.3378188908100128,
          0.3440523147583008,
          0.3440972566604614,
          0.3478105664253235,
          0.4228200912475586,
          0.4258171319961548,
          0.492563933134079
         ],
         "xaxis": "x17",
         "y": [
          "elevators  ",
          "stairs  ",
          "stairwell  ",
          "parking  ",
          "homeless  ",
          "stairwells  ",
          "cleanliness  ",
          "toilet  ",
          "playground  ",
          "toilets  "
         ],
         "yaxis": "y17"
        },
        {
         "marker": {
          "color": "#E69F00"
         },
         "orientation": "h",
         "type": "bar",
         "x": [
          0.19822397828102112,
          0.2137615978717804,
          0.23194368183612823,
          0.23698708415031433,
          0.2690628170967102,
          0.27304744720458984,
          0.28389623761177063,
          0.303007036447525,
          0.30608609318733215,
          0.31624549627304077
         ],
         "xaxis": "x18",
         "y": [
          "piteria  ",
          "posture  ",
          "massage  ",
          "place  ",
          "relaxation  ",
          "meditative  ",
          "anichkovo  ",
          "ruins  ",
          "sculpture  ",
          "altar  "
         ],
         "yaxis": "y18"
        },
        {
         "marker": {
          "color": "#56B4E9"
         },
         "orientation": "h",
         "type": "bar",
         "x": [
          0.2659717798233032,
          0.26927730441093445,
          0.2846613824367523,
          0.30876120924949646,
          0.3340289294719696,
          0.3426218628883362,
          0.36074763536453247,
          0.5389392375946045,
          0.5403411388397217,
          0.6216049194335938
         ],
         "xaxis": "x19",
         "y": [
          "asian  ",
          "tasty  ",
          "picnic  ",
          "dishes  ",
          "food  ",
          "rice  ",
          "vietnamese  ",
          "thaipark  ",
          "thailand  ",
          "thai  "
         ],
         "yaxis": "y19"
        },
        {
         "marker": {
          "color": "#009E73"
         },
         "orientation": "h",
         "type": "bar",
         "x": [
          0.3578895330429077,
          0.36352238059043884,
          0.3754238486289978,
          0.39135652780532837,
          0.39266830682754517,
          0.3939879238605499,
          0.3944839537143707,
          0.4016754925251007,
          0.4165416359901428,
          0.4555571973323822
         ],
         "xaxis": "x20",
         "y": [
          "przyjemny  ",
          "jednak  ",
          "olmakla  ",
          "spokojne  ",
          "nazwane  ",
          "szlaki  ",
          "za  ",
          "szczecine  ",
          "rozkvetljsou  ",
          "zahrada  "
         ],
         "yaxis": "y20"
        },
        {
         "marker": {
          "color": "#F0E442"
         },
         "orientation": "h",
         "type": "bar",
         "x": [
          0.29936879873275757,
          0.3069227933883667,
          0.3124011754989624,
          0.3238767385482788,
          0.3427526652812958,
          0.3442438840866089,
          0.3552640974521637,
          0.3811004161834717,
          0.4248802363872528,
          0.44595852494239807
         ],
         "xaxis": "x21",
         "y": [
          "reservation  ",
          "booked  ",
          "building  ",
          "visit  ",
          "concerts  ",
          "restaurant  ",
          "visiting  ",
          "ticket  ",
          "booking  ",
          "tickets  "
         ],
         "yaxis": "y21"
        },
        {
         "marker": {
          "color": "#D55E00"
         },
         "orientation": "h",
         "type": "bar",
         "x": [
          0.3247828483581543,
          0.3270026445388794,
          0.4131150245666504,
          0.44351282715797424,
          0.47335317730903625,
          0.4990389943122864,
          0.7005608677864075,
          0.7883689999580383,
          0.8037992715835571,
          0.8296403884887695
         ],
         "xaxis": "x22",
         "y": [
          "quiet  ",
          "againpeace  ",
          "place  ",
          "cooler  ",
          "relax  ",
          "cold  ",
          "chilling  ",
          "chillig  ",
          "chill  ",
          "chillout  "
         ],
         "yaxis": "y22"
        },
        {
         "marker": {
          "color": "#0072B2"
         },
         "orientation": "h",
         "type": "bar",
         "x": [
          0.2915371358394623,
          0.32428720593452454,
          0.3657847046852112,
          0.409698486328125,
          0.4373551905155182,
          0.5151163339614868,
          0.5496647953987122,
          0.6182891726493835,
          0.6695489883422852,
          0.6815656423568726
         ],
         "xaxis": "x23",
         "y": [
          "read  ",
          "store  ",
          "shop  ",
          "reading  ",
          "recommendations  ",
          "book  ",
          "booksellers  ",
          "books  ",
          "bookshop  ",
          "bookstore  "
         ],
         "yaxis": "y23"
        },
        {
         "marker": {
          "color": "#CC79A7"
         },
         "orientation": "h",
         "type": "bar",
         "x": [
          0.4344375431537628,
          0.4372430443763733,
          0.4579133987426758,
          0.5551765561103821,
          0.6244717836380005,
          0.6279363036155701,
          0.6662366390228271,
          0.6863532066345215,
          0.6980636119842529,
          0.935692548751831
         ],
         "xaxis": "x24",
         "y": [
          "disgusting  ",
          "clear  ",
          "sterile  ",
          "tidy  ",
          "cleaning  ",
          "cleaned  ",
          "filthy  ",
          "clean  ",
          "dirt  ",
          "dirty  "
         ],
         "yaxis": "y24"
        },
        {
         "marker": {
          "color": "#E69F00"
         },
         "orientation": "h",
         "type": "bar",
         "x": [
          0.33656033873558044,
          0.34889963269233704,
          0.3518438935279846,
          0.35453253984451294,
          0.3828413486480713,
          0.40067145228385925,
          0.4368574619293213,
          0.4726857542991638,
          0.4829125702381134,
          0.5508458614349365
         ],
         "xaxis": "x25",
         "y": [
          "ship  ",
          "crowded  ",
          "fishing  ",
          "trip  ",
          "sea  ",
          "houseboats  ",
          "piers  ",
          "pier  ",
          "boat  ",
          "embarkation  "
         ],
         "yaxis": "y25"
        },
        {
         "marker": {
          "color": "#56B4E9"
         },
         "orientation": "h",
         "type": "bar",
         "x": [
          0.1878129094839096,
          0.18791992962360382,
          0.1887236088514328,
          0.2189481407403946,
          0.22245648503303528,
          0.22895780205726624,
          0.25965380668640137,
          0.29889369010925293,
          0.31251609325408936,
          0.3324458599090576
         ],
         "xaxis": "x26",
         "y": [
          "david  ",
          "15  ",
          "concert  ",
          "childrens  ",
          "service  ",
          "mmuah  ",
          "choralspace  ",
          "festival  ",
          "fajne  ",
          "miejsce  "
         ],
         "yaxis": "y26"
        },
        {
         "marker": {
          "color": "#009E73"
         },
         "orientation": "h",
         "type": "bar",
         "x": [
          0.21838796138763428,
          0.21899577975273132,
          0.2218639850616455,
          0.2406500279903412,
          0.24281147122383118,
          0.2783967852592468,
          0.4065048098564148,
          0.4703349173069,
          0.6318479776382446,
          0.6496025919914246
         ],
         "xaxis": "x27",
         "y": [
          "rooms  ",
          "lanes  ",
          "crowded  ",
          "clean  ",
          "water  ",
          "laps  ",
          "swim  ",
          "swimming  ",
          "pools  ",
          "pool  "
         ],
         "yaxis": "y27"
        },
        {
         "marker": {
          "color": "#F0E442"
         },
         "orientation": "h",
         "type": "bar",
         "x": [
          0.3377467095851898,
          0.3525567948818207,
          0.35416316986083984,
          0.35552626848220825,
          0.36321568489074707,
          0.45005661249160767,
          0.49482497572898865,
          0.5189864039421082,
          0.5343194007873535,
          0.5680670738220215
         ],
         "xaxis": "x28",
         "y": [
          "something  ",
          "surprised  ",
          "important  ",
          "about  ",
          "nothing  ",
          "very  ",
          "remarkable  ",
          "exciting  ",
          "special  ",
          "interesting  "
         ],
         "yaxis": "y28"
        },
        {
         "marker": {
          "color": "#D55E00"
         },
         "orientation": "h",
         "type": "bar",
         "x": [
          0.16661210358142853,
          0.16661210358142853,
          0.16661210358142853,
          0.16661210358142853,
          0.16661210358142853,
          0.16661210358142853,
          0.16661210358142853,
          0.16661210358142853,
          0.16661210358142853,
          0.16661210358142853
         ],
         "xaxis": "x29",
         "y": [
          "  ",
          "  ",
          "  ",
          "  ",
          "  ",
          "  ",
          "  ",
          "  ",
          "  ",
          "  "
         ],
         "yaxis": "y29"
        },
        {
         "marker": {
          "color": "#0072B2"
         },
         "orientation": "h",
         "type": "bar",
         "x": [
          0.4113876223564148,
          0.43551748991012573,
          0.47036659717559814,
          0.5463676452636719,
          0.551725447177887,
          0.6695104837417603,
          0.7088208198547363,
          0.7176468968391418,
          0.7807730436325073,
          0.8115969896316528
         ],
         "xaxis": "x30",
         "y": [
          "modernizations  ",
          "construction  ",
          "housing  ",
          "redesign  ",
          "rebuilt  ",
          "redevelopment  ",
          "renovationwill  ",
          "renovated  ",
          "renovations  ",
          "renovation  "
         ],
         "yaxis": "y30"
        },
        {
         "marker": {
          "color": "#CC79A7"
         },
         "orientation": "h",
         "type": "bar",
         "x": [
          0.2880619466304779,
          0.28992870450019836,
          0.2919439673423767,
          0.297488808631897,
          0.3033973276615143,
          0.3055020570755005,
          0.32558581233024597,
          0.3296118378639221,
          0.4260725677013397,
          0.4676620364189148
         ],
         "xaxis": "x31",
         "y": [
          "friendly  ",
          "modest  ",
          "little  ",
          "areas  ",
          "lovely  ",
          "tent  ",
          "mini  ",
          "visited  ",
          "golfing  ",
          "golf  "
         ],
         "yaxis": "y31"
        },
        {
         "marker": {
          "color": "#E69F00"
         },
         "orientation": "h",
         "type": "bar",
         "x": [
          0.3081144690513611,
          0.3114999234676361,
          0.32872387766838074,
          0.355962872505188,
          0.36503082513809204,
          0.3727129399776459,
          0.3781367540359497,
          0.4077206254005432,
          0.4155864715576172,
          0.46072471141815186
         ],
         "xaxis": "x32",
         "y": [
          "announce  ",
          "1130pm  ",
          "4pm  ",
          "11am  ",
          "closed  ",
          "5pm  ",
          "open  ",
          "opened  ",
          "reopen  ",
          "opening  "
         ],
         "yaxis": "y32"
        },
        {
         "marker": {
          "color": "#56B4E9"
         },
         "orientation": "h",
         "type": "bar",
         "x": [
          0.23101705312728882,
          0.2314857542514801,
          0.23249894380569458,
          0.23933210968971252,
          0.24457857012748718,
          0.2526804506778717,
          0.26172930002212524,
          0.26491478085517883,
          0.7000723481178284,
          0.8514860272407532
         ],
         "xaxis": "x33",
         "y": [
          "very  ",
          "feelgood  ",
          "bathtub  ",
          "everthing  ",
          "best  ",
          "favorite  ",
          "prefer  ",
          "glad  ",
          "moabitperfect  ",
          "moabit  "
         ],
         "yaxis": "y33"
        },
        {
         "marker": {
          "color": "#009E73"
         },
         "orientation": "h",
         "type": "bar",
         "x": [
          0.24372121691703796,
          0.2520964443683624,
          0.2723187208175659,
          0.2962357997894287,
          0.29710623621940613,
          0.32511645555496216,
          0.33046770095825195,
          0.5416156053543091,
          0.7047938108444214,
          0.7675440907478333
         ],
         "xaxis": "x34",
         "y": [
          "distance  ",
          "bit  ",
          "positive  ",
          "nice  ",
          "quiet  ",
          "very  ",
          "cute  ",
          "little  ",
          "tiny  ",
          "small  "
         ],
         "yaxis": "y34"
        },
        {
         "marker": {
          "color": "#F0E442"
         },
         "orientation": "h",
         "type": "bar",
         "x": [
          0.2165949046611786,
          0.21905966103076935,
          0.2623002827167511,
          0.28721266984939575,
          0.2935637831687927,
          0.30238938331604004,
          0.31266525387763977,
          0.4335384964942932,
          0.47957712411880493,
          0.5215163230895996
         ],
         "xaxis": "x35",
         "y": [
          "natural  ",
          "is  ",
          "very  ",
          "small  ",
          "for  ",
          "little  ",
          "suitable  ",
          "kiddies  ",
          "kids  ",
          "children  "
         ],
         "yaxis": "y35"
        },
        {
         "marker": {
          "color": "#D55E00"
         },
         "orientation": "h",
         "type": "bar",
         "x": [
          0.20634198188781738,
          0.21377871930599213,
          0.22856003046035767,
          0.22890636324882507,
          0.25175487995147705,
          0.262523353099823,
          0.3005411624908447,
          0.4022124409675598,
          0.4161245822906494,
          0.4448823630809784
         ],
         "xaxis": "x36",
         "y": [
          "can  ",
          "possible  ",
          "million  ",
          "give  ",
          "four  ",
          "one  ",
          "zero  ",
          "park  ",
          "stars  ",
          "star  "
         ],
         "yaxis": "y36"
        },
        {
         "marker": {
          "color": "#0072B2"
         },
         "orientation": "h",
         "type": "bar",
         "x": [
          0.19450657069683075,
          0.19453778862953186,
          0.20268230140209198,
          0.21065384149551392,
          0.23341798782348633,
          0.24141308665275574,
          0.34083282947540283,
          0.38821208477020264,
          0.39855000376701355,
          0.41931426525115967
         ],
         "xaxis": "x37",
         "y": [
          "gets  ",
          "stroll  ",
          "around  ",
          "walk  ",
          "elsethe  ",
          "worth  ",
          "ne  ",
          "none  ",
          "weather  ",
          "trip  "
         ],
         "yaxis": "y37"
        },
        {
         "marker": {
          "color": "#CC79A7"
         },
         "orientation": "h",
         "type": "bar",
         "x": [
          0.23397968709468842,
          0.23569603264331818,
          0.2514122724533081,
          0.2518751621246338,
          0.2592886984348297,
          0.27798905968666077,
          0.2900758385658264,
          0.32479947805404663,
          0.3432666063308716,
          0.4743976891040802
         ],
         "xaxis": "x38",
         "y": [
          "looks  ",
          "sketch  ",
          "unfriendly  ",
          "honest  ",
          "cocaine  ",
          "soccer  ",
          "products  ",
          "quality  ",
          "unsafe  ",
          "dealers  "
         ],
         "yaxis": "y38"
        },
        {
         "marker": {
          "color": "#E69F00"
         },
         "orientation": "h",
         "type": "bar",
         "x": [
          0.2465062439441681,
          0.2473594844341278,
          0.24760660529136658,
          0.25791361927986145,
          0.2640347480773926,
          0.2665638029575348,
          0.26889118552207947,
          0.3597871661186218,
          0.40412694215774536,
          0.42753028869628906
         ],
         "xaxis": "x39",
         "y": [
          "disco  ",
          "sound  ",
          "music  ",
          "djs  ",
          "worst  ",
          "event  ",
          "disaster  ",
          "guests  ",
          "party  ",
          "fireworks  "
         ],
         "yaxis": "y39"
        },
        {
         "marker": {
          "color": "#56B4E9"
         },
         "orientation": "h",
         "type": "bar",
         "x": [
          0.23962637782096863,
          0.25991111993789673,
          0.25998440384864807,
          0.2726718783378601,
          0.28084638714790344,
          0.28227806091308594,
          0.3160405158996582,
          0.42753279209136963,
          0.43656599521636963,
          0.7617847919464111
         ],
         "xaxis": "x40",
         "y": [
          "barrierfree  ",
          "platform  ",
          "homeless  ",
          "wheelchair  ",
          "accessible  ",
          "construction  ",
          "retrofit  ",
          "lift  ",
          "escalator  ",
          "elevator  "
         ],
         "yaxis": "y40"
        },
        {
         "marker": {
          "color": "#009E73"
         },
         "orientation": "h",
         "type": "bar",
         "x": [
          0.24652470648288727,
          0.2577507495880127,
          0.2636251449584961,
          0.2680971622467041,
          0.2714018225669861,
          0.3143288791179657,
          0.33404839038848877,
          0.38430237770080566,
          0.47248178720474243,
          0.5140509605407715
         ],
         "xaxis": "x41",
         "y": [
          "freshvery  ",
          "activities  ",
          "very  ",
          "small  ",
          "pleasant  ",
          "wellmaintained  ",
          "lived  ",
          "summer  ",
          "maintained  ",
          "idyll  "
         ],
         "yaxis": "y41"
        },
        {
         "marker": {
          "color": "#F0E442"
         },
         "orientation": "h",
         "type": "bar",
         "x": [
          0.3296998143196106,
          0.3310982584953308,
          0.348445326089859,
          0.4054974317550659,
          0.4088643789291382,
          0.4156871438026428,
          0.43555355072021484,
          0.4834845960140228,
          0.5414225459098816,
          0.5885539054870605
         ],
         "xaxis": "x42",
         "y": [
          "key  ",
          "low  ",
          "below  ",
          "event  ",
          "lit  ",
          "concert  ",
          "location  ",
          "festivalof  ",
          "lights  ",
          "festival  "
         ],
         "yaxis": "y42"
        },
        {
         "marker": {
          "color": "#D55E00"
         },
         "orientation": "h",
         "type": "bar",
         "x": [
          0.19795507192611694,
          0.19825610518455505,
          0.29024678468704224,
          0.29086893796920776,
          0.439090758562088,
          0.4414808452129364,
          0.5472112894058228,
          0.5560470819473267,
          0.5832244753837585,
          0.6015445590019226
         ],
         "xaxis": "x43",
         "y": [
          "it  ",
          "amazing  ",
          "park  ",
          "underrated  ",
          "hidden  ",
          "jewel  ",
          "gems  ",
          "gem  ",
          "berlins  ",
          "berlin  "
         ],
         "yaxis": "y43"
        },
        {
         "marker": {
          "color": "#0072B2"
         },
         "orientation": "h",
         "type": "bar",
         "x": [
          0.22462677955627441,
          0.27542048692703247,
          0.29341569542884827,
          0.3406124711036682,
          0.4008232355117798,
          0.41467928886413574,
          0.5052621364593506,
          0.5463046431541443,
          0.5677536725997925,
          0.603888750076294
         ],
         "xaxis": "x44",
         "y": [
          "beautiful  ",
          "swings  ",
          "speilplatz  ",
          "cycling  ",
          "walk  ",
          "route  ",
          "beginners  ",
          "roller  ",
          "skates  ",
          "skating  "
         ],
         "yaxis": "y44"
        },
        {
         "marker": {
          "color": "#CC79A7"
         },
         "orientation": "h",
         "type": "bar",
         "x": [
          0.2802845537662506,
          0.28284725546836853,
          0.3068612217903137,
          0.30959463119506836,
          0.31718945503234863,
          0.34188026189804077,
          0.36882948875427246,
          0.41651684045791626,
          0.43080055713653564,
          0.9186089038848877
         ],
         "xaxis": "x45",
         "y": [
          "that  ",
          "straight  ",
          "epoch  ",
          "expectations  ",
          "experience  ",
          "very  ",
          "classic  ",
          "oldie  ",
          "old  ",
          "modern  "
         ],
         "yaxis": "y45"
        },
        {
         "marker": {
          "color": "#E69F00"
         },
         "orientation": "h",
         "type": "bar",
         "x": [
          0.06550560891628265,
          0.06550560891628265,
          0.09988513588905334,
          0.2092108577489853,
          0.2179020345211029,
          0.2753436267375946,
          0.28112921118736267,
          0.30138635635375977,
          0.4078133702278137,
          0.5009570121765137
         ],
         "xaxis": "x46",
         "y": [
          "  ",
          "  ",
          "to  ",
          "nice  ",
          "place  ",
          "cool  ",
          "relax  ",
          "very  ",
          "mega  ",
          "relaxing  "
         ],
         "yaxis": "y46"
        },
        {
         "marker": {
          "color": "#56B4E9"
         },
         "orientation": "h",
         "type": "bar",
         "x": [
          0.28007709980010986,
          0.28154006600379944,
          0.30825597047805786,
          0.3222144842147827,
          0.36893418431282043,
          0.37030473351478577,
          0.39485135674476624,
          0.43941688537597656,
          0.45226341485977173,
          0.47095561027526855
         ],
         "xaxis": "x47",
         "y": [
          "treated  ",
          "doctor  ",
          "appointments  ",
          "blindnessthe  ",
          "eye  ",
          "eyesight  ",
          "appointment  ",
          "cataracts  ",
          "clinic  ",
          "glaucoma  "
         ],
         "yaxis": "y47"
        },
        {
         "marker": {
          "color": "#009E73"
         },
         "orientation": "h",
         "type": "bar",
         "x": [
          0.28333044052124023,
          0.28333044052124023,
          0.28333044052124023,
          0.28333044052124023,
          0.33467602729797363,
          0.3520519435405731,
          0.3731953501701355,
          0.39909419417381287,
          0.4250183701515198,
          0.48963505029678345
         ],
         "xaxis": "x48",
         "y": [
          "  ",
          "  ",
          "  ",
          "  ",
          "not  ",
          "soo  ",
          "very  ",
          "nice  ",
          "nicer  ",
          "nicee  "
         ],
         "yaxis": "y48"
        },
        {
         "marker": {
          "color": "#F0E442"
         },
         "orientation": "h",
         "type": "bar",
         "x": [
          0.30947667360305786,
          0.30947667360305786,
          0.32384949922561646,
          0.3343062996864319,
          0.35926371812820435,
          0.3892166018486023,
          0.4112371802330017,
          0.4327605962753296,
          0.6172759532928467,
          0.6823980212211609
         ],
         "xaxis": "x49",
         "y": [
          "  ",
          "  ",
          "loves  ",
          "cute  ",
          "animals  ",
          "turtles  ",
          "rabbits  ",
          "web  ",
          "rats  ",
          "spider  "
         ],
         "yaxis": "y49"
        }
       ],
       "layout": {
        "annotations": [
         {
          "font": {
           "size": 16
          },
          "showarrow": false,
          "text": "Topic 0",
          "x": 0.0875,
          "xanchor": "center",
          "xref": "paper",
          "y": 0.9999999999999999,
          "yanchor": "bottom",
          "yref": "paper"
         },
         {
          "font": {
           "size": 16
          },
          "showarrow": false,
          "text": "Topic 1",
          "x": 0.36250000000000004,
          "xanchor": "center",
          "xref": "paper",
          "y": 0.9999999999999999,
          "yanchor": "bottom",
          "yref": "paper"
         },
         {
          "font": {
           "size": 16
          },
          "showarrow": false,
          "text": "Topic 2",
          "x": 0.6375000000000001,
          "xanchor": "center",
          "xref": "paper",
          "y": 0.9999999999999999,
          "yanchor": "bottom",
          "yref": "paper"
         },
         {
          "font": {
           "size": 16
          },
          "showarrow": false,
          "text": "Topic 3",
          "x": 0.9125,
          "xanchor": "center",
          "xref": "paper",
          "y": 0.9999999999999999,
          "yanchor": "bottom",
          "yref": "paper"
         },
         {
          "font": {
           "size": 16
          },
          "showarrow": false,
          "text": "Topic 4",
          "x": 0.0875,
          "xanchor": "center",
          "xref": "paper",
          "y": 0.9207100591715975,
          "yanchor": "bottom",
          "yref": "paper"
         },
         {
          "font": {
           "size": 16
          },
          "showarrow": false,
          "text": "Topic 5",
          "x": 0.36250000000000004,
          "xanchor": "center",
          "xref": "paper",
          "y": 0.9207100591715975,
          "yanchor": "bottom",
          "yref": "paper"
         },
         {
          "font": {
           "size": 16
          },
          "showarrow": false,
          "text": "Topic 6",
          "x": 0.6375000000000001,
          "xanchor": "center",
          "xref": "paper",
          "y": 0.9207100591715975,
          "yanchor": "bottom",
          "yref": "paper"
         },
         {
          "font": {
           "size": 16
          },
          "showarrow": false,
          "text": "Topic 7",
          "x": 0.9125,
          "xanchor": "center",
          "xref": "paper",
          "y": 0.9207100591715975,
          "yanchor": "bottom",
          "yref": "paper"
         },
         {
          "font": {
           "size": 16
          },
          "showarrow": false,
          "text": "Topic 8",
          "x": 0.0875,
          "xanchor": "center",
          "xref": "paper",
          "y": 0.8414201183431951,
          "yanchor": "bottom",
          "yref": "paper"
         },
         {
          "font": {
           "size": 16
          },
          "showarrow": false,
          "text": "Topic 9",
          "x": 0.36250000000000004,
          "xanchor": "center",
          "xref": "paper",
          "y": 0.8414201183431951,
          "yanchor": "bottom",
          "yref": "paper"
         },
         {
          "font": {
           "size": 16
          },
          "showarrow": false,
          "text": "Topic 10",
          "x": 0.6375000000000001,
          "xanchor": "center",
          "xref": "paper",
          "y": 0.8414201183431951,
          "yanchor": "bottom",
          "yref": "paper"
         },
         {
          "font": {
           "size": 16
          },
          "showarrow": false,
          "text": "Topic 11",
          "x": 0.9125,
          "xanchor": "center",
          "xref": "paper",
          "y": 0.8414201183431951,
          "yanchor": "bottom",
          "yref": "paper"
         },
         {
          "font": {
           "size": 16
          },
          "showarrow": false,
          "text": "Topic 12",
          "x": 0.0875,
          "xanchor": "center",
          "xref": "paper",
          "y": 0.7621301775147928,
          "yanchor": "bottom",
          "yref": "paper"
         },
         {
          "font": {
           "size": 16
          },
          "showarrow": false,
          "text": "Topic 13",
          "x": 0.36250000000000004,
          "xanchor": "center",
          "xref": "paper",
          "y": 0.7621301775147928,
          "yanchor": "bottom",
          "yref": "paper"
         },
         {
          "font": {
           "size": 16
          },
          "showarrow": false,
          "text": "Topic 14",
          "x": 0.6375000000000001,
          "xanchor": "center",
          "xref": "paper",
          "y": 0.7621301775147928,
          "yanchor": "bottom",
          "yref": "paper"
         },
         {
          "font": {
           "size": 16
          },
          "showarrow": false,
          "text": "Topic 15",
          "x": 0.9125,
          "xanchor": "center",
          "xref": "paper",
          "y": 0.7621301775147928,
          "yanchor": "bottom",
          "yref": "paper"
         },
         {
          "font": {
           "size": 16
          },
          "showarrow": false,
          "text": "Topic 16",
          "x": 0.0875,
          "xanchor": "center",
          "xref": "paper",
          "y": 0.6828402366863904,
          "yanchor": "bottom",
          "yref": "paper"
         },
         {
          "font": {
           "size": 16
          },
          "showarrow": false,
          "text": "Topic 17",
          "x": 0.36250000000000004,
          "xanchor": "center",
          "xref": "paper",
          "y": 0.6828402366863904,
          "yanchor": "bottom",
          "yref": "paper"
         },
         {
          "font": {
           "size": 16
          },
          "showarrow": false,
          "text": "Topic 18",
          "x": 0.6375000000000001,
          "xanchor": "center",
          "xref": "paper",
          "y": 0.6828402366863904,
          "yanchor": "bottom",
          "yref": "paper"
         },
         {
          "font": {
           "size": 16
          },
          "showarrow": false,
          "text": "Topic 19",
          "x": 0.9125,
          "xanchor": "center",
          "xref": "paper",
          "y": 0.6828402366863904,
          "yanchor": "bottom",
          "yref": "paper"
         },
         {
          "font": {
           "size": 16
          },
          "showarrow": false,
          "text": "Topic 20",
          "x": 0.0875,
          "xanchor": "center",
          "xref": "paper",
          "y": 0.6035502958579881,
          "yanchor": "bottom",
          "yref": "paper"
         },
         {
          "font": {
           "size": 16
          },
          "showarrow": false,
          "text": "Topic 21",
          "x": 0.36250000000000004,
          "xanchor": "center",
          "xref": "paper",
          "y": 0.6035502958579881,
          "yanchor": "bottom",
          "yref": "paper"
         },
         {
          "font": {
           "size": 16
          },
          "showarrow": false,
          "text": "Topic 22",
          "x": 0.6375000000000001,
          "xanchor": "center",
          "xref": "paper",
          "y": 0.6035502958579881,
          "yanchor": "bottom",
          "yref": "paper"
         },
         {
          "font": {
           "size": 16
          },
          "showarrow": false,
          "text": "Topic 23",
          "x": 0.9125,
          "xanchor": "center",
          "xref": "paper",
          "y": 0.6035502958579881,
          "yanchor": "bottom",
          "yref": "paper"
         },
         {
          "font": {
           "size": 16
          },
          "showarrow": false,
          "text": "Topic 24",
          "x": 0.0875,
          "xanchor": "center",
          "xref": "paper",
          "y": 0.5242603550295858,
          "yanchor": "bottom",
          "yref": "paper"
         },
         {
          "font": {
           "size": 16
          },
          "showarrow": false,
          "text": "Topic 25",
          "x": 0.36250000000000004,
          "xanchor": "center",
          "xref": "paper",
          "y": 0.5242603550295858,
          "yanchor": "bottom",
          "yref": "paper"
         },
         {
          "font": {
           "size": 16
          },
          "showarrow": false,
          "text": "Topic 26",
          "x": 0.6375000000000001,
          "xanchor": "center",
          "xref": "paper",
          "y": 0.5242603550295858,
          "yanchor": "bottom",
          "yref": "paper"
         },
         {
          "font": {
           "size": 16
          },
          "showarrow": false,
          "text": "Topic 27",
          "x": 0.9125,
          "xanchor": "center",
          "xref": "paper",
          "y": 0.5242603550295858,
          "yanchor": "bottom",
          "yref": "paper"
         },
         {
          "font": {
           "size": 16
          },
          "showarrow": false,
          "text": "Topic 28",
          "x": 0.0875,
          "xanchor": "center",
          "xref": "paper",
          "y": 0.4449704142011834,
          "yanchor": "bottom",
          "yref": "paper"
         },
         {
          "font": {
           "size": 16
          },
          "showarrow": false,
          "text": "Topic 29",
          "x": 0.36250000000000004,
          "xanchor": "center",
          "xref": "paper",
          "y": 0.4449704142011834,
          "yanchor": "bottom",
          "yref": "paper"
         },
         {
          "font": {
           "size": 16
          },
          "showarrow": false,
          "text": "Topic 30",
          "x": 0.6375000000000001,
          "xanchor": "center",
          "xref": "paper",
          "y": 0.4449704142011834,
          "yanchor": "bottom",
          "yref": "paper"
         },
         {
          "font": {
           "size": 16
          },
          "showarrow": false,
          "text": "Topic 31",
          "x": 0.9125,
          "xanchor": "center",
          "xref": "paper",
          "y": 0.4449704142011834,
          "yanchor": "bottom",
          "yref": "paper"
         },
         {
          "font": {
           "size": 16
          },
          "showarrow": false,
          "text": "Topic 32",
          "x": 0.0875,
          "xanchor": "center",
          "xref": "paper",
          "y": 0.36568047337278103,
          "yanchor": "bottom",
          "yref": "paper"
         },
         {
          "font": {
           "size": 16
          },
          "showarrow": false,
          "text": "Topic 33",
          "x": 0.36250000000000004,
          "xanchor": "center",
          "xref": "paper",
          "y": 0.36568047337278103,
          "yanchor": "bottom",
          "yref": "paper"
         },
         {
          "font": {
           "size": 16
          },
          "showarrow": false,
          "text": "Topic 34",
          "x": 0.6375000000000001,
          "xanchor": "center",
          "xref": "paper",
          "y": 0.36568047337278103,
          "yanchor": "bottom",
          "yref": "paper"
         },
         {
          "font": {
           "size": 16
          },
          "showarrow": false,
          "text": "Topic 35",
          "x": 0.9125,
          "xanchor": "center",
          "xref": "paper",
          "y": 0.36568047337278103,
          "yanchor": "bottom",
          "yref": "paper"
         },
         {
          "font": {
           "size": 16
          },
          "showarrow": false,
          "text": "Topic 36",
          "x": 0.0875,
          "xanchor": "center",
          "xref": "paper",
          "y": 0.2863905325443787,
          "yanchor": "bottom",
          "yref": "paper"
         },
         {
          "font": {
           "size": 16
          },
          "showarrow": false,
          "text": "Topic 37",
          "x": 0.36250000000000004,
          "xanchor": "center",
          "xref": "paper",
          "y": 0.2863905325443787,
          "yanchor": "bottom",
          "yref": "paper"
         },
         {
          "font": {
           "size": 16
          },
          "showarrow": false,
          "text": "Topic 38",
          "x": 0.6375000000000001,
          "xanchor": "center",
          "xref": "paper",
          "y": 0.2863905325443787,
          "yanchor": "bottom",
          "yref": "paper"
         },
         {
          "font": {
           "size": 16
          },
          "showarrow": false,
          "text": "Topic 39",
          "x": 0.9125,
          "xanchor": "center",
          "xref": "paper",
          "y": 0.2863905325443787,
          "yanchor": "bottom",
          "yref": "paper"
         },
         {
          "font": {
           "size": 16
          },
          "showarrow": false,
          "text": "Topic 40",
          "x": 0.0875,
          "xanchor": "center",
          "xref": "paper",
          "y": 0.20710059171597633,
          "yanchor": "bottom",
          "yref": "paper"
         },
         {
          "font": {
           "size": 16
          },
          "showarrow": false,
          "text": "Topic 41",
          "x": 0.36250000000000004,
          "xanchor": "center",
          "xref": "paper",
          "y": 0.20710059171597633,
          "yanchor": "bottom",
          "yref": "paper"
         },
         {
          "font": {
           "size": 16
          },
          "showarrow": false,
          "text": "Topic 42",
          "x": 0.6375000000000001,
          "xanchor": "center",
          "xref": "paper",
          "y": 0.20710059171597633,
          "yanchor": "bottom",
          "yref": "paper"
         },
         {
          "font": {
           "size": 16
          },
          "showarrow": false,
          "text": "Topic 43",
          "x": 0.9125,
          "xanchor": "center",
          "xref": "paper",
          "y": 0.20710059171597633,
          "yanchor": "bottom",
          "yref": "paper"
         },
         {
          "font": {
           "size": 16
          },
          "showarrow": false,
          "text": "Topic 44",
          "x": 0.0875,
          "xanchor": "center",
          "xref": "paper",
          "y": 0.12781065088757396,
          "yanchor": "bottom",
          "yref": "paper"
         },
         {
          "font": {
           "size": 16
          },
          "showarrow": false,
          "text": "Topic 45",
          "x": 0.36250000000000004,
          "xanchor": "center",
          "xref": "paper",
          "y": 0.12781065088757396,
          "yanchor": "bottom",
          "yref": "paper"
         },
         {
          "font": {
           "size": 16
          },
          "showarrow": false,
          "text": "Topic 46",
          "x": 0.6375000000000001,
          "xanchor": "center",
          "xref": "paper",
          "y": 0.12781065088757396,
          "yanchor": "bottom",
          "yref": "paper"
         },
         {
          "font": {
           "size": 16
          },
          "showarrow": false,
          "text": "Topic 47",
          "x": 0.9125,
          "xanchor": "center",
          "xref": "paper",
          "y": 0.12781065088757396,
          "yanchor": "bottom",
          "yref": "paper"
         },
         {
          "font": {
           "size": 16
          },
          "showarrow": false,
          "text": "Topic 48",
          "x": 0.0875,
          "xanchor": "center",
          "xref": "paper",
          "y": 0.04852071005917159,
          "yanchor": "bottom",
          "yref": "paper"
         }
        ],
        "height": 3250,
        "hoverlabel": {
         "bgcolor": "white",
         "font": {
          "family": "Rockwell",
          "size": 16
         }
        },
        "showlegend": false,
        "template": {
         "data": {
          "bar": [
           {
            "error_x": {
             "color": "#2a3f5f"
            },
            "error_y": {
             "color": "#2a3f5f"
            },
            "marker": {
             "line": {
              "color": "white",
              "width": 0.5
             },
             "pattern": {
              "fillmode": "overlay",
              "size": 10,
              "solidity": 0.2
             }
            },
            "type": "bar"
           }
          ],
          "barpolar": [
           {
            "marker": {
             "line": {
              "color": "white",
              "width": 0.5
             },
             "pattern": {
              "fillmode": "overlay",
              "size": 10,
              "solidity": 0.2
             }
            },
            "type": "barpolar"
           }
          ],
          "carpet": [
           {
            "aaxis": {
             "endlinecolor": "#2a3f5f",
             "gridcolor": "#C8D4E3",
             "linecolor": "#C8D4E3",
             "minorgridcolor": "#C8D4E3",
             "startlinecolor": "#2a3f5f"
            },
            "baxis": {
             "endlinecolor": "#2a3f5f",
             "gridcolor": "#C8D4E3",
             "linecolor": "#C8D4E3",
             "minorgridcolor": "#C8D4E3",
             "startlinecolor": "#2a3f5f"
            },
            "type": "carpet"
           }
          ],
          "choropleth": [
           {
            "colorbar": {
             "outlinewidth": 0,
             "ticks": ""
            },
            "type": "choropleth"
           }
          ],
          "contour": [
           {
            "colorbar": {
             "outlinewidth": 0,
             "ticks": ""
            },
            "colorscale": [
             [
              0,
              "#0d0887"
             ],
             [
              0.1111111111111111,
              "#46039f"
             ],
             [
              0.2222222222222222,
              "#7201a8"
             ],
             [
              0.3333333333333333,
              "#9c179e"
             ],
             [
              0.4444444444444444,
              "#bd3786"
             ],
             [
              0.5555555555555556,
              "#d8576b"
             ],
             [
              0.6666666666666666,
              "#ed7953"
             ],
             [
              0.7777777777777778,
              "#fb9f3a"
             ],
             [
              0.8888888888888888,
              "#fdca26"
             ],
             [
              1,
              "#f0f921"
             ]
            ],
            "type": "contour"
           }
          ],
          "contourcarpet": [
           {
            "colorbar": {
             "outlinewidth": 0,
             "ticks": ""
            },
            "type": "contourcarpet"
           }
          ],
          "heatmap": [
           {
            "colorbar": {
             "outlinewidth": 0,
             "ticks": ""
            },
            "colorscale": [
             [
              0,
              "#0d0887"
             ],
             [
              0.1111111111111111,
              "#46039f"
             ],
             [
              0.2222222222222222,
              "#7201a8"
             ],
             [
              0.3333333333333333,
              "#9c179e"
             ],
             [
              0.4444444444444444,
              "#bd3786"
             ],
             [
              0.5555555555555556,
              "#d8576b"
             ],
             [
              0.6666666666666666,
              "#ed7953"
             ],
             [
              0.7777777777777778,
              "#fb9f3a"
             ],
             [
              0.8888888888888888,
              "#fdca26"
             ],
             [
              1,
              "#f0f921"
             ]
            ],
            "type": "heatmap"
           }
          ],
          "heatmapgl": [
           {
            "colorbar": {
             "outlinewidth": 0,
             "ticks": ""
            },
            "colorscale": [
             [
              0,
              "#0d0887"
             ],
             [
              0.1111111111111111,
              "#46039f"
             ],
             [
              0.2222222222222222,
              "#7201a8"
             ],
             [
              0.3333333333333333,
              "#9c179e"
             ],
             [
              0.4444444444444444,
              "#bd3786"
             ],
             [
              0.5555555555555556,
              "#d8576b"
             ],
             [
              0.6666666666666666,
              "#ed7953"
             ],
             [
              0.7777777777777778,
              "#fb9f3a"
             ],
             [
              0.8888888888888888,
              "#fdca26"
             ],
             [
              1,
              "#f0f921"
             ]
            ],
            "type": "heatmapgl"
           }
          ],
          "histogram": [
           {
            "marker": {
             "pattern": {
              "fillmode": "overlay",
              "size": 10,
              "solidity": 0.2
             }
            },
            "type": "histogram"
           }
          ],
          "histogram2d": [
           {
            "colorbar": {
             "outlinewidth": 0,
             "ticks": ""
            },
            "colorscale": [
             [
              0,
              "#0d0887"
             ],
             [
              0.1111111111111111,
              "#46039f"
             ],
             [
              0.2222222222222222,
              "#7201a8"
             ],
             [
              0.3333333333333333,
              "#9c179e"
             ],
             [
              0.4444444444444444,
              "#bd3786"
             ],
             [
              0.5555555555555556,
              "#d8576b"
             ],
             [
              0.6666666666666666,
              "#ed7953"
             ],
             [
              0.7777777777777778,
              "#fb9f3a"
             ],
             [
              0.8888888888888888,
              "#fdca26"
             ],
             [
              1,
              "#f0f921"
             ]
            ],
            "type": "histogram2d"
           }
          ],
          "histogram2dcontour": [
           {
            "colorbar": {
             "outlinewidth": 0,
             "ticks": ""
            },
            "colorscale": [
             [
              0,
              "#0d0887"
             ],
             [
              0.1111111111111111,
              "#46039f"
             ],
             [
              0.2222222222222222,
              "#7201a8"
             ],
             [
              0.3333333333333333,
              "#9c179e"
             ],
             [
              0.4444444444444444,
              "#bd3786"
             ],
             [
              0.5555555555555556,
              "#d8576b"
             ],
             [
              0.6666666666666666,
              "#ed7953"
             ],
             [
              0.7777777777777778,
              "#fb9f3a"
             ],
             [
              0.8888888888888888,
              "#fdca26"
             ],
             [
              1,
              "#f0f921"
             ]
            ],
            "type": "histogram2dcontour"
           }
          ],
          "mesh3d": [
           {
            "colorbar": {
             "outlinewidth": 0,
             "ticks": ""
            },
            "type": "mesh3d"
           }
          ],
          "parcoords": [
           {
            "line": {
             "colorbar": {
              "outlinewidth": 0,
              "ticks": ""
             }
            },
            "type": "parcoords"
           }
          ],
          "pie": [
           {
            "automargin": true,
            "type": "pie"
           }
          ],
          "scatter": [
           {
            "fillpattern": {
             "fillmode": "overlay",
             "size": 10,
             "solidity": 0.2
            },
            "type": "scatter"
           }
          ],
          "scatter3d": [
           {
            "line": {
             "colorbar": {
              "outlinewidth": 0,
              "ticks": ""
             }
            },
            "marker": {
             "colorbar": {
              "outlinewidth": 0,
              "ticks": ""
             }
            },
            "type": "scatter3d"
           }
          ],
          "scattercarpet": [
           {
            "marker": {
             "colorbar": {
              "outlinewidth": 0,
              "ticks": ""
             }
            },
            "type": "scattercarpet"
           }
          ],
          "scattergeo": [
           {
            "marker": {
             "colorbar": {
              "outlinewidth": 0,
              "ticks": ""
             }
            },
            "type": "scattergeo"
           }
          ],
          "scattergl": [
           {
            "marker": {
             "colorbar": {
              "outlinewidth": 0,
              "ticks": ""
             }
            },
            "type": "scattergl"
           }
          ],
          "scattermapbox": [
           {
            "marker": {
             "colorbar": {
              "outlinewidth": 0,
              "ticks": ""
             }
            },
            "type": "scattermapbox"
           }
          ],
          "scatterpolar": [
           {
            "marker": {
             "colorbar": {
              "outlinewidth": 0,
              "ticks": ""
             }
            },
            "type": "scatterpolar"
           }
          ],
          "scatterpolargl": [
           {
            "marker": {
             "colorbar": {
              "outlinewidth": 0,
              "ticks": ""
             }
            },
            "type": "scatterpolargl"
           }
          ],
          "scatterternary": [
           {
            "marker": {
             "colorbar": {
              "outlinewidth": 0,
              "ticks": ""
             }
            },
            "type": "scatterternary"
           }
          ],
          "surface": [
           {
            "colorbar": {
             "outlinewidth": 0,
             "ticks": ""
            },
            "colorscale": [
             [
              0,
              "#0d0887"
             ],
             [
              0.1111111111111111,
              "#46039f"
             ],
             [
              0.2222222222222222,
              "#7201a8"
             ],
             [
              0.3333333333333333,
              "#9c179e"
             ],
             [
              0.4444444444444444,
              "#bd3786"
             ],
             [
              0.5555555555555556,
              "#d8576b"
             ],
             [
              0.6666666666666666,
              "#ed7953"
             ],
             [
              0.7777777777777778,
              "#fb9f3a"
             ],
             [
              0.8888888888888888,
              "#fdca26"
             ],
             [
              1,
              "#f0f921"
             ]
            ],
            "type": "surface"
           }
          ],
          "table": [
           {
            "cells": {
             "fill": {
              "color": "#EBF0F8"
             },
             "line": {
              "color": "white"
             }
            },
            "header": {
             "fill": {
              "color": "#C8D4E3"
             },
             "line": {
              "color": "white"
             }
            },
            "type": "table"
           }
          ]
         },
         "layout": {
          "annotationdefaults": {
           "arrowcolor": "#2a3f5f",
           "arrowhead": 0,
           "arrowwidth": 1
          },
          "autotypenumbers": "strict",
          "coloraxis": {
           "colorbar": {
            "outlinewidth": 0,
            "ticks": ""
           }
          },
          "colorscale": {
           "diverging": [
            [
             0,
             "#8e0152"
            ],
            [
             0.1,
             "#c51b7d"
            ],
            [
             0.2,
             "#de77ae"
            ],
            [
             0.3,
             "#f1b6da"
            ],
            [
             0.4,
             "#fde0ef"
            ],
            [
             0.5,
             "#f7f7f7"
            ],
            [
             0.6,
             "#e6f5d0"
            ],
            [
             0.7,
             "#b8e186"
            ],
            [
             0.8,
             "#7fbc41"
            ],
            [
             0.9,
             "#4d9221"
            ],
            [
             1,
             "#276419"
            ]
           ],
           "sequential": [
            [
             0,
             "#0d0887"
            ],
            [
             0.1111111111111111,
             "#46039f"
            ],
            [
             0.2222222222222222,
             "#7201a8"
            ],
            [
             0.3333333333333333,
             "#9c179e"
            ],
            [
             0.4444444444444444,
             "#bd3786"
            ],
            [
             0.5555555555555556,
             "#d8576b"
            ],
            [
             0.6666666666666666,
             "#ed7953"
            ],
            [
             0.7777777777777778,
             "#fb9f3a"
            ],
            [
             0.8888888888888888,
             "#fdca26"
            ],
            [
             1,
             "#f0f921"
            ]
           ],
           "sequentialminus": [
            [
             0,
             "#0d0887"
            ],
            [
             0.1111111111111111,
             "#46039f"
            ],
            [
             0.2222222222222222,
             "#7201a8"
            ],
            [
             0.3333333333333333,
             "#9c179e"
            ],
            [
             0.4444444444444444,
             "#bd3786"
            ],
            [
             0.5555555555555556,
             "#d8576b"
            ],
            [
             0.6666666666666666,
             "#ed7953"
            ],
            [
             0.7777777777777778,
             "#fb9f3a"
            ],
            [
             0.8888888888888888,
             "#fdca26"
            ],
            [
             1,
             "#f0f921"
            ]
           ]
          },
          "colorway": [
           "#636efa",
           "#EF553B",
           "#00cc96",
           "#ab63fa",
           "#FFA15A",
           "#19d3f3",
           "#FF6692",
           "#B6E880",
           "#FF97FF",
           "#FECB52"
          ],
          "font": {
           "color": "#2a3f5f"
          },
          "geo": {
           "bgcolor": "white",
           "lakecolor": "white",
           "landcolor": "white",
           "showlakes": true,
           "showland": true,
           "subunitcolor": "#C8D4E3"
          },
          "hoverlabel": {
           "align": "left"
          },
          "hovermode": "closest",
          "mapbox": {
           "style": "light"
          },
          "paper_bgcolor": "white",
          "plot_bgcolor": "white",
          "polar": {
           "angularaxis": {
            "gridcolor": "#EBF0F8",
            "linecolor": "#EBF0F8",
            "ticks": ""
           },
           "bgcolor": "white",
           "radialaxis": {
            "gridcolor": "#EBF0F8",
            "linecolor": "#EBF0F8",
            "ticks": ""
           }
          },
          "scene": {
           "xaxis": {
            "backgroundcolor": "white",
            "gridcolor": "#DFE8F3",
            "gridwidth": 2,
            "linecolor": "#EBF0F8",
            "showbackground": true,
            "ticks": "",
            "zerolinecolor": "#EBF0F8"
           },
           "yaxis": {
            "backgroundcolor": "white",
            "gridcolor": "#DFE8F3",
            "gridwidth": 2,
            "linecolor": "#EBF0F8",
            "showbackground": true,
            "ticks": "",
            "zerolinecolor": "#EBF0F8"
           },
           "zaxis": {
            "backgroundcolor": "white",
            "gridcolor": "#DFE8F3",
            "gridwidth": 2,
            "linecolor": "#EBF0F8",
            "showbackground": true,
            "ticks": "",
            "zerolinecolor": "#EBF0F8"
           }
          },
          "shapedefaults": {
           "line": {
            "color": "#2a3f5f"
           }
          },
          "ternary": {
           "aaxis": {
            "gridcolor": "#DFE8F3",
            "linecolor": "#A2B1C6",
            "ticks": ""
           },
           "baxis": {
            "gridcolor": "#DFE8F3",
            "linecolor": "#A2B1C6",
            "ticks": ""
           },
           "bgcolor": "white",
           "caxis": {
            "gridcolor": "#DFE8F3",
            "linecolor": "#A2B1C6",
            "ticks": ""
           }
          },
          "title": {
           "x": 0.05
          },
          "xaxis": {
           "automargin": true,
           "gridcolor": "#EBF0F8",
           "linecolor": "#EBF0F8",
           "ticks": "",
           "title": {
            "standoff": 15
           },
           "zerolinecolor": "#EBF0F8",
           "zerolinewidth": 2
          },
          "yaxis": {
           "automargin": true,
           "gridcolor": "#EBF0F8",
           "linecolor": "#EBF0F8",
           "ticks": "",
           "title": {
            "standoff": 15
           },
           "zerolinecolor": "#EBF0F8",
           "zerolinewidth": 2
          }
         }
        },
        "title": {
         "font": {
          "color": "Black",
          "size": 22
         },
         "text": "Topic Word Scores",
         "x": 0.5,
         "xanchor": "center",
         "yanchor": "top"
        },
        "width": 1000,
        "xaxis": {
         "anchor": "y",
         "domain": [
          0,
          0.175
         ],
         "showgrid": true
        },
        "xaxis10": {
         "anchor": "y10",
         "domain": [
          0.275,
          0.45
         ],
         "showgrid": true
        },
        "xaxis11": {
         "anchor": "y11",
         "domain": [
          0.55,
          0.7250000000000001
         ],
         "showgrid": true
        },
        "xaxis12": {
         "anchor": "y12",
         "domain": [
          0.825,
          1
         ],
         "showgrid": true
        },
        "xaxis13": {
         "anchor": "y13",
         "domain": [
          0,
          0.175
         ],
         "showgrid": true
        },
        "xaxis14": {
         "anchor": "y14",
         "domain": [
          0.275,
          0.45
         ],
         "showgrid": true
        },
        "xaxis15": {
         "anchor": "y15",
         "domain": [
          0.55,
          0.7250000000000001
         ],
         "showgrid": true
        },
        "xaxis16": {
         "anchor": "y16",
         "domain": [
          0.825,
          1
         ],
         "showgrid": true
        },
        "xaxis17": {
         "anchor": "y17",
         "domain": [
          0,
          0.175
         ],
         "showgrid": true
        },
        "xaxis18": {
         "anchor": "y18",
         "domain": [
          0.275,
          0.45
         ],
         "showgrid": true
        },
        "xaxis19": {
         "anchor": "y19",
         "domain": [
          0.55,
          0.7250000000000001
         ],
         "showgrid": true
        },
        "xaxis2": {
         "anchor": "y2",
         "domain": [
          0.275,
          0.45
         ],
         "showgrid": true
        },
        "xaxis20": {
         "anchor": "y20",
         "domain": [
          0.825,
          1
         ],
         "showgrid": true
        },
        "xaxis21": {
         "anchor": "y21",
         "domain": [
          0,
          0.175
         ],
         "showgrid": true
        },
        "xaxis22": {
         "anchor": "y22",
         "domain": [
          0.275,
          0.45
         ],
         "showgrid": true
        },
        "xaxis23": {
         "anchor": "y23",
         "domain": [
          0.55,
          0.7250000000000001
         ],
         "showgrid": true
        },
        "xaxis24": {
         "anchor": "y24",
         "domain": [
          0.825,
          1
         ],
         "showgrid": true
        },
        "xaxis25": {
         "anchor": "y25",
         "domain": [
          0,
          0.175
         ],
         "showgrid": true
        },
        "xaxis26": {
         "anchor": "y26",
         "domain": [
          0.275,
          0.45
         ],
         "showgrid": true
        },
        "xaxis27": {
         "anchor": "y27",
         "domain": [
          0.55,
          0.7250000000000001
         ],
         "showgrid": true
        },
        "xaxis28": {
         "anchor": "y28",
         "domain": [
          0.825,
          1
         ],
         "showgrid": true
        },
        "xaxis29": {
         "anchor": "y29",
         "domain": [
          0,
          0.175
         ],
         "showgrid": true
        },
        "xaxis3": {
         "anchor": "y3",
         "domain": [
          0.55,
          0.7250000000000001
         ],
         "showgrid": true
        },
        "xaxis30": {
         "anchor": "y30",
         "domain": [
          0.275,
          0.45
         ],
         "showgrid": true
        },
        "xaxis31": {
         "anchor": "y31",
         "domain": [
          0.55,
          0.7250000000000001
         ],
         "showgrid": true
        },
        "xaxis32": {
         "anchor": "y32",
         "domain": [
          0.825,
          1
         ],
         "showgrid": true
        },
        "xaxis33": {
         "anchor": "y33",
         "domain": [
          0,
          0.175
         ],
         "showgrid": true
        },
        "xaxis34": {
         "anchor": "y34",
         "domain": [
          0.275,
          0.45
         ],
         "showgrid": true
        },
        "xaxis35": {
         "anchor": "y35",
         "domain": [
          0.55,
          0.7250000000000001
         ],
         "showgrid": true
        },
        "xaxis36": {
         "anchor": "y36",
         "domain": [
          0.825,
          1
         ],
         "showgrid": true
        },
        "xaxis37": {
         "anchor": "y37",
         "domain": [
          0,
          0.175
         ],
         "showgrid": true
        },
        "xaxis38": {
         "anchor": "y38",
         "domain": [
          0.275,
          0.45
         ],
         "showgrid": true
        },
        "xaxis39": {
         "anchor": "y39",
         "domain": [
          0.55,
          0.7250000000000001
         ],
         "showgrid": true
        },
        "xaxis4": {
         "anchor": "y4",
         "domain": [
          0.825,
          1
         ],
         "showgrid": true
        },
        "xaxis40": {
         "anchor": "y40",
         "domain": [
          0.825,
          1
         ],
         "showgrid": true
        },
        "xaxis41": {
         "anchor": "y41",
         "domain": [
          0,
          0.175
         ],
         "showgrid": true
        },
        "xaxis42": {
         "anchor": "y42",
         "domain": [
          0.275,
          0.45
         ],
         "showgrid": true
        },
        "xaxis43": {
         "anchor": "y43",
         "domain": [
          0.55,
          0.7250000000000001
         ],
         "showgrid": true
        },
        "xaxis44": {
         "anchor": "y44",
         "domain": [
          0.825,
          1
         ],
         "showgrid": true
        },
        "xaxis45": {
         "anchor": "y45",
         "domain": [
          0,
          0.175
         ],
         "showgrid": true
        },
        "xaxis46": {
         "anchor": "y46",
         "domain": [
          0.275,
          0.45
         ],
         "showgrid": true
        },
        "xaxis47": {
         "anchor": "y47",
         "domain": [
          0.55,
          0.7250000000000001
         ],
         "showgrid": true
        },
        "xaxis48": {
         "anchor": "y48",
         "domain": [
          0.825,
          1
         ],
         "showgrid": true
        },
        "xaxis49": {
         "anchor": "y49",
         "domain": [
          0,
          0.175
         ],
         "showgrid": true
        },
        "xaxis5": {
         "anchor": "y5",
         "domain": [
          0,
          0.175
         ],
         "showgrid": true
        },
        "xaxis50": {
         "anchor": "y50",
         "domain": [
          0.275,
          0.45
         ],
         "showgrid": true
        },
        "xaxis51": {
         "anchor": "y51",
         "domain": [
          0.55,
          0.7250000000000001
         ],
         "showgrid": true
        },
        "xaxis52": {
         "anchor": "y52",
         "domain": [
          0.825,
          1
         ],
         "showgrid": true
        },
        "xaxis6": {
         "anchor": "y6",
         "domain": [
          0.275,
          0.45
         ],
         "showgrid": true
        },
        "xaxis7": {
         "anchor": "y7",
         "domain": [
          0.55,
          0.7250000000000001
         ],
         "showgrid": true
        },
        "xaxis8": {
         "anchor": "y8",
         "domain": [
          0.825,
          1
         ],
         "showgrid": true
        },
        "xaxis9": {
         "anchor": "y9",
         "domain": [
          0,
          0.175
         ],
         "showgrid": true
        },
        "yaxis": {
         "anchor": "x",
         "domain": [
          0.9514792899408283,
          0.9999999999999999
         ],
         "showgrid": true
        },
        "yaxis10": {
         "anchor": "x10",
         "domain": [
          0.7928994082840235,
          0.8414201183431951
         ],
         "showgrid": true
        },
        "yaxis11": {
         "anchor": "x11",
         "domain": [
          0.7928994082840235,
          0.8414201183431951
         ],
         "showgrid": true
        },
        "yaxis12": {
         "anchor": "x12",
         "domain": [
          0.7928994082840235,
          0.8414201183431951
         ],
         "showgrid": true
        },
        "yaxis13": {
         "anchor": "x13",
         "domain": [
          0.7136094674556213,
          0.7621301775147928
         ],
         "showgrid": true
        },
        "yaxis14": {
         "anchor": "x14",
         "domain": [
          0.7136094674556213,
          0.7621301775147928
         ],
         "showgrid": true
        },
        "yaxis15": {
         "anchor": "x15",
         "domain": [
          0.7136094674556213,
          0.7621301775147928
         ],
         "showgrid": true
        },
        "yaxis16": {
         "anchor": "x16",
         "domain": [
          0.7136094674556213,
          0.7621301775147928
         ],
         "showgrid": true
        },
        "yaxis17": {
         "anchor": "x17",
         "domain": [
          0.6343195266272188,
          0.6828402366863904
         ],
         "showgrid": true
        },
        "yaxis18": {
         "anchor": "x18",
         "domain": [
          0.6343195266272188,
          0.6828402366863904
         ],
         "showgrid": true
        },
        "yaxis19": {
         "anchor": "x19",
         "domain": [
          0.6343195266272188,
          0.6828402366863904
         ],
         "showgrid": true
        },
        "yaxis2": {
         "anchor": "x2",
         "domain": [
          0.9514792899408283,
          0.9999999999999999
         ],
         "showgrid": true
        },
        "yaxis20": {
         "anchor": "x20",
         "domain": [
          0.6343195266272188,
          0.6828402366863904
         ],
         "showgrid": true
        },
        "yaxis21": {
         "anchor": "x21",
         "domain": [
          0.5550295857988166,
          0.6035502958579881
         ],
         "showgrid": true
        },
        "yaxis22": {
         "anchor": "x22",
         "domain": [
          0.5550295857988166,
          0.6035502958579881
         ],
         "showgrid": true
        },
        "yaxis23": {
         "anchor": "x23",
         "domain": [
          0.5550295857988166,
          0.6035502958579881
         ],
         "showgrid": true
        },
        "yaxis24": {
         "anchor": "x24",
         "domain": [
          0.5550295857988166,
          0.6035502958579881
         ],
         "showgrid": true
        },
        "yaxis25": {
         "anchor": "x25",
         "domain": [
          0.47573964497041416,
          0.5242603550295858
         ],
         "showgrid": true
        },
        "yaxis26": {
         "anchor": "x26",
         "domain": [
          0.47573964497041416,
          0.5242603550295858
         ],
         "showgrid": true
        },
        "yaxis27": {
         "anchor": "x27",
         "domain": [
          0.47573964497041416,
          0.5242603550295858
         ],
         "showgrid": true
        },
        "yaxis28": {
         "anchor": "x28",
         "domain": [
          0.47573964497041416,
          0.5242603550295858
         ],
         "showgrid": true
        },
        "yaxis29": {
         "anchor": "x29",
         "domain": [
          0.3964497041420118,
          0.4449704142011834
         ],
         "showgrid": true
        },
        "yaxis3": {
         "anchor": "x3",
         "domain": [
          0.9514792899408283,
          0.9999999999999999
         ],
         "showgrid": true
        },
        "yaxis30": {
         "anchor": "x30",
         "domain": [
          0.3964497041420118,
          0.4449704142011834
         ],
         "showgrid": true
        },
        "yaxis31": {
         "anchor": "x31",
         "domain": [
          0.3964497041420118,
          0.4449704142011834
         ],
         "showgrid": true
        },
        "yaxis32": {
         "anchor": "x32",
         "domain": [
          0.3964497041420118,
          0.4449704142011834
         ],
         "showgrid": true
        },
        "yaxis33": {
         "anchor": "x33",
         "domain": [
          0.31715976331360946,
          0.36568047337278103
         ],
         "showgrid": true
        },
        "yaxis34": {
         "anchor": "x34",
         "domain": [
          0.31715976331360946,
          0.36568047337278103
         ],
         "showgrid": true
        },
        "yaxis35": {
         "anchor": "x35",
         "domain": [
          0.31715976331360946,
          0.36568047337278103
         ],
         "showgrid": true
        },
        "yaxis36": {
         "anchor": "x36",
         "domain": [
          0.31715976331360946,
          0.36568047337278103
         ],
         "showgrid": true
        },
        "yaxis37": {
         "anchor": "x37",
         "domain": [
          0.2378698224852071,
          0.2863905325443787
         ],
         "showgrid": true
        },
        "yaxis38": {
         "anchor": "x38",
         "domain": [
          0.2378698224852071,
          0.2863905325443787
         ],
         "showgrid": true
        },
        "yaxis39": {
         "anchor": "x39",
         "domain": [
          0.2378698224852071,
          0.2863905325443787
         ],
         "showgrid": true
        },
        "yaxis4": {
         "anchor": "x4",
         "domain": [
          0.9514792899408283,
          0.9999999999999999
         ],
         "showgrid": true
        },
        "yaxis40": {
         "anchor": "x40",
         "domain": [
          0.2378698224852071,
          0.2863905325443787
         ],
         "showgrid": true
        },
        "yaxis41": {
         "anchor": "x41",
         "domain": [
          0.15857988165680473,
          0.20710059171597633
         ],
         "showgrid": true
        },
        "yaxis42": {
         "anchor": "x42",
         "domain": [
          0.15857988165680473,
          0.20710059171597633
         ],
         "showgrid": true
        },
        "yaxis43": {
         "anchor": "x43",
         "domain": [
          0.15857988165680473,
          0.20710059171597633
         ],
         "showgrid": true
        },
        "yaxis44": {
         "anchor": "x44",
         "domain": [
          0.15857988165680473,
          0.20710059171597633
         ],
         "showgrid": true
        },
        "yaxis45": {
         "anchor": "x45",
         "domain": [
          0.07928994082840236,
          0.12781065088757396
         ],
         "showgrid": true
        },
        "yaxis46": {
         "anchor": "x46",
         "domain": [
          0.07928994082840236,
          0.12781065088757396
         ],
         "showgrid": true
        },
        "yaxis47": {
         "anchor": "x47",
         "domain": [
          0.07928994082840236,
          0.12781065088757396
         ],
         "showgrid": true
        },
        "yaxis48": {
         "anchor": "x48",
         "domain": [
          0.07928994082840236,
          0.12781065088757396
         ],
         "showgrid": true
        },
        "yaxis49": {
         "anchor": "x49",
         "domain": [
          0,
          0.04852071005917159
         ],
         "showgrid": true
        },
        "yaxis5": {
         "anchor": "x5",
         "domain": [
          0.872189349112426,
          0.9207100591715975
         ],
         "showgrid": true
        },
        "yaxis50": {
         "anchor": "x50",
         "domain": [
          0,
          0.04852071005917159
         ],
         "showgrid": true
        },
        "yaxis51": {
         "anchor": "x51",
         "domain": [
          0,
          0.04852071005917159
         ],
         "showgrid": true
        },
        "yaxis52": {
         "anchor": "x52",
         "domain": [
          0,
          0.04852071005917159
         ],
         "showgrid": true
        },
        "yaxis6": {
         "anchor": "x6",
         "domain": [
          0.872189349112426,
          0.9207100591715975
         ],
         "showgrid": true
        },
        "yaxis7": {
         "anchor": "x7",
         "domain": [
          0.872189349112426,
          0.9207100591715975
         ],
         "showgrid": true
        },
        "yaxis8": {
         "anchor": "x8",
         "domain": [
          0.872189349112426,
          0.9207100591715975
         ],
         "showgrid": true
        },
        "yaxis9": {
         "anchor": "x9",
         "domain": [
          0.7928994082840235,
          0.8414201183431951
         ],
         "showgrid": true
        }
       }
      },
      "text/html": [
       "<div>                            <div id=\"5ba8d8e0-b456-48a8-bdb1-ac9d480c0ad1\" class=\"plotly-graph-div\" style=\"height:3250px; width:1000px;\"></div>            <script type=\"text/javascript\">                require([\"plotly\"], function(Plotly) {                    window.PLOTLYENV=window.PLOTLYENV || {};                                    if (document.getElementById(\"5ba8d8e0-b456-48a8-bdb1-ac9d480c0ad1\")) {                    Plotly.newPlot(                        \"5ba8d8e0-b456-48a8-bdb1-ac9d480c0ad1\",                        [{\"marker\":{\"color\":\"#D55E00\"},\"orientation\":\"h\",\"x\":[0.3187479078769684,0.33069443702697754,0.33951351046562195,0.3637803792953491,0.37325334548950195,0.3744804263114929,0.3900599777698517,0.4208105504512787,0.42327386140823364,0.5605130195617676],\"y\":[\"pond  \",\"area  \",\"promenade  \",\"places  \",\"place  \",\"playground  \",\"picnic  \",\"parking  \",\"playgrounds  \",\"park  \"],\"type\":\"bar\",\"xaxis\":\"x\",\"yaxis\":\"y\"},{\"marker\":{\"color\":\"#0072B2\"},\"orientation\":\"h\",\"x\":[0.23684382438659668,0.24354740977287292,0.2548052668571472,0.27464595437049866,0.3057234287261963,0.3140047490596771,0.33023059368133545,0.3419297933578491,0.390903115272522,0.546617865562439],\"y\":[\"building  \",\"place  \",\"tiergarten  \",\"city  \",\"parks  \",\"visit  \",\"cathedral  \",\"park  \",\"zoo  \",\"berlin  \"],\"type\":\"bar\",\"xaxis\":\"x2\",\"yaxis\":\"y2\"},{\"marker\":{\"color\":\"#CC79A7\"},\"orientation\":\"h\",\"x\":[0.3186720609664917,0.3247595429420471,0.3482283353805542,0.35848450660705566,0.3688693642616272,0.37046799063682556,0.41270822286605835,0.45678281784057617,0.46570611000061035,0.5515929460525513],\"y\":[\"street  \",\"cozy  \",\"great  \",\"very  \",\"beautiful  \",\"neighborhood  \",\"city  \",\"visit  \",\"location  \",\"place  \"],\"type\":\"bar\",\"xaxis\":\"x3\",\"yaxis\":\"y3\"},{\"marker\":{\"color\":\"#E69F00\"},\"orientation\":\"h\",\"x\":[0.3028586208820343,0.31326091289520264,0.3175307512283325,0.32897159457206726,0.351438045501709,0.35604244470596313,0.4218805134296417,0.4273838400840759,0.43722715973854065,0.5104718208312988],\"y\":[\"tribute  \",\"1945  \",\"statue  \",\"soviet  \",\"cemetery  \",\"brandenburg  \",\"berlins  \",\"monument  \",\"berlin  \",\"memorial  \"],\"type\":\"bar\",\"xaxis\":\"x4\",\"yaxis\":\"y4\"},{\"marker\":{\"color\":\"#56B4E9\"},\"orientation\":\"h\",\"x\":[0.34177806973457336,0.35195934772491455,0.3539848327636719,0.3547095060348511,0.35902082920074463,0.3842145800590515,0.3842950761318207,0.39397239685058594,0.4165717363357544,0.541709840297699],\"y\":[\"grill  \",\"unfriendly  \",\"drinks  \",\"service  \",\"served  \",\"staff  \",\"barbecue  \",\"friendly  \",\"food  \",\"restaurant  \"],\"type\":\"bar\",\"xaxis\":\"x5\",\"yaxis\":\"y5\"},{\"marker\":{\"color\":\"#009E73\"},\"orientation\":\"h\",\"x\":[0.4498247504234314,0.4518893361091614,0.4919155538082123,0.493910014629364,0.5102329254150391,0.5794049501419067,0.5872798562049866,0.6090166568756104,0.6212302446365356,0.6457298994064331],\"y\":[\"best  \",\"bad  \",\"positively  \",\"amazing  \",\"exquisite  \",\"wonderful  \",\"fantastic  \",\"very  \",\"great  \",\"good  \"],\"type\":\"bar\",\"xaxis\":\"x6\",\"yaxis\":\"y6\"},{\"marker\":{\"color\":\"#F0E442\"},\"orientation\":\"h\",\"x\":[0.414348304271698,0.44324254989624023,0.44851791858673096,0.4501796364784241,0.45653536915779114,0.47987401485443115,0.5230029821395874,0.5378843545913696,0.5863194465637207,0.6688395142555237],\"y\":[\"elevator  \",\"metro  \",\"underground  \",\"trains  \",\"bahn  \",\"railway  \",\"berlin  \",\"stations  \",\"station  \",\"subway  \"],\"type\":\"bar\",\"xaxis\":\"x7\",\"yaxis\":\"y7\"},{\"marker\":{\"color\":\"#D55E00\"},\"orientation\":\"h\",\"x\":[0.34121203422546387,0.34679269790649414,0.3497177064418793,0.3540363013744354,0.37977492809295654,0.3996492922306061,0.4093990623950958,0.44318893551826477,0.6368353366851807,0.6496810913085938],\"y\":[\"plants  \",\"place  \",\"visit  \",\"beautifully  \",\"lovely  \",\"park  \",\"flower  \",\"flowers  \",\"garden  \",\"gardens  \"],\"type\":\"bar\",\"xaxis\":\"x8\",\"yaxis\":\"y8\"},{\"marker\":{\"color\":\"#0072B2\"},\"orientation\":\"h\",\"x\":[0.26702484488487244,0.27085769176483154,0.2805131673812866,0.29896923899650574,0.30945897102355957,0.30995702743530273,0.31434229016304016,0.39785048365592957,0.4200732409954071,0.4544210135936737],\"y\":[\"prices  \",\"street  \",\"clothing  \",\"vendors  \",\"goods  \",\"place  \",\"store  \",\"market  \",\"flea  \",\"shop  \"],\"type\":\"bar\",\"xaxis\":\"x9\",\"yaxis\":\"y9\"},{\"marker\":{\"color\":\"#CC79A7\"},\"orientation\":\"h\",\"x\":[0.3734332025051117,0.38370615243911743,0.3906596899032593,0.423858642578125,0.43693673610687256,0.5207176208496094,0.527768611907959,0.5740295648574829,0.6042025685310364,0.8844590187072754],\"y\":[\"fab  \",\"fam  \",\"epic  \",\"top  \",\"mega  \",\"suha  \",\"supe  \",\"superb  \",\"superbo  \",\"super  \"],\"type\":\"bar\",\"xaxis\":\"x10\",\"yaxis\":\"y10\"},{\"marker\":{\"color\":\"#E69F00\"},\"orientation\":\"h\",\"x\":[0.3437540531158447,0.35146650671958923,0.3551236689090729,0.36670950055122375,0.3775385022163391,0.3912322223186493,0.3962365388870239,0.4006773829460144,0.40261584520339966,0.40917912125587463],\"y\":[\"sionante  \",\"de  \",\"cerca  \",\"muito  \",\"veramente  \",\"es  \",\"une  \",\"viento  \",\"suavemente  \",\"descansar  \"],\"type\":\"bar\",\"xaxis\":\"x11\",\"yaxis\":\"y11\"},{\"marker\":{\"color\":\"#56B4E9\"},\"orientation\":\"h\",\"x\":[0.31617873907089233,0.31855612993240356,0.33562126755714417,0.3410722613334656,0.3525742292404175,0.3659212589263916,0.4643787741661072,0.4726009964942932,0.47700613737106323,0.48027026653289795],\"y\":[\"one  \",\"ningn  \",\"triangular  \",\"paradox  \",\"any  \",\"ne  \",\"empty  \",\"blank  \",\"non  \",\"none  \"],\"type\":\"bar\",\"xaxis\":\"x12\",\"yaxis\":\"y12\"},{\"marker\":{\"color\":\"#009E73\"},\"orientation\":\"h\",\"x\":[0.29707056283950806,0.30363792181015015,0.38622087240219116,0.38811102509498596,0.3905121088027954,0.4390465021133423,0.4689725637435913,0.5264421105384827,0.6720387935638428,0.7073965668678284],\"y\":[\"wonderful  \",\"magnificent  \",\"abbey  \",\"majestic  \",\"visit  \",\"franciscan  \",\"protestant  \",\"monastery  \",\"cathedral  \",\"church  \"],\"type\":\"bar\",\"xaxis\":\"x13\",\"yaxis\":\"y13\"},{\"marker\":{\"color\":\"#F0E442\"},\"orientation\":\"h\",\"x\":[0.27909722924232483,0.2939181327819824,0.30194759368896484,0.30217474699020386,0.3630163073539734,0.37708115577697754,0.3906708061695099,0.42446598410606384,0.46322059631347656,0.5231461524963379],\"y\":[\"demolished  \",\"grounds  \",\"historical  \",\"place  \",\"buried  \",\"historic  \",\"park  \",\"cemetery  \",\"prisoners  \",\"prison  \"],\"type\":\"bar\",\"xaxis\":\"x14\",\"yaxis\":\"y14\"},{\"marker\":{\"color\":\"#D55E00\"},\"orientation\":\"h\",\"x\":[0.5878861546516418,0.5878861546516418,0.5878861546516418,0.5878861546516418,0.5878861546516418,0.5878861546516418,0.610685408115387,0.7086088061332703,0.8247038125991821,0.8551300168037415],\"y\":[\"  \",\"  \",\"  \",\"  \",\"  \",\"  \",\"fine  \",\"alright  \",\"okay  \",\"ok  \"],\"type\":\"bar\",\"xaxis\":\"x15\",\"yaxis\":\"y15\"},{\"marker\":{\"color\":\"#0072B2\"},\"orientation\":\"h\",\"x\":[0.36680760979652405,0.39639812707901,0.4179891049861908,0.43364623188972473,0.46619170904159546,0.5095062851905823,0.5166230201721191,0.5215482711791992,0.5329696536064148,0.6599805951118469],\"y\":[\"peace  \",\"place  \",\"lively  \",\"silence  \",\"quietnow  \",\"peaceful  \",\"quietly  \",\"loud  \",\"noisy  \",\"quiet  \"],\"type\":\"bar\",\"xaxis\":\"x16\",\"yaxis\":\"y16\"},{\"marker\":{\"color\":\"#CC79A7\"},\"orientation\":\"h\",\"x\":[0.2983199656009674,0.30576589703559875,0.31507259607315063,0.3378188908100128,0.3440523147583008,0.3440972566604614,0.3478105664253235,0.4228200912475586,0.4258171319961548,0.492563933134079],\"y\":[\"elevators  \",\"stairs  \",\"stairwell  \",\"parking  \",\"homeless  \",\"stairwells  \",\"cleanliness  \",\"toilet  \",\"playground  \",\"toilets  \"],\"type\":\"bar\",\"xaxis\":\"x17\",\"yaxis\":\"y17\"},{\"marker\":{\"color\":\"#E69F00\"},\"orientation\":\"h\",\"x\":[0.19822397828102112,0.2137615978717804,0.23194368183612823,0.23698708415031433,0.2690628170967102,0.27304744720458984,0.28389623761177063,0.303007036447525,0.30608609318733215,0.31624549627304077],\"y\":[\"piteria  \",\"posture  \",\"massage  \",\"place  \",\"relaxation  \",\"meditative  \",\"anichkovo  \",\"ruins  \",\"sculpture  \",\"altar  \"],\"type\":\"bar\",\"xaxis\":\"x18\",\"yaxis\":\"y18\"},{\"marker\":{\"color\":\"#56B4E9\"},\"orientation\":\"h\",\"x\":[0.2659717798233032,0.26927730441093445,0.2846613824367523,0.30876120924949646,0.3340289294719696,0.3426218628883362,0.36074763536453247,0.5389392375946045,0.5403411388397217,0.6216049194335938],\"y\":[\"asian  \",\"tasty  \",\"picnic  \",\"dishes  \",\"food  \",\"rice  \",\"vietnamese  \",\"thaipark  \",\"thailand  \",\"thai  \"],\"type\":\"bar\",\"xaxis\":\"x19\",\"yaxis\":\"y19\"},{\"marker\":{\"color\":\"#009E73\"},\"orientation\":\"h\",\"x\":[0.3578895330429077,0.36352238059043884,0.3754238486289978,0.39135652780532837,0.39266830682754517,0.3939879238605499,0.3944839537143707,0.4016754925251007,0.4165416359901428,0.4555571973323822],\"y\":[\"przyjemny  \",\"jednak  \",\"olmakla  \",\"spokojne  \",\"nazwane  \",\"szlaki  \",\"za  \",\"szczecine  \",\"rozkvetljsou  \",\"zahrada  \"],\"type\":\"bar\",\"xaxis\":\"x20\",\"yaxis\":\"y20\"},{\"marker\":{\"color\":\"#F0E442\"},\"orientation\":\"h\",\"x\":[0.29936879873275757,0.3069227933883667,0.3124011754989624,0.3238767385482788,0.3427526652812958,0.3442438840866089,0.3552640974521637,0.3811004161834717,0.4248802363872528,0.44595852494239807],\"y\":[\"reservation  \",\"booked  \",\"building  \",\"visit  \",\"concerts  \",\"restaurant  \",\"visiting  \",\"ticket  \",\"booking  \",\"tickets  \"],\"type\":\"bar\",\"xaxis\":\"x21\",\"yaxis\":\"y21\"},{\"marker\":{\"color\":\"#D55E00\"},\"orientation\":\"h\",\"x\":[0.3247828483581543,0.3270026445388794,0.4131150245666504,0.44351282715797424,0.47335317730903625,0.4990389943122864,0.7005608677864075,0.7883689999580383,0.8037992715835571,0.8296403884887695],\"y\":[\"quiet  \",\"againpeace  \",\"place  \",\"cooler  \",\"relax  \",\"cold  \",\"chilling  \",\"chillig  \",\"chill  \",\"chillout  \"],\"type\":\"bar\",\"xaxis\":\"x22\",\"yaxis\":\"y22\"},{\"marker\":{\"color\":\"#0072B2\"},\"orientation\":\"h\",\"x\":[0.2915371358394623,0.32428720593452454,0.3657847046852112,0.409698486328125,0.4373551905155182,0.5151163339614868,0.5496647953987122,0.6182891726493835,0.6695489883422852,0.6815656423568726],\"y\":[\"read  \",\"store  \",\"shop  \",\"reading  \",\"recommendations  \",\"book  \",\"booksellers  \",\"books  \",\"bookshop  \",\"bookstore  \"],\"type\":\"bar\",\"xaxis\":\"x23\",\"yaxis\":\"y23\"},{\"marker\":{\"color\":\"#CC79A7\"},\"orientation\":\"h\",\"x\":[0.4344375431537628,0.4372430443763733,0.4579133987426758,0.5551765561103821,0.6244717836380005,0.6279363036155701,0.6662366390228271,0.6863532066345215,0.6980636119842529,0.935692548751831],\"y\":[\"disgusting  \",\"clear  \",\"sterile  \",\"tidy  \",\"cleaning  \",\"cleaned  \",\"filthy  \",\"clean  \",\"dirt  \",\"dirty  \"],\"type\":\"bar\",\"xaxis\":\"x24\",\"yaxis\":\"y24\"},{\"marker\":{\"color\":\"#E69F00\"},\"orientation\":\"h\",\"x\":[0.33656033873558044,0.34889963269233704,0.3518438935279846,0.35453253984451294,0.3828413486480713,0.40067145228385925,0.4368574619293213,0.4726857542991638,0.4829125702381134,0.5508458614349365],\"y\":[\"ship  \",\"crowded  \",\"fishing  \",\"trip  \",\"sea  \",\"houseboats  \",\"piers  \",\"pier  \",\"boat  \",\"embarkation  \"],\"type\":\"bar\",\"xaxis\":\"x25\",\"yaxis\":\"y25\"},{\"marker\":{\"color\":\"#56B4E9\"},\"orientation\":\"h\",\"x\":[0.1878129094839096,0.18791992962360382,0.1887236088514328,0.2189481407403946,0.22245648503303528,0.22895780205726624,0.25965380668640137,0.29889369010925293,0.31251609325408936,0.3324458599090576],\"y\":[\"david  \",\"15  \",\"concert  \",\"childrens  \",\"service  \",\"mmuah  \",\"choralspace  \",\"festival  \",\"fajne  \",\"miejsce  \"],\"type\":\"bar\",\"xaxis\":\"x26\",\"yaxis\":\"y26\"},{\"marker\":{\"color\":\"#009E73\"},\"orientation\":\"h\",\"x\":[0.21838796138763428,0.21899577975273132,0.2218639850616455,0.2406500279903412,0.24281147122383118,0.2783967852592468,0.4065048098564148,0.4703349173069,0.6318479776382446,0.6496025919914246],\"y\":[\"rooms  \",\"lanes  \",\"crowded  \",\"clean  \",\"water  \",\"laps  \",\"swim  \",\"swimming  \",\"pools  \",\"pool  \"],\"type\":\"bar\",\"xaxis\":\"x27\",\"yaxis\":\"y27\"},{\"marker\":{\"color\":\"#F0E442\"},\"orientation\":\"h\",\"x\":[0.3377467095851898,0.3525567948818207,0.35416316986083984,0.35552626848220825,0.36321568489074707,0.45005661249160767,0.49482497572898865,0.5189864039421082,0.5343194007873535,0.5680670738220215],\"y\":[\"something  \",\"surprised  \",\"important  \",\"about  \",\"nothing  \",\"very  \",\"remarkable  \",\"exciting  \",\"special  \",\"interesting  \"],\"type\":\"bar\",\"xaxis\":\"x28\",\"yaxis\":\"y28\"},{\"marker\":{\"color\":\"#D55E00\"},\"orientation\":\"h\",\"x\":[0.16661210358142853,0.16661210358142853,0.16661210358142853,0.16661210358142853,0.16661210358142853,0.16661210358142853,0.16661210358142853,0.16661210358142853,0.16661210358142853,0.16661210358142853],\"y\":[\"  \",\"  \",\"  \",\"  \",\"  \",\"  \",\"  \",\"  \",\"  \",\"  \"],\"type\":\"bar\",\"xaxis\":\"x29\",\"yaxis\":\"y29\"},{\"marker\":{\"color\":\"#0072B2\"},\"orientation\":\"h\",\"x\":[0.4113876223564148,0.43551748991012573,0.47036659717559814,0.5463676452636719,0.551725447177887,0.6695104837417603,0.7088208198547363,0.7176468968391418,0.7807730436325073,0.8115969896316528],\"y\":[\"modernizations  \",\"construction  \",\"housing  \",\"redesign  \",\"rebuilt  \",\"redevelopment  \",\"renovationwill  \",\"renovated  \",\"renovations  \",\"renovation  \"],\"type\":\"bar\",\"xaxis\":\"x30\",\"yaxis\":\"y30\"},{\"marker\":{\"color\":\"#CC79A7\"},\"orientation\":\"h\",\"x\":[0.2880619466304779,0.28992870450019836,0.2919439673423767,0.297488808631897,0.3033973276615143,0.3055020570755005,0.32558581233024597,0.3296118378639221,0.4260725677013397,0.4676620364189148],\"y\":[\"friendly  \",\"modest  \",\"little  \",\"areas  \",\"lovely  \",\"tent  \",\"mini  \",\"visited  \",\"golfing  \",\"golf  \"],\"type\":\"bar\",\"xaxis\":\"x31\",\"yaxis\":\"y31\"},{\"marker\":{\"color\":\"#E69F00\"},\"orientation\":\"h\",\"x\":[0.3081144690513611,0.3114999234676361,0.32872387766838074,0.355962872505188,0.36503082513809204,0.3727129399776459,0.3781367540359497,0.4077206254005432,0.4155864715576172,0.46072471141815186],\"y\":[\"announce  \",\"1130pm  \",\"4pm  \",\"11am  \",\"closed  \",\"5pm  \",\"open  \",\"opened  \",\"reopen  \",\"opening  \"],\"type\":\"bar\",\"xaxis\":\"x32\",\"yaxis\":\"y32\"},{\"marker\":{\"color\":\"#56B4E9\"},\"orientation\":\"h\",\"x\":[0.23101705312728882,0.2314857542514801,0.23249894380569458,0.23933210968971252,0.24457857012748718,0.2526804506778717,0.26172930002212524,0.26491478085517883,0.7000723481178284,0.8514860272407532],\"y\":[\"very  \",\"feelgood  \",\"bathtub  \",\"everthing  \",\"best  \",\"favorite  \",\"prefer  \",\"glad  \",\"moabitperfect  \",\"moabit  \"],\"type\":\"bar\",\"xaxis\":\"x33\",\"yaxis\":\"y33\"},{\"marker\":{\"color\":\"#009E73\"},\"orientation\":\"h\",\"x\":[0.24372121691703796,0.2520964443683624,0.2723187208175659,0.2962357997894287,0.29710623621940613,0.32511645555496216,0.33046770095825195,0.5416156053543091,0.7047938108444214,0.7675440907478333],\"y\":[\"distance  \",\"bit  \",\"positive  \",\"nice  \",\"quiet  \",\"very  \",\"cute  \",\"little  \",\"tiny  \",\"small  \"],\"type\":\"bar\",\"xaxis\":\"x34\",\"yaxis\":\"y34\"},{\"marker\":{\"color\":\"#F0E442\"},\"orientation\":\"h\",\"x\":[0.2165949046611786,0.21905966103076935,0.2623002827167511,0.28721266984939575,0.2935637831687927,0.30238938331604004,0.31266525387763977,0.4335384964942932,0.47957712411880493,0.5215163230895996],\"y\":[\"natural  \",\"is  \",\"very  \",\"small  \",\"for  \",\"little  \",\"suitable  \",\"kiddies  \",\"kids  \",\"children  \"],\"type\":\"bar\",\"xaxis\":\"x35\",\"yaxis\":\"y35\"},{\"marker\":{\"color\":\"#D55E00\"},\"orientation\":\"h\",\"x\":[0.20634198188781738,0.21377871930599213,0.22856003046035767,0.22890636324882507,0.25175487995147705,0.262523353099823,0.3005411624908447,0.4022124409675598,0.4161245822906494,0.4448823630809784],\"y\":[\"can  \",\"possible  \",\"million  \",\"give  \",\"four  \",\"one  \",\"zero  \",\"park  \",\"stars  \",\"star  \"],\"type\":\"bar\",\"xaxis\":\"x36\",\"yaxis\":\"y36\"},{\"marker\":{\"color\":\"#0072B2\"},\"orientation\":\"h\",\"x\":[0.19450657069683075,0.19453778862953186,0.20268230140209198,0.21065384149551392,0.23341798782348633,0.24141308665275574,0.34083282947540283,0.38821208477020264,0.39855000376701355,0.41931426525115967],\"y\":[\"gets  \",\"stroll  \",\"around  \",\"walk  \",\"elsethe  \",\"worth  \",\"ne  \",\"none  \",\"weather  \",\"trip  \"],\"type\":\"bar\",\"xaxis\":\"x37\",\"yaxis\":\"y37\"},{\"marker\":{\"color\":\"#CC79A7\"},\"orientation\":\"h\",\"x\":[0.23397968709468842,0.23569603264331818,0.2514122724533081,0.2518751621246338,0.2592886984348297,0.27798905968666077,0.2900758385658264,0.32479947805404663,0.3432666063308716,0.4743976891040802],\"y\":[\"looks  \",\"sketch  \",\"unfriendly  \",\"honest  \",\"cocaine  \",\"soccer  \",\"products  \",\"quality  \",\"unsafe  \",\"dealers  \"],\"type\":\"bar\",\"xaxis\":\"x38\",\"yaxis\":\"y38\"},{\"marker\":{\"color\":\"#E69F00\"},\"orientation\":\"h\",\"x\":[0.2465062439441681,0.2473594844341278,0.24760660529136658,0.25791361927986145,0.2640347480773926,0.2665638029575348,0.26889118552207947,0.3597871661186218,0.40412694215774536,0.42753028869628906],\"y\":[\"disco  \",\"sound  \",\"music  \",\"djs  \",\"worst  \",\"event  \",\"disaster  \",\"guests  \",\"party  \",\"fireworks  \"],\"type\":\"bar\",\"xaxis\":\"x39\",\"yaxis\":\"y39\"},{\"marker\":{\"color\":\"#56B4E9\"},\"orientation\":\"h\",\"x\":[0.23962637782096863,0.25991111993789673,0.25998440384864807,0.2726718783378601,0.28084638714790344,0.28227806091308594,0.3160405158996582,0.42753279209136963,0.43656599521636963,0.7617847919464111],\"y\":[\"barrierfree  \",\"platform  \",\"homeless  \",\"wheelchair  \",\"accessible  \",\"construction  \",\"retrofit  \",\"lift  \",\"escalator  \",\"elevator  \"],\"type\":\"bar\",\"xaxis\":\"x40\",\"yaxis\":\"y40\"},{\"marker\":{\"color\":\"#009E73\"},\"orientation\":\"h\",\"x\":[0.24652470648288727,0.2577507495880127,0.2636251449584961,0.2680971622467041,0.2714018225669861,0.3143288791179657,0.33404839038848877,0.38430237770080566,0.47248178720474243,0.5140509605407715],\"y\":[\"freshvery  \",\"activities  \",\"very  \",\"small  \",\"pleasant  \",\"wellmaintained  \",\"lived  \",\"summer  \",\"maintained  \",\"idyll  \"],\"type\":\"bar\",\"xaxis\":\"x41\",\"yaxis\":\"y41\"},{\"marker\":{\"color\":\"#F0E442\"},\"orientation\":\"h\",\"x\":[0.3296998143196106,0.3310982584953308,0.348445326089859,0.4054974317550659,0.4088643789291382,0.4156871438026428,0.43555355072021484,0.4834845960140228,0.5414225459098816,0.5885539054870605],\"y\":[\"key  \",\"low  \",\"below  \",\"event  \",\"lit  \",\"concert  \",\"location  \",\"festivalof  \",\"lights  \",\"festival  \"],\"type\":\"bar\",\"xaxis\":\"x42\",\"yaxis\":\"y42\"},{\"marker\":{\"color\":\"#D55E00\"},\"orientation\":\"h\",\"x\":[0.19795507192611694,0.19825610518455505,0.29024678468704224,0.29086893796920776,0.439090758562088,0.4414808452129364,0.5472112894058228,0.5560470819473267,0.5832244753837585,0.6015445590019226],\"y\":[\"it  \",\"amazing  \",\"park  \",\"underrated  \",\"hidden  \",\"jewel  \",\"gems  \",\"gem  \",\"berlins  \",\"berlin  \"],\"type\":\"bar\",\"xaxis\":\"x43\",\"yaxis\":\"y43\"},{\"marker\":{\"color\":\"#0072B2\"},\"orientation\":\"h\",\"x\":[0.22462677955627441,0.27542048692703247,0.29341569542884827,0.3406124711036682,0.4008232355117798,0.41467928886413574,0.5052621364593506,0.5463046431541443,0.5677536725997925,0.603888750076294],\"y\":[\"beautiful  \",\"swings  \",\"speilplatz  \",\"cycling  \",\"walk  \",\"route  \",\"beginners  \",\"roller  \",\"skates  \",\"skating  \"],\"type\":\"bar\",\"xaxis\":\"x44\",\"yaxis\":\"y44\"},{\"marker\":{\"color\":\"#CC79A7\"},\"orientation\":\"h\",\"x\":[0.2802845537662506,0.28284725546836853,0.3068612217903137,0.30959463119506836,0.31718945503234863,0.34188026189804077,0.36882948875427246,0.41651684045791626,0.43080055713653564,0.9186089038848877],\"y\":[\"that  \",\"straight  \",\"epoch  \",\"expectations  \",\"experience  \",\"very  \",\"classic  \",\"oldie  \",\"old  \",\"modern  \"],\"type\":\"bar\",\"xaxis\":\"x45\",\"yaxis\":\"y45\"},{\"marker\":{\"color\":\"#E69F00\"},\"orientation\":\"h\",\"x\":[0.06550560891628265,0.06550560891628265,0.09988513588905334,0.2092108577489853,0.2179020345211029,0.2753436267375946,0.28112921118736267,0.30138635635375977,0.4078133702278137,0.5009570121765137],\"y\":[\"  \",\"  \",\"to  \",\"nice  \",\"place  \",\"cool  \",\"relax  \",\"very  \",\"mega  \",\"relaxing  \"],\"type\":\"bar\",\"xaxis\":\"x46\",\"yaxis\":\"y46\"},{\"marker\":{\"color\":\"#56B4E9\"},\"orientation\":\"h\",\"x\":[0.28007709980010986,0.28154006600379944,0.30825597047805786,0.3222144842147827,0.36893418431282043,0.37030473351478577,0.39485135674476624,0.43941688537597656,0.45226341485977173,0.47095561027526855],\"y\":[\"treated  \",\"doctor  \",\"appointments  \",\"blindnessthe  \",\"eye  \",\"eyesight  \",\"appointment  \",\"cataracts  \",\"clinic  \",\"glaucoma  \"],\"type\":\"bar\",\"xaxis\":\"x47\",\"yaxis\":\"y47\"},{\"marker\":{\"color\":\"#009E73\"},\"orientation\":\"h\",\"x\":[0.28333044052124023,0.28333044052124023,0.28333044052124023,0.28333044052124023,0.33467602729797363,0.3520519435405731,0.3731953501701355,0.39909419417381287,0.4250183701515198,0.48963505029678345],\"y\":[\"  \",\"  \",\"  \",\"  \",\"not  \",\"soo  \",\"very  \",\"nice  \",\"nicer  \",\"nicee  \"],\"type\":\"bar\",\"xaxis\":\"x48\",\"yaxis\":\"y48\"},{\"marker\":{\"color\":\"#F0E442\"},\"orientation\":\"h\",\"x\":[0.30947667360305786,0.30947667360305786,0.32384949922561646,0.3343062996864319,0.35926371812820435,0.3892166018486023,0.4112371802330017,0.4327605962753296,0.6172759532928467,0.6823980212211609],\"y\":[\"  \",\"  \",\"loves  \",\"cute  \",\"animals  \",\"turtles  \",\"rabbits  \",\"web  \",\"rats  \",\"spider  \"],\"type\":\"bar\",\"xaxis\":\"x49\",\"yaxis\":\"y49\"}],                        {\"template\":{\"data\":{\"barpolar\":[{\"marker\":{\"line\":{\"color\":\"white\",\"width\":0.5},\"pattern\":{\"fillmode\":\"overlay\",\"size\":10,\"solidity\":0.2}},\"type\":\"barpolar\"}],\"bar\":[{\"error_x\":{\"color\":\"#2a3f5f\"},\"error_y\":{\"color\":\"#2a3f5f\"},\"marker\":{\"line\":{\"color\":\"white\",\"width\":0.5},\"pattern\":{\"fillmode\":\"overlay\",\"size\":10,\"solidity\":0.2}},\"type\":\"bar\"}],\"carpet\":[{\"aaxis\":{\"endlinecolor\":\"#2a3f5f\",\"gridcolor\":\"#C8D4E3\",\"linecolor\":\"#C8D4E3\",\"minorgridcolor\":\"#C8D4E3\",\"startlinecolor\":\"#2a3f5f\"},\"baxis\":{\"endlinecolor\":\"#2a3f5f\",\"gridcolor\":\"#C8D4E3\",\"linecolor\":\"#C8D4E3\",\"minorgridcolor\":\"#C8D4E3\",\"startlinecolor\":\"#2a3f5f\"},\"type\":\"carpet\"}],\"choropleth\":[{\"colorbar\":{\"outlinewidth\":0,\"ticks\":\"\"},\"type\":\"choropleth\"}],\"contourcarpet\":[{\"colorbar\":{\"outlinewidth\":0,\"ticks\":\"\"},\"type\":\"contourcarpet\"}],\"contour\":[{\"colorbar\":{\"outlinewidth\":0,\"ticks\":\"\"},\"colorscale\":[[0.0,\"#0d0887\"],[0.1111111111111111,\"#46039f\"],[0.2222222222222222,\"#7201a8\"],[0.3333333333333333,\"#9c179e\"],[0.4444444444444444,\"#bd3786\"],[0.5555555555555556,\"#d8576b\"],[0.6666666666666666,\"#ed7953\"],[0.7777777777777778,\"#fb9f3a\"],[0.8888888888888888,\"#fdca26\"],[1.0,\"#f0f921\"]],\"type\":\"contour\"}],\"heatmapgl\":[{\"colorbar\":{\"outlinewidth\":0,\"ticks\":\"\"},\"colorscale\":[[0.0,\"#0d0887\"],[0.1111111111111111,\"#46039f\"],[0.2222222222222222,\"#7201a8\"],[0.3333333333333333,\"#9c179e\"],[0.4444444444444444,\"#bd3786\"],[0.5555555555555556,\"#d8576b\"],[0.6666666666666666,\"#ed7953\"],[0.7777777777777778,\"#fb9f3a\"],[0.8888888888888888,\"#fdca26\"],[1.0,\"#f0f921\"]],\"type\":\"heatmapgl\"}],\"heatmap\":[{\"colorbar\":{\"outlinewidth\":0,\"ticks\":\"\"},\"colorscale\":[[0.0,\"#0d0887\"],[0.1111111111111111,\"#46039f\"],[0.2222222222222222,\"#7201a8\"],[0.3333333333333333,\"#9c179e\"],[0.4444444444444444,\"#bd3786\"],[0.5555555555555556,\"#d8576b\"],[0.6666666666666666,\"#ed7953\"],[0.7777777777777778,\"#fb9f3a\"],[0.8888888888888888,\"#fdca26\"],[1.0,\"#f0f921\"]],\"type\":\"heatmap\"}],\"histogram2dcontour\":[{\"colorbar\":{\"outlinewidth\":0,\"ticks\":\"\"},\"colorscale\":[[0.0,\"#0d0887\"],[0.1111111111111111,\"#46039f\"],[0.2222222222222222,\"#7201a8\"],[0.3333333333333333,\"#9c179e\"],[0.4444444444444444,\"#bd3786\"],[0.5555555555555556,\"#d8576b\"],[0.6666666666666666,\"#ed7953\"],[0.7777777777777778,\"#fb9f3a\"],[0.8888888888888888,\"#fdca26\"],[1.0,\"#f0f921\"]],\"type\":\"histogram2dcontour\"}],\"histogram2d\":[{\"colorbar\":{\"outlinewidth\":0,\"ticks\":\"\"},\"colorscale\":[[0.0,\"#0d0887\"],[0.1111111111111111,\"#46039f\"],[0.2222222222222222,\"#7201a8\"],[0.3333333333333333,\"#9c179e\"],[0.4444444444444444,\"#bd3786\"],[0.5555555555555556,\"#d8576b\"],[0.6666666666666666,\"#ed7953\"],[0.7777777777777778,\"#fb9f3a\"],[0.8888888888888888,\"#fdca26\"],[1.0,\"#f0f921\"]],\"type\":\"histogram2d\"}],\"histogram\":[{\"marker\":{\"pattern\":{\"fillmode\":\"overlay\",\"size\":10,\"solidity\":0.2}},\"type\":\"histogram\"}],\"mesh3d\":[{\"colorbar\":{\"outlinewidth\":0,\"ticks\":\"\"},\"type\":\"mesh3d\"}],\"parcoords\":[{\"line\":{\"colorbar\":{\"outlinewidth\":0,\"ticks\":\"\"}},\"type\":\"parcoords\"}],\"pie\":[{\"automargin\":true,\"type\":\"pie\"}],\"scatter3d\":[{\"line\":{\"colorbar\":{\"outlinewidth\":0,\"ticks\":\"\"}},\"marker\":{\"colorbar\":{\"outlinewidth\":0,\"ticks\":\"\"}},\"type\":\"scatter3d\"}],\"scattercarpet\":[{\"marker\":{\"colorbar\":{\"outlinewidth\":0,\"ticks\":\"\"}},\"type\":\"scattercarpet\"}],\"scattergeo\":[{\"marker\":{\"colorbar\":{\"outlinewidth\":0,\"ticks\":\"\"}},\"type\":\"scattergeo\"}],\"scattergl\":[{\"marker\":{\"colorbar\":{\"outlinewidth\":0,\"ticks\":\"\"}},\"type\":\"scattergl\"}],\"scattermapbox\":[{\"marker\":{\"colorbar\":{\"outlinewidth\":0,\"ticks\":\"\"}},\"type\":\"scattermapbox\"}],\"scatterpolargl\":[{\"marker\":{\"colorbar\":{\"outlinewidth\":0,\"ticks\":\"\"}},\"type\":\"scatterpolargl\"}],\"scatterpolar\":[{\"marker\":{\"colorbar\":{\"outlinewidth\":0,\"ticks\":\"\"}},\"type\":\"scatterpolar\"}],\"scatter\":[{\"fillpattern\":{\"fillmode\":\"overlay\",\"size\":10,\"solidity\":0.2},\"type\":\"scatter\"}],\"scatterternary\":[{\"marker\":{\"colorbar\":{\"outlinewidth\":0,\"ticks\":\"\"}},\"type\":\"scatterternary\"}],\"surface\":[{\"colorbar\":{\"outlinewidth\":0,\"ticks\":\"\"},\"colorscale\":[[0.0,\"#0d0887\"],[0.1111111111111111,\"#46039f\"],[0.2222222222222222,\"#7201a8\"],[0.3333333333333333,\"#9c179e\"],[0.4444444444444444,\"#bd3786\"],[0.5555555555555556,\"#d8576b\"],[0.6666666666666666,\"#ed7953\"],[0.7777777777777778,\"#fb9f3a\"],[0.8888888888888888,\"#fdca26\"],[1.0,\"#f0f921\"]],\"type\":\"surface\"}],\"table\":[{\"cells\":{\"fill\":{\"color\":\"#EBF0F8\"},\"line\":{\"color\":\"white\"}},\"header\":{\"fill\":{\"color\":\"#C8D4E3\"},\"line\":{\"color\":\"white\"}},\"type\":\"table\"}]},\"layout\":{\"annotationdefaults\":{\"arrowcolor\":\"#2a3f5f\",\"arrowhead\":0,\"arrowwidth\":1},\"autotypenumbers\":\"strict\",\"coloraxis\":{\"colorbar\":{\"outlinewidth\":0,\"ticks\":\"\"}},\"colorscale\":{\"diverging\":[[0,\"#8e0152\"],[0.1,\"#c51b7d\"],[0.2,\"#de77ae\"],[0.3,\"#f1b6da\"],[0.4,\"#fde0ef\"],[0.5,\"#f7f7f7\"],[0.6,\"#e6f5d0\"],[0.7,\"#b8e186\"],[0.8,\"#7fbc41\"],[0.9,\"#4d9221\"],[1,\"#276419\"]],\"sequential\":[[0.0,\"#0d0887\"],[0.1111111111111111,\"#46039f\"],[0.2222222222222222,\"#7201a8\"],[0.3333333333333333,\"#9c179e\"],[0.4444444444444444,\"#bd3786\"],[0.5555555555555556,\"#d8576b\"],[0.6666666666666666,\"#ed7953\"],[0.7777777777777778,\"#fb9f3a\"],[0.8888888888888888,\"#fdca26\"],[1.0,\"#f0f921\"]],\"sequentialminus\":[[0.0,\"#0d0887\"],[0.1111111111111111,\"#46039f\"],[0.2222222222222222,\"#7201a8\"],[0.3333333333333333,\"#9c179e\"],[0.4444444444444444,\"#bd3786\"],[0.5555555555555556,\"#d8576b\"],[0.6666666666666666,\"#ed7953\"],[0.7777777777777778,\"#fb9f3a\"],[0.8888888888888888,\"#fdca26\"],[1.0,\"#f0f921\"]]},\"colorway\":[\"#636efa\",\"#EF553B\",\"#00cc96\",\"#ab63fa\",\"#FFA15A\",\"#19d3f3\",\"#FF6692\",\"#B6E880\",\"#FF97FF\",\"#FECB52\"],\"font\":{\"color\":\"#2a3f5f\"},\"geo\":{\"bgcolor\":\"white\",\"lakecolor\":\"white\",\"landcolor\":\"white\",\"showlakes\":true,\"showland\":true,\"subunitcolor\":\"#C8D4E3\"},\"hoverlabel\":{\"align\":\"left\"},\"hovermode\":\"closest\",\"mapbox\":{\"style\":\"light\"},\"paper_bgcolor\":\"white\",\"plot_bgcolor\":\"white\",\"polar\":{\"angularaxis\":{\"gridcolor\":\"#EBF0F8\",\"linecolor\":\"#EBF0F8\",\"ticks\":\"\"},\"bgcolor\":\"white\",\"radialaxis\":{\"gridcolor\":\"#EBF0F8\",\"linecolor\":\"#EBF0F8\",\"ticks\":\"\"}},\"scene\":{\"xaxis\":{\"backgroundcolor\":\"white\",\"gridcolor\":\"#DFE8F3\",\"gridwidth\":2,\"linecolor\":\"#EBF0F8\",\"showbackground\":true,\"ticks\":\"\",\"zerolinecolor\":\"#EBF0F8\"},\"yaxis\":{\"backgroundcolor\":\"white\",\"gridcolor\":\"#DFE8F3\",\"gridwidth\":2,\"linecolor\":\"#EBF0F8\",\"showbackground\":true,\"ticks\":\"\",\"zerolinecolor\":\"#EBF0F8\"},\"zaxis\":{\"backgroundcolor\":\"white\",\"gridcolor\":\"#DFE8F3\",\"gridwidth\":2,\"linecolor\":\"#EBF0F8\",\"showbackground\":true,\"ticks\":\"\",\"zerolinecolor\":\"#EBF0F8\"}},\"shapedefaults\":{\"line\":{\"color\":\"#2a3f5f\"}},\"ternary\":{\"aaxis\":{\"gridcolor\":\"#DFE8F3\",\"linecolor\":\"#A2B1C6\",\"ticks\":\"\"},\"baxis\":{\"gridcolor\":\"#DFE8F3\",\"linecolor\":\"#A2B1C6\",\"ticks\":\"\"},\"bgcolor\":\"white\",\"caxis\":{\"gridcolor\":\"#DFE8F3\",\"linecolor\":\"#A2B1C6\",\"ticks\":\"\"}},\"title\":{\"x\":0.05},\"xaxis\":{\"automargin\":true,\"gridcolor\":\"#EBF0F8\",\"linecolor\":\"#EBF0F8\",\"ticks\":\"\",\"title\":{\"standoff\":15},\"zerolinecolor\":\"#EBF0F8\",\"zerolinewidth\":2},\"yaxis\":{\"automargin\":true,\"gridcolor\":\"#EBF0F8\",\"linecolor\":\"#EBF0F8\",\"ticks\":\"\",\"title\":{\"standoff\":15},\"zerolinecolor\":\"#EBF0F8\",\"zerolinewidth\":2}}},\"xaxis\":{\"anchor\":\"y\",\"domain\":[0.0,0.175],\"showgrid\":true},\"yaxis\":{\"anchor\":\"x\",\"domain\":[0.9514792899408283,0.9999999999999999],\"showgrid\":true},\"xaxis2\":{\"anchor\":\"y2\",\"domain\":[0.275,0.45],\"showgrid\":true},\"yaxis2\":{\"anchor\":\"x2\",\"domain\":[0.9514792899408283,0.9999999999999999],\"showgrid\":true},\"xaxis3\":{\"anchor\":\"y3\",\"domain\":[0.55,0.7250000000000001],\"showgrid\":true},\"yaxis3\":{\"anchor\":\"x3\",\"domain\":[0.9514792899408283,0.9999999999999999],\"showgrid\":true},\"xaxis4\":{\"anchor\":\"y4\",\"domain\":[0.825,1.0],\"showgrid\":true},\"yaxis4\":{\"anchor\":\"x4\",\"domain\":[0.9514792899408283,0.9999999999999999],\"showgrid\":true},\"xaxis5\":{\"anchor\":\"y5\",\"domain\":[0.0,0.175],\"showgrid\":true},\"yaxis5\":{\"anchor\":\"x5\",\"domain\":[0.872189349112426,0.9207100591715975],\"showgrid\":true},\"xaxis6\":{\"anchor\":\"y6\",\"domain\":[0.275,0.45],\"showgrid\":true},\"yaxis6\":{\"anchor\":\"x6\",\"domain\":[0.872189349112426,0.9207100591715975],\"showgrid\":true},\"xaxis7\":{\"anchor\":\"y7\",\"domain\":[0.55,0.7250000000000001],\"showgrid\":true},\"yaxis7\":{\"anchor\":\"x7\",\"domain\":[0.872189349112426,0.9207100591715975],\"showgrid\":true},\"xaxis8\":{\"anchor\":\"y8\",\"domain\":[0.825,1.0],\"showgrid\":true},\"yaxis8\":{\"anchor\":\"x8\",\"domain\":[0.872189349112426,0.9207100591715975],\"showgrid\":true},\"xaxis9\":{\"anchor\":\"y9\",\"domain\":[0.0,0.175],\"showgrid\":true},\"yaxis9\":{\"anchor\":\"x9\",\"domain\":[0.7928994082840235,0.8414201183431951],\"showgrid\":true},\"xaxis10\":{\"anchor\":\"y10\",\"domain\":[0.275,0.45],\"showgrid\":true},\"yaxis10\":{\"anchor\":\"x10\",\"domain\":[0.7928994082840235,0.8414201183431951],\"showgrid\":true},\"xaxis11\":{\"anchor\":\"y11\",\"domain\":[0.55,0.7250000000000001],\"showgrid\":true},\"yaxis11\":{\"anchor\":\"x11\",\"domain\":[0.7928994082840235,0.8414201183431951],\"showgrid\":true},\"xaxis12\":{\"anchor\":\"y12\",\"domain\":[0.825,1.0],\"showgrid\":true},\"yaxis12\":{\"anchor\":\"x12\",\"domain\":[0.7928994082840235,0.8414201183431951],\"showgrid\":true},\"xaxis13\":{\"anchor\":\"y13\",\"domain\":[0.0,0.175],\"showgrid\":true},\"yaxis13\":{\"anchor\":\"x13\",\"domain\":[0.7136094674556213,0.7621301775147928],\"showgrid\":true},\"xaxis14\":{\"anchor\":\"y14\",\"domain\":[0.275,0.45],\"showgrid\":true},\"yaxis14\":{\"anchor\":\"x14\",\"domain\":[0.7136094674556213,0.7621301775147928],\"showgrid\":true},\"xaxis15\":{\"anchor\":\"y15\",\"domain\":[0.55,0.7250000000000001],\"showgrid\":true},\"yaxis15\":{\"anchor\":\"x15\",\"domain\":[0.7136094674556213,0.7621301775147928],\"showgrid\":true},\"xaxis16\":{\"anchor\":\"y16\",\"domain\":[0.825,1.0],\"showgrid\":true},\"yaxis16\":{\"anchor\":\"x16\",\"domain\":[0.7136094674556213,0.7621301775147928],\"showgrid\":true},\"xaxis17\":{\"anchor\":\"y17\",\"domain\":[0.0,0.175],\"showgrid\":true},\"yaxis17\":{\"anchor\":\"x17\",\"domain\":[0.6343195266272188,0.6828402366863904],\"showgrid\":true},\"xaxis18\":{\"anchor\":\"y18\",\"domain\":[0.275,0.45],\"showgrid\":true},\"yaxis18\":{\"anchor\":\"x18\",\"domain\":[0.6343195266272188,0.6828402366863904],\"showgrid\":true},\"xaxis19\":{\"anchor\":\"y19\",\"domain\":[0.55,0.7250000000000001],\"showgrid\":true},\"yaxis19\":{\"anchor\":\"x19\",\"domain\":[0.6343195266272188,0.6828402366863904],\"showgrid\":true},\"xaxis20\":{\"anchor\":\"y20\",\"domain\":[0.825,1.0],\"showgrid\":true},\"yaxis20\":{\"anchor\":\"x20\",\"domain\":[0.6343195266272188,0.6828402366863904],\"showgrid\":true},\"xaxis21\":{\"anchor\":\"y21\",\"domain\":[0.0,0.175],\"showgrid\":true},\"yaxis21\":{\"anchor\":\"x21\",\"domain\":[0.5550295857988166,0.6035502958579881],\"showgrid\":true},\"xaxis22\":{\"anchor\":\"y22\",\"domain\":[0.275,0.45],\"showgrid\":true},\"yaxis22\":{\"anchor\":\"x22\",\"domain\":[0.5550295857988166,0.6035502958579881],\"showgrid\":true},\"xaxis23\":{\"anchor\":\"y23\",\"domain\":[0.55,0.7250000000000001],\"showgrid\":true},\"yaxis23\":{\"anchor\":\"x23\",\"domain\":[0.5550295857988166,0.6035502958579881],\"showgrid\":true},\"xaxis24\":{\"anchor\":\"y24\",\"domain\":[0.825,1.0],\"showgrid\":true},\"yaxis24\":{\"anchor\":\"x24\",\"domain\":[0.5550295857988166,0.6035502958579881],\"showgrid\":true},\"xaxis25\":{\"anchor\":\"y25\",\"domain\":[0.0,0.175],\"showgrid\":true},\"yaxis25\":{\"anchor\":\"x25\",\"domain\":[0.47573964497041416,0.5242603550295858],\"showgrid\":true},\"xaxis26\":{\"anchor\":\"y26\",\"domain\":[0.275,0.45],\"showgrid\":true},\"yaxis26\":{\"anchor\":\"x26\",\"domain\":[0.47573964497041416,0.5242603550295858],\"showgrid\":true},\"xaxis27\":{\"anchor\":\"y27\",\"domain\":[0.55,0.7250000000000001],\"showgrid\":true},\"yaxis27\":{\"anchor\":\"x27\",\"domain\":[0.47573964497041416,0.5242603550295858],\"showgrid\":true},\"xaxis28\":{\"anchor\":\"y28\",\"domain\":[0.825,1.0],\"showgrid\":true},\"yaxis28\":{\"anchor\":\"x28\",\"domain\":[0.47573964497041416,0.5242603550295858],\"showgrid\":true},\"xaxis29\":{\"anchor\":\"y29\",\"domain\":[0.0,0.175],\"showgrid\":true},\"yaxis29\":{\"anchor\":\"x29\",\"domain\":[0.3964497041420118,0.4449704142011834],\"showgrid\":true},\"xaxis30\":{\"anchor\":\"y30\",\"domain\":[0.275,0.45],\"showgrid\":true},\"yaxis30\":{\"anchor\":\"x30\",\"domain\":[0.3964497041420118,0.4449704142011834],\"showgrid\":true},\"xaxis31\":{\"anchor\":\"y31\",\"domain\":[0.55,0.7250000000000001],\"showgrid\":true},\"yaxis31\":{\"anchor\":\"x31\",\"domain\":[0.3964497041420118,0.4449704142011834],\"showgrid\":true},\"xaxis32\":{\"anchor\":\"y32\",\"domain\":[0.825,1.0],\"showgrid\":true},\"yaxis32\":{\"anchor\":\"x32\",\"domain\":[0.3964497041420118,0.4449704142011834],\"showgrid\":true},\"xaxis33\":{\"anchor\":\"y33\",\"domain\":[0.0,0.175],\"showgrid\":true},\"yaxis33\":{\"anchor\":\"x33\",\"domain\":[0.31715976331360946,0.36568047337278103],\"showgrid\":true},\"xaxis34\":{\"anchor\":\"y34\",\"domain\":[0.275,0.45],\"showgrid\":true},\"yaxis34\":{\"anchor\":\"x34\",\"domain\":[0.31715976331360946,0.36568047337278103],\"showgrid\":true},\"xaxis35\":{\"anchor\":\"y35\",\"domain\":[0.55,0.7250000000000001],\"showgrid\":true},\"yaxis35\":{\"anchor\":\"x35\",\"domain\":[0.31715976331360946,0.36568047337278103],\"showgrid\":true},\"xaxis36\":{\"anchor\":\"y36\",\"domain\":[0.825,1.0],\"showgrid\":true},\"yaxis36\":{\"anchor\":\"x36\",\"domain\":[0.31715976331360946,0.36568047337278103],\"showgrid\":true},\"xaxis37\":{\"anchor\":\"y37\",\"domain\":[0.0,0.175],\"showgrid\":true},\"yaxis37\":{\"anchor\":\"x37\",\"domain\":[0.2378698224852071,0.2863905325443787],\"showgrid\":true},\"xaxis38\":{\"anchor\":\"y38\",\"domain\":[0.275,0.45],\"showgrid\":true},\"yaxis38\":{\"anchor\":\"x38\",\"domain\":[0.2378698224852071,0.2863905325443787],\"showgrid\":true},\"xaxis39\":{\"anchor\":\"y39\",\"domain\":[0.55,0.7250000000000001],\"showgrid\":true},\"yaxis39\":{\"anchor\":\"x39\",\"domain\":[0.2378698224852071,0.2863905325443787],\"showgrid\":true},\"xaxis40\":{\"anchor\":\"y40\",\"domain\":[0.825,1.0],\"showgrid\":true},\"yaxis40\":{\"anchor\":\"x40\",\"domain\":[0.2378698224852071,0.2863905325443787],\"showgrid\":true},\"xaxis41\":{\"anchor\":\"y41\",\"domain\":[0.0,0.175],\"showgrid\":true},\"yaxis41\":{\"anchor\":\"x41\",\"domain\":[0.15857988165680473,0.20710059171597633],\"showgrid\":true},\"xaxis42\":{\"anchor\":\"y42\",\"domain\":[0.275,0.45],\"showgrid\":true},\"yaxis42\":{\"anchor\":\"x42\",\"domain\":[0.15857988165680473,0.20710059171597633],\"showgrid\":true},\"xaxis43\":{\"anchor\":\"y43\",\"domain\":[0.55,0.7250000000000001],\"showgrid\":true},\"yaxis43\":{\"anchor\":\"x43\",\"domain\":[0.15857988165680473,0.20710059171597633],\"showgrid\":true},\"xaxis44\":{\"anchor\":\"y44\",\"domain\":[0.825,1.0],\"showgrid\":true},\"yaxis44\":{\"anchor\":\"x44\",\"domain\":[0.15857988165680473,0.20710059171597633],\"showgrid\":true},\"xaxis45\":{\"anchor\":\"y45\",\"domain\":[0.0,0.175],\"showgrid\":true},\"yaxis45\":{\"anchor\":\"x45\",\"domain\":[0.07928994082840236,0.12781065088757396],\"showgrid\":true},\"xaxis46\":{\"anchor\":\"y46\",\"domain\":[0.275,0.45],\"showgrid\":true},\"yaxis46\":{\"anchor\":\"x46\",\"domain\":[0.07928994082840236,0.12781065088757396],\"showgrid\":true},\"xaxis47\":{\"anchor\":\"y47\",\"domain\":[0.55,0.7250000000000001],\"showgrid\":true},\"yaxis47\":{\"anchor\":\"x47\",\"domain\":[0.07928994082840236,0.12781065088757396],\"showgrid\":true},\"xaxis48\":{\"anchor\":\"y48\",\"domain\":[0.825,1.0],\"showgrid\":true},\"yaxis48\":{\"anchor\":\"x48\",\"domain\":[0.07928994082840236,0.12781065088757396],\"showgrid\":true},\"xaxis49\":{\"anchor\":\"y49\",\"domain\":[0.0,0.175],\"showgrid\":true},\"yaxis49\":{\"anchor\":\"x49\",\"domain\":[0.0,0.04852071005917159],\"showgrid\":true},\"xaxis50\":{\"anchor\":\"y50\",\"domain\":[0.275,0.45],\"showgrid\":true},\"yaxis50\":{\"anchor\":\"x50\",\"domain\":[0.0,0.04852071005917159],\"showgrid\":true},\"xaxis51\":{\"anchor\":\"y51\",\"domain\":[0.55,0.7250000000000001],\"showgrid\":true},\"yaxis51\":{\"anchor\":\"x51\",\"domain\":[0.0,0.04852071005917159],\"showgrid\":true},\"xaxis52\":{\"anchor\":\"y52\",\"domain\":[0.825,1.0],\"showgrid\":true},\"yaxis52\":{\"anchor\":\"x52\",\"domain\":[0.0,0.04852071005917159],\"showgrid\":true},\"annotations\":[{\"font\":{\"size\":16},\"showarrow\":false,\"text\":\"Topic 0\",\"x\":0.0875,\"xanchor\":\"center\",\"xref\":\"paper\",\"y\":0.9999999999999999,\"yanchor\":\"bottom\",\"yref\":\"paper\"},{\"font\":{\"size\":16},\"showarrow\":false,\"text\":\"Topic 1\",\"x\":0.36250000000000004,\"xanchor\":\"center\",\"xref\":\"paper\",\"y\":0.9999999999999999,\"yanchor\":\"bottom\",\"yref\":\"paper\"},{\"font\":{\"size\":16},\"showarrow\":false,\"text\":\"Topic 2\",\"x\":0.6375000000000001,\"xanchor\":\"center\",\"xref\":\"paper\",\"y\":0.9999999999999999,\"yanchor\":\"bottom\",\"yref\":\"paper\"},{\"font\":{\"size\":16},\"showarrow\":false,\"text\":\"Topic 3\",\"x\":0.9125,\"xanchor\":\"center\",\"xref\":\"paper\",\"y\":0.9999999999999999,\"yanchor\":\"bottom\",\"yref\":\"paper\"},{\"font\":{\"size\":16},\"showarrow\":false,\"text\":\"Topic 4\",\"x\":0.0875,\"xanchor\":\"center\",\"xref\":\"paper\",\"y\":0.9207100591715975,\"yanchor\":\"bottom\",\"yref\":\"paper\"},{\"font\":{\"size\":16},\"showarrow\":false,\"text\":\"Topic 5\",\"x\":0.36250000000000004,\"xanchor\":\"center\",\"xref\":\"paper\",\"y\":0.9207100591715975,\"yanchor\":\"bottom\",\"yref\":\"paper\"},{\"font\":{\"size\":16},\"showarrow\":false,\"text\":\"Topic 6\",\"x\":0.6375000000000001,\"xanchor\":\"center\",\"xref\":\"paper\",\"y\":0.9207100591715975,\"yanchor\":\"bottom\",\"yref\":\"paper\"},{\"font\":{\"size\":16},\"showarrow\":false,\"text\":\"Topic 7\",\"x\":0.9125,\"xanchor\":\"center\",\"xref\":\"paper\",\"y\":0.9207100591715975,\"yanchor\":\"bottom\",\"yref\":\"paper\"},{\"font\":{\"size\":16},\"showarrow\":false,\"text\":\"Topic 8\",\"x\":0.0875,\"xanchor\":\"center\",\"xref\":\"paper\",\"y\":0.8414201183431951,\"yanchor\":\"bottom\",\"yref\":\"paper\"},{\"font\":{\"size\":16},\"showarrow\":false,\"text\":\"Topic 9\",\"x\":0.36250000000000004,\"xanchor\":\"center\",\"xref\":\"paper\",\"y\":0.8414201183431951,\"yanchor\":\"bottom\",\"yref\":\"paper\"},{\"font\":{\"size\":16},\"showarrow\":false,\"text\":\"Topic 10\",\"x\":0.6375000000000001,\"xanchor\":\"center\",\"xref\":\"paper\",\"y\":0.8414201183431951,\"yanchor\":\"bottom\",\"yref\":\"paper\"},{\"font\":{\"size\":16},\"showarrow\":false,\"text\":\"Topic 11\",\"x\":0.9125,\"xanchor\":\"center\",\"xref\":\"paper\",\"y\":0.8414201183431951,\"yanchor\":\"bottom\",\"yref\":\"paper\"},{\"font\":{\"size\":16},\"showarrow\":false,\"text\":\"Topic 12\",\"x\":0.0875,\"xanchor\":\"center\",\"xref\":\"paper\",\"y\":0.7621301775147928,\"yanchor\":\"bottom\",\"yref\":\"paper\"},{\"font\":{\"size\":16},\"showarrow\":false,\"text\":\"Topic 13\",\"x\":0.36250000000000004,\"xanchor\":\"center\",\"xref\":\"paper\",\"y\":0.7621301775147928,\"yanchor\":\"bottom\",\"yref\":\"paper\"},{\"font\":{\"size\":16},\"showarrow\":false,\"text\":\"Topic 14\",\"x\":0.6375000000000001,\"xanchor\":\"center\",\"xref\":\"paper\",\"y\":0.7621301775147928,\"yanchor\":\"bottom\",\"yref\":\"paper\"},{\"font\":{\"size\":16},\"showarrow\":false,\"text\":\"Topic 15\",\"x\":0.9125,\"xanchor\":\"center\",\"xref\":\"paper\",\"y\":0.7621301775147928,\"yanchor\":\"bottom\",\"yref\":\"paper\"},{\"font\":{\"size\":16},\"showarrow\":false,\"text\":\"Topic 16\",\"x\":0.0875,\"xanchor\":\"center\",\"xref\":\"paper\",\"y\":0.6828402366863904,\"yanchor\":\"bottom\",\"yref\":\"paper\"},{\"font\":{\"size\":16},\"showarrow\":false,\"text\":\"Topic 17\",\"x\":0.36250000000000004,\"xanchor\":\"center\",\"xref\":\"paper\",\"y\":0.6828402366863904,\"yanchor\":\"bottom\",\"yref\":\"paper\"},{\"font\":{\"size\":16},\"showarrow\":false,\"text\":\"Topic 18\",\"x\":0.6375000000000001,\"xanchor\":\"center\",\"xref\":\"paper\",\"y\":0.6828402366863904,\"yanchor\":\"bottom\",\"yref\":\"paper\"},{\"font\":{\"size\":16},\"showarrow\":false,\"text\":\"Topic 19\",\"x\":0.9125,\"xanchor\":\"center\",\"xref\":\"paper\",\"y\":0.6828402366863904,\"yanchor\":\"bottom\",\"yref\":\"paper\"},{\"font\":{\"size\":16},\"showarrow\":false,\"text\":\"Topic 20\",\"x\":0.0875,\"xanchor\":\"center\",\"xref\":\"paper\",\"y\":0.6035502958579881,\"yanchor\":\"bottom\",\"yref\":\"paper\"},{\"font\":{\"size\":16},\"showarrow\":false,\"text\":\"Topic 21\",\"x\":0.36250000000000004,\"xanchor\":\"center\",\"xref\":\"paper\",\"y\":0.6035502958579881,\"yanchor\":\"bottom\",\"yref\":\"paper\"},{\"font\":{\"size\":16},\"showarrow\":false,\"text\":\"Topic 22\",\"x\":0.6375000000000001,\"xanchor\":\"center\",\"xref\":\"paper\",\"y\":0.6035502958579881,\"yanchor\":\"bottom\",\"yref\":\"paper\"},{\"font\":{\"size\":16},\"showarrow\":false,\"text\":\"Topic 23\",\"x\":0.9125,\"xanchor\":\"center\",\"xref\":\"paper\",\"y\":0.6035502958579881,\"yanchor\":\"bottom\",\"yref\":\"paper\"},{\"font\":{\"size\":16},\"showarrow\":false,\"text\":\"Topic 24\",\"x\":0.0875,\"xanchor\":\"center\",\"xref\":\"paper\",\"y\":0.5242603550295858,\"yanchor\":\"bottom\",\"yref\":\"paper\"},{\"font\":{\"size\":16},\"showarrow\":false,\"text\":\"Topic 25\",\"x\":0.36250000000000004,\"xanchor\":\"center\",\"xref\":\"paper\",\"y\":0.5242603550295858,\"yanchor\":\"bottom\",\"yref\":\"paper\"},{\"font\":{\"size\":16},\"showarrow\":false,\"text\":\"Topic 26\",\"x\":0.6375000000000001,\"xanchor\":\"center\",\"xref\":\"paper\",\"y\":0.5242603550295858,\"yanchor\":\"bottom\",\"yref\":\"paper\"},{\"font\":{\"size\":16},\"showarrow\":false,\"text\":\"Topic 27\",\"x\":0.9125,\"xanchor\":\"center\",\"xref\":\"paper\",\"y\":0.5242603550295858,\"yanchor\":\"bottom\",\"yref\":\"paper\"},{\"font\":{\"size\":16},\"showarrow\":false,\"text\":\"Topic 28\",\"x\":0.0875,\"xanchor\":\"center\",\"xref\":\"paper\",\"y\":0.4449704142011834,\"yanchor\":\"bottom\",\"yref\":\"paper\"},{\"font\":{\"size\":16},\"showarrow\":false,\"text\":\"Topic 29\",\"x\":0.36250000000000004,\"xanchor\":\"center\",\"xref\":\"paper\",\"y\":0.4449704142011834,\"yanchor\":\"bottom\",\"yref\":\"paper\"},{\"font\":{\"size\":16},\"showarrow\":false,\"text\":\"Topic 30\",\"x\":0.6375000000000001,\"xanchor\":\"center\",\"xref\":\"paper\",\"y\":0.4449704142011834,\"yanchor\":\"bottom\",\"yref\":\"paper\"},{\"font\":{\"size\":16},\"showarrow\":false,\"text\":\"Topic 31\",\"x\":0.9125,\"xanchor\":\"center\",\"xref\":\"paper\",\"y\":0.4449704142011834,\"yanchor\":\"bottom\",\"yref\":\"paper\"},{\"font\":{\"size\":16},\"showarrow\":false,\"text\":\"Topic 32\",\"x\":0.0875,\"xanchor\":\"center\",\"xref\":\"paper\",\"y\":0.36568047337278103,\"yanchor\":\"bottom\",\"yref\":\"paper\"},{\"font\":{\"size\":16},\"showarrow\":false,\"text\":\"Topic 33\",\"x\":0.36250000000000004,\"xanchor\":\"center\",\"xref\":\"paper\",\"y\":0.36568047337278103,\"yanchor\":\"bottom\",\"yref\":\"paper\"},{\"font\":{\"size\":16},\"showarrow\":false,\"text\":\"Topic 34\",\"x\":0.6375000000000001,\"xanchor\":\"center\",\"xref\":\"paper\",\"y\":0.36568047337278103,\"yanchor\":\"bottom\",\"yref\":\"paper\"},{\"font\":{\"size\":16},\"showarrow\":false,\"text\":\"Topic 35\",\"x\":0.9125,\"xanchor\":\"center\",\"xref\":\"paper\",\"y\":0.36568047337278103,\"yanchor\":\"bottom\",\"yref\":\"paper\"},{\"font\":{\"size\":16},\"showarrow\":false,\"text\":\"Topic 36\",\"x\":0.0875,\"xanchor\":\"center\",\"xref\":\"paper\",\"y\":0.2863905325443787,\"yanchor\":\"bottom\",\"yref\":\"paper\"},{\"font\":{\"size\":16},\"showarrow\":false,\"text\":\"Topic 37\",\"x\":0.36250000000000004,\"xanchor\":\"center\",\"xref\":\"paper\",\"y\":0.2863905325443787,\"yanchor\":\"bottom\",\"yref\":\"paper\"},{\"font\":{\"size\":16},\"showarrow\":false,\"text\":\"Topic 38\",\"x\":0.6375000000000001,\"xanchor\":\"center\",\"xref\":\"paper\",\"y\":0.2863905325443787,\"yanchor\":\"bottom\",\"yref\":\"paper\"},{\"font\":{\"size\":16},\"showarrow\":false,\"text\":\"Topic 39\",\"x\":0.9125,\"xanchor\":\"center\",\"xref\":\"paper\",\"y\":0.2863905325443787,\"yanchor\":\"bottom\",\"yref\":\"paper\"},{\"font\":{\"size\":16},\"showarrow\":false,\"text\":\"Topic 40\",\"x\":0.0875,\"xanchor\":\"center\",\"xref\":\"paper\",\"y\":0.20710059171597633,\"yanchor\":\"bottom\",\"yref\":\"paper\"},{\"font\":{\"size\":16},\"showarrow\":false,\"text\":\"Topic 41\",\"x\":0.36250000000000004,\"xanchor\":\"center\",\"xref\":\"paper\",\"y\":0.20710059171597633,\"yanchor\":\"bottom\",\"yref\":\"paper\"},{\"font\":{\"size\":16},\"showarrow\":false,\"text\":\"Topic 42\",\"x\":0.6375000000000001,\"xanchor\":\"center\",\"xref\":\"paper\",\"y\":0.20710059171597633,\"yanchor\":\"bottom\",\"yref\":\"paper\"},{\"font\":{\"size\":16},\"showarrow\":false,\"text\":\"Topic 43\",\"x\":0.9125,\"xanchor\":\"center\",\"xref\":\"paper\",\"y\":0.20710059171597633,\"yanchor\":\"bottom\",\"yref\":\"paper\"},{\"font\":{\"size\":16},\"showarrow\":false,\"text\":\"Topic 44\",\"x\":0.0875,\"xanchor\":\"center\",\"xref\":\"paper\",\"y\":0.12781065088757396,\"yanchor\":\"bottom\",\"yref\":\"paper\"},{\"font\":{\"size\":16},\"showarrow\":false,\"text\":\"Topic 45\",\"x\":0.36250000000000004,\"xanchor\":\"center\",\"xref\":\"paper\",\"y\":0.12781065088757396,\"yanchor\":\"bottom\",\"yref\":\"paper\"},{\"font\":{\"size\":16},\"showarrow\":false,\"text\":\"Topic 46\",\"x\":0.6375000000000001,\"xanchor\":\"center\",\"xref\":\"paper\",\"y\":0.12781065088757396,\"yanchor\":\"bottom\",\"yref\":\"paper\"},{\"font\":{\"size\":16},\"showarrow\":false,\"text\":\"Topic 47\",\"x\":0.9125,\"xanchor\":\"center\",\"xref\":\"paper\",\"y\":0.12781065088757396,\"yanchor\":\"bottom\",\"yref\":\"paper\"},{\"font\":{\"size\":16},\"showarrow\":false,\"text\":\"Topic 48\",\"x\":0.0875,\"xanchor\":\"center\",\"xref\":\"paper\",\"y\":0.04852071005917159,\"yanchor\":\"bottom\",\"yref\":\"paper\"}],\"title\":{\"font\":{\"size\":22,\"color\":\"Black\"},\"text\":\"Topic Word Scores\",\"x\":0.5,\"xanchor\":\"center\",\"yanchor\":\"top\"},\"hoverlabel\":{\"font\":{\"size\":16,\"family\":\"Rockwell\"},\"bgcolor\":\"white\"},\"showlegend\":false,\"width\":1000,\"height\":3250},                        {\"responsive\": true}                    ).then(function(){\n",
       "                            \n",
       "var gd = document.getElementById('5ba8d8e0-b456-48a8-bdb1-ac9d480c0ad1');\n",
       "var x = new MutationObserver(function (mutations, observer) {{\n",
       "        var display = window.getComputedStyle(gd).display;\n",
       "        if (!display || display === 'none') {{\n",
       "            console.log([gd, 'removed!']);\n",
       "            Plotly.purge(gd);\n",
       "            observer.disconnect();\n",
       "        }}\n",
       "}});\n",
       "\n",
       "// Listen for the removal of the full notebook cells\n",
       "var notebookContainer = gd.closest('#notebook-container');\n",
       "if (notebookContainer) {{\n",
       "    x.observe(notebookContainer, {childList: true});\n",
       "}}\n",
       "\n",
       "// Listen for the clearing of the current output cell\n",
       "var outputEl = gd.closest('.output');\n",
       "if (outputEl) {{\n",
       "    x.observe(outputEl, {childList: true});\n",
       "}}\n",
       "\n",
       "                        })                };                });            </script>        </div>"
      ]
     },
     "metadata": {},
     "output_type": "display_data"
    }
   ],
   "source": [
    "topic_model.visualize_barchart(top_n_topics = 50, n_words = 20)"
   ]
  },
  {
   "cell_type": "code",
   "execution_count": 147,
   "metadata": {},
   "outputs": [],
   "source": [
    "topic_df = topic_model.get_topic_info()"
   ]
  },
  {
   "cell_type": "code",
   "execution_count": 174,
   "metadata": {},
   "outputs": [],
   "source": [
    "docs_df = topic_model.get_document_info(docs)"
   ]
  },
  {
   "cell_type": "code",
   "execution_count": 177,
   "metadata": {},
   "outputs": [],
   "source": [
    "dirty_df =  docs_df[docs_df.Topic == 25]"
   ]
  },
  {
   "cell_type": "code",
   "execution_count": 178,
   "metadata": {},
   "outputs": [
    {
     "data": {
      "text/html": [
       "<div>\n",
       "<style scoped>\n",
       "    .dataframe tbody tr th:only-of-type {\n",
       "        vertical-align: middle;\n",
       "    }\n",
       "\n",
       "    .dataframe tbody tr th {\n",
       "        vertical-align: top;\n",
       "    }\n",
       "\n",
       "    .dataframe thead th {\n",
       "        text-align: right;\n",
       "    }\n",
       "</style>\n",
       "<table border=\"1\" class=\"dataframe\">\n",
       "  <thead>\n",
       "    <tr style=\"text-align: right;\">\n",
       "      <th></th>\n",
       "      <th>Document</th>\n",
       "      <th>Topic</th>\n",
       "      <th>Name</th>\n",
       "      <th>Representation</th>\n",
       "      <th>Representative_Docs</th>\n",
       "      <th>Top_n_words</th>\n",
       "      <th>Probability</th>\n",
       "      <th>Representative_document</th>\n",
       "    </tr>\n",
       "  </thead>\n",
       "  <tbody>\n",
       "    <tr>\n",
       "      <th>264</th>\n",
       "      <td>Nice little shop, I like to buy my flowers her...</td>\n",
       "      <td>25</td>\n",
       "      <td>25_drugs_drug_dealers_aggressive</td>\n",
       "      <td>[drugs, drug, dealers, aggressive, offered, da...</td>\n",
       "      <td>[Görlitzer park is really cool and amazing. My...</td>\n",
       "      <td>drugs - drug - dealers - aggressive - offered ...</td>\n",
       "      <td>0.066114</td>\n",
       "      <td>False</td>\n",
       "    </tr>\n",
       "    <tr>\n",
       "      <th>1019</th>\n",
       "      <td>I took my mother and her little dog to take a ...</td>\n",
       "      <td>25</td>\n",
       "      <td>25_drugs_drug_dealers_aggressive</td>\n",
       "      <td>[drugs, drug, dealers, aggressive, offered, da...</td>\n",
       "      <td>[Görlitzer park is really cool and amazing. My...</td>\n",
       "      <td>drugs - drug - dealers - aggressive - offered ...</td>\n",
       "      <td>1.000000</td>\n",
       "      <td>False</td>\n",
       "    </tr>\n",
       "    <tr>\n",
       "      <th>1074</th>\n",
       "      <td>Actually beautiful. However, many visitors mis...</td>\n",
       "      <td>25</td>\n",
       "      <td>25_drugs_drug_dealers_aggressive</td>\n",
       "      <td>[drugs, drug, dealers, aggressive, offered, da...</td>\n",
       "      <td>[Görlitzer park is really cool and amazing. My...</td>\n",
       "      <td>drugs - drug - dealers - aggressive - offered ...</td>\n",
       "      <td>0.053231</td>\n",
       "      <td>False</td>\n",
       "    </tr>\n",
       "    <tr>\n",
       "      <th>1158</th>\n",
       "      <td>I love this park in Berlin. It is huge and ver...</td>\n",
       "      <td>25</td>\n",
       "      <td>25_drugs_drug_dealers_aggressive</td>\n",
       "      <td>[drugs, drug, dealers, aggressive, offered, da...</td>\n",
       "      <td>[Görlitzer park is really cool and amazing. My...</td>\n",
       "      <td>drugs - drug - dealers - aggressive - offered ...</td>\n",
       "      <td>0.134576</td>\n",
       "      <td>False</td>\n",
       "    </tr>\n",
       "    <tr>\n",
       "      <th>3023</th>\n",
       "      <td>Watched a local men's soccer game! Looks a lit...</td>\n",
       "      <td>25</td>\n",
       "      <td>25_drugs_drug_dealers_aggressive</td>\n",
       "      <td>[drugs, drug, dealers, aggressive, offered, da...</td>\n",
       "      <td>[Görlitzer park is really cool and amazing. My...</td>\n",
       "      <td>drugs - drug - dealers - aggressive - offered ...</td>\n",
       "      <td>1.000000</td>\n",
       "      <td>False</td>\n",
       "    </tr>\n",
       "    <tr>\n",
       "      <th>3026</th>\n",
       "      <td>This is my neighborhood park. I\\'ve never once...</td>\n",
       "      <td>25</td>\n",
       "      <td>25_drugs_drug_dealers_aggressive</td>\n",
       "      <td>[drugs, drug, dealers, aggressive, offered, da...</td>\n",
       "      <td>[Görlitzer park is really cool and amazing. My...</td>\n",
       "      <td>drugs - drug - dealers - aggressive - offered ...</td>\n",
       "      <td>1.000000</td>\n",
       "      <td>False</td>\n",
       "    </tr>\n",
       "    <tr>\n",
       "      <th>3027</th>\n",
       "      <td>I spent 10 days living right in front of the p...</td>\n",
       "      <td>25</td>\n",
       "      <td>25_drugs_drug_dealers_aggressive</td>\n",
       "      <td>[drugs, drug, dealers, aggressive, offered, da...</td>\n",
       "      <td>[Görlitzer park is really cool and amazing. My...</td>\n",
       "      <td>drugs - drug - dealers - aggressive - offered ...</td>\n",
       "      <td>1.000000</td>\n",
       "      <td>False</td>\n",
       "    </tr>\n",
       "    <tr>\n",
       "      <th>3031</th>\n",
       "      <td>I’m a solo traveler who was exploring Berlin. ...</td>\n",
       "      <td>25</td>\n",
       "      <td>25_drugs_drug_dealers_aggressive</td>\n",
       "      <td>[drugs, drug, dealers, aggressive, offered, da...</td>\n",
       "      <td>[Görlitzer park is really cool and amazing. My...</td>\n",
       "      <td>drugs - drug - dealers - aggressive - offered ...</td>\n",
       "      <td>0.898339</td>\n",
       "      <td>False</td>\n",
       "    </tr>\n",
       "    <tr>\n",
       "      <th>3038</th>\n",
       "      <td>Undoubtedly a beautiful park in the daytime, I...</td>\n",
       "      <td>25</td>\n",
       "      <td>25_drugs_drug_dealers_aggressive</td>\n",
       "      <td>[drugs, drug, dealers, aggressive, offered, da...</td>\n",
       "      <td>[Görlitzer park is really cool and amazing. My...</td>\n",
       "      <td>drugs - drug - dealers - aggressive - offered ...</td>\n",
       "      <td>1.000000</td>\n",
       "      <td>False</td>\n",
       "    </tr>\n",
       "    <tr>\n",
       "      <th>3050</th>\n",
       "      <td>Full of dealers, very insecure. Can’t walk 2 m...</td>\n",
       "      <td>25</td>\n",
       "      <td>25_drugs_drug_dealers_aggressive</td>\n",
       "      <td>[drugs, drug, dealers, aggressive, offered, da...</td>\n",
       "      <td>[Görlitzer park is really cool and amazing. My...</td>\n",
       "      <td>drugs - drug - dealers - aggressive - offered ...</td>\n",
       "      <td>1.000000</td>\n",
       "      <td>False</td>\n",
       "    </tr>\n",
       "    <tr>\n",
       "      <th>3063</th>\n",
       "      <td>Park is controlled by drug dealers and other c...</td>\n",
       "      <td>25</td>\n",
       "      <td>25_drugs_drug_dealers_aggressive</td>\n",
       "      <td>[drugs, drug, dealers, aggressive, offered, da...</td>\n",
       "      <td>[Görlitzer park is really cool and amazing. My...</td>\n",
       "      <td>drugs - drug - dealers - aggressive - offered ...</td>\n",
       "      <td>1.000000</td>\n",
       "      <td>False</td>\n",
       "    </tr>\n",
       "    <tr>\n",
       "      <th>3065</th>\n",
       "      <td>A bit disappointing.  Not well taken care of. ...</td>\n",
       "      <td>25</td>\n",
       "      <td>25_drugs_drug_dealers_aggressive</td>\n",
       "      <td>[drugs, drug, dealers, aggressive, offered, da...</td>\n",
       "      <td>[Görlitzer park is really cool and amazing. My...</td>\n",
       "      <td>drugs - drug - dealers - aggressive - offered ...</td>\n",
       "      <td>0.055170</td>\n",
       "      <td>False</td>\n",
       "    </tr>\n",
       "    <tr>\n",
       "      <th>3069</th>\n",
       "      <td>Görlitzer park is really cool and amazing. My ...</td>\n",
       "      <td>25</td>\n",
       "      <td>25_drugs_drug_dealers_aggressive</td>\n",
       "      <td>[drugs, drug, dealers, aggressive, offered, da...</td>\n",
       "      <td>[Görlitzer park is really cool and amazing. My...</td>\n",
       "      <td>drugs - drug - dealers - aggressive - offered ...</td>\n",
       "      <td>1.000000</td>\n",
       "      <td>True</td>\n",
       "    </tr>\n",
       "    <tr>\n",
       "      <th>3092</th>\n",
       "      <td>Full if drug dealers but they leave you alone ...</td>\n",
       "      <td>25</td>\n",
       "      <td>25_drugs_drug_dealers_aggressive</td>\n",
       "      <td>[drugs, drug, dealers, aggressive, offered, da...</td>\n",
       "      <td>[Görlitzer park is really cool and amazing. My...</td>\n",
       "      <td>drugs - drug - dealers - aggressive - offered ...</td>\n",
       "      <td>1.000000</td>\n",
       "      <td>False</td>\n",
       "    </tr>\n",
       "    <tr>\n",
       "      <th>4370</th>\n",
       "      <td>This is my neighborhood park. I\\'ve never once...</td>\n",
       "      <td>25</td>\n",
       "      <td>25_drugs_drug_dealers_aggressive</td>\n",
       "      <td>[drugs, drug, dealers, aggressive, offered, da...</td>\n",
       "      <td>[Görlitzer park is really cool and amazing. My...</td>\n",
       "      <td>drugs - drug - dealers - aggressive - offered ...</td>\n",
       "      <td>1.000000</td>\n",
       "      <td>False</td>\n",
       "    </tr>\n",
       "    <tr>\n",
       "      <th>4371</th>\n",
       "      <td>I spent 10 days living right in front of the p...</td>\n",
       "      <td>25</td>\n",
       "      <td>25_drugs_drug_dealers_aggressive</td>\n",
       "      <td>[drugs, drug, dealers, aggressive, offered, da...</td>\n",
       "      <td>[Görlitzer park is really cool and amazing. My...</td>\n",
       "      <td>drugs - drug - dealers - aggressive - offered ...</td>\n",
       "      <td>0.495548</td>\n",
       "      <td>False</td>\n",
       "    </tr>\n",
       "    <tr>\n",
       "      <th>4375</th>\n",
       "      <td>I'm a solo traveler who was exploring Berlin. ...</td>\n",
       "      <td>25</td>\n",
       "      <td>25_drugs_drug_dealers_aggressive</td>\n",
       "      <td>[drugs, drug, dealers, aggressive, offered, da...</td>\n",
       "      <td>[Görlitzer park is really cool and amazing. My...</td>\n",
       "      <td>drugs - drug - dealers - aggressive - offered ...</td>\n",
       "      <td>1.000000</td>\n",
       "      <td>False</td>\n",
       "    </tr>\n",
       "    <tr>\n",
       "      <th>4382</th>\n",
       "      <td>Undoubtedly a beautiful park in the daytime, I...</td>\n",
       "      <td>25</td>\n",
       "      <td>25_drugs_drug_dealers_aggressive</td>\n",
       "      <td>[drugs, drug, dealers, aggressive, offered, da...</td>\n",
       "      <td>[Görlitzer park is really cool and amazing. My...</td>\n",
       "      <td>drugs - drug - dealers - aggressive - offered ...</td>\n",
       "      <td>1.000000</td>\n",
       "      <td>False</td>\n",
       "    </tr>\n",
       "    <tr>\n",
       "      <th>4394</th>\n",
       "      <td>Full of dealers, very insecure. Can’t walk 2 m...</td>\n",
       "      <td>25</td>\n",
       "      <td>25_drugs_drug_dealers_aggressive</td>\n",
       "      <td>[drugs, drug, dealers, aggressive, offered, da...</td>\n",
       "      <td>[Görlitzer park is really cool and amazing. My...</td>\n",
       "      <td>drugs - drug - dealers - aggressive - offered ...</td>\n",
       "      <td>1.000000</td>\n",
       "      <td>False</td>\n",
       "    </tr>\n",
       "    <tr>\n",
       "      <th>4407</th>\n",
       "      <td>Park is controlled by drug dealers and other c...</td>\n",
       "      <td>25</td>\n",
       "      <td>25_drugs_drug_dealers_aggressive</td>\n",
       "      <td>[drugs, drug, dealers, aggressive, offered, da...</td>\n",
       "      <td>[Görlitzer park is really cool and amazing. My...</td>\n",
       "      <td>drugs - drug - dealers - aggressive - offered ...</td>\n",
       "      <td>1.000000</td>\n",
       "      <td>False</td>\n",
       "    </tr>\n",
       "    <tr>\n",
       "      <th>4409</th>\n",
       "      <td>A bit disappointing.  Not well taken care of. ...</td>\n",
       "      <td>25</td>\n",
       "      <td>25_drugs_drug_dealers_aggressive</td>\n",
       "      <td>[drugs, drug, dealers, aggressive, offered, da...</td>\n",
       "      <td>[Görlitzer park is really cool and amazing. My...</td>\n",
       "      <td>drugs - drug - dealers - aggressive - offered ...</td>\n",
       "      <td>0.054335</td>\n",
       "      <td>False</td>\n",
       "    </tr>\n",
       "    <tr>\n",
       "      <th>4413</th>\n",
       "      <td>Görlitzer park is really cool and amazing. My ...</td>\n",
       "      <td>25</td>\n",
       "      <td>25_drugs_drug_dealers_aggressive</td>\n",
       "      <td>[drugs, drug, dealers, aggressive, offered, da...</td>\n",
       "      <td>[Görlitzer park is really cool and amazing. My...</td>\n",
       "      <td>drugs - drug - dealers - aggressive - offered ...</td>\n",
       "      <td>1.000000</td>\n",
       "      <td>True</td>\n",
       "    </tr>\n",
       "    <tr>\n",
       "      <th>4436</th>\n",
       "      <td>Full if drug dealers but they leave you alone ...</td>\n",
       "      <td>25</td>\n",
       "      <td>25_drugs_drug_dealers_aggressive</td>\n",
       "      <td>[drugs, drug, dealers, aggressive, offered, da...</td>\n",
       "      <td>[Görlitzer park is really cool and amazing. My...</td>\n",
       "      <td>drugs - drug - dealers - aggressive - offered ...</td>\n",
       "      <td>1.000000</td>\n",
       "      <td>False</td>\n",
       "    </tr>\n",
       "    <tr>\n",
       "      <th>4443</th>\n",
       "      <td>Watched a local men's soccer game! Looks a lit...</td>\n",
       "      <td>25</td>\n",
       "      <td>25_drugs_drug_dealers_aggressive</td>\n",
       "      <td>[drugs, drug, dealers, aggressive, offered, da...</td>\n",
       "      <td>[Görlitzer park is really cool and amazing. My...</td>\n",
       "      <td>drugs - drug - dealers - aggressive - offered ...</td>\n",
       "      <td>1.000000</td>\n",
       "      <td>False</td>\n",
       "    </tr>\n",
       "    <tr>\n",
       "      <th>4446</th>\n",
       "      <td>This is my neighborhood park. I\\'ve never once...</td>\n",
       "      <td>25</td>\n",
       "      <td>25_drugs_drug_dealers_aggressive</td>\n",
       "      <td>[drugs, drug, dealers, aggressive, offered, da...</td>\n",
       "      <td>[Görlitzer park is really cool and amazing. My...</td>\n",
       "      <td>drugs - drug - dealers - aggressive - offered ...</td>\n",
       "      <td>0.521644</td>\n",
       "      <td>False</td>\n",
       "    </tr>\n",
       "    <tr>\n",
       "      <th>4447</th>\n",
       "      <td>I spent 10 days living right in front of the p...</td>\n",
       "      <td>25</td>\n",
       "      <td>25_drugs_drug_dealers_aggressive</td>\n",
       "      <td>[drugs, drug, dealers, aggressive, offered, da...</td>\n",
       "      <td>[Görlitzer park is really cool and amazing. My...</td>\n",
       "      <td>drugs - drug - dealers - aggressive - offered ...</td>\n",
       "      <td>1.000000</td>\n",
       "      <td>False</td>\n",
       "    </tr>\n",
       "    <tr>\n",
       "      <th>4451</th>\n",
       "      <td>I’m a solo traveler who was exploring Berlin. ...</td>\n",
       "      <td>25</td>\n",
       "      <td>25_drugs_drug_dealers_aggressive</td>\n",
       "      <td>[drugs, drug, dealers, aggressive, offered, da...</td>\n",
       "      <td>[Görlitzer park is really cool and amazing. My...</td>\n",
       "      <td>drugs - drug - dealers - aggressive - offered ...</td>\n",
       "      <td>1.000000</td>\n",
       "      <td>False</td>\n",
       "    </tr>\n",
       "    <tr>\n",
       "      <th>4458</th>\n",
       "      <td>Undoubtedly a beautiful park in the daytime, I...</td>\n",
       "      <td>25</td>\n",
       "      <td>25_drugs_drug_dealers_aggressive</td>\n",
       "      <td>[drugs, drug, dealers, aggressive, offered, da...</td>\n",
       "      <td>[Görlitzer park is really cool and amazing. My...</td>\n",
       "      <td>drugs - drug - dealers - aggressive - offered ...</td>\n",
       "      <td>1.000000</td>\n",
       "      <td>False</td>\n",
       "    </tr>\n",
       "    <tr>\n",
       "      <th>4470</th>\n",
       "      <td>Full of dealers, very insecure. Can’t walk 2 m...</td>\n",
       "      <td>25</td>\n",
       "      <td>25_drugs_drug_dealers_aggressive</td>\n",
       "      <td>[drugs, drug, dealers, aggressive, offered, da...</td>\n",
       "      <td>[Görlitzer park is really cool and amazing. My...</td>\n",
       "      <td>drugs - drug - dealers - aggressive - offered ...</td>\n",
       "      <td>1.000000</td>\n",
       "      <td>False</td>\n",
       "    </tr>\n",
       "    <tr>\n",
       "      <th>4483</th>\n",
       "      <td>Park is controlled by drug dealers and other c...</td>\n",
       "      <td>25</td>\n",
       "      <td>25_drugs_drug_dealers_aggressive</td>\n",
       "      <td>[drugs, drug, dealers, aggressive, offered, da...</td>\n",
       "      <td>[Görlitzer park is really cool and amazing. My...</td>\n",
       "      <td>drugs - drug - dealers - aggressive - offered ...</td>\n",
       "      <td>1.000000</td>\n",
       "      <td>False</td>\n",
       "    </tr>\n",
       "    <tr>\n",
       "      <th>4485</th>\n",
       "      <td>A bit disappointing.  Not well taken care of. ...</td>\n",
       "      <td>25</td>\n",
       "      <td>25_drugs_drug_dealers_aggressive</td>\n",
       "      <td>[drugs, drug, dealers, aggressive, offered, da...</td>\n",
       "      <td>[Görlitzer park is really cool and amazing. My...</td>\n",
       "      <td>drugs - drug - dealers - aggressive - offered ...</td>\n",
       "      <td>0.054884</td>\n",
       "      <td>False</td>\n",
       "    </tr>\n",
       "    <tr>\n",
       "      <th>4489</th>\n",
       "      <td>Görlitzer park is really cool and amazing. My ...</td>\n",
       "      <td>25</td>\n",
       "      <td>25_drugs_drug_dealers_aggressive</td>\n",
       "      <td>[drugs, drug, dealers, aggressive, offered, da...</td>\n",
       "      <td>[Görlitzer park is really cool and amazing. My...</td>\n",
       "      <td>drugs - drug - dealers - aggressive - offered ...</td>\n",
       "      <td>1.000000</td>\n",
       "      <td>True</td>\n",
       "    </tr>\n",
       "    <tr>\n",
       "      <th>4512</th>\n",
       "      <td>Full if drug dealers but they leave you alone ...</td>\n",
       "      <td>25</td>\n",
       "      <td>25_drugs_drug_dealers_aggressive</td>\n",
       "      <td>[drugs, drug, dealers, aggressive, offered, da...</td>\n",
       "      <td>[Görlitzer park is really cool and amazing. My...</td>\n",
       "      <td>drugs - drug - dealers - aggressive - offered ...</td>\n",
       "      <td>1.000000</td>\n",
       "      <td>False</td>\n",
       "    </tr>\n",
       "    <tr>\n",
       "      <th>6426</th>\n",
       "      <td>Despite regular quality controls by the police...</td>\n",
       "      <td>25</td>\n",
       "      <td>25_drugs_drug_dealers_aggressive</td>\n",
       "      <td>[drugs, drug, dealers, aggressive, offered, da...</td>\n",
       "      <td>[Görlitzer park is really cool and amazing. My...</td>\n",
       "      <td>drugs - drug - dealers - aggressive - offered ...</td>\n",
       "      <td>0.061832</td>\n",
       "      <td>False</td>\n",
       "    </tr>\n",
       "    <tr>\n",
       "      <th>6501</th>\n",
       "      <td>Full of dealers, 24 hours a day'</td>\n",
       "      <td>25</td>\n",
       "      <td>25_drugs_drug_dealers_aggressive</td>\n",
       "      <td>[drugs, drug, dealers, aggressive, offered, da...</td>\n",
       "      <td>[Görlitzer park is really cool and amazing. My...</td>\n",
       "      <td>drugs - drug - dealers - aggressive - offered ...</td>\n",
       "      <td>0.099499</td>\n",
       "      <td>False</td>\n",
       "    </tr>\n",
       "    <tr>\n",
       "      <th>7953</th>\n",
       "      <td>Drug dealers, runners and flowers - pick your ...</td>\n",
       "      <td>25</td>\n",
       "      <td>25_drugs_drug_dealers_aggressive</td>\n",
       "      <td>[drugs, drug, dealers, aggressive, offered, da...</td>\n",
       "      <td>[Görlitzer park is really cool and amazing. My...</td>\n",
       "      <td>drugs - drug - dealers - aggressive - offered ...</td>\n",
       "      <td>0.053756</td>\n",
       "      <td>False</td>\n",
       "    </tr>\n",
       "    <tr>\n",
       "      <th>8261</th>\n",
       "      <td>24-hour heroin available ☆'</td>\n",
       "      <td>25</td>\n",
       "      <td>25_drugs_drug_dealers_aggressive</td>\n",
       "      <td>[drugs, drug, dealers, aggressive, offered, da...</td>\n",
       "      <td>[Görlitzer park is really cool and amazing. My...</td>\n",
       "      <td>drugs - drug - dealers - aggressive - offered ...</td>\n",
       "      <td>0.060748</td>\n",
       "      <td>False</td>\n",
       "    </tr>\n",
       "    <tr>\n",
       "      <th>9501</th>\n",
       "      <td>Just like everyone park in berlin, the governm...</td>\n",
       "      <td>25</td>\n",
       "      <td>25_drugs_drug_dealers_aggressive</td>\n",
       "      <td>[drugs, drug, dealers, aggressive, offered, da...</td>\n",
       "      <td>[Görlitzer park is really cool and amazing. My...</td>\n",
       "      <td>drugs - drug - dealers - aggressive - offered ...</td>\n",
       "      <td>0.677819</td>\n",
       "      <td>False</td>\n",
       "    </tr>\n",
       "    <tr>\n",
       "      <th>9539</th>\n",
       "      <td>Well, there are a lot of dealers along the pat...</td>\n",
       "      <td>25</td>\n",
       "      <td>25_drugs_drug_dealers_aggressive</td>\n",
       "      <td>[drugs, drug, dealers, aggressive, offered, da...</td>\n",
       "      <td>[Görlitzer park is really cool and amazing. My...</td>\n",
       "      <td>drugs - drug - dealers - aggressive - offered ...</td>\n",
       "      <td>0.061007</td>\n",
       "      <td>False</td>\n",
       "    </tr>\n",
       "    <tr>\n",
       "      <th>9543</th>\n",
       "      <td>Too many drug sellers!!!They are really scaryA...</td>\n",
       "      <td>25</td>\n",
       "      <td>25_drugs_drug_dealers_aggressive</td>\n",
       "      <td>[drugs, drug, dealers, aggressive, offered, da...</td>\n",
       "      <td>[Görlitzer park is really cool and amazing. My...</td>\n",
       "      <td>drugs - drug - dealers - aggressive - offered ...</td>\n",
       "      <td>0.053337</td>\n",
       "      <td>False</td>\n",
       "    </tr>\n",
       "    <tr>\n",
       "      <th>10833</th>\n",
       "      <td>Despite regular quality controls by the police...</td>\n",
       "      <td>25</td>\n",
       "      <td>25_drugs_drug_dealers_aggressive</td>\n",
       "      <td>[drugs, drug, dealers, aggressive, offered, da...</td>\n",
       "      <td>[Görlitzer park is really cool and amazing. My...</td>\n",
       "      <td>drugs - drug - dealers - aggressive - offered ...</td>\n",
       "      <td>0.063652</td>\n",
       "      <td>False</td>\n",
       "    </tr>\n",
       "    <tr>\n",
       "      <th>10944</th>\n",
       "      <td>Watched a local men's soccer game! Looks a lit...</td>\n",
       "      <td>25</td>\n",
       "      <td>25_drugs_drug_dealers_aggressive</td>\n",
       "      <td>[drugs, drug, dealers, aggressive, offered, da...</td>\n",
       "      <td>[Görlitzer park is really cool and amazing. My...</td>\n",
       "      <td>drugs - drug - dealers - aggressive - offered ...</td>\n",
       "      <td>1.000000</td>\n",
       "      <td>False</td>\n",
       "    </tr>\n",
       "    <tr>\n",
       "      <th>10947</th>\n",
       "      <td>This is my neighborhood park. I\\'ve never once...</td>\n",
       "      <td>25</td>\n",
       "      <td>25_drugs_drug_dealers_aggressive</td>\n",
       "      <td>[drugs, drug, dealers, aggressive, offered, da...</td>\n",
       "      <td>[Görlitzer park is really cool and amazing. My...</td>\n",
       "      <td>drugs - drug - dealers - aggressive - offered ...</td>\n",
       "      <td>1.000000</td>\n",
       "      <td>False</td>\n",
       "    </tr>\n",
       "    <tr>\n",
       "      <th>10948</th>\n",
       "      <td>I spent 10 days living right in front of the p...</td>\n",
       "      <td>25</td>\n",
       "      <td>25_drugs_drug_dealers_aggressive</td>\n",
       "      <td>[drugs, drug, dealers, aggressive, offered, da...</td>\n",
       "      <td>[Görlitzer park is really cool and amazing. My...</td>\n",
       "      <td>drugs - drug - dealers - aggressive - offered ...</td>\n",
       "      <td>1.000000</td>\n",
       "      <td>False</td>\n",
       "    </tr>\n",
       "    <tr>\n",
       "      <th>10952</th>\n",
       "      <td>I’m a solo traveler who was exploring Berlin. ...</td>\n",
       "      <td>25</td>\n",
       "      <td>25_drugs_drug_dealers_aggressive</td>\n",
       "      <td>[drugs, drug, dealers, aggressive, offered, da...</td>\n",
       "      <td>[Görlitzer park is really cool and amazing. My...</td>\n",
       "      <td>drugs - drug - dealers - aggressive - offered ...</td>\n",
       "      <td>0.473777</td>\n",
       "      <td>False</td>\n",
       "    </tr>\n",
       "    <tr>\n",
       "      <th>10959</th>\n",
       "      <td>Undoubtedly a beautiful park in the daytime, I...</td>\n",
       "      <td>25</td>\n",
       "      <td>25_drugs_drug_dealers_aggressive</td>\n",
       "      <td>[drugs, drug, dealers, aggressive, offered, da...</td>\n",
       "      <td>[Görlitzer park is really cool and amazing. My...</td>\n",
       "      <td>drugs - drug - dealers - aggressive - offered ...</td>\n",
       "      <td>1.000000</td>\n",
       "      <td>False</td>\n",
       "    </tr>\n",
       "    <tr>\n",
       "      <th>10971</th>\n",
       "      <td>Full of dealers, very insecure. Can’t walk 2 m...</td>\n",
       "      <td>25</td>\n",
       "      <td>25_drugs_drug_dealers_aggressive</td>\n",
       "      <td>[drugs, drug, dealers, aggressive, offered, da...</td>\n",
       "      <td>[Görlitzer park is really cool and amazing. My...</td>\n",
       "      <td>drugs - drug - dealers - aggressive - offered ...</td>\n",
       "      <td>1.000000</td>\n",
       "      <td>False</td>\n",
       "    </tr>\n",
       "    <tr>\n",
       "      <th>10984</th>\n",
       "      <td>Park is controlled by drug dealers and other c...</td>\n",
       "      <td>25</td>\n",
       "      <td>25_drugs_drug_dealers_aggressive</td>\n",
       "      <td>[drugs, drug, dealers, aggressive, offered, da...</td>\n",
       "      <td>[Görlitzer park is really cool and amazing. My...</td>\n",
       "      <td>drugs - drug - dealers - aggressive - offered ...</td>\n",
       "      <td>0.921610</td>\n",
       "      <td>False</td>\n",
       "    </tr>\n",
       "    <tr>\n",
       "      <th>10986</th>\n",
       "      <td>A bit disappointing.  Not well taken care of. ...</td>\n",
       "      <td>25</td>\n",
       "      <td>25_drugs_drug_dealers_aggressive</td>\n",
       "      <td>[drugs, drug, dealers, aggressive, offered, da...</td>\n",
       "      <td>[Görlitzer park is really cool and amazing. My...</td>\n",
       "      <td>drugs - drug - dealers - aggressive - offered ...</td>\n",
       "      <td>0.054472</td>\n",
       "      <td>False</td>\n",
       "    </tr>\n",
       "    <tr>\n",
       "      <th>10990</th>\n",
       "      <td>Görlitzer park is really cool and amazing. My ...</td>\n",
       "      <td>25</td>\n",
       "      <td>25_drugs_drug_dealers_aggressive</td>\n",
       "      <td>[drugs, drug, dealers, aggressive, offered, da...</td>\n",
       "      <td>[Görlitzer park is really cool and amazing. My...</td>\n",
       "      <td>drugs - drug - dealers - aggressive - offered ...</td>\n",
       "      <td>1.000000</td>\n",
       "      <td>True</td>\n",
       "    </tr>\n",
       "    <tr>\n",
       "      <th>11013</th>\n",
       "      <td>Full if drug dealers but they leave you alone ...</td>\n",
       "      <td>25</td>\n",
       "      <td>25_drugs_drug_dealers_aggressive</td>\n",
       "      <td>[drugs, drug, dealers, aggressive, offered, da...</td>\n",
       "      <td>[Görlitzer park is really cool and amazing. My...</td>\n",
       "      <td>drugs - drug - dealers - aggressive - offered ...</td>\n",
       "      <td>1.000000</td>\n",
       "      <td>False</td>\n",
       "    </tr>\n",
       "    <tr>\n",
       "      <th>11235</th>\n",
       "      <td>Enjoyable,The only warning I have to give you ...</td>\n",
       "      <td>25</td>\n",
       "      <td>25_drugs_drug_dealers_aggressive</td>\n",
       "      <td>[drugs, drug, dealers, aggressive, offered, da...</td>\n",
       "      <td>[Görlitzer park is really cool and amazing. My...</td>\n",
       "      <td>drugs - drug - dealers - aggressive - offered ...</td>\n",
       "      <td>0.381234</td>\n",
       "      <td>False</td>\n",
       "    </tr>\n",
       "    <tr>\n",
       "      <th>11264</th>\n",
       "      <td>Full of dealers, 24 hours a day'</td>\n",
       "      <td>25</td>\n",
       "      <td>25_drugs_drug_dealers_aggressive</td>\n",
       "      <td>[drugs, drug, dealers, aggressive, offered, da...</td>\n",
       "      <td>[Görlitzer park is really cool and amazing. My...</td>\n",
       "      <td>drugs - drug - dealers - aggressive - offered ...</td>\n",
       "      <td>0.101523</td>\n",
       "      <td>False</td>\n",
       "    </tr>\n",
       "    <tr>\n",
       "      <th>11451</th>\n",
       "      <td>Not acceptable!!! Heroin syringes and feces fr...</td>\n",
       "      <td>25</td>\n",
       "      <td>25_drugs_drug_dealers_aggressive</td>\n",
       "      <td>[drugs, drug, dealers, aggressive, offered, da...</td>\n",
       "      <td>[Görlitzer park is really cool and amazing. My...</td>\n",
       "      <td>drugs - drug - dealers - aggressive - offered ...</td>\n",
       "      <td>0.059618</td>\n",
       "      <td>False</td>\n",
       "    </tr>\n",
       "  </tbody>\n",
       "</table>\n",
       "</div>"
      ],
      "text/plain": [
       "                                                Document  Topic  \\\n",
       "264    Nice little shop, I like to buy my flowers her...     25   \n",
       "1019   I took my mother and her little dog to take a ...     25   \n",
       "1074   Actually beautiful. However, many visitors mis...     25   \n",
       "1158   I love this park in Berlin. It is huge and ver...     25   \n",
       "3023   Watched a local men's soccer game! Looks a lit...     25   \n",
       "3026   This is my neighborhood park. I\\'ve never once...     25   \n",
       "3027   I spent 10 days living right in front of the p...     25   \n",
       "3031   I’m a solo traveler who was exploring Berlin. ...     25   \n",
       "3038   Undoubtedly a beautiful park in the daytime, I...     25   \n",
       "3050   Full of dealers, very insecure. Can’t walk 2 m...     25   \n",
       "3063   Park is controlled by drug dealers and other c...     25   \n",
       "3065   A bit disappointing.  Not well taken care of. ...     25   \n",
       "3069   Görlitzer park is really cool and amazing. My ...     25   \n",
       "3092   Full if drug dealers but they leave you alone ...     25   \n",
       "4370   This is my neighborhood park. I\\'ve never once...     25   \n",
       "4371   I spent 10 days living right in front of the p...     25   \n",
       "4375   I'm a solo traveler who was exploring Berlin. ...     25   \n",
       "4382   Undoubtedly a beautiful park in the daytime, I...     25   \n",
       "4394   Full of dealers, very insecure. Can’t walk 2 m...     25   \n",
       "4407   Park is controlled by drug dealers and other c...     25   \n",
       "4409   A bit disappointing.  Not well taken care of. ...     25   \n",
       "4413   Görlitzer park is really cool and amazing. My ...     25   \n",
       "4436   Full if drug dealers but they leave you alone ...     25   \n",
       "4443   Watched a local men's soccer game! Looks a lit...     25   \n",
       "4446   This is my neighborhood park. I\\'ve never once...     25   \n",
       "4447   I spent 10 days living right in front of the p...     25   \n",
       "4451   I’m a solo traveler who was exploring Berlin. ...     25   \n",
       "4458   Undoubtedly a beautiful park in the daytime, I...     25   \n",
       "4470   Full of dealers, very insecure. Can’t walk 2 m...     25   \n",
       "4483   Park is controlled by drug dealers and other c...     25   \n",
       "4485   A bit disappointing.  Not well taken care of. ...     25   \n",
       "4489   Görlitzer park is really cool and amazing. My ...     25   \n",
       "4512   Full if drug dealers but they leave you alone ...     25   \n",
       "6426   Despite regular quality controls by the police...     25   \n",
       "6501                    Full of dealers, 24 hours a day'     25   \n",
       "7953   Drug dealers, runners and flowers - pick your ...     25   \n",
       "8261                         24-hour heroin available ☆'     25   \n",
       "9501   Just like everyone park in berlin, the governm...     25   \n",
       "9539   Well, there are a lot of dealers along the pat...     25   \n",
       "9543   Too many drug sellers!!!They are really scaryA...     25   \n",
       "10833  Despite regular quality controls by the police...     25   \n",
       "10944  Watched a local men's soccer game! Looks a lit...     25   \n",
       "10947  This is my neighborhood park. I\\'ve never once...     25   \n",
       "10948  I spent 10 days living right in front of the p...     25   \n",
       "10952  I’m a solo traveler who was exploring Berlin. ...     25   \n",
       "10959  Undoubtedly a beautiful park in the daytime, I...     25   \n",
       "10971  Full of dealers, very insecure. Can’t walk 2 m...     25   \n",
       "10984  Park is controlled by drug dealers and other c...     25   \n",
       "10986  A bit disappointing.  Not well taken care of. ...     25   \n",
       "10990  Görlitzer park is really cool and amazing. My ...     25   \n",
       "11013  Full if drug dealers but they leave you alone ...     25   \n",
       "11235  Enjoyable,The only warning I have to give you ...     25   \n",
       "11264                   Full of dealers, 24 hours a day'     25   \n",
       "11451  Not acceptable!!! Heroin syringes and feces fr...     25   \n",
       "\n",
       "                                   Name  \\\n",
       "264    25_drugs_drug_dealers_aggressive   \n",
       "1019   25_drugs_drug_dealers_aggressive   \n",
       "1074   25_drugs_drug_dealers_aggressive   \n",
       "1158   25_drugs_drug_dealers_aggressive   \n",
       "3023   25_drugs_drug_dealers_aggressive   \n",
       "3026   25_drugs_drug_dealers_aggressive   \n",
       "3027   25_drugs_drug_dealers_aggressive   \n",
       "3031   25_drugs_drug_dealers_aggressive   \n",
       "3038   25_drugs_drug_dealers_aggressive   \n",
       "3050   25_drugs_drug_dealers_aggressive   \n",
       "3063   25_drugs_drug_dealers_aggressive   \n",
       "3065   25_drugs_drug_dealers_aggressive   \n",
       "3069   25_drugs_drug_dealers_aggressive   \n",
       "3092   25_drugs_drug_dealers_aggressive   \n",
       "4370   25_drugs_drug_dealers_aggressive   \n",
       "4371   25_drugs_drug_dealers_aggressive   \n",
       "4375   25_drugs_drug_dealers_aggressive   \n",
       "4382   25_drugs_drug_dealers_aggressive   \n",
       "4394   25_drugs_drug_dealers_aggressive   \n",
       "4407   25_drugs_drug_dealers_aggressive   \n",
       "4409   25_drugs_drug_dealers_aggressive   \n",
       "4413   25_drugs_drug_dealers_aggressive   \n",
       "4436   25_drugs_drug_dealers_aggressive   \n",
       "4443   25_drugs_drug_dealers_aggressive   \n",
       "4446   25_drugs_drug_dealers_aggressive   \n",
       "4447   25_drugs_drug_dealers_aggressive   \n",
       "4451   25_drugs_drug_dealers_aggressive   \n",
       "4458   25_drugs_drug_dealers_aggressive   \n",
       "4470   25_drugs_drug_dealers_aggressive   \n",
       "4483   25_drugs_drug_dealers_aggressive   \n",
       "4485   25_drugs_drug_dealers_aggressive   \n",
       "4489   25_drugs_drug_dealers_aggressive   \n",
       "4512   25_drugs_drug_dealers_aggressive   \n",
       "6426   25_drugs_drug_dealers_aggressive   \n",
       "6501   25_drugs_drug_dealers_aggressive   \n",
       "7953   25_drugs_drug_dealers_aggressive   \n",
       "8261   25_drugs_drug_dealers_aggressive   \n",
       "9501   25_drugs_drug_dealers_aggressive   \n",
       "9539   25_drugs_drug_dealers_aggressive   \n",
       "9543   25_drugs_drug_dealers_aggressive   \n",
       "10833  25_drugs_drug_dealers_aggressive   \n",
       "10944  25_drugs_drug_dealers_aggressive   \n",
       "10947  25_drugs_drug_dealers_aggressive   \n",
       "10948  25_drugs_drug_dealers_aggressive   \n",
       "10952  25_drugs_drug_dealers_aggressive   \n",
       "10959  25_drugs_drug_dealers_aggressive   \n",
       "10971  25_drugs_drug_dealers_aggressive   \n",
       "10984  25_drugs_drug_dealers_aggressive   \n",
       "10986  25_drugs_drug_dealers_aggressive   \n",
       "10990  25_drugs_drug_dealers_aggressive   \n",
       "11013  25_drugs_drug_dealers_aggressive   \n",
       "11235  25_drugs_drug_dealers_aggressive   \n",
       "11264  25_drugs_drug_dealers_aggressive   \n",
       "11451  25_drugs_drug_dealers_aggressive   \n",
       "\n",
       "                                          Representation  \\\n",
       "264    [drugs, drug, dealers, aggressive, offered, da...   \n",
       "1019   [drugs, drug, dealers, aggressive, offered, da...   \n",
       "1074   [drugs, drug, dealers, aggressive, offered, da...   \n",
       "1158   [drugs, drug, dealers, aggressive, offered, da...   \n",
       "3023   [drugs, drug, dealers, aggressive, offered, da...   \n",
       "3026   [drugs, drug, dealers, aggressive, offered, da...   \n",
       "3027   [drugs, drug, dealers, aggressive, offered, da...   \n",
       "3031   [drugs, drug, dealers, aggressive, offered, da...   \n",
       "3038   [drugs, drug, dealers, aggressive, offered, da...   \n",
       "3050   [drugs, drug, dealers, aggressive, offered, da...   \n",
       "3063   [drugs, drug, dealers, aggressive, offered, da...   \n",
       "3065   [drugs, drug, dealers, aggressive, offered, da...   \n",
       "3069   [drugs, drug, dealers, aggressive, offered, da...   \n",
       "3092   [drugs, drug, dealers, aggressive, offered, da...   \n",
       "4370   [drugs, drug, dealers, aggressive, offered, da...   \n",
       "4371   [drugs, drug, dealers, aggressive, offered, da...   \n",
       "4375   [drugs, drug, dealers, aggressive, offered, da...   \n",
       "4382   [drugs, drug, dealers, aggressive, offered, da...   \n",
       "4394   [drugs, drug, dealers, aggressive, offered, da...   \n",
       "4407   [drugs, drug, dealers, aggressive, offered, da...   \n",
       "4409   [drugs, drug, dealers, aggressive, offered, da...   \n",
       "4413   [drugs, drug, dealers, aggressive, offered, da...   \n",
       "4436   [drugs, drug, dealers, aggressive, offered, da...   \n",
       "4443   [drugs, drug, dealers, aggressive, offered, da...   \n",
       "4446   [drugs, drug, dealers, aggressive, offered, da...   \n",
       "4447   [drugs, drug, dealers, aggressive, offered, da...   \n",
       "4451   [drugs, drug, dealers, aggressive, offered, da...   \n",
       "4458   [drugs, drug, dealers, aggressive, offered, da...   \n",
       "4470   [drugs, drug, dealers, aggressive, offered, da...   \n",
       "4483   [drugs, drug, dealers, aggressive, offered, da...   \n",
       "4485   [drugs, drug, dealers, aggressive, offered, da...   \n",
       "4489   [drugs, drug, dealers, aggressive, offered, da...   \n",
       "4512   [drugs, drug, dealers, aggressive, offered, da...   \n",
       "6426   [drugs, drug, dealers, aggressive, offered, da...   \n",
       "6501   [drugs, drug, dealers, aggressive, offered, da...   \n",
       "7953   [drugs, drug, dealers, aggressive, offered, da...   \n",
       "8261   [drugs, drug, dealers, aggressive, offered, da...   \n",
       "9501   [drugs, drug, dealers, aggressive, offered, da...   \n",
       "9539   [drugs, drug, dealers, aggressive, offered, da...   \n",
       "9543   [drugs, drug, dealers, aggressive, offered, da...   \n",
       "10833  [drugs, drug, dealers, aggressive, offered, da...   \n",
       "10944  [drugs, drug, dealers, aggressive, offered, da...   \n",
       "10947  [drugs, drug, dealers, aggressive, offered, da...   \n",
       "10948  [drugs, drug, dealers, aggressive, offered, da...   \n",
       "10952  [drugs, drug, dealers, aggressive, offered, da...   \n",
       "10959  [drugs, drug, dealers, aggressive, offered, da...   \n",
       "10971  [drugs, drug, dealers, aggressive, offered, da...   \n",
       "10984  [drugs, drug, dealers, aggressive, offered, da...   \n",
       "10986  [drugs, drug, dealers, aggressive, offered, da...   \n",
       "10990  [drugs, drug, dealers, aggressive, offered, da...   \n",
       "11013  [drugs, drug, dealers, aggressive, offered, da...   \n",
       "11235  [drugs, drug, dealers, aggressive, offered, da...   \n",
       "11264  [drugs, drug, dealers, aggressive, offered, da...   \n",
       "11451  [drugs, drug, dealers, aggressive, offered, da...   \n",
       "\n",
       "                                     Representative_Docs  \\\n",
       "264    [Görlitzer park is really cool and amazing. My...   \n",
       "1019   [Görlitzer park is really cool and amazing. My...   \n",
       "1074   [Görlitzer park is really cool and amazing. My...   \n",
       "1158   [Görlitzer park is really cool and amazing. My...   \n",
       "3023   [Görlitzer park is really cool and amazing. My...   \n",
       "3026   [Görlitzer park is really cool and amazing. My...   \n",
       "3027   [Görlitzer park is really cool and amazing. My...   \n",
       "3031   [Görlitzer park is really cool and amazing. My...   \n",
       "3038   [Görlitzer park is really cool and amazing. My...   \n",
       "3050   [Görlitzer park is really cool and amazing. My...   \n",
       "3063   [Görlitzer park is really cool and amazing. My...   \n",
       "3065   [Görlitzer park is really cool and amazing. My...   \n",
       "3069   [Görlitzer park is really cool and amazing. My...   \n",
       "3092   [Görlitzer park is really cool and amazing. My...   \n",
       "4370   [Görlitzer park is really cool and amazing. My...   \n",
       "4371   [Görlitzer park is really cool and amazing. My...   \n",
       "4375   [Görlitzer park is really cool and amazing. My...   \n",
       "4382   [Görlitzer park is really cool and amazing. My...   \n",
       "4394   [Görlitzer park is really cool and amazing. My...   \n",
       "4407   [Görlitzer park is really cool and amazing. My...   \n",
       "4409   [Görlitzer park is really cool and amazing. My...   \n",
       "4413   [Görlitzer park is really cool and amazing. My...   \n",
       "4436   [Görlitzer park is really cool and amazing. My...   \n",
       "4443   [Görlitzer park is really cool and amazing. My...   \n",
       "4446   [Görlitzer park is really cool and amazing. My...   \n",
       "4447   [Görlitzer park is really cool and amazing. My...   \n",
       "4451   [Görlitzer park is really cool and amazing. My...   \n",
       "4458   [Görlitzer park is really cool and amazing. My...   \n",
       "4470   [Görlitzer park is really cool and amazing. My...   \n",
       "4483   [Görlitzer park is really cool and amazing. My...   \n",
       "4485   [Görlitzer park is really cool and amazing. My...   \n",
       "4489   [Görlitzer park is really cool and amazing. My...   \n",
       "4512   [Görlitzer park is really cool and amazing. My...   \n",
       "6426   [Görlitzer park is really cool and amazing. My...   \n",
       "6501   [Görlitzer park is really cool and amazing. My...   \n",
       "7953   [Görlitzer park is really cool and amazing. My...   \n",
       "8261   [Görlitzer park is really cool and amazing. My...   \n",
       "9501   [Görlitzer park is really cool and amazing. My...   \n",
       "9539   [Görlitzer park is really cool and amazing. My...   \n",
       "9543   [Görlitzer park is really cool and amazing. My...   \n",
       "10833  [Görlitzer park is really cool and amazing. My...   \n",
       "10944  [Görlitzer park is really cool and amazing. My...   \n",
       "10947  [Görlitzer park is really cool and amazing. My...   \n",
       "10948  [Görlitzer park is really cool and amazing. My...   \n",
       "10952  [Görlitzer park is really cool and amazing. My...   \n",
       "10959  [Görlitzer park is really cool and amazing. My...   \n",
       "10971  [Görlitzer park is really cool and amazing. My...   \n",
       "10984  [Görlitzer park is really cool and amazing. My...   \n",
       "10986  [Görlitzer park is really cool and amazing. My...   \n",
       "10990  [Görlitzer park is really cool and amazing. My...   \n",
       "11013  [Görlitzer park is really cool and amazing. My...   \n",
       "11235  [Görlitzer park is really cool and amazing. My...   \n",
       "11264  [Görlitzer park is really cool and amazing. My...   \n",
       "11451  [Görlitzer park is really cool and amazing. My...   \n",
       "\n",
       "                                             Top_n_words  Probability  \\\n",
       "264    drugs - drug - dealers - aggressive - offered ...     0.066114   \n",
       "1019   drugs - drug - dealers - aggressive - offered ...     1.000000   \n",
       "1074   drugs - drug - dealers - aggressive - offered ...     0.053231   \n",
       "1158   drugs - drug - dealers - aggressive - offered ...     0.134576   \n",
       "3023   drugs - drug - dealers - aggressive - offered ...     1.000000   \n",
       "3026   drugs - drug - dealers - aggressive - offered ...     1.000000   \n",
       "3027   drugs - drug - dealers - aggressive - offered ...     1.000000   \n",
       "3031   drugs - drug - dealers - aggressive - offered ...     0.898339   \n",
       "3038   drugs - drug - dealers - aggressive - offered ...     1.000000   \n",
       "3050   drugs - drug - dealers - aggressive - offered ...     1.000000   \n",
       "3063   drugs - drug - dealers - aggressive - offered ...     1.000000   \n",
       "3065   drugs - drug - dealers - aggressive - offered ...     0.055170   \n",
       "3069   drugs - drug - dealers - aggressive - offered ...     1.000000   \n",
       "3092   drugs - drug - dealers - aggressive - offered ...     1.000000   \n",
       "4370   drugs - drug - dealers - aggressive - offered ...     1.000000   \n",
       "4371   drugs - drug - dealers - aggressive - offered ...     0.495548   \n",
       "4375   drugs - drug - dealers - aggressive - offered ...     1.000000   \n",
       "4382   drugs - drug - dealers - aggressive - offered ...     1.000000   \n",
       "4394   drugs - drug - dealers - aggressive - offered ...     1.000000   \n",
       "4407   drugs - drug - dealers - aggressive - offered ...     1.000000   \n",
       "4409   drugs - drug - dealers - aggressive - offered ...     0.054335   \n",
       "4413   drugs - drug - dealers - aggressive - offered ...     1.000000   \n",
       "4436   drugs - drug - dealers - aggressive - offered ...     1.000000   \n",
       "4443   drugs - drug - dealers - aggressive - offered ...     1.000000   \n",
       "4446   drugs - drug - dealers - aggressive - offered ...     0.521644   \n",
       "4447   drugs - drug - dealers - aggressive - offered ...     1.000000   \n",
       "4451   drugs - drug - dealers - aggressive - offered ...     1.000000   \n",
       "4458   drugs - drug - dealers - aggressive - offered ...     1.000000   \n",
       "4470   drugs - drug - dealers - aggressive - offered ...     1.000000   \n",
       "4483   drugs - drug - dealers - aggressive - offered ...     1.000000   \n",
       "4485   drugs - drug - dealers - aggressive - offered ...     0.054884   \n",
       "4489   drugs - drug - dealers - aggressive - offered ...     1.000000   \n",
       "4512   drugs - drug - dealers - aggressive - offered ...     1.000000   \n",
       "6426   drugs - drug - dealers - aggressive - offered ...     0.061832   \n",
       "6501   drugs - drug - dealers - aggressive - offered ...     0.099499   \n",
       "7953   drugs - drug - dealers - aggressive - offered ...     0.053756   \n",
       "8261   drugs - drug - dealers - aggressive - offered ...     0.060748   \n",
       "9501   drugs - drug - dealers - aggressive - offered ...     0.677819   \n",
       "9539   drugs - drug - dealers - aggressive - offered ...     0.061007   \n",
       "9543   drugs - drug - dealers - aggressive - offered ...     0.053337   \n",
       "10833  drugs - drug - dealers - aggressive - offered ...     0.063652   \n",
       "10944  drugs - drug - dealers - aggressive - offered ...     1.000000   \n",
       "10947  drugs - drug - dealers - aggressive - offered ...     1.000000   \n",
       "10948  drugs - drug - dealers - aggressive - offered ...     1.000000   \n",
       "10952  drugs - drug - dealers - aggressive - offered ...     0.473777   \n",
       "10959  drugs - drug - dealers - aggressive - offered ...     1.000000   \n",
       "10971  drugs - drug - dealers - aggressive - offered ...     1.000000   \n",
       "10984  drugs - drug - dealers - aggressive - offered ...     0.921610   \n",
       "10986  drugs - drug - dealers - aggressive - offered ...     0.054472   \n",
       "10990  drugs - drug - dealers - aggressive - offered ...     1.000000   \n",
       "11013  drugs - drug - dealers - aggressive - offered ...     1.000000   \n",
       "11235  drugs - drug - dealers - aggressive - offered ...     0.381234   \n",
       "11264  drugs - drug - dealers - aggressive - offered ...     0.101523   \n",
       "11451  drugs - drug - dealers - aggressive - offered ...     0.059618   \n",
       "\n",
       "       Representative_document  \n",
       "264                      False  \n",
       "1019                     False  \n",
       "1074                     False  \n",
       "1158                     False  \n",
       "3023                     False  \n",
       "3026                     False  \n",
       "3027                     False  \n",
       "3031                     False  \n",
       "3038                     False  \n",
       "3050                     False  \n",
       "3063                     False  \n",
       "3065                     False  \n",
       "3069                      True  \n",
       "3092                     False  \n",
       "4370                     False  \n",
       "4371                     False  \n",
       "4375                     False  \n",
       "4382                     False  \n",
       "4394                     False  \n",
       "4407                     False  \n",
       "4409                     False  \n",
       "4413                      True  \n",
       "4436                     False  \n",
       "4443                     False  \n",
       "4446                     False  \n",
       "4447                     False  \n",
       "4451                     False  \n",
       "4458                     False  \n",
       "4470                     False  \n",
       "4483                     False  \n",
       "4485                     False  \n",
       "4489                      True  \n",
       "4512                     False  \n",
       "6426                     False  \n",
       "6501                     False  \n",
       "7953                     False  \n",
       "8261                     False  \n",
       "9501                     False  \n",
       "9539                     False  \n",
       "9543                     False  \n",
       "10833                    False  \n",
       "10944                    False  \n",
       "10947                    False  \n",
       "10948                    False  \n",
       "10952                    False  \n",
       "10959                    False  \n",
       "10971                    False  \n",
       "10984                    False  \n",
       "10986                    False  \n",
       "10990                     True  \n",
       "11013                    False  \n",
       "11235                    False  \n",
       "11264                    False  \n",
       "11451                    False  "
      ]
     },
     "execution_count": 178,
     "metadata": {},
     "output_type": "execute_result"
    }
   ],
   "source": [
    "dirty_df"
   ]
  },
  {
   "cell_type": "code",
   "execution_count": 84,
   "metadata": {},
   "outputs": [],
   "source": [
    "#topic_model.get_topic_info()"
   ]
  },
  {
   "cell_type": "markdown",
   "metadata": {},
   "source": [
    "### Cleansing"
   ]
  },
  {
   "cell_type": "code",
   "execution_count": 153,
   "metadata": {},
   "outputs": [],
   "source": [
    "dirty_keywords = [\"urine\", \"toilet\", \"rubbish\", \"dirty\", \"unfortunately\", \"smell\", \"not clean\", \"not very clean\", \"not very clean\"]\n",
    "clean_keywords = [\"clean\", \"clean.\", \"tidy\", \"good\", \"pleasant\", \"fresh\"]"
   ]
  },
  {
   "cell_type": "code",
   "execution_count": 154,
   "metadata": {},
   "outputs": [],
   "source": [
    "def classify_document(row):\n",
    "    dirty_count = sum(kw in row[\"Document\"] for kw in dirty_keywords)\n",
    "    clean_count = sum(kw in row[\"Document\"] for kw in clean_keywords)\n",
    "\n",
    "    if dirty_count > 0:\n",
    "        return \"Dirty\"\n",
    "    elif clean_count > 0:\n",
    "        return \"Clean\"\n",
    "    else:\n",
    "        return \"Dirty\""
   ]
  },
  {
   "cell_type": "code",
   "execution_count": 156,
   "metadata": {},
   "outputs": [],
   "source": [
    "dirty_df[\"Classification\"] = dirty_df.apply(classify_document, axis=1)"
   ]
  },
  {
   "cell_type": "code",
   "execution_count": 157,
   "metadata": {},
   "outputs": [],
   "source": [
    "dirty_df = dirty_df[dirty_df[\"Classification\"] == 'Dirty']"
   ]
  },
  {
   "cell_type": "code",
   "execution_count": 158,
   "metadata": {},
   "outputs": [
    {
     "data": {
      "text/plain": [
       "101"
      ]
     },
     "execution_count": 158,
     "metadata": {},
     "output_type": "execute_result"
    }
   ],
   "source": [
    "len(dirty_df)"
   ]
  },
  {
   "cell_type": "code",
   "execution_count": null,
   "metadata": {},
   "outputs": [],
   "source": []
  },
  {
   "cell_type": "markdown",
   "metadata": {},
   "source": [
    "### mapping to geom"
   ]
  },
  {
   "cell_type": "code",
   "execution_count": 161,
   "metadata": {},
   "outputs": [],
   "source": [
    "doc_look_up_df['look_up'] = doc_look_up_df.index\n",
    "dirty_df['look_up'] = dirty_df.index"
   ]
  },
  {
   "cell_type": "code",
   "execution_count": null,
   "metadata": {},
   "outputs": [
    {
     "data": {
      "text/html": [
       "<div>\n",
       "<style scoped>\n",
       "    .dataframe tbody tr th:only-of-type {\n",
       "        vertical-align: middle;\n",
       "    }\n",
       "\n",
       "    .dataframe tbody tr th {\n",
       "        vertical-align: top;\n",
       "    }\n",
       "\n",
       "    .dataframe thead th {\n",
       "        text-align: right;\n",
       "    }\n",
       "</style>\n",
       "<table border=\"1\" class=\"dataframe\">\n",
       "  <thead>\n",
       "    <tr style=\"text-align: right;\">\n",
       "      <th></th>\n",
       "      <th>Document</th>\n",
       "      <th>Topic</th>\n",
       "      <th>Name</th>\n",
       "      <th>Representation</th>\n",
       "      <th>Representative_Docs</th>\n",
       "      <th>Top_n_words</th>\n",
       "      <th>Probability</th>\n",
       "      <th>Representative_document</th>\n",
       "      <th>Classification</th>\n",
       "      <th>look_up</th>\n",
       "      <th>orig_index</th>\n",
       "      <th>sentence</th>\n",
       "    </tr>\n",
       "  </thead>\n",
       "  <tbody>\n",
       "    <tr>\n",
       "      <th>0</th>\n",
       "      <td>Unfortunately not very clean Platz!'</td>\n",
       "      <td>10</td>\n",
       "      <td>10_dirty_rubbish_clean_unfortunately</td>\n",
       "      <td>[dirty, rubbish, clean, unfortunately, littere...</td>\n",
       "      <td>[Unfortunately quite dirty .', Unfortunately o...</td>\n",
       "      <td>dirty - rubbish - clean - unfortunately - litt...</td>\n",
       "      <td>0.370921</td>\n",
       "      <td>False</td>\n",
       "      <td>Dirty</td>\n",
       "      <td>353</td>\n",
       "      <td>4</td>\n",
       "      <td>Unfortunately not very clean Platz!'</td>\n",
       "    </tr>\n",
       "    <tr>\n",
       "      <th>1</th>\n",
       "      <td>Unfortunately it is very dirty in the mornings...</td>\n",
       "      <td>10</td>\n",
       "      <td>10_dirty_rubbish_clean_unfortunately</td>\n",
       "      <td>[dirty, rubbish, clean, unfortunately, littere...</td>\n",
       "      <td>[Unfortunately quite dirty .', Unfortunately o...</td>\n",
       "      <td>dirty - rubbish - clean - unfortunately - litt...</td>\n",
       "      <td>0.207275</td>\n",
       "      <td>False</td>\n",
       "      <td>Dirty</td>\n",
       "      <td>832</td>\n",
       "      <td>10</td>\n",
       "      <td>Unfortunately it is very dirty in the mornings...</td>\n",
       "    </tr>\n",
       "    <tr>\n",
       "      <th>2</th>\n",
       "      <td>A bit of a lot of weed but nice.'</td>\n",
       "      <td>10</td>\n",
       "      <td>10_dirty_rubbish_clean_unfortunately</td>\n",
       "      <td>[dirty, rubbish, clean, unfortunately, littere...</td>\n",
       "      <td>[Unfortunately quite dirty .', Unfortunately o...</td>\n",
       "      <td>dirty - rubbish - clean - unfortunately - litt...</td>\n",
       "      <td>1.000000</td>\n",
       "      <td>False</td>\n",
       "      <td>Dirty</td>\n",
       "      <td>852</td>\n",
       "      <td>10</td>\n",
       "      <td>A bit of a lot of weed but nice.'</td>\n",
       "    </tr>\n",
       "    <tr>\n",
       "      <th>3</th>\n",
       "      <td>Unfortunately not very clean Platz!'</td>\n",
       "      <td>10</td>\n",
       "      <td>10_dirty_rubbish_clean_unfortunately</td>\n",
       "      <td>[dirty, rubbish, clean, unfortunately, littere...</td>\n",
       "      <td>[Unfortunately quite dirty .', Unfortunately o...</td>\n",
       "      <td>dirty - rubbish - clean - unfortunately - litt...</td>\n",
       "      <td>0.481770</td>\n",
       "      <td>False</td>\n",
       "      <td>Dirty</td>\n",
       "      <td>912</td>\n",
       "      <td>12</td>\n",
       "      <td>Unfortunately not very clean Platz!'</td>\n",
       "    </tr>\n",
       "  </tbody>\n",
       "</table>\n",
       "</div>"
      ],
      "text/plain": [
       "                                            Document  Topic  \\\n",
       "0               Unfortunately not very clean Platz!'     10   \n",
       "1  Unfortunately it is very dirty in the mornings...     10   \n",
       "2                  A bit of a lot of weed but nice.'     10   \n",
       "3               Unfortunately not very clean Platz!'     10   \n",
       "\n",
       "                                   Name  \\\n",
       "0  10_dirty_rubbish_clean_unfortunately   \n",
       "1  10_dirty_rubbish_clean_unfortunately   \n",
       "2  10_dirty_rubbish_clean_unfortunately   \n",
       "3  10_dirty_rubbish_clean_unfortunately   \n",
       "\n",
       "                                      Representation  \\\n",
       "0  [dirty, rubbish, clean, unfortunately, littere...   \n",
       "1  [dirty, rubbish, clean, unfortunately, littere...   \n",
       "2  [dirty, rubbish, clean, unfortunately, littere...   \n",
       "3  [dirty, rubbish, clean, unfortunately, littere...   \n",
       "\n",
       "                                 Representative_Docs  \\\n",
       "0  [Unfortunately quite dirty .', Unfortunately o...   \n",
       "1  [Unfortunately quite dirty .', Unfortunately o...   \n",
       "2  [Unfortunately quite dirty .', Unfortunately o...   \n",
       "3  [Unfortunately quite dirty .', Unfortunately o...   \n",
       "\n",
       "                                         Top_n_words  Probability  \\\n",
       "0  dirty - rubbish - clean - unfortunately - litt...     0.370921   \n",
       "1  dirty - rubbish - clean - unfortunately - litt...     0.207275   \n",
       "2  dirty - rubbish - clean - unfortunately - litt...     1.000000   \n",
       "3  dirty - rubbish - clean - unfortunately - litt...     0.481770   \n",
       "\n",
       "   Representative_document Classification  look_up  orig_index  \\\n",
       "0                    False          Dirty      353           4   \n",
       "1                    False          Dirty      832          10   \n",
       "2                    False          Dirty      852          10   \n",
       "3                    False          Dirty      912          12   \n",
       "\n",
       "                                            sentence  \n",
       "0               Unfortunately not very clean Platz!'  \n",
       "1  Unfortunately it is very dirty in the mornings...  \n",
       "2                  A bit of a lot of weed but nice.'  \n",
       "3               Unfortunately not very clean Platz!'  "
      ]
     },
     "execution_count": 162,
     "metadata": {},
     "output_type": "execute_result"
    }
   ],
   "source": [
    "merged = pd.merge(left=dirty_df, right=doc_look_up_df, on='look_up', how='inner')\n",
    "merged.head(4)"
   ]
  },
  {
   "cell_type": "code",
   "execution_count": 131,
   "metadata": {},
   "outputs": [],
   "source": [
    "df['orig_index'] = df.index"
   ]
  },
  {
   "cell_type": "code",
   "execution_count": 164,
   "metadata": {},
   "outputs": [],
   "source": [
    "finaldirty_df = pd.merge(left=df, right=merged, on='orig_index', how='inner')"
   ]
  },
  {
   "cell_type": "code",
   "execution_count": 171,
   "metadata": {},
   "outputs": [
    {
     "data": {
      "text/plain": [
       "namenr\n",
       "Platz%der%Republik                                         4\n",
       "Karl-Marx-Allee%70C-F                                      4\n",
       "Nordhafenpark%Ost                                          4\n",
       "Annemirl-Bauer-Platz                                       4\n",
       "Ottopark                                                   4\n",
       "Spreeuferpromenade%zw.%Jannowitzbrücke%u.%Michaelbrücke    3\n",
       "Köllnischer%Park                                           3\n",
       "Traveplatz                                                 3\n",
       "Hansaplatz%Süd                                             3\n",
       "Fischerinsel%11%an%der%Schwimmhalle                        3\n",
       "Sellerpark                                                 2\n",
       "Hochmeisterplatz                                           2\n",
       "Spreeuferpromenade%Holsteiner%Ufer                         2\n",
       "Böcklerpark                                                2\n",
       "Volkspark%am%Weinbergsweg                                  2\n",
       "Name: count, dtype: int64"
      ]
     },
     "execution_count": 171,
     "metadata": {},
     "output_type": "execute_result"
    }
   ],
   "source": [
    "finaldirty_df.namenr.value_counts().head(15)"
   ]
  },
  {
   "cell_type": "code",
   "execution_count": null,
   "metadata": {},
   "outputs": [],
   "source": []
  }
 ],
 "metadata": {
  "kernelspec": {
   "display_name": "Python 3",
   "language": "python",
   "name": "python3"
  },
  "language_info": {
   "codemirror_mode": {
    "name": "ipython",
    "version": 3
   },
   "file_extension": ".py",
   "mimetype": "text/x-python",
   "name": "python",
   "nbconvert_exporter": "python",
   "pygments_lexer": "ipython3",
   "version": "3.11.10"
  }
 },
 "nbformat": 4,
 "nbformat_minor": 2
}
