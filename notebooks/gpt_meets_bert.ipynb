{
 "cells": [
  {
   "cell_type": "code",
   "execution_count": 820,
   "metadata": {},
   "outputs": [],
   "source": [
    "import pandas as pd\n",
    "import numpy as np\n",
    "import matplotlib.pyplot as plt\n",
    "import os\n",
    "import sys\n",
    "import ast\n",
    "import string\n",
    "import re\n",
    "from deep_translator import GoogleTranslator\n",
    "from sentence_transformers import SentenceTransformer\n",
    "from openai import OpenAI\n",
    "import tiktoken\n",
    "from langchain.prompts import PromptTemplate\n",
    "from sklearn.feature_extraction.text import CountVectorizer\n",
    "from bertopic import BERTopic\n",
    "from bertopic.representation import OpenAI\n",
    "import openai\n",
    "import tiktoken\n",
    "\n",
    "\n",
    "# Tokenizer\n",
    "\n",
    "sys.path.append(os.path.abspath(\"..\"))\n",
    "from src.funcs import remove_stopwords\n",
    "from src.funcs import remove_punctuation\n",
    "from src.funcs import unicode\n",
    "from src.funcs import clean\n",
    "from src.funcs import clean\n",
    "from src.funcs import translate_by_division"
   ]
  },
  {
   "cell_type": "markdown",
   "metadata": {},
   "source": [
    "### gpt labling"
   ]
  },
  {
   "cell_type": "code",
   "execution_count": 3,
   "metadata": {},
   "outputs": [],
   "source": [
    "import os\n",
    "os.environ['OPENAI_API_KEY'] = os.environ.get('OPENAI_API_KEY')"
   ]
  },
  {
   "cell_type": "code",
   "execution_count": 746,
   "metadata": {},
   "outputs": [],
   "source": [
    "df = pd.read_csv('../data/processed/review_data_berlin_en.csv')"
   ]
  },
  {
   "cell_type": "code",
   "execution_count": 747,
   "metadata": {},
   "outputs": [
    {
     "data": {
      "text/plain": [
       "Index(['Unnamed: 0', 'namenr', 'place_ids', 'lat', 'lon', 'geometry',\n",
       "       'review_text', 'cleaned_text', 'review_text_english'],\n",
       "      dtype='object')"
      ]
     },
     "execution_count": 747,
     "metadata": {},
     "output_type": "execute_result"
    }
   ],
   "source": [
    "df.columns"
   ]
  },
  {
   "cell_type": "code",
   "execution_count": 748,
   "metadata": {},
   "outputs": [],
   "source": [
    "cols = ['namenr', 'place_ids', 'lat', 'lon', 'geometry',\n",
    "       'review_text']"
   ]
  },
  {
   "cell_type": "code",
   "execution_count": 749,
   "metadata": {},
   "outputs": [],
   "source": [
    "df = df[cols]"
   ]
  },
  {
   "cell_type": "code",
   "execution_count": 750,
   "metadata": {},
   "outputs": [
    {
     "data": {
      "text/html": [
       "<div>\n",
       "<style scoped>\n",
       "    .dataframe tbody tr th:only-of-type {\n",
       "        vertical-align: middle;\n",
       "    }\n",
       "\n",
       "    .dataframe tbody tr th {\n",
       "        vertical-align: top;\n",
       "    }\n",
       "\n",
       "    .dataframe thead th {\n",
       "        text-align: right;\n",
       "    }\n",
       "</style>\n",
       "<table border=\"1\" class=\"dataframe\">\n",
       "  <thead>\n",
       "    <tr style=\"text-align: right;\">\n",
       "      <th></th>\n",
       "      <th>namenr</th>\n",
       "      <th>place_ids</th>\n",
       "      <th>lat</th>\n",
       "      <th>lon</th>\n",
       "      <th>geometry</th>\n",
       "      <th>review_text</th>\n",
       "    </tr>\n",
       "  </thead>\n",
       "  <tbody>\n",
       "    <tr>\n",
       "      <th>0</th>\n",
       "      <td>Schlosspark%Charlottenburg</td>\n",
       "      <td>ChIJLQhWKi5RqEcRuLWq4wG9HDE</td>\n",
       "      <td>52.523866</td>\n",
       "      <td>13.292494</td>\n",
       "      <td>POINT (13.2924939 52.523866399999996)</td>\n",
       "      <td>['One of Berlin’s treasures, what i like about...</td>\n",
       "    </tr>\n",
       "    <tr>\n",
       "      <th>1</th>\n",
       "      <td>Sophie-Charlotten-Platz%-%GA</td>\n",
       "      <td>ChIJsXdQFdhQqEcRnq4gT95JHW0</td>\n",
       "      <td>52.511170</td>\n",
       "      <td>13.296790</td>\n",
       "      <td>POINT (13.29679 52.51117)</td>\n",
       "      <td>[\"Sophie-Charlotte-Platz metro station in Berl...</td>\n",
       "    </tr>\n",
       "    <tr>\n",
       "      <th>2</th>\n",
       "      <td>Savignyplatz</td>\n",
       "      <td>ChIJCeEX0vxQqEcRVuhtE5dxUq0</td>\n",
       "      <td>52.506136</td>\n",
       "      <td>13.322457</td>\n",
       "      <td>POINT (13.322457199999999 52.506136399999995)</td>\n",
       "      <td>['Beautiful little park. Wish people would not...</td>\n",
       "    </tr>\n",
       "    <tr>\n",
       "      <th>3</th>\n",
       "      <td>Spreebogen</td>\n",
       "      <td>ChIJoTVigqBRqEcRQHrs906Stfg</td>\n",
       "      <td>52.523778</td>\n",
       "      <td>13.347262</td>\n",
       "      <td>POINT (13.3472615 52.523778199999995)</td>\n",
       "      <td>[\"This place is an absolute gem, a true meetin...</td>\n",
       "    </tr>\n",
       "    <tr>\n",
       "      <th>4</th>\n",
       "      <td>Goslarer%Platz</td>\n",
       "      <td>ChIJaftL6j1RqEcRwKttfGRrD7k</td>\n",
       "      <td>52.525109</td>\n",
       "      <td>13.314311</td>\n",
       "      <td>POINT (13.3143107 52.525109099999995)</td>\n",
       "      <td>['Not very clean. But ok. 4 benches. And somet...</td>\n",
       "    </tr>\n",
       "    <tr>\n",
       "      <th>...</th>\n",
       "      <td>...</td>\n",
       "      <td>...</td>\n",
       "      <td>...</td>\n",
       "      <td>...</td>\n",
       "      <td>...</td>\n",
       "      <td>...</td>\n",
       "    </tr>\n",
       "    <tr>\n",
       "      <th>278</th>\n",
       "      <td>Alt-Marienfelde%Dorfaue%-%Gartendenkmal</td>\n",
       "      <td>ChIJ7X1YEK5RqEcRGzWZvCwfSQk</td>\n",
       "      <td>52.485383</td>\n",
       "      <td>13.325869</td>\n",
       "      <td>POINT (13.3258692 52.485382900000005)</td>\n",
       "      <td>['Schlichter Stein, schön zum begutachten', 'S...</td>\n",
       "    </tr>\n",
       "    <tr>\n",
       "      <th>279</th>\n",
       "      <td>Birkholz</td>\n",
       "      <td>ChIJG4J7vN1QqEcRvScjF5M646o</td>\n",
       "      <td>52.503858</td>\n",
       "      <td>13.303162</td>\n",
       "      <td>POINT (13.3031616 52.503858099999995)</td>\n",
       "      <td>['Unsere geliebte Mutti ist nachdem sie im Hau...</td>\n",
       "    </tr>\n",
       "    <tr>\n",
       "      <th>280</th>\n",
       "      <td>Union</td>\n",
       "      <td>ChIJATQHP-JQqEcRYLqj1s5WG1k</td>\n",
       "      <td>52.508056</td>\n",
       "      <td>13.317497</td>\n",
       "      <td>POINT (13.317496499999999 52.5080558)</td>\n",
       "      <td>['This bar was the highlight of our trip.  The...</td>\n",
       "    </tr>\n",
       "    <tr>\n",
       "      <th>281</th>\n",
       "      <td>Ehem.%Flugfeld/%Naturerlebnisraum%Jo%GA</td>\n",
       "      <td>ChIJmzoVxehPqEcRB6YzEZWqGuM</td>\n",
       "      <td>52.482115</td>\n",
       "      <td>13.389191</td>\n",
       "      <td>POINT (13.3891911 52.482115099999994)</td>\n",
       "      <td>['Excellent tour - I forget the guides name bu...</td>\n",
       "    </tr>\n",
       "    <tr>\n",
       "      <th>282</th>\n",
       "      <td>Eichbuschplatz%Bo%GA</td>\n",
       "      <td>ChIJqbVT8EVQqEcRkgJmyGoIDh8</td>\n",
       "      <td>52.494092</td>\n",
       "      <td>13.353627</td>\n",
       "      <td>POINT (13.353626799999999 52.4940922)</td>\n",
       "      <td>[\"A really nice place to have a drink and some...</td>\n",
       "    </tr>\n",
       "  </tbody>\n",
       "</table>\n",
       "<p>283 rows × 6 columns</p>\n",
       "</div>"
      ],
      "text/plain": [
       "                                      namenr                    place_ids  \\\n",
       "0                 Schlosspark%Charlottenburg  ChIJLQhWKi5RqEcRuLWq4wG9HDE   \n",
       "1               Sophie-Charlotten-Platz%-%GA  ChIJsXdQFdhQqEcRnq4gT95JHW0   \n",
       "2                               Savignyplatz  ChIJCeEX0vxQqEcRVuhtE5dxUq0   \n",
       "3                                 Spreebogen  ChIJoTVigqBRqEcRQHrs906Stfg   \n",
       "4                             Goslarer%Platz  ChIJaftL6j1RqEcRwKttfGRrD7k   \n",
       "..                                       ...                          ...   \n",
       "278  Alt-Marienfelde%Dorfaue%-%Gartendenkmal  ChIJ7X1YEK5RqEcRGzWZvCwfSQk   \n",
       "279                                 Birkholz  ChIJG4J7vN1QqEcRvScjF5M646o   \n",
       "280                                    Union  ChIJATQHP-JQqEcRYLqj1s5WG1k   \n",
       "281  Ehem.%Flugfeld/%Naturerlebnisraum%Jo%GA  ChIJmzoVxehPqEcRB6YzEZWqGuM   \n",
       "282                     Eichbuschplatz%Bo%GA  ChIJqbVT8EVQqEcRkgJmyGoIDh8   \n",
       "\n",
       "           lat        lon                                       geometry  \\\n",
       "0    52.523866  13.292494          POINT (13.2924939 52.523866399999996)   \n",
       "1    52.511170  13.296790                      POINT (13.29679 52.51117)   \n",
       "2    52.506136  13.322457  POINT (13.322457199999999 52.506136399999995)   \n",
       "3    52.523778  13.347262          POINT (13.3472615 52.523778199999995)   \n",
       "4    52.525109  13.314311          POINT (13.3143107 52.525109099999995)   \n",
       "..         ...        ...                                            ...   \n",
       "278  52.485383  13.325869          POINT (13.3258692 52.485382900000005)   \n",
       "279  52.503858  13.303162          POINT (13.3031616 52.503858099999995)   \n",
       "280  52.508056  13.317497          POINT (13.317496499999999 52.5080558)   \n",
       "281  52.482115  13.389191          POINT (13.3891911 52.482115099999994)   \n",
       "282  52.494092  13.353627          POINT (13.353626799999999 52.4940922)   \n",
       "\n",
       "                                           review_text  \n",
       "0    ['One of Berlin’s treasures, what i like about...  \n",
       "1    [\"Sophie-Charlotte-Platz metro station in Berl...  \n",
       "2    ['Beautiful little park. Wish people would not...  \n",
       "3    [\"This place is an absolute gem, a true meetin...  \n",
       "4    ['Not very clean. But ok. 4 benches. And somet...  \n",
       "..                                                 ...  \n",
       "278  ['Schlichter Stein, schön zum begutachten', 'S...  \n",
       "279  ['Unsere geliebte Mutti ist nachdem sie im Hau...  \n",
       "280  ['This bar was the highlight of our trip.  The...  \n",
       "281  ['Excellent tour - I forget the guides name bu...  \n",
       "282  [\"A really nice place to have a drink and some...  \n",
       "\n",
       "[283 rows x 6 columns]"
      ]
     },
     "execution_count": 750,
     "metadata": {},
     "output_type": "execute_result"
    }
   ],
   "source": [
    "df"
   ]
  },
  {
   "cell_type": "code",
   "execution_count": 752,
   "metadata": {},
   "outputs": [
    {
     "ename": "KeyboardInterrupt",
     "evalue": "",
     "output_type": "error",
     "traceback": [
      "\u001b[0;31m---------------------------------------------------------------------------\u001b[0m",
      "\u001b[0;31mKeyboardInterrupt\u001b[0m                         Traceback (most recent call last)",
      "Cell \u001b[0;32mIn[752], line 4\u001b[0m\n\u001b[1;32m      2\u001b[0m chunk2 \u001b[38;5;241m=\u001b[39m df[\u001b[38;5;241m100\u001b[39m:\u001b[38;5;241m200\u001b[39m]\n\u001b[1;32m      3\u001b[0m chunk3 \u001b[38;5;241m=\u001b[39m df[\u001b[38;5;241m200\u001b[39m:]\n\u001b[0;32m----> 4\u001b[0m chunk1[\u001b[38;5;124m'\u001b[39m\u001b[38;5;124mreview_en\u001b[39m\u001b[38;5;124m'\u001b[39m] \u001b[38;5;241m=\u001b[39m \u001b[43mchunk1\u001b[49m\u001b[43m[\u001b[49m\u001b[38;5;124;43m'\u001b[39;49m\u001b[38;5;124;43mreview_text\u001b[39;49m\u001b[38;5;124;43m'\u001b[39;49m\u001b[43m]\u001b[49m\u001b[38;5;241;43m.\u001b[39;49m\u001b[43mapply\u001b[49m\u001b[43m(\u001b[49m\u001b[38;5;28;43;01mlambda\u001b[39;49;00m\u001b[43m \u001b[49m\u001b[43mx\u001b[49m\u001b[43m:\u001b[49m\u001b[43m \u001b[49m\u001b[43mtranslate_by_division\u001b[49m\u001b[43m(\u001b[49m\u001b[43mx\u001b[49m\u001b[43m)\u001b[49m\u001b[43m)\u001b[49m\n\u001b[1;32m      5\u001b[0m chunk2[\u001b[38;5;124m'\u001b[39m\u001b[38;5;124mreview_en\u001b[39m\u001b[38;5;124m'\u001b[39m] \u001b[38;5;241m=\u001b[39m chunk2[\u001b[38;5;124m'\u001b[39m\u001b[38;5;124mreview_text\u001b[39m\u001b[38;5;124m'\u001b[39m]\u001b[38;5;241m.\u001b[39mapply(\u001b[38;5;28;01mlambda\u001b[39;00m x: translate_by_division(x))\n\u001b[1;32m      6\u001b[0m chunk3[\u001b[38;5;124m'\u001b[39m\u001b[38;5;124mreview_en\u001b[39m\u001b[38;5;124m'\u001b[39m] \u001b[38;5;241m=\u001b[39m chunk3[\u001b[38;5;124m'\u001b[39m\u001b[38;5;124mreview_text\u001b[39m\u001b[38;5;124m'\u001b[39m]\u001b[38;5;241m.\u001b[39mapply(\u001b[38;5;28;01mlambda\u001b[39;00m x: translate_by_division(x))\n",
      "File \u001b[0;32m/usr/local/lib/python3.11/site-packages/pandas/core/series.py:4924\u001b[0m, in \u001b[0;36mSeries.apply\u001b[0;34m(self, func, convert_dtype, args, by_row, **kwargs)\u001b[0m\n\u001b[1;32m   4789\u001b[0m \u001b[38;5;28;01mdef\u001b[39;00m \u001b[38;5;21mapply\u001b[39m(\n\u001b[1;32m   4790\u001b[0m     \u001b[38;5;28mself\u001b[39m,\n\u001b[1;32m   4791\u001b[0m     func: AggFuncType,\n\u001b[0;32m   (...)\u001b[0m\n\u001b[1;32m   4796\u001b[0m     \u001b[38;5;241m*\u001b[39m\u001b[38;5;241m*\u001b[39mkwargs,\n\u001b[1;32m   4797\u001b[0m ) \u001b[38;5;241m-\u001b[39m\u001b[38;5;241m>\u001b[39m DataFrame \u001b[38;5;241m|\u001b[39m Series:\n\u001b[1;32m   4798\u001b[0m \u001b[38;5;250m    \u001b[39m\u001b[38;5;124;03m\"\"\"\u001b[39;00m\n\u001b[1;32m   4799\u001b[0m \u001b[38;5;124;03m    Invoke function on values of Series.\u001b[39;00m\n\u001b[1;32m   4800\u001b[0m \n\u001b[0;32m   (...)\u001b[0m\n\u001b[1;32m   4915\u001b[0m \u001b[38;5;124;03m    dtype: float64\u001b[39;00m\n\u001b[1;32m   4916\u001b[0m \u001b[38;5;124;03m    \"\"\"\u001b[39;00m\n\u001b[1;32m   4917\u001b[0m     \u001b[38;5;28;01mreturn\u001b[39;00m \u001b[43mSeriesApply\u001b[49m\u001b[43m(\u001b[49m\n\u001b[1;32m   4918\u001b[0m \u001b[43m        \u001b[49m\u001b[38;5;28;43mself\u001b[39;49m\u001b[43m,\u001b[49m\n\u001b[1;32m   4919\u001b[0m \u001b[43m        \u001b[49m\u001b[43mfunc\u001b[49m\u001b[43m,\u001b[49m\n\u001b[1;32m   4920\u001b[0m \u001b[43m        \u001b[49m\u001b[43mconvert_dtype\u001b[49m\u001b[38;5;241;43m=\u001b[39;49m\u001b[43mconvert_dtype\u001b[49m\u001b[43m,\u001b[49m\n\u001b[1;32m   4921\u001b[0m \u001b[43m        \u001b[49m\u001b[43mby_row\u001b[49m\u001b[38;5;241;43m=\u001b[39;49m\u001b[43mby_row\u001b[49m\u001b[43m,\u001b[49m\n\u001b[1;32m   4922\u001b[0m \u001b[43m        \u001b[49m\u001b[43margs\u001b[49m\u001b[38;5;241;43m=\u001b[39;49m\u001b[43margs\u001b[49m\u001b[43m,\u001b[49m\n\u001b[1;32m   4923\u001b[0m \u001b[43m        \u001b[49m\u001b[43mkwargs\u001b[49m\u001b[38;5;241;43m=\u001b[39;49m\u001b[43mkwargs\u001b[49m\u001b[43m,\u001b[49m\n\u001b[0;32m-> 4924\u001b[0m \u001b[43m    \u001b[49m\u001b[43m)\u001b[49m\u001b[38;5;241;43m.\u001b[39;49m\u001b[43mapply\u001b[49m\u001b[43m(\u001b[49m\u001b[43m)\u001b[49m\n",
      "File \u001b[0;32m/usr/local/lib/python3.11/site-packages/pandas/core/apply.py:1427\u001b[0m, in \u001b[0;36mSeriesApply.apply\u001b[0;34m(self)\u001b[0m\n\u001b[1;32m   1424\u001b[0m     \u001b[38;5;28;01mreturn\u001b[39;00m \u001b[38;5;28mself\u001b[39m\u001b[38;5;241m.\u001b[39mapply_compat()\n\u001b[1;32m   1426\u001b[0m \u001b[38;5;66;03m# self.func is Callable\u001b[39;00m\n\u001b[0;32m-> 1427\u001b[0m \u001b[38;5;28;01mreturn\u001b[39;00m \u001b[38;5;28;43mself\u001b[39;49m\u001b[38;5;241;43m.\u001b[39;49m\u001b[43mapply_standard\u001b[49m\u001b[43m(\u001b[49m\u001b[43m)\u001b[49m\n",
      "File \u001b[0;32m/usr/local/lib/python3.11/site-packages/pandas/core/apply.py:1507\u001b[0m, in \u001b[0;36mSeriesApply.apply_standard\u001b[0;34m(self)\u001b[0m\n\u001b[1;32m   1501\u001b[0m \u001b[38;5;66;03m# row-wise access\u001b[39;00m\n\u001b[1;32m   1502\u001b[0m \u001b[38;5;66;03m# apply doesn't have a `na_action` keyword and for backward compat reasons\u001b[39;00m\n\u001b[1;32m   1503\u001b[0m \u001b[38;5;66;03m# we need to give `na_action=\"ignore\"` for categorical data.\u001b[39;00m\n\u001b[1;32m   1504\u001b[0m \u001b[38;5;66;03m# TODO: remove the `na_action=\"ignore\"` when that default has been changed in\u001b[39;00m\n\u001b[1;32m   1505\u001b[0m \u001b[38;5;66;03m#  Categorical (GH51645).\u001b[39;00m\n\u001b[1;32m   1506\u001b[0m action \u001b[38;5;241m=\u001b[39m \u001b[38;5;124m\"\u001b[39m\u001b[38;5;124mignore\u001b[39m\u001b[38;5;124m\"\u001b[39m \u001b[38;5;28;01mif\u001b[39;00m \u001b[38;5;28misinstance\u001b[39m(obj\u001b[38;5;241m.\u001b[39mdtype, CategoricalDtype) \u001b[38;5;28;01melse\u001b[39;00m \u001b[38;5;28;01mNone\u001b[39;00m\n\u001b[0;32m-> 1507\u001b[0m mapped \u001b[38;5;241m=\u001b[39m \u001b[43mobj\u001b[49m\u001b[38;5;241;43m.\u001b[39;49m\u001b[43m_map_values\u001b[49m\u001b[43m(\u001b[49m\n\u001b[1;32m   1508\u001b[0m \u001b[43m    \u001b[49m\u001b[43mmapper\u001b[49m\u001b[38;5;241;43m=\u001b[39;49m\u001b[43mcurried\u001b[49m\u001b[43m,\u001b[49m\u001b[43m \u001b[49m\u001b[43mna_action\u001b[49m\u001b[38;5;241;43m=\u001b[39;49m\u001b[43maction\u001b[49m\u001b[43m,\u001b[49m\u001b[43m \u001b[49m\u001b[43mconvert\u001b[49m\u001b[38;5;241;43m=\u001b[39;49m\u001b[38;5;28;43mself\u001b[39;49m\u001b[38;5;241;43m.\u001b[39;49m\u001b[43mconvert_dtype\u001b[49m\n\u001b[1;32m   1509\u001b[0m \u001b[43m\u001b[49m\u001b[43m)\u001b[49m\n\u001b[1;32m   1511\u001b[0m \u001b[38;5;28;01mif\u001b[39;00m \u001b[38;5;28mlen\u001b[39m(mapped) \u001b[38;5;129;01mand\u001b[39;00m \u001b[38;5;28misinstance\u001b[39m(mapped[\u001b[38;5;241m0\u001b[39m], ABCSeries):\n\u001b[1;32m   1512\u001b[0m     \u001b[38;5;66;03m# GH#43986 Need to do list(mapped) in order to get treated as nested\u001b[39;00m\n\u001b[1;32m   1513\u001b[0m     \u001b[38;5;66;03m#  See also GH#25959 regarding EA support\u001b[39;00m\n\u001b[1;32m   1514\u001b[0m     \u001b[38;5;28;01mreturn\u001b[39;00m obj\u001b[38;5;241m.\u001b[39m_constructor_expanddim(\u001b[38;5;28mlist\u001b[39m(mapped), index\u001b[38;5;241m=\u001b[39mobj\u001b[38;5;241m.\u001b[39mindex)\n",
      "File \u001b[0;32m/usr/local/lib/python3.11/site-packages/pandas/core/base.py:921\u001b[0m, in \u001b[0;36mIndexOpsMixin._map_values\u001b[0;34m(self, mapper, na_action, convert)\u001b[0m\n\u001b[1;32m    918\u001b[0m \u001b[38;5;28;01mif\u001b[39;00m \u001b[38;5;28misinstance\u001b[39m(arr, ExtensionArray):\n\u001b[1;32m    919\u001b[0m     \u001b[38;5;28;01mreturn\u001b[39;00m arr\u001b[38;5;241m.\u001b[39mmap(mapper, na_action\u001b[38;5;241m=\u001b[39mna_action)\n\u001b[0;32m--> 921\u001b[0m \u001b[38;5;28;01mreturn\u001b[39;00m \u001b[43malgorithms\u001b[49m\u001b[38;5;241;43m.\u001b[39;49m\u001b[43mmap_array\u001b[49m\u001b[43m(\u001b[49m\u001b[43marr\u001b[49m\u001b[43m,\u001b[49m\u001b[43m \u001b[49m\u001b[43mmapper\u001b[49m\u001b[43m,\u001b[49m\u001b[43m \u001b[49m\u001b[43mna_action\u001b[49m\u001b[38;5;241;43m=\u001b[39;49m\u001b[43mna_action\u001b[49m\u001b[43m,\u001b[49m\u001b[43m \u001b[49m\u001b[43mconvert\u001b[49m\u001b[38;5;241;43m=\u001b[39;49m\u001b[43mconvert\u001b[49m\u001b[43m)\u001b[49m\n",
      "File \u001b[0;32m/usr/local/lib/python3.11/site-packages/pandas/core/algorithms.py:1743\u001b[0m, in \u001b[0;36mmap_array\u001b[0;34m(arr, mapper, na_action, convert)\u001b[0m\n\u001b[1;32m   1741\u001b[0m values \u001b[38;5;241m=\u001b[39m arr\u001b[38;5;241m.\u001b[39mastype(\u001b[38;5;28mobject\u001b[39m, copy\u001b[38;5;241m=\u001b[39m\u001b[38;5;28;01mFalse\u001b[39;00m)\n\u001b[1;32m   1742\u001b[0m \u001b[38;5;28;01mif\u001b[39;00m na_action \u001b[38;5;129;01mis\u001b[39;00m \u001b[38;5;28;01mNone\u001b[39;00m:\n\u001b[0;32m-> 1743\u001b[0m     \u001b[38;5;28;01mreturn\u001b[39;00m \u001b[43mlib\u001b[49m\u001b[38;5;241;43m.\u001b[39;49m\u001b[43mmap_infer\u001b[49m\u001b[43m(\u001b[49m\u001b[43mvalues\u001b[49m\u001b[43m,\u001b[49m\u001b[43m \u001b[49m\u001b[43mmapper\u001b[49m\u001b[43m,\u001b[49m\u001b[43m \u001b[49m\u001b[43mconvert\u001b[49m\u001b[38;5;241;43m=\u001b[39;49m\u001b[43mconvert\u001b[49m\u001b[43m)\u001b[49m\n\u001b[1;32m   1744\u001b[0m \u001b[38;5;28;01melse\u001b[39;00m:\n\u001b[1;32m   1745\u001b[0m     \u001b[38;5;28;01mreturn\u001b[39;00m lib\u001b[38;5;241m.\u001b[39mmap_infer_mask(\n\u001b[1;32m   1746\u001b[0m         values, mapper, mask\u001b[38;5;241m=\u001b[39misna(values)\u001b[38;5;241m.\u001b[39mview(np\u001b[38;5;241m.\u001b[39muint8), convert\u001b[38;5;241m=\u001b[39mconvert\n\u001b[1;32m   1747\u001b[0m     )\n",
      "File \u001b[0;32mlib.pyx:2972\u001b[0m, in \u001b[0;36mpandas._libs.lib.map_infer\u001b[0;34m()\u001b[0m\n",
      "Cell \u001b[0;32mIn[752], line 4\u001b[0m, in \u001b[0;36m<lambda>\u001b[0;34m(x)\u001b[0m\n\u001b[1;32m      2\u001b[0m chunk2 \u001b[38;5;241m=\u001b[39m df[\u001b[38;5;241m100\u001b[39m:\u001b[38;5;241m200\u001b[39m]\n\u001b[1;32m      3\u001b[0m chunk3 \u001b[38;5;241m=\u001b[39m df[\u001b[38;5;241m200\u001b[39m:]\n\u001b[0;32m----> 4\u001b[0m chunk1[\u001b[38;5;124m'\u001b[39m\u001b[38;5;124mreview_en\u001b[39m\u001b[38;5;124m'\u001b[39m] \u001b[38;5;241m=\u001b[39m chunk1[\u001b[38;5;124m'\u001b[39m\u001b[38;5;124mreview_text\u001b[39m\u001b[38;5;124m'\u001b[39m]\u001b[38;5;241m.\u001b[39mapply(\u001b[38;5;28;01mlambda\u001b[39;00m x: \u001b[43mtranslate_by_division\u001b[49m\u001b[43m(\u001b[49m\u001b[43mx\u001b[49m\u001b[43m)\u001b[49m)\n\u001b[1;32m      5\u001b[0m chunk2[\u001b[38;5;124m'\u001b[39m\u001b[38;5;124mreview_en\u001b[39m\u001b[38;5;124m'\u001b[39m] \u001b[38;5;241m=\u001b[39m chunk2[\u001b[38;5;124m'\u001b[39m\u001b[38;5;124mreview_text\u001b[39m\u001b[38;5;124m'\u001b[39m]\u001b[38;5;241m.\u001b[39mapply(\u001b[38;5;28;01mlambda\u001b[39;00m x: translate_by_division(x))\n\u001b[1;32m      6\u001b[0m chunk3[\u001b[38;5;124m'\u001b[39m\u001b[38;5;124mreview_en\u001b[39m\u001b[38;5;124m'\u001b[39m] \u001b[38;5;241m=\u001b[39m chunk3[\u001b[38;5;124m'\u001b[39m\u001b[38;5;124mreview_text\u001b[39m\u001b[38;5;124m'\u001b[39m]\u001b[38;5;241m.\u001b[39mapply(\u001b[38;5;28;01mlambda\u001b[39;00m x: translate_by_division(x))\n",
      "File \u001b[0;32m/workspaces/semantic_green_area_accessbility/src/funcs.py:93\u001b[0m, in \u001b[0;36mtranslate_by_division\u001b[0;34m(row, source_lang, target_lang, num_parts)\u001b[0m\n\u001b[1;32m      0\u001b[0m <Error retrieving source code with stack_data see ipython/ipython#13598>\n",
      "File \u001b[0;32m/usr/local/lib/python3.11/site-packages/deep_translator/google.py:67\u001b[0m, in \u001b[0;36mGoogleTranslator.translate\u001b[0;34m(self, text, **kwargs)\u001b[0m\n\u001b[1;32m     64\u001b[0m \u001b[38;5;28;01mif\u001b[39;00m \u001b[38;5;28mself\u001b[39m\u001b[38;5;241m.\u001b[39mpayload_key:\n\u001b[1;32m     65\u001b[0m     \u001b[38;5;28mself\u001b[39m\u001b[38;5;241m.\u001b[39m_url_params[\u001b[38;5;28mself\u001b[39m\u001b[38;5;241m.\u001b[39mpayload_key] \u001b[38;5;241m=\u001b[39m text\n\u001b[0;32m---> 67\u001b[0m response \u001b[38;5;241m=\u001b[39m \u001b[43mrequests\u001b[49m\u001b[38;5;241;43m.\u001b[39;49m\u001b[43mget\u001b[49m\u001b[43m(\u001b[49m\n\u001b[1;32m     68\u001b[0m \u001b[43m    \u001b[49m\u001b[38;5;28;43mself\u001b[39;49m\u001b[38;5;241;43m.\u001b[39;49m\u001b[43m_base_url\u001b[49m\u001b[43m,\u001b[49m\u001b[43m \u001b[49m\u001b[43mparams\u001b[49m\u001b[38;5;241;43m=\u001b[39;49m\u001b[38;5;28;43mself\u001b[39;49m\u001b[38;5;241;43m.\u001b[39;49m\u001b[43m_url_params\u001b[49m\u001b[43m,\u001b[49m\u001b[43m \u001b[49m\u001b[43mproxies\u001b[49m\u001b[38;5;241;43m=\u001b[39;49m\u001b[38;5;28;43mself\u001b[39;49m\u001b[38;5;241;43m.\u001b[39;49m\u001b[43mproxies\u001b[49m\n\u001b[1;32m     69\u001b[0m \u001b[43m\u001b[49m\u001b[43m)\u001b[49m\n\u001b[1;32m     70\u001b[0m \u001b[38;5;28;01mif\u001b[39;00m response\u001b[38;5;241m.\u001b[39mstatus_code \u001b[38;5;241m==\u001b[39m \u001b[38;5;241m429\u001b[39m:\n\u001b[1;32m     71\u001b[0m     \u001b[38;5;28;01mraise\u001b[39;00m TooManyRequests()\n",
      "File \u001b[0;32m/usr/local/lib/python3.11/site-packages/requests/api.py:73\u001b[0m, in \u001b[0;36mget\u001b[0;34m(url, params, **kwargs)\u001b[0m\n\u001b[1;32m     62\u001b[0m \u001b[38;5;28;01mdef\u001b[39;00m \u001b[38;5;21mget\u001b[39m(url, params\u001b[38;5;241m=\u001b[39m\u001b[38;5;28;01mNone\u001b[39;00m, \u001b[38;5;241m*\u001b[39m\u001b[38;5;241m*\u001b[39mkwargs):\n\u001b[1;32m     63\u001b[0m \u001b[38;5;250m    \u001b[39m\u001b[38;5;124mr\u001b[39m\u001b[38;5;124;03m\"\"\"Sends a GET request.\u001b[39;00m\n\u001b[1;32m     64\u001b[0m \n\u001b[1;32m     65\u001b[0m \u001b[38;5;124;03m    :param url: URL for the new :class:`Request` object.\u001b[39;00m\n\u001b[0;32m   (...)\u001b[0m\n\u001b[1;32m     70\u001b[0m \u001b[38;5;124;03m    :rtype: requests.Response\u001b[39;00m\n\u001b[1;32m     71\u001b[0m \u001b[38;5;124;03m    \"\"\"\u001b[39;00m\n\u001b[0;32m---> 73\u001b[0m     \u001b[38;5;28;01mreturn\u001b[39;00m \u001b[43mrequest\u001b[49m\u001b[43m(\u001b[49m\u001b[38;5;124;43m\"\u001b[39;49m\u001b[38;5;124;43mget\u001b[39;49m\u001b[38;5;124;43m\"\u001b[39;49m\u001b[43m,\u001b[49m\u001b[43m \u001b[49m\u001b[43murl\u001b[49m\u001b[43m,\u001b[49m\u001b[43m \u001b[49m\u001b[43mparams\u001b[49m\u001b[38;5;241;43m=\u001b[39;49m\u001b[43mparams\u001b[49m\u001b[43m,\u001b[49m\u001b[43m \u001b[49m\u001b[38;5;241;43m*\u001b[39;49m\u001b[38;5;241;43m*\u001b[39;49m\u001b[43mkwargs\u001b[49m\u001b[43m)\u001b[49m\n",
      "File \u001b[0;32m/usr/local/lib/python3.11/site-packages/requests/api.py:59\u001b[0m, in \u001b[0;36mrequest\u001b[0;34m(method, url, **kwargs)\u001b[0m\n\u001b[1;32m     55\u001b[0m \u001b[38;5;66;03m# By using the 'with' statement we are sure the session is closed, thus we\u001b[39;00m\n\u001b[1;32m     56\u001b[0m \u001b[38;5;66;03m# avoid leaving sockets open which can trigger a ResourceWarning in some\u001b[39;00m\n\u001b[1;32m     57\u001b[0m \u001b[38;5;66;03m# cases, and look like a memory leak in others.\u001b[39;00m\n\u001b[1;32m     58\u001b[0m \u001b[38;5;28;01mwith\u001b[39;00m sessions\u001b[38;5;241m.\u001b[39mSession() \u001b[38;5;28;01mas\u001b[39;00m session:\n\u001b[0;32m---> 59\u001b[0m     \u001b[38;5;28;01mreturn\u001b[39;00m \u001b[43msession\u001b[49m\u001b[38;5;241;43m.\u001b[39;49m\u001b[43mrequest\u001b[49m\u001b[43m(\u001b[49m\u001b[43mmethod\u001b[49m\u001b[38;5;241;43m=\u001b[39;49m\u001b[43mmethod\u001b[49m\u001b[43m,\u001b[49m\u001b[43m \u001b[49m\u001b[43murl\u001b[49m\u001b[38;5;241;43m=\u001b[39;49m\u001b[43murl\u001b[49m\u001b[43m,\u001b[49m\u001b[43m \u001b[49m\u001b[38;5;241;43m*\u001b[39;49m\u001b[38;5;241;43m*\u001b[39;49m\u001b[43mkwargs\u001b[49m\u001b[43m)\u001b[49m\n",
      "File \u001b[0;32m/usr/local/lib/python3.11/site-packages/requests/sessions.py:589\u001b[0m, in \u001b[0;36mSession.request\u001b[0;34m(self, method, url, params, data, headers, cookies, files, auth, timeout, allow_redirects, proxies, hooks, stream, verify, cert, json)\u001b[0m\n\u001b[1;32m    584\u001b[0m send_kwargs \u001b[38;5;241m=\u001b[39m {\n\u001b[1;32m    585\u001b[0m     \u001b[38;5;124m\"\u001b[39m\u001b[38;5;124mtimeout\u001b[39m\u001b[38;5;124m\"\u001b[39m: timeout,\n\u001b[1;32m    586\u001b[0m     \u001b[38;5;124m\"\u001b[39m\u001b[38;5;124mallow_redirects\u001b[39m\u001b[38;5;124m\"\u001b[39m: allow_redirects,\n\u001b[1;32m    587\u001b[0m }\n\u001b[1;32m    588\u001b[0m send_kwargs\u001b[38;5;241m.\u001b[39mupdate(settings)\n\u001b[0;32m--> 589\u001b[0m resp \u001b[38;5;241m=\u001b[39m \u001b[38;5;28;43mself\u001b[39;49m\u001b[38;5;241;43m.\u001b[39;49m\u001b[43msend\u001b[49m\u001b[43m(\u001b[49m\u001b[43mprep\u001b[49m\u001b[43m,\u001b[49m\u001b[43m \u001b[49m\u001b[38;5;241;43m*\u001b[39;49m\u001b[38;5;241;43m*\u001b[39;49m\u001b[43msend_kwargs\u001b[49m\u001b[43m)\u001b[49m\n\u001b[1;32m    591\u001b[0m \u001b[38;5;28;01mreturn\u001b[39;00m resp\n",
      "File \u001b[0;32m/usr/local/lib/python3.11/site-packages/requests/sessions.py:746\u001b[0m, in \u001b[0;36mSession.send\u001b[0;34m(self, request, **kwargs)\u001b[0m\n\u001b[1;32m    743\u001b[0m         \u001b[38;5;28;01mpass\u001b[39;00m\n\u001b[1;32m    745\u001b[0m \u001b[38;5;28;01mif\u001b[39;00m \u001b[38;5;129;01mnot\u001b[39;00m stream:\n\u001b[0;32m--> 746\u001b[0m     \u001b[43mr\u001b[49m\u001b[38;5;241;43m.\u001b[39;49m\u001b[43mcontent\u001b[49m\n\u001b[1;32m    748\u001b[0m \u001b[38;5;28;01mreturn\u001b[39;00m r\n",
      "File \u001b[0;32m/usr/local/lib/python3.11/site-packages/requests/models.py:902\u001b[0m, in \u001b[0;36mResponse.content\u001b[0;34m(self)\u001b[0m\n\u001b[1;32m    900\u001b[0m         \u001b[38;5;28mself\u001b[39m\u001b[38;5;241m.\u001b[39m_content \u001b[38;5;241m=\u001b[39m \u001b[38;5;28;01mNone\u001b[39;00m\n\u001b[1;32m    901\u001b[0m     \u001b[38;5;28;01melse\u001b[39;00m:\n\u001b[0;32m--> 902\u001b[0m         \u001b[38;5;28mself\u001b[39m\u001b[38;5;241m.\u001b[39m_content \u001b[38;5;241m=\u001b[39m \u001b[38;5;124mb\u001b[39m\u001b[38;5;124m\"\u001b[39m\u001b[38;5;124m\"\u001b[39m\u001b[38;5;241m.\u001b[39mjoin(\u001b[38;5;28mself\u001b[39m\u001b[38;5;241m.\u001b[39miter_content(CONTENT_CHUNK_SIZE)) \u001b[38;5;129;01mor\u001b[39;00m \u001b[38;5;124mb\u001b[39m\u001b[38;5;124m\"\u001b[39m\u001b[38;5;124m\"\u001b[39m\n\u001b[1;32m    904\u001b[0m \u001b[38;5;28mself\u001b[39m\u001b[38;5;241m.\u001b[39m_content_consumed \u001b[38;5;241m=\u001b[39m \u001b[38;5;28;01mTrue\u001b[39;00m\n\u001b[1;32m    905\u001b[0m \u001b[38;5;66;03m# don't need to release the connection; that's been handled by urllib3\u001b[39;00m\n\u001b[1;32m    906\u001b[0m \u001b[38;5;66;03m# since we exhausted the data.\u001b[39;00m\n",
      "File \u001b[0;32m/usr/local/lib/python3.11/site-packages/requests/models.py:820\u001b[0m, in \u001b[0;36mResponse.iter_content.<locals>.generate\u001b[0;34m()\u001b[0m\n\u001b[1;32m    818\u001b[0m \u001b[38;5;28;01mif\u001b[39;00m \u001b[38;5;28mhasattr\u001b[39m(\u001b[38;5;28mself\u001b[39m\u001b[38;5;241m.\u001b[39mraw, \u001b[38;5;124m\"\u001b[39m\u001b[38;5;124mstream\u001b[39m\u001b[38;5;124m\"\u001b[39m):\n\u001b[1;32m    819\u001b[0m     \u001b[38;5;28;01mtry\u001b[39;00m:\n\u001b[0;32m--> 820\u001b[0m         \u001b[38;5;28;01myield from\u001b[39;00m \u001b[38;5;28mself\u001b[39m\u001b[38;5;241m.\u001b[39mraw\u001b[38;5;241m.\u001b[39mstream(chunk_size, decode_content\u001b[38;5;241m=\u001b[39m\u001b[38;5;28;01mTrue\u001b[39;00m)\n\u001b[1;32m    821\u001b[0m     \u001b[38;5;28;01mexcept\u001b[39;00m ProtocolError \u001b[38;5;28;01mas\u001b[39;00m e:\n\u001b[1;32m    822\u001b[0m         \u001b[38;5;28;01mraise\u001b[39;00m ChunkedEncodingError(e)\n",
      "File \u001b[0;32m/usr/local/lib/python3.11/site-packages/urllib3/response.py:1057\u001b[0m, in \u001b[0;36mHTTPResponse.stream\u001b[0;34m(self, amt, decode_content)\u001b[0m\n\u001b[1;32m   1041\u001b[0m \u001b[38;5;250m\u001b[39m\u001b[38;5;124;03m\"\"\"\u001b[39;00m\n\u001b[1;32m   1042\u001b[0m \u001b[38;5;124;03mA generator wrapper for the read() method. A call will block until\u001b[39;00m\n\u001b[1;32m   1043\u001b[0m \u001b[38;5;124;03m``amt`` bytes have been read from the connection or until the\u001b[39;00m\n\u001b[0;32m   (...)\u001b[0m\n\u001b[1;32m   1054\u001b[0m \u001b[38;5;124;03m    'content-encoding' header.\u001b[39;00m\n\u001b[1;32m   1055\u001b[0m \u001b[38;5;124;03m\"\"\"\u001b[39;00m\n\u001b[1;32m   1056\u001b[0m \u001b[38;5;28;01mif\u001b[39;00m \u001b[38;5;28mself\u001b[39m\u001b[38;5;241m.\u001b[39mchunked \u001b[38;5;129;01mand\u001b[39;00m \u001b[38;5;28mself\u001b[39m\u001b[38;5;241m.\u001b[39msupports_chunked_reads():\n\u001b[0;32m-> 1057\u001b[0m     \u001b[38;5;28;01myield from\u001b[39;00m \u001b[38;5;28mself\u001b[39m\u001b[38;5;241m.\u001b[39mread_chunked(amt, decode_content\u001b[38;5;241m=\u001b[39mdecode_content)\n\u001b[1;32m   1058\u001b[0m \u001b[38;5;28;01melse\u001b[39;00m:\n\u001b[1;32m   1059\u001b[0m     \u001b[38;5;28;01mwhile\u001b[39;00m \u001b[38;5;129;01mnot\u001b[39;00m is_fp_closed(\u001b[38;5;28mself\u001b[39m\u001b[38;5;241m.\u001b[39m_fp) \u001b[38;5;129;01mor\u001b[39;00m \u001b[38;5;28mlen\u001b[39m(\u001b[38;5;28mself\u001b[39m\u001b[38;5;241m.\u001b[39m_decoded_buffer) \u001b[38;5;241m>\u001b[39m \u001b[38;5;241m0\u001b[39m:\n",
      "File \u001b[0;32m/usr/local/lib/python3.11/site-packages/urllib3/response.py:1206\u001b[0m, in \u001b[0;36mHTTPResponse.read_chunked\u001b[0;34m(self, amt, decode_content)\u001b[0m\n\u001b[1;32m   1203\u001b[0m     amt \u001b[38;5;241m=\u001b[39m \u001b[38;5;28;01mNone\u001b[39;00m\n\u001b[1;32m   1205\u001b[0m \u001b[38;5;28;01mwhile\u001b[39;00m \u001b[38;5;28;01mTrue\u001b[39;00m:\n\u001b[0;32m-> 1206\u001b[0m     \u001b[38;5;28;43mself\u001b[39;49m\u001b[38;5;241;43m.\u001b[39;49m\u001b[43m_update_chunk_length\u001b[49m\u001b[43m(\u001b[49m\u001b[43m)\u001b[49m\n\u001b[1;32m   1207\u001b[0m     \u001b[38;5;28;01mif\u001b[39;00m \u001b[38;5;28mself\u001b[39m\u001b[38;5;241m.\u001b[39mchunk_left \u001b[38;5;241m==\u001b[39m \u001b[38;5;241m0\u001b[39m:\n\u001b[1;32m   1208\u001b[0m         \u001b[38;5;28;01mbreak\u001b[39;00m\n",
      "File \u001b[0;32m/usr/local/lib/python3.11/site-packages/urllib3/response.py:1125\u001b[0m, in \u001b[0;36mHTTPResponse._update_chunk_length\u001b[0;34m(self)\u001b[0m\n\u001b[1;32m   1123\u001b[0m \u001b[38;5;28;01mif\u001b[39;00m \u001b[38;5;28mself\u001b[39m\u001b[38;5;241m.\u001b[39mchunk_left \u001b[38;5;129;01mis\u001b[39;00m \u001b[38;5;129;01mnot\u001b[39;00m \u001b[38;5;28;01mNone\u001b[39;00m:\n\u001b[1;32m   1124\u001b[0m     \u001b[38;5;28;01mreturn\u001b[39;00m \u001b[38;5;28;01mNone\u001b[39;00m\n\u001b[0;32m-> 1125\u001b[0m line \u001b[38;5;241m=\u001b[39m \u001b[38;5;28mself\u001b[39m\u001b[38;5;241m.\u001b[39m_fp\u001b[38;5;241m.\u001b[39mfp\u001b[38;5;241m.\u001b[39mreadline()  \u001b[38;5;66;03m# type: ignore[union-attr]\u001b[39;00m\n\u001b[1;32m   1126\u001b[0m line \u001b[38;5;241m=\u001b[39m line\u001b[38;5;241m.\u001b[39msplit(\u001b[38;5;124mb\u001b[39m\u001b[38;5;124m\"\u001b[39m\u001b[38;5;124m;\u001b[39m\u001b[38;5;124m\"\u001b[39m, \u001b[38;5;241m1\u001b[39m)[\u001b[38;5;241m0\u001b[39m]\n\u001b[1;32m   1127\u001b[0m \u001b[38;5;28;01mtry\u001b[39;00m:\n",
      "File \u001b[0;32m/usr/local/lib/python3.11/socket.py:718\u001b[0m, in \u001b[0;36mSocketIO.readinto\u001b[0;34m(self, b)\u001b[0m\n\u001b[1;32m    716\u001b[0m \u001b[38;5;28;01mwhile\u001b[39;00m \u001b[38;5;28;01mTrue\u001b[39;00m:\n\u001b[1;32m    717\u001b[0m     \u001b[38;5;28;01mtry\u001b[39;00m:\n\u001b[0;32m--> 718\u001b[0m         \u001b[38;5;28;01mreturn\u001b[39;00m \u001b[38;5;28;43mself\u001b[39;49m\u001b[38;5;241;43m.\u001b[39;49m\u001b[43m_sock\u001b[49m\u001b[38;5;241;43m.\u001b[39;49m\u001b[43mrecv_into\u001b[49m\u001b[43m(\u001b[49m\u001b[43mb\u001b[49m\u001b[43m)\u001b[49m\n\u001b[1;32m    719\u001b[0m     \u001b[38;5;28;01mexcept\u001b[39;00m timeout:\n\u001b[1;32m    720\u001b[0m         \u001b[38;5;28mself\u001b[39m\u001b[38;5;241m.\u001b[39m_timeout_occurred \u001b[38;5;241m=\u001b[39m \u001b[38;5;28;01mTrue\u001b[39;00m\n",
      "File \u001b[0;32m/usr/local/lib/python3.11/ssl.py:1314\u001b[0m, in \u001b[0;36mSSLSocket.recv_into\u001b[0;34m(self, buffer, nbytes, flags)\u001b[0m\n\u001b[1;32m   1310\u001b[0m     \u001b[38;5;28;01mif\u001b[39;00m flags \u001b[38;5;241m!=\u001b[39m \u001b[38;5;241m0\u001b[39m:\n\u001b[1;32m   1311\u001b[0m         \u001b[38;5;28;01mraise\u001b[39;00m \u001b[38;5;167;01mValueError\u001b[39;00m(\n\u001b[1;32m   1312\u001b[0m           \u001b[38;5;124m\"\u001b[39m\u001b[38;5;124mnon-zero flags not allowed in calls to recv_into() on \u001b[39m\u001b[38;5;132;01m%s\u001b[39;00m\u001b[38;5;124m\"\u001b[39m \u001b[38;5;241m%\u001b[39m\n\u001b[1;32m   1313\u001b[0m           \u001b[38;5;28mself\u001b[39m\u001b[38;5;241m.\u001b[39m\u001b[38;5;18m__class__\u001b[39m)\n\u001b[0;32m-> 1314\u001b[0m     \u001b[38;5;28;01mreturn\u001b[39;00m \u001b[38;5;28;43mself\u001b[39;49m\u001b[38;5;241;43m.\u001b[39;49m\u001b[43mread\u001b[49m\u001b[43m(\u001b[49m\u001b[43mnbytes\u001b[49m\u001b[43m,\u001b[49m\u001b[43m \u001b[49m\u001b[43mbuffer\u001b[49m\u001b[43m)\u001b[49m\n\u001b[1;32m   1315\u001b[0m \u001b[38;5;28;01melse\u001b[39;00m:\n\u001b[1;32m   1316\u001b[0m     \u001b[38;5;28;01mreturn\u001b[39;00m \u001b[38;5;28msuper\u001b[39m()\u001b[38;5;241m.\u001b[39mrecv_into(buffer, nbytes, flags)\n",
      "File \u001b[0;32m/usr/local/lib/python3.11/ssl.py:1166\u001b[0m, in \u001b[0;36mSSLSocket.read\u001b[0;34m(self, len, buffer)\u001b[0m\n\u001b[1;32m   1164\u001b[0m \u001b[38;5;28;01mtry\u001b[39;00m:\n\u001b[1;32m   1165\u001b[0m     \u001b[38;5;28;01mif\u001b[39;00m buffer \u001b[38;5;129;01mis\u001b[39;00m \u001b[38;5;129;01mnot\u001b[39;00m \u001b[38;5;28;01mNone\u001b[39;00m:\n\u001b[0;32m-> 1166\u001b[0m         \u001b[38;5;28;01mreturn\u001b[39;00m \u001b[38;5;28;43mself\u001b[39;49m\u001b[38;5;241;43m.\u001b[39;49m\u001b[43m_sslobj\u001b[49m\u001b[38;5;241;43m.\u001b[39;49m\u001b[43mread\u001b[49m\u001b[43m(\u001b[49m\u001b[38;5;28;43mlen\u001b[39;49m\u001b[43m,\u001b[49m\u001b[43m \u001b[49m\u001b[43mbuffer\u001b[49m\u001b[43m)\u001b[49m\n\u001b[1;32m   1167\u001b[0m     \u001b[38;5;28;01melse\u001b[39;00m:\n\u001b[1;32m   1168\u001b[0m         \u001b[38;5;28;01mreturn\u001b[39;00m \u001b[38;5;28mself\u001b[39m\u001b[38;5;241m.\u001b[39m_sslobj\u001b[38;5;241m.\u001b[39mread(\u001b[38;5;28mlen\u001b[39m)\n",
      "\u001b[0;31mKeyboardInterrupt\u001b[0m: "
     ]
    }
   ],
   "source": [
    "chunk1 = df[:100]\n",
    "chunk2 = df[100:200]\n",
    "chunk3 = df[200:]\n",
    "chunk1['review_en'] = chunk1['review_text'].apply(lambda x: translate_by_division(x))\n",
    "chunk2['review_en'] = chunk2['review_text'].apply(lambda x: translate_by_division(x))\n",
    "chunk3['review_en'] = chunk3['review_text'].apply(lambda x: translate_by_division(x))"
   ]
  },
  {
   "cell_type": "code",
   "execution_count": null,
   "metadata": {},
   "outputs": [],
   "source": [
    "df = pd.concat([chunk1, chunk2, chunk3],axis=0)"
   ]
  },
  {
   "cell_type": "code",
   "execution_count": 89,
   "metadata": {},
   "outputs": [],
   "source": [
    "#df = pd.concat([chunk1, chunk2, chunk3], axis=0, ignore_index=False)"
   ]
  },
  {
   "cell_type": "markdown",
   "metadata": {},
   "source": [
    "### Filter"
   ]
  },
  {
   "cell_type": "code",
   "execution_count": 730,
   "metadata": {},
   "outputs": [],
   "source": [
    "key = os.environ.get('OPENAI_API_KEY')"
   ]
  },
  {
   "cell_type": "code",
   "execution_count": 101,
   "metadata": {},
   "outputs": [],
   "source": [
    "prompt_template = PromptTemplate.from_template(\n",
    "    '''\n",
    "    Your task is to extract sentences from {sentence}.\n",
    "    You are an assistant for labeling negative annotaded sentences in user reviews.\n",
    "    Return the sentences that are associated to be negative in form of a list.\n",
    "    Provide output without further text information.\n",
    "    Use the following schema ['sentence 1', 'sentence 2', ...]\n",
    "    '''\n",
    ")"
   ]
  },
  {
   "cell_type": "code",
   "execution_count": 102,
   "metadata": {},
   "outputs": [],
   "source": [
    "client = OpenAI()"
   ]
  },
  {
   "cell_type": "code",
   "execution_count": 104,
   "metadata": {},
   "outputs": [],
   "source": [
    "def labeling(sentence: str) -> str:\n",
    "    try:\n",
    "        # Format the prompt dynamically with the input sentence\n",
    "        prompt = prompt_template.format(sentence=sentence)\n",
    "        \n",
    "        response = client.chat.completions.create(\n",
    "            model=\"gpt-4o\",\n",
    "            messages=[\n",
    "                {\n",
    "                    \"role\": \"user\",\n",
    "                    \"content\": prompt,\n",
    "                }\n",
    "            ],\n",
    "        )\n",
    "        return response.choices[0].message.content.strip()\n",
    "    except Exception as e:\n",
    "        return f\"Error: {e}\""
   ]
  },
  {
   "cell_type": "code",
   "execution_count": 106,
   "metadata": {},
   "outputs": [],
   "source": [
    "df['labeled_sentences'] = df['review_en'].apply(lambda x: labeling(x))"
   ]
  },
  {
   "cell_type": "markdown",
   "metadata": {},
   "source": [
    "### topic modelling"
   ]
  },
  {
   "cell_type": "code",
   "execution_count": 760,
   "metadata": {},
   "outputs": [],
   "source": [
    "df = pd.read_csv('../data/processed/bert_review_en_labeled.csv')"
   ]
  },
  {
   "cell_type": "code",
   "execution_count": 768,
   "metadata": {},
   "outputs": [],
   "source": [
    "df = df[df.review_en.apply(lambda x: isinstance(x, str))]"
   ]
  },
  {
   "cell_type": "code",
   "execution_count": 769,
   "metadata": {},
   "outputs": [],
   "source": [
    "all_sentences_with_index = []\n",
    "\n",
    "for idx, row in df.review_en.items():\n",
    "    # Clean the row\n",
    "    cleaned_row = row.replace(\"[\", \"\").replace(\"]\", \"\").replace(\"\\\\n\", \"\").strip()\n",
    "    # Split sentences\n",
    "    sentences = cleaned_row.split(\", '\")\n",
    "    # Append each sentence with its original index\n",
    "    for sentence in sentences:\n",
    "        all_sentences_with_index.append((idx, sentence))\n"
   ]
  },
  {
   "cell_type": "code",
   "execution_count": 770,
   "metadata": {},
   "outputs": [],
   "source": [
    "doc_look_up_df = pd.DataFrame(all_sentences_with_index)\n",
    "cols=['orig_index', 'sentence']\n",
    "doc_look_up_df.columns = cols"
   ]
  },
  {
   "cell_type": "code",
   "execution_count": 771,
   "metadata": {},
   "outputs": [],
   "source": [
    "docs = list(doc_look_up_df.sentence)"
   ]
  },
  {
   "cell_type": "code",
   "execution_count": 794,
   "metadata": {},
   "outputs": [
    {
     "data": {
      "text/html": [
       "<div>\n",
       "<style scoped>\n",
       "    .dataframe tbody tr th:only-of-type {\n",
       "        vertical-align: middle;\n",
       "    }\n",
       "\n",
       "    .dataframe tbody tr th {\n",
       "        vertical-align: top;\n",
       "    }\n",
       "\n",
       "    .dataframe thead th {\n",
       "        text-align: right;\n",
       "    }\n",
       "</style>\n",
       "<table border=\"1\" class=\"dataframe\">\n",
       "  <thead>\n",
       "    <tr style=\"text-align: right;\">\n",
       "      <th></th>\n",
       "      <th>orig_index</th>\n",
       "      <th>sentence</th>\n",
       "    </tr>\n",
       "  </thead>\n",
       "  <tbody>\n",
       "    <tr>\n",
       "      <th>0</th>\n",
       "      <td>0</td>\n",
       "      <td>'One of Berlin's treasures, what I like about ...</td>\n",
       "    </tr>\n",
       "    <tr>\n",
       "      <th>1</th>\n",
       "      <td>0</td>\n",
       "      <td>This Christmas market is a magical experience ...</td>\n",
       "    </tr>\n",
       "    <tr>\n",
       "      <th>2</th>\n",
       "      <td>0</td>\n",
       "      <td>We visited Schlossgarten Charlottenburg on a w...</td>\n",
       "    </tr>\n",
       "    <tr>\n",
       "      <th>3</th>\n",
       "      <td>0</td>\n",
       "      <td>Beautiful nature, absolutely!I was just expect...</td>\n",
       "    </tr>\n",
       "    <tr>\n",
       "      <th>4</th>\n",
       "      <td>0</td>\n",
       "      <td>Nice place to spend time with your family or f...</td>\n",
       "    </tr>\n",
       "    <tr>\n",
       "      <th>...</th>\n",
       "      <td>...</td>\n",
       "      <td>...</td>\n",
       "    </tr>\n",
       "    <tr>\n",
       "      <th>13800</th>\n",
       "      <td>282</td>\n",
       "      <td>They only accept cash, even for bigger amounts...</td>\n",
       "    </tr>\n",
       "    <tr>\n",
       "      <th>13801</th>\n",
       "      <td>282</td>\n",
       "      <td>Cozy spot for small plate Vietnamese food at a...</td>\n",
       "    </tr>\n",
       "    <tr>\n",
       "      <th>13802</th>\n",
       "      <td>282</td>\n",
       "      <td>all the coffees and smoothies are overly sweet...</td>\n",
       "    </tr>\n",
       "    <tr>\n",
       "      <th>13803</th>\n",
       "      <td>282</td>\n",
       "      <td>Incredible!!! Best fried rice I have ever had....</td>\n",
       "    </tr>\n",
       "    <tr>\n",
       "      <th>13804</th>\n",
       "      <td>282</td>\n",
       "      <td>Absolutely delicious pho!</td>\n",
       "    </tr>\n",
       "  </tbody>\n",
       "</table>\n",
       "<p>13805 rows × 2 columns</p>\n",
       "</div>"
      ],
      "text/plain": [
       "       orig_index                                           sentence\n",
       "0               0  'One of Berlin's treasures, what I like about ...\n",
       "1               0  This Christmas market is a magical experience ...\n",
       "2               0  We visited Schlossgarten Charlottenburg on a w...\n",
       "3               0  Beautiful nature, absolutely!I was just expect...\n",
       "4               0  Nice place to spend time with your family or f...\n",
       "...           ...                                                ...\n",
       "13800         282  They only accept cash, even for bigger amounts...\n",
       "13801         282  Cozy spot for small plate Vietnamese food at a...\n",
       "13802         282  all the coffees and smoothies are overly sweet...\n",
       "13803         282  Incredible!!! Best fried rice I have ever had....\n",
       "13804         282                          Absolutely delicious pho!\n",
       "\n",
       "[13805 rows x 2 columns]"
      ]
     },
     "execution_count": 794,
     "metadata": {},
     "output_type": "execute_result"
    }
   ],
   "source": [
    "doc_look_up_df"
   ]
  },
  {
   "cell_type": "markdown",
   "metadata": {},
   "source": [
    "#### topic model"
   ]
  },
  {
   "cell_type": "code",
   "execution_count": 1166,
   "metadata": {},
   "outputs": [],
   "source": [
    "from bertopic.representation import KeyBERTInspired\n",
    "from bertopic.representation import PartOfSpeech\n",
    "from bertopic.representation import MaximalMarginalRelevance\n",
    "#from sklearn.datasets import fetch_20newsgroups"
   ]
  },
  {
   "cell_type": "code",
   "execution_count": 1167,
   "metadata": {},
   "outputs": [],
   "source": [
    "vectorizer_model = CountVectorizer(stop_words='english') #ngram_range=(1, 3)"
   ]
  },
  {
   "cell_type": "code",
   "execution_count": 1168,
   "metadata": {},
   "outputs": [],
   "source": [
    "main_representation = KeyBERTInspired()\n",
    "\n",
    "# Additional ways of representing a topic\n",
    "aspect_model1 = PartOfSpeech(\"en_core_web_sm\")\n",
    "aspect_model2 = [KeyBERTInspired(top_n_words=30), MaximalMarginalRelevance(diversity=.5)]\n",
    "\n",
    "# Add all models together to be run in a single `fit`\n",
    "representation_model = {\n",
    "   \"Main\": main_representation,\n",
    "   \"Aspect1\":  aspect_model1,\n",
    "   \"Aspect2\":  aspect_model2 \n",
    "}"
   ]
  },
  {
   "cell_type": "code",
   "execution_count": 1169,
   "metadata": {},
   "outputs": [],
   "source": [
    "topic_model = BERTopic(representation_model=representation_model,vectorizer_model=vectorizer_model, calculate_probabilities=True, nr_topics=50).fit(docs)"
   ]
  },
  {
   "cell_type": "code",
   "execution_count": 1170,
   "metadata": {},
   "outputs": [
    {
     "data": {
      "application/vnd.plotly.v1+json": {
       "config": {
        "plotlyServerURL": "https://plot.ly"
       },
       "data": [
        {
         "marker": {
          "color": "#D55E00"
         },
         "orientation": "h",
         "type": "bar",
         "x": [
          0.3567166328430176,
          0.3631100058555603,
          0.3654669523239136,
          0.3744100332260132,
          0.3744712471961975,
          0.3955240845680237,
          0.4000566005706787,
          0.4142129421234131,
          0.5032210946083069,
          0.7035195827484131
         ],
         "xaxis": "x",
         "y": [
          "cafe  ",
          "garden  ",
          "visit  ",
          "promenade  ",
          "playgrounds  ",
          "great  ",
          "playground  ",
          "lovely  ",
          "parking  ",
          "park  "
         ],
         "yaxis": "y"
        },
        {
         "marker": {
          "color": "#0072B2"
         },
         "orientation": "h",
         "type": "bar",
         "x": [
          0.3282160460948944,
          0.3380613327026367,
          0.33865630626678467,
          0.34532296657562256,
          0.3550688624382019,
          0.35849493741989136,
          0.3947521448135376,
          0.5867661833763123,
          0.6748567223548889,
          0.7084034085273743
         ],
         "xaxis": "x2",
         "y": [
          "visiting  ",
          "monuments  ",
          "germany  ",
          "visit  ",
          "reichstag  ",
          "parks  ",
          "park  ",
          "brandenburg  ",
          "berlins  ",
          "berlin  "
         ],
         "yaxis": "y2"
        },
        {
         "marker": {
          "color": "#CC79A7"
         },
         "orientation": "h",
         "type": "bar",
         "x": [
          0.3810765743255615,
          0.3878970742225647,
          0.3912484049797058,
          0.43776804208755493,
          0.4446718096733093,
          0.4536839723587036,
          0.46757960319519043,
          0.47720474004745483,
          0.5777038335800171,
          0.590299129486084
         ],
         "xaxis": "x3",
         "y": [
          "urban  ",
          "beautiful  ",
          "street  ",
          "tourist  ",
          "facility  ",
          "visit  ",
          "places  ",
          "location  ",
          "place  ",
          "picturesque  "
         ],
         "yaxis": "y3"
        },
        {
         "marker": {
          "color": "#E69F00"
         },
         "orientation": "h",
         "type": "bar",
         "x": [
          0.4751489460468292,
          0.47706422209739685,
          0.4853942394256592,
          0.48775002360343933,
          0.5552291870117188,
          0.564429521560669,
          0.5669631958007812,
          0.6279950141906738,
          0.6712997555732727,
          0.7957479357719421
         ],
         "xaxis": "x4",
         "y": [
          "nice  ",
          "quite  ",
          "best  ",
          "fantastic  ",
          "wonderful  ",
          "positively  ",
          "bad  ",
          "great  ",
          "excellent  ",
          "good  "
         ],
         "yaxis": "y4"
        },
        {
         "marker": {
          "color": "#56B4E9"
         },
         "orientation": "h",
         "type": "bar",
         "x": [
          0.42851895093917847,
          0.47141167521476746,
          0.482988566160202,
          0.5036694407463074,
          0.5200821161270142,
          0.5587708353996277,
          0.564639151096344,
          0.6782095432281494,
          0.7366629838943481,
          0.7484018206596375
         ],
         "xaxis": "x5",
         "y": [
          "elevator  ",
          "underground  ",
          "bahn  ",
          "train  ",
          "metro  ",
          "trains  ",
          "railway  ",
          "stations  ",
          "subway  ",
          "station  "
         ],
         "yaxis": "y5"
        },
        {
         "marker": {
          "color": "#009E73"
         },
         "orientation": "h",
         "type": "bar",
         "x": [
          0.3490768074989319,
          0.3580208420753479,
          0.3596111536026001,
          0.36204442381858826,
          0.3897636830806732,
          0.40948963165283203,
          0.44601064920425415,
          0.45279884338378906,
          0.48444855213165283,
          0.4994918704032898
         ],
         "xaxis": "x6",
         "y": [
          "soviets  ",
          "cemetery  ",
          "statue  ",
          "wwii  ",
          "remembrance  ",
          "monuments  ",
          "monument  ",
          "berlin  ",
          "memorials  ",
          "memorial  "
         ],
         "yaxis": "y6"
        },
        {
         "marker": {
          "color": "#F0E442"
         },
         "orientation": "h",
         "type": "bar",
         "x": [
          0.3690272569656372,
          0.36994707584381104,
          0.3726623058319092,
          0.3760074973106384,
          0.3884759247303009,
          0.40141183137893677,
          0.4902649521827698,
          0.5023654699325562,
          0.5331541299819946,
          0.5678184628486633
         ],
         "xaxis": "x7",
         "y": [
          "restaurant  ",
          "bartender  ",
          "bar  ",
          "pub  ",
          "drinks  ",
          "bartenders  ",
          "cocktail  ",
          "cocktails  ",
          "whiskeys  ",
          "whiskey  "
         ],
         "yaxis": "y7"
        },
        {
         "marker": {
          "color": "#D55E00"
         },
         "orientation": "h",
         "type": "bar",
         "x": [
          0.29988646507263184,
          0.3008975088596344,
          0.3074581027030945,
          0.32921233773231506,
          0.38418176770210266,
          0.3856405019760132,
          0.38667604327201843,
          0.39930036664009094,
          0.42720723152160645,
          0.6505146026611328
         ],
         "xaxis": "x8",
         "y": [
          "visit  ",
          "street  ",
          "markets  ",
          "stores  ",
          "place  ",
          "market  ",
          "shop  ",
          "nearby  ",
          "flea  ",
          "fleamarket  "
         ],
         "yaxis": "y8"
        },
        {
         "marker": {
          "color": "#0072B2"
         },
         "orientation": "h",
         "type": "bar",
         "x": [
          0.34054049849510193,
          0.37173402309417725,
          0.3823976218700409,
          0.38578084111213684,
          0.40018516778945923,
          0.40236079692840576,
          0.44084176421165466,
          0.4432819187641144,
          0.49828124046325684,
          0.6188490986824036
         ],
         "xaxis": "x9",
         "y": [
          "chilling  ",
          "pleasant  ",
          "sunset  ",
          "sunny  ",
          "evening  ",
          "relaxation  ",
          "relaxed  ",
          "evenings  ",
          "relaxing  ",
          "summer  "
         ],
         "yaxis": "y9"
        },
        {
         "marker": {
          "color": "#CC79A7"
         },
         "orientation": "h",
         "type": "bar",
         "x": [
          0.3734332025051117,
          0.38370615243911743,
          0.3906596899032593,
          0.43693673610687256,
          0.4669956564903259,
          0.5207176208496094,
          0.527768611907959,
          0.5740295648574829,
          0.6042025685310364,
          0.8844590187072754
         ],
         "xaxis": "x10",
         "y": [
          "fab  ",
          "fam  ",
          "epic  ",
          "mega  ",
          "special  ",
          "suha  ",
          "supe  ",
          "superb  ",
          "superbo  ",
          "super  "
         ],
         "yaxis": "y10"
        },
        {
         "marker": {
          "color": "#E69F00"
         },
         "orientation": "h",
         "type": "bar",
         "x": [
          0.323415070772171,
          0.32923585176467896,
          0.3406616449356079,
          0.3567690849304199,
          0.37356752157211304,
          0.38152122497558594,
          0.3937586545944214,
          0.39551863074302673,
          0.3962823748588562,
          0.4139325022697449
         ],
         "xaxis": "x11",
         "y": [
          "berlins  ",
          "flora  ",
          "rose  ",
          "sculptures  ",
          "statue  ",
          "flower  ",
          "statues  ",
          "roses  ",
          "garden  ",
          "flowers  "
         ],
         "yaxis": "y11"
        },
        {
         "marker": {
          "color": "#56B4E9"
         },
         "orientation": "h",
         "type": "bar",
         "x": [
          0.39392080903053284,
          0.430620938539505,
          0.4345986843109131,
          0.4373456835746765,
          0.4446708559989929,
          0.47126471996307373,
          0.5139275193214417,
          0.5385019779205322,
          0.545416533946991,
          0.629004180431366
         ],
         "xaxis": "x12",
         "y": [
          "museum  ",
          "boat  ",
          "exhibitions  ",
          "exhibits  ",
          "embarkation  ",
          "trip  ",
          "visit  ",
          "tour  ",
          "visiting  ",
          "tours  "
         ],
         "yaxis": "y12"
        },
        {
         "marker": {
          "color": "#009E73"
         },
         "orientation": "h",
         "type": "bar",
         "x": [
          0.30369943380355835,
          0.30844491720199585,
          0.31221258640289307,
          0.32764101028442383,
          0.3400547206401825,
          0.3470296859741211,
          0.3602501153945923,
          0.3610573410987854,
          0.37373828887939453,
          0.37717491388320923
         ],
         "xaxis": "x13",
         "y": [
          "visitarlo  ",
          "que  ",
          "las  ",
          "viento  ",
          "descansar  ",
          "muito  ",
          "rosas  ",
          "es  ",
          "sionante  ",
          "una  "
         ],
         "yaxis": "y13"
        },
        {
         "marker": {
          "color": "#F0E442"
         },
         "orientation": "h",
         "type": "bar",
         "x": [
          0.2314266860485077,
          0.2343970239162445,
          0.24864016473293304,
          0.2598263621330261,
          0.2806333601474762,
          0.3305395543575287,
          0.33221355080604553,
          0.3738628625869751,
          0.3769676387310028,
          0.3861607015132904
         ],
         "xaxis": "x14",
         "y": [
          "facility  ",
          "street  ",
          "words  ",
          "frozen  ",
          "non  ",
          "blank  ",
          "paradox  ",
          "erable  ",
          "wound  ",
          "place  "
         ],
         "yaxis": "y14"
        },
        {
         "marker": {
          "color": "#D55E00"
         },
         "orientation": "h",
         "type": "bar",
         "x": [
          0.5647026300430298,
          0.5647026300430298,
          0.5647026300430298,
          0.5647026300430298,
          0.5647026300430298,
          0.5647026300430298,
          0.6240411996841431,
          0.6995238065719604,
          0.8055309653282166,
          0.8405000567436218
         ],
         "xaxis": "x15",
         "y": [
          "  ",
          "  ",
          "  ",
          "  ",
          "  ",
          "  ",
          "fine  ",
          "alright  ",
          "okay  ",
          "ok  "
         ],
         "yaxis": "y15"
        },
        {
         "marker": {
          "color": "#0072B2"
         },
         "orientation": "h",
         "type": "bar",
         "x": [
          0.4463416635990143,
          0.45488739013671875,
          0.47391629219055176,
          0.4839675724506378,
          0.49923479557037354,
          0.5214887857437134,
          0.5427219867706299,
          0.5969919562339783,
          0.6898381114006042,
          0.7420737147331238
         ],
         "xaxis": "x16",
         "y": [
          "reformation  ",
          "convent  ",
          "lutheran  ",
          "monasteryfascinating  ",
          "protestant  ",
          "monastery  ",
          "pastor  ",
          "cathedral  ",
          "churches  ",
          "church  "
         ],
         "yaxis": "y16"
        },
        {
         "marker": {
          "color": "#CC79A7"
         },
         "orientation": "h",
         "type": "bar",
         "x": [
          0.29598966240882874,
          0.30851930379867554,
          0.3233005404472351,
          0.3395787477493286,
          0.3475096523761749,
          0.3662148714065552,
          0.3787831664085388,
          0.44437217712402344,
          0.4869837760925293,
          0.496171772480011
         ],
         "xaxis": "x17",
         "y": [
          "garage  ",
          "littered  ",
          "cleanliness  ",
          "waste  ",
          "smells  ",
          "smell  ",
          "toilet  ",
          "toilets  ",
          "urine  ",
          "parking  "
         ],
         "yaxis": "y17"
        },
        {
         "marker": {
          "color": "#E69F00"
         },
         "orientation": "h",
         "type": "bar",
         "x": [
          0.2514149248600006,
          0.25791865587234497,
          0.2581174075603485,
          0.26522043347358704,
          0.26921963691711426,
          0.29267618060112,
          0.3127431273460388,
          0.3177345395088196,
          0.3454820215702057,
          0.3458603620529175
         ],
         "xaxis": "x18",
         "y": [
          "relaxation  ",
          "buspunctual  ",
          "place  ",
          "atmosfera  ",
          "meditative  ",
          "stalinism  ",
          "anichkovo  ",
          "ruins  ",
          "altar  ",
          "sculpture  "
         ],
         "yaxis": "y18"
        },
        {
         "marker": {
          "color": "#56B4E9"
         },
         "orientation": "h",
         "type": "bar",
         "x": [
          0.4052432179450989,
          0.415948748588562,
          0.43283066153526306,
          0.45270487666130066,
          0.5031325221061707,
          0.5204043388366699,
          0.5207178592681885,
          0.5376261472702026,
          0.6029412150382996,
          0.6603790521621704
         ],
         "xaxis": "x19",
         "y": [
          "nicely  ",
          "lively  ",
          "silence  ",
          "calmness  ",
          "peaceful  ",
          "quietly  ",
          "loud  ",
          "noisy  ",
          "pleasant  ",
          "quiet  "
         ],
         "yaxis": "y19"
        },
        {
         "marker": {
          "color": "#009E73"
         },
         "orientation": "h",
         "type": "bar",
         "x": [
          0.37184852361679077,
          0.40499749779701233,
          0.41195929050445557,
          0.4201640486717224,
          0.4308595657348633,
          0.46199312806129456,
          0.4897273778915405,
          0.5235165357589722,
          0.6914756894111633,
          0.7925712466239929
         ],
         "xaxis": "x20",
         "y": [
          "road  ",
          "parkfreshly  ",
          "city  ",
          "place  ",
          "urban  ",
          "greenery  ",
          "desert  ",
          "paradise  ",
          "oasisin  ",
          "oasis  "
         ],
         "yaxis": "y20"
        },
        {
         "marker": {
          "color": "#F0E442"
         },
         "orientation": "h",
         "type": "bar",
         "x": [
          0.3605177402496338,
          0.36325469613075256,
          0.36370646953582764,
          0.37092968821525574,
          0.37181800603866577,
          0.38178882002830505,
          0.38355207443237305,
          0.39946550130844116,
          0.40759730339050293,
          0.46747711300849915
         ],
         "xaxis": "x21",
         "y": [
          "przyjemny  ",
          "kurutma  ",
          "zeer  ",
          "birlikte  ",
          "przyjazne  ",
          "nazwane  ",
          "za  ",
          "rozkvetljsou  ",
          "olmakla  ",
          "zahrada  "
         ],
         "yaxis": "y21"
        },
        {
         "marker": {
          "color": "#D55E00"
         },
         "orientation": "h",
         "type": "bar",
         "x": [
          0.29791998863220215,
          0.3112245202064514,
          0.3204807937145233,
          0.33459538221359253,
          0.3717235326766968,
          0.39329782128334045,
          0.4406316876411438,
          0.44296178221702576,
          0.6122375726699829,
          0.6637746095657349
         ],
         "xaxis": "x22",
         "y": [
          "korean  ",
          "dishes  ",
          "meal  ",
          "food  ",
          "rice  ",
          "vietnamese  ",
          "cuisines  ",
          "cuisine  ",
          "thailand  ",
          "thai  "
         ],
         "yaxis": "y22"
        },
        {
         "marker": {
          "color": "#0072B2"
         },
         "orientation": "h",
         "type": "bar",
         "x": [
          0.36945390701293945,
          0.3757712244987488,
          0.45081889629364014,
          0.5110220313072205,
          0.5543224811553955,
          0.5787850022315979,
          0.6722468137741089,
          0.7876023650169373,
          0.8337821364402771,
          0.8455408215522766
         ],
         "xaxis": "x23",
         "y": [
          "quiet  ",
          "hot  ",
          "cooler  ",
          "cold  ",
          "relax  ",
          "chilled  ",
          "chilling  ",
          "chillig  ",
          "chill  ",
          "chillout  "
         ],
         "yaxis": "y23"
        },
        {
         "marker": {
          "color": "#CC79A7"
         },
         "orientation": "h",
         "type": "bar",
         "x": [
          0.32410678267478943,
          0.3244616985321045,
          0.3264303207397461,
          0.3468364179134369,
          0.37082892656326294,
          0.3777799606323242,
          0.4045031666755676,
          0.49096614122390747,
          0.5367304682731628,
          0.6945130825042725
         ],
         "xaxis": "x24",
         "y": [
          "useful  ",
          "wow  ",
          "thank  ",
          "surprised  ",
          "impressive  ",
          "creepy  ",
          "great  ",
          "exciting  ",
          "interestinggood  ",
          "interesting  "
         ],
         "yaxis": "y24"
        },
        {
         "marker": {
          "color": "#E69F00"
         },
         "orientation": "h",
         "type": "bar",
         "x": [
          0.45581626892089844,
          0.46335136890411377,
          0.46618109941482544,
          0.48361608386039734,
          0.50559401512146,
          0.5225765705108643,
          0.5240086317062378,
          0.5540653467178345,
          0.5555278658866882,
          0.6346254348754883
         ],
         "xaxis": "x25",
         "y": [
          "walked  ",
          "biking  ",
          "bicycles  ",
          "pedestrians  ",
          "footpath  ",
          "cycling  ",
          "cyclists  ",
          "route  ",
          "walking  ",
          "walkers  "
         ],
         "yaxis": "y25"
        },
        {
         "marker": {
          "color": "#56B4E9"
         },
         "orientation": "h",
         "type": "bar",
         "x": [
          0.4407144784927368,
          0.45099443197250366,
          0.5625540018081665,
          0.6263600587844849,
          0.6290628910064697,
          0.6469969749450684,
          0.6901580691337585,
          0.6934952735900879,
          0.7051758766174316,
          0.9451428651809692
         ],
         "xaxis": "x26",
         "y": [
          "clear  ",
          "sterile  ",
          "tidy  ",
          "cleaned  ",
          "cleaning  ",
          "filthy  ",
          "clean  ",
          "dirtysunrise  ",
          "dirt  ",
          "dirty  "
         ],
         "yaxis": "y26"
        },
        {
         "marker": {
          "color": "#009E73"
         },
         "orientation": "h",
         "type": "bar",
         "x": [
          0.20823316276073456,
          0.24171167612075806,
          0.2587672472000122,
          0.2644544243812561,
          0.3077864944934845,
          0.31293460726737976,
          0.3511974811553955,
          0.3605610728263855,
          0.36197131872177124,
          0.41773802042007446
         ],
         "xaxis": "x27",
         "y": [
          "na  ",
          "childrens  ",
          "gehrung  ",
          "choralspace  ",
          "festival  ",
          "hilalspor  ",
          "miejsce  ",
          "amina  ",
          "fajne  ",
          "koyim  "
         ],
         "yaxis": "y27"
        },
        {
         "marker": {
          "color": "#F0E442"
         },
         "orientation": "h",
         "type": "bar",
         "x": [
          0.40417248010635376,
          0.4051250219345093,
          0.4085901379585266,
          0.4237001836299896,
          0.4455597400665283,
          0.4488835036754608,
          0.44954952597618103,
          0.5241154432296753,
          0.5625354647636414,
          0.6885521411895752
         ],
         "xaxis": "x28",
         "y": [
          "touristswhy  ",
          "near  ",
          "city  ",
          "visiting  ",
          "tourist  ",
          "neighborhood  ",
          "tourists  ",
          "place  ",
          "overcrowded  ",
          "crowded  "
         ],
         "yaxis": "y28"
        },
        {
         "marker": {
          "color": "#D55E00"
         },
         "orientation": "h",
         "type": "bar",
         "x": [
          0.32642048597335815,
          0.3891645669937134,
          0.4272443652153015,
          0.4488430321216583,
          0.4562535583972931,
          0.5463852286338806,
          0.5612744092941284,
          0.6465355157852173,
          0.6694917678833008,
          0.7044131755828857
         ],
         "xaxis": "x29",
         "y": [
          "shop  ",
          "literaturemostly  ",
          "reading  ",
          "recommendation  ",
          "recommendations  ",
          "book  ",
          "booksellers  ",
          "books  ",
          "bookshop  ",
          "bookstore  "
         ],
         "yaxis": "y29"
        },
        {
         "marker": {
          "color": "#0072B2"
         },
         "orientation": "h",
         "type": "bar",
         "x": [
          0.2543641924858093,
          0.2564901113510132,
          0.25695762038230896,
          0.25734418630599976,
          0.2587890028953552,
          0.27457278966903687,
          0.27580511569976807,
          0.31867504119873047,
          0.3681570291519165,
          0.5905275940895081
         ],
         "xaxis": "x30",
         "y": [
          "wildlife  ",
          "heron  ",
          "picnic  ",
          "park  ",
          "touristically  ",
          "amenities  ",
          "pond  ",
          "walkways  ",
          "ponds  ",
          "tiergarten  "
         ],
         "yaxis": "y30"
        },
        {
         "marker": {
          "color": "#CC79A7"
         },
         "orientation": "h",
         "type": "bar",
         "x": [
          0.23763032257556915,
          0.2481357455253601,
          0.2590552568435669,
          0.2766600251197815,
          0.2946748733520508,
          0.2952548861503601,
          0.3985406756401062,
          0.4507182240486145,
          0.6320940852165222,
          0.6569793224334717
         ],
         "xaxis": "x31",
         "y": [
          "indoor  ",
          "facilities  ",
          "clean  ",
          "laps  ",
          "showers  ",
          "crowded  ",
          "swim  ",
          "swimming  ",
          "pools  ",
          "pool  "
         ],
         "yaxis": "y31"
        },
        {
         "marker": {
          "color": "#E69F00"
         },
         "orientation": "h",
         "type": "bar",
         "x": [
          0.3061698377132416,
          0.3111269176006317,
          0.33276960253715515,
          0.33418184518814087,
          0.35595768690109253,
          0.3833889067173004,
          0.39484283328056335,
          0.4424968361854553,
          0.49903440475463867,
          0.5438812971115112
         ],
         "xaxis": "x32",
         "y": [
          "historical  ",
          "located  ",
          "station  ",
          "grounds  ",
          "buildings  ",
          "historic  ",
          "buried  ",
          "cemetery  ",
          "prisoners  ",
          "prison  "
         ],
         "yaxis": "y32"
        },
        {
         "marker": {
          "color": "#56B4E9"
         },
         "orientation": "h",
         "type": "bar",
         "x": [
          0.27665936946868896,
          0.3084198832511902,
          0.31069543957710266,
          0.3232799768447876,
          0.32828637957572937,
          0.3418352007865906,
          0.37307602167129517,
          0.40261387825012207,
          0.6292100548744202,
          0.6604419946670532
         ],
         "xaxis": "x33",
         "y": [
          "pub  ",
          "neighborhood  ",
          "apartment  ",
          "concert  ",
          "concerts  ",
          "berlin  ",
          "place  ",
          "venue  ",
          "bowies  ",
          "bowie  "
         ],
         "yaxis": "y33"
        },
        {
         "marker": {
          "color": "#009E73"
         },
         "orientation": "h",
         "type": "bar",
         "x": [
          0.307625412940979,
          0.3240776062011719,
          0.3258996903896332,
          0.4155554175376892,
          0.46143639087677,
          0.5252023935317993,
          0.5303861498832703,
          0.5718309879302979,
          0.7304682731628418,
          0.7907787561416626
         ],
         "xaxis": "x34",
         "y": [
          "quiet  ",
          "cute  ",
          "great  ",
          "wide  ",
          "spacious  ",
          "big  ",
          "huge  ",
          "little  ",
          "tiny  ",
          "small  "
         ],
         "yaxis": "y34"
        },
        {
         "marker": {
          "color": "#F0E442"
         },
         "orientation": "h",
         "type": "bar",
         "x": [
          0.10046695172786713,
          0.12334437668323517,
          0.13699749112129211,
          0.1382714807987213,
          0.15120463073253632,
          0.15657025575637817,
          0.20468591153621674,
          0.22345152497291565,
          0.22957931458950043,
          0.2326141893863678
         ],
         "xaxis": "x35",
         "y": [
          "  ",
          "218federal  ",
          "schultescharlotte  ",
          "frank198219981991volume  ",
          "chillida  ",
          "rossman  ",
          "machineeduardo  ",
          "building1  ",
          "federalreichstag  ",
          "des  "
         ],
         "yaxis": "y35"
        },
        {
         "marker": {
          "color": "#D55E00"
         },
         "orientation": "h",
         "type": "bar",
         "x": [
          0.289025217294693,
          0.2969619035720825,
          0.3053770661354065,
          0.31248313188552856,
          0.3489687740802765,
          0.42789506912231445,
          0.4384400248527527,
          0.45905470848083496,
          0.5018028020858765,
          0.5085312724113464
         ],
         "xaxis": "x36",
         "y": [
          "730am  ",
          "11am  ",
          "4pm  ",
          "8am  ",
          "5pm  ",
          "closed  ",
          "open  ",
          "opened  ",
          "opening  ",
          "reopen  "
         ],
         "yaxis": "y36"
        },
        {
         "marker": {
          "color": "#0072B2"
         },
         "orientation": "h",
         "type": "bar",
         "x": [
          0.2610274851322174,
          0.27235281467437744,
          0.29636281728744507,
          0.3652151823043823,
          0.4254150986671448,
          0.44769179821014404,
          0.4499143362045288,
          0.45412030816078186,
          0.5318151712417603,
          0.581466794013977
         ],
         "xaxis": "x37",
         "y": [
          "grass  ",
          "sit  ",
          "trash  ",
          "dirt  ",
          "park  ",
          "cleaner  ",
          "cleanest  ",
          "clean  ",
          "cleanliness  ",
          "benches  "
         ],
         "yaxis": "y37"
        },
        {
         "marker": {
          "color": "#CC79A7"
         },
         "orientation": "h",
         "type": "bar",
         "x": [
          0.1973164826631546,
          0.1995476633310318,
          0.21648111939430237,
          0.2165949046611786,
          0.28721264004707336,
          0.30238938331604004,
          0.31266525387763977,
          0.4335384666919708,
          0.47957709431648254,
          0.5215163230895996
         ],
         "xaxis": "x38",
         "y": [
          "great  ",
          "mitte  ",
          "good  ",
          "natural  ",
          "small  ",
          "little  ",
          "suitable  ",
          "kiddies  ",
          "kids  ",
          "children  "
         ],
         "yaxis": "y38"
        },
        {
         "marker": {
          "color": "#E69F00"
         },
         "orientation": "h",
         "type": "bar",
         "x": [
          0.2650391459465027,
          0.2981211841106415,
          0.3098795413970947,
          0.31258755922317505,
          0.3466167151927948,
          0.35416558384895325,
          0.37817105650901794,
          0.4227449595928192,
          0.49229031801223755,
          0.504787266254425
         ],
         "xaxis": "x39",
         "y": [
          "nicotine  ",
          "cbd  ",
          "shop  ",
          "police  ",
          "insecure  ",
          "heroin  ",
          "drug  ",
          "drugsellers  ",
          "dealers  ",
          "cocaine  "
         ],
         "yaxis": "y39"
        },
        {
         "marker": {
          "color": "#56B4E9"
         },
         "orientation": "h",
         "type": "bar",
         "x": [
          0.22075723111629486,
          0.22762422263622284,
          0.23370200395584106,
          0.26509901881217957,
          0.30594801902770996,
          0.3070778250694275,
          0.3522619605064392,
          0.3855981230735779,
          0.4335745573043823,
          0.5112239718437195
         ],
         "xaxis": "x40",
         "y": [
          "feature  ",
          "deepest  ",
          "little  ",
          "like  ",
          "nice  ",
          "cloudy  ",
          "beautiful  ",
          "sea  ",
          "piece  ",
          "water  "
         ],
         "yaxis": "y40"
        }
       ],
       "layout": {
        "annotations": [
         {
          "font": {
           "size": 16
          },
          "showarrow": false,
          "text": "Topic 0",
          "x": 0.0875,
          "xanchor": "center",
          "xref": "paper",
          "y": 1,
          "yanchor": "bottom",
          "yref": "paper"
         },
         {
          "font": {
           "size": 16
          },
          "showarrow": false,
          "text": "Topic 1",
          "x": 0.36250000000000004,
          "xanchor": "center",
          "xref": "paper",
          "y": 1,
          "yanchor": "bottom",
          "yref": "paper"
         },
         {
          "font": {
           "size": 16
          },
          "showarrow": false,
          "text": "Topic 2",
          "x": 0.6375000000000001,
          "xanchor": "center",
          "xref": "paper",
          "y": 1,
          "yanchor": "bottom",
          "yref": "paper"
         },
         {
          "font": {
           "size": 16
          },
          "showarrow": false,
          "text": "Topic 3",
          "x": 0.9125,
          "xanchor": "center",
          "xref": "paper",
          "y": 1,
          "yanchor": "bottom",
          "yref": "paper"
         },
         {
          "font": {
           "size": 16
          },
          "showarrow": false,
          "text": "Topic 4",
          "x": 0.0875,
          "xanchor": "center",
          "xref": "paper",
          "y": 0.8960000000000001,
          "yanchor": "bottom",
          "yref": "paper"
         },
         {
          "font": {
           "size": 16
          },
          "showarrow": false,
          "text": "Topic 5",
          "x": 0.36250000000000004,
          "xanchor": "center",
          "xref": "paper",
          "y": 0.8960000000000001,
          "yanchor": "bottom",
          "yref": "paper"
         },
         {
          "font": {
           "size": 16
          },
          "showarrow": false,
          "text": "Topic 6",
          "x": 0.6375000000000001,
          "xanchor": "center",
          "xref": "paper",
          "y": 0.8960000000000001,
          "yanchor": "bottom",
          "yref": "paper"
         },
         {
          "font": {
           "size": 16
          },
          "showarrow": false,
          "text": "Topic 7",
          "x": 0.9125,
          "xanchor": "center",
          "xref": "paper",
          "y": 0.8960000000000001,
          "yanchor": "bottom",
          "yref": "paper"
         },
         {
          "font": {
           "size": 16
          },
          "showarrow": false,
          "text": "Topic 8",
          "x": 0.0875,
          "xanchor": "center",
          "xref": "paper",
          "y": 0.792,
          "yanchor": "bottom",
          "yref": "paper"
         },
         {
          "font": {
           "size": 16
          },
          "showarrow": false,
          "text": "Topic 9",
          "x": 0.36250000000000004,
          "xanchor": "center",
          "xref": "paper",
          "y": 0.792,
          "yanchor": "bottom",
          "yref": "paper"
         },
         {
          "font": {
           "size": 16
          },
          "showarrow": false,
          "text": "Topic 10",
          "x": 0.6375000000000001,
          "xanchor": "center",
          "xref": "paper",
          "y": 0.792,
          "yanchor": "bottom",
          "yref": "paper"
         },
         {
          "font": {
           "size": 16
          },
          "showarrow": false,
          "text": "Topic 11",
          "x": 0.9125,
          "xanchor": "center",
          "xref": "paper",
          "y": 0.792,
          "yanchor": "bottom",
          "yref": "paper"
         },
         {
          "font": {
           "size": 16
          },
          "showarrow": false,
          "text": "Topic 12",
          "x": 0.0875,
          "xanchor": "center",
          "xref": "paper",
          "y": 0.688,
          "yanchor": "bottom",
          "yref": "paper"
         },
         {
          "font": {
           "size": 16
          },
          "showarrow": false,
          "text": "Topic 13",
          "x": 0.36250000000000004,
          "xanchor": "center",
          "xref": "paper",
          "y": 0.688,
          "yanchor": "bottom",
          "yref": "paper"
         },
         {
          "font": {
           "size": 16
          },
          "showarrow": false,
          "text": "Topic 14",
          "x": 0.6375000000000001,
          "xanchor": "center",
          "xref": "paper",
          "y": 0.688,
          "yanchor": "bottom",
          "yref": "paper"
         },
         {
          "font": {
           "size": 16
          },
          "showarrow": false,
          "text": "Topic 15",
          "x": 0.9125,
          "xanchor": "center",
          "xref": "paper",
          "y": 0.688,
          "yanchor": "bottom",
          "yref": "paper"
         },
         {
          "font": {
           "size": 16
          },
          "showarrow": false,
          "text": "Topic 16",
          "x": 0.0875,
          "xanchor": "center",
          "xref": "paper",
          "y": 0.5840000000000001,
          "yanchor": "bottom",
          "yref": "paper"
         },
         {
          "font": {
           "size": 16
          },
          "showarrow": false,
          "text": "Topic 17",
          "x": 0.36250000000000004,
          "xanchor": "center",
          "xref": "paper",
          "y": 0.5840000000000001,
          "yanchor": "bottom",
          "yref": "paper"
         },
         {
          "font": {
           "size": 16
          },
          "showarrow": false,
          "text": "Topic 18",
          "x": 0.6375000000000001,
          "xanchor": "center",
          "xref": "paper",
          "y": 0.5840000000000001,
          "yanchor": "bottom",
          "yref": "paper"
         },
         {
          "font": {
           "size": 16
          },
          "showarrow": false,
          "text": "Topic 19",
          "x": 0.9125,
          "xanchor": "center",
          "xref": "paper",
          "y": 0.5840000000000001,
          "yanchor": "bottom",
          "yref": "paper"
         },
         {
          "font": {
           "size": 16
          },
          "showarrow": false,
          "text": "Topic 20",
          "x": 0.0875,
          "xanchor": "center",
          "xref": "paper",
          "y": 0.48000000000000004,
          "yanchor": "bottom",
          "yref": "paper"
         },
         {
          "font": {
           "size": 16
          },
          "showarrow": false,
          "text": "Topic 21",
          "x": 0.36250000000000004,
          "xanchor": "center",
          "xref": "paper",
          "y": 0.48000000000000004,
          "yanchor": "bottom",
          "yref": "paper"
         },
         {
          "font": {
           "size": 16
          },
          "showarrow": false,
          "text": "Topic 22",
          "x": 0.6375000000000001,
          "xanchor": "center",
          "xref": "paper",
          "y": 0.48000000000000004,
          "yanchor": "bottom",
          "yref": "paper"
         },
         {
          "font": {
           "size": 16
          },
          "showarrow": false,
          "text": "Topic 23",
          "x": 0.9125,
          "xanchor": "center",
          "xref": "paper",
          "y": 0.48000000000000004,
          "yanchor": "bottom",
          "yref": "paper"
         },
         {
          "font": {
           "size": 16
          },
          "showarrow": false,
          "text": "Topic 24",
          "x": 0.0875,
          "xanchor": "center",
          "xref": "paper",
          "y": 0.376,
          "yanchor": "bottom",
          "yref": "paper"
         },
         {
          "font": {
           "size": 16
          },
          "showarrow": false,
          "text": "Topic 25",
          "x": 0.36250000000000004,
          "xanchor": "center",
          "xref": "paper",
          "y": 0.376,
          "yanchor": "bottom",
          "yref": "paper"
         },
         {
          "font": {
           "size": 16
          },
          "showarrow": false,
          "text": "Topic 26",
          "x": 0.6375000000000001,
          "xanchor": "center",
          "xref": "paper",
          "y": 0.376,
          "yanchor": "bottom",
          "yref": "paper"
         },
         {
          "font": {
           "size": 16
          },
          "showarrow": false,
          "text": "Topic 27",
          "x": 0.9125,
          "xanchor": "center",
          "xref": "paper",
          "y": 0.376,
          "yanchor": "bottom",
          "yref": "paper"
         },
         {
          "font": {
           "size": 16
          },
          "showarrow": false,
          "text": "Topic 28",
          "x": 0.0875,
          "xanchor": "center",
          "xref": "paper",
          "y": 0.272,
          "yanchor": "bottom",
          "yref": "paper"
         },
         {
          "font": {
           "size": 16
          },
          "showarrow": false,
          "text": "Topic 29",
          "x": 0.36250000000000004,
          "xanchor": "center",
          "xref": "paper",
          "y": 0.272,
          "yanchor": "bottom",
          "yref": "paper"
         },
         {
          "font": {
           "size": 16
          },
          "showarrow": false,
          "text": "Topic 30",
          "x": 0.6375000000000001,
          "xanchor": "center",
          "xref": "paper",
          "y": 0.272,
          "yanchor": "bottom",
          "yref": "paper"
         },
         {
          "font": {
           "size": 16
          },
          "showarrow": false,
          "text": "Topic 31",
          "x": 0.9125,
          "xanchor": "center",
          "xref": "paper",
          "y": 0.272,
          "yanchor": "bottom",
          "yref": "paper"
         },
         {
          "font": {
           "size": 16
          },
          "showarrow": false,
          "text": "Topic 32",
          "x": 0.0875,
          "xanchor": "center",
          "xref": "paper",
          "y": 0.168,
          "yanchor": "bottom",
          "yref": "paper"
         },
         {
          "font": {
           "size": 16
          },
          "showarrow": false,
          "text": "Topic 33",
          "x": 0.36250000000000004,
          "xanchor": "center",
          "xref": "paper",
          "y": 0.168,
          "yanchor": "bottom",
          "yref": "paper"
         },
         {
          "font": {
           "size": 16
          },
          "showarrow": false,
          "text": "Topic 34",
          "x": 0.6375000000000001,
          "xanchor": "center",
          "xref": "paper",
          "y": 0.168,
          "yanchor": "bottom",
          "yref": "paper"
         },
         {
          "font": {
           "size": 16
          },
          "showarrow": false,
          "text": "Topic 35",
          "x": 0.9125,
          "xanchor": "center",
          "xref": "paper",
          "y": 0.168,
          "yanchor": "bottom",
          "yref": "paper"
         },
         {
          "font": {
           "size": 16
          },
          "showarrow": false,
          "text": "Topic 36",
          "x": 0.0875,
          "xanchor": "center",
          "xref": "paper",
          "y": 0.064,
          "yanchor": "bottom",
          "yref": "paper"
         },
         {
          "font": {
           "size": 16
          },
          "showarrow": false,
          "text": "Topic 37",
          "x": 0.36250000000000004,
          "xanchor": "center",
          "xref": "paper",
          "y": 0.064,
          "yanchor": "bottom",
          "yref": "paper"
         },
         {
          "font": {
           "size": 16
          },
          "showarrow": false,
          "text": "Topic 38",
          "x": 0.6375000000000001,
          "xanchor": "center",
          "xref": "paper",
          "y": 0.064,
          "yanchor": "bottom",
          "yref": "paper"
         },
         {
          "font": {
           "size": 16
          },
          "showarrow": false,
          "text": "Topic 39",
          "x": 0.9125,
          "xanchor": "center",
          "xref": "paper",
          "y": 0.064,
          "yanchor": "bottom",
          "yref": "paper"
         }
        ],
        "height": 2500,
        "hoverlabel": {
         "bgcolor": "white",
         "font": {
          "family": "Rockwell",
          "size": 16
         }
        },
        "showlegend": false,
        "template": {
         "data": {
          "bar": [
           {
            "error_x": {
             "color": "#2a3f5f"
            },
            "error_y": {
             "color": "#2a3f5f"
            },
            "marker": {
             "line": {
              "color": "white",
              "width": 0.5
             },
             "pattern": {
              "fillmode": "overlay",
              "size": 10,
              "solidity": 0.2
             }
            },
            "type": "bar"
           }
          ],
          "barpolar": [
           {
            "marker": {
             "line": {
              "color": "white",
              "width": 0.5
             },
             "pattern": {
              "fillmode": "overlay",
              "size": 10,
              "solidity": 0.2
             }
            },
            "type": "barpolar"
           }
          ],
          "carpet": [
           {
            "aaxis": {
             "endlinecolor": "#2a3f5f",
             "gridcolor": "#C8D4E3",
             "linecolor": "#C8D4E3",
             "minorgridcolor": "#C8D4E3",
             "startlinecolor": "#2a3f5f"
            },
            "baxis": {
             "endlinecolor": "#2a3f5f",
             "gridcolor": "#C8D4E3",
             "linecolor": "#C8D4E3",
             "minorgridcolor": "#C8D4E3",
             "startlinecolor": "#2a3f5f"
            },
            "type": "carpet"
           }
          ],
          "choropleth": [
           {
            "colorbar": {
             "outlinewidth": 0,
             "ticks": ""
            },
            "type": "choropleth"
           }
          ],
          "contour": [
           {
            "colorbar": {
             "outlinewidth": 0,
             "ticks": ""
            },
            "colorscale": [
             [
              0,
              "#0d0887"
             ],
             [
              0.1111111111111111,
              "#46039f"
             ],
             [
              0.2222222222222222,
              "#7201a8"
             ],
             [
              0.3333333333333333,
              "#9c179e"
             ],
             [
              0.4444444444444444,
              "#bd3786"
             ],
             [
              0.5555555555555556,
              "#d8576b"
             ],
             [
              0.6666666666666666,
              "#ed7953"
             ],
             [
              0.7777777777777778,
              "#fb9f3a"
             ],
             [
              0.8888888888888888,
              "#fdca26"
             ],
             [
              1,
              "#f0f921"
             ]
            ],
            "type": "contour"
           }
          ],
          "contourcarpet": [
           {
            "colorbar": {
             "outlinewidth": 0,
             "ticks": ""
            },
            "type": "contourcarpet"
           }
          ],
          "heatmap": [
           {
            "colorbar": {
             "outlinewidth": 0,
             "ticks": ""
            },
            "colorscale": [
             [
              0,
              "#0d0887"
             ],
             [
              0.1111111111111111,
              "#46039f"
             ],
             [
              0.2222222222222222,
              "#7201a8"
             ],
             [
              0.3333333333333333,
              "#9c179e"
             ],
             [
              0.4444444444444444,
              "#bd3786"
             ],
             [
              0.5555555555555556,
              "#d8576b"
             ],
             [
              0.6666666666666666,
              "#ed7953"
             ],
             [
              0.7777777777777778,
              "#fb9f3a"
             ],
             [
              0.8888888888888888,
              "#fdca26"
             ],
             [
              1,
              "#f0f921"
             ]
            ],
            "type": "heatmap"
           }
          ],
          "heatmapgl": [
           {
            "colorbar": {
             "outlinewidth": 0,
             "ticks": ""
            },
            "colorscale": [
             [
              0,
              "#0d0887"
             ],
             [
              0.1111111111111111,
              "#46039f"
             ],
             [
              0.2222222222222222,
              "#7201a8"
             ],
             [
              0.3333333333333333,
              "#9c179e"
             ],
             [
              0.4444444444444444,
              "#bd3786"
             ],
             [
              0.5555555555555556,
              "#d8576b"
             ],
             [
              0.6666666666666666,
              "#ed7953"
             ],
             [
              0.7777777777777778,
              "#fb9f3a"
             ],
             [
              0.8888888888888888,
              "#fdca26"
             ],
             [
              1,
              "#f0f921"
             ]
            ],
            "type": "heatmapgl"
           }
          ],
          "histogram": [
           {
            "marker": {
             "pattern": {
              "fillmode": "overlay",
              "size": 10,
              "solidity": 0.2
             }
            },
            "type": "histogram"
           }
          ],
          "histogram2d": [
           {
            "colorbar": {
             "outlinewidth": 0,
             "ticks": ""
            },
            "colorscale": [
             [
              0,
              "#0d0887"
             ],
             [
              0.1111111111111111,
              "#46039f"
             ],
             [
              0.2222222222222222,
              "#7201a8"
             ],
             [
              0.3333333333333333,
              "#9c179e"
             ],
             [
              0.4444444444444444,
              "#bd3786"
             ],
             [
              0.5555555555555556,
              "#d8576b"
             ],
             [
              0.6666666666666666,
              "#ed7953"
             ],
             [
              0.7777777777777778,
              "#fb9f3a"
             ],
             [
              0.8888888888888888,
              "#fdca26"
             ],
             [
              1,
              "#f0f921"
             ]
            ],
            "type": "histogram2d"
           }
          ],
          "histogram2dcontour": [
           {
            "colorbar": {
             "outlinewidth": 0,
             "ticks": ""
            },
            "colorscale": [
             [
              0,
              "#0d0887"
             ],
             [
              0.1111111111111111,
              "#46039f"
             ],
             [
              0.2222222222222222,
              "#7201a8"
             ],
             [
              0.3333333333333333,
              "#9c179e"
             ],
             [
              0.4444444444444444,
              "#bd3786"
             ],
             [
              0.5555555555555556,
              "#d8576b"
             ],
             [
              0.6666666666666666,
              "#ed7953"
             ],
             [
              0.7777777777777778,
              "#fb9f3a"
             ],
             [
              0.8888888888888888,
              "#fdca26"
             ],
             [
              1,
              "#f0f921"
             ]
            ],
            "type": "histogram2dcontour"
           }
          ],
          "mesh3d": [
           {
            "colorbar": {
             "outlinewidth": 0,
             "ticks": ""
            },
            "type": "mesh3d"
           }
          ],
          "parcoords": [
           {
            "line": {
             "colorbar": {
              "outlinewidth": 0,
              "ticks": ""
             }
            },
            "type": "parcoords"
           }
          ],
          "pie": [
           {
            "automargin": true,
            "type": "pie"
           }
          ],
          "scatter": [
           {
            "fillpattern": {
             "fillmode": "overlay",
             "size": 10,
             "solidity": 0.2
            },
            "type": "scatter"
           }
          ],
          "scatter3d": [
           {
            "line": {
             "colorbar": {
              "outlinewidth": 0,
              "ticks": ""
             }
            },
            "marker": {
             "colorbar": {
              "outlinewidth": 0,
              "ticks": ""
             }
            },
            "type": "scatter3d"
           }
          ],
          "scattercarpet": [
           {
            "marker": {
             "colorbar": {
              "outlinewidth": 0,
              "ticks": ""
             }
            },
            "type": "scattercarpet"
           }
          ],
          "scattergeo": [
           {
            "marker": {
             "colorbar": {
              "outlinewidth": 0,
              "ticks": ""
             }
            },
            "type": "scattergeo"
           }
          ],
          "scattergl": [
           {
            "marker": {
             "colorbar": {
              "outlinewidth": 0,
              "ticks": ""
             }
            },
            "type": "scattergl"
           }
          ],
          "scattermapbox": [
           {
            "marker": {
             "colorbar": {
              "outlinewidth": 0,
              "ticks": ""
             }
            },
            "type": "scattermapbox"
           }
          ],
          "scatterpolar": [
           {
            "marker": {
             "colorbar": {
              "outlinewidth": 0,
              "ticks": ""
             }
            },
            "type": "scatterpolar"
           }
          ],
          "scatterpolargl": [
           {
            "marker": {
             "colorbar": {
              "outlinewidth": 0,
              "ticks": ""
             }
            },
            "type": "scatterpolargl"
           }
          ],
          "scatterternary": [
           {
            "marker": {
             "colorbar": {
              "outlinewidth": 0,
              "ticks": ""
             }
            },
            "type": "scatterternary"
           }
          ],
          "surface": [
           {
            "colorbar": {
             "outlinewidth": 0,
             "ticks": ""
            },
            "colorscale": [
             [
              0,
              "#0d0887"
             ],
             [
              0.1111111111111111,
              "#46039f"
             ],
             [
              0.2222222222222222,
              "#7201a8"
             ],
             [
              0.3333333333333333,
              "#9c179e"
             ],
             [
              0.4444444444444444,
              "#bd3786"
             ],
             [
              0.5555555555555556,
              "#d8576b"
             ],
             [
              0.6666666666666666,
              "#ed7953"
             ],
             [
              0.7777777777777778,
              "#fb9f3a"
             ],
             [
              0.8888888888888888,
              "#fdca26"
             ],
             [
              1,
              "#f0f921"
             ]
            ],
            "type": "surface"
           }
          ],
          "table": [
           {
            "cells": {
             "fill": {
              "color": "#EBF0F8"
             },
             "line": {
              "color": "white"
             }
            },
            "header": {
             "fill": {
              "color": "#C8D4E3"
             },
             "line": {
              "color": "white"
             }
            },
            "type": "table"
           }
          ]
         },
         "layout": {
          "annotationdefaults": {
           "arrowcolor": "#2a3f5f",
           "arrowhead": 0,
           "arrowwidth": 1
          },
          "autotypenumbers": "strict",
          "coloraxis": {
           "colorbar": {
            "outlinewidth": 0,
            "ticks": ""
           }
          },
          "colorscale": {
           "diverging": [
            [
             0,
             "#8e0152"
            ],
            [
             0.1,
             "#c51b7d"
            ],
            [
             0.2,
             "#de77ae"
            ],
            [
             0.3,
             "#f1b6da"
            ],
            [
             0.4,
             "#fde0ef"
            ],
            [
             0.5,
             "#f7f7f7"
            ],
            [
             0.6,
             "#e6f5d0"
            ],
            [
             0.7,
             "#b8e186"
            ],
            [
             0.8,
             "#7fbc41"
            ],
            [
             0.9,
             "#4d9221"
            ],
            [
             1,
             "#276419"
            ]
           ],
           "sequential": [
            [
             0,
             "#0d0887"
            ],
            [
             0.1111111111111111,
             "#46039f"
            ],
            [
             0.2222222222222222,
             "#7201a8"
            ],
            [
             0.3333333333333333,
             "#9c179e"
            ],
            [
             0.4444444444444444,
             "#bd3786"
            ],
            [
             0.5555555555555556,
             "#d8576b"
            ],
            [
             0.6666666666666666,
             "#ed7953"
            ],
            [
             0.7777777777777778,
             "#fb9f3a"
            ],
            [
             0.8888888888888888,
             "#fdca26"
            ],
            [
             1,
             "#f0f921"
            ]
           ],
           "sequentialminus": [
            [
             0,
             "#0d0887"
            ],
            [
             0.1111111111111111,
             "#46039f"
            ],
            [
             0.2222222222222222,
             "#7201a8"
            ],
            [
             0.3333333333333333,
             "#9c179e"
            ],
            [
             0.4444444444444444,
             "#bd3786"
            ],
            [
             0.5555555555555556,
             "#d8576b"
            ],
            [
             0.6666666666666666,
             "#ed7953"
            ],
            [
             0.7777777777777778,
             "#fb9f3a"
            ],
            [
             0.8888888888888888,
             "#fdca26"
            ],
            [
             1,
             "#f0f921"
            ]
           ]
          },
          "colorway": [
           "#636efa",
           "#EF553B",
           "#00cc96",
           "#ab63fa",
           "#FFA15A",
           "#19d3f3",
           "#FF6692",
           "#B6E880",
           "#FF97FF",
           "#FECB52"
          ],
          "font": {
           "color": "#2a3f5f"
          },
          "geo": {
           "bgcolor": "white",
           "lakecolor": "white",
           "landcolor": "white",
           "showlakes": true,
           "showland": true,
           "subunitcolor": "#C8D4E3"
          },
          "hoverlabel": {
           "align": "left"
          },
          "hovermode": "closest",
          "mapbox": {
           "style": "light"
          },
          "paper_bgcolor": "white",
          "plot_bgcolor": "white",
          "polar": {
           "angularaxis": {
            "gridcolor": "#EBF0F8",
            "linecolor": "#EBF0F8",
            "ticks": ""
           },
           "bgcolor": "white",
           "radialaxis": {
            "gridcolor": "#EBF0F8",
            "linecolor": "#EBF0F8",
            "ticks": ""
           }
          },
          "scene": {
           "xaxis": {
            "backgroundcolor": "white",
            "gridcolor": "#DFE8F3",
            "gridwidth": 2,
            "linecolor": "#EBF0F8",
            "showbackground": true,
            "ticks": "",
            "zerolinecolor": "#EBF0F8"
           },
           "yaxis": {
            "backgroundcolor": "white",
            "gridcolor": "#DFE8F3",
            "gridwidth": 2,
            "linecolor": "#EBF0F8",
            "showbackground": true,
            "ticks": "",
            "zerolinecolor": "#EBF0F8"
           },
           "zaxis": {
            "backgroundcolor": "white",
            "gridcolor": "#DFE8F3",
            "gridwidth": 2,
            "linecolor": "#EBF0F8",
            "showbackground": true,
            "ticks": "",
            "zerolinecolor": "#EBF0F8"
           }
          },
          "shapedefaults": {
           "line": {
            "color": "#2a3f5f"
           }
          },
          "ternary": {
           "aaxis": {
            "gridcolor": "#DFE8F3",
            "linecolor": "#A2B1C6",
            "ticks": ""
           },
           "baxis": {
            "gridcolor": "#DFE8F3",
            "linecolor": "#A2B1C6",
            "ticks": ""
           },
           "bgcolor": "white",
           "caxis": {
            "gridcolor": "#DFE8F3",
            "linecolor": "#A2B1C6",
            "ticks": ""
           }
          },
          "title": {
           "x": 0.05
          },
          "xaxis": {
           "automargin": true,
           "gridcolor": "#EBF0F8",
           "linecolor": "#EBF0F8",
           "ticks": "",
           "title": {
            "standoff": 15
           },
           "zerolinecolor": "#EBF0F8",
           "zerolinewidth": 2
          },
          "yaxis": {
           "automargin": true,
           "gridcolor": "#EBF0F8",
           "linecolor": "#EBF0F8",
           "ticks": "",
           "title": {
            "standoff": 15
           },
           "zerolinecolor": "#EBF0F8",
           "zerolinewidth": 2
          }
         }
        },
        "title": {
         "font": {
          "color": "Black",
          "size": 22
         },
         "text": "Topic Word Scores",
         "x": 0.5,
         "xanchor": "center",
         "yanchor": "top"
        },
        "width": 1000,
        "xaxis": {
         "anchor": "y",
         "domain": [
          0,
          0.175
         ],
         "showgrid": true
        },
        "xaxis10": {
         "anchor": "y10",
         "domain": [
          0.275,
          0.45
         ],
         "showgrid": true
        },
        "xaxis11": {
         "anchor": "y11",
         "domain": [
          0.55,
          0.7250000000000001
         ],
         "showgrid": true
        },
        "xaxis12": {
         "anchor": "y12",
         "domain": [
          0.825,
          1
         ],
         "showgrid": true
        },
        "xaxis13": {
         "anchor": "y13",
         "domain": [
          0,
          0.175
         ],
         "showgrid": true
        },
        "xaxis14": {
         "anchor": "y14",
         "domain": [
          0.275,
          0.45
         ],
         "showgrid": true
        },
        "xaxis15": {
         "anchor": "y15",
         "domain": [
          0.55,
          0.7250000000000001
         ],
         "showgrid": true
        },
        "xaxis16": {
         "anchor": "y16",
         "domain": [
          0.825,
          1
         ],
         "showgrid": true
        },
        "xaxis17": {
         "anchor": "y17",
         "domain": [
          0,
          0.175
         ],
         "showgrid": true
        },
        "xaxis18": {
         "anchor": "y18",
         "domain": [
          0.275,
          0.45
         ],
         "showgrid": true
        },
        "xaxis19": {
         "anchor": "y19",
         "domain": [
          0.55,
          0.7250000000000001
         ],
         "showgrid": true
        },
        "xaxis2": {
         "anchor": "y2",
         "domain": [
          0.275,
          0.45
         ],
         "showgrid": true
        },
        "xaxis20": {
         "anchor": "y20",
         "domain": [
          0.825,
          1
         ],
         "showgrid": true
        },
        "xaxis21": {
         "anchor": "y21",
         "domain": [
          0,
          0.175
         ],
         "showgrid": true
        },
        "xaxis22": {
         "anchor": "y22",
         "domain": [
          0.275,
          0.45
         ],
         "showgrid": true
        },
        "xaxis23": {
         "anchor": "y23",
         "domain": [
          0.55,
          0.7250000000000001
         ],
         "showgrid": true
        },
        "xaxis24": {
         "anchor": "y24",
         "domain": [
          0.825,
          1
         ],
         "showgrid": true
        },
        "xaxis25": {
         "anchor": "y25",
         "domain": [
          0,
          0.175
         ],
         "showgrid": true
        },
        "xaxis26": {
         "anchor": "y26",
         "domain": [
          0.275,
          0.45
         ],
         "showgrid": true
        },
        "xaxis27": {
         "anchor": "y27",
         "domain": [
          0.55,
          0.7250000000000001
         ],
         "showgrid": true
        },
        "xaxis28": {
         "anchor": "y28",
         "domain": [
          0.825,
          1
         ],
         "showgrid": true
        },
        "xaxis29": {
         "anchor": "y29",
         "domain": [
          0,
          0.175
         ],
         "showgrid": true
        },
        "xaxis3": {
         "anchor": "y3",
         "domain": [
          0.55,
          0.7250000000000001
         ],
         "showgrid": true
        },
        "xaxis30": {
         "anchor": "y30",
         "domain": [
          0.275,
          0.45
         ],
         "showgrid": true
        },
        "xaxis31": {
         "anchor": "y31",
         "domain": [
          0.55,
          0.7250000000000001
         ],
         "showgrid": true
        },
        "xaxis32": {
         "anchor": "y32",
         "domain": [
          0.825,
          1
         ],
         "showgrid": true
        },
        "xaxis33": {
         "anchor": "y33",
         "domain": [
          0,
          0.175
         ],
         "showgrid": true
        },
        "xaxis34": {
         "anchor": "y34",
         "domain": [
          0.275,
          0.45
         ],
         "showgrid": true
        },
        "xaxis35": {
         "anchor": "y35",
         "domain": [
          0.55,
          0.7250000000000001
         ],
         "showgrid": true
        },
        "xaxis36": {
         "anchor": "y36",
         "domain": [
          0.825,
          1
         ],
         "showgrid": true
        },
        "xaxis37": {
         "anchor": "y37",
         "domain": [
          0,
          0.175
         ],
         "showgrid": true
        },
        "xaxis38": {
         "anchor": "y38",
         "domain": [
          0.275,
          0.45
         ],
         "showgrid": true
        },
        "xaxis39": {
         "anchor": "y39",
         "domain": [
          0.55,
          0.7250000000000001
         ],
         "showgrid": true
        },
        "xaxis4": {
         "anchor": "y4",
         "domain": [
          0.825,
          1
         ],
         "showgrid": true
        },
        "xaxis40": {
         "anchor": "y40",
         "domain": [
          0.825,
          1
         ],
         "showgrid": true
        },
        "xaxis5": {
         "anchor": "y5",
         "domain": [
          0,
          0.175
         ],
         "showgrid": true
        },
        "xaxis6": {
         "anchor": "y6",
         "domain": [
          0.275,
          0.45
         ],
         "showgrid": true
        },
        "xaxis7": {
         "anchor": "y7",
         "domain": [
          0.55,
          0.7250000000000001
         ],
         "showgrid": true
        },
        "xaxis8": {
         "anchor": "y8",
         "domain": [
          0.825,
          1
         ],
         "showgrid": true
        },
        "xaxis9": {
         "anchor": "y9",
         "domain": [
          0,
          0.175
         ],
         "showgrid": true
        },
        "yaxis": {
         "anchor": "x",
         "domain": [
          0.936,
          1
         ],
         "showgrid": true
        },
        "yaxis10": {
         "anchor": "x10",
         "domain": [
          0.728,
          0.792
         ],
         "showgrid": true
        },
        "yaxis11": {
         "anchor": "x11",
         "domain": [
          0.728,
          0.792
         ],
         "showgrid": true
        },
        "yaxis12": {
         "anchor": "x12",
         "domain": [
          0.728,
          0.792
         ],
         "showgrid": true
        },
        "yaxis13": {
         "anchor": "x13",
         "domain": [
          0.624,
          0.688
         ],
         "showgrid": true
        },
        "yaxis14": {
         "anchor": "x14",
         "domain": [
          0.624,
          0.688
         ],
         "showgrid": true
        },
        "yaxis15": {
         "anchor": "x15",
         "domain": [
          0.624,
          0.688
         ],
         "showgrid": true
        },
        "yaxis16": {
         "anchor": "x16",
         "domain": [
          0.624,
          0.688
         ],
         "showgrid": true
        },
        "yaxis17": {
         "anchor": "x17",
         "domain": [
          0.52,
          0.5840000000000001
         ],
         "showgrid": true
        },
        "yaxis18": {
         "anchor": "x18",
         "domain": [
          0.52,
          0.5840000000000001
         ],
         "showgrid": true
        },
        "yaxis19": {
         "anchor": "x19",
         "domain": [
          0.52,
          0.5840000000000001
         ],
         "showgrid": true
        },
        "yaxis2": {
         "anchor": "x2",
         "domain": [
          0.936,
          1
         ],
         "showgrid": true
        },
        "yaxis20": {
         "anchor": "x20",
         "domain": [
          0.52,
          0.5840000000000001
         ],
         "showgrid": true
        },
        "yaxis21": {
         "anchor": "x21",
         "domain": [
          0.41600000000000004,
          0.48000000000000004
         ],
         "showgrid": true
        },
        "yaxis22": {
         "anchor": "x22",
         "domain": [
          0.41600000000000004,
          0.48000000000000004
         ],
         "showgrid": true
        },
        "yaxis23": {
         "anchor": "x23",
         "domain": [
          0.41600000000000004,
          0.48000000000000004
         ],
         "showgrid": true
        },
        "yaxis24": {
         "anchor": "x24",
         "domain": [
          0.41600000000000004,
          0.48000000000000004
         ],
         "showgrid": true
        },
        "yaxis25": {
         "anchor": "x25",
         "domain": [
          0.312,
          0.376
         ],
         "showgrid": true
        },
        "yaxis26": {
         "anchor": "x26",
         "domain": [
          0.312,
          0.376
         ],
         "showgrid": true
        },
        "yaxis27": {
         "anchor": "x27",
         "domain": [
          0.312,
          0.376
         ],
         "showgrid": true
        },
        "yaxis28": {
         "anchor": "x28",
         "domain": [
          0.312,
          0.376
         ],
         "showgrid": true
        },
        "yaxis29": {
         "anchor": "x29",
         "domain": [
          0.20800000000000002,
          0.272
         ],
         "showgrid": true
        },
        "yaxis3": {
         "anchor": "x3",
         "domain": [
          0.936,
          1
         ],
         "showgrid": true
        },
        "yaxis30": {
         "anchor": "x30",
         "domain": [
          0.20800000000000002,
          0.272
         ],
         "showgrid": true
        },
        "yaxis31": {
         "anchor": "x31",
         "domain": [
          0.20800000000000002,
          0.272
         ],
         "showgrid": true
        },
        "yaxis32": {
         "anchor": "x32",
         "domain": [
          0.20800000000000002,
          0.272
         ],
         "showgrid": true
        },
        "yaxis33": {
         "anchor": "x33",
         "domain": [
          0.10400000000000001,
          0.168
         ],
         "showgrid": true
        },
        "yaxis34": {
         "anchor": "x34",
         "domain": [
          0.10400000000000001,
          0.168
         ],
         "showgrid": true
        },
        "yaxis35": {
         "anchor": "x35",
         "domain": [
          0.10400000000000001,
          0.168
         ],
         "showgrid": true
        },
        "yaxis36": {
         "anchor": "x36",
         "domain": [
          0.10400000000000001,
          0.168
         ],
         "showgrid": true
        },
        "yaxis37": {
         "anchor": "x37",
         "domain": [
          0,
          0.064
         ],
         "showgrid": true
        },
        "yaxis38": {
         "anchor": "x38",
         "domain": [
          0,
          0.064
         ],
         "showgrid": true
        },
        "yaxis39": {
         "anchor": "x39",
         "domain": [
          0,
          0.064
         ],
         "showgrid": true
        },
        "yaxis4": {
         "anchor": "x4",
         "domain": [
          0.936,
          1
         ],
         "showgrid": true
        },
        "yaxis40": {
         "anchor": "x40",
         "domain": [
          0,
          0.064
         ],
         "showgrid": true
        },
        "yaxis5": {
         "anchor": "x5",
         "domain": [
          0.8320000000000001,
          0.8960000000000001
         ],
         "showgrid": true
        },
        "yaxis6": {
         "anchor": "x6",
         "domain": [
          0.8320000000000001,
          0.8960000000000001
         ],
         "showgrid": true
        },
        "yaxis7": {
         "anchor": "x7",
         "domain": [
          0.8320000000000001,
          0.8960000000000001
         ],
         "showgrid": true
        },
        "yaxis8": {
         "anchor": "x8",
         "domain": [
          0.8320000000000001,
          0.8960000000000001
         ],
         "showgrid": true
        },
        "yaxis9": {
         "anchor": "x9",
         "domain": [
          0.728,
          0.792
         ],
         "showgrid": true
        }
       }
      },
      "text/html": [
       "<div>                            <div id=\"006fca11-5ee7-4d81-9c45-1f61a8d7ae32\" class=\"plotly-graph-div\" style=\"height:2500px; width:1000px;\"></div>            <script type=\"text/javascript\">                require([\"plotly\"], function(Plotly) {                    window.PLOTLYENV=window.PLOTLYENV || {};                                    if (document.getElementById(\"006fca11-5ee7-4d81-9c45-1f61a8d7ae32\")) {                    Plotly.newPlot(                        \"006fca11-5ee7-4d81-9c45-1f61a8d7ae32\",                        [{\"marker\":{\"color\":\"#D55E00\"},\"orientation\":\"h\",\"x\":[0.3567166328430176,0.3631100058555603,0.3654669523239136,0.3744100332260132,0.3744712471961975,0.3955240845680237,0.4000566005706787,0.4142129421234131,0.5032210946083069,0.7035195827484131],\"y\":[\"cafe  \",\"garden  \",\"visit  \",\"promenade  \",\"playgrounds  \",\"great  \",\"playground  \",\"lovely  \",\"parking  \",\"park  \"],\"type\":\"bar\",\"xaxis\":\"x\",\"yaxis\":\"y\"},{\"marker\":{\"color\":\"#0072B2\"},\"orientation\":\"h\",\"x\":[0.3282160460948944,0.3380613327026367,0.33865630626678467,0.34532296657562256,0.3550688624382019,0.35849493741989136,0.3947521448135376,0.5867661833763123,0.6748567223548889,0.7084034085273743],\"y\":[\"visiting  \",\"monuments  \",\"germany  \",\"visit  \",\"reichstag  \",\"parks  \",\"park  \",\"brandenburg  \",\"berlins  \",\"berlin  \"],\"type\":\"bar\",\"xaxis\":\"x2\",\"yaxis\":\"y2\"},{\"marker\":{\"color\":\"#CC79A7\"},\"orientation\":\"h\",\"x\":[0.3810765743255615,0.3878970742225647,0.3912484049797058,0.43776804208755493,0.4446718096733093,0.4536839723587036,0.46757960319519043,0.47720474004745483,0.5777038335800171,0.590299129486084],\"y\":[\"urban  \",\"beautiful  \",\"street  \",\"tourist  \",\"facility  \",\"visit  \",\"places  \",\"location  \",\"place  \",\"picturesque  \"],\"type\":\"bar\",\"xaxis\":\"x3\",\"yaxis\":\"y3\"},{\"marker\":{\"color\":\"#E69F00\"},\"orientation\":\"h\",\"x\":[0.4751489460468292,0.47706422209739685,0.4853942394256592,0.48775002360343933,0.5552291870117188,0.564429521560669,0.5669631958007812,0.6279950141906738,0.6712997555732727,0.7957479357719421],\"y\":[\"nice  \",\"quite  \",\"best  \",\"fantastic  \",\"wonderful  \",\"positively  \",\"bad  \",\"great  \",\"excellent  \",\"good  \"],\"type\":\"bar\",\"xaxis\":\"x4\",\"yaxis\":\"y4\"},{\"marker\":{\"color\":\"#56B4E9\"},\"orientation\":\"h\",\"x\":[0.42851895093917847,0.47141167521476746,0.482988566160202,0.5036694407463074,0.5200821161270142,0.5587708353996277,0.564639151096344,0.6782095432281494,0.7366629838943481,0.7484018206596375],\"y\":[\"elevator  \",\"underground  \",\"bahn  \",\"train  \",\"metro  \",\"trains  \",\"railway  \",\"stations  \",\"subway  \",\"station  \"],\"type\":\"bar\",\"xaxis\":\"x5\",\"yaxis\":\"y5\"},{\"marker\":{\"color\":\"#009E73\"},\"orientation\":\"h\",\"x\":[0.3490768074989319,0.3580208420753479,0.3596111536026001,0.36204442381858826,0.3897636830806732,0.40948963165283203,0.44601064920425415,0.45279884338378906,0.48444855213165283,0.4994918704032898],\"y\":[\"soviets  \",\"cemetery  \",\"statue  \",\"wwii  \",\"remembrance  \",\"monuments  \",\"monument  \",\"berlin  \",\"memorials  \",\"memorial  \"],\"type\":\"bar\",\"xaxis\":\"x6\",\"yaxis\":\"y6\"},{\"marker\":{\"color\":\"#F0E442\"},\"orientation\":\"h\",\"x\":[0.3690272569656372,0.36994707584381104,0.3726623058319092,0.3760074973106384,0.3884759247303009,0.40141183137893677,0.4902649521827698,0.5023654699325562,0.5331541299819946,0.5678184628486633],\"y\":[\"restaurant  \",\"bartender  \",\"bar  \",\"pub  \",\"drinks  \",\"bartenders  \",\"cocktail  \",\"cocktails  \",\"whiskeys  \",\"whiskey  \"],\"type\":\"bar\",\"xaxis\":\"x7\",\"yaxis\":\"y7\"},{\"marker\":{\"color\":\"#D55E00\"},\"orientation\":\"h\",\"x\":[0.29988646507263184,0.3008975088596344,0.3074581027030945,0.32921233773231506,0.38418176770210266,0.3856405019760132,0.38667604327201843,0.39930036664009094,0.42720723152160645,0.6505146026611328],\"y\":[\"visit  \",\"street  \",\"markets  \",\"stores  \",\"place  \",\"market  \",\"shop  \",\"nearby  \",\"flea  \",\"fleamarket  \"],\"type\":\"bar\",\"xaxis\":\"x8\",\"yaxis\":\"y8\"},{\"marker\":{\"color\":\"#0072B2\"},\"orientation\":\"h\",\"x\":[0.34054049849510193,0.37173402309417725,0.3823976218700409,0.38578084111213684,0.40018516778945923,0.40236079692840576,0.44084176421165466,0.4432819187641144,0.49828124046325684,0.6188490986824036],\"y\":[\"chilling  \",\"pleasant  \",\"sunset  \",\"sunny  \",\"evening  \",\"relaxation  \",\"relaxed  \",\"evenings  \",\"relaxing  \",\"summer  \"],\"type\":\"bar\",\"xaxis\":\"x9\",\"yaxis\":\"y9\"},{\"marker\":{\"color\":\"#CC79A7\"},\"orientation\":\"h\",\"x\":[0.3734332025051117,0.38370615243911743,0.3906596899032593,0.43693673610687256,0.4669956564903259,0.5207176208496094,0.527768611907959,0.5740295648574829,0.6042025685310364,0.8844590187072754],\"y\":[\"fab  \",\"fam  \",\"epic  \",\"mega  \",\"special  \",\"suha  \",\"supe  \",\"superb  \",\"superbo  \",\"super  \"],\"type\":\"bar\",\"xaxis\":\"x10\",\"yaxis\":\"y10\"},{\"marker\":{\"color\":\"#E69F00\"},\"orientation\":\"h\",\"x\":[0.323415070772171,0.32923585176467896,0.3406616449356079,0.3567690849304199,0.37356752157211304,0.38152122497558594,0.3937586545944214,0.39551863074302673,0.3962823748588562,0.4139325022697449],\"y\":[\"berlins  \",\"flora  \",\"rose  \",\"sculptures  \",\"statue  \",\"flower  \",\"statues  \",\"roses  \",\"garden  \",\"flowers  \"],\"type\":\"bar\",\"xaxis\":\"x11\",\"yaxis\":\"y11\"},{\"marker\":{\"color\":\"#56B4E9\"},\"orientation\":\"h\",\"x\":[0.39392080903053284,0.430620938539505,0.4345986843109131,0.4373456835746765,0.4446708559989929,0.47126471996307373,0.5139275193214417,0.5385019779205322,0.545416533946991,0.629004180431366],\"y\":[\"museum  \",\"boat  \",\"exhibitions  \",\"exhibits  \",\"embarkation  \",\"trip  \",\"visit  \",\"tour  \",\"visiting  \",\"tours  \"],\"type\":\"bar\",\"xaxis\":\"x12\",\"yaxis\":\"y12\"},{\"marker\":{\"color\":\"#009E73\"},\"orientation\":\"h\",\"x\":[0.30369943380355835,0.30844491720199585,0.31221258640289307,0.32764101028442383,0.3400547206401825,0.3470296859741211,0.3602501153945923,0.3610573410987854,0.37373828887939453,0.37717491388320923],\"y\":[\"visitarlo  \",\"que  \",\"las  \",\"viento  \",\"descansar  \",\"muito  \",\"rosas  \",\"es  \",\"sionante  \",\"una  \"],\"type\":\"bar\",\"xaxis\":\"x13\",\"yaxis\":\"y13\"},{\"marker\":{\"color\":\"#F0E442\"},\"orientation\":\"h\",\"x\":[0.2314266860485077,0.2343970239162445,0.24864016473293304,0.2598263621330261,0.2806333601474762,0.3305395543575287,0.33221355080604553,0.3738628625869751,0.3769676387310028,0.3861607015132904],\"y\":[\"facility  \",\"street  \",\"words  \",\"frozen  \",\"non  \",\"blank  \",\"paradox  \",\"erable  \",\"wound  \",\"place  \"],\"type\":\"bar\",\"xaxis\":\"x14\",\"yaxis\":\"y14\"},{\"marker\":{\"color\":\"#D55E00\"},\"orientation\":\"h\",\"x\":[0.5647026300430298,0.5647026300430298,0.5647026300430298,0.5647026300430298,0.5647026300430298,0.5647026300430298,0.6240411996841431,0.6995238065719604,0.8055309653282166,0.8405000567436218],\"y\":[\"  \",\"  \",\"  \",\"  \",\"  \",\"  \",\"fine  \",\"alright  \",\"okay  \",\"ok  \"],\"type\":\"bar\",\"xaxis\":\"x15\",\"yaxis\":\"y15\"},{\"marker\":{\"color\":\"#0072B2\"},\"orientation\":\"h\",\"x\":[0.4463416635990143,0.45488739013671875,0.47391629219055176,0.4839675724506378,0.49923479557037354,0.5214887857437134,0.5427219867706299,0.5969919562339783,0.6898381114006042,0.7420737147331238],\"y\":[\"reformation  \",\"convent  \",\"lutheran  \",\"monasteryfascinating  \",\"protestant  \",\"monastery  \",\"pastor  \",\"cathedral  \",\"churches  \",\"church  \"],\"type\":\"bar\",\"xaxis\":\"x16\",\"yaxis\":\"y16\"},{\"marker\":{\"color\":\"#CC79A7\"},\"orientation\":\"h\",\"x\":[0.29598966240882874,0.30851930379867554,0.3233005404472351,0.3395787477493286,0.3475096523761749,0.3662148714065552,0.3787831664085388,0.44437217712402344,0.4869837760925293,0.496171772480011],\"y\":[\"garage  \",\"littered  \",\"cleanliness  \",\"waste  \",\"smells  \",\"smell  \",\"toilet  \",\"toilets  \",\"urine  \",\"parking  \"],\"type\":\"bar\",\"xaxis\":\"x17\",\"yaxis\":\"y17\"},{\"marker\":{\"color\":\"#E69F00\"},\"orientation\":\"h\",\"x\":[0.2514149248600006,0.25791865587234497,0.2581174075603485,0.26522043347358704,0.26921963691711426,0.29267618060112,0.3127431273460388,0.3177345395088196,0.3454820215702057,0.3458603620529175],\"y\":[\"relaxation  \",\"buspunctual  \",\"place  \",\"atmosfera  \",\"meditative  \",\"stalinism  \",\"anichkovo  \",\"ruins  \",\"altar  \",\"sculpture  \"],\"type\":\"bar\",\"xaxis\":\"x18\",\"yaxis\":\"y18\"},{\"marker\":{\"color\":\"#56B4E9\"},\"orientation\":\"h\",\"x\":[0.4052432179450989,0.415948748588562,0.43283066153526306,0.45270487666130066,0.5031325221061707,0.5204043388366699,0.5207178592681885,0.5376261472702026,0.6029412150382996,0.6603790521621704],\"y\":[\"nicely  \",\"lively  \",\"silence  \",\"calmness  \",\"peaceful  \",\"quietly  \",\"loud  \",\"noisy  \",\"pleasant  \",\"quiet  \"],\"type\":\"bar\",\"xaxis\":\"x19\",\"yaxis\":\"y19\"},{\"marker\":{\"color\":\"#009E73\"},\"orientation\":\"h\",\"x\":[0.37184852361679077,0.40499749779701233,0.41195929050445557,0.4201640486717224,0.4308595657348633,0.46199312806129456,0.4897273778915405,0.5235165357589722,0.6914756894111633,0.7925712466239929],\"y\":[\"road  \",\"parkfreshly  \",\"city  \",\"place  \",\"urban  \",\"greenery  \",\"desert  \",\"paradise  \",\"oasisin  \",\"oasis  \"],\"type\":\"bar\",\"xaxis\":\"x20\",\"yaxis\":\"y20\"},{\"marker\":{\"color\":\"#F0E442\"},\"orientation\":\"h\",\"x\":[0.3605177402496338,0.36325469613075256,0.36370646953582764,0.37092968821525574,0.37181800603866577,0.38178882002830505,0.38355207443237305,0.39946550130844116,0.40759730339050293,0.46747711300849915],\"y\":[\"przyjemny  \",\"kurutma  \",\"zeer  \",\"birlikte  \",\"przyjazne  \",\"nazwane  \",\"za  \",\"rozkvetljsou  \",\"olmakla  \",\"zahrada  \"],\"type\":\"bar\",\"xaxis\":\"x21\",\"yaxis\":\"y21\"},{\"marker\":{\"color\":\"#D55E00\"},\"orientation\":\"h\",\"x\":[0.29791998863220215,0.3112245202064514,0.3204807937145233,0.33459538221359253,0.3717235326766968,0.39329782128334045,0.4406316876411438,0.44296178221702576,0.6122375726699829,0.6637746095657349],\"y\":[\"korean  \",\"dishes  \",\"meal  \",\"food  \",\"rice  \",\"vietnamese  \",\"cuisines  \",\"cuisine  \",\"thailand  \",\"thai  \"],\"type\":\"bar\",\"xaxis\":\"x22\",\"yaxis\":\"y22\"},{\"marker\":{\"color\":\"#0072B2\"},\"orientation\":\"h\",\"x\":[0.36945390701293945,0.3757712244987488,0.45081889629364014,0.5110220313072205,0.5543224811553955,0.5787850022315979,0.6722468137741089,0.7876023650169373,0.8337821364402771,0.8455408215522766],\"y\":[\"quiet  \",\"hot  \",\"cooler  \",\"cold  \",\"relax  \",\"chilled  \",\"chilling  \",\"chillig  \",\"chill  \",\"chillout  \"],\"type\":\"bar\",\"xaxis\":\"x23\",\"yaxis\":\"y23\"},{\"marker\":{\"color\":\"#CC79A7\"},\"orientation\":\"h\",\"x\":[0.32410678267478943,0.3244616985321045,0.3264303207397461,0.3468364179134369,0.37082892656326294,0.3777799606323242,0.4045031666755676,0.49096614122390747,0.5367304682731628,0.6945130825042725],\"y\":[\"useful  \",\"wow  \",\"thank  \",\"surprised  \",\"impressive  \",\"creepy  \",\"great  \",\"exciting  \",\"interestinggood  \",\"interesting  \"],\"type\":\"bar\",\"xaxis\":\"x24\",\"yaxis\":\"y24\"},{\"marker\":{\"color\":\"#E69F00\"},\"orientation\":\"h\",\"x\":[0.45581626892089844,0.46335136890411377,0.46618109941482544,0.48361608386039734,0.50559401512146,0.5225765705108643,0.5240086317062378,0.5540653467178345,0.5555278658866882,0.6346254348754883],\"y\":[\"walked  \",\"biking  \",\"bicycles  \",\"pedestrians  \",\"footpath  \",\"cycling  \",\"cyclists  \",\"route  \",\"walking  \",\"walkers  \"],\"type\":\"bar\",\"xaxis\":\"x25\",\"yaxis\":\"y25\"},{\"marker\":{\"color\":\"#56B4E9\"},\"orientation\":\"h\",\"x\":[0.4407144784927368,0.45099443197250366,0.5625540018081665,0.6263600587844849,0.6290628910064697,0.6469969749450684,0.6901580691337585,0.6934952735900879,0.7051758766174316,0.9451428651809692],\"y\":[\"clear  \",\"sterile  \",\"tidy  \",\"cleaned  \",\"cleaning  \",\"filthy  \",\"clean  \",\"dirtysunrise  \",\"dirt  \",\"dirty  \"],\"type\":\"bar\",\"xaxis\":\"x26\",\"yaxis\":\"y26\"},{\"marker\":{\"color\":\"#009E73\"},\"orientation\":\"h\",\"x\":[0.20823316276073456,0.24171167612075806,0.2587672472000122,0.2644544243812561,0.3077864944934845,0.31293460726737976,0.3511974811553955,0.3605610728263855,0.36197131872177124,0.41773802042007446],\"y\":[\"na  \",\"childrens  \",\"gehrung  \",\"choralspace  \",\"festival  \",\"hilalspor  \",\"miejsce  \",\"amina  \",\"fajne  \",\"koyim  \"],\"type\":\"bar\",\"xaxis\":\"x27\",\"yaxis\":\"y27\"},{\"marker\":{\"color\":\"#F0E442\"},\"orientation\":\"h\",\"x\":[0.40417248010635376,0.4051250219345093,0.4085901379585266,0.4237001836299896,0.4455597400665283,0.4488835036754608,0.44954952597618103,0.5241154432296753,0.5625354647636414,0.6885521411895752],\"y\":[\"touristswhy  \",\"near  \",\"city  \",\"visiting  \",\"tourist  \",\"neighborhood  \",\"tourists  \",\"place  \",\"overcrowded  \",\"crowded  \"],\"type\":\"bar\",\"xaxis\":\"x28\",\"yaxis\":\"y28\"},{\"marker\":{\"color\":\"#D55E00\"},\"orientation\":\"h\",\"x\":[0.32642048597335815,0.3891645669937134,0.4272443652153015,0.4488430321216583,0.4562535583972931,0.5463852286338806,0.5612744092941284,0.6465355157852173,0.6694917678833008,0.7044131755828857],\"y\":[\"shop  \",\"literaturemostly  \",\"reading  \",\"recommendation  \",\"recommendations  \",\"book  \",\"booksellers  \",\"books  \",\"bookshop  \",\"bookstore  \"],\"type\":\"bar\",\"xaxis\":\"x29\",\"yaxis\":\"y29\"},{\"marker\":{\"color\":\"#0072B2\"},\"orientation\":\"h\",\"x\":[0.2543641924858093,0.2564901113510132,0.25695762038230896,0.25734418630599976,0.2587890028953552,0.27457278966903687,0.27580511569976807,0.31867504119873047,0.3681570291519165,0.5905275940895081],\"y\":[\"wildlife  \",\"heron  \",\"picnic  \",\"park  \",\"touristically  \",\"amenities  \",\"pond  \",\"walkways  \",\"ponds  \",\"tiergarten  \"],\"type\":\"bar\",\"xaxis\":\"x30\",\"yaxis\":\"y30\"},{\"marker\":{\"color\":\"#CC79A7\"},\"orientation\":\"h\",\"x\":[0.23763032257556915,0.2481357455253601,0.2590552568435669,0.2766600251197815,0.2946748733520508,0.2952548861503601,0.3985406756401062,0.4507182240486145,0.6320940852165222,0.6569793224334717],\"y\":[\"indoor  \",\"facilities  \",\"clean  \",\"laps  \",\"showers  \",\"crowded  \",\"swim  \",\"swimming  \",\"pools  \",\"pool  \"],\"type\":\"bar\",\"xaxis\":\"x31\",\"yaxis\":\"y31\"},{\"marker\":{\"color\":\"#E69F00\"},\"orientation\":\"h\",\"x\":[0.3061698377132416,0.3111269176006317,0.33276960253715515,0.33418184518814087,0.35595768690109253,0.3833889067173004,0.39484283328056335,0.4424968361854553,0.49903440475463867,0.5438812971115112],\"y\":[\"historical  \",\"located  \",\"station  \",\"grounds  \",\"buildings  \",\"historic  \",\"buried  \",\"cemetery  \",\"prisoners  \",\"prison  \"],\"type\":\"bar\",\"xaxis\":\"x32\",\"yaxis\":\"y32\"},{\"marker\":{\"color\":\"#56B4E9\"},\"orientation\":\"h\",\"x\":[0.27665936946868896,0.3084198832511902,0.31069543957710266,0.3232799768447876,0.32828637957572937,0.3418352007865906,0.37307602167129517,0.40261387825012207,0.6292100548744202,0.6604419946670532],\"y\":[\"pub  \",\"neighborhood  \",\"apartment  \",\"concert  \",\"concerts  \",\"berlin  \",\"place  \",\"venue  \",\"bowies  \",\"bowie  \"],\"type\":\"bar\",\"xaxis\":\"x33\",\"yaxis\":\"y33\"},{\"marker\":{\"color\":\"#009E73\"},\"orientation\":\"h\",\"x\":[0.307625412940979,0.3240776062011719,0.3258996903896332,0.4155554175376892,0.46143639087677,0.5252023935317993,0.5303861498832703,0.5718309879302979,0.7304682731628418,0.7907787561416626],\"y\":[\"quiet  \",\"cute  \",\"great  \",\"wide  \",\"spacious  \",\"big  \",\"huge  \",\"little  \",\"tiny  \",\"small  \"],\"type\":\"bar\",\"xaxis\":\"x34\",\"yaxis\":\"y34\"},{\"marker\":{\"color\":\"#F0E442\"},\"orientation\":\"h\",\"x\":[0.10046695172786713,0.12334437668323517,0.13699749112129211,0.1382714807987213,0.15120463073253632,0.15657025575637817,0.20468591153621674,0.22345152497291565,0.22957931458950043,0.2326141893863678],\"y\":[\"  \",\"218federal  \",\"schultescharlotte  \",\"frank198219981991volume  \",\"chillida  \",\"rossman  \",\"machineeduardo  \",\"building1  \",\"federalreichstag  \",\"des  \"],\"type\":\"bar\",\"xaxis\":\"x35\",\"yaxis\":\"y35\"},{\"marker\":{\"color\":\"#D55E00\"},\"orientation\":\"h\",\"x\":[0.289025217294693,0.2969619035720825,0.3053770661354065,0.31248313188552856,0.3489687740802765,0.42789506912231445,0.4384400248527527,0.45905470848083496,0.5018028020858765,0.5085312724113464],\"y\":[\"730am  \",\"11am  \",\"4pm  \",\"8am  \",\"5pm  \",\"closed  \",\"open  \",\"opened  \",\"opening  \",\"reopen  \"],\"type\":\"bar\",\"xaxis\":\"x36\",\"yaxis\":\"y36\"},{\"marker\":{\"color\":\"#0072B2\"},\"orientation\":\"h\",\"x\":[0.2610274851322174,0.27235281467437744,0.29636281728744507,0.3652151823043823,0.4254150986671448,0.44769179821014404,0.4499143362045288,0.45412030816078186,0.5318151712417603,0.581466794013977],\"y\":[\"grass  \",\"sit  \",\"trash  \",\"dirt  \",\"park  \",\"cleaner  \",\"cleanest  \",\"clean  \",\"cleanliness  \",\"benches  \"],\"type\":\"bar\",\"xaxis\":\"x37\",\"yaxis\":\"y37\"},{\"marker\":{\"color\":\"#CC79A7\"},\"orientation\":\"h\",\"x\":[0.1973164826631546,0.1995476633310318,0.21648111939430237,0.2165949046611786,0.28721264004707336,0.30238938331604004,0.31266525387763977,0.4335384666919708,0.47957709431648254,0.5215163230895996],\"y\":[\"great  \",\"mitte  \",\"good  \",\"natural  \",\"small  \",\"little  \",\"suitable  \",\"kiddies  \",\"kids  \",\"children  \"],\"type\":\"bar\",\"xaxis\":\"x38\",\"yaxis\":\"y38\"},{\"marker\":{\"color\":\"#E69F00\"},\"orientation\":\"h\",\"x\":[0.2650391459465027,0.2981211841106415,0.3098795413970947,0.31258755922317505,0.3466167151927948,0.35416558384895325,0.37817105650901794,0.4227449595928192,0.49229031801223755,0.504787266254425],\"y\":[\"nicotine  \",\"cbd  \",\"shop  \",\"police  \",\"insecure  \",\"heroin  \",\"drug  \",\"drugsellers  \",\"dealers  \",\"cocaine  \"],\"type\":\"bar\",\"xaxis\":\"x39\",\"yaxis\":\"y39\"},{\"marker\":{\"color\":\"#56B4E9\"},\"orientation\":\"h\",\"x\":[0.22075723111629486,0.22762422263622284,0.23370200395584106,0.26509901881217957,0.30594801902770996,0.3070778250694275,0.3522619605064392,0.3855981230735779,0.4335745573043823,0.5112239718437195],\"y\":[\"feature  \",\"deepest  \",\"little  \",\"like  \",\"nice  \",\"cloudy  \",\"beautiful  \",\"sea  \",\"piece  \",\"water  \"],\"type\":\"bar\",\"xaxis\":\"x40\",\"yaxis\":\"y40\"}],                        {\"template\":{\"data\":{\"barpolar\":[{\"marker\":{\"line\":{\"color\":\"white\",\"width\":0.5},\"pattern\":{\"fillmode\":\"overlay\",\"size\":10,\"solidity\":0.2}},\"type\":\"barpolar\"}],\"bar\":[{\"error_x\":{\"color\":\"#2a3f5f\"},\"error_y\":{\"color\":\"#2a3f5f\"},\"marker\":{\"line\":{\"color\":\"white\",\"width\":0.5},\"pattern\":{\"fillmode\":\"overlay\",\"size\":10,\"solidity\":0.2}},\"type\":\"bar\"}],\"carpet\":[{\"aaxis\":{\"endlinecolor\":\"#2a3f5f\",\"gridcolor\":\"#C8D4E3\",\"linecolor\":\"#C8D4E3\",\"minorgridcolor\":\"#C8D4E3\",\"startlinecolor\":\"#2a3f5f\"},\"baxis\":{\"endlinecolor\":\"#2a3f5f\",\"gridcolor\":\"#C8D4E3\",\"linecolor\":\"#C8D4E3\",\"minorgridcolor\":\"#C8D4E3\",\"startlinecolor\":\"#2a3f5f\"},\"type\":\"carpet\"}],\"choropleth\":[{\"colorbar\":{\"outlinewidth\":0,\"ticks\":\"\"},\"type\":\"choropleth\"}],\"contourcarpet\":[{\"colorbar\":{\"outlinewidth\":0,\"ticks\":\"\"},\"type\":\"contourcarpet\"}],\"contour\":[{\"colorbar\":{\"outlinewidth\":0,\"ticks\":\"\"},\"colorscale\":[[0.0,\"#0d0887\"],[0.1111111111111111,\"#46039f\"],[0.2222222222222222,\"#7201a8\"],[0.3333333333333333,\"#9c179e\"],[0.4444444444444444,\"#bd3786\"],[0.5555555555555556,\"#d8576b\"],[0.6666666666666666,\"#ed7953\"],[0.7777777777777778,\"#fb9f3a\"],[0.8888888888888888,\"#fdca26\"],[1.0,\"#f0f921\"]],\"type\":\"contour\"}],\"heatmapgl\":[{\"colorbar\":{\"outlinewidth\":0,\"ticks\":\"\"},\"colorscale\":[[0.0,\"#0d0887\"],[0.1111111111111111,\"#46039f\"],[0.2222222222222222,\"#7201a8\"],[0.3333333333333333,\"#9c179e\"],[0.4444444444444444,\"#bd3786\"],[0.5555555555555556,\"#d8576b\"],[0.6666666666666666,\"#ed7953\"],[0.7777777777777778,\"#fb9f3a\"],[0.8888888888888888,\"#fdca26\"],[1.0,\"#f0f921\"]],\"type\":\"heatmapgl\"}],\"heatmap\":[{\"colorbar\":{\"outlinewidth\":0,\"ticks\":\"\"},\"colorscale\":[[0.0,\"#0d0887\"],[0.1111111111111111,\"#46039f\"],[0.2222222222222222,\"#7201a8\"],[0.3333333333333333,\"#9c179e\"],[0.4444444444444444,\"#bd3786\"],[0.5555555555555556,\"#d8576b\"],[0.6666666666666666,\"#ed7953\"],[0.7777777777777778,\"#fb9f3a\"],[0.8888888888888888,\"#fdca26\"],[1.0,\"#f0f921\"]],\"type\":\"heatmap\"}],\"histogram2dcontour\":[{\"colorbar\":{\"outlinewidth\":0,\"ticks\":\"\"},\"colorscale\":[[0.0,\"#0d0887\"],[0.1111111111111111,\"#46039f\"],[0.2222222222222222,\"#7201a8\"],[0.3333333333333333,\"#9c179e\"],[0.4444444444444444,\"#bd3786\"],[0.5555555555555556,\"#d8576b\"],[0.6666666666666666,\"#ed7953\"],[0.7777777777777778,\"#fb9f3a\"],[0.8888888888888888,\"#fdca26\"],[1.0,\"#f0f921\"]],\"type\":\"histogram2dcontour\"}],\"histogram2d\":[{\"colorbar\":{\"outlinewidth\":0,\"ticks\":\"\"},\"colorscale\":[[0.0,\"#0d0887\"],[0.1111111111111111,\"#46039f\"],[0.2222222222222222,\"#7201a8\"],[0.3333333333333333,\"#9c179e\"],[0.4444444444444444,\"#bd3786\"],[0.5555555555555556,\"#d8576b\"],[0.6666666666666666,\"#ed7953\"],[0.7777777777777778,\"#fb9f3a\"],[0.8888888888888888,\"#fdca26\"],[1.0,\"#f0f921\"]],\"type\":\"histogram2d\"}],\"histogram\":[{\"marker\":{\"pattern\":{\"fillmode\":\"overlay\",\"size\":10,\"solidity\":0.2}},\"type\":\"histogram\"}],\"mesh3d\":[{\"colorbar\":{\"outlinewidth\":0,\"ticks\":\"\"},\"type\":\"mesh3d\"}],\"parcoords\":[{\"line\":{\"colorbar\":{\"outlinewidth\":0,\"ticks\":\"\"}},\"type\":\"parcoords\"}],\"pie\":[{\"automargin\":true,\"type\":\"pie\"}],\"scatter3d\":[{\"line\":{\"colorbar\":{\"outlinewidth\":0,\"ticks\":\"\"}},\"marker\":{\"colorbar\":{\"outlinewidth\":0,\"ticks\":\"\"}},\"type\":\"scatter3d\"}],\"scattercarpet\":[{\"marker\":{\"colorbar\":{\"outlinewidth\":0,\"ticks\":\"\"}},\"type\":\"scattercarpet\"}],\"scattergeo\":[{\"marker\":{\"colorbar\":{\"outlinewidth\":0,\"ticks\":\"\"}},\"type\":\"scattergeo\"}],\"scattergl\":[{\"marker\":{\"colorbar\":{\"outlinewidth\":0,\"ticks\":\"\"}},\"type\":\"scattergl\"}],\"scattermapbox\":[{\"marker\":{\"colorbar\":{\"outlinewidth\":0,\"ticks\":\"\"}},\"type\":\"scattermapbox\"}],\"scatterpolargl\":[{\"marker\":{\"colorbar\":{\"outlinewidth\":0,\"ticks\":\"\"}},\"type\":\"scatterpolargl\"}],\"scatterpolar\":[{\"marker\":{\"colorbar\":{\"outlinewidth\":0,\"ticks\":\"\"}},\"type\":\"scatterpolar\"}],\"scatter\":[{\"fillpattern\":{\"fillmode\":\"overlay\",\"size\":10,\"solidity\":0.2},\"type\":\"scatter\"}],\"scatterternary\":[{\"marker\":{\"colorbar\":{\"outlinewidth\":0,\"ticks\":\"\"}},\"type\":\"scatterternary\"}],\"surface\":[{\"colorbar\":{\"outlinewidth\":0,\"ticks\":\"\"},\"colorscale\":[[0.0,\"#0d0887\"],[0.1111111111111111,\"#46039f\"],[0.2222222222222222,\"#7201a8\"],[0.3333333333333333,\"#9c179e\"],[0.4444444444444444,\"#bd3786\"],[0.5555555555555556,\"#d8576b\"],[0.6666666666666666,\"#ed7953\"],[0.7777777777777778,\"#fb9f3a\"],[0.8888888888888888,\"#fdca26\"],[1.0,\"#f0f921\"]],\"type\":\"surface\"}],\"table\":[{\"cells\":{\"fill\":{\"color\":\"#EBF0F8\"},\"line\":{\"color\":\"white\"}},\"header\":{\"fill\":{\"color\":\"#C8D4E3\"},\"line\":{\"color\":\"white\"}},\"type\":\"table\"}]},\"layout\":{\"annotationdefaults\":{\"arrowcolor\":\"#2a3f5f\",\"arrowhead\":0,\"arrowwidth\":1},\"autotypenumbers\":\"strict\",\"coloraxis\":{\"colorbar\":{\"outlinewidth\":0,\"ticks\":\"\"}},\"colorscale\":{\"diverging\":[[0,\"#8e0152\"],[0.1,\"#c51b7d\"],[0.2,\"#de77ae\"],[0.3,\"#f1b6da\"],[0.4,\"#fde0ef\"],[0.5,\"#f7f7f7\"],[0.6,\"#e6f5d0\"],[0.7,\"#b8e186\"],[0.8,\"#7fbc41\"],[0.9,\"#4d9221\"],[1,\"#276419\"]],\"sequential\":[[0.0,\"#0d0887\"],[0.1111111111111111,\"#46039f\"],[0.2222222222222222,\"#7201a8\"],[0.3333333333333333,\"#9c179e\"],[0.4444444444444444,\"#bd3786\"],[0.5555555555555556,\"#d8576b\"],[0.6666666666666666,\"#ed7953\"],[0.7777777777777778,\"#fb9f3a\"],[0.8888888888888888,\"#fdca26\"],[1.0,\"#f0f921\"]],\"sequentialminus\":[[0.0,\"#0d0887\"],[0.1111111111111111,\"#46039f\"],[0.2222222222222222,\"#7201a8\"],[0.3333333333333333,\"#9c179e\"],[0.4444444444444444,\"#bd3786\"],[0.5555555555555556,\"#d8576b\"],[0.6666666666666666,\"#ed7953\"],[0.7777777777777778,\"#fb9f3a\"],[0.8888888888888888,\"#fdca26\"],[1.0,\"#f0f921\"]]},\"colorway\":[\"#636efa\",\"#EF553B\",\"#00cc96\",\"#ab63fa\",\"#FFA15A\",\"#19d3f3\",\"#FF6692\",\"#B6E880\",\"#FF97FF\",\"#FECB52\"],\"font\":{\"color\":\"#2a3f5f\"},\"geo\":{\"bgcolor\":\"white\",\"lakecolor\":\"white\",\"landcolor\":\"white\",\"showlakes\":true,\"showland\":true,\"subunitcolor\":\"#C8D4E3\"},\"hoverlabel\":{\"align\":\"left\"},\"hovermode\":\"closest\",\"mapbox\":{\"style\":\"light\"},\"paper_bgcolor\":\"white\",\"plot_bgcolor\":\"white\",\"polar\":{\"angularaxis\":{\"gridcolor\":\"#EBF0F8\",\"linecolor\":\"#EBF0F8\",\"ticks\":\"\"},\"bgcolor\":\"white\",\"radialaxis\":{\"gridcolor\":\"#EBF0F8\",\"linecolor\":\"#EBF0F8\",\"ticks\":\"\"}},\"scene\":{\"xaxis\":{\"backgroundcolor\":\"white\",\"gridcolor\":\"#DFE8F3\",\"gridwidth\":2,\"linecolor\":\"#EBF0F8\",\"showbackground\":true,\"ticks\":\"\",\"zerolinecolor\":\"#EBF0F8\"},\"yaxis\":{\"backgroundcolor\":\"white\",\"gridcolor\":\"#DFE8F3\",\"gridwidth\":2,\"linecolor\":\"#EBF0F8\",\"showbackground\":true,\"ticks\":\"\",\"zerolinecolor\":\"#EBF0F8\"},\"zaxis\":{\"backgroundcolor\":\"white\",\"gridcolor\":\"#DFE8F3\",\"gridwidth\":2,\"linecolor\":\"#EBF0F8\",\"showbackground\":true,\"ticks\":\"\",\"zerolinecolor\":\"#EBF0F8\"}},\"shapedefaults\":{\"line\":{\"color\":\"#2a3f5f\"}},\"ternary\":{\"aaxis\":{\"gridcolor\":\"#DFE8F3\",\"linecolor\":\"#A2B1C6\",\"ticks\":\"\"},\"baxis\":{\"gridcolor\":\"#DFE8F3\",\"linecolor\":\"#A2B1C6\",\"ticks\":\"\"},\"bgcolor\":\"white\",\"caxis\":{\"gridcolor\":\"#DFE8F3\",\"linecolor\":\"#A2B1C6\",\"ticks\":\"\"}},\"title\":{\"x\":0.05},\"xaxis\":{\"automargin\":true,\"gridcolor\":\"#EBF0F8\",\"linecolor\":\"#EBF0F8\",\"ticks\":\"\",\"title\":{\"standoff\":15},\"zerolinecolor\":\"#EBF0F8\",\"zerolinewidth\":2},\"yaxis\":{\"automargin\":true,\"gridcolor\":\"#EBF0F8\",\"linecolor\":\"#EBF0F8\",\"ticks\":\"\",\"title\":{\"standoff\":15},\"zerolinecolor\":\"#EBF0F8\",\"zerolinewidth\":2}}},\"xaxis\":{\"anchor\":\"y\",\"domain\":[0.0,0.175],\"showgrid\":true},\"yaxis\":{\"anchor\":\"x\",\"domain\":[0.936,1.0],\"showgrid\":true},\"xaxis2\":{\"anchor\":\"y2\",\"domain\":[0.275,0.45],\"showgrid\":true},\"yaxis2\":{\"anchor\":\"x2\",\"domain\":[0.936,1.0],\"showgrid\":true},\"xaxis3\":{\"anchor\":\"y3\",\"domain\":[0.55,0.7250000000000001],\"showgrid\":true},\"yaxis3\":{\"anchor\":\"x3\",\"domain\":[0.936,1.0],\"showgrid\":true},\"xaxis4\":{\"anchor\":\"y4\",\"domain\":[0.825,1.0],\"showgrid\":true},\"yaxis4\":{\"anchor\":\"x4\",\"domain\":[0.936,1.0],\"showgrid\":true},\"xaxis5\":{\"anchor\":\"y5\",\"domain\":[0.0,0.175],\"showgrid\":true},\"yaxis5\":{\"anchor\":\"x5\",\"domain\":[0.8320000000000001,0.8960000000000001],\"showgrid\":true},\"xaxis6\":{\"anchor\":\"y6\",\"domain\":[0.275,0.45],\"showgrid\":true},\"yaxis6\":{\"anchor\":\"x6\",\"domain\":[0.8320000000000001,0.8960000000000001],\"showgrid\":true},\"xaxis7\":{\"anchor\":\"y7\",\"domain\":[0.55,0.7250000000000001],\"showgrid\":true},\"yaxis7\":{\"anchor\":\"x7\",\"domain\":[0.8320000000000001,0.8960000000000001],\"showgrid\":true},\"xaxis8\":{\"anchor\":\"y8\",\"domain\":[0.825,1.0],\"showgrid\":true},\"yaxis8\":{\"anchor\":\"x8\",\"domain\":[0.8320000000000001,0.8960000000000001],\"showgrid\":true},\"xaxis9\":{\"anchor\":\"y9\",\"domain\":[0.0,0.175],\"showgrid\":true},\"yaxis9\":{\"anchor\":\"x9\",\"domain\":[0.728,0.792],\"showgrid\":true},\"xaxis10\":{\"anchor\":\"y10\",\"domain\":[0.275,0.45],\"showgrid\":true},\"yaxis10\":{\"anchor\":\"x10\",\"domain\":[0.728,0.792],\"showgrid\":true},\"xaxis11\":{\"anchor\":\"y11\",\"domain\":[0.55,0.7250000000000001],\"showgrid\":true},\"yaxis11\":{\"anchor\":\"x11\",\"domain\":[0.728,0.792],\"showgrid\":true},\"xaxis12\":{\"anchor\":\"y12\",\"domain\":[0.825,1.0],\"showgrid\":true},\"yaxis12\":{\"anchor\":\"x12\",\"domain\":[0.728,0.792],\"showgrid\":true},\"xaxis13\":{\"anchor\":\"y13\",\"domain\":[0.0,0.175],\"showgrid\":true},\"yaxis13\":{\"anchor\":\"x13\",\"domain\":[0.624,0.688],\"showgrid\":true},\"xaxis14\":{\"anchor\":\"y14\",\"domain\":[0.275,0.45],\"showgrid\":true},\"yaxis14\":{\"anchor\":\"x14\",\"domain\":[0.624,0.688],\"showgrid\":true},\"xaxis15\":{\"anchor\":\"y15\",\"domain\":[0.55,0.7250000000000001],\"showgrid\":true},\"yaxis15\":{\"anchor\":\"x15\",\"domain\":[0.624,0.688],\"showgrid\":true},\"xaxis16\":{\"anchor\":\"y16\",\"domain\":[0.825,1.0],\"showgrid\":true},\"yaxis16\":{\"anchor\":\"x16\",\"domain\":[0.624,0.688],\"showgrid\":true},\"xaxis17\":{\"anchor\":\"y17\",\"domain\":[0.0,0.175],\"showgrid\":true},\"yaxis17\":{\"anchor\":\"x17\",\"domain\":[0.52,0.5840000000000001],\"showgrid\":true},\"xaxis18\":{\"anchor\":\"y18\",\"domain\":[0.275,0.45],\"showgrid\":true},\"yaxis18\":{\"anchor\":\"x18\",\"domain\":[0.52,0.5840000000000001],\"showgrid\":true},\"xaxis19\":{\"anchor\":\"y19\",\"domain\":[0.55,0.7250000000000001],\"showgrid\":true},\"yaxis19\":{\"anchor\":\"x19\",\"domain\":[0.52,0.5840000000000001],\"showgrid\":true},\"xaxis20\":{\"anchor\":\"y20\",\"domain\":[0.825,1.0],\"showgrid\":true},\"yaxis20\":{\"anchor\":\"x20\",\"domain\":[0.52,0.5840000000000001],\"showgrid\":true},\"xaxis21\":{\"anchor\":\"y21\",\"domain\":[0.0,0.175],\"showgrid\":true},\"yaxis21\":{\"anchor\":\"x21\",\"domain\":[0.41600000000000004,0.48000000000000004],\"showgrid\":true},\"xaxis22\":{\"anchor\":\"y22\",\"domain\":[0.275,0.45],\"showgrid\":true},\"yaxis22\":{\"anchor\":\"x22\",\"domain\":[0.41600000000000004,0.48000000000000004],\"showgrid\":true},\"xaxis23\":{\"anchor\":\"y23\",\"domain\":[0.55,0.7250000000000001],\"showgrid\":true},\"yaxis23\":{\"anchor\":\"x23\",\"domain\":[0.41600000000000004,0.48000000000000004],\"showgrid\":true},\"xaxis24\":{\"anchor\":\"y24\",\"domain\":[0.825,1.0],\"showgrid\":true},\"yaxis24\":{\"anchor\":\"x24\",\"domain\":[0.41600000000000004,0.48000000000000004],\"showgrid\":true},\"xaxis25\":{\"anchor\":\"y25\",\"domain\":[0.0,0.175],\"showgrid\":true},\"yaxis25\":{\"anchor\":\"x25\",\"domain\":[0.312,0.376],\"showgrid\":true},\"xaxis26\":{\"anchor\":\"y26\",\"domain\":[0.275,0.45],\"showgrid\":true},\"yaxis26\":{\"anchor\":\"x26\",\"domain\":[0.312,0.376],\"showgrid\":true},\"xaxis27\":{\"anchor\":\"y27\",\"domain\":[0.55,0.7250000000000001],\"showgrid\":true},\"yaxis27\":{\"anchor\":\"x27\",\"domain\":[0.312,0.376],\"showgrid\":true},\"xaxis28\":{\"anchor\":\"y28\",\"domain\":[0.825,1.0],\"showgrid\":true},\"yaxis28\":{\"anchor\":\"x28\",\"domain\":[0.312,0.376],\"showgrid\":true},\"xaxis29\":{\"anchor\":\"y29\",\"domain\":[0.0,0.175],\"showgrid\":true},\"yaxis29\":{\"anchor\":\"x29\",\"domain\":[0.20800000000000002,0.272],\"showgrid\":true},\"xaxis30\":{\"anchor\":\"y30\",\"domain\":[0.275,0.45],\"showgrid\":true},\"yaxis30\":{\"anchor\":\"x30\",\"domain\":[0.20800000000000002,0.272],\"showgrid\":true},\"xaxis31\":{\"anchor\":\"y31\",\"domain\":[0.55,0.7250000000000001],\"showgrid\":true},\"yaxis31\":{\"anchor\":\"x31\",\"domain\":[0.20800000000000002,0.272],\"showgrid\":true},\"xaxis32\":{\"anchor\":\"y32\",\"domain\":[0.825,1.0],\"showgrid\":true},\"yaxis32\":{\"anchor\":\"x32\",\"domain\":[0.20800000000000002,0.272],\"showgrid\":true},\"xaxis33\":{\"anchor\":\"y33\",\"domain\":[0.0,0.175],\"showgrid\":true},\"yaxis33\":{\"anchor\":\"x33\",\"domain\":[0.10400000000000001,0.168],\"showgrid\":true},\"xaxis34\":{\"anchor\":\"y34\",\"domain\":[0.275,0.45],\"showgrid\":true},\"yaxis34\":{\"anchor\":\"x34\",\"domain\":[0.10400000000000001,0.168],\"showgrid\":true},\"xaxis35\":{\"anchor\":\"y35\",\"domain\":[0.55,0.7250000000000001],\"showgrid\":true},\"yaxis35\":{\"anchor\":\"x35\",\"domain\":[0.10400000000000001,0.168],\"showgrid\":true},\"xaxis36\":{\"anchor\":\"y36\",\"domain\":[0.825,1.0],\"showgrid\":true},\"yaxis36\":{\"anchor\":\"x36\",\"domain\":[0.10400000000000001,0.168],\"showgrid\":true},\"xaxis37\":{\"anchor\":\"y37\",\"domain\":[0.0,0.175],\"showgrid\":true},\"yaxis37\":{\"anchor\":\"x37\",\"domain\":[0.0,0.064],\"showgrid\":true},\"xaxis38\":{\"anchor\":\"y38\",\"domain\":[0.275,0.45],\"showgrid\":true},\"yaxis38\":{\"anchor\":\"x38\",\"domain\":[0.0,0.064],\"showgrid\":true},\"xaxis39\":{\"anchor\":\"y39\",\"domain\":[0.55,0.7250000000000001],\"showgrid\":true},\"yaxis39\":{\"anchor\":\"x39\",\"domain\":[0.0,0.064],\"showgrid\":true},\"xaxis40\":{\"anchor\":\"y40\",\"domain\":[0.825,1.0],\"showgrid\":true},\"yaxis40\":{\"anchor\":\"x40\",\"domain\":[0.0,0.064],\"showgrid\":true},\"annotations\":[{\"font\":{\"size\":16},\"showarrow\":false,\"text\":\"Topic 0\",\"x\":0.0875,\"xanchor\":\"center\",\"xref\":\"paper\",\"y\":1.0,\"yanchor\":\"bottom\",\"yref\":\"paper\"},{\"font\":{\"size\":16},\"showarrow\":false,\"text\":\"Topic 1\",\"x\":0.36250000000000004,\"xanchor\":\"center\",\"xref\":\"paper\",\"y\":1.0,\"yanchor\":\"bottom\",\"yref\":\"paper\"},{\"font\":{\"size\":16},\"showarrow\":false,\"text\":\"Topic 2\",\"x\":0.6375000000000001,\"xanchor\":\"center\",\"xref\":\"paper\",\"y\":1.0,\"yanchor\":\"bottom\",\"yref\":\"paper\"},{\"font\":{\"size\":16},\"showarrow\":false,\"text\":\"Topic 3\",\"x\":0.9125,\"xanchor\":\"center\",\"xref\":\"paper\",\"y\":1.0,\"yanchor\":\"bottom\",\"yref\":\"paper\"},{\"font\":{\"size\":16},\"showarrow\":false,\"text\":\"Topic 4\",\"x\":0.0875,\"xanchor\":\"center\",\"xref\":\"paper\",\"y\":0.8960000000000001,\"yanchor\":\"bottom\",\"yref\":\"paper\"},{\"font\":{\"size\":16},\"showarrow\":false,\"text\":\"Topic 5\",\"x\":0.36250000000000004,\"xanchor\":\"center\",\"xref\":\"paper\",\"y\":0.8960000000000001,\"yanchor\":\"bottom\",\"yref\":\"paper\"},{\"font\":{\"size\":16},\"showarrow\":false,\"text\":\"Topic 6\",\"x\":0.6375000000000001,\"xanchor\":\"center\",\"xref\":\"paper\",\"y\":0.8960000000000001,\"yanchor\":\"bottom\",\"yref\":\"paper\"},{\"font\":{\"size\":16},\"showarrow\":false,\"text\":\"Topic 7\",\"x\":0.9125,\"xanchor\":\"center\",\"xref\":\"paper\",\"y\":0.8960000000000001,\"yanchor\":\"bottom\",\"yref\":\"paper\"},{\"font\":{\"size\":16},\"showarrow\":false,\"text\":\"Topic 8\",\"x\":0.0875,\"xanchor\":\"center\",\"xref\":\"paper\",\"y\":0.792,\"yanchor\":\"bottom\",\"yref\":\"paper\"},{\"font\":{\"size\":16},\"showarrow\":false,\"text\":\"Topic 9\",\"x\":0.36250000000000004,\"xanchor\":\"center\",\"xref\":\"paper\",\"y\":0.792,\"yanchor\":\"bottom\",\"yref\":\"paper\"},{\"font\":{\"size\":16},\"showarrow\":false,\"text\":\"Topic 10\",\"x\":0.6375000000000001,\"xanchor\":\"center\",\"xref\":\"paper\",\"y\":0.792,\"yanchor\":\"bottom\",\"yref\":\"paper\"},{\"font\":{\"size\":16},\"showarrow\":false,\"text\":\"Topic 11\",\"x\":0.9125,\"xanchor\":\"center\",\"xref\":\"paper\",\"y\":0.792,\"yanchor\":\"bottom\",\"yref\":\"paper\"},{\"font\":{\"size\":16},\"showarrow\":false,\"text\":\"Topic 12\",\"x\":0.0875,\"xanchor\":\"center\",\"xref\":\"paper\",\"y\":0.688,\"yanchor\":\"bottom\",\"yref\":\"paper\"},{\"font\":{\"size\":16},\"showarrow\":false,\"text\":\"Topic 13\",\"x\":0.36250000000000004,\"xanchor\":\"center\",\"xref\":\"paper\",\"y\":0.688,\"yanchor\":\"bottom\",\"yref\":\"paper\"},{\"font\":{\"size\":16},\"showarrow\":false,\"text\":\"Topic 14\",\"x\":0.6375000000000001,\"xanchor\":\"center\",\"xref\":\"paper\",\"y\":0.688,\"yanchor\":\"bottom\",\"yref\":\"paper\"},{\"font\":{\"size\":16},\"showarrow\":false,\"text\":\"Topic 15\",\"x\":0.9125,\"xanchor\":\"center\",\"xref\":\"paper\",\"y\":0.688,\"yanchor\":\"bottom\",\"yref\":\"paper\"},{\"font\":{\"size\":16},\"showarrow\":false,\"text\":\"Topic 16\",\"x\":0.0875,\"xanchor\":\"center\",\"xref\":\"paper\",\"y\":0.5840000000000001,\"yanchor\":\"bottom\",\"yref\":\"paper\"},{\"font\":{\"size\":16},\"showarrow\":false,\"text\":\"Topic 17\",\"x\":0.36250000000000004,\"xanchor\":\"center\",\"xref\":\"paper\",\"y\":0.5840000000000001,\"yanchor\":\"bottom\",\"yref\":\"paper\"},{\"font\":{\"size\":16},\"showarrow\":false,\"text\":\"Topic 18\",\"x\":0.6375000000000001,\"xanchor\":\"center\",\"xref\":\"paper\",\"y\":0.5840000000000001,\"yanchor\":\"bottom\",\"yref\":\"paper\"},{\"font\":{\"size\":16},\"showarrow\":false,\"text\":\"Topic 19\",\"x\":0.9125,\"xanchor\":\"center\",\"xref\":\"paper\",\"y\":0.5840000000000001,\"yanchor\":\"bottom\",\"yref\":\"paper\"},{\"font\":{\"size\":16},\"showarrow\":false,\"text\":\"Topic 20\",\"x\":0.0875,\"xanchor\":\"center\",\"xref\":\"paper\",\"y\":0.48000000000000004,\"yanchor\":\"bottom\",\"yref\":\"paper\"},{\"font\":{\"size\":16},\"showarrow\":false,\"text\":\"Topic 21\",\"x\":0.36250000000000004,\"xanchor\":\"center\",\"xref\":\"paper\",\"y\":0.48000000000000004,\"yanchor\":\"bottom\",\"yref\":\"paper\"},{\"font\":{\"size\":16},\"showarrow\":false,\"text\":\"Topic 22\",\"x\":0.6375000000000001,\"xanchor\":\"center\",\"xref\":\"paper\",\"y\":0.48000000000000004,\"yanchor\":\"bottom\",\"yref\":\"paper\"},{\"font\":{\"size\":16},\"showarrow\":false,\"text\":\"Topic 23\",\"x\":0.9125,\"xanchor\":\"center\",\"xref\":\"paper\",\"y\":0.48000000000000004,\"yanchor\":\"bottom\",\"yref\":\"paper\"},{\"font\":{\"size\":16},\"showarrow\":false,\"text\":\"Topic 24\",\"x\":0.0875,\"xanchor\":\"center\",\"xref\":\"paper\",\"y\":0.376,\"yanchor\":\"bottom\",\"yref\":\"paper\"},{\"font\":{\"size\":16},\"showarrow\":false,\"text\":\"Topic 25\",\"x\":0.36250000000000004,\"xanchor\":\"center\",\"xref\":\"paper\",\"y\":0.376,\"yanchor\":\"bottom\",\"yref\":\"paper\"},{\"font\":{\"size\":16},\"showarrow\":false,\"text\":\"Topic 26\",\"x\":0.6375000000000001,\"xanchor\":\"center\",\"xref\":\"paper\",\"y\":0.376,\"yanchor\":\"bottom\",\"yref\":\"paper\"},{\"font\":{\"size\":16},\"showarrow\":false,\"text\":\"Topic 27\",\"x\":0.9125,\"xanchor\":\"center\",\"xref\":\"paper\",\"y\":0.376,\"yanchor\":\"bottom\",\"yref\":\"paper\"},{\"font\":{\"size\":16},\"showarrow\":false,\"text\":\"Topic 28\",\"x\":0.0875,\"xanchor\":\"center\",\"xref\":\"paper\",\"y\":0.272,\"yanchor\":\"bottom\",\"yref\":\"paper\"},{\"font\":{\"size\":16},\"showarrow\":false,\"text\":\"Topic 29\",\"x\":0.36250000000000004,\"xanchor\":\"center\",\"xref\":\"paper\",\"y\":0.272,\"yanchor\":\"bottom\",\"yref\":\"paper\"},{\"font\":{\"size\":16},\"showarrow\":false,\"text\":\"Topic 30\",\"x\":0.6375000000000001,\"xanchor\":\"center\",\"xref\":\"paper\",\"y\":0.272,\"yanchor\":\"bottom\",\"yref\":\"paper\"},{\"font\":{\"size\":16},\"showarrow\":false,\"text\":\"Topic 31\",\"x\":0.9125,\"xanchor\":\"center\",\"xref\":\"paper\",\"y\":0.272,\"yanchor\":\"bottom\",\"yref\":\"paper\"},{\"font\":{\"size\":16},\"showarrow\":false,\"text\":\"Topic 32\",\"x\":0.0875,\"xanchor\":\"center\",\"xref\":\"paper\",\"y\":0.168,\"yanchor\":\"bottom\",\"yref\":\"paper\"},{\"font\":{\"size\":16},\"showarrow\":false,\"text\":\"Topic 33\",\"x\":0.36250000000000004,\"xanchor\":\"center\",\"xref\":\"paper\",\"y\":0.168,\"yanchor\":\"bottom\",\"yref\":\"paper\"},{\"font\":{\"size\":16},\"showarrow\":false,\"text\":\"Topic 34\",\"x\":0.6375000000000001,\"xanchor\":\"center\",\"xref\":\"paper\",\"y\":0.168,\"yanchor\":\"bottom\",\"yref\":\"paper\"},{\"font\":{\"size\":16},\"showarrow\":false,\"text\":\"Topic 35\",\"x\":0.9125,\"xanchor\":\"center\",\"xref\":\"paper\",\"y\":0.168,\"yanchor\":\"bottom\",\"yref\":\"paper\"},{\"font\":{\"size\":16},\"showarrow\":false,\"text\":\"Topic 36\",\"x\":0.0875,\"xanchor\":\"center\",\"xref\":\"paper\",\"y\":0.064,\"yanchor\":\"bottom\",\"yref\":\"paper\"},{\"font\":{\"size\":16},\"showarrow\":false,\"text\":\"Topic 37\",\"x\":0.36250000000000004,\"xanchor\":\"center\",\"xref\":\"paper\",\"y\":0.064,\"yanchor\":\"bottom\",\"yref\":\"paper\"},{\"font\":{\"size\":16},\"showarrow\":false,\"text\":\"Topic 38\",\"x\":0.6375000000000001,\"xanchor\":\"center\",\"xref\":\"paper\",\"y\":0.064,\"yanchor\":\"bottom\",\"yref\":\"paper\"},{\"font\":{\"size\":16},\"showarrow\":false,\"text\":\"Topic 39\",\"x\":0.9125,\"xanchor\":\"center\",\"xref\":\"paper\",\"y\":0.064,\"yanchor\":\"bottom\",\"yref\":\"paper\"}],\"title\":{\"font\":{\"size\":22,\"color\":\"Black\"},\"text\":\"Topic Word Scores\",\"x\":0.5,\"xanchor\":\"center\",\"yanchor\":\"top\"},\"hoverlabel\":{\"font\":{\"size\":16,\"family\":\"Rockwell\"},\"bgcolor\":\"white\"},\"showlegend\":false,\"width\":1000,\"height\":2500},                        {\"responsive\": true}                    ).then(function(){\n",
       "                            \n",
       "var gd = document.getElementById('006fca11-5ee7-4d81-9c45-1f61a8d7ae32');\n",
       "var x = new MutationObserver(function (mutations, observer) {{\n",
       "        var display = window.getComputedStyle(gd).display;\n",
       "        if (!display || display === 'none') {{\n",
       "            console.log([gd, 'removed!']);\n",
       "            Plotly.purge(gd);\n",
       "            observer.disconnect();\n",
       "        }}\n",
       "}});\n",
       "\n",
       "// Listen for the removal of the full notebook cells\n",
       "var notebookContainer = gd.closest('#notebook-container');\n",
       "if (notebookContainer) {{\n",
       "    x.observe(notebookContainer, {childList: true});\n",
       "}}\n",
       "\n",
       "// Listen for the clearing of the current output cell\n",
       "var outputEl = gd.closest('.output');\n",
       "if (outputEl) {{\n",
       "    x.observe(outputEl, {childList: true});\n",
       "}}\n",
       "\n",
       "                        })                };                });            </script>        </div>"
      ]
     },
     "metadata": {},
     "output_type": "display_data"
    }
   ],
   "source": [
    "topic_model.visualize_barchart(top_n_topics = 40, n_words = 20)"
   ]
  },
  {
   "cell_type": "code",
   "execution_count": 1184,
   "metadata": {},
   "outputs": [
    {
     "data": {
      "text/html": [
       "<div>\n",
       "<style scoped>\n",
       "    .dataframe tbody tr th:only-of-type {\n",
       "        vertical-align: middle;\n",
       "    }\n",
       "\n",
       "    .dataframe tbody tr th {\n",
       "        vertical-align: top;\n",
       "    }\n",
       "\n",
       "    .dataframe thead th {\n",
       "        text-align: right;\n",
       "    }\n",
       "</style>\n",
       "<table border=\"1\" class=\"dataframe\">\n",
       "  <thead>\n",
       "    <tr style=\"text-align: right;\">\n",
       "      <th></th>\n",
       "      <th>Topic</th>\n",
       "      <th>Count</th>\n",
       "      <th>Name</th>\n",
       "      <th>Representation</th>\n",
       "      <th>Aspect1</th>\n",
       "      <th>Aspect2</th>\n",
       "      <th>Representative_Docs</th>\n",
       "    </tr>\n",
       "  </thead>\n",
       "  <tbody>\n",
       "    <tr>\n",
       "      <th>0</th>\n",
       "      <td>-1</td>\n",
       "      <td>4533</td>\n",
       "      <td>-1_park_berlin_parks_visit</td>\n",
       "      <td>[park, berlin, parks, visit, relaxing, nearby,...</td>\n",
       "      <td>[park, nice, place, beautiful, great, good, pe...</td>\n",
       "      <td>[park, berlin, visit, relaxing, nearby, river,...</td>\n",
       "      <td>[So beautiful and green I absolutely love just...</td>\n",
       "    </tr>\n",
       "    <tr>\n",
       "      <th>1</th>\n",
       "      <td>0</td>\n",
       "      <td>2943</td>\n",
       "      <td>0_park_nearby_playgrounds_playground</td>\n",
       "      <td>[park, nearby, playgrounds, playground, promen...</td>\n",
       "      <td>[park, nice, place, playground, walk, small, b...</td>\n",
       "      <td>[park, nearby, playgrounds, promenade, garden,...</td>\n",
       "      <td>[Very nice park.', Very nice park', Very nice ...</td>\n",
       "    </tr>\n",
       "    <tr>\n",
       "      <th>2</th>\n",
       "      <td>1</td>\n",
       "      <td>1187</td>\n",
       "      <td>1_berlin_berlins_brandenburg_park</td>\n",
       "      <td>[berlin, berlins, brandenburg, park, monuments...</td>\n",
       "      <td>[zoo, park, animals, city, visit, place, build...</td>\n",
       "      <td>[berlins, brandenburg, park, attractions, zoo,...</td>\n",
       "      <td>[We were located 20 minutes walking distance f...</td>\n",
       "    </tr>\n",
       "    <tr>\n",
       "      <th>3</th>\n",
       "      <td>2</td>\n",
       "      <td>761</td>\n",
       "      <td>2_place_places_location_wonderful</td>\n",
       "      <td>[place, places, location, wonderful, visit, gr...</td>\n",
       "      <td>[place, nice, atmosphere, great, city, beautif...</td>\n",
       "      <td>[place, visit, lovely, paradise, museum, cozy,...</td>\n",
       "      <td>[nice place' , Very nice place', Nice place']</td>\n",
       "    </tr>\n",
       "    <tr>\n",
       "      <th>4</th>\n",
       "      <td>3</td>\n",
       "      <td>445</td>\n",
       "      <td>3_memorial_memorials_berlin_monument</td>\n",
       "      <td>[memorial, memorials, berlin, monument, monume...</td>\n",
       "      <td>[memorial, soviet, war, cemetery, soldiers, mo...</td>\n",
       "      <td>[memorials, berlin, soviets, reichstag, commem...</td>\n",
       "      <td>[A very beautiful memorial to fallen soldiers....</td>\n",
       "    </tr>\n",
       "    <tr>\n",
       "      <th>5</th>\n",
       "      <td>4</td>\n",
       "      <td>409</td>\n",
       "      <td>4_station_stations_subway_railway</td>\n",
       "      <td>[station, stations, subway, railway, trains, m...</td>\n",
       "      <td>[station, subway, train, parking, trains, u1, ...</td>\n",
       "      <td>[stations, subway, railway, metro, berlin, pas...</td>\n",
       "      <td>[It's just a subway station and nothing more',...</td>\n",
       "    </tr>\n",
       "    <tr>\n",
       "      <th>6</th>\n",
       "      <td>5</td>\n",
       "      <td>404</td>\n",
       "      <td>5_good_excellent_great_positively</td>\n",
       "      <td>[good, excellent, great, positively, wonderful...</td>\n",
       "      <td>[good, nice, cool, beautiful, great, impressiv...</td>\n",
       "      <td>[positively, liked, perfect, son, pretty, best...</td>\n",
       "      <td>[Good', Good', Good']</td>\n",
       "    </tr>\n",
       "    <tr>\n",
       "      <th>7</th>\n",
       "      <td>6</td>\n",
       "      <td>317</td>\n",
       "      <td>6_building_buildings_architecture_architectural</td>\n",
       "      <td>[building, buildings, architecture, architectu...</td>\n",
       "      <td>[church, building, architecture, tour, modern,...</td>\n",
       "      <td>[buildings, tower, cathedral, design, ruins, s...</td>\n",
       "      <td>[Beautiful building.', Very beautiful modern b...</td>\n",
       "    </tr>\n",
       "    <tr>\n",
       "      <th>8</th>\n",
       "      <td>7</td>\n",
       "      <td>288</td>\n",
       "      <td>7_cleanliness_dirty_cleaning_clean</td>\n",
       "      <td>[cleanliness, dirty, cleaning, clean, littered...</td>\n",
       "      <td>[clean, dirty, urine, rubbish, toilet, crowded...</td>\n",
       "      <td>[cleanliness, littered, dirt, toilets, rubbish...</td>\n",
       "      <td>[Nice but unfortunately a bit too dirty here.....</td>\n",
       "    </tr>\n",
       "    <tr>\n",
       "      <th>9</th>\n",
       "      <td>8</td>\n",
       "      <td>271</td>\n",
       "      <td>8_restaurant_meal_food_dishes</td>\n",
       "      <td>[restaurant, meal, food, dishes, customers, di...</td>\n",
       "      <td>[food, service, staff, menu, friendly, unfrien...</td>\n",
       "      <td>[restaurant, dishes, customers, served, tasty,...</td>\n",
       "      <td>[Great food, delicious wine and excellent serv...</td>\n",
       "    </tr>\n",
       "  </tbody>\n",
       "</table>\n",
       "</div>"
      ],
      "text/plain": [
       "   Topic  Count                                             Name  \\\n",
       "0     -1   4533                       -1_park_berlin_parks_visit   \n",
       "1      0   2943             0_park_nearby_playgrounds_playground   \n",
       "2      1   1187                1_berlin_berlins_brandenburg_park   \n",
       "3      2    761                2_place_places_location_wonderful   \n",
       "4      3    445             3_memorial_memorials_berlin_monument   \n",
       "5      4    409                4_station_stations_subway_railway   \n",
       "6      5    404                5_good_excellent_great_positively   \n",
       "7      6    317  6_building_buildings_architecture_architectural   \n",
       "8      7    288               7_cleanliness_dirty_cleaning_clean   \n",
       "9      8    271                    8_restaurant_meal_food_dishes   \n",
       "\n",
       "                                      Representation  \\\n",
       "0  [park, berlin, parks, visit, relaxing, nearby,...   \n",
       "1  [park, nearby, playgrounds, playground, promen...   \n",
       "2  [berlin, berlins, brandenburg, park, monuments...   \n",
       "3  [place, places, location, wonderful, visit, gr...   \n",
       "4  [memorial, memorials, berlin, monument, monume...   \n",
       "5  [station, stations, subway, railway, trains, m...   \n",
       "6  [good, excellent, great, positively, wonderful...   \n",
       "7  [building, buildings, architecture, architectu...   \n",
       "8  [cleanliness, dirty, cleaning, clean, littered...   \n",
       "9  [restaurant, meal, food, dishes, customers, di...   \n",
       "\n",
       "                                             Aspect1  \\\n",
       "0  [park, nice, place, beautiful, great, good, pe...   \n",
       "1  [park, nice, place, playground, walk, small, b...   \n",
       "2  [zoo, park, animals, city, visit, place, build...   \n",
       "3  [place, nice, atmosphere, great, city, beautif...   \n",
       "4  [memorial, soviet, war, cemetery, soldiers, mo...   \n",
       "5  [station, subway, train, parking, trains, u1, ...   \n",
       "6  [good, nice, cool, beautiful, great, impressiv...   \n",
       "7  [church, building, architecture, tour, modern,...   \n",
       "8  [clean, dirty, urine, rubbish, toilet, crowded...   \n",
       "9  [food, service, staff, menu, friendly, unfrien...   \n",
       "\n",
       "                                             Aspect2  \\\n",
       "0  [park, berlin, visit, relaxing, nearby, river,...   \n",
       "1  [park, nearby, playgrounds, promenade, garden,...   \n",
       "2  [berlins, brandenburg, park, attractions, zoo,...   \n",
       "3  [place, visit, lovely, paradise, museum, cozy,...   \n",
       "4  [memorials, berlin, soviets, reichstag, commem...   \n",
       "5  [stations, subway, railway, metro, berlin, pas...   \n",
       "6  [positively, liked, perfect, son, pretty, best...   \n",
       "7  [buildings, tower, cathedral, design, ruins, s...   \n",
       "8  [cleanliness, littered, dirt, toilets, rubbish...   \n",
       "9  [restaurant, dishes, customers, served, tasty,...   \n",
       "\n",
       "                                 Representative_Docs  \n",
       "0  [So beautiful and green I absolutely love just...  \n",
       "1  [Very nice park.', Very nice park', Very nice ...  \n",
       "2  [We were located 20 minutes walking distance f...  \n",
       "3      [nice place' , Very nice place', Nice place']  \n",
       "4  [A very beautiful memorial to fallen soldiers....  \n",
       "5  [It's just a subway station and nothing more',...  \n",
       "6                              [Good', Good', Good']  \n",
       "7  [Beautiful building.', Very beautiful modern b...  \n",
       "8  [Nice but unfortunately a bit too dirty here.....  \n",
       "9  [Great food, delicious wine and excellent serv...  "
      ]
     },
     "execution_count": 1184,
     "metadata": {},
     "output_type": "execute_result"
    }
   ],
   "source": [
    "topic_model.get_topic_info().head(10)"
   ]
  },
  {
   "cell_type": "code",
   "execution_count": 1174,
   "metadata": {},
   "outputs": [],
   "source": [
    "topics, probs = topic_model.fit_transform(docs)"
   ]
  },
  {
   "cell_type": "code",
   "execution_count": 1176,
   "metadata": {},
   "outputs": [],
   "source": [
    "#filtered_prob = topic_model.reduce_outliers(docs, topics, probabilities=probs, strategy=\"probabilities\")\n",
    "new_topics = topic_model.reduce_outliers(docs, topics , strategy=\"c-tf-idf\", threshold=0.1)"
   ]
  },
  {
   "cell_type": "code",
   "execution_count": 1187,
   "metadata": {},
   "outputs": [],
   "source": [
    "topic_df = topic_model.get_document_info(docs)"
   ]
  },
  {
   "cell_type": "code",
   "execution_count": 1192,
   "metadata": {},
   "outputs": [],
   "source": [
    "dirty_df = topic_df[topic_df['Topic'] == 7]"
   ]
  },
  {
   "cell_type": "code",
   "execution_count": null,
   "metadata": {},
   "outputs": [],
   "source": []
  },
  {
   "cell_type": "code",
   "execution_count": null,
   "metadata": {},
   "outputs": [],
   "source": []
  },
  {
   "cell_type": "code",
   "execution_count": null,
   "metadata": {},
   "outputs": [],
   "source": []
  },
  {
   "cell_type": "code",
   "execution_count": null,
   "metadata": {},
   "outputs": [],
   "source": []
  },
  {
   "cell_type": "code",
   "execution_count": null,
   "metadata": {},
   "outputs": [],
   "source": []
  },
  {
   "cell_type": "code",
   "execution_count": null,
   "metadata": {},
   "outputs": [],
   "source": []
  },
  {
   "cell_type": "code",
   "execution_count": 1186,
   "metadata": {},
   "outputs": [
    {
     "ename": "TypeError",
     "evalue": "'BERTopic' object is not subscriptable",
     "output_type": "error",
     "traceback": [
      "\u001b[0;31m---------------------------------------------------------------------------\u001b[0m",
      "\u001b[0;31mTypeError\u001b[0m                                 Traceback (most recent call last)",
      "Cell \u001b[0;32mIn[1186], line 1\u001b[0m\n\u001b[0;32m----> 1\u001b[0m \u001b[43mtopic_model\u001b[49m\u001b[43m[\u001b[49m\u001b[43mtopic_model\u001b[49m\u001b[38;5;241;43m.\u001b[39;49m\u001b[43mget_document_info\u001b[49m\u001b[43m(\u001b[49m\u001b[43mdocs\u001b[49m\u001b[43m)\u001b[49m\u001b[43m[\u001b[49m\u001b[38;5;124;43m'\u001b[39;49m\u001b[38;5;124;43mTopic\u001b[39;49m\u001b[38;5;124;43m'\u001b[39;49m\u001b[43m]\u001b[49m\u001b[43m \u001b[49m\u001b[38;5;241;43m==\u001b[39;49m\u001b[43m \u001b[49m\u001b[38;5;241;43m7\u001b[39;49m\u001b[43m]\u001b[49m\n",
      "\u001b[0;31mTypeError\u001b[0m: 'BERTopic' object is not subscriptable"
     ]
    }
   ],
   "source": [
    "topic_model.get_document_info(docs)['Topic'] == 7"
   ]
  },
  {
   "cell_type": "code",
   "execution_count": null,
   "metadata": {},
   "outputs": [],
   "source": []
  },
  {
   "cell_type": "code",
   "execution_count": null,
   "metadata": {},
   "outputs": [],
   "source": []
  },
  {
   "cell_type": "code",
   "execution_count": 1143,
   "metadata": {},
   "outputs": [],
   "source": [
    "topic_model = BERTopic(calculate_probabilities=True, vectorizer_model=vectorizer_model)"
   ]
  },
  {
   "cell_type": "code",
   "execution_count": 1144,
   "metadata": {},
   "outputs": [],
   "source": [
    "topics, probs = topic_model.fit_transform(docs)"
   ]
  },
  {
   "cell_type": "code",
   "execution_count": 1145,
   "metadata": {},
   "outputs": [
    {
     "ename": "AttributeError",
     "evalue": "'list' object has no attribute 'reduce_outliers'",
     "output_type": "error",
     "traceback": [
      "\u001b[0;31m---------------------------------------------------------------------------\u001b[0m",
      "\u001b[0;31mAttributeError\u001b[0m                            Traceback (most recent call last)",
      "Cell \u001b[0;32mIn[1145], line 2\u001b[0m\n\u001b[1;32m      1\u001b[0m filtered_prob \u001b[38;5;241m=\u001b[39m topic_model\u001b[38;5;241m.\u001b[39mreduce_outliers(docs, topics, probabilities\u001b[38;5;241m=\u001b[39mprobs, strategy\u001b[38;5;241m=\u001b[39m\u001b[38;5;124m\"\u001b[39m\u001b[38;5;124mprobabilities\u001b[39m\u001b[38;5;124m\"\u001b[39m)\n\u001b[0;32m----> 2\u001b[0m new_topics \u001b[38;5;241m=\u001b[39m \u001b[43mfiltered_prob\u001b[49m\u001b[38;5;241;43m.\u001b[39;49m\u001b[43mreduce_outliers\u001b[49m(docs, topics , strategy\u001b[38;5;241m=\u001b[39m\u001b[38;5;124m\"\u001b[39m\u001b[38;5;124mc-tf-idf\u001b[39m\u001b[38;5;124m\"\u001b[39m, threshold\u001b[38;5;241m=\u001b[39m\u001b[38;5;241m0.1\u001b[39m)\n",
      "\u001b[0;31mAttributeError\u001b[0m: 'list' object has no attribute 'reduce_outliers'"
     ]
    }
   ],
   "source": [
    "filtered_prob = topic_model.reduce_outliers(docs, topics, probabilities=probs, strategy=\"probabilities\")\n",
    "new_topics = filtered_prob.reduce_outliers(docs, topics , strategy=\"c-tf-idf\", threshold=0.1)"
   ]
  },
  {
   "cell_type": "code",
   "execution_count": null,
   "metadata": {},
   "outputs": [],
   "source": []
  },
  {
   "cell_type": "code",
   "execution_count": 1193,
   "metadata": {},
   "outputs": [],
   "source": [
    "#topic_model.visualize_barchart(top_n_topics = 20, n_words = 20)"
   ]
  },
  {
   "cell_type": "markdown",
   "metadata": {},
   "source": [
    "#### topics eda"
   ]
  },
  {
   "cell_type": "code",
   "execution_count": 1147,
   "metadata": {},
   "outputs": [],
   "source": [
    "topic_df = topic_model.get_topic_info()"
   ]
  },
  {
   "cell_type": "code",
   "execution_count": 1148,
   "metadata": {},
   "outputs": [],
   "source": [
    "doc_df = topic_model.get_document_info(docs)"
   ]
  },
  {
   "cell_type": "code",
   "execution_count": 1157,
   "metadata": {},
   "outputs": [],
   "source": [
    "from bertopic.representation import KeyBERTInspired\n",
    "from bertopic.representation import PartOfSpeech\n",
    "from bertopic.representation import MaximalMarginalRelevance\n",
    "from sklearn.datasets import fetch_20newsgroups\n",
    "\n",
    "main_representation = KeyBERTInspired()\n",
    "\n",
    "# Additional ways of representing a topic\n",
    "aspect_model1 = PartOfSpeech(\"en_core_web_sm\")\n",
    "aspect_model2 = [KeyBERTInspired(top_n_words=30), MaximalMarginalRelevance(diversity=.5)]\n",
    "\n",
    "# Add all models together to be run in a single `fit`\n",
    "representation_model = {\n",
    "   \"Main\": main_representation,\n",
    "   \"Aspect1\":  aspect_model1,\n",
    "   \"Aspect2\":  aspect_model2 \n",
    "}\n",
    "topic_model = BERTopic(representation_model=representation_model).fit(docs)\n"
   ]
  },
  {
   "cell_type": "code",
   "execution_count": 1158,
   "metadata": {},
   "outputs": [
    {
     "data": {
      "application/vnd.plotly.v1+json": {
       "config": {
        "plotlyServerURL": "https://plot.ly"
       },
       "data": [
        {
         "marker": {
          "color": "#D55E00"
         },
         "orientation": "h",
         "type": "bar",
         "x": [
          0.34732934832572937,
          0.3744238018989563,
          0.38036856055259705,
          0.3936407268047333,
          0.3959512710571289,
          0.40712884068489075,
          0.40725311636924744,
          0.45383554697036743,
          0.461212158203125,
          0.5424020886421204
         ],
         "xaxis": "x",
         "y": [
          "unfriendly  ",
          "staff  ",
          "dinner  ",
          "food  ",
          "kitchen  ",
          "waiter  ",
          "customers  ",
          "dishes  ",
          "meal  ",
          "restaurant  "
         ],
         "yaxis": "y"
        },
        {
         "marker": {
          "color": "#0072B2"
         },
         "orientation": "h",
         "type": "bar",
         "x": [
          0.2823217809200287,
          0.289053350687027,
          0.2993139624595642,
          0.3133280277252197,
          0.31374114751815796,
          0.31538522243499756,
          0.33587008714675903,
          0.37843307852745056,
          0.3830846846103668,
          0.6124483942985535
         ],
         "xaxis": "x2",
         "y": [
          "saturday  ",
          "weekly  ",
          "around  ",
          "markets  ",
          "sundays  ",
          "street  ",
          "weekend  ",
          "flea  ",
          "market  ",
          "fleamarket  "
         ],
         "yaxis": "y2"
        },
        {
         "marker": {
          "color": "#CC79A7"
         },
         "orientation": "h",
         "type": "bar",
         "x": [
          0.4379691481590271,
          0.497586190700531,
          0.5011242628097534,
          0.5388913750648499,
          0.5453356504440308,
          0.5768643617630005,
          0.6182644367218018,
          0.6968435049057007,
          0.7339281439781189,
          0.7824729681015015
         ],
         "xaxis": "x3",
         "y": [
          "art  ",
          "structure  ",
          "picturesque  ",
          "building  ",
          "design  ",
          "facade  ",
          "buildings  ",
          "architects  ",
          "architectural  ",
          "architecture  "
         ],
         "yaxis": "y3"
        },
        {
         "marker": {
          "color": "#E69F00"
         },
         "orientation": "h",
         "type": "bar",
         "x": [
          0.344432532787323,
          0.35594984889030457,
          0.37085598707199097,
          0.3766813576221466,
          0.3855227828025818,
          0.41207510232925415,
          0.41572633385658264,
          0.4515955448150635,
          0.4841926097869873,
          0.4937978684902191
         ],
         "xaxis": "x4",
         "y": [
          "unica  ",
          "rose  ",
          "appartata  ",
          "plants  ",
          "plant  ",
          "bello  ",
          "piccoli  ",
          "belli  ",
          "flowers  ",
          "garden  "
         ],
         "yaxis": "y4"
        },
        {
         "marker": {
          "color": "#56B4E9"
         },
         "orientation": "h",
         "type": "bar",
         "x": [
          0.23151232302188873,
          0.24496102333068848,
          0.2484624981880188,
          0.2681286036968231,
          0.29084086418151855,
          0.29410213232040405,
          0.30420252680778503,
          0.3238062262535095,
          0.4116530418395996,
          0.42483311891555786
         ],
         "xaxis": "x5",
         "y": [
          "any  ",
          "therefore  ",
          "construct  ",
          "frozen  ",
          "ne  ",
          "ningn  ",
          "none  ",
          "paradox  ",
          "empty  ",
          "non  "
         ],
         "yaxis": "y5"
        },
        {
         "marker": {
          "color": "#009E73"
         },
         "orientation": "h",
         "type": "bar",
         "x": [
          0.3669573664665222,
          0.3704330325126648,
          0.3761736750602722,
          0.39423972368240356,
          0.40339159965515137,
          0.5071828365325928,
          0.5346424579620361,
          0.5393307209014893,
          0.5961534976959229,
          0.7197776436805725
         ],
         "xaxis": "x6",
         "y": [
          "places  ",
          "regensburg  ",
          "city  ",
          "place  ",
          "germany  ",
          "berliner  ",
          "munich  ",
          "berliners  ",
          "berlinp  ",
          "berlin  "
         ],
         "yaxis": "y6"
        },
        {
         "marker": {
          "color": "#F0E442"
         },
         "orientation": "h",
         "type": "bar",
         "x": [
          0.32418355345726013,
          0.3346700370311737,
          0.35073211789131165,
          0.35760706663131714,
          0.3589761257171631,
          0.3839625120162964,
          0.44095027446746826,
          0.4541877508163452,
          0.47006756067276,
          0.4844158887863159
         ],
         "xaxis": "x7",
         "y": [
          "casualties  ",
          "soviet  ",
          "soviets  ",
          "wwii  ",
          "statue  ",
          "remembrance  ",
          "monument  ",
          "berlin  ",
          "memorials  ",
          "memorial  "
         ],
         "yaxis": "y7"
        },
        {
         "marker": {
          "color": "#D55E00"
         },
         "orientation": "h",
         "type": "bar",
         "x": [
          0.4079585671424866,
          0.4256742596626282,
          0.43812334537506104,
          0.4627036154270172,
          0.5462284088134766,
          0.5521897077560425,
          0.6017985343933105,
          0.6293275356292725,
          0.6328333020210266,
          0.6639453768730164
         ],
         "xaxis": "x8",
         "y": [
          "paths  ",
          "travelled  ",
          "pleasant  ",
          "walkway  ",
          "stroll  ",
          "strolling  ",
          "walks  ",
          "walked  ",
          "walking  ",
          "walk  "
         ],
         "yaxis": "y8"
        },
        {
         "marker": {
          "color": "#0072B2"
         },
         "orientation": "h",
         "type": "bar",
         "x": [
          0.3054414391517639,
          0.3315041959285736,
          0.3411885201931,
          0.346705824136734,
          0.34875261783599854,
          0.3488277494907379,
          0.37577205896377563,
          0.47058025002479553,
          0.5105009078979492,
          0.6535491347312927
         ],
         "xaxis": "x9",
         "y": [
          "garden  ",
          "station  ",
          "area  ",
          "place  ",
          "brauhaus  ",
          "rathaus  ",
          "friedrichshainkreuzberg  ",
          "kollwitz  ",
          "park  ",
          "kreuzberg  "
         ],
         "yaxis": "y9"
        },
        {
         "marker": {
          "color": "#CC79A7"
         },
         "orientation": "h",
         "type": "bar",
         "x": [
          0.44771355390548706,
          0.45361900329589844,
          0.46726328134536743,
          0.4753594994544983,
          0.5167357921600342,
          0.5184712409973145,
          0.5710382461547852,
          0.5832342505455017,
          0.6729947924613953,
          0.7118580341339111
         ],
         "xaxis": "x10",
         "y": [
          "picturesque  ",
          "lutheran  ",
          "choir  ",
          "protestant  ",
          "pastor  ",
          "theology  ",
          "sermons  ",
          "precisechurch  ",
          "churches  ",
          "church  "
         ],
         "yaxis": "y10"
        },
        {
         "marker": {
          "color": "#E69F00"
         },
         "orientation": "h",
         "type": "bar",
         "x": [
          0.4040282070636749,
          0.4100193381309509,
          0.417047381401062,
          0.44882869720458984,
          0.48828184604644775,
          0.49477243423461914,
          0.5313210487365723,
          0.5456144213676453,
          0.5766647458076477,
          0.5812851786613464
         ],
         "xaxis": "x11",
         "y": [
          "underground  ",
          "potsdamer  ",
          "railway  ",
          "stations  ",
          "subway  ",
          "station  ",
          "nordbahnhof  ",
          "berlinfrom  ",
          "berlin  ",
          "bahnhof  "
         ],
         "yaxis": "y11"
        },
        {
         "marker": {
          "color": "#56B4E9"
         },
         "orientation": "h",
         "type": "bar",
         "x": [
          0.3745272755622864,
          0.3766196370124817,
          0.3880658745765686,
          0.3988303244113922,
          0.3997037708759308,
          0.4237307906150818,
          0.4461388885974884,
          0.4625358283519745,
          0.5036150813102722,
          0.5600528120994568
         ],
         "xaxis": "x12",
         "y": [
          "walk  ",
          "grass  ",
          "leash  ",
          "parkour  ",
          "leashes  ",
          "meadows  ",
          "dog  ",
          "lawn  ",
          "dogs  ",
          "park  "
         ],
         "yaxis": "y12"
        },
        {
         "marker": {
          "color": "#009E73"
         },
         "orientation": "h",
         "type": "bar",
         "x": [
          0.4545716941356659,
          0.4688417315483093,
          0.5134637355804443,
          0.5165894031524658,
          0.5247153043746948,
          0.5612836480140686,
          0.5743761658668518,
          0.600326418876648,
          0.6131953001022339,
          0.7274051308631897
         ],
         "xaxis": "x13",
         "y": [
          "beatiful  ",
          "joyful  ",
          "thank  ",
          "amazing  ",
          "cute  ",
          "lovely  ",
          "stunning  ",
          "gorgeous  ",
          "pretty  ",
          "beautiful  "
         ],
         "yaxis": "y13"
        },
        {
         "marker": {
          "color": "#F0E442"
         },
         "orientation": "h",
         "type": "bar",
         "x": [
          0.4283984303474426,
          0.4283984303474426,
          0.4283984303474426,
          0.4283984303474426,
          0.4283984303474426,
          0.4283984303474426,
          0.4283984303474426,
          0.5166281461715698,
          0.5738956332206726,
          0.6793920993804932
         ],
         "xaxis": "x14",
         "y": [
          "  ",
          "  ",
          "  ",
          "  ",
          "  ",
          "  ",
          "  ",
          "kp  ",
          "jk  ",
          "1h1h11  "
         ],
         "yaxis": "y14"
        },
        {
         "marker": {
          "color": "#D55E00"
         },
         "orientation": "h",
         "type": "bar",
         "x": [
          0.3873036503791809,
          0.39180082082748413,
          0.40140700340270996,
          0.4018574357032776,
          0.40412139892578125,
          0.4142410457134247,
          0.42773258686065674,
          0.448398619890213,
          0.4580756425857544,
          0.5234577059745789
         ],
         "xaxis": "x15",
         "y": [
          "resto  ",
          "parco  ",
          "molto  ",
          "gratuiti  ",
          "una  ",
          "une  ",
          "veramente  ",
          "posto  ",
          "penso  ",
          "delle  "
         ],
         "yaxis": "y15"
        },
        {
         "marker": {
          "color": "#0072B2"
         },
         "orientation": "h",
         "type": "bar",
         "x": [
          0.3046630620956421,
          0.30509746074676514,
          0.3053455352783203,
          0.31782621145248413,
          0.347403883934021,
          0.35500895977020264,
          0.373272567987442,
          0.4435589909553528,
          0.48263686895370483,
          0.5291165113449097
         ],
         "xaxis": "x16",
         "y": [
          "homeless  ",
          "facility  ",
          "villages  ",
          "trash  ",
          "garbage  ",
          "litter  ",
          "graffiti  ",
          "parks  ",
          "parking  ",
          "park  "
         ],
         "yaxis": "y16"
        },
        {
         "marker": {
          "color": "#CC79A7"
         },
         "orientation": "h",
         "type": "bar",
         "x": [
          0.582374632358551,
          0.582374632358551,
          0.582374632358551,
          0.582374632358551,
          0.582374632358551,
          0.582374632358551,
          0.582374632358551,
          0.582374632358551,
          0.8276994228363037,
          0.8636152148246765
         ],
         "xaxis": "x17",
         "y": [
          "  ",
          "  ",
          "  ",
          "  ",
          "  ",
          "  ",
          "  ",
          "  ",
          "okay  ",
          "ok  "
         ],
         "yaxis": "y17"
        },
        {
         "marker": {
          "color": "#E69F00"
         },
         "orientation": "h",
         "type": "bar",
         "x": [
          0.2536563277244568,
          0.2666184604167938,
          0.2760978937149048,
          0.38709330558776855,
          0.40159064531326294,
          0.4444029927253723,
          0.4673007130622864,
          0.4715143144130707,
          0.47751283645629883,
          0.5377085208892822
         ],
         "xaxis": "x18",
         "y": [
          "tour  ",
          "runways  ",
          "aviation  ",
          "haupbahnhof  ",
          "tempelhofer  ",
          "airports  ",
          "airfield  ",
          "tempelhof  ",
          "airport  ",
          "berlin  "
         ],
         "yaxis": "y18"
        },
        {
         "marker": {
          "color": "#56B4E9"
         },
         "orientation": "h",
         "type": "bar",
         "x": [
          0.35566332936286926,
          0.35738110542297363,
          0.38451117277145386,
          0.41036516427993774,
          0.41297656297683716,
          0.4268810749053955,
          0.4375322461128235,
          0.44351252913475037,
          0.47810715436935425,
          0.5002326965332031
         ],
         "xaxis": "x19",
         "y": [
          "paradise  ",
          "daycare  ",
          "family  ",
          "facility  ",
          "kids  ",
          "families  ",
          "children  ",
          "childrenvery  ",
          "childrens  ",
          "place  "
         ],
         "yaxis": "y19"
        },
        {
         "marker": {
          "color": "#009E73"
         },
         "orientation": "h",
         "type": "bar",
         "x": [
          0.28483617305755615,
          0.2900225520133972,
          0.30290868878364563,
          0.3113817274570465,
          0.3254235088825226,
          0.3455551862716675,
          0.3481285870075226,
          0.4072043001651764,
          0.607671856880188,
          0.6250284910202026
         ],
         "xaxis": "x20",
         "y": [
          "species  ",
          "elephants  ",
          "visit  ",
          "aquarium  ",
          "animal  ",
          "visiting  ",
          "cages  ",
          "animals  ",
          "zoos  ",
          "zoo  "
         ],
         "yaxis": "y20"
        },
        {
         "marker": {
          "color": "#F0E442"
         },
         "orientation": "h",
         "type": "bar",
         "x": [
          0.38192713260650635,
          0.3958064615726471,
          0.3989834189414978,
          0.4261323809623718,
          0.4920370876789093,
          0.5668056011199951,
          0.5707437992095947,
          0.5720565915107727,
          0.6494818329811096,
          0.6569057703018188
         ],
         "xaxis": "x21",
         "y": [
          "whiskey  ",
          "pleasant  ",
          "cozy  ",
          "wines  ",
          "drinks  ",
          "bartenders  ",
          "bartender  ",
          "bar  ",
          "cocktail  ",
          "cocktails  "
         ],
         "yaxis": "y21"
        },
        {
         "marker": {
          "color": "#D55E00"
         },
         "orientation": "h",
         "type": "bar",
         "x": [
          0.3671632409095764,
          0.38105690479278564,
          0.3824712634086609,
          0.3879806399345398,
          0.43582335114479065,
          0.45290759205818176,
          0.463558554649353,
          0.49079105257987976,
          0.5224509835243225,
          0.5525248050689697
         ],
         "xaxis": "x22",
         "y": [
          "pricey  ",
          "prices  ",
          "furniturehouseware  ",
          "fashion  ",
          "clothes  ",
          "clothing  ",
          "thrift  ",
          "store  ",
          "stores  ",
          "shop  "
         ],
         "yaxis": "y22"
        },
        {
         "marker": {
          "color": "#0072B2"
         },
         "orientation": "h",
         "type": "bar",
         "x": [
          0.22041912376880646,
          0.24193046987056732,
          0.248393714427948,
          0.25049251317977905,
          0.26305925846099854,
          0.27720701694488525,
          0.28027477860450745,
          0.2803877592086792,
          0.3024801015853882,
          0.41724294424057007
         ],
         "xaxis": "x23",
         "y": [
          "addicts  ",
          "crimes  ",
          "dangerous  ",
          "unsafe  ",
          "police  ",
          "criminals  ",
          "neighborhood  ",
          "drug  ",
          "drugs  ",
          "park  "
         ],
         "yaxis": "y23"
        },
        {
         "marker": {
          "color": "#CC79A7"
         },
         "orientation": "h",
         "type": "bar",
         "x": [
          0.29135796427726746,
          0.30366572737693787,
          0.3047693967819214,
          0.31567245721817017,
          0.35584160685539246,
          0.3577805757522583,
          0.38598644733428955,
          0.417927086353302,
          0.4281875789165497,
          0.4381970763206482
         ],
         "xaxis": "x24",
         "y": [
          "delays  ",
          "carriages  ",
          "passenger  ",
          "traveling  ",
          "transport  ",
          "passengers  ",
          "neb  ",
          "train  ",
          "trains  ",
          "railway  "
         ],
         "yaxis": "y24"
        },
        {
         "marker": {
          "color": "#E69F00"
         },
         "orientation": "h",
         "type": "bar",
         "x": [
          0.37102821469306946,
          0.4035872220993042,
          0.4055348038673401,
          0.4649403691291809,
          0.4658656120300293,
          0.4750852584838867,
          0.49312061071395874,
          0.509993314743042,
          0.7886105179786682,
          0.8003358840942383
         ],
         "xaxis": "x25",
         "y": [
          "grandchildren  ",
          "childfriendly  ",
          "toys  ",
          "toddlers  ",
          "kids  ",
          "childrenthe  ",
          "children  ",
          "childrens  ",
          "playground  ",
          "playgrounds  "
         ],
         "yaxis": "y25"
        },
        {
         "marker": {
          "color": "#56B4E9"
         },
         "orientation": "h",
         "type": "bar",
         "x": [
          0.42724430561065674,
          0.4292099177837372,
          0.4488430917263031,
          0.4562534987926483,
          0.5463852286338806,
          0.5612743496894836,
          0.6465353965759277,
          0.6650898456573486,
          0.6694917678833008,
          0.704413115978241
         ],
         "xaxis": "x26",
         "y": [
          "reading  ",
          "cookbook  ",
          "recommendation  ",
          "recommendations  ",
          "book  ",
          "booksellers  ",
          "books  ",
          "bookstorebest  ",
          "bookshop  ",
          "bookstore  "
         ],
         "yaxis": "y26"
        },
        {
         "marker": {
          "color": "#009E73"
         },
         "orientation": "h",
         "type": "bar",
         "x": [
          0.31590279936790466,
          0.3264283537864685,
          0.3266776204109192,
          0.34618711471557617,
          0.35215333104133606,
          0.35487404465675354,
          0.3708239197731018,
          0.3859301209449768,
          0.5744681358337402,
          0.5751020908355713
         ],
         "xaxis": "x27",
         "y": [
          "engels  ",
          "sculptures  ",
          "revolutionary  ",
          "philosopher  ",
          "socialist  ",
          "manifesto  ",
          "monument  ",
          "friedrich  ",
          "marxengelsforum  ",
          "marx  "
         ],
         "yaxis": "y27"
        },
        {
         "marker": {
          "color": "#F0E442"
         },
         "orientation": "h",
         "type": "bar",
         "x": [
          0.39648574590682983,
          0.39648574590682983,
          0.39648574590682983,
          0.39648574590682983,
          0.39648574590682983,
          0.39648574590682983,
          0.39648574590682983,
          0.39648574590682983,
          0.43693673610687256,
          0.8844587802886963
         ],
         "xaxis": "x28",
         "y": [
          "  ",
          "  ",
          "  ",
          "  ",
          "  ",
          "  ",
          "  ",
          "  ",
          "mega  ",
          "super  "
         ],
         "yaxis": "y28"
        },
        {
         "marker": {
          "color": "#D55E00"
         },
         "orientation": "h",
         "type": "bar",
         "x": [
          0.26442357897758484,
          0.2687143385410309,
          0.33080926537513733,
          0.3519038259983063,
          0.3684377670288086,
          0.4106597304344177,
          0.49315738677978516,
          0.5564363598823547,
          0.6010494232177734,
          0.8288872241973877
         ],
         "xaxis": "x29",
         "y": [
          "symbol  ",
          "detailing  ",
          "famous  ",
          "spectacular  ",
          "fascinated  ",
          "tower  ",
          "sculpture  ",
          "statues  ",
          "statue  ",
          "monument  "
         ],
         "yaxis": "y29"
        },
        {
         "marker": {
          "color": "#0072B2"
         },
         "orientation": "h",
         "type": "bar",
         "x": [
          0.5308427810668945,
          0.5308427810668945,
          0.5308427810668945,
          0.5308427810668945,
          0.5308427810668945,
          0.5308427810668945,
          0.5308427810668945,
          0.5308427810668945,
          0.5697687864303589,
          0.7824045419692993
         ],
         "xaxis": "x30",
         "y": [
          "  ",
          "  ",
          "  ",
          "  ",
          "  ",
          "  ",
          "  ",
          "  ",
          "awesome  ",
          "nice  "
         ],
         "yaxis": "y30"
        },
        {
         "marker": {
          "color": "#CC79A7"
         },
         "orientation": "h",
         "type": "bar",
         "x": [
          0.2210066020488739,
          0.25124281644821167,
          0.25515538454055786,
          0.25738078355789185,
          0.2707304358482361,
          0.3028079569339752,
          0.3153730034828186,
          0.3516082465648651,
          0.3664814233779907,
          0.37430959939956665
         ],
         "xaxis": "x31",
         "y": [
          "service  ",
          "childrens  ",
          "david  ",
          "who  ",
          "choralspace  ",
          "festival  ",
          "angie  ",
          "fajne  ",
          "chancellor  ",
          "miejsce  "
         ],
         "yaxis": "y31"
        },
        {
         "marker": {
          "color": "#E69F00"
         },
         "orientation": "h",
         "type": "bar",
         "x": [
          0.3112828731536865,
          0.31993234157562256,
          0.32351216673851013,
          0.3241366147994995,
          0.3404565155506134,
          0.3746429979801178,
          0.4183054566383362,
          0.4375210106372833,
          0.5088785886764526,
          0.6080134510993958
         ],
         "xaxis": "x32",
         "y": [
          "benches  ",
          "birds  ",
          "swans  ",
          "ducks  ",
          "hiking  ",
          "herons  ",
          "picnic  ",
          "scenery  ",
          "lake  ",
          "pond  "
         ],
         "yaxis": "y32"
        },
        {
         "marker": {
          "color": "#56B4E9"
         },
         "orientation": "h",
         "type": "bar",
         "x": [
          0.385716050863266,
          0.3953288793563843,
          0.3961253762245178,
          0.4115638732910156,
          0.4270516037940979,
          0.44850409030914307,
          0.45751243829727173,
          0.4990789294242859,
          0.590884804725647,
          0.7199515104293823
         ],
         "xaxis": "x33",
         "y": [
          "loud  ",
          "traffic  ",
          "near  ",
          "busy  ",
          "crowdy  ",
          "tourist  ",
          "tourists  ",
          "cramped  ",
          "overcrowded  ",
          "crowded  "
         ],
         "yaxis": "y33"
        },
        {
         "marker": {
          "color": "#009E73"
         },
         "orientation": "h",
         "type": "bar",
         "x": [
          0.23438361287117004,
          0.236863911151886,
          0.23737864196300507,
          0.2442743480205536,
          0.2546343207359314,
          0.30157434940338135,
          0.3507648706436157,
          0.38193759322166443,
          0.5317671895027161,
          0.6427952647209167
         ],
         "xaxis": "x34",
         "y": [
          "street  ",
          "market  ",
          "marketsunday  ",
          "markets  ",
          "markethere  ",
          "shopping  ",
          "charlottenburg  ",
          "shops  ",
          "berliners  ",
          "berlin  "
         ],
         "yaxis": "y34"
        },
        {
         "marker": {
          "color": "#F0E442"
         },
         "orientation": "h",
         "type": "bar",
         "x": [
          0.2900840640068054,
          0.30934619903564453,
          0.31328994035720825,
          0.32648229598999023,
          0.3342304229736328,
          0.37229880690574646,
          0.39087408781051636,
          0.45832517743110657,
          0.6714421510696411,
          0.7251606583595276
         ],
         "xaxis": "x35",
         "y": [
          "drown  ",
          "water  ",
          "renovated  ",
          "volkspark  ",
          "visit  ",
          "splashing  ",
          "place  ",
          "park  ",
          "fountains  ",
          "fountain  "
         ],
         "yaxis": "y35"
        },
        {
         "marker": {
          "color": "#D55E00"
         },
         "orientation": "h",
         "type": "bar",
         "x": [
          0.33457624912261963,
          0.33630508184432983,
          0.3379606306552887,
          0.3407854437828064,
          0.3490596413612366,
          0.3653762936592102,
          0.3909195363521576,
          0.4027963876724243,
          0.5243195295333862,
          0.6320909261703491
         ],
         "xaxis": "x36",
         "y": [
          "placeromantic  ",
          "spot  ",
          "lovely  ",
          "area  ",
          "beautiful  ",
          "beaucoup  ",
          "buatiful  ",
          "surroundings  ",
          "places  ",
          "place  "
         ],
         "yaxis": "y36"
        },
        {
         "marker": {
          "color": "#0072B2"
         },
         "orientation": "h",
         "type": "bar",
         "x": [
          0.36453479528427124,
          0.3659084439277649,
          0.3772447109222412,
          0.3801518678665161,
          0.38705089688301086,
          0.39086174964904785,
          0.40209347009658813,
          0.4098673462867737,
          0.4112909436225891,
          0.47754353284835815
         ],
         "xaxis": "x37",
         "y": [
          "birlikte  ",
          "kurutma  ",
          "szczecine  ",
          "szlaki  ",
          "przyjazne  ",
          "olmakla  ",
          "za  ",
          "rozkvetljsou  ",
          "przejcia  ",
          "zahrada  "
         ],
         "yaxis": "y37"
        },
        {
         "marker": {
          "color": "#CC79A7"
         },
         "orientation": "h",
         "type": "bar",
         "x": [
          0.2960088849067688,
          0.30497977137565613,
          0.30643510818481445,
          0.31892234086990356,
          0.3312709629535675,
          0.38403230905532837,
          0.3966451585292816,
          0.4282070994377136,
          0.4329512119293213,
          0.5188875198364258
         ],
         "xaxis": "x38",
         "y": [
          "dinner  ",
          "food  ",
          "kitchen  ",
          "meal  ",
          "beers  ",
          "german  ",
          "cuisine  ",
          "restaurant  ",
          "schnitzel  ",
          "berlin  "
         ],
         "yaxis": "y38"
        },
        {
         "marker": {
          "color": "#E69F00"
         },
         "orientation": "h",
         "type": "bar",
         "x": [
          0.24146369099617004,
          0.24477450549602509,
          0.24679437279701233,
          0.26730719208717346,
          0.275061696767807,
          0.3009728789329529,
          0.39830511808395386,
          0.4546806812286377,
          0.643677830696106,
          0.6640145778656006
         ],
         "xaxis": "x39",
         "y": [
          "indoor  ",
          "facilities  ",
          "water  ",
          "clean  ",
          "laps  ",
          "showers  ",
          "swim  ",
          "swimming  ",
          "pools  ",
          "pool  "
         ],
         "yaxis": "y39"
        },
        {
         "marker": {
          "color": "#56B4E9"
         },
         "orientation": "h",
         "type": "bar",
         "x": [
          0.3025335669517517,
          0.3225829005241394,
          0.33027973771095276,
          0.3559097945690155,
          0.37335655093193054,
          0.4204641580581665,
          0.45571404695510864,
          0.5102143287658691,
          0.6625106930732727,
          0.7603517770767212
         ],
         "xaxis": "x40",
         "y": [
          "drive  ",
          "exits  ",
          "driving  ",
          "car  ",
          "station  ",
          "bahnpark  ",
          "rental  ",
          "garage  ",
          "parked  ",
          "parking  "
         ],
         "yaxis": "y40"
        }
       ],
       "layout": {
        "annotations": [
         {
          "font": {
           "size": 16
          },
          "showarrow": false,
          "text": "Topic 0",
          "x": 0.0875,
          "xanchor": "center",
          "xref": "paper",
          "y": 1,
          "yanchor": "bottom",
          "yref": "paper"
         },
         {
          "font": {
           "size": 16
          },
          "showarrow": false,
          "text": "Topic 1",
          "x": 0.36250000000000004,
          "xanchor": "center",
          "xref": "paper",
          "y": 1,
          "yanchor": "bottom",
          "yref": "paper"
         },
         {
          "font": {
           "size": 16
          },
          "showarrow": false,
          "text": "Topic 2",
          "x": 0.6375000000000001,
          "xanchor": "center",
          "xref": "paper",
          "y": 1,
          "yanchor": "bottom",
          "yref": "paper"
         },
         {
          "font": {
           "size": 16
          },
          "showarrow": false,
          "text": "Topic 3",
          "x": 0.9125,
          "xanchor": "center",
          "xref": "paper",
          "y": 1,
          "yanchor": "bottom",
          "yref": "paper"
         },
         {
          "font": {
           "size": 16
          },
          "showarrow": false,
          "text": "Topic 4",
          "x": 0.0875,
          "xanchor": "center",
          "xref": "paper",
          "y": 0.8960000000000001,
          "yanchor": "bottom",
          "yref": "paper"
         },
         {
          "font": {
           "size": 16
          },
          "showarrow": false,
          "text": "Topic 5",
          "x": 0.36250000000000004,
          "xanchor": "center",
          "xref": "paper",
          "y": 0.8960000000000001,
          "yanchor": "bottom",
          "yref": "paper"
         },
         {
          "font": {
           "size": 16
          },
          "showarrow": false,
          "text": "Topic 6",
          "x": 0.6375000000000001,
          "xanchor": "center",
          "xref": "paper",
          "y": 0.8960000000000001,
          "yanchor": "bottom",
          "yref": "paper"
         },
         {
          "font": {
           "size": 16
          },
          "showarrow": false,
          "text": "Topic 7",
          "x": 0.9125,
          "xanchor": "center",
          "xref": "paper",
          "y": 0.8960000000000001,
          "yanchor": "bottom",
          "yref": "paper"
         },
         {
          "font": {
           "size": 16
          },
          "showarrow": false,
          "text": "Topic 8",
          "x": 0.0875,
          "xanchor": "center",
          "xref": "paper",
          "y": 0.792,
          "yanchor": "bottom",
          "yref": "paper"
         },
         {
          "font": {
           "size": 16
          },
          "showarrow": false,
          "text": "Topic 9",
          "x": 0.36250000000000004,
          "xanchor": "center",
          "xref": "paper",
          "y": 0.792,
          "yanchor": "bottom",
          "yref": "paper"
         },
         {
          "font": {
           "size": 16
          },
          "showarrow": false,
          "text": "Topic 10",
          "x": 0.6375000000000001,
          "xanchor": "center",
          "xref": "paper",
          "y": 0.792,
          "yanchor": "bottom",
          "yref": "paper"
         },
         {
          "font": {
           "size": 16
          },
          "showarrow": false,
          "text": "Topic 11",
          "x": 0.9125,
          "xanchor": "center",
          "xref": "paper",
          "y": 0.792,
          "yanchor": "bottom",
          "yref": "paper"
         },
         {
          "font": {
           "size": 16
          },
          "showarrow": false,
          "text": "Topic 12",
          "x": 0.0875,
          "xanchor": "center",
          "xref": "paper",
          "y": 0.688,
          "yanchor": "bottom",
          "yref": "paper"
         },
         {
          "font": {
           "size": 16
          },
          "showarrow": false,
          "text": "Topic 13",
          "x": 0.36250000000000004,
          "xanchor": "center",
          "xref": "paper",
          "y": 0.688,
          "yanchor": "bottom",
          "yref": "paper"
         },
         {
          "font": {
           "size": 16
          },
          "showarrow": false,
          "text": "Topic 14",
          "x": 0.6375000000000001,
          "xanchor": "center",
          "xref": "paper",
          "y": 0.688,
          "yanchor": "bottom",
          "yref": "paper"
         },
         {
          "font": {
           "size": 16
          },
          "showarrow": false,
          "text": "Topic 15",
          "x": 0.9125,
          "xanchor": "center",
          "xref": "paper",
          "y": 0.688,
          "yanchor": "bottom",
          "yref": "paper"
         },
         {
          "font": {
           "size": 16
          },
          "showarrow": false,
          "text": "Topic 16",
          "x": 0.0875,
          "xanchor": "center",
          "xref": "paper",
          "y": 0.5840000000000001,
          "yanchor": "bottom",
          "yref": "paper"
         },
         {
          "font": {
           "size": 16
          },
          "showarrow": false,
          "text": "Topic 17",
          "x": 0.36250000000000004,
          "xanchor": "center",
          "xref": "paper",
          "y": 0.5840000000000001,
          "yanchor": "bottom",
          "yref": "paper"
         },
         {
          "font": {
           "size": 16
          },
          "showarrow": false,
          "text": "Topic 18",
          "x": 0.6375000000000001,
          "xanchor": "center",
          "xref": "paper",
          "y": 0.5840000000000001,
          "yanchor": "bottom",
          "yref": "paper"
         },
         {
          "font": {
           "size": 16
          },
          "showarrow": false,
          "text": "Topic 19",
          "x": 0.9125,
          "xanchor": "center",
          "xref": "paper",
          "y": 0.5840000000000001,
          "yanchor": "bottom",
          "yref": "paper"
         },
         {
          "font": {
           "size": 16
          },
          "showarrow": false,
          "text": "Topic 20",
          "x": 0.0875,
          "xanchor": "center",
          "xref": "paper",
          "y": 0.48000000000000004,
          "yanchor": "bottom",
          "yref": "paper"
         },
         {
          "font": {
           "size": 16
          },
          "showarrow": false,
          "text": "Topic 21",
          "x": 0.36250000000000004,
          "xanchor": "center",
          "xref": "paper",
          "y": 0.48000000000000004,
          "yanchor": "bottom",
          "yref": "paper"
         },
         {
          "font": {
           "size": 16
          },
          "showarrow": false,
          "text": "Topic 22",
          "x": 0.6375000000000001,
          "xanchor": "center",
          "xref": "paper",
          "y": 0.48000000000000004,
          "yanchor": "bottom",
          "yref": "paper"
         },
         {
          "font": {
           "size": 16
          },
          "showarrow": false,
          "text": "Topic 23",
          "x": 0.9125,
          "xanchor": "center",
          "xref": "paper",
          "y": 0.48000000000000004,
          "yanchor": "bottom",
          "yref": "paper"
         },
         {
          "font": {
           "size": 16
          },
          "showarrow": false,
          "text": "Topic 24",
          "x": 0.0875,
          "xanchor": "center",
          "xref": "paper",
          "y": 0.376,
          "yanchor": "bottom",
          "yref": "paper"
         },
         {
          "font": {
           "size": 16
          },
          "showarrow": false,
          "text": "Topic 25",
          "x": 0.36250000000000004,
          "xanchor": "center",
          "xref": "paper",
          "y": 0.376,
          "yanchor": "bottom",
          "yref": "paper"
         },
         {
          "font": {
           "size": 16
          },
          "showarrow": false,
          "text": "Topic 26",
          "x": 0.6375000000000001,
          "xanchor": "center",
          "xref": "paper",
          "y": 0.376,
          "yanchor": "bottom",
          "yref": "paper"
         },
         {
          "font": {
           "size": 16
          },
          "showarrow": false,
          "text": "Topic 27",
          "x": 0.9125,
          "xanchor": "center",
          "xref": "paper",
          "y": 0.376,
          "yanchor": "bottom",
          "yref": "paper"
         },
         {
          "font": {
           "size": 16
          },
          "showarrow": false,
          "text": "Topic 28",
          "x": 0.0875,
          "xanchor": "center",
          "xref": "paper",
          "y": 0.272,
          "yanchor": "bottom",
          "yref": "paper"
         },
         {
          "font": {
           "size": 16
          },
          "showarrow": false,
          "text": "Topic 29",
          "x": 0.36250000000000004,
          "xanchor": "center",
          "xref": "paper",
          "y": 0.272,
          "yanchor": "bottom",
          "yref": "paper"
         },
         {
          "font": {
           "size": 16
          },
          "showarrow": false,
          "text": "Topic 30",
          "x": 0.6375000000000001,
          "xanchor": "center",
          "xref": "paper",
          "y": 0.272,
          "yanchor": "bottom",
          "yref": "paper"
         },
         {
          "font": {
           "size": 16
          },
          "showarrow": false,
          "text": "Topic 31",
          "x": 0.9125,
          "xanchor": "center",
          "xref": "paper",
          "y": 0.272,
          "yanchor": "bottom",
          "yref": "paper"
         },
         {
          "font": {
           "size": 16
          },
          "showarrow": false,
          "text": "Topic 32",
          "x": 0.0875,
          "xanchor": "center",
          "xref": "paper",
          "y": 0.168,
          "yanchor": "bottom",
          "yref": "paper"
         },
         {
          "font": {
           "size": 16
          },
          "showarrow": false,
          "text": "Topic 33",
          "x": 0.36250000000000004,
          "xanchor": "center",
          "xref": "paper",
          "y": 0.168,
          "yanchor": "bottom",
          "yref": "paper"
         },
         {
          "font": {
           "size": 16
          },
          "showarrow": false,
          "text": "Topic 34",
          "x": 0.6375000000000001,
          "xanchor": "center",
          "xref": "paper",
          "y": 0.168,
          "yanchor": "bottom",
          "yref": "paper"
         },
         {
          "font": {
           "size": 16
          },
          "showarrow": false,
          "text": "Topic 35",
          "x": 0.9125,
          "xanchor": "center",
          "xref": "paper",
          "y": 0.168,
          "yanchor": "bottom",
          "yref": "paper"
         },
         {
          "font": {
           "size": 16
          },
          "showarrow": false,
          "text": "Topic 36",
          "x": 0.0875,
          "xanchor": "center",
          "xref": "paper",
          "y": 0.064,
          "yanchor": "bottom",
          "yref": "paper"
         },
         {
          "font": {
           "size": 16
          },
          "showarrow": false,
          "text": "Topic 37",
          "x": 0.36250000000000004,
          "xanchor": "center",
          "xref": "paper",
          "y": 0.064,
          "yanchor": "bottom",
          "yref": "paper"
         },
         {
          "font": {
           "size": 16
          },
          "showarrow": false,
          "text": "Topic 38",
          "x": 0.6375000000000001,
          "xanchor": "center",
          "xref": "paper",
          "y": 0.064,
          "yanchor": "bottom",
          "yref": "paper"
         },
         {
          "font": {
           "size": 16
          },
          "showarrow": false,
          "text": "Topic 39",
          "x": 0.9125,
          "xanchor": "center",
          "xref": "paper",
          "y": 0.064,
          "yanchor": "bottom",
          "yref": "paper"
         }
        ],
        "height": 2500,
        "hoverlabel": {
         "bgcolor": "white",
         "font": {
          "family": "Rockwell",
          "size": 16
         }
        },
        "showlegend": false,
        "template": {
         "data": {
          "bar": [
           {
            "error_x": {
             "color": "#2a3f5f"
            },
            "error_y": {
             "color": "#2a3f5f"
            },
            "marker": {
             "line": {
              "color": "white",
              "width": 0.5
             },
             "pattern": {
              "fillmode": "overlay",
              "size": 10,
              "solidity": 0.2
             }
            },
            "type": "bar"
           }
          ],
          "barpolar": [
           {
            "marker": {
             "line": {
              "color": "white",
              "width": 0.5
             },
             "pattern": {
              "fillmode": "overlay",
              "size": 10,
              "solidity": 0.2
             }
            },
            "type": "barpolar"
           }
          ],
          "carpet": [
           {
            "aaxis": {
             "endlinecolor": "#2a3f5f",
             "gridcolor": "#C8D4E3",
             "linecolor": "#C8D4E3",
             "minorgridcolor": "#C8D4E3",
             "startlinecolor": "#2a3f5f"
            },
            "baxis": {
             "endlinecolor": "#2a3f5f",
             "gridcolor": "#C8D4E3",
             "linecolor": "#C8D4E3",
             "minorgridcolor": "#C8D4E3",
             "startlinecolor": "#2a3f5f"
            },
            "type": "carpet"
           }
          ],
          "choropleth": [
           {
            "colorbar": {
             "outlinewidth": 0,
             "ticks": ""
            },
            "type": "choropleth"
           }
          ],
          "contour": [
           {
            "colorbar": {
             "outlinewidth": 0,
             "ticks": ""
            },
            "colorscale": [
             [
              0,
              "#0d0887"
             ],
             [
              0.1111111111111111,
              "#46039f"
             ],
             [
              0.2222222222222222,
              "#7201a8"
             ],
             [
              0.3333333333333333,
              "#9c179e"
             ],
             [
              0.4444444444444444,
              "#bd3786"
             ],
             [
              0.5555555555555556,
              "#d8576b"
             ],
             [
              0.6666666666666666,
              "#ed7953"
             ],
             [
              0.7777777777777778,
              "#fb9f3a"
             ],
             [
              0.8888888888888888,
              "#fdca26"
             ],
             [
              1,
              "#f0f921"
             ]
            ],
            "type": "contour"
           }
          ],
          "contourcarpet": [
           {
            "colorbar": {
             "outlinewidth": 0,
             "ticks": ""
            },
            "type": "contourcarpet"
           }
          ],
          "heatmap": [
           {
            "colorbar": {
             "outlinewidth": 0,
             "ticks": ""
            },
            "colorscale": [
             [
              0,
              "#0d0887"
             ],
             [
              0.1111111111111111,
              "#46039f"
             ],
             [
              0.2222222222222222,
              "#7201a8"
             ],
             [
              0.3333333333333333,
              "#9c179e"
             ],
             [
              0.4444444444444444,
              "#bd3786"
             ],
             [
              0.5555555555555556,
              "#d8576b"
             ],
             [
              0.6666666666666666,
              "#ed7953"
             ],
             [
              0.7777777777777778,
              "#fb9f3a"
             ],
             [
              0.8888888888888888,
              "#fdca26"
             ],
             [
              1,
              "#f0f921"
             ]
            ],
            "type": "heatmap"
           }
          ],
          "heatmapgl": [
           {
            "colorbar": {
             "outlinewidth": 0,
             "ticks": ""
            },
            "colorscale": [
             [
              0,
              "#0d0887"
             ],
             [
              0.1111111111111111,
              "#46039f"
             ],
             [
              0.2222222222222222,
              "#7201a8"
             ],
             [
              0.3333333333333333,
              "#9c179e"
             ],
             [
              0.4444444444444444,
              "#bd3786"
             ],
             [
              0.5555555555555556,
              "#d8576b"
             ],
             [
              0.6666666666666666,
              "#ed7953"
             ],
             [
              0.7777777777777778,
              "#fb9f3a"
             ],
             [
              0.8888888888888888,
              "#fdca26"
             ],
             [
              1,
              "#f0f921"
             ]
            ],
            "type": "heatmapgl"
           }
          ],
          "histogram": [
           {
            "marker": {
             "pattern": {
              "fillmode": "overlay",
              "size": 10,
              "solidity": 0.2
             }
            },
            "type": "histogram"
           }
          ],
          "histogram2d": [
           {
            "colorbar": {
             "outlinewidth": 0,
             "ticks": ""
            },
            "colorscale": [
             [
              0,
              "#0d0887"
             ],
             [
              0.1111111111111111,
              "#46039f"
             ],
             [
              0.2222222222222222,
              "#7201a8"
             ],
             [
              0.3333333333333333,
              "#9c179e"
             ],
             [
              0.4444444444444444,
              "#bd3786"
             ],
             [
              0.5555555555555556,
              "#d8576b"
             ],
             [
              0.6666666666666666,
              "#ed7953"
             ],
             [
              0.7777777777777778,
              "#fb9f3a"
             ],
             [
              0.8888888888888888,
              "#fdca26"
             ],
             [
              1,
              "#f0f921"
             ]
            ],
            "type": "histogram2d"
           }
          ],
          "histogram2dcontour": [
           {
            "colorbar": {
             "outlinewidth": 0,
             "ticks": ""
            },
            "colorscale": [
             [
              0,
              "#0d0887"
             ],
             [
              0.1111111111111111,
              "#46039f"
             ],
             [
              0.2222222222222222,
              "#7201a8"
             ],
             [
              0.3333333333333333,
              "#9c179e"
             ],
             [
              0.4444444444444444,
              "#bd3786"
             ],
             [
              0.5555555555555556,
              "#d8576b"
             ],
             [
              0.6666666666666666,
              "#ed7953"
             ],
             [
              0.7777777777777778,
              "#fb9f3a"
             ],
             [
              0.8888888888888888,
              "#fdca26"
             ],
             [
              1,
              "#f0f921"
             ]
            ],
            "type": "histogram2dcontour"
           }
          ],
          "mesh3d": [
           {
            "colorbar": {
             "outlinewidth": 0,
             "ticks": ""
            },
            "type": "mesh3d"
           }
          ],
          "parcoords": [
           {
            "line": {
             "colorbar": {
              "outlinewidth": 0,
              "ticks": ""
             }
            },
            "type": "parcoords"
           }
          ],
          "pie": [
           {
            "automargin": true,
            "type": "pie"
           }
          ],
          "scatter": [
           {
            "fillpattern": {
             "fillmode": "overlay",
             "size": 10,
             "solidity": 0.2
            },
            "type": "scatter"
           }
          ],
          "scatter3d": [
           {
            "line": {
             "colorbar": {
              "outlinewidth": 0,
              "ticks": ""
             }
            },
            "marker": {
             "colorbar": {
              "outlinewidth": 0,
              "ticks": ""
             }
            },
            "type": "scatter3d"
           }
          ],
          "scattercarpet": [
           {
            "marker": {
             "colorbar": {
              "outlinewidth": 0,
              "ticks": ""
             }
            },
            "type": "scattercarpet"
           }
          ],
          "scattergeo": [
           {
            "marker": {
             "colorbar": {
              "outlinewidth": 0,
              "ticks": ""
             }
            },
            "type": "scattergeo"
           }
          ],
          "scattergl": [
           {
            "marker": {
             "colorbar": {
              "outlinewidth": 0,
              "ticks": ""
             }
            },
            "type": "scattergl"
           }
          ],
          "scattermapbox": [
           {
            "marker": {
             "colorbar": {
              "outlinewidth": 0,
              "ticks": ""
             }
            },
            "type": "scattermapbox"
           }
          ],
          "scatterpolar": [
           {
            "marker": {
             "colorbar": {
              "outlinewidth": 0,
              "ticks": ""
             }
            },
            "type": "scatterpolar"
           }
          ],
          "scatterpolargl": [
           {
            "marker": {
             "colorbar": {
              "outlinewidth": 0,
              "ticks": ""
             }
            },
            "type": "scatterpolargl"
           }
          ],
          "scatterternary": [
           {
            "marker": {
             "colorbar": {
              "outlinewidth": 0,
              "ticks": ""
             }
            },
            "type": "scatterternary"
           }
          ],
          "surface": [
           {
            "colorbar": {
             "outlinewidth": 0,
             "ticks": ""
            },
            "colorscale": [
             [
              0,
              "#0d0887"
             ],
             [
              0.1111111111111111,
              "#46039f"
             ],
             [
              0.2222222222222222,
              "#7201a8"
             ],
             [
              0.3333333333333333,
              "#9c179e"
             ],
             [
              0.4444444444444444,
              "#bd3786"
             ],
             [
              0.5555555555555556,
              "#d8576b"
             ],
             [
              0.6666666666666666,
              "#ed7953"
             ],
             [
              0.7777777777777778,
              "#fb9f3a"
             ],
             [
              0.8888888888888888,
              "#fdca26"
             ],
             [
              1,
              "#f0f921"
             ]
            ],
            "type": "surface"
           }
          ],
          "table": [
           {
            "cells": {
             "fill": {
              "color": "#EBF0F8"
             },
             "line": {
              "color": "white"
             }
            },
            "header": {
             "fill": {
              "color": "#C8D4E3"
             },
             "line": {
              "color": "white"
             }
            },
            "type": "table"
           }
          ]
         },
         "layout": {
          "annotationdefaults": {
           "arrowcolor": "#2a3f5f",
           "arrowhead": 0,
           "arrowwidth": 1
          },
          "autotypenumbers": "strict",
          "coloraxis": {
           "colorbar": {
            "outlinewidth": 0,
            "ticks": ""
           }
          },
          "colorscale": {
           "diverging": [
            [
             0,
             "#8e0152"
            ],
            [
             0.1,
             "#c51b7d"
            ],
            [
             0.2,
             "#de77ae"
            ],
            [
             0.3,
             "#f1b6da"
            ],
            [
             0.4,
             "#fde0ef"
            ],
            [
             0.5,
             "#f7f7f7"
            ],
            [
             0.6,
             "#e6f5d0"
            ],
            [
             0.7,
             "#b8e186"
            ],
            [
             0.8,
             "#7fbc41"
            ],
            [
             0.9,
             "#4d9221"
            ],
            [
             1,
             "#276419"
            ]
           ],
           "sequential": [
            [
             0,
             "#0d0887"
            ],
            [
             0.1111111111111111,
             "#46039f"
            ],
            [
             0.2222222222222222,
             "#7201a8"
            ],
            [
             0.3333333333333333,
             "#9c179e"
            ],
            [
             0.4444444444444444,
             "#bd3786"
            ],
            [
             0.5555555555555556,
             "#d8576b"
            ],
            [
             0.6666666666666666,
             "#ed7953"
            ],
            [
             0.7777777777777778,
             "#fb9f3a"
            ],
            [
             0.8888888888888888,
             "#fdca26"
            ],
            [
             1,
             "#f0f921"
            ]
           ],
           "sequentialminus": [
            [
             0,
             "#0d0887"
            ],
            [
             0.1111111111111111,
             "#46039f"
            ],
            [
             0.2222222222222222,
             "#7201a8"
            ],
            [
             0.3333333333333333,
             "#9c179e"
            ],
            [
             0.4444444444444444,
             "#bd3786"
            ],
            [
             0.5555555555555556,
             "#d8576b"
            ],
            [
             0.6666666666666666,
             "#ed7953"
            ],
            [
             0.7777777777777778,
             "#fb9f3a"
            ],
            [
             0.8888888888888888,
             "#fdca26"
            ],
            [
             1,
             "#f0f921"
            ]
           ]
          },
          "colorway": [
           "#636efa",
           "#EF553B",
           "#00cc96",
           "#ab63fa",
           "#FFA15A",
           "#19d3f3",
           "#FF6692",
           "#B6E880",
           "#FF97FF",
           "#FECB52"
          ],
          "font": {
           "color": "#2a3f5f"
          },
          "geo": {
           "bgcolor": "white",
           "lakecolor": "white",
           "landcolor": "white",
           "showlakes": true,
           "showland": true,
           "subunitcolor": "#C8D4E3"
          },
          "hoverlabel": {
           "align": "left"
          },
          "hovermode": "closest",
          "mapbox": {
           "style": "light"
          },
          "paper_bgcolor": "white",
          "plot_bgcolor": "white",
          "polar": {
           "angularaxis": {
            "gridcolor": "#EBF0F8",
            "linecolor": "#EBF0F8",
            "ticks": ""
           },
           "bgcolor": "white",
           "radialaxis": {
            "gridcolor": "#EBF0F8",
            "linecolor": "#EBF0F8",
            "ticks": ""
           }
          },
          "scene": {
           "xaxis": {
            "backgroundcolor": "white",
            "gridcolor": "#DFE8F3",
            "gridwidth": 2,
            "linecolor": "#EBF0F8",
            "showbackground": true,
            "ticks": "",
            "zerolinecolor": "#EBF0F8"
           },
           "yaxis": {
            "backgroundcolor": "white",
            "gridcolor": "#DFE8F3",
            "gridwidth": 2,
            "linecolor": "#EBF0F8",
            "showbackground": true,
            "ticks": "",
            "zerolinecolor": "#EBF0F8"
           },
           "zaxis": {
            "backgroundcolor": "white",
            "gridcolor": "#DFE8F3",
            "gridwidth": 2,
            "linecolor": "#EBF0F8",
            "showbackground": true,
            "ticks": "",
            "zerolinecolor": "#EBF0F8"
           }
          },
          "shapedefaults": {
           "line": {
            "color": "#2a3f5f"
           }
          },
          "ternary": {
           "aaxis": {
            "gridcolor": "#DFE8F3",
            "linecolor": "#A2B1C6",
            "ticks": ""
           },
           "baxis": {
            "gridcolor": "#DFE8F3",
            "linecolor": "#A2B1C6",
            "ticks": ""
           },
           "bgcolor": "white",
           "caxis": {
            "gridcolor": "#DFE8F3",
            "linecolor": "#A2B1C6",
            "ticks": ""
           }
          },
          "title": {
           "x": 0.05
          },
          "xaxis": {
           "automargin": true,
           "gridcolor": "#EBF0F8",
           "linecolor": "#EBF0F8",
           "ticks": "",
           "title": {
            "standoff": 15
           },
           "zerolinecolor": "#EBF0F8",
           "zerolinewidth": 2
          },
          "yaxis": {
           "automargin": true,
           "gridcolor": "#EBF0F8",
           "linecolor": "#EBF0F8",
           "ticks": "",
           "title": {
            "standoff": 15
           },
           "zerolinecolor": "#EBF0F8",
           "zerolinewidth": 2
          }
         }
        },
        "title": {
         "font": {
          "color": "Black",
          "size": 22
         },
         "text": "Topic Word Scores",
         "x": 0.5,
         "xanchor": "center",
         "yanchor": "top"
        },
        "width": 1000,
        "xaxis": {
         "anchor": "y",
         "domain": [
          0,
          0.175
         ],
         "showgrid": true
        },
        "xaxis10": {
         "anchor": "y10",
         "domain": [
          0.275,
          0.45
         ],
         "showgrid": true
        },
        "xaxis11": {
         "anchor": "y11",
         "domain": [
          0.55,
          0.7250000000000001
         ],
         "showgrid": true
        },
        "xaxis12": {
         "anchor": "y12",
         "domain": [
          0.825,
          1
         ],
         "showgrid": true
        },
        "xaxis13": {
         "anchor": "y13",
         "domain": [
          0,
          0.175
         ],
         "showgrid": true
        },
        "xaxis14": {
         "anchor": "y14",
         "domain": [
          0.275,
          0.45
         ],
         "showgrid": true
        },
        "xaxis15": {
         "anchor": "y15",
         "domain": [
          0.55,
          0.7250000000000001
         ],
         "showgrid": true
        },
        "xaxis16": {
         "anchor": "y16",
         "domain": [
          0.825,
          1
         ],
         "showgrid": true
        },
        "xaxis17": {
         "anchor": "y17",
         "domain": [
          0,
          0.175
         ],
         "showgrid": true
        },
        "xaxis18": {
         "anchor": "y18",
         "domain": [
          0.275,
          0.45
         ],
         "showgrid": true
        },
        "xaxis19": {
         "anchor": "y19",
         "domain": [
          0.55,
          0.7250000000000001
         ],
         "showgrid": true
        },
        "xaxis2": {
         "anchor": "y2",
         "domain": [
          0.275,
          0.45
         ],
         "showgrid": true
        },
        "xaxis20": {
         "anchor": "y20",
         "domain": [
          0.825,
          1
         ],
         "showgrid": true
        },
        "xaxis21": {
         "anchor": "y21",
         "domain": [
          0,
          0.175
         ],
         "showgrid": true
        },
        "xaxis22": {
         "anchor": "y22",
         "domain": [
          0.275,
          0.45
         ],
         "showgrid": true
        },
        "xaxis23": {
         "anchor": "y23",
         "domain": [
          0.55,
          0.7250000000000001
         ],
         "showgrid": true
        },
        "xaxis24": {
         "anchor": "y24",
         "domain": [
          0.825,
          1
         ],
         "showgrid": true
        },
        "xaxis25": {
         "anchor": "y25",
         "domain": [
          0,
          0.175
         ],
         "showgrid": true
        },
        "xaxis26": {
         "anchor": "y26",
         "domain": [
          0.275,
          0.45
         ],
         "showgrid": true
        },
        "xaxis27": {
         "anchor": "y27",
         "domain": [
          0.55,
          0.7250000000000001
         ],
         "showgrid": true
        },
        "xaxis28": {
         "anchor": "y28",
         "domain": [
          0.825,
          1
         ],
         "showgrid": true
        },
        "xaxis29": {
         "anchor": "y29",
         "domain": [
          0,
          0.175
         ],
         "showgrid": true
        },
        "xaxis3": {
         "anchor": "y3",
         "domain": [
          0.55,
          0.7250000000000001
         ],
         "showgrid": true
        },
        "xaxis30": {
         "anchor": "y30",
         "domain": [
          0.275,
          0.45
         ],
         "showgrid": true
        },
        "xaxis31": {
         "anchor": "y31",
         "domain": [
          0.55,
          0.7250000000000001
         ],
         "showgrid": true
        },
        "xaxis32": {
         "anchor": "y32",
         "domain": [
          0.825,
          1
         ],
         "showgrid": true
        },
        "xaxis33": {
         "anchor": "y33",
         "domain": [
          0,
          0.175
         ],
         "showgrid": true
        },
        "xaxis34": {
         "anchor": "y34",
         "domain": [
          0.275,
          0.45
         ],
         "showgrid": true
        },
        "xaxis35": {
         "anchor": "y35",
         "domain": [
          0.55,
          0.7250000000000001
         ],
         "showgrid": true
        },
        "xaxis36": {
         "anchor": "y36",
         "domain": [
          0.825,
          1
         ],
         "showgrid": true
        },
        "xaxis37": {
         "anchor": "y37",
         "domain": [
          0,
          0.175
         ],
         "showgrid": true
        },
        "xaxis38": {
         "anchor": "y38",
         "domain": [
          0.275,
          0.45
         ],
         "showgrid": true
        },
        "xaxis39": {
         "anchor": "y39",
         "domain": [
          0.55,
          0.7250000000000001
         ],
         "showgrid": true
        },
        "xaxis4": {
         "anchor": "y4",
         "domain": [
          0.825,
          1
         ],
         "showgrid": true
        },
        "xaxis40": {
         "anchor": "y40",
         "domain": [
          0.825,
          1
         ],
         "showgrid": true
        },
        "xaxis5": {
         "anchor": "y5",
         "domain": [
          0,
          0.175
         ],
         "showgrid": true
        },
        "xaxis6": {
         "anchor": "y6",
         "domain": [
          0.275,
          0.45
         ],
         "showgrid": true
        },
        "xaxis7": {
         "anchor": "y7",
         "domain": [
          0.55,
          0.7250000000000001
         ],
         "showgrid": true
        },
        "xaxis8": {
         "anchor": "y8",
         "domain": [
          0.825,
          1
         ],
         "showgrid": true
        },
        "xaxis9": {
         "anchor": "y9",
         "domain": [
          0,
          0.175
         ],
         "showgrid": true
        },
        "yaxis": {
         "anchor": "x",
         "domain": [
          0.936,
          1
         ],
         "showgrid": true
        },
        "yaxis10": {
         "anchor": "x10",
         "domain": [
          0.728,
          0.792
         ],
         "showgrid": true
        },
        "yaxis11": {
         "anchor": "x11",
         "domain": [
          0.728,
          0.792
         ],
         "showgrid": true
        },
        "yaxis12": {
         "anchor": "x12",
         "domain": [
          0.728,
          0.792
         ],
         "showgrid": true
        },
        "yaxis13": {
         "anchor": "x13",
         "domain": [
          0.624,
          0.688
         ],
         "showgrid": true
        },
        "yaxis14": {
         "anchor": "x14",
         "domain": [
          0.624,
          0.688
         ],
         "showgrid": true
        },
        "yaxis15": {
         "anchor": "x15",
         "domain": [
          0.624,
          0.688
         ],
         "showgrid": true
        },
        "yaxis16": {
         "anchor": "x16",
         "domain": [
          0.624,
          0.688
         ],
         "showgrid": true
        },
        "yaxis17": {
         "anchor": "x17",
         "domain": [
          0.52,
          0.5840000000000001
         ],
         "showgrid": true
        },
        "yaxis18": {
         "anchor": "x18",
         "domain": [
          0.52,
          0.5840000000000001
         ],
         "showgrid": true
        },
        "yaxis19": {
         "anchor": "x19",
         "domain": [
          0.52,
          0.5840000000000001
         ],
         "showgrid": true
        },
        "yaxis2": {
         "anchor": "x2",
         "domain": [
          0.936,
          1
         ],
         "showgrid": true
        },
        "yaxis20": {
         "anchor": "x20",
         "domain": [
          0.52,
          0.5840000000000001
         ],
         "showgrid": true
        },
        "yaxis21": {
         "anchor": "x21",
         "domain": [
          0.41600000000000004,
          0.48000000000000004
         ],
         "showgrid": true
        },
        "yaxis22": {
         "anchor": "x22",
         "domain": [
          0.41600000000000004,
          0.48000000000000004
         ],
         "showgrid": true
        },
        "yaxis23": {
         "anchor": "x23",
         "domain": [
          0.41600000000000004,
          0.48000000000000004
         ],
         "showgrid": true
        },
        "yaxis24": {
         "anchor": "x24",
         "domain": [
          0.41600000000000004,
          0.48000000000000004
         ],
         "showgrid": true
        },
        "yaxis25": {
         "anchor": "x25",
         "domain": [
          0.312,
          0.376
         ],
         "showgrid": true
        },
        "yaxis26": {
         "anchor": "x26",
         "domain": [
          0.312,
          0.376
         ],
         "showgrid": true
        },
        "yaxis27": {
         "anchor": "x27",
         "domain": [
          0.312,
          0.376
         ],
         "showgrid": true
        },
        "yaxis28": {
         "anchor": "x28",
         "domain": [
          0.312,
          0.376
         ],
         "showgrid": true
        },
        "yaxis29": {
         "anchor": "x29",
         "domain": [
          0.20800000000000002,
          0.272
         ],
         "showgrid": true
        },
        "yaxis3": {
         "anchor": "x3",
         "domain": [
          0.936,
          1
         ],
         "showgrid": true
        },
        "yaxis30": {
         "anchor": "x30",
         "domain": [
          0.20800000000000002,
          0.272
         ],
         "showgrid": true
        },
        "yaxis31": {
         "anchor": "x31",
         "domain": [
          0.20800000000000002,
          0.272
         ],
         "showgrid": true
        },
        "yaxis32": {
         "anchor": "x32",
         "domain": [
          0.20800000000000002,
          0.272
         ],
         "showgrid": true
        },
        "yaxis33": {
         "anchor": "x33",
         "domain": [
          0.10400000000000001,
          0.168
         ],
         "showgrid": true
        },
        "yaxis34": {
         "anchor": "x34",
         "domain": [
          0.10400000000000001,
          0.168
         ],
         "showgrid": true
        },
        "yaxis35": {
         "anchor": "x35",
         "domain": [
          0.10400000000000001,
          0.168
         ],
         "showgrid": true
        },
        "yaxis36": {
         "anchor": "x36",
         "domain": [
          0.10400000000000001,
          0.168
         ],
         "showgrid": true
        },
        "yaxis37": {
         "anchor": "x37",
         "domain": [
          0,
          0.064
         ],
         "showgrid": true
        },
        "yaxis38": {
         "anchor": "x38",
         "domain": [
          0,
          0.064
         ],
         "showgrid": true
        },
        "yaxis39": {
         "anchor": "x39",
         "domain": [
          0,
          0.064
         ],
         "showgrid": true
        },
        "yaxis4": {
         "anchor": "x4",
         "domain": [
          0.936,
          1
         ],
         "showgrid": true
        },
        "yaxis40": {
         "anchor": "x40",
         "domain": [
          0,
          0.064
         ],
         "showgrid": true
        },
        "yaxis5": {
         "anchor": "x5",
         "domain": [
          0.8320000000000001,
          0.8960000000000001
         ],
         "showgrid": true
        },
        "yaxis6": {
         "anchor": "x6",
         "domain": [
          0.8320000000000001,
          0.8960000000000001
         ],
         "showgrid": true
        },
        "yaxis7": {
         "anchor": "x7",
         "domain": [
          0.8320000000000001,
          0.8960000000000001
         ],
         "showgrid": true
        },
        "yaxis8": {
         "anchor": "x8",
         "domain": [
          0.8320000000000001,
          0.8960000000000001
         ],
         "showgrid": true
        },
        "yaxis9": {
         "anchor": "x9",
         "domain": [
          0.728,
          0.792
         ],
         "showgrid": true
        }
       }
      },
      "text/html": [
       "<div>                            <div id=\"57ce58f9-1b16-434f-abde-82565ca7fc0e\" class=\"plotly-graph-div\" style=\"height:2500px; width:1000px;\"></div>            <script type=\"text/javascript\">                require([\"plotly\"], function(Plotly) {                    window.PLOTLYENV=window.PLOTLYENV || {};                                    if (document.getElementById(\"57ce58f9-1b16-434f-abde-82565ca7fc0e\")) {                    Plotly.newPlot(                        \"57ce58f9-1b16-434f-abde-82565ca7fc0e\",                        [{\"marker\":{\"color\":\"#D55E00\"},\"orientation\":\"h\",\"x\":[0.34732934832572937,0.3744238018989563,0.38036856055259705,0.3936407268047333,0.3959512710571289,0.40712884068489075,0.40725311636924744,0.45383554697036743,0.461212158203125,0.5424020886421204],\"y\":[\"unfriendly  \",\"staff  \",\"dinner  \",\"food  \",\"kitchen  \",\"waiter  \",\"customers  \",\"dishes  \",\"meal  \",\"restaurant  \"],\"type\":\"bar\",\"xaxis\":\"x\",\"yaxis\":\"y\"},{\"marker\":{\"color\":\"#0072B2\"},\"orientation\":\"h\",\"x\":[0.2823217809200287,0.289053350687027,0.2993139624595642,0.3133280277252197,0.31374114751815796,0.31538522243499756,0.33587008714675903,0.37843307852745056,0.3830846846103668,0.6124483942985535],\"y\":[\"saturday  \",\"weekly  \",\"around  \",\"markets  \",\"sundays  \",\"street  \",\"weekend  \",\"flea  \",\"market  \",\"fleamarket  \"],\"type\":\"bar\",\"xaxis\":\"x2\",\"yaxis\":\"y2\"},{\"marker\":{\"color\":\"#CC79A7\"},\"orientation\":\"h\",\"x\":[0.4379691481590271,0.497586190700531,0.5011242628097534,0.5388913750648499,0.5453356504440308,0.5768643617630005,0.6182644367218018,0.6968435049057007,0.7339281439781189,0.7824729681015015],\"y\":[\"art  \",\"structure  \",\"picturesque  \",\"building  \",\"design  \",\"facade  \",\"buildings  \",\"architects  \",\"architectural  \",\"architecture  \"],\"type\":\"bar\",\"xaxis\":\"x3\",\"yaxis\":\"y3\"},{\"marker\":{\"color\":\"#E69F00\"},\"orientation\":\"h\",\"x\":[0.344432532787323,0.35594984889030457,0.37085598707199097,0.3766813576221466,0.3855227828025818,0.41207510232925415,0.41572633385658264,0.4515955448150635,0.4841926097869873,0.4937978684902191],\"y\":[\"unica  \",\"rose  \",\"appartata  \",\"plants  \",\"plant  \",\"bello  \",\"piccoli  \",\"belli  \",\"flowers  \",\"garden  \"],\"type\":\"bar\",\"xaxis\":\"x4\",\"yaxis\":\"y4\"},{\"marker\":{\"color\":\"#56B4E9\"},\"orientation\":\"h\",\"x\":[0.23151232302188873,0.24496102333068848,0.2484624981880188,0.2681286036968231,0.29084086418151855,0.29410213232040405,0.30420252680778503,0.3238062262535095,0.4116530418395996,0.42483311891555786],\"y\":[\"any  \",\"therefore  \",\"construct  \",\"frozen  \",\"ne  \",\"ningn  \",\"none  \",\"paradox  \",\"empty  \",\"non  \"],\"type\":\"bar\",\"xaxis\":\"x5\",\"yaxis\":\"y5\"},{\"marker\":{\"color\":\"#009E73\"},\"orientation\":\"h\",\"x\":[0.3669573664665222,0.3704330325126648,0.3761736750602722,0.39423972368240356,0.40339159965515137,0.5071828365325928,0.5346424579620361,0.5393307209014893,0.5961534976959229,0.7197776436805725],\"y\":[\"places  \",\"regensburg  \",\"city  \",\"place  \",\"germany  \",\"berliner  \",\"munich  \",\"berliners  \",\"berlinp  \",\"berlin  \"],\"type\":\"bar\",\"xaxis\":\"x6\",\"yaxis\":\"y6\"},{\"marker\":{\"color\":\"#F0E442\"},\"orientation\":\"h\",\"x\":[0.32418355345726013,0.3346700370311737,0.35073211789131165,0.35760706663131714,0.3589761257171631,0.3839625120162964,0.44095027446746826,0.4541877508163452,0.47006756067276,0.4844158887863159],\"y\":[\"casualties  \",\"soviet  \",\"soviets  \",\"wwii  \",\"statue  \",\"remembrance  \",\"monument  \",\"berlin  \",\"memorials  \",\"memorial  \"],\"type\":\"bar\",\"xaxis\":\"x7\",\"yaxis\":\"y7\"},{\"marker\":{\"color\":\"#D55E00\"},\"orientation\":\"h\",\"x\":[0.4079585671424866,0.4256742596626282,0.43812334537506104,0.4627036154270172,0.5462284088134766,0.5521897077560425,0.6017985343933105,0.6293275356292725,0.6328333020210266,0.6639453768730164],\"y\":[\"paths  \",\"travelled  \",\"pleasant  \",\"walkway  \",\"stroll  \",\"strolling  \",\"walks  \",\"walked  \",\"walking  \",\"walk  \"],\"type\":\"bar\",\"xaxis\":\"x8\",\"yaxis\":\"y8\"},{\"marker\":{\"color\":\"#0072B2\"},\"orientation\":\"h\",\"x\":[0.3054414391517639,0.3315041959285736,0.3411885201931,0.346705824136734,0.34875261783599854,0.3488277494907379,0.37577205896377563,0.47058025002479553,0.5105009078979492,0.6535491347312927],\"y\":[\"garden  \",\"station  \",\"area  \",\"place  \",\"brauhaus  \",\"rathaus  \",\"friedrichshainkreuzberg  \",\"kollwitz  \",\"park  \",\"kreuzberg  \"],\"type\":\"bar\",\"xaxis\":\"x9\",\"yaxis\":\"y9\"},{\"marker\":{\"color\":\"#CC79A7\"},\"orientation\":\"h\",\"x\":[0.44771355390548706,0.45361900329589844,0.46726328134536743,0.4753594994544983,0.5167357921600342,0.5184712409973145,0.5710382461547852,0.5832342505455017,0.6729947924613953,0.7118580341339111],\"y\":[\"picturesque  \",\"lutheran  \",\"choir  \",\"protestant  \",\"pastor  \",\"theology  \",\"sermons  \",\"precisechurch  \",\"churches  \",\"church  \"],\"type\":\"bar\",\"xaxis\":\"x10\",\"yaxis\":\"y10\"},{\"marker\":{\"color\":\"#E69F00\"},\"orientation\":\"h\",\"x\":[0.4040282070636749,0.4100193381309509,0.417047381401062,0.44882869720458984,0.48828184604644775,0.49477243423461914,0.5313210487365723,0.5456144213676453,0.5766647458076477,0.5812851786613464],\"y\":[\"underground  \",\"potsdamer  \",\"railway  \",\"stations  \",\"subway  \",\"station  \",\"nordbahnhof  \",\"berlinfrom  \",\"berlin  \",\"bahnhof  \"],\"type\":\"bar\",\"xaxis\":\"x11\",\"yaxis\":\"y11\"},{\"marker\":{\"color\":\"#56B4E9\"},\"orientation\":\"h\",\"x\":[0.3745272755622864,0.3766196370124817,0.3880658745765686,0.3988303244113922,0.3997037708759308,0.4237307906150818,0.4461388885974884,0.4625358283519745,0.5036150813102722,0.5600528120994568],\"y\":[\"walk  \",\"grass  \",\"leash  \",\"parkour  \",\"leashes  \",\"meadows  \",\"dog  \",\"lawn  \",\"dogs  \",\"park  \"],\"type\":\"bar\",\"xaxis\":\"x12\",\"yaxis\":\"y12\"},{\"marker\":{\"color\":\"#009E73\"},\"orientation\":\"h\",\"x\":[0.4545716941356659,0.4688417315483093,0.5134637355804443,0.5165894031524658,0.5247153043746948,0.5612836480140686,0.5743761658668518,0.600326418876648,0.6131953001022339,0.7274051308631897],\"y\":[\"beatiful  \",\"joyful  \",\"thank  \",\"amazing  \",\"cute  \",\"lovely  \",\"stunning  \",\"gorgeous  \",\"pretty  \",\"beautiful  \"],\"type\":\"bar\",\"xaxis\":\"x13\",\"yaxis\":\"y13\"},{\"marker\":{\"color\":\"#F0E442\"},\"orientation\":\"h\",\"x\":[0.4283984303474426,0.4283984303474426,0.4283984303474426,0.4283984303474426,0.4283984303474426,0.4283984303474426,0.4283984303474426,0.5166281461715698,0.5738956332206726,0.6793920993804932],\"y\":[\"  \",\"  \",\"  \",\"  \",\"  \",\"  \",\"  \",\"kp  \",\"jk  \",\"1h1h11  \"],\"type\":\"bar\",\"xaxis\":\"x14\",\"yaxis\":\"y14\"},{\"marker\":{\"color\":\"#D55E00\"},\"orientation\":\"h\",\"x\":[0.3873036503791809,0.39180082082748413,0.40140700340270996,0.4018574357032776,0.40412139892578125,0.4142410457134247,0.42773258686065674,0.448398619890213,0.4580756425857544,0.5234577059745789],\"y\":[\"resto  \",\"parco  \",\"molto  \",\"gratuiti  \",\"una  \",\"une  \",\"veramente  \",\"posto  \",\"penso  \",\"delle  \"],\"type\":\"bar\",\"xaxis\":\"x15\",\"yaxis\":\"y15\"},{\"marker\":{\"color\":\"#0072B2\"},\"orientation\":\"h\",\"x\":[0.3046630620956421,0.30509746074676514,0.3053455352783203,0.31782621145248413,0.347403883934021,0.35500895977020264,0.373272567987442,0.4435589909553528,0.48263686895370483,0.5291165113449097],\"y\":[\"homeless  \",\"facility  \",\"villages  \",\"trash  \",\"garbage  \",\"litter  \",\"graffiti  \",\"parks  \",\"parking  \",\"park  \"],\"type\":\"bar\",\"xaxis\":\"x16\",\"yaxis\":\"y16\"},{\"marker\":{\"color\":\"#CC79A7\"},\"orientation\":\"h\",\"x\":[0.582374632358551,0.582374632358551,0.582374632358551,0.582374632358551,0.582374632358551,0.582374632358551,0.582374632358551,0.582374632358551,0.8276994228363037,0.8636152148246765],\"y\":[\"  \",\"  \",\"  \",\"  \",\"  \",\"  \",\"  \",\"  \",\"okay  \",\"ok  \"],\"type\":\"bar\",\"xaxis\":\"x17\",\"yaxis\":\"y17\"},{\"marker\":{\"color\":\"#E69F00\"},\"orientation\":\"h\",\"x\":[0.2536563277244568,0.2666184604167938,0.2760978937149048,0.38709330558776855,0.40159064531326294,0.4444029927253723,0.4673007130622864,0.4715143144130707,0.47751283645629883,0.5377085208892822],\"y\":[\"tour  \",\"runways  \",\"aviation  \",\"haupbahnhof  \",\"tempelhofer  \",\"airports  \",\"airfield  \",\"tempelhof  \",\"airport  \",\"berlin  \"],\"type\":\"bar\",\"xaxis\":\"x18\",\"yaxis\":\"y18\"},{\"marker\":{\"color\":\"#56B4E9\"},\"orientation\":\"h\",\"x\":[0.35566332936286926,0.35738110542297363,0.38451117277145386,0.41036516427993774,0.41297656297683716,0.4268810749053955,0.4375322461128235,0.44351252913475037,0.47810715436935425,0.5002326965332031],\"y\":[\"paradise  \",\"daycare  \",\"family  \",\"facility  \",\"kids  \",\"families  \",\"children  \",\"childrenvery  \",\"childrens  \",\"place  \"],\"type\":\"bar\",\"xaxis\":\"x19\",\"yaxis\":\"y19\"},{\"marker\":{\"color\":\"#009E73\"},\"orientation\":\"h\",\"x\":[0.28483617305755615,0.2900225520133972,0.30290868878364563,0.3113817274570465,0.3254235088825226,0.3455551862716675,0.3481285870075226,0.4072043001651764,0.607671856880188,0.6250284910202026],\"y\":[\"species  \",\"elephants  \",\"visit  \",\"aquarium  \",\"animal  \",\"visiting  \",\"cages  \",\"animals  \",\"zoos  \",\"zoo  \"],\"type\":\"bar\",\"xaxis\":\"x20\",\"yaxis\":\"y20\"},{\"marker\":{\"color\":\"#F0E442\"},\"orientation\":\"h\",\"x\":[0.38192713260650635,0.3958064615726471,0.3989834189414978,0.4261323809623718,0.4920370876789093,0.5668056011199951,0.5707437992095947,0.5720565915107727,0.6494818329811096,0.6569057703018188],\"y\":[\"whiskey  \",\"pleasant  \",\"cozy  \",\"wines  \",\"drinks  \",\"bartenders  \",\"bartender  \",\"bar  \",\"cocktail  \",\"cocktails  \"],\"type\":\"bar\",\"xaxis\":\"x21\",\"yaxis\":\"y21\"},{\"marker\":{\"color\":\"#D55E00\"},\"orientation\":\"h\",\"x\":[0.3671632409095764,0.38105690479278564,0.3824712634086609,0.3879806399345398,0.43582335114479065,0.45290759205818176,0.463558554649353,0.49079105257987976,0.5224509835243225,0.5525248050689697],\"y\":[\"pricey  \",\"prices  \",\"furniturehouseware  \",\"fashion  \",\"clothes  \",\"clothing  \",\"thrift  \",\"store  \",\"stores  \",\"shop  \"],\"type\":\"bar\",\"xaxis\":\"x22\",\"yaxis\":\"y22\"},{\"marker\":{\"color\":\"#0072B2\"},\"orientation\":\"h\",\"x\":[0.22041912376880646,0.24193046987056732,0.248393714427948,0.25049251317977905,0.26305925846099854,0.27720701694488525,0.28027477860450745,0.2803877592086792,0.3024801015853882,0.41724294424057007],\"y\":[\"addicts  \",\"crimes  \",\"dangerous  \",\"unsafe  \",\"police  \",\"criminals  \",\"neighborhood  \",\"drug  \",\"drugs  \",\"park  \"],\"type\":\"bar\",\"xaxis\":\"x23\",\"yaxis\":\"y23\"},{\"marker\":{\"color\":\"#CC79A7\"},\"orientation\":\"h\",\"x\":[0.29135796427726746,0.30366572737693787,0.3047693967819214,0.31567245721817017,0.35584160685539246,0.3577805757522583,0.38598644733428955,0.417927086353302,0.4281875789165497,0.4381970763206482],\"y\":[\"delays  \",\"carriages  \",\"passenger  \",\"traveling  \",\"transport  \",\"passengers  \",\"neb  \",\"train  \",\"trains  \",\"railway  \"],\"type\":\"bar\",\"xaxis\":\"x24\",\"yaxis\":\"y24\"},{\"marker\":{\"color\":\"#E69F00\"},\"orientation\":\"h\",\"x\":[0.37102821469306946,0.4035872220993042,0.4055348038673401,0.4649403691291809,0.4658656120300293,0.4750852584838867,0.49312061071395874,0.509993314743042,0.7886105179786682,0.8003358840942383],\"y\":[\"grandchildren  \",\"childfriendly  \",\"toys  \",\"toddlers  \",\"kids  \",\"childrenthe  \",\"children  \",\"childrens  \",\"playground  \",\"playgrounds  \"],\"type\":\"bar\",\"xaxis\":\"x25\",\"yaxis\":\"y25\"},{\"marker\":{\"color\":\"#56B4E9\"},\"orientation\":\"h\",\"x\":[0.42724430561065674,0.4292099177837372,0.4488430917263031,0.4562534987926483,0.5463852286338806,0.5612743496894836,0.6465353965759277,0.6650898456573486,0.6694917678833008,0.704413115978241],\"y\":[\"reading  \",\"cookbook  \",\"recommendation  \",\"recommendations  \",\"book  \",\"booksellers  \",\"books  \",\"bookstorebest  \",\"bookshop  \",\"bookstore  \"],\"type\":\"bar\",\"xaxis\":\"x26\",\"yaxis\":\"y26\"},{\"marker\":{\"color\":\"#009E73\"},\"orientation\":\"h\",\"x\":[0.31590279936790466,0.3264283537864685,0.3266776204109192,0.34618711471557617,0.35215333104133606,0.35487404465675354,0.3708239197731018,0.3859301209449768,0.5744681358337402,0.5751020908355713],\"y\":[\"engels  \",\"sculptures  \",\"revolutionary  \",\"philosopher  \",\"socialist  \",\"manifesto  \",\"monument  \",\"friedrich  \",\"marxengelsforum  \",\"marx  \"],\"type\":\"bar\",\"xaxis\":\"x27\",\"yaxis\":\"y27\"},{\"marker\":{\"color\":\"#F0E442\"},\"orientation\":\"h\",\"x\":[0.39648574590682983,0.39648574590682983,0.39648574590682983,0.39648574590682983,0.39648574590682983,0.39648574590682983,0.39648574590682983,0.39648574590682983,0.43693673610687256,0.8844587802886963],\"y\":[\"  \",\"  \",\"  \",\"  \",\"  \",\"  \",\"  \",\"  \",\"mega  \",\"super  \"],\"type\":\"bar\",\"xaxis\":\"x28\",\"yaxis\":\"y28\"},{\"marker\":{\"color\":\"#D55E00\"},\"orientation\":\"h\",\"x\":[0.26442357897758484,0.2687143385410309,0.33080926537513733,0.3519038259983063,0.3684377670288086,0.4106597304344177,0.49315738677978516,0.5564363598823547,0.6010494232177734,0.8288872241973877],\"y\":[\"symbol  \",\"detailing  \",\"famous  \",\"spectacular  \",\"fascinated  \",\"tower  \",\"sculpture  \",\"statues  \",\"statue  \",\"monument  \"],\"type\":\"bar\",\"xaxis\":\"x29\",\"yaxis\":\"y29\"},{\"marker\":{\"color\":\"#0072B2\"},\"orientation\":\"h\",\"x\":[0.5308427810668945,0.5308427810668945,0.5308427810668945,0.5308427810668945,0.5308427810668945,0.5308427810668945,0.5308427810668945,0.5308427810668945,0.5697687864303589,0.7824045419692993],\"y\":[\"  \",\"  \",\"  \",\"  \",\"  \",\"  \",\"  \",\"  \",\"awesome  \",\"nice  \"],\"type\":\"bar\",\"xaxis\":\"x30\",\"yaxis\":\"y30\"},{\"marker\":{\"color\":\"#CC79A7\"},\"orientation\":\"h\",\"x\":[0.2210066020488739,0.25124281644821167,0.25515538454055786,0.25738078355789185,0.2707304358482361,0.3028079569339752,0.3153730034828186,0.3516082465648651,0.3664814233779907,0.37430959939956665],\"y\":[\"service  \",\"childrens  \",\"david  \",\"who  \",\"choralspace  \",\"festival  \",\"angie  \",\"fajne  \",\"chancellor  \",\"miejsce  \"],\"type\":\"bar\",\"xaxis\":\"x31\",\"yaxis\":\"y31\"},{\"marker\":{\"color\":\"#E69F00\"},\"orientation\":\"h\",\"x\":[0.3112828731536865,0.31993234157562256,0.32351216673851013,0.3241366147994995,0.3404565155506134,0.3746429979801178,0.4183054566383362,0.4375210106372833,0.5088785886764526,0.6080134510993958],\"y\":[\"benches  \",\"birds  \",\"swans  \",\"ducks  \",\"hiking  \",\"herons  \",\"picnic  \",\"scenery  \",\"lake  \",\"pond  \"],\"type\":\"bar\",\"xaxis\":\"x32\",\"yaxis\":\"y32\"},{\"marker\":{\"color\":\"#56B4E9\"},\"orientation\":\"h\",\"x\":[0.385716050863266,0.3953288793563843,0.3961253762245178,0.4115638732910156,0.4270516037940979,0.44850409030914307,0.45751243829727173,0.4990789294242859,0.590884804725647,0.7199515104293823],\"y\":[\"loud  \",\"traffic  \",\"near  \",\"busy  \",\"crowdy  \",\"tourist  \",\"tourists  \",\"cramped  \",\"overcrowded  \",\"crowded  \"],\"type\":\"bar\",\"xaxis\":\"x33\",\"yaxis\":\"y33\"},{\"marker\":{\"color\":\"#009E73\"},\"orientation\":\"h\",\"x\":[0.23438361287117004,0.236863911151886,0.23737864196300507,0.2442743480205536,0.2546343207359314,0.30157434940338135,0.3507648706436157,0.38193759322166443,0.5317671895027161,0.6427952647209167],\"y\":[\"street  \",\"market  \",\"marketsunday  \",\"markets  \",\"markethere  \",\"shopping  \",\"charlottenburg  \",\"shops  \",\"berliners  \",\"berlin  \"],\"type\":\"bar\",\"xaxis\":\"x34\",\"yaxis\":\"y34\"},{\"marker\":{\"color\":\"#F0E442\"},\"orientation\":\"h\",\"x\":[0.2900840640068054,0.30934619903564453,0.31328994035720825,0.32648229598999023,0.3342304229736328,0.37229880690574646,0.39087408781051636,0.45832517743110657,0.6714421510696411,0.7251606583595276],\"y\":[\"drown  \",\"water  \",\"renovated  \",\"volkspark  \",\"visit  \",\"splashing  \",\"place  \",\"park  \",\"fountains  \",\"fountain  \"],\"type\":\"bar\",\"xaxis\":\"x35\",\"yaxis\":\"y35\"},{\"marker\":{\"color\":\"#D55E00\"},\"orientation\":\"h\",\"x\":[0.33457624912261963,0.33630508184432983,0.3379606306552887,0.3407854437828064,0.3490596413612366,0.3653762936592102,0.3909195363521576,0.4027963876724243,0.5243195295333862,0.6320909261703491],\"y\":[\"placeromantic  \",\"spot  \",\"lovely  \",\"area  \",\"beautiful  \",\"beaucoup  \",\"buatiful  \",\"surroundings  \",\"places  \",\"place  \"],\"type\":\"bar\",\"xaxis\":\"x36\",\"yaxis\":\"y36\"},{\"marker\":{\"color\":\"#0072B2\"},\"orientation\":\"h\",\"x\":[0.36453479528427124,0.3659084439277649,0.3772447109222412,0.3801518678665161,0.38705089688301086,0.39086174964904785,0.40209347009658813,0.4098673462867737,0.4112909436225891,0.47754353284835815],\"y\":[\"birlikte  \",\"kurutma  \",\"szczecine  \",\"szlaki  \",\"przyjazne  \",\"olmakla  \",\"za  \",\"rozkvetljsou  \",\"przejcia  \",\"zahrada  \"],\"type\":\"bar\",\"xaxis\":\"x37\",\"yaxis\":\"y37\"},{\"marker\":{\"color\":\"#CC79A7\"},\"orientation\":\"h\",\"x\":[0.2960088849067688,0.30497977137565613,0.30643510818481445,0.31892234086990356,0.3312709629535675,0.38403230905532837,0.3966451585292816,0.4282070994377136,0.4329512119293213,0.5188875198364258],\"y\":[\"dinner  \",\"food  \",\"kitchen  \",\"meal  \",\"beers  \",\"german  \",\"cuisine  \",\"restaurant  \",\"schnitzel  \",\"berlin  \"],\"type\":\"bar\",\"xaxis\":\"x38\",\"yaxis\":\"y38\"},{\"marker\":{\"color\":\"#E69F00\"},\"orientation\":\"h\",\"x\":[0.24146369099617004,0.24477450549602509,0.24679437279701233,0.26730719208717346,0.275061696767807,0.3009728789329529,0.39830511808395386,0.4546806812286377,0.643677830696106,0.6640145778656006],\"y\":[\"indoor  \",\"facilities  \",\"water  \",\"clean  \",\"laps  \",\"showers  \",\"swim  \",\"swimming  \",\"pools  \",\"pool  \"],\"type\":\"bar\",\"xaxis\":\"x39\",\"yaxis\":\"y39\"},{\"marker\":{\"color\":\"#56B4E9\"},\"orientation\":\"h\",\"x\":[0.3025335669517517,0.3225829005241394,0.33027973771095276,0.3559097945690155,0.37335655093193054,0.4204641580581665,0.45571404695510864,0.5102143287658691,0.6625106930732727,0.7603517770767212],\"y\":[\"drive  \",\"exits  \",\"driving  \",\"car  \",\"station  \",\"bahnpark  \",\"rental  \",\"garage  \",\"parked  \",\"parking  \"],\"type\":\"bar\",\"xaxis\":\"x40\",\"yaxis\":\"y40\"}],                        {\"template\":{\"data\":{\"barpolar\":[{\"marker\":{\"line\":{\"color\":\"white\",\"width\":0.5},\"pattern\":{\"fillmode\":\"overlay\",\"size\":10,\"solidity\":0.2}},\"type\":\"barpolar\"}],\"bar\":[{\"error_x\":{\"color\":\"#2a3f5f\"},\"error_y\":{\"color\":\"#2a3f5f\"},\"marker\":{\"line\":{\"color\":\"white\",\"width\":0.5},\"pattern\":{\"fillmode\":\"overlay\",\"size\":10,\"solidity\":0.2}},\"type\":\"bar\"}],\"carpet\":[{\"aaxis\":{\"endlinecolor\":\"#2a3f5f\",\"gridcolor\":\"#C8D4E3\",\"linecolor\":\"#C8D4E3\",\"minorgridcolor\":\"#C8D4E3\",\"startlinecolor\":\"#2a3f5f\"},\"baxis\":{\"endlinecolor\":\"#2a3f5f\",\"gridcolor\":\"#C8D4E3\",\"linecolor\":\"#C8D4E3\",\"minorgridcolor\":\"#C8D4E3\",\"startlinecolor\":\"#2a3f5f\"},\"type\":\"carpet\"}],\"choropleth\":[{\"colorbar\":{\"outlinewidth\":0,\"ticks\":\"\"},\"type\":\"choropleth\"}],\"contourcarpet\":[{\"colorbar\":{\"outlinewidth\":0,\"ticks\":\"\"},\"type\":\"contourcarpet\"}],\"contour\":[{\"colorbar\":{\"outlinewidth\":0,\"ticks\":\"\"},\"colorscale\":[[0.0,\"#0d0887\"],[0.1111111111111111,\"#46039f\"],[0.2222222222222222,\"#7201a8\"],[0.3333333333333333,\"#9c179e\"],[0.4444444444444444,\"#bd3786\"],[0.5555555555555556,\"#d8576b\"],[0.6666666666666666,\"#ed7953\"],[0.7777777777777778,\"#fb9f3a\"],[0.8888888888888888,\"#fdca26\"],[1.0,\"#f0f921\"]],\"type\":\"contour\"}],\"heatmapgl\":[{\"colorbar\":{\"outlinewidth\":0,\"ticks\":\"\"},\"colorscale\":[[0.0,\"#0d0887\"],[0.1111111111111111,\"#46039f\"],[0.2222222222222222,\"#7201a8\"],[0.3333333333333333,\"#9c179e\"],[0.4444444444444444,\"#bd3786\"],[0.5555555555555556,\"#d8576b\"],[0.6666666666666666,\"#ed7953\"],[0.7777777777777778,\"#fb9f3a\"],[0.8888888888888888,\"#fdca26\"],[1.0,\"#f0f921\"]],\"type\":\"heatmapgl\"}],\"heatmap\":[{\"colorbar\":{\"outlinewidth\":0,\"ticks\":\"\"},\"colorscale\":[[0.0,\"#0d0887\"],[0.1111111111111111,\"#46039f\"],[0.2222222222222222,\"#7201a8\"],[0.3333333333333333,\"#9c179e\"],[0.4444444444444444,\"#bd3786\"],[0.5555555555555556,\"#d8576b\"],[0.6666666666666666,\"#ed7953\"],[0.7777777777777778,\"#fb9f3a\"],[0.8888888888888888,\"#fdca26\"],[1.0,\"#f0f921\"]],\"type\":\"heatmap\"}],\"histogram2dcontour\":[{\"colorbar\":{\"outlinewidth\":0,\"ticks\":\"\"},\"colorscale\":[[0.0,\"#0d0887\"],[0.1111111111111111,\"#46039f\"],[0.2222222222222222,\"#7201a8\"],[0.3333333333333333,\"#9c179e\"],[0.4444444444444444,\"#bd3786\"],[0.5555555555555556,\"#d8576b\"],[0.6666666666666666,\"#ed7953\"],[0.7777777777777778,\"#fb9f3a\"],[0.8888888888888888,\"#fdca26\"],[1.0,\"#f0f921\"]],\"type\":\"histogram2dcontour\"}],\"histogram2d\":[{\"colorbar\":{\"outlinewidth\":0,\"ticks\":\"\"},\"colorscale\":[[0.0,\"#0d0887\"],[0.1111111111111111,\"#46039f\"],[0.2222222222222222,\"#7201a8\"],[0.3333333333333333,\"#9c179e\"],[0.4444444444444444,\"#bd3786\"],[0.5555555555555556,\"#d8576b\"],[0.6666666666666666,\"#ed7953\"],[0.7777777777777778,\"#fb9f3a\"],[0.8888888888888888,\"#fdca26\"],[1.0,\"#f0f921\"]],\"type\":\"histogram2d\"}],\"histogram\":[{\"marker\":{\"pattern\":{\"fillmode\":\"overlay\",\"size\":10,\"solidity\":0.2}},\"type\":\"histogram\"}],\"mesh3d\":[{\"colorbar\":{\"outlinewidth\":0,\"ticks\":\"\"},\"type\":\"mesh3d\"}],\"parcoords\":[{\"line\":{\"colorbar\":{\"outlinewidth\":0,\"ticks\":\"\"}},\"type\":\"parcoords\"}],\"pie\":[{\"automargin\":true,\"type\":\"pie\"}],\"scatter3d\":[{\"line\":{\"colorbar\":{\"outlinewidth\":0,\"ticks\":\"\"}},\"marker\":{\"colorbar\":{\"outlinewidth\":0,\"ticks\":\"\"}},\"type\":\"scatter3d\"}],\"scattercarpet\":[{\"marker\":{\"colorbar\":{\"outlinewidth\":0,\"ticks\":\"\"}},\"type\":\"scattercarpet\"}],\"scattergeo\":[{\"marker\":{\"colorbar\":{\"outlinewidth\":0,\"ticks\":\"\"}},\"type\":\"scattergeo\"}],\"scattergl\":[{\"marker\":{\"colorbar\":{\"outlinewidth\":0,\"ticks\":\"\"}},\"type\":\"scattergl\"}],\"scattermapbox\":[{\"marker\":{\"colorbar\":{\"outlinewidth\":0,\"ticks\":\"\"}},\"type\":\"scattermapbox\"}],\"scatterpolargl\":[{\"marker\":{\"colorbar\":{\"outlinewidth\":0,\"ticks\":\"\"}},\"type\":\"scatterpolargl\"}],\"scatterpolar\":[{\"marker\":{\"colorbar\":{\"outlinewidth\":0,\"ticks\":\"\"}},\"type\":\"scatterpolar\"}],\"scatter\":[{\"fillpattern\":{\"fillmode\":\"overlay\",\"size\":10,\"solidity\":0.2},\"type\":\"scatter\"}],\"scatterternary\":[{\"marker\":{\"colorbar\":{\"outlinewidth\":0,\"ticks\":\"\"}},\"type\":\"scatterternary\"}],\"surface\":[{\"colorbar\":{\"outlinewidth\":0,\"ticks\":\"\"},\"colorscale\":[[0.0,\"#0d0887\"],[0.1111111111111111,\"#46039f\"],[0.2222222222222222,\"#7201a8\"],[0.3333333333333333,\"#9c179e\"],[0.4444444444444444,\"#bd3786\"],[0.5555555555555556,\"#d8576b\"],[0.6666666666666666,\"#ed7953\"],[0.7777777777777778,\"#fb9f3a\"],[0.8888888888888888,\"#fdca26\"],[1.0,\"#f0f921\"]],\"type\":\"surface\"}],\"table\":[{\"cells\":{\"fill\":{\"color\":\"#EBF0F8\"},\"line\":{\"color\":\"white\"}},\"header\":{\"fill\":{\"color\":\"#C8D4E3\"},\"line\":{\"color\":\"white\"}},\"type\":\"table\"}]},\"layout\":{\"annotationdefaults\":{\"arrowcolor\":\"#2a3f5f\",\"arrowhead\":0,\"arrowwidth\":1},\"autotypenumbers\":\"strict\",\"coloraxis\":{\"colorbar\":{\"outlinewidth\":0,\"ticks\":\"\"}},\"colorscale\":{\"diverging\":[[0,\"#8e0152\"],[0.1,\"#c51b7d\"],[0.2,\"#de77ae\"],[0.3,\"#f1b6da\"],[0.4,\"#fde0ef\"],[0.5,\"#f7f7f7\"],[0.6,\"#e6f5d0\"],[0.7,\"#b8e186\"],[0.8,\"#7fbc41\"],[0.9,\"#4d9221\"],[1,\"#276419\"]],\"sequential\":[[0.0,\"#0d0887\"],[0.1111111111111111,\"#46039f\"],[0.2222222222222222,\"#7201a8\"],[0.3333333333333333,\"#9c179e\"],[0.4444444444444444,\"#bd3786\"],[0.5555555555555556,\"#d8576b\"],[0.6666666666666666,\"#ed7953\"],[0.7777777777777778,\"#fb9f3a\"],[0.8888888888888888,\"#fdca26\"],[1.0,\"#f0f921\"]],\"sequentialminus\":[[0.0,\"#0d0887\"],[0.1111111111111111,\"#46039f\"],[0.2222222222222222,\"#7201a8\"],[0.3333333333333333,\"#9c179e\"],[0.4444444444444444,\"#bd3786\"],[0.5555555555555556,\"#d8576b\"],[0.6666666666666666,\"#ed7953\"],[0.7777777777777778,\"#fb9f3a\"],[0.8888888888888888,\"#fdca26\"],[1.0,\"#f0f921\"]]},\"colorway\":[\"#636efa\",\"#EF553B\",\"#00cc96\",\"#ab63fa\",\"#FFA15A\",\"#19d3f3\",\"#FF6692\",\"#B6E880\",\"#FF97FF\",\"#FECB52\"],\"font\":{\"color\":\"#2a3f5f\"},\"geo\":{\"bgcolor\":\"white\",\"lakecolor\":\"white\",\"landcolor\":\"white\",\"showlakes\":true,\"showland\":true,\"subunitcolor\":\"#C8D4E3\"},\"hoverlabel\":{\"align\":\"left\"},\"hovermode\":\"closest\",\"mapbox\":{\"style\":\"light\"},\"paper_bgcolor\":\"white\",\"plot_bgcolor\":\"white\",\"polar\":{\"angularaxis\":{\"gridcolor\":\"#EBF0F8\",\"linecolor\":\"#EBF0F8\",\"ticks\":\"\"},\"bgcolor\":\"white\",\"radialaxis\":{\"gridcolor\":\"#EBF0F8\",\"linecolor\":\"#EBF0F8\",\"ticks\":\"\"}},\"scene\":{\"xaxis\":{\"backgroundcolor\":\"white\",\"gridcolor\":\"#DFE8F3\",\"gridwidth\":2,\"linecolor\":\"#EBF0F8\",\"showbackground\":true,\"ticks\":\"\",\"zerolinecolor\":\"#EBF0F8\"},\"yaxis\":{\"backgroundcolor\":\"white\",\"gridcolor\":\"#DFE8F3\",\"gridwidth\":2,\"linecolor\":\"#EBF0F8\",\"showbackground\":true,\"ticks\":\"\",\"zerolinecolor\":\"#EBF0F8\"},\"zaxis\":{\"backgroundcolor\":\"white\",\"gridcolor\":\"#DFE8F3\",\"gridwidth\":2,\"linecolor\":\"#EBF0F8\",\"showbackground\":true,\"ticks\":\"\",\"zerolinecolor\":\"#EBF0F8\"}},\"shapedefaults\":{\"line\":{\"color\":\"#2a3f5f\"}},\"ternary\":{\"aaxis\":{\"gridcolor\":\"#DFE8F3\",\"linecolor\":\"#A2B1C6\",\"ticks\":\"\"},\"baxis\":{\"gridcolor\":\"#DFE8F3\",\"linecolor\":\"#A2B1C6\",\"ticks\":\"\"},\"bgcolor\":\"white\",\"caxis\":{\"gridcolor\":\"#DFE8F3\",\"linecolor\":\"#A2B1C6\",\"ticks\":\"\"}},\"title\":{\"x\":0.05},\"xaxis\":{\"automargin\":true,\"gridcolor\":\"#EBF0F8\",\"linecolor\":\"#EBF0F8\",\"ticks\":\"\",\"title\":{\"standoff\":15},\"zerolinecolor\":\"#EBF0F8\",\"zerolinewidth\":2},\"yaxis\":{\"automargin\":true,\"gridcolor\":\"#EBF0F8\",\"linecolor\":\"#EBF0F8\",\"ticks\":\"\",\"title\":{\"standoff\":15},\"zerolinecolor\":\"#EBF0F8\",\"zerolinewidth\":2}}},\"xaxis\":{\"anchor\":\"y\",\"domain\":[0.0,0.175],\"showgrid\":true},\"yaxis\":{\"anchor\":\"x\",\"domain\":[0.936,1.0],\"showgrid\":true},\"xaxis2\":{\"anchor\":\"y2\",\"domain\":[0.275,0.45],\"showgrid\":true},\"yaxis2\":{\"anchor\":\"x2\",\"domain\":[0.936,1.0],\"showgrid\":true},\"xaxis3\":{\"anchor\":\"y3\",\"domain\":[0.55,0.7250000000000001],\"showgrid\":true},\"yaxis3\":{\"anchor\":\"x3\",\"domain\":[0.936,1.0],\"showgrid\":true},\"xaxis4\":{\"anchor\":\"y4\",\"domain\":[0.825,1.0],\"showgrid\":true},\"yaxis4\":{\"anchor\":\"x4\",\"domain\":[0.936,1.0],\"showgrid\":true},\"xaxis5\":{\"anchor\":\"y5\",\"domain\":[0.0,0.175],\"showgrid\":true},\"yaxis5\":{\"anchor\":\"x5\",\"domain\":[0.8320000000000001,0.8960000000000001],\"showgrid\":true},\"xaxis6\":{\"anchor\":\"y6\",\"domain\":[0.275,0.45],\"showgrid\":true},\"yaxis6\":{\"anchor\":\"x6\",\"domain\":[0.8320000000000001,0.8960000000000001],\"showgrid\":true},\"xaxis7\":{\"anchor\":\"y7\",\"domain\":[0.55,0.7250000000000001],\"showgrid\":true},\"yaxis7\":{\"anchor\":\"x7\",\"domain\":[0.8320000000000001,0.8960000000000001],\"showgrid\":true},\"xaxis8\":{\"anchor\":\"y8\",\"domain\":[0.825,1.0],\"showgrid\":true},\"yaxis8\":{\"anchor\":\"x8\",\"domain\":[0.8320000000000001,0.8960000000000001],\"showgrid\":true},\"xaxis9\":{\"anchor\":\"y9\",\"domain\":[0.0,0.175],\"showgrid\":true},\"yaxis9\":{\"anchor\":\"x9\",\"domain\":[0.728,0.792],\"showgrid\":true},\"xaxis10\":{\"anchor\":\"y10\",\"domain\":[0.275,0.45],\"showgrid\":true},\"yaxis10\":{\"anchor\":\"x10\",\"domain\":[0.728,0.792],\"showgrid\":true},\"xaxis11\":{\"anchor\":\"y11\",\"domain\":[0.55,0.7250000000000001],\"showgrid\":true},\"yaxis11\":{\"anchor\":\"x11\",\"domain\":[0.728,0.792],\"showgrid\":true},\"xaxis12\":{\"anchor\":\"y12\",\"domain\":[0.825,1.0],\"showgrid\":true},\"yaxis12\":{\"anchor\":\"x12\",\"domain\":[0.728,0.792],\"showgrid\":true},\"xaxis13\":{\"anchor\":\"y13\",\"domain\":[0.0,0.175],\"showgrid\":true},\"yaxis13\":{\"anchor\":\"x13\",\"domain\":[0.624,0.688],\"showgrid\":true},\"xaxis14\":{\"anchor\":\"y14\",\"domain\":[0.275,0.45],\"showgrid\":true},\"yaxis14\":{\"anchor\":\"x14\",\"domain\":[0.624,0.688],\"showgrid\":true},\"xaxis15\":{\"anchor\":\"y15\",\"domain\":[0.55,0.7250000000000001],\"showgrid\":true},\"yaxis15\":{\"anchor\":\"x15\",\"domain\":[0.624,0.688],\"showgrid\":true},\"xaxis16\":{\"anchor\":\"y16\",\"domain\":[0.825,1.0],\"showgrid\":true},\"yaxis16\":{\"anchor\":\"x16\",\"domain\":[0.624,0.688],\"showgrid\":true},\"xaxis17\":{\"anchor\":\"y17\",\"domain\":[0.0,0.175],\"showgrid\":true},\"yaxis17\":{\"anchor\":\"x17\",\"domain\":[0.52,0.5840000000000001],\"showgrid\":true},\"xaxis18\":{\"anchor\":\"y18\",\"domain\":[0.275,0.45],\"showgrid\":true},\"yaxis18\":{\"anchor\":\"x18\",\"domain\":[0.52,0.5840000000000001],\"showgrid\":true},\"xaxis19\":{\"anchor\":\"y19\",\"domain\":[0.55,0.7250000000000001],\"showgrid\":true},\"yaxis19\":{\"anchor\":\"x19\",\"domain\":[0.52,0.5840000000000001],\"showgrid\":true},\"xaxis20\":{\"anchor\":\"y20\",\"domain\":[0.825,1.0],\"showgrid\":true},\"yaxis20\":{\"anchor\":\"x20\",\"domain\":[0.52,0.5840000000000001],\"showgrid\":true},\"xaxis21\":{\"anchor\":\"y21\",\"domain\":[0.0,0.175],\"showgrid\":true},\"yaxis21\":{\"anchor\":\"x21\",\"domain\":[0.41600000000000004,0.48000000000000004],\"showgrid\":true},\"xaxis22\":{\"anchor\":\"y22\",\"domain\":[0.275,0.45],\"showgrid\":true},\"yaxis22\":{\"anchor\":\"x22\",\"domain\":[0.41600000000000004,0.48000000000000004],\"showgrid\":true},\"xaxis23\":{\"anchor\":\"y23\",\"domain\":[0.55,0.7250000000000001],\"showgrid\":true},\"yaxis23\":{\"anchor\":\"x23\",\"domain\":[0.41600000000000004,0.48000000000000004],\"showgrid\":true},\"xaxis24\":{\"anchor\":\"y24\",\"domain\":[0.825,1.0],\"showgrid\":true},\"yaxis24\":{\"anchor\":\"x24\",\"domain\":[0.41600000000000004,0.48000000000000004],\"showgrid\":true},\"xaxis25\":{\"anchor\":\"y25\",\"domain\":[0.0,0.175],\"showgrid\":true},\"yaxis25\":{\"anchor\":\"x25\",\"domain\":[0.312,0.376],\"showgrid\":true},\"xaxis26\":{\"anchor\":\"y26\",\"domain\":[0.275,0.45],\"showgrid\":true},\"yaxis26\":{\"anchor\":\"x26\",\"domain\":[0.312,0.376],\"showgrid\":true},\"xaxis27\":{\"anchor\":\"y27\",\"domain\":[0.55,0.7250000000000001],\"showgrid\":true},\"yaxis27\":{\"anchor\":\"x27\",\"domain\":[0.312,0.376],\"showgrid\":true},\"xaxis28\":{\"anchor\":\"y28\",\"domain\":[0.825,1.0],\"showgrid\":true},\"yaxis28\":{\"anchor\":\"x28\",\"domain\":[0.312,0.376],\"showgrid\":true},\"xaxis29\":{\"anchor\":\"y29\",\"domain\":[0.0,0.175],\"showgrid\":true},\"yaxis29\":{\"anchor\":\"x29\",\"domain\":[0.20800000000000002,0.272],\"showgrid\":true},\"xaxis30\":{\"anchor\":\"y30\",\"domain\":[0.275,0.45],\"showgrid\":true},\"yaxis30\":{\"anchor\":\"x30\",\"domain\":[0.20800000000000002,0.272],\"showgrid\":true},\"xaxis31\":{\"anchor\":\"y31\",\"domain\":[0.55,0.7250000000000001],\"showgrid\":true},\"yaxis31\":{\"anchor\":\"x31\",\"domain\":[0.20800000000000002,0.272],\"showgrid\":true},\"xaxis32\":{\"anchor\":\"y32\",\"domain\":[0.825,1.0],\"showgrid\":true},\"yaxis32\":{\"anchor\":\"x32\",\"domain\":[0.20800000000000002,0.272],\"showgrid\":true},\"xaxis33\":{\"anchor\":\"y33\",\"domain\":[0.0,0.175],\"showgrid\":true},\"yaxis33\":{\"anchor\":\"x33\",\"domain\":[0.10400000000000001,0.168],\"showgrid\":true},\"xaxis34\":{\"anchor\":\"y34\",\"domain\":[0.275,0.45],\"showgrid\":true},\"yaxis34\":{\"anchor\":\"x34\",\"domain\":[0.10400000000000001,0.168],\"showgrid\":true},\"xaxis35\":{\"anchor\":\"y35\",\"domain\":[0.55,0.7250000000000001],\"showgrid\":true},\"yaxis35\":{\"anchor\":\"x35\",\"domain\":[0.10400000000000001,0.168],\"showgrid\":true},\"xaxis36\":{\"anchor\":\"y36\",\"domain\":[0.825,1.0],\"showgrid\":true},\"yaxis36\":{\"anchor\":\"x36\",\"domain\":[0.10400000000000001,0.168],\"showgrid\":true},\"xaxis37\":{\"anchor\":\"y37\",\"domain\":[0.0,0.175],\"showgrid\":true},\"yaxis37\":{\"anchor\":\"x37\",\"domain\":[0.0,0.064],\"showgrid\":true},\"xaxis38\":{\"anchor\":\"y38\",\"domain\":[0.275,0.45],\"showgrid\":true},\"yaxis38\":{\"anchor\":\"x38\",\"domain\":[0.0,0.064],\"showgrid\":true},\"xaxis39\":{\"anchor\":\"y39\",\"domain\":[0.55,0.7250000000000001],\"showgrid\":true},\"yaxis39\":{\"anchor\":\"x39\",\"domain\":[0.0,0.064],\"showgrid\":true},\"xaxis40\":{\"anchor\":\"y40\",\"domain\":[0.825,1.0],\"showgrid\":true},\"yaxis40\":{\"anchor\":\"x40\",\"domain\":[0.0,0.064],\"showgrid\":true},\"annotations\":[{\"font\":{\"size\":16},\"showarrow\":false,\"text\":\"Topic 0\",\"x\":0.0875,\"xanchor\":\"center\",\"xref\":\"paper\",\"y\":1.0,\"yanchor\":\"bottom\",\"yref\":\"paper\"},{\"font\":{\"size\":16},\"showarrow\":false,\"text\":\"Topic 1\",\"x\":0.36250000000000004,\"xanchor\":\"center\",\"xref\":\"paper\",\"y\":1.0,\"yanchor\":\"bottom\",\"yref\":\"paper\"},{\"font\":{\"size\":16},\"showarrow\":false,\"text\":\"Topic 2\",\"x\":0.6375000000000001,\"xanchor\":\"center\",\"xref\":\"paper\",\"y\":1.0,\"yanchor\":\"bottom\",\"yref\":\"paper\"},{\"font\":{\"size\":16},\"showarrow\":false,\"text\":\"Topic 3\",\"x\":0.9125,\"xanchor\":\"center\",\"xref\":\"paper\",\"y\":1.0,\"yanchor\":\"bottom\",\"yref\":\"paper\"},{\"font\":{\"size\":16},\"showarrow\":false,\"text\":\"Topic 4\",\"x\":0.0875,\"xanchor\":\"center\",\"xref\":\"paper\",\"y\":0.8960000000000001,\"yanchor\":\"bottom\",\"yref\":\"paper\"},{\"font\":{\"size\":16},\"showarrow\":false,\"text\":\"Topic 5\",\"x\":0.36250000000000004,\"xanchor\":\"center\",\"xref\":\"paper\",\"y\":0.8960000000000001,\"yanchor\":\"bottom\",\"yref\":\"paper\"},{\"font\":{\"size\":16},\"showarrow\":false,\"text\":\"Topic 6\",\"x\":0.6375000000000001,\"xanchor\":\"center\",\"xref\":\"paper\",\"y\":0.8960000000000001,\"yanchor\":\"bottom\",\"yref\":\"paper\"},{\"font\":{\"size\":16},\"showarrow\":false,\"text\":\"Topic 7\",\"x\":0.9125,\"xanchor\":\"center\",\"xref\":\"paper\",\"y\":0.8960000000000001,\"yanchor\":\"bottom\",\"yref\":\"paper\"},{\"font\":{\"size\":16},\"showarrow\":false,\"text\":\"Topic 8\",\"x\":0.0875,\"xanchor\":\"center\",\"xref\":\"paper\",\"y\":0.792,\"yanchor\":\"bottom\",\"yref\":\"paper\"},{\"font\":{\"size\":16},\"showarrow\":false,\"text\":\"Topic 9\",\"x\":0.36250000000000004,\"xanchor\":\"center\",\"xref\":\"paper\",\"y\":0.792,\"yanchor\":\"bottom\",\"yref\":\"paper\"},{\"font\":{\"size\":16},\"showarrow\":false,\"text\":\"Topic 10\",\"x\":0.6375000000000001,\"xanchor\":\"center\",\"xref\":\"paper\",\"y\":0.792,\"yanchor\":\"bottom\",\"yref\":\"paper\"},{\"font\":{\"size\":16},\"showarrow\":false,\"text\":\"Topic 11\",\"x\":0.9125,\"xanchor\":\"center\",\"xref\":\"paper\",\"y\":0.792,\"yanchor\":\"bottom\",\"yref\":\"paper\"},{\"font\":{\"size\":16},\"showarrow\":false,\"text\":\"Topic 12\",\"x\":0.0875,\"xanchor\":\"center\",\"xref\":\"paper\",\"y\":0.688,\"yanchor\":\"bottom\",\"yref\":\"paper\"},{\"font\":{\"size\":16},\"showarrow\":false,\"text\":\"Topic 13\",\"x\":0.36250000000000004,\"xanchor\":\"center\",\"xref\":\"paper\",\"y\":0.688,\"yanchor\":\"bottom\",\"yref\":\"paper\"},{\"font\":{\"size\":16},\"showarrow\":false,\"text\":\"Topic 14\",\"x\":0.6375000000000001,\"xanchor\":\"center\",\"xref\":\"paper\",\"y\":0.688,\"yanchor\":\"bottom\",\"yref\":\"paper\"},{\"font\":{\"size\":16},\"showarrow\":false,\"text\":\"Topic 15\",\"x\":0.9125,\"xanchor\":\"center\",\"xref\":\"paper\",\"y\":0.688,\"yanchor\":\"bottom\",\"yref\":\"paper\"},{\"font\":{\"size\":16},\"showarrow\":false,\"text\":\"Topic 16\",\"x\":0.0875,\"xanchor\":\"center\",\"xref\":\"paper\",\"y\":0.5840000000000001,\"yanchor\":\"bottom\",\"yref\":\"paper\"},{\"font\":{\"size\":16},\"showarrow\":false,\"text\":\"Topic 17\",\"x\":0.36250000000000004,\"xanchor\":\"center\",\"xref\":\"paper\",\"y\":0.5840000000000001,\"yanchor\":\"bottom\",\"yref\":\"paper\"},{\"font\":{\"size\":16},\"showarrow\":false,\"text\":\"Topic 18\",\"x\":0.6375000000000001,\"xanchor\":\"center\",\"xref\":\"paper\",\"y\":0.5840000000000001,\"yanchor\":\"bottom\",\"yref\":\"paper\"},{\"font\":{\"size\":16},\"showarrow\":false,\"text\":\"Topic 19\",\"x\":0.9125,\"xanchor\":\"center\",\"xref\":\"paper\",\"y\":0.5840000000000001,\"yanchor\":\"bottom\",\"yref\":\"paper\"},{\"font\":{\"size\":16},\"showarrow\":false,\"text\":\"Topic 20\",\"x\":0.0875,\"xanchor\":\"center\",\"xref\":\"paper\",\"y\":0.48000000000000004,\"yanchor\":\"bottom\",\"yref\":\"paper\"},{\"font\":{\"size\":16},\"showarrow\":false,\"text\":\"Topic 21\",\"x\":0.36250000000000004,\"xanchor\":\"center\",\"xref\":\"paper\",\"y\":0.48000000000000004,\"yanchor\":\"bottom\",\"yref\":\"paper\"},{\"font\":{\"size\":16},\"showarrow\":false,\"text\":\"Topic 22\",\"x\":0.6375000000000001,\"xanchor\":\"center\",\"xref\":\"paper\",\"y\":0.48000000000000004,\"yanchor\":\"bottom\",\"yref\":\"paper\"},{\"font\":{\"size\":16},\"showarrow\":false,\"text\":\"Topic 23\",\"x\":0.9125,\"xanchor\":\"center\",\"xref\":\"paper\",\"y\":0.48000000000000004,\"yanchor\":\"bottom\",\"yref\":\"paper\"},{\"font\":{\"size\":16},\"showarrow\":false,\"text\":\"Topic 24\",\"x\":0.0875,\"xanchor\":\"center\",\"xref\":\"paper\",\"y\":0.376,\"yanchor\":\"bottom\",\"yref\":\"paper\"},{\"font\":{\"size\":16},\"showarrow\":false,\"text\":\"Topic 25\",\"x\":0.36250000000000004,\"xanchor\":\"center\",\"xref\":\"paper\",\"y\":0.376,\"yanchor\":\"bottom\",\"yref\":\"paper\"},{\"font\":{\"size\":16},\"showarrow\":false,\"text\":\"Topic 26\",\"x\":0.6375000000000001,\"xanchor\":\"center\",\"xref\":\"paper\",\"y\":0.376,\"yanchor\":\"bottom\",\"yref\":\"paper\"},{\"font\":{\"size\":16},\"showarrow\":false,\"text\":\"Topic 27\",\"x\":0.9125,\"xanchor\":\"center\",\"xref\":\"paper\",\"y\":0.376,\"yanchor\":\"bottom\",\"yref\":\"paper\"},{\"font\":{\"size\":16},\"showarrow\":false,\"text\":\"Topic 28\",\"x\":0.0875,\"xanchor\":\"center\",\"xref\":\"paper\",\"y\":0.272,\"yanchor\":\"bottom\",\"yref\":\"paper\"},{\"font\":{\"size\":16},\"showarrow\":false,\"text\":\"Topic 29\",\"x\":0.36250000000000004,\"xanchor\":\"center\",\"xref\":\"paper\",\"y\":0.272,\"yanchor\":\"bottom\",\"yref\":\"paper\"},{\"font\":{\"size\":16},\"showarrow\":false,\"text\":\"Topic 30\",\"x\":0.6375000000000001,\"xanchor\":\"center\",\"xref\":\"paper\",\"y\":0.272,\"yanchor\":\"bottom\",\"yref\":\"paper\"},{\"font\":{\"size\":16},\"showarrow\":false,\"text\":\"Topic 31\",\"x\":0.9125,\"xanchor\":\"center\",\"xref\":\"paper\",\"y\":0.272,\"yanchor\":\"bottom\",\"yref\":\"paper\"},{\"font\":{\"size\":16},\"showarrow\":false,\"text\":\"Topic 32\",\"x\":0.0875,\"xanchor\":\"center\",\"xref\":\"paper\",\"y\":0.168,\"yanchor\":\"bottom\",\"yref\":\"paper\"},{\"font\":{\"size\":16},\"showarrow\":false,\"text\":\"Topic 33\",\"x\":0.36250000000000004,\"xanchor\":\"center\",\"xref\":\"paper\",\"y\":0.168,\"yanchor\":\"bottom\",\"yref\":\"paper\"},{\"font\":{\"size\":16},\"showarrow\":false,\"text\":\"Topic 34\",\"x\":0.6375000000000001,\"xanchor\":\"center\",\"xref\":\"paper\",\"y\":0.168,\"yanchor\":\"bottom\",\"yref\":\"paper\"},{\"font\":{\"size\":16},\"showarrow\":false,\"text\":\"Topic 35\",\"x\":0.9125,\"xanchor\":\"center\",\"xref\":\"paper\",\"y\":0.168,\"yanchor\":\"bottom\",\"yref\":\"paper\"},{\"font\":{\"size\":16},\"showarrow\":false,\"text\":\"Topic 36\",\"x\":0.0875,\"xanchor\":\"center\",\"xref\":\"paper\",\"y\":0.064,\"yanchor\":\"bottom\",\"yref\":\"paper\"},{\"font\":{\"size\":16},\"showarrow\":false,\"text\":\"Topic 37\",\"x\":0.36250000000000004,\"xanchor\":\"center\",\"xref\":\"paper\",\"y\":0.064,\"yanchor\":\"bottom\",\"yref\":\"paper\"},{\"font\":{\"size\":16},\"showarrow\":false,\"text\":\"Topic 38\",\"x\":0.6375000000000001,\"xanchor\":\"center\",\"xref\":\"paper\",\"y\":0.064,\"yanchor\":\"bottom\",\"yref\":\"paper\"},{\"font\":{\"size\":16},\"showarrow\":false,\"text\":\"Topic 39\",\"x\":0.9125,\"xanchor\":\"center\",\"xref\":\"paper\",\"y\":0.064,\"yanchor\":\"bottom\",\"yref\":\"paper\"}],\"title\":{\"font\":{\"size\":22,\"color\":\"Black\"},\"text\":\"Topic Word Scores\",\"x\":0.5,\"xanchor\":\"center\",\"yanchor\":\"top\"},\"hoverlabel\":{\"font\":{\"size\":16,\"family\":\"Rockwell\"},\"bgcolor\":\"white\"},\"showlegend\":false,\"width\":1000,\"height\":2500},                        {\"responsive\": true}                    ).then(function(){\n",
       "                            \n",
       "var gd = document.getElementById('57ce58f9-1b16-434f-abde-82565ca7fc0e');\n",
       "var x = new MutationObserver(function (mutations, observer) {{\n",
       "        var display = window.getComputedStyle(gd).display;\n",
       "        if (!display || display === 'none') {{\n",
       "            console.log([gd, 'removed!']);\n",
       "            Plotly.purge(gd);\n",
       "            observer.disconnect();\n",
       "        }}\n",
       "}});\n",
       "\n",
       "// Listen for the removal of the full notebook cells\n",
       "var notebookContainer = gd.closest('#notebook-container');\n",
       "if (notebookContainer) {{\n",
       "    x.observe(notebookContainer, {childList: true});\n",
       "}}\n",
       "\n",
       "// Listen for the clearing of the current output cell\n",
       "var outputEl = gd.closest('.output');\n",
       "if (outputEl) {{\n",
       "    x.observe(outputEl, {childList: true});\n",
       "}}\n",
       "\n",
       "                        })                };                });            </script>        </div>"
      ]
     },
     "metadata": {},
     "output_type": "display_data"
    }
   ],
   "source": [
    "topic_model.visualize_barchart(top_n_topics = 40, n_words = 20)"
   ]
  },
  {
   "cell_type": "code",
   "execution_count": 1164,
   "metadata": {},
   "outputs": [
    {
     "data": {
      "text/html": [
       "<div>\n",
       "<style scoped>\n",
       "    .dataframe tbody tr th:only-of-type {\n",
       "        vertical-align: middle;\n",
       "    }\n",
       "\n",
       "    .dataframe tbody tr th {\n",
       "        vertical-align: top;\n",
       "    }\n",
       "\n",
       "    .dataframe thead th {\n",
       "        text-align: right;\n",
       "    }\n",
       "</style>\n",
       "<table border=\"1\" class=\"dataframe\">\n",
       "  <thead>\n",
       "    <tr style=\"text-align: right;\">\n",
       "      <th></th>\n",
       "      <th>Topic</th>\n",
       "      <th>Count</th>\n",
       "      <th>Name</th>\n",
       "      <th>Representation</th>\n",
       "      <th>Aspect2</th>\n",
       "      <th>Representative_Docs</th>\n",
       "    </tr>\n",
       "  </thead>\n",
       "  <tbody>\n",
       "    <tr>\n",
       "      <th>150</th>\n",
       "      <td>149</td>\n",
       "      <td>23</td>\n",
       "      <td>149_berlin_brandenburg_corner_prussian</td>\n",
       "      <td>[berlin, brandenburg, corner, prussian, demoli...</td>\n",
       "      <td>[brandenburg, corner, demolished, graffiti, kr...</td>\n",
       "      <td>[Clean and quiet corner of Berlin', Clean and ...</td>\n",
       "    </tr>\n",
       "    <tr>\n",
       "      <th>151</th>\n",
       "      <td>150</td>\n",
       "      <td>23</td>\n",
       "      <td>150_park_parkvery_parkour_place</td>\n",
       "      <td>[park, parkvery, parkour, place, pleasant, are...</td>\n",
       "      <td>[park, area, residential, surroundings, staff,...</td>\n",
       "      <td>[Mostly a nice park. They are some weirdos, wa...</td>\n",
       "    </tr>\n",
       "    <tr>\n",
       "      <th>152</th>\n",
       "      <td>151</td>\n",
       "      <td>23</td>\n",
       "      <td>151_waterfall_waterfalls_picturesque_waterfallit</td>\n",
       "      <td>[waterfall, waterfalls, picturesque, waterfall...</td>\n",
       "      <td>[waterfalls, picturesque, monument, visit, flo...</td>\n",
       "      <td>[Nice view on the city! And the only one water...</td>\n",
       "    </tr>\n",
       "    <tr>\n",
       "      <th>153</th>\n",
       "      <td>152</td>\n",
       "      <td>23</td>\n",
       "      <td>152_love_loved__</td>\n",
       "      <td>[love, loved, , , , , , , , ]</td>\n",
       "      <td>[love, loved, , , , , , , , , , , , , , , , , ...</td>\n",
       "      <td>[Love it', I love it', Love it']</td>\n",
       "    </tr>\n",
       "    <tr>\n",
       "      <th>154</th>\n",
       "      <td>153</td>\n",
       "      <td>22</td>\n",
       "      <td>153_cathedral_church_dome_breathtaking</td>\n",
       "      <td>[cathedral, church, dome, breathtaking, archit...</td>\n",
       "      <td>[cathedral, dome, breathtaking, stairs, devoti...</td>\n",
       "      <td>[As magnificent as it can be! This cathedral i...</td>\n",
       "    </tr>\n",
       "    <tr>\n",
       "      <th>155</th>\n",
       "      <td>154</td>\n",
       "      <td>22</td>\n",
       "      <td>154_steinplatz_kirchplatz_republik_oranienplatz</td>\n",
       "      <td>[steinplatz, kirchplatz, republik, oranienplat...</td>\n",
       "      <td>[steinplatz, reichstag, berlins, square, landm...</td>\n",
       "      <td>[Nothing fancy, just a relaxing park', \" Neust...</td>\n",
       "    </tr>\n",
       "    <tr>\n",
       "      <th>156</th>\n",
       "      <td>155</td>\n",
       "      <td>22</td>\n",
       "      <td>155_quiet_loud_pleasantly_clean</td>\n",
       "      <td>[quiet, loud, pleasantly, clean, very, relaxin...</td>\n",
       "      <td>[quiet, loud, pleasantly, clean, very, relaxin...</td>\n",
       "      <td>[Quiet and nice', Nice and quiet.', Nice and q...</td>\n",
       "    </tr>\n",
       "    <tr>\n",
       "      <th>157</th>\n",
       "      <td>156</td>\n",
       "      <td>22</td>\n",
       "      <td>156_garden_flowers_blossoms_visiting</td>\n",
       "      <td>[garden, flowers, blossoms, visiting, floral, ...</td>\n",
       "      <td>[garden, flowers, visiting, retreat, tiergarte...</td>\n",
       "      <td>['A very nice retreat in the big park. It's an...</td>\n",
       "    </tr>\n",
       "    <tr>\n",
       "      <th>158</th>\n",
       "      <td>157</td>\n",
       "      <td>22</td>\n",
       "      <td>157_children_kids_kiddies_suitable</td>\n",
       "      <td>[children, kids, kiddies, suitable, little, fo...</td>\n",
       "      <td>[children, small, helps, natural, mitte, areas...</td>\n",
       "      <td>[It is very good for children.', It is very go...</td>\n",
       "    </tr>\n",
       "    <tr>\n",
       "      <th>159</th>\n",
       "      <td>158</td>\n",
       "      <td>22</td>\n",
       "      <td>158_water_piece_sea_houseboats</td>\n",
       "      <td>[water, piece, sea, houseboats, part, cloudy, ...</td>\n",
       "      <td>[piece, sea, houseboats, cloudy, nice, fishing...</td>\n",
       "      <td>[Nice piece of water', Nice piece of water', N...</td>\n",
       "    </tr>\n",
       "    <tr>\n",
       "      <th>160</th>\n",
       "      <td>159</td>\n",
       "      <td>22</td>\n",
       "      <td>159_renovation_renovations_renovated_renovatio...</td>\n",
       "      <td>[renovation, renovations, renovated, renovatio...</td>\n",
       "      <td>[renovation, redesign, gentrified, environment...</td>\n",
       "      <td>[A renovation would be good!', Much better aft...</td>\n",
       "    </tr>\n",
       "    <tr>\n",
       "      <th>161</th>\n",
       "      <td>160</td>\n",
       "      <td>21</td>\n",
       "      <td>160_small_tiny_little_big</td>\n",
       "      <td>[small, tiny, little, big, cute, very, quiet, ...</td>\n",
       "      <td>[small, cute, quiet, positive, distance, stand...</td>\n",
       "      <td>[Small but nice :-)', Small but nice ☺️', Smal...</td>\n",
       "    </tr>\n",
       "    <tr>\n",
       "      <th>162</th>\n",
       "      <td>161</td>\n",
       "      <td>21</td>\n",
       "      <td>161_prison_prisoners_prisonalthough_cemetery</td>\n",
       "      <td>[prison, prisoners, prisonalthough, cemetery, ...</td>\n",
       "      <td>[prisonalthough, cemetery, camps, tunnel, west...</td>\n",
       "      <td>[The history park is located on the site of a ...</td>\n",
       "    </tr>\n",
       "    <tr>\n",
       "      <th>163</th>\n",
       "      <td>162</td>\n",
       "      <td>21</td>\n",
       "      <td>162_ping_pong_tennis_playing</td>\n",
       "      <td>[ping, pong, tennis, playing, basketballbring,...</td>\n",
       "      <td>[ping, pong, basketball, cafes, session, casua...</td>\n",
       "      <td>[love to play ping pong there :D', This is my ...</td>\n",
       "    </tr>\n",
       "    <tr>\n",
       "      <th>164</th>\n",
       "      <td>163</td>\n",
       "      <td>21</td>\n",
       "      <td>163_berlin_berlins_ruins_buildings</td>\n",
       "      <td>[berlin, berlins, ruins, buildings, building, ...</td>\n",
       "      <td>[berlins, ruins, buildings, exhibitions, recon...</td>\n",
       "      <td>[Very interesting ruins in the center of Berli...</td>\n",
       "    </tr>\n",
       "    <tr>\n",
       "      <th>165</th>\n",
       "      <td>164</td>\n",
       "      <td>21</td>\n",
       "      <td>164_uncomfortable_night_suspicious_evenings</td>\n",
       "      <td>[uncomfortable, night, suspicious, evenings, e...</td>\n",
       "      <td>[uncomfortable, night, suspicious, men, vibe, ...</td>\n",
       "      <td>[It is ok but there are so many men hanging ar...</td>\n",
       "    </tr>\n",
       "    <tr>\n",
       "      <th>166</th>\n",
       "      <td>165</td>\n",
       "      <td>21</td>\n",
       "      <td>165_location_greathere_place_great</td>\n",
       "      <td>[location, greathere, place, great, area, dist...</td>\n",
       "      <td>[location, greathere, place, great, area, dist...</td>\n",
       "      <td>[Great location', Great location', Great locat...</td>\n",
       "    </tr>\n",
       "    <tr>\n",
       "      <th>167</th>\n",
       "      <td>166</td>\n",
       "      <td>20</td>\n",
       "      <td>166_berlin_fountain_wonderland_statues</td>\n",
       "      <td>[berlin, fountain, wonderland, statues, grimm,...</td>\n",
       "      <td>[fountain, wonderland, statues, grimm, friedri...</td>\n",
       "      <td>[A treasure in the Volkspark Fridrichshain in ...</td>\n",
       "    </tr>\n",
       "    <tr>\n",
       "      <th>168</th>\n",
       "      <td>167</td>\n",
       "      <td>20</td>\n",
       "      <td>167_place_nicee_nice_</td>\n",
       "      <td>[place, nicee, nice, , , , , , , ]</td>\n",
       "      <td>[place, nicee, nice, , , , , , , , , , , , , ,...</td>\n",
       "      <td>[Nice place ', Nice place', Nice place']</td>\n",
       "    </tr>\n",
       "    <tr>\n",
       "      <th>169</th>\n",
       "      <td>168</td>\n",
       "      <td>20</td>\n",
       "      <td>168_merkels_germangerman_germany_reichstagduring</td>\n",
       "      <td>[merkels, germangerman, germany, reichstagduri...</td>\n",
       "      <td>[merkels, germangerman, germany, reichstagduri...</td>\n",
       "      <td>[It amazes me how much history this country ha...</td>\n",
       "    </tr>\n",
       "    <tr>\n",
       "      <th>170</th>\n",
       "      <td>169</td>\n",
       "      <td>20</td>\n",
       "      <td>169_berlin_berlinwe_distillery_whiskey</td>\n",
       "      <td>[berlin, berlinwe, distillery, whiskey, scotch...</td>\n",
       "      <td>[berlinwe, scotch, cocktails, whiskeyey, bar, ...</td>\n",
       "      <td>[Amazing place with an awesome staff that love...</td>\n",
       "    </tr>\n",
       "    <tr>\n",
       "      <th>171</th>\n",
       "      <td>170</td>\n",
       "      <td>20</td>\n",
       "      <td>170_berlin_berlinpeople_place_places</td>\n",
       "      <td>[berlin, berlinpeople, place, places, bavarian...</td>\n",
       "      <td>[berlin, bavarians, visiting, locations, parks...</td>\n",
       "      <td>[I was here during May Day and this spot was f...</td>\n",
       "    </tr>\n",
       "    <tr>\n",
       "      <th>172</th>\n",
       "      <td>171</td>\n",
       "      <td>20</td>\n",
       "      <td>171_zoo_park_patrolling_night</td>\n",
       "      <td>[zoo, park, patrolling, night, animals, activi...</td>\n",
       "      <td>[zoo, patrolling, activities, petting, fences,...</td>\n",
       "      <td>[Large park with an eclectic mix - from druggi...</td>\n",
       "    </tr>\n",
       "    <tr>\n",
       "      <th>173</th>\n",
       "      <td>172</td>\n",
       "      <td>20</td>\n",
       "      <td>172_vietnamese_saigon_dishes_tapas</td>\n",
       "      <td>[vietnamese, saigon, dishes, tapas, restaurant...</td>\n",
       "      <td>[vietnamese, dishes, tapas, tasteful, foodthey...</td>\n",
       "      <td>[Very good, fresh food and drinks. You can tak...</td>\n",
       "    </tr>\n",
       "    <tr>\n",
       "      <th>174</th>\n",
       "      <td>173</td>\n",
       "      <td>20</td>\n",
       "      <td>173_festival_lights_festivalof_light</td>\n",
       "      <td>[festival, lights, festivalof, light, place, l...</td>\n",
       "      <td>[festival, lights, location, concert, exhibiti...</td>\n",
       "      <td>[A low key location to see the festival of lig...</td>\n",
       "    </tr>\n",
       "    <tr>\n",
       "      <th>175</th>\n",
       "      <td>174</td>\n",
       "      <td>20</td>\n",
       "      <td>174_reichstag_buildings_chancellery_architecture</td>\n",
       "      <td>[reichstag, buildings, chancellery, architectu...</td>\n",
       "      <td>[reichstag, chancellery, architecture, parliam...</td>\n",
       "      <td>[———————-Construction site——————-The latest de...</td>\n",
       "    </tr>\n",
       "    <tr>\n",
       "      <th>176</th>\n",
       "      <td>175</td>\n",
       "      <td>19</td>\n",
       "      <td>175_normal_standard_usual_natural</td>\n",
       "      <td>[normal, standard, usual, natural, private, cl...</td>\n",
       "      <td>[normal, standard, usual, natural, private, cl...</td>\n",
       "      <td>[Normal', Normal', Normal']</td>\n",
       "    </tr>\n",
       "    <tr>\n",
       "      <th>177</th>\n",
       "      <td>176</td>\n",
       "      <td>19</td>\n",
       "      <td>176_promenade_dancing_trips_restaurants</td>\n",
       "      <td>[promenade, dancing, trips, restaurants, resta...</td>\n",
       "      <td>[promenade, trips, restaurantbankspree, evenin...</td>\n",
       "      <td>[An unexpected discovery during a simple walk ...</td>\n",
       "    </tr>\n",
       "    <tr>\n",
       "      <th>178</th>\n",
       "      <td>177</td>\n",
       "      <td>19</td>\n",
       "      <td>177_tourists_touristswhy_summer_drunken</td>\n",
       "      <td>[tourists, touristswhy, summer, drunken, drink...</td>\n",
       "      <td>[tourists, touristswhy, summer, drunken, city,...</td>\n",
       "      <td>[In summer it is always full of drunken touris...</td>\n",
       "    </tr>\n",
       "    <tr>\n",
       "      <th>179</th>\n",
       "      <td>178</td>\n",
       "      <td>19</td>\n",
       "      <td>178_park_place_outdoors_places</td>\n",
       "      <td>[park, place, outdoors, places, chilled, chill...</td>\n",
       "      <td>[park, place, chill, going, music, dome, alone...</td>\n",
       "      <td>[Love this park so much its the perfect place ...</td>\n",
       "    </tr>\n",
       "    <tr>\n",
       "      <th>180</th>\n",
       "      <td>179</td>\n",
       "      <td>18</td>\n",
       "      <td>179_park_gardens_garden_landscape</td>\n",
       "      <td>[park, gardens, garden, landscape, wildlife, p...</td>\n",
       "      <td>[park, gardens, wildlife, visitors, palacethis...</td>\n",
       "      <td>[Nestled in the heart of Berlin lies a sprawli...</td>\n",
       "    </tr>\n",
       "    <tr>\n",
       "      <th>181</th>\n",
       "      <td>180</td>\n",
       "      <td>18</td>\n",
       "      <td>180_cafe_cafes_park_restaurants</td>\n",
       "      <td>[cafe, cafes, park, restaurants, nearby, locat...</td>\n",
       "      <td>[cafes, park, restaurants, nearby, locationsre...</td>\n",
       "      <td>[A cute little park to chill at after having a...</td>\n",
       "    </tr>\n",
       "    <tr>\n",
       "      <th>182</th>\n",
       "      <td>181</td>\n",
       "      <td>18</td>\n",
       "      <td>181_place_where_good_very</td>\n",
       "      <td>[place, where, good, very, bad, to, well, , , ]</td>\n",
       "      <td>[place, where, good, very, bad, to, well, , , ...</td>\n",
       "      <td>[Good place', Good place', Good place but you ...</td>\n",
       "    </tr>\n",
       "    <tr>\n",
       "      <th>183</th>\n",
       "      <td>182</td>\n",
       "      <td>18</td>\n",
       "      <td>182_berlin_park_neutempelhof_barbarossaplatz</td>\n",
       "      <td>[berlin, park, neutempelhof, barbarossaplatz, ...</td>\n",
       "      <td>[berlin, park, neutempelhof, barbarossaplatz, ...</td>\n",
       "      <td>[A slightly different park in the middle of Be...</td>\n",
       "    </tr>\n",
       "    <tr>\n",
       "      <th>184</th>\n",
       "      <td>183</td>\n",
       "      <td>18</td>\n",
       "      <td>183_ruins_area_surrounding_lovely</td>\n",
       "      <td>[ruins, area, surrounding, lovely, beautiful, ...</td>\n",
       "      <td>[ruins, area, surrounding, lovely, beauty, hal...</td>\n",
       "      <td>[A beautiful area!', It is hard to rate ruins....</td>\n",
       "    </tr>\n",
       "    <tr>\n",
       "      <th>185</th>\n",
       "      <td>184</td>\n",
       "      <td>18</td>\n",
       "      <td>184_park_renovated_renovation_besselpark</td>\n",
       "      <td>[park, renovated, renovation, besselpark, stat...</td>\n",
       "      <td>[park, renovated, besselpark, statues, kniprod...</td>\n",
       "      <td>[Due to its poorly maintained condition, it lo...</td>\n",
       "    </tr>\n",
       "    <tr>\n",
       "      <th>186</th>\n",
       "      <td>185</td>\n",
       "      <td>18</td>\n",
       "      <td>185_park_playground_lawns_inhabited</td>\n",
       "      <td>[park, playground, lawns, inhabited, playgroun...</td>\n",
       "      <td>[park, lawns, playgroundfacilities, fountains,...</td>\n",
       "      <td>[A very small park in the middle of the slum, ...</td>\n",
       "    </tr>\n",
       "    <tr>\n",
       "      <th>187</th>\n",
       "      <td>186</td>\n",
       "      <td>17</td>\n",
       "      <td>186_relaxing_place_surrounding_picnic</td>\n",
       "      <td>[relaxing, place, surrounding, picnic, environ...</td>\n",
       "      <td>[relaxing, place, picnic, green, sit, cafes, b...</td>\n",
       "      <td>[Amazing spot for a wee picnic after museums, ...</td>\n",
       "    </tr>\n",
       "    <tr>\n",
       "      <th>188</th>\n",
       "      <td>187</td>\n",
       "      <td>17</td>\n",
       "      <td>187_dirty_dirt_filthy_clean</td>\n",
       "      <td>[dirty, dirt, filthy, clean, cleaned, everywhe...</td>\n",
       "      <td>[dirty, everywhere, rubbish, neighbors, regula...</td>\n",
       "      <td>[Unfortunately quite dirty .', Unfortunately o...</td>\n",
       "    </tr>\n",
       "    <tr>\n",
       "      <th>189</th>\n",
       "      <td>188</td>\n",
       "      <td>17</td>\n",
       "      <td>188_park_stadium_sporting_sports</td>\n",
       "      <td>[park, stadium, sporting, sports, parkour, act...</td>\n",
       "      <td>[stadium, sporting, parkour, activities, grass...</td>\n",
       "      <td>[Good sports park with lots of activities', \"S...</td>\n",
       "    </tr>\n",
       "    <tr>\n",
       "      <th>190</th>\n",
       "      <td>189</td>\n",
       "      <td>17</td>\n",
       "      <td>189_berlin_cyclists_germans_bikes</td>\n",
       "      <td>[berlin, cyclists, germans, bikes, bus, road, ...</td>\n",
       "      <td>[berlin, cyclists, bus, spaces, reckless, arab...</td>\n",
       "      <td>[Berlin lives from such open spaces. Beware of...</td>\n",
       "    </tr>\n",
       "    <tr>\n",
       "      <th>191</th>\n",
       "      <td>190</td>\n",
       "      <td>17</td>\n",
       "      <td>190_park_parks_decent_turf</td>\n",
       "      <td>[park, parks, decent, turf, great, lovely, exc...</td>\n",
       "      <td>[park, parks, decent, turf, great, lovely, exc...</td>\n",
       "      <td>[Very nice park.', Great piece of turf. Excell...</td>\n",
       "    </tr>\n",
       "    <tr>\n",
       "      <th>192</th>\n",
       "      <td>191</td>\n",
       "      <td>17</td>\n",
       "      <td>191_roses_flowers_blooms_blooming</td>\n",
       "      <td>[roses, flowers, blooms, blooming, lovely, bea...</td>\n",
       "      <td>[flowers, lovely, lawn, picnic, fountain, lili...</td>\n",
       "      <td>[The flowers are beautiful, the roses are just...</td>\n",
       "    </tr>\n",
       "    <tr>\n",
       "      <th>193</th>\n",
       "      <td>192</td>\n",
       "      <td>16</td>\n",
       "      <td>192_tickets_reviews_dome_ticket</td>\n",
       "      <td>[tickets, reviews, dome, ticket, restaurant, r...</td>\n",
       "      <td>[tickets, reviews, dome, observatory, planning...</td>\n",
       "      <td>[Well this place does not need any “reviews”. ...</td>\n",
       "    </tr>\n",
       "    <tr>\n",
       "      <th>194</th>\n",
       "      <td>193</td>\n",
       "      <td>16</td>\n",
       "      <td>193_track_footpath_tracks_cycling</td>\n",
       "      <td>[track, footpath, tracks, cycling, walking, cy...</td>\n",
       "      <td>[footpath, tracks, cycling, walking, autumnwin...</td>\n",
       "      <td>[Cycle track on a shared footpath, bearable in...</td>\n",
       "    </tr>\n",
       "    <tr>\n",
       "      <th>195</th>\n",
       "      <td>194</td>\n",
       "      <td>16</td>\n",
       "      <td>194_park_relaxing_bnd_neighbourhood</td>\n",
       "      <td>[park, relaxing, bnd, neighbourhood, places, c...</td>\n",
       "      <td>[park, relaxing, bnd, neighbourhood, cozy, pic...</td>\n",
       "      <td>[A nice little park behind the BND. Very calmi...</td>\n",
       "    </tr>\n",
       "    <tr>\n",
       "      <th>196</th>\n",
       "      <td>195</td>\n",
       "      <td>16</td>\n",
       "      <td>195_och_prachtige_prijzen_rust</td>\n",
       "      <td>[och, prachtige, prijzen, rust, het, grafrecht...</td>\n",
       "      <td>[och, prijzen, rust, het, grafrechten, vakkert...</td>\n",
       "      <td>[Prachtige plek om even tot rust te komen', Pr...</td>\n",
       "    </tr>\n",
       "    <tr>\n",
       "      <th>197</th>\n",
       "      <td>196</td>\n",
       "      <td>16</td>\n",
       "      <td>196_monument_historic_construction_station</td>\n",
       "      <td>[monument, historic, construction, station, bu...</td>\n",
       "      <td>[monument, historic, construction, station, ba...</td>\n",
       "      <td>[Historic station. Beautiful architecture. Unf...</td>\n",
       "    </tr>\n",
       "    <tr>\n",
       "      <th>198</th>\n",
       "      <td>197</td>\n",
       "      <td>16</td>\n",
       "      <td>197_park_parking_quiet_quieter</td>\n",
       "      <td>[park, parking, quiet, quieter, quietnow, stat...</td>\n",
       "      <td>[parking, quieter, station, crowded, town, roa...</td>\n",
       "      <td>[Very quiet park', Quiet park very close to th...</td>\n",
       "    </tr>\n",
       "    <tr>\n",
       "      <th>199</th>\n",
       "      <td>198</td>\n",
       "      <td>16</td>\n",
       "      <td>198_city_place_relaxing_paradise</td>\n",
       "      <td>[city, place, relaxing, paradise, birdsong, be...</td>\n",
       "      <td>[city, relaxing, paradise, birdsong, beach, aw...</td>\n",
       "      <td>[This place is in the center of the city, but ...</td>\n",
       "    </tr>\n",
       "  </tbody>\n",
       "</table>\n",
       "</div>"
      ],
      "text/plain": [
       "     Topic  Count                                               Name  \\\n",
       "150    149     23             149_berlin_brandenburg_corner_prussian   \n",
       "151    150     23                    150_park_parkvery_parkour_place   \n",
       "152    151     23   151_waterfall_waterfalls_picturesque_waterfallit   \n",
       "153    152     23                                   152_love_loved__   \n",
       "154    153     22             153_cathedral_church_dome_breathtaking   \n",
       "155    154     22    154_steinplatz_kirchplatz_republik_oranienplatz   \n",
       "156    155     22                    155_quiet_loud_pleasantly_clean   \n",
       "157    156     22               156_garden_flowers_blossoms_visiting   \n",
       "158    157     22                 157_children_kids_kiddies_suitable   \n",
       "159    158     22                     158_water_piece_sea_houseboats   \n",
       "160    159     22  159_renovation_renovations_renovated_renovatio...   \n",
       "161    160     21                          160_small_tiny_little_big   \n",
       "162    161     21       161_prison_prisoners_prisonalthough_cemetery   \n",
       "163    162     21                       162_ping_pong_tennis_playing   \n",
       "164    163     21                 163_berlin_berlins_ruins_buildings   \n",
       "165    164     21        164_uncomfortable_night_suspicious_evenings   \n",
       "166    165     21                 165_location_greathere_place_great   \n",
       "167    166     20             166_berlin_fountain_wonderland_statues   \n",
       "168    167     20                              167_place_nicee_nice_   \n",
       "169    168     20   168_merkels_germangerman_germany_reichstagduring   \n",
       "170    169     20             169_berlin_berlinwe_distillery_whiskey   \n",
       "171    170     20               170_berlin_berlinpeople_place_places   \n",
       "172    171     20                      171_zoo_park_patrolling_night   \n",
       "173    172     20                 172_vietnamese_saigon_dishes_tapas   \n",
       "174    173     20               173_festival_lights_festivalof_light   \n",
       "175    174     20   174_reichstag_buildings_chancellery_architecture   \n",
       "176    175     19                  175_normal_standard_usual_natural   \n",
       "177    176     19            176_promenade_dancing_trips_restaurants   \n",
       "178    177     19            177_tourists_touristswhy_summer_drunken   \n",
       "179    178     19                     178_park_place_outdoors_places   \n",
       "180    179     18                  179_park_gardens_garden_landscape   \n",
       "181    180     18                    180_cafe_cafes_park_restaurants   \n",
       "182    181     18                          181_place_where_good_very   \n",
       "183    182     18       182_berlin_park_neutempelhof_barbarossaplatz   \n",
       "184    183     18                  183_ruins_area_surrounding_lovely   \n",
       "185    184     18           184_park_renovated_renovation_besselpark   \n",
       "186    185     18                185_park_playground_lawns_inhabited   \n",
       "187    186     17              186_relaxing_place_surrounding_picnic   \n",
       "188    187     17                        187_dirty_dirt_filthy_clean   \n",
       "189    188     17                   188_park_stadium_sporting_sports   \n",
       "190    189     17                  189_berlin_cyclists_germans_bikes   \n",
       "191    190     17                         190_park_parks_decent_turf   \n",
       "192    191     17                  191_roses_flowers_blooms_blooming   \n",
       "193    192     16                    192_tickets_reviews_dome_ticket   \n",
       "194    193     16                  193_track_footpath_tracks_cycling   \n",
       "195    194     16                194_park_relaxing_bnd_neighbourhood   \n",
       "196    195     16                     195_och_prachtige_prijzen_rust   \n",
       "197    196     16         196_monument_historic_construction_station   \n",
       "198    197     16                     197_park_parking_quiet_quieter   \n",
       "199    198     16                   198_city_place_relaxing_paradise   \n",
       "\n",
       "                                        Representation  \\\n",
       "150  [berlin, brandenburg, corner, prussian, demoli...   \n",
       "151  [park, parkvery, parkour, place, pleasant, are...   \n",
       "152  [waterfall, waterfalls, picturesque, waterfall...   \n",
       "153                      [love, loved, , , , , , , , ]   \n",
       "154  [cathedral, church, dome, breathtaking, archit...   \n",
       "155  [steinplatz, kirchplatz, republik, oranienplat...   \n",
       "156  [quiet, loud, pleasantly, clean, very, relaxin...   \n",
       "157  [garden, flowers, blossoms, visiting, floral, ...   \n",
       "158  [children, kids, kiddies, suitable, little, fo...   \n",
       "159  [water, piece, sea, houseboats, part, cloudy, ...   \n",
       "160  [renovation, renovations, renovated, renovatio...   \n",
       "161  [small, tiny, little, big, cute, very, quiet, ...   \n",
       "162  [prison, prisoners, prisonalthough, cemetery, ...   \n",
       "163  [ping, pong, tennis, playing, basketballbring,...   \n",
       "164  [berlin, berlins, ruins, buildings, building, ...   \n",
       "165  [uncomfortable, night, suspicious, evenings, e...   \n",
       "166  [location, greathere, place, great, area, dist...   \n",
       "167  [berlin, fountain, wonderland, statues, grimm,...   \n",
       "168                 [place, nicee, nice, , , , , , , ]   \n",
       "169  [merkels, germangerman, germany, reichstagduri...   \n",
       "170  [berlin, berlinwe, distillery, whiskey, scotch...   \n",
       "171  [berlin, berlinpeople, place, places, bavarian...   \n",
       "172  [zoo, park, patrolling, night, animals, activi...   \n",
       "173  [vietnamese, saigon, dishes, tapas, restaurant...   \n",
       "174  [festival, lights, festivalof, light, place, l...   \n",
       "175  [reichstag, buildings, chancellery, architectu...   \n",
       "176  [normal, standard, usual, natural, private, cl...   \n",
       "177  [promenade, dancing, trips, restaurants, resta...   \n",
       "178  [tourists, touristswhy, summer, drunken, drink...   \n",
       "179  [park, place, outdoors, places, chilled, chill...   \n",
       "180  [park, gardens, garden, landscape, wildlife, p...   \n",
       "181  [cafe, cafes, park, restaurants, nearby, locat...   \n",
       "182    [place, where, good, very, bad, to, well, , , ]   \n",
       "183  [berlin, park, neutempelhof, barbarossaplatz, ...   \n",
       "184  [ruins, area, surrounding, lovely, beautiful, ...   \n",
       "185  [park, renovated, renovation, besselpark, stat...   \n",
       "186  [park, playground, lawns, inhabited, playgroun...   \n",
       "187  [relaxing, place, surrounding, picnic, environ...   \n",
       "188  [dirty, dirt, filthy, clean, cleaned, everywhe...   \n",
       "189  [park, stadium, sporting, sports, parkour, act...   \n",
       "190  [berlin, cyclists, germans, bikes, bus, road, ...   \n",
       "191  [park, parks, decent, turf, great, lovely, exc...   \n",
       "192  [roses, flowers, blooms, blooming, lovely, bea...   \n",
       "193  [tickets, reviews, dome, ticket, restaurant, r...   \n",
       "194  [track, footpath, tracks, cycling, walking, cy...   \n",
       "195  [park, relaxing, bnd, neighbourhood, places, c...   \n",
       "196  [och, prachtige, prijzen, rust, het, grafrecht...   \n",
       "197  [monument, historic, construction, station, bu...   \n",
       "198  [park, parking, quiet, quieter, quietnow, stat...   \n",
       "199  [city, place, relaxing, paradise, birdsong, be...   \n",
       "\n",
       "                                               Aspect2  \\\n",
       "150  [brandenburg, corner, demolished, graffiti, kr...   \n",
       "151  [park, area, residential, surroundings, staff,...   \n",
       "152  [waterfalls, picturesque, monument, visit, flo...   \n",
       "153  [love, loved, , , , , , , , , , , , , , , , , ...   \n",
       "154  [cathedral, dome, breathtaking, stairs, devoti...   \n",
       "155  [steinplatz, reichstag, berlins, square, landm...   \n",
       "156  [quiet, loud, pleasantly, clean, very, relaxin...   \n",
       "157  [garden, flowers, visiting, retreat, tiergarte...   \n",
       "158  [children, small, helps, natural, mitte, areas...   \n",
       "159  [piece, sea, houseboats, cloudy, nice, fishing...   \n",
       "160  [renovation, redesign, gentrified, environment...   \n",
       "161  [small, cute, quiet, positive, distance, stand...   \n",
       "162  [prisonalthough, cemetery, camps, tunnel, west...   \n",
       "163  [ping, pong, basketball, cafes, session, casua...   \n",
       "164  [berlins, ruins, buildings, exhibitions, recon...   \n",
       "165  [uncomfortable, night, suspicious, men, vibe, ...   \n",
       "166  [location, greathere, place, great, area, dist...   \n",
       "167  [fountain, wonderland, statues, grimm, friedri...   \n",
       "168  [place, nicee, nice, , , , , , , , , , , , , ,...   \n",
       "169  [merkels, germangerman, germany, reichstagduri...   \n",
       "170  [berlinwe, scotch, cocktails, whiskeyey, bar, ...   \n",
       "171  [berlin, bavarians, visiting, locations, parks...   \n",
       "172  [zoo, patrolling, activities, petting, fences,...   \n",
       "173  [vietnamese, dishes, tapas, tasteful, foodthey...   \n",
       "174  [festival, lights, location, concert, exhibiti...   \n",
       "175  [reichstag, chancellery, architecture, parliam...   \n",
       "176  [normal, standard, usual, natural, private, cl...   \n",
       "177  [promenade, trips, restaurantbankspree, evenin...   \n",
       "178  [tourists, touristswhy, summer, drunken, city,...   \n",
       "179  [park, place, chill, going, music, dome, alone...   \n",
       "180  [park, gardens, wildlife, visitors, palacethis...   \n",
       "181  [cafes, park, restaurants, nearby, locationsre...   \n",
       "182  [place, where, good, very, bad, to, well, , , ...   \n",
       "183  [berlin, park, neutempelhof, barbarossaplatz, ...   \n",
       "184  [ruins, area, surrounding, lovely, beauty, hal...   \n",
       "185  [park, renovated, besselpark, statues, kniprod...   \n",
       "186  [park, lawns, playgroundfacilities, fountains,...   \n",
       "187  [relaxing, place, picnic, green, sit, cafes, b...   \n",
       "188  [dirty, everywhere, rubbish, neighbors, regula...   \n",
       "189  [stadium, sporting, parkour, activities, grass...   \n",
       "190  [berlin, cyclists, bus, spaces, reckless, arab...   \n",
       "191  [park, parks, decent, turf, great, lovely, exc...   \n",
       "192  [flowers, lovely, lawn, picnic, fountain, lili...   \n",
       "193  [tickets, reviews, dome, observatory, planning...   \n",
       "194  [footpath, tracks, cycling, walking, autumnwin...   \n",
       "195  [park, relaxing, bnd, neighbourhood, cozy, pic...   \n",
       "196  [och, prijzen, rust, het, grafrechten, vakkert...   \n",
       "197  [monument, historic, construction, station, ba...   \n",
       "198  [parking, quieter, station, crowded, town, roa...   \n",
       "199  [city, relaxing, paradise, birdsong, beach, aw...   \n",
       "\n",
       "                                   Representative_Docs  \n",
       "150  [Clean and quiet corner of Berlin', Clean and ...  \n",
       "151  [Mostly a nice park. They are some weirdos, wa...  \n",
       "152  [Nice view on the city! And the only one water...  \n",
       "153                   [Love it', I love it', Love it']  \n",
       "154  [As magnificent as it can be! This cathedral i...  \n",
       "155  [Nothing fancy, just a relaxing park', \" Neust...  \n",
       "156  [Quiet and nice', Nice and quiet.', Nice and q...  \n",
       "157  ['A very nice retreat in the big park. It's an...  \n",
       "158  [It is very good for children.', It is very go...  \n",
       "159  [Nice piece of water', Nice piece of water', N...  \n",
       "160  [A renovation would be good!', Much better aft...  \n",
       "161  [Small but nice :-)', Small but nice ☺️', Smal...  \n",
       "162  [The history park is located on the site of a ...  \n",
       "163  [love to play ping pong there :D', This is my ...  \n",
       "164  [Very interesting ruins in the center of Berli...  \n",
       "165  [It is ok but there are so many men hanging ar...  \n",
       "166  [Great location', Great location', Great locat...  \n",
       "167  [A treasure in the Volkspark Fridrichshain in ...  \n",
       "168           [Nice place ', Nice place', Nice place']  \n",
       "169  [It amazes me how much history this country ha...  \n",
       "170  [Amazing place with an awesome staff that love...  \n",
       "171  [I was here during May Day and this spot was f...  \n",
       "172  [Large park with an eclectic mix - from druggi...  \n",
       "173  [Very good, fresh food and drinks. You can tak...  \n",
       "174  [A low key location to see the festival of lig...  \n",
       "175  [———————-Construction site——————-The latest de...  \n",
       "176                        [Normal', Normal', Normal']  \n",
       "177  [An unexpected discovery during a simple walk ...  \n",
       "178  [In summer it is always full of drunken touris...  \n",
       "179  [Love this park so much its the perfect place ...  \n",
       "180  [Nestled in the heart of Berlin lies a sprawli...  \n",
       "181  [A cute little park to chill at after having a...  \n",
       "182  [Good place', Good place', Good place but you ...  \n",
       "183  [A slightly different park in the middle of Be...  \n",
       "184  [A beautiful area!', It is hard to rate ruins....  \n",
       "185  [Due to its poorly maintained condition, it lo...  \n",
       "186  [A very small park in the middle of the slum, ...  \n",
       "187  [Amazing spot for a wee picnic after museums, ...  \n",
       "188  [Unfortunately quite dirty .', Unfortunately o...  \n",
       "189  [Good sports park with lots of activities', \"S...  \n",
       "190  [Berlin lives from such open spaces. Beware of...  \n",
       "191  [Very nice park.', Great piece of turf. Excell...  \n",
       "192  [The flowers are beautiful, the roses are just...  \n",
       "193  [Well this place does not need any “reviews”. ...  \n",
       "194  [Cycle track on a shared footpath, bearable in...  \n",
       "195  [A nice little park behind the BND. Very calmi...  \n",
       "196  [Prachtige plek om even tot rust te komen', Pr...  \n",
       "197  [Historic station. Beautiful architecture. Unf...  \n",
       "198  [Very quiet park', Quiet park very close to th...  \n",
       "199  [This place is in the center of the city, but ...  "
      ]
     },
     "execution_count": 1164,
     "metadata": {},
     "output_type": "execute_result"
    }
   ],
   "source": [
    "topic_model.get_topic_info().iloc[150:200]"
   ]
  },
  {
   "cell_type": "code",
   "execution_count": null,
   "metadata": {},
   "outputs": [],
   "source": []
  },
  {
   "cell_type": "code",
   "execution_count": null,
   "metadata": {},
   "outputs": [],
   "source": []
  },
  {
   "cell_type": "code",
   "execution_count": null,
   "metadata": {},
   "outputs": [],
   "source": []
  },
  {
   "cell_type": "code",
   "execution_count": null,
   "metadata": {},
   "outputs": [],
   "source": []
  },
  {
   "cell_type": "code",
   "execution_count": 716,
   "metadata": {},
   "outputs": [],
   "source": [
    "topic_list = [1, 2, 8, 13, 15, 20, 24, 25, 38]"
   ]
  },
  {
   "cell_type": "code",
   "execution_count": 717,
   "metadata": {},
   "outputs": [],
   "source": [
    "topic_df = topic_df[topic_df.Topic.isin(topic_list)]"
   ]
  },
  {
   "cell_type": "code",
   "execution_count": 718,
   "metadata": {},
   "outputs": [],
   "source": [
    "dirty = [8,13,15, 20, 24, 25, 38]"
   ]
  },
  {
   "cell_type": "code",
   "execution_count": 719,
   "metadata": {},
   "outputs": [],
   "source": [
    "dirty = doc_df[doc_df.Topic.isin(dirty)]"
   ]
  },
  {
   "cell_type": "code",
   "execution_count": 720,
   "metadata": {},
   "outputs": [],
   "source": [
    "dirty['look_up'] = dirty.index"
   ]
  },
  {
   "cell_type": "code",
   "execution_count": 721,
   "metadata": {},
   "outputs": [],
   "source": [
    "doc_look_up_df['look_up'] = doc_look_up_df.index"
   ]
  },
  {
   "cell_type": "code",
   "execution_count": 722,
   "metadata": {},
   "outputs": [
    {
     "data": {
      "text/html": [
       "<div>\n",
       "<style scoped>\n",
       "    .dataframe tbody tr th:only-of-type {\n",
       "        vertical-align: middle;\n",
       "    }\n",
       "\n",
       "    .dataframe tbody tr th {\n",
       "        vertical-align: top;\n",
       "    }\n",
       "\n",
       "    .dataframe thead th {\n",
       "        text-align: right;\n",
       "    }\n",
       "</style>\n",
       "<table border=\"1\" class=\"dataframe\">\n",
       "  <thead>\n",
       "    <tr style=\"text-align: right;\">\n",
       "      <th></th>\n",
       "      <th>Document</th>\n",
       "      <th>Topic</th>\n",
       "      <th>Name</th>\n",
       "      <th>Representation</th>\n",
       "      <th>Representative_Docs</th>\n",
       "      <th>Top_n_words</th>\n",
       "      <th>Probability</th>\n",
       "      <th>Representative_document</th>\n",
       "      <th>look_up</th>\n",
       "      <th>orig_index</th>\n",
       "      <th>sentence</th>\n",
       "    </tr>\n",
       "  </thead>\n",
       "  <tbody>\n",
       "    <tr>\n",
       "      <th>0</th>\n",
       "      <td>Platform 5 smells like dick dikkah'</td>\n",
       "      <td>20</td>\n",
       "      <td>20_urine_smell_smells_smell urine</td>\n",
       "      <td>[urine, smell, smells, smell urine, parking, s...</td>\n",
       "      <td>[Currently homeless people and junkies spend t...</td>\n",
       "      <td>urine - smell - smells - smell urine - parking...</td>\n",
       "      <td>0.455247</td>\n",
       "      <td>False</td>\n",
       "      <td>6</td>\n",
       "      <td>1</td>\n",
       "      <td>Platform 5 smells like dick dikkah'</td>\n",
       "    </tr>\n",
       "    <tr>\n",
       "      <th>1</th>\n",
       "      <td>Dirty, not enough benches, lots of foreigners ...</td>\n",
       "      <td>13</td>\n",
       "      <td>13_benches_dirty benches_dirty_benches tipsy</td>\n",
       "      <td>[benches, dirty benches, dirty, benches tipsy,...</td>\n",
       "      <td>[Dirty, not enough benches, lots of foreigners...</td>\n",
       "      <td>benches - dirty benches - dirty - benches tips...</td>\n",
       "      <td>0.054712</td>\n",
       "      <td>True</td>\n",
       "      <td>33</td>\n",
       "      <td>4</td>\n",
       "      <td>Dirty, not enough benches, lots of foreigners ...</td>\n",
       "    </tr>\n",
       "    <tr>\n",
       "      <th>2</th>\n",
       "      <td>Unfortunately not very clean Platz!'</td>\n",
       "      <td>8</td>\n",
       "      <td>8_dirty_clean_dirty dirty_unfortunately</td>\n",
       "      <td>[dirty, clean, dirty dirty, unfortunately, unf...</td>\n",
       "      <td>[Dirty'\\n```, Dirty', Dirty']</td>\n",
       "      <td>dirty - clean - dirty dirty - unfortunately - ...</td>\n",
       "      <td>0.924909</td>\n",
       "      <td>False</td>\n",
       "      <td>35</td>\n",
       "      <td>4</td>\n",
       "      <td>Unfortunately not very clean Platz!'</td>\n",
       "    </tr>\n",
       "    <tr>\n",
       "      <th>3</th>\n",
       "      <td>the bushes are pretty dirty from questionable ...</td>\n",
       "      <td>13</td>\n",
       "      <td>13_benches_dirty benches_dirty_benches tipsy</td>\n",
       "      <td>[benches, dirty benches, dirty, benches tipsy,...</td>\n",
       "      <td>[Dirty, not enough benches, lots of foreigners...</td>\n",
       "      <td>benches - dirty benches - dirty - benches tips...</td>\n",
       "      <td>0.027441</td>\n",
       "      <td>False</td>\n",
       "      <td>69</td>\n",
       "      <td>10</td>\n",
       "      <td>the bushes are pretty dirty from questionable ...</td>\n",
       "    </tr>\n",
       "  </tbody>\n",
       "</table>\n",
       "</div>"
      ],
      "text/plain": [
       "                                            Document  Topic  \\\n",
       "0                Platform 5 smells like dick dikkah'     20   \n",
       "1  Dirty, not enough benches, lots of foreigners ...     13   \n",
       "2               Unfortunately not very clean Platz!'      8   \n",
       "3  the bushes are pretty dirty from questionable ...     13   \n",
       "\n",
       "                                           Name  \\\n",
       "0             20_urine_smell_smells_smell urine   \n",
       "1  13_benches_dirty benches_dirty_benches tipsy   \n",
       "2       8_dirty_clean_dirty dirty_unfortunately   \n",
       "3  13_benches_dirty benches_dirty_benches tipsy   \n",
       "\n",
       "                                      Representation  \\\n",
       "0  [urine, smell, smells, smell urine, parking, s...   \n",
       "1  [benches, dirty benches, dirty, benches tipsy,...   \n",
       "2  [dirty, clean, dirty dirty, unfortunately, unf...   \n",
       "3  [benches, dirty benches, dirty, benches tipsy,...   \n",
       "\n",
       "                                 Representative_Docs  \\\n",
       "0  [Currently homeless people and junkies spend t...   \n",
       "1  [Dirty, not enough benches, lots of foreigners...   \n",
       "2                      [Dirty'\\n```, Dirty', Dirty']   \n",
       "3  [Dirty, not enough benches, lots of foreigners...   \n",
       "\n",
       "                                         Top_n_words  Probability  \\\n",
       "0  urine - smell - smells - smell urine - parking...     0.455247   \n",
       "1  benches - dirty benches - dirty - benches tips...     0.054712   \n",
       "2  dirty - clean - dirty dirty - unfortunately - ...     0.924909   \n",
       "3  benches - dirty benches - dirty - benches tips...     0.027441   \n",
       "\n",
       "   Representative_document  look_up  orig_index  \\\n",
       "0                    False        6           1   \n",
       "1                     True       33           4   \n",
       "2                    False       35           4   \n",
       "3                    False       69          10   \n",
       "\n",
       "                                            sentence  \n",
       "0                Platform 5 smells like dick dikkah'  \n",
       "1  Dirty, not enough benches, lots of foreigners ...  \n",
       "2               Unfortunately not very clean Platz!'  \n",
       "3  the bushes are pretty dirty from questionable ...  "
      ]
     },
     "execution_count": 722,
     "metadata": {},
     "output_type": "execute_result"
    }
   ],
   "source": [
    "dirty_df= pd.merge(left=dirty, right=doc_look_up_df, on='look_up', how='inner')\n",
    "dirty_df.head(4)"
   ]
  },
  {
   "cell_type": "code",
   "execution_count": 723,
   "metadata": {},
   "outputs": [],
   "source": [
    "finaldirty_df = pd.merge(left=df, right=dirty_df, on='orig_index', how='inner')"
   ]
  },
  {
   "cell_type": "code",
   "execution_count": 724,
   "metadata": {},
   "outputs": [],
   "source": [
    "cols = ['namenr', 'geometry', 'sentence', 'Topic']"
   ]
  },
  {
   "cell_type": "code",
   "execution_count": 727,
   "metadata": {},
   "outputs": [
    {
     "data": {
      "text/plain": [
       "namenr\n",
       "Park%am%Hauptbahnhof                                       11\n",
       "Spreeuferpromenade%zw.%Jannowitzbrücke%u.%Michaelbrücke     9\n",
       "Annemirl-Bauer-Platz                                        8\n",
       "Waldeckpark                                                 7\n",
       "Ottopark                                                    7\n",
       "Anita-Berber-Park                                           6\n",
       "Falkplatz                                                   5\n",
       "Hallesches%Ufer%zw.%Schöneberger%u.%Möckernbrücke           4\n",
       "Böcklerpark                                                 4\n",
       "Nordhafenpark%Ost                                           4\n",
       "Name: count, dtype: int64"
      ]
     },
     "execution_count": 727,
     "metadata": {},
     "output_type": "execute_result"
    }
   ],
   "source": [
    "finaldirty_df.namenr.value_counts().head(10)"
   ]
  },
  {
   "cell_type": "code",
   "execution_count": 659,
   "metadata": {},
   "outputs": [],
   "source": [
    "#df['orig_index'] = df['Unnamed: 0']"
   ]
  },
  {
   "cell_type": "code",
   "execution_count": 661,
   "metadata": {},
   "outputs": [
    {
     "data": {
      "text/plain": [
       "namenr\n",
       "Park%am%Hauptbahnhof                                       11\n",
       "Spreeuferpromenade%zw.%Jannowitzbrücke%u.%Michaelbrücke     9\n",
       "Annemirl-Bauer-Platz                                        8\n",
       "Waldeckpark                                                 7\n",
       "Ottopark                                                    7\n",
       "Anita-Berber-Park                                           6\n",
       "Falkplatz                                                   5\n",
       "Hallesches%Ufer%zw.%Schöneberger%u.%Möckernbrücke           4\n",
       "Böcklerpark                                                 4\n",
       "Nordhafenpark%Ost                                           4\n",
       "Name: count, dtype: int64"
      ]
     },
     "execution_count": 661,
     "metadata": {},
     "output_type": "execute_result"
    }
   ],
   "source": [
    "dirty_spaces['namenr'].value_counts().head(10)"
   ]
  },
  {
   "cell_type": "code",
   "execution_count": 619,
   "metadata": {},
   "outputs": [],
   "source": [
    "top_namenr = namenr_counts.head(10)\n",
    "\n",
    "# Convert to a DataFrame for better readability\n",
    "top_namenr_df = top_namenr.reset_index()\n",
    "top_namenr_df.columns = ['namenr', 'count']"
   ]
  },
  {
   "cell_type": "code",
   "execution_count": 621,
   "metadata": {},
   "outputs": [
    {
     "data": {
      "text/plain": [
       "namenr\n",
       "Volkspark%am%Weinbergsweg             2\n",
       "Fritz-Schloß-Park                     2\n",
       "Sellerpark                            2\n",
       "Park%an%der%Südpanke                  2\n",
       "Platz%der%Republik                    2\n",
       "                                     ..\n",
       "Klosterkirche%Grünanlage              1\n",
       "Luisenstädtischer%Kirchpark           1\n",
       "Spreeuferpromenade%Märkisches%Ufer    1\n",
       "Köllnischer%Park                      1\n",
       "Eichbuschplatz%Bo%GA                  1\n",
       "Name: count, Length: 273, dtype: int64"
      ]
     },
     "execution_count": 621,
     "metadata": {},
     "output_type": "execute_result"
    }
   ],
   "source": [
    "namenr_counts"
   ]
  },
  {
   "cell_type": "code",
   "execution_count": null,
   "metadata": {},
   "outputs": [],
   "source": []
  },
  {
   "cell_type": "markdown",
   "metadata": {},
   "source": [
    "### testing berttopic prompting"
   ]
  },
  {
   "cell_type": "code",
   "execution_count": 956,
   "metadata": {},
   "outputs": [],
   "source": [
    "prompt = prompt = \"\"\"\n",
    "I am looking for topics that can be found in  the following documents: \n",
    "[DOCUMENTS]\n",
    "All documents are reviews of parks and green areas in Berlin.\n",
    "Among all topics I am looking for one or more specific topics that can be described by the following keywords: [dirty, rubbish, smells, rats, unkept, homeless].\n",
    "Based on the above information, extract a short label for the topic in the following format:\n",
    "topic: <label>\n",
    "\"\"\""
   ]
  },
  {
   "cell_type": "code",
   "execution_count": 1135,
   "metadata": {},
   "outputs": [],
   "source": [
    "prompt = \"\"\"\n",
    "I have a topic that is described by the following keywords: [dirty, dangerous, homeless, uncomfortable]\n",
    "\n",
    "In this topic, the following documents are a small but representative subset of all documents in the topic:\n",
    "- 'Not very clean. But ok. 4 benches. And sometimes dogs'\n",
    "- 'A lot of dealers, drugs everwhere and dark corners with no lights'\n",
    "- 'Some areas are occupied by homeless people who sleep in tents in the park and leave their rubbish lying around.'\n",
    "- 'Creepy, much too loud and far too much traffic'\n",
    "\n",
    "I will provide you a larger number of documents that contain more topics than the one desribed above.\n",
    "Based on the above information, extract a short label for all topics in the following format:\n",
    "topic: <label>\n",
    "\"\"\"\n"
   ]
  },
  {
   "cell_type": "code",
   "execution_count": 1136,
   "metadata": {},
   "outputs": [],
   "source": [
    "tokenizer= tiktoken.encoding_for_model(\"gpt-3.5-turbo\")"
   ]
  },
  {
   "cell_type": "code",
   "execution_count": 1137,
   "metadata": {},
   "outputs": [],
   "source": [
    "representation_model = OpenAI(\n",
    "    client,\n",
    "    model=\"gpt-3.5-turbo\",\n",
    "    delay_in_seconds=2,\n",
    "    chat=True,\n",
    "    nr_docs=4,\n",
    "    doc_length=100,\n",
    "    tokenizer=tokenizer,\n",
    "    prompt=prompt \n",
    ")"
   ]
  },
  {
   "cell_type": "code",
   "execution_count": 1138,
   "metadata": {},
   "outputs": [],
   "source": [
    "#vectorizer_model = CountVectorizer(ngram_range=(1, 3), stop_words='english')"
   ]
  },
  {
   "cell_type": "code",
   "execution_count": 1139,
   "metadata": {},
   "outputs": [],
   "source": [
    "topic_model = BERTopic(representation_model=representation_model, nr_topics=20)"
   ]
  },
  {
   "cell_type": "code",
   "execution_count": 1140,
   "metadata": {},
   "outputs": [],
   "source": [
    "topics, probs = topic_model.fit_transform(docs)"
   ]
  },
  {
   "cell_type": "code",
   "execution_count": 834,
   "metadata": {},
   "outputs": [],
   "source": [
    "\"\"\"new_topics = topic_model.reduce_outliers(docs, topics, probabilities=probs, strategy=\"probabilities\")\n",
    "new_topics = topic_model.reduce_outliers(docs, topics , strategy=\"c-tf-idf\", threshold=0.1)\"\"\""
   ]
  },
  {
   "cell_type": "code",
   "execution_count": 1141,
   "metadata": {},
   "outputs": [
    {
     "data": {
      "text/html": [
       "<div>\n",
       "<style scoped>\n",
       "    .dataframe tbody tr th:only-of-type {\n",
       "        vertical-align: middle;\n",
       "    }\n",
       "\n",
       "    .dataframe tbody tr th {\n",
       "        vertical-align: top;\n",
       "    }\n",
       "\n",
       "    .dataframe thead th {\n",
       "        text-align: right;\n",
       "    }\n",
       "</style>\n",
       "<table border=\"1\" class=\"dataframe\">\n",
       "  <thead>\n",
       "    <tr style=\"text-align: right;\">\n",
       "      <th></th>\n",
       "      <th>Topic</th>\n",
       "      <th>Count</th>\n",
       "      <th>Name</th>\n",
       "      <th>Representation</th>\n",
       "      <th>Representative_Docs</th>\n",
       "    </tr>\n",
       "  </thead>\n",
       "  <tbody>\n",
       "    <tr>\n",
       "      <th>0</th>\n",
       "      <td>-1</td>\n",
       "      <td>4602</td>\n",
       "      <td>-1_Unsanitary and Unsafe Environment</td>\n",
       "      <td>[Unsanitary and Unsafe Environment]</td>\n",
       "      <td>[It is a vibrant place to chill out and if you...</td>\n",
       "    </tr>\n",
       "    <tr>\n",
       "      <th>1</th>\n",
       "      <td>0</td>\n",
       "      <td>4415</td>\n",
       "      <td>0_Unsanitary and Unsafe Environment</td>\n",
       "      <td>[Unsanitary and Unsafe Environment]</td>\n",
       "      <td>[A beautiful park that is very popular as a me...</td>\n",
       "    </tr>\n",
       "    <tr>\n",
       "      <th>2</th>\n",
       "      <td>1</td>\n",
       "      <td>2014</td>\n",
       "      <td>1_uncomfortable and dirty surroundings</td>\n",
       "      <td>[uncomfortable and dirty surroundings]</td>\n",
       "      <td>[This was place I have enjoyed most in Berlin ...</td>\n",
       "    </tr>\n",
       "    <tr>\n",
       "      <th>3</th>\n",
       "      <td>2</td>\n",
       "      <td>795</td>\n",
       "      <td>2_unsanitary city environment</td>\n",
       "      <td>[unsanitary city environment]</td>\n",
       "      <td>[I've just seen an interview with the new dual...</td>\n",
       "    </tr>\n",
       "    <tr>\n",
       "      <th>4</th>\n",
       "      <td>3</td>\n",
       "      <td>738</td>\n",
       "      <td>3_urban park issues</td>\n",
       "      <td>[urban park issues]</td>\n",
       "      <td>[It's OK', Super nice', Super nice']</td>\n",
       "    </tr>\n",
       "    <tr>\n",
       "      <th>5</th>\n",
       "      <td>4</td>\n",
       "      <td>378</td>\n",
       "      <td>4_urban environment issues</td>\n",
       "      <td>[urban environment issues]</td>\n",
       "      <td>[An old Berlin subway station, which was histo...</td>\n",
       "    </tr>\n",
       "    <tr>\n",
       "      <th>6</th>\n",
       "      <td>5</td>\n",
       "      <td>344</td>\n",
       "      <td>5_dirty, dangerous, homeless, uncomfortable</td>\n",
       "      <td>[dirty, dangerous, homeless, uncomfortable]</td>\n",
       "      <td>['Paseo muy agradable a orillas del río Spree....</td>\n",
       "    </tr>\n",
       "    <tr>\n",
       "      <th>7</th>\n",
       "      <td>6</td>\n",
       "      <td>126</td>\n",
       "      <td>6_Given the described subset of documents for ...</td>\n",
       "      <td>[Given the described subset of documents for t...</td>\n",
       "      <td>[Great', None, None, None, None, None, None, N...</td>\n",
       "    </tr>\n",
       "    <tr>\n",
       "      <th>8</th>\n",
       "      <td>7</td>\n",
       "      <td>109</td>\n",
       "      <td>7_[dirty, dangerous, homeless, uncomfortable]</td>\n",
       "      <td>[[dirty, dangerous, homeless, uncomfortable]]</td>\n",
       "      <td>[Kp', 😀 you jk', 😀 you jk']</td>\n",
       "    </tr>\n",
       "    <tr>\n",
       "      <th>9</th>\n",
       "      <td>8</td>\n",
       "      <td>75</td>\n",
       "      <td>8_urban environment issues</td>\n",
       "      <td>[urban environment issues]</td>\n",
       "      <td>[Chill place', Chill', Chill']</td>\n",
       "    </tr>\n",
       "    <tr>\n",
       "      <th>10</th>\n",
       "      <td>9</td>\n",
       "      <td>55</td>\n",
       "      <td>9_Unsanitary urban environment</td>\n",
       "      <td>[Unsanitary urban environment]</td>\n",
       "      <td>[Rats', Rats', There really is a plague of rat...</td>\n",
       "    </tr>\n",
       "    <tr>\n",
       "      <th>11</th>\n",
       "      <td>10</td>\n",
       "      <td>46</td>\n",
       "      <td>10_dirty, dangerous, homeless, uncomfortable</td>\n",
       "      <td>[dirty, dangerous, homeless, uncomfortable]</td>\n",
       "      <td>[From outside is okay...but be very careful be...</td>\n",
       "    </tr>\n",
       "    <tr>\n",
       "      <th>12</th>\n",
       "      <td>11</td>\n",
       "      <td>22</td>\n",
       "      <td>11_dirty, dangerous, homeless, uncomfortable</td>\n",
       "      <td>[dirty, dangerous, homeless, uncomfortable]</td>\n",
       "      <td>[Small but nice! 🤗', Small but nice :-)', Smal...</td>\n",
       "    </tr>\n",
       "    <tr>\n",
       "      <th>13</th>\n",
       "      <td>12</td>\n",
       "      <td>18</td>\n",
       "      <td>12_uncomfortable and unsafe environment</td>\n",
       "      <td>[uncomfortable and unsafe environment]</td>\n",
       "      <td>[The wall is covered with gum?????', The whole...</td>\n",
       "    </tr>\n",
       "    <tr>\n",
       "      <th>14</th>\n",
       "      <td>13</td>\n",
       "      <td>14</td>\n",
       "      <td>13_dirty, dangerous, homeless</td>\n",
       "      <td>[dirty, dangerous, homeless]</td>\n",
       "      <td>[Beautiful route for beginners with roller ska...</td>\n",
       "    </tr>\n",
       "    <tr>\n",
       "      <th>15</th>\n",
       "      <td>14</td>\n",
       "      <td>12</td>\n",
       "      <td>14_dirty, dangerous, homeless, uncomfortable</td>\n",
       "      <td>[dirty, dangerous, homeless, uncomfortable]</td>\n",
       "      <td>[Not sure how anyone can give this park more t...</td>\n",
       "    </tr>\n",
       "    <tr>\n",
       "      <th>16</th>\n",
       "      <td>15</td>\n",
       "      <td>11</td>\n",
       "      <td>15_Based on the provided information, here is ...</td>\n",
       "      <td>[Based on the provided information, here is a ...</td>\n",
       "      <td>[U2', \\u2 00c', \\u2 00c']</td>\n",
       "    </tr>\n",
       "    <tr>\n",
       "      <th>17</th>\n",
       "      <td>16</td>\n",
       "      <td>11</td>\n",
       "      <td>16_[dirty, dangerous, homeless, uncomfortable]</td>\n",
       "      <td>[[dirty, dangerous, homeless, uncomfortable]]</td>\n",
       "      <td>[Very cool ! Mega relaxing!', Very cool ! Mega...</td>\n",
       "    </tr>\n",
       "    <tr>\n",
       "      <th>18</th>\n",
       "      <td>17</td>\n",
       "      <td>10</td>\n",
       "      <td>17_urban environment issues</td>\n",
       "      <td>[urban environment issues]</td>\n",
       "      <td>[Full of dealers, very insecure. Can’t walk 2 ...</td>\n",
       "    </tr>\n",
       "    <tr>\n",
       "      <th>19</th>\n",
       "      <td>18</td>\n",
       "      <td>10</td>\n",
       "      <td>18_Urban Environment Issues</td>\n",
       "      <td>[Urban Environment Issues]</td>\n",
       "      <td>[At this point, the Panke is only called Pimme...</td>\n",
       "    </tr>\n",
       "  </tbody>\n",
       "</table>\n",
       "</div>"
      ],
      "text/plain": [
       "    Topic  Count                                               Name  \\\n",
       "0      -1   4602               -1_Unsanitary and Unsafe Environment   \n",
       "1       0   4415                0_Unsanitary and Unsafe Environment   \n",
       "2       1   2014             1_uncomfortable and dirty surroundings   \n",
       "3       2    795                      2_unsanitary city environment   \n",
       "4       3    738                                3_urban park issues   \n",
       "5       4    378                         4_urban environment issues   \n",
       "6       5    344        5_dirty, dangerous, homeless, uncomfortable   \n",
       "7       6    126  6_Given the described subset of documents for ...   \n",
       "8       7    109      7_[dirty, dangerous, homeless, uncomfortable]   \n",
       "9       8     75                         8_urban environment issues   \n",
       "10      9     55                     9_Unsanitary urban environment   \n",
       "11     10     46       10_dirty, dangerous, homeless, uncomfortable   \n",
       "12     11     22       11_dirty, dangerous, homeless, uncomfortable   \n",
       "13     12     18            12_uncomfortable and unsafe environment   \n",
       "14     13     14                      13_dirty, dangerous, homeless   \n",
       "15     14     12       14_dirty, dangerous, homeless, uncomfortable   \n",
       "16     15     11  15_Based on the provided information, here is ...   \n",
       "17     16     11     16_[dirty, dangerous, homeless, uncomfortable]   \n",
       "18     17     10                        17_urban environment issues   \n",
       "19     18     10                        18_Urban Environment Issues   \n",
       "\n",
       "                                       Representation  \\\n",
       "0                 [Unsanitary and Unsafe Environment]   \n",
       "1                 [Unsanitary and Unsafe Environment]   \n",
       "2              [uncomfortable and dirty surroundings]   \n",
       "3                       [unsanitary city environment]   \n",
       "4                                 [urban park issues]   \n",
       "5                          [urban environment issues]   \n",
       "6         [dirty, dangerous, homeless, uncomfortable]   \n",
       "7   [Given the described subset of documents for t...   \n",
       "8       [[dirty, dangerous, homeless, uncomfortable]]   \n",
       "9                          [urban environment issues]   \n",
       "10                     [Unsanitary urban environment]   \n",
       "11        [dirty, dangerous, homeless, uncomfortable]   \n",
       "12        [dirty, dangerous, homeless, uncomfortable]   \n",
       "13             [uncomfortable and unsafe environment]   \n",
       "14                       [dirty, dangerous, homeless]   \n",
       "15        [dirty, dangerous, homeless, uncomfortable]   \n",
       "16  [Based on the provided information, here is a ...   \n",
       "17      [[dirty, dangerous, homeless, uncomfortable]]   \n",
       "18                         [urban environment issues]   \n",
       "19                         [Urban Environment Issues]   \n",
       "\n",
       "                                  Representative_Docs  \n",
       "0   [It is a vibrant place to chill out and if you...  \n",
       "1   [A beautiful park that is very popular as a me...  \n",
       "2   [This was place I have enjoyed most in Berlin ...  \n",
       "3   [I've just seen an interview with the new dual...  \n",
       "4                [It's OK', Super nice', Super nice']  \n",
       "5   [An old Berlin subway station, which was histo...  \n",
       "6   ['Paseo muy agradable a orillas del río Spree....  \n",
       "7   [Great', None, None, None, None, None, None, N...  \n",
       "8                         [Kp', 😀 you jk', 😀 you jk']  \n",
       "9                      [Chill place', Chill', Chill']  \n",
       "10  [Rats', Rats', There really is a plague of rat...  \n",
       "11  [From outside is okay...but be very careful be...  \n",
       "12  [Small but nice! 🤗', Small but nice :-)', Smal...  \n",
       "13  [The wall is covered with gum?????', The whole...  \n",
       "14  [Beautiful route for beginners with roller ska...  \n",
       "15  [Not sure how anyone can give this park more t...  \n",
       "16                          [U2', \\u2 00c', \\u2 00c']  \n",
       "17  [Very cool ! Mega relaxing!', Very cool ! Mega...  \n",
       "18  [Full of dealers, very insecure. Can’t walk 2 ...  \n",
       "19  [At this point, the Panke is only called Pimme...  "
      ]
     },
     "execution_count": 1141,
     "metadata": {},
     "output_type": "execute_result"
    }
   ],
   "source": [
    "topic_df = topic_model.get_topic_info()\n",
    "topic_df"
   ]
  },
  {
   "cell_type": "code",
   "execution_count": 1130,
   "metadata": {},
   "outputs": [
    {
     "data": {
      "text/html": [
       "<div>\n",
       "<style scoped>\n",
       "    .dataframe tbody tr th:only-of-type {\n",
       "        vertical-align: middle;\n",
       "    }\n",
       "\n",
       "    .dataframe tbody tr th {\n",
       "        vertical-align: top;\n",
       "    }\n",
       "\n",
       "    .dataframe thead th {\n",
       "        text-align: right;\n",
       "    }\n",
       "</style>\n",
       "<table border=\"1\" class=\"dataframe\">\n",
       "  <thead>\n",
       "    <tr style=\"text-align: right;\">\n",
       "      <th></th>\n",
       "      <th>Topic</th>\n",
       "      <th>Count</th>\n",
       "      <th>Name</th>\n",
       "      <th>Representation</th>\n",
       "      <th>Representative_Docs</th>\n",
       "    </tr>\n",
       "  </thead>\n",
       "  <tbody>\n",
       "    <tr>\n",
       "      <th>241</th>\n",
       "      <td>240</td>\n",
       "      <td>13</td>\n",
       "      <td>240_Mixed Feelings Park</td>\n",
       "      <td>[Mixed Feelings Park]</td>\n",
       "      <td>[Very good connection to the subway', Very goo...</td>\n",
       "    </tr>\n",
       "    <tr>\n",
       "      <th>242</th>\n",
       "      <td>241</td>\n",
       "      <td>13</td>\n",
       "      <td>241_Park with Mixed Experience</td>\n",
       "      <td>[Park with Mixed Experience]</td>\n",
       "      <td>[Nice Park', \"One of Berlin's hidden gems\", On...</td>\n",
       "    </tr>\n",
       "    <tr>\n",
       "      <th>243</th>\n",
       "      <td>242</td>\n",
       "      <td>13</td>\n",
       "      <td>242_Urban Park Characteristics</td>\n",
       "      <td>[Urban Park Characteristics]</td>\n",
       "      <td>[A wonderful place',  Wonderful place', Wonder...</td>\n",
       "    </tr>\n",
       "    <tr>\n",
       "      <th>244</th>\n",
       "      <td>243</td>\n",
       "      <td>13</td>\n",
       "      <td>243_Urban Park Characteristics</td>\n",
       "      <td>[Urban Park Characteristics]</td>\n",
       "      <td>[Beautiful route for beginners with roller ska...</td>\n",
       "    </tr>\n",
       "    <tr>\n",
       "      <th>245</th>\n",
       "      <td>244</td>\n",
       "      <td>13</td>\n",
       "      <td>244_Urban Park Characteristics</td>\n",
       "      <td>[Urban Park Characteristics]</td>\n",
       "      <td>[Wound erable place', None, None, None, None, ...</td>\n",
       "    </tr>\n",
       "    <tr>\n",
       "      <th>246</th>\n",
       "      <td>245</td>\n",
       "      <td>13</td>\n",
       "      <td>245_Public Park Characteristics</td>\n",
       "      <td>[Public Park Characteristics]</td>\n",
       "      <td>[Nice open space. Lots of places for kids and ...</td>\n",
       "    </tr>\n",
       "    <tr>\n",
       "      <th>247</th>\n",
       "      <td>246</td>\n",
       "      <td>13</td>\n",
       "      <td>246_Park with mixed reviews</td>\n",
       "      <td>[Park with mixed reviews]</td>\n",
       "      <td>[It was wonderful to walk along the waterfront...</td>\n",
       "    </tr>\n",
       "    <tr>\n",
       "      <th>248</th>\n",
       "      <td>247</td>\n",
       "      <td>12</td>\n",
       "      <td>247_Urban Park Description</td>\n",
       "      <td>[Urban Park Description]</td>\n",
       "      <td>[Bearable', Bearable', Bearable']</td>\n",
       "    </tr>\n",
       "    <tr>\n",
       "      <th>249</th>\n",
       "      <td>248</td>\n",
       "      <td>12</td>\n",
       "      <td>248_Mixed Feelings Park</td>\n",
       "      <td>[Mixed Feelings Park]</td>\n",
       "      <td>['Very peaceful place .', Peaceful place!', Pe...</td>\n",
       "    </tr>\n",
       "    <tr>\n",
       "      <th>250</th>\n",
       "      <td>249</td>\n",
       "      <td>12</td>\n",
       "      <td>249_mixed atmosphere park</td>\n",
       "      <td>[mixed atmosphere park]</td>\n",
       "      <td>[Worth a trip when the weather is nice.', None...</td>\n",
       "    </tr>\n",
       "    <tr>\n",
       "      <th>251</th>\n",
       "      <td>250</td>\n",
       "      <td>12</td>\n",
       "      <td>250_Urban Park Assessment</td>\n",
       "      <td>[Urban Park Assessment]</td>\n",
       "      <td>[Excellent service (changes from 1 July), outs...</td>\n",
       "    </tr>\n",
       "    <tr>\n",
       "      <th>252</th>\n",
       "      <td>251</td>\n",
       "      <td>12</td>\n",
       "      <td>251_Park Description</td>\n",
       "      <td>[Park Description]</td>\n",
       "      <td>[Güzel bir yer', Her zaman bir yoğunluk olan b...</td>\n",
       "    </tr>\n",
       "    <tr>\n",
       "      <th>253</th>\n",
       "      <td>252</td>\n",
       "      <td>12</td>\n",
       "      <td>252_Urban Park Characteristics</td>\n",
       "      <td>[Urban Park Characteristics]</td>\n",
       "      <td>[beautiful place but there is a barrier that s...</td>\n",
       "    </tr>\n",
       "    <tr>\n",
       "      <th>254</th>\n",
       "      <td>253</td>\n",
       "      <td>12</td>\n",
       "      <td>253_Park with Mixed Feelings</td>\n",
       "      <td>[Park with Mixed Feelings]</td>\n",
       "      <td>[Saturday afternoon has nice shady benches to ...</td>\n",
       "    </tr>\n",
       "    <tr>\n",
       "      <th>255</th>\n",
       "      <td>254</td>\n",
       "      <td>12</td>\n",
       "      <td>254_mixed feelings on urban park</td>\n",
       "      <td>[mixed feelings on urban park]</td>\n",
       "      <td>[Once again an open space in the middle of the...</td>\n",
       "    </tr>\n",
       "    <tr>\n",
       "      <th>256</th>\n",
       "      <td>255</td>\n",
       "      <td>12</td>\n",
       "      <td>255_Urban Park Characteristics</td>\n",
       "      <td>[Urban Park Characteristics]</td>\n",
       "      <td>[Very cool ! Mega relaxing!', Very cool ! Mega...</td>\n",
       "    </tr>\n",
       "    <tr>\n",
       "      <th>257</th>\n",
       "      <td>256</td>\n",
       "      <td>12</td>\n",
       "      <td>256_Park Assessment</td>\n",
       "      <td>[Park Assessment]</td>\n",
       "      <td>[Experience the beauty of this place while bik...</td>\n",
       "    </tr>\n",
       "    <tr>\n",
       "      <th>258</th>\n",
       "      <td>257</td>\n",
       "      <td>12</td>\n",
       "      <td>257_Park with Mixed Atmosphere</td>\n",
       "      <td>[Park with Mixed Atmosphere]</td>\n",
       "      <td>[Super good and friendly advice and a lot of c...</td>\n",
       "    </tr>\n",
       "    <tr>\n",
       "      <th>259</th>\n",
       "      <td>258</td>\n",
       "      <td>12</td>\n",
       "      <td>258_Park with mixed reviews</td>\n",
       "      <td>[Park with mixed reviews]</td>\n",
       "      <td>[Just go there, it used to be really bad, but ...</td>\n",
       "    </tr>\n",
       "    <tr>\n",
       "      <th>260</th>\n",
       "      <td>259</td>\n",
       "      <td>12</td>\n",
       "      <td>259_Urban Park Characteristics</td>\n",
       "      <td>[Urban Park Characteristics]</td>\n",
       "      <td>[The park is beautiful in itself, but there is...</td>\n",
       "    </tr>\n",
       "    <tr>\n",
       "      <th>261</th>\n",
       "      <td>260</td>\n",
       "      <td>12</td>\n",
       "      <td>260_Mixed Perceptions of Urban Park</td>\n",
       "      <td>[Mixed Perceptions of Urban Park]</td>\n",
       "      <td>[It looked pretty average after the long summe...</td>\n",
       "    </tr>\n",
       "    <tr>\n",
       "      <th>262</th>\n",
       "      <td>261</td>\n",
       "      <td>12</td>\n",
       "      <td>261_Urban Park Characteristics</td>\n",
       "      <td>[Urban Park Characteristics]</td>\n",
       "      <td>[It's a really good park for get weed and some...</td>\n",
       "    </tr>\n",
       "    <tr>\n",
       "      <th>263</th>\n",
       "      <td>262</td>\n",
       "      <td>12</td>\n",
       "      <td>262_Neutral Park Environment</td>\n",
       "      <td>[Neutral Park Environment]</td>\n",
       "      <td>['Very very lovely and fun pack. Very colorful...</td>\n",
       "    </tr>\n",
       "    <tr>\n",
       "      <th>264</th>\n",
       "      <td>263</td>\n",
       "      <td>12</td>\n",
       "      <td>263_mixed_condition park</td>\n",
       "      <td>[mixed_condition park]</td>\n",
       "      <td>[Too many construction sites, unpleasant place...</td>\n",
       "    </tr>\n",
       "    <tr>\n",
       "      <th>265</th>\n",
       "      <td>264</td>\n",
       "      <td>12</td>\n",
       "      <td>264_Urban Park Characteristics</td>\n",
       "      <td>[Urban Park Characteristics]</td>\n",
       "      <td>[Transfer station', None, None, None, None, No...</td>\n",
       "    </tr>\n",
       "    <tr>\n",
       "      <th>266</th>\n",
       "      <td>265</td>\n",
       "      <td>12</td>\n",
       "      <td>265_Urban Park Characteristics</td>\n",
       "      <td>[Urban Park Characteristics]</td>\n",
       "      <td>[Small remains of a church near Alexanderplatz...</td>\n",
       "    </tr>\n",
       "    <tr>\n",
       "      <th>267</th>\n",
       "      <td>266</td>\n",
       "      <td>12</td>\n",
       "      <td>266_Mixed Opinions on Urban Park</td>\n",
       "      <td>[Mixed Opinions on Urban Park]</td>\n",
       "      <td>[Good and cozy', Very cozy', The best jacket i...</td>\n",
       "    </tr>\n",
       "    <tr>\n",
       "      <th>268</th>\n",
       "      <td>267</td>\n",
       "      <td>12</td>\n",
       "      <td>267_Urban Park with Mixed Amenities and Safety...</td>\n",
       "      <td>[Urban Park with Mixed Amenities and Safety Co...</td>\n",
       "      <td>[Beautiful parc with a super nice atmosphere, ...</td>\n",
       "    </tr>\n",
       "    <tr>\n",
       "      <th>269</th>\n",
       "      <td>268</td>\n",
       "      <td>11</td>\n",
       "      <td>268_Urban Park Characteristics</td>\n",
       "      <td>[Urban Park Characteristics]</td>\n",
       "      <td>[Great park, masses of space and a nice memori...</td>\n",
       "    </tr>\n",
       "    <tr>\n",
       "      <th>270</th>\n",
       "      <td>269</td>\n",
       "      <td>11</td>\n",
       "      <td>269_Mixed Feelings Park</td>\n",
       "      <td>[Mixed Feelings Park]</td>\n",
       "      <td>[Great Christmas market with iconic backdrop. ...</td>\n",
       "    </tr>\n",
       "    <tr>\n",
       "      <th>271</th>\n",
       "      <td>270</td>\n",
       "      <td>11</td>\n",
       "      <td>270_Mixed Feelings Park</td>\n",
       "      <td>[Mixed Feelings Park]</td>\n",
       "      <td>[It's really warm😍🇩🇪 Definitely in Berlin, it'...</td>\n",
       "    </tr>\n",
       "    <tr>\n",
       "      <th>272</th>\n",
       "      <td>271</td>\n",
       "      <td>11</td>\n",
       "      <td>271_Urban Park Characteristics</td>\n",
       "      <td>[Urban Park Characteristics]</td>\n",
       "      <td>[No clues, the track is correct but the train ...</td>\n",
       "    </tr>\n",
       "    <tr>\n",
       "      <th>273</th>\n",
       "      <td>272</td>\n",
       "      <td>11</td>\n",
       "      <td>272_Urban Park Pros and Cons</td>\n",
       "      <td>[Urban Park Pros and Cons]</td>\n",
       "      <td>[Very good place for walking and bycycling. I ...</td>\n",
       "    </tr>\n",
       "    <tr>\n",
       "      <th>274</th>\n",
       "      <td>273</td>\n",
       "      <td>11</td>\n",
       "      <td>273_Well-maintained with concerning safety and...</td>\n",
       "      <td>[Well-maintained with concerning safety and cl...</td>\n",
       "      <td>[The playground is nice, but there's not much ...</td>\n",
       "    </tr>\n",
       "    <tr>\n",
       "      <th>275</th>\n",
       "      <td>274</td>\n",
       "      <td>11</td>\n",
       "      <td>274_Mixed experience in urban park</td>\n",
       "      <td>[Mixed experience in urban park]</td>\n",
       "      <td>[Cool location for everyone 😎', Cool location ...</td>\n",
       "    </tr>\n",
       "    <tr>\n",
       "      <th>276</th>\n",
       "      <td>275</td>\n",
       "      <td>11</td>\n",
       "      <td>275_Mixed Feelings Park</td>\n",
       "      <td>[Mixed Feelings Park]</td>\n",
       "      <td>[Yesterday we started this years Thaipark seas...</td>\n",
       "    </tr>\n",
       "    <tr>\n",
       "      <th>277</th>\n",
       "      <td>276</td>\n",
       "      <td>11</td>\n",
       "      <td>276_mixed quality urban park</td>\n",
       "      <td>[mixed quality urban park]</td>\n",
       "      <td>[This is a nice small park with a pond, some g...</td>\n",
       "    </tr>\n",
       "    <tr>\n",
       "      <th>278</th>\n",
       "      <td>277</td>\n",
       "      <td>11</td>\n",
       "      <td>277_Mixed Feelings Park</td>\n",
       "      <td>[Mixed Feelings Park]</td>\n",
       "      <td>[Green oasis in the middle of Berlin.', Laid o...</td>\n",
       "    </tr>\n",
       "    <tr>\n",
       "      <th>279</th>\n",
       "      <td>278</td>\n",
       "      <td>11</td>\n",
       "      <td>278_Urban Park Characteristics</td>\n",
       "      <td>[Urban Park Characteristics]</td>\n",
       "      <td>[At this point, the Panke is only called Pimme...</td>\n",
       "    </tr>\n",
       "    <tr>\n",
       "      <th>280</th>\n",
       "      <td>279</td>\n",
       "      <td>11</td>\n",
       "      <td>279_Mixed Feelings Park</td>\n",
       "      <td>[Mixed Feelings Park]</td>\n",
       "      <td>[Totally practical for changing subway lines. ...</td>\n",
       "    </tr>\n",
       "    <tr>\n",
       "      <th>281</th>\n",
       "      <td>280</td>\n",
       "      <td>11</td>\n",
       "      <td>280_Urban Park Characteristics</td>\n",
       "      <td>[Urban Park Characteristics]</td>\n",
       "      <td>[A beautiful promenade, which is very well vis...</td>\n",
       "    </tr>\n",
       "    <tr>\n",
       "      <th>282</th>\n",
       "      <td>281</td>\n",
       "      <td>11</td>\n",
       "      <td>281_Urban Park Characteristics</td>\n",
       "      <td>[Urban Park Characteristics]</td>\n",
       "      <td>[You can get (fortunately) lost in this great ...</td>\n",
       "    </tr>\n",
       "    <tr>\n",
       "      <th>283</th>\n",
       "      <td>282</td>\n",
       "      <td>11</td>\n",
       "      <td>282_mixed_quality_public_space</td>\n",
       "      <td>[mixed_quality_public_space]</td>\n",
       "      <td>[clean, green, friendly, what else would you w...</td>\n",
       "    </tr>\n",
       "    <tr>\n",
       "      <th>284</th>\n",
       "      <td>283</td>\n",
       "      <td>11</td>\n",
       "      <td>283_Urban Park Environment</td>\n",
       "      <td>[Urban Park Environment]</td>\n",
       "      <td>[Beautiful garden with lovely shaded seating',...</td>\n",
       "    </tr>\n",
       "    <tr>\n",
       "      <th>285</th>\n",
       "      <td>284</td>\n",
       "      <td>10</td>\n",
       "      <td>284_Public Park Environment</td>\n",
       "      <td>[Public Park Environment]</td>\n",
       "      <td>[Beautiful park with a lake at one end! Pretty...</td>\n",
       "    </tr>\n",
       "    <tr>\n",
       "      <th>286</th>\n",
       "      <td>285</td>\n",
       "      <td>10</td>\n",
       "      <td>285_Mixed feelings park</td>\n",
       "      <td>[Mixed feelings park]</td>\n",
       "      <td>[Small, cute place. Play there shortly afterwa...</td>\n",
       "    </tr>\n",
       "    <tr>\n",
       "      <th>287</th>\n",
       "      <td>286</td>\n",
       "      <td>10</td>\n",
       "      <td>286_Mixed Feelings Park</td>\n",
       "      <td>[Mixed Feelings Park]</td>\n",
       "      <td>[Nice honest place to chill in east Berlin thi...</td>\n",
       "    </tr>\n",
       "    <tr>\n",
       "      <th>288</th>\n",
       "      <td>287</td>\n",
       "      <td>10</td>\n",
       "      <td>287_Urban Park Characteristics</td>\n",
       "      <td>[Urban Park Characteristics]</td>\n",
       "      <td>[Nice to walk in, but be careful', Nice to wal...</td>\n",
       "    </tr>\n",
       "    <tr>\n",
       "      <th>289</th>\n",
       "      <td>288</td>\n",
       "      <td>10</td>\n",
       "      <td>288_Mixed Quality Urban Park</td>\n",
       "      <td>[Mixed Quality Urban Park]</td>\n",
       "      <td>[Luckily I'm sitting in front of the TV.The cu...</td>\n",
       "    </tr>\n",
       "    <tr>\n",
       "      <th>290</th>\n",
       "      <td>289</td>\n",
       "      <td>10</td>\n",
       "      <td>289_Mixed quality urban park</td>\n",
       "      <td>[Mixed quality urban park]</td>\n",
       "      <td>[A beautiful work of sculpture and the best vi...</td>\n",
       "    </tr>\n",
       "  </tbody>\n",
       "</table>\n",
       "</div>"
      ],
      "text/plain": [
       "     Topic  Count                                               Name  \\\n",
       "241    240     13                            240_Mixed Feelings Park   \n",
       "242    241     13                     241_Park with Mixed Experience   \n",
       "243    242     13                     242_Urban Park Characteristics   \n",
       "244    243     13                     243_Urban Park Characteristics   \n",
       "245    244     13                     244_Urban Park Characteristics   \n",
       "246    245     13                    245_Public Park Characteristics   \n",
       "247    246     13                        246_Park with mixed reviews   \n",
       "248    247     12                         247_Urban Park Description   \n",
       "249    248     12                            248_Mixed Feelings Park   \n",
       "250    249     12                          249_mixed atmosphere park   \n",
       "251    250     12                          250_Urban Park Assessment   \n",
       "252    251     12                               251_Park Description   \n",
       "253    252     12                     252_Urban Park Characteristics   \n",
       "254    253     12                       253_Park with Mixed Feelings   \n",
       "255    254     12                   254_mixed feelings on urban park   \n",
       "256    255     12                     255_Urban Park Characteristics   \n",
       "257    256     12                                256_Park Assessment   \n",
       "258    257     12                     257_Park with Mixed Atmosphere   \n",
       "259    258     12                        258_Park with mixed reviews   \n",
       "260    259     12                     259_Urban Park Characteristics   \n",
       "261    260     12                260_Mixed Perceptions of Urban Park   \n",
       "262    261     12                     261_Urban Park Characteristics   \n",
       "263    262     12                       262_Neutral Park Environment   \n",
       "264    263     12                           263_mixed_condition park   \n",
       "265    264     12                     264_Urban Park Characteristics   \n",
       "266    265     12                     265_Urban Park Characteristics   \n",
       "267    266     12                   266_Mixed Opinions on Urban Park   \n",
       "268    267     12  267_Urban Park with Mixed Amenities and Safety...   \n",
       "269    268     11                     268_Urban Park Characteristics   \n",
       "270    269     11                            269_Mixed Feelings Park   \n",
       "271    270     11                            270_Mixed Feelings Park   \n",
       "272    271     11                     271_Urban Park Characteristics   \n",
       "273    272     11                       272_Urban Park Pros and Cons   \n",
       "274    273     11  273_Well-maintained with concerning safety and...   \n",
       "275    274     11                 274_Mixed experience in urban park   \n",
       "276    275     11                            275_Mixed Feelings Park   \n",
       "277    276     11                       276_mixed quality urban park   \n",
       "278    277     11                            277_Mixed Feelings Park   \n",
       "279    278     11                     278_Urban Park Characteristics   \n",
       "280    279     11                            279_Mixed Feelings Park   \n",
       "281    280     11                     280_Urban Park Characteristics   \n",
       "282    281     11                     281_Urban Park Characteristics   \n",
       "283    282     11                     282_mixed_quality_public_space   \n",
       "284    283     11                         283_Urban Park Environment   \n",
       "285    284     10                        284_Public Park Environment   \n",
       "286    285     10                            285_Mixed feelings park   \n",
       "287    286     10                            286_Mixed Feelings Park   \n",
       "288    287     10                     287_Urban Park Characteristics   \n",
       "289    288     10                       288_Mixed Quality Urban Park   \n",
       "290    289     10                       289_Mixed quality urban park   \n",
       "\n",
       "                                        Representation  \\\n",
       "241                              [Mixed Feelings Park]   \n",
       "242                       [Park with Mixed Experience]   \n",
       "243                       [Urban Park Characteristics]   \n",
       "244                       [Urban Park Characteristics]   \n",
       "245                       [Urban Park Characteristics]   \n",
       "246                      [Public Park Characteristics]   \n",
       "247                          [Park with mixed reviews]   \n",
       "248                           [Urban Park Description]   \n",
       "249                              [Mixed Feelings Park]   \n",
       "250                            [mixed atmosphere park]   \n",
       "251                            [Urban Park Assessment]   \n",
       "252                                 [Park Description]   \n",
       "253                       [Urban Park Characteristics]   \n",
       "254                         [Park with Mixed Feelings]   \n",
       "255                     [mixed feelings on urban park]   \n",
       "256                       [Urban Park Characteristics]   \n",
       "257                                  [Park Assessment]   \n",
       "258                       [Park with Mixed Atmosphere]   \n",
       "259                          [Park with mixed reviews]   \n",
       "260                       [Urban Park Characteristics]   \n",
       "261                  [Mixed Perceptions of Urban Park]   \n",
       "262                       [Urban Park Characteristics]   \n",
       "263                         [Neutral Park Environment]   \n",
       "264                             [mixed_condition park]   \n",
       "265                       [Urban Park Characteristics]   \n",
       "266                       [Urban Park Characteristics]   \n",
       "267                     [Mixed Opinions on Urban Park]   \n",
       "268  [Urban Park with Mixed Amenities and Safety Co...   \n",
       "269                       [Urban Park Characteristics]   \n",
       "270                              [Mixed Feelings Park]   \n",
       "271                              [Mixed Feelings Park]   \n",
       "272                       [Urban Park Characteristics]   \n",
       "273                         [Urban Park Pros and Cons]   \n",
       "274  [Well-maintained with concerning safety and cl...   \n",
       "275                   [Mixed experience in urban park]   \n",
       "276                              [Mixed Feelings Park]   \n",
       "277                         [mixed quality urban park]   \n",
       "278                              [Mixed Feelings Park]   \n",
       "279                       [Urban Park Characteristics]   \n",
       "280                              [Mixed Feelings Park]   \n",
       "281                       [Urban Park Characteristics]   \n",
       "282                       [Urban Park Characteristics]   \n",
       "283                       [mixed_quality_public_space]   \n",
       "284                           [Urban Park Environment]   \n",
       "285                          [Public Park Environment]   \n",
       "286                              [Mixed feelings park]   \n",
       "287                              [Mixed Feelings Park]   \n",
       "288                       [Urban Park Characteristics]   \n",
       "289                         [Mixed Quality Urban Park]   \n",
       "290                         [Mixed quality urban park]   \n",
       "\n",
       "                                   Representative_Docs  \n",
       "241  [Very good connection to the subway', Very goo...  \n",
       "242  [Nice Park', \"One of Berlin's hidden gems\", On...  \n",
       "243  [A wonderful place',  Wonderful place', Wonder...  \n",
       "244  [Beautiful route for beginners with roller ska...  \n",
       "245  [Wound erable place', None, None, None, None, ...  \n",
       "246  [Nice open space. Lots of places for kids and ...  \n",
       "247  [It was wonderful to walk along the waterfront...  \n",
       "248                  [Bearable', Bearable', Bearable']  \n",
       "249  ['Very peaceful place .', Peaceful place!', Pe...  \n",
       "250  [Worth a trip when the weather is nice.', None...  \n",
       "251  [Excellent service (changes from 1 July), outs...  \n",
       "252  [Güzel bir yer', Her zaman bir yoğunluk olan b...  \n",
       "253  [beautiful place but there is a barrier that s...  \n",
       "254  [Saturday afternoon has nice shady benches to ...  \n",
       "255  [Once again an open space in the middle of the...  \n",
       "256  [Very cool ! Mega relaxing!', Very cool ! Mega...  \n",
       "257  [Experience the beauty of this place while bik...  \n",
       "258  [Super good and friendly advice and a lot of c...  \n",
       "259  [Just go there, it used to be really bad, but ...  \n",
       "260  [The park is beautiful in itself, but there is...  \n",
       "261  [It looked pretty average after the long summe...  \n",
       "262  [It's a really good park for get weed and some...  \n",
       "263  ['Very very lovely and fun pack. Very colorful...  \n",
       "264  [Too many construction sites, unpleasant place...  \n",
       "265  [Transfer station', None, None, None, None, No...  \n",
       "266  [Small remains of a church near Alexanderplatz...  \n",
       "267  [Good and cozy', Very cozy', The best jacket i...  \n",
       "268  [Beautiful parc with a super nice atmosphere, ...  \n",
       "269  [Great park, masses of space and a nice memori...  \n",
       "270  [Great Christmas market with iconic backdrop. ...  \n",
       "271  [It's really warm😍🇩🇪 Definitely in Berlin, it'...  \n",
       "272  [No clues, the track is correct but the train ...  \n",
       "273  [Very good place for walking and bycycling. I ...  \n",
       "274  [The playground is nice, but there's not much ...  \n",
       "275  [Cool location for everyone 😎', Cool location ...  \n",
       "276  [Yesterday we started this years Thaipark seas...  \n",
       "277  [This is a nice small park with a pond, some g...  \n",
       "278  [Green oasis in the middle of Berlin.', Laid o...  \n",
       "279  [At this point, the Panke is only called Pimme...  \n",
       "280  [Totally practical for changing subway lines. ...  \n",
       "281  [A beautiful promenade, which is very well vis...  \n",
       "282  [You can get (fortunately) lost in this great ...  \n",
       "283  [clean, green, friendly, what else would you w...  \n",
       "284  [Beautiful garden with lovely shaded seating',...  \n",
       "285  [Beautiful park with a lake at one end! Pretty...  \n",
       "286  [Small, cute place. Play there shortly afterwa...  \n",
       "287  [Nice honest place to chill in east Berlin thi...  \n",
       "288  [Nice to walk in, but be careful', Nice to wal...  \n",
       "289  [Luckily I'm sitting in front of the TV.The cu...  \n",
       "290  [A beautiful work of sculpture and the best vi...  "
      ]
     },
     "execution_count": 1130,
     "metadata": {},
     "output_type": "execute_result"
    }
   ],
   "source": [
    "topic_df."
   ]
  },
  {
   "cell_type": "code",
   "execution_count": 1119,
   "metadata": {},
   "outputs": [
    {
     "data": {
      "text/plain": [
       "\"Nice new playground and mostly nice people. Unfortunately no public toilet in the area.'\""
      ]
     },
     "execution_count": 1119,
     "metadata": {},
     "output_type": "execute_result"
    }
   ],
   "source": [
    "filtered_df_2.Document.iloc[120]"
   ]
  },
  {
   "cell_type": "code",
   "execution_count": 1055,
   "metadata": {},
   "outputs": [],
   "source": [
    "topic_df = topic_model.get_topic_info()"
   ]
  },
  {
   "cell_type": "code",
   "execution_count": 1078,
   "metadata": {},
   "outputs": [
    {
     "data": {
      "text/plain": [
       "\"Nothing special here.'\""
      ]
     },
     "execution_count": 1078,
     "metadata": {},
     "output_type": "execute_result"
    }
   ],
   "source": [
    "filtered_df.Document.iloc[7]"
   ]
  },
  {
   "cell_type": "code",
   "execution_count": 970,
   "metadata": {},
   "outputs": [],
   "source": [
    "doc_df = topic_model.get_document_info(docs)"
   ]
  },
  {
   "cell_type": "code",
   "execution_count": 978,
   "metadata": {},
   "outputs": [],
   "source": [
    "filtered_df_3=doc_df[doc_df['Topic']==6]"
   ]
  },
  {
   "cell_type": "code",
   "execution_count": 954,
   "metadata": {},
   "outputs": [],
   "source": [
    "filtered_df_2 = doc_df[doc_df['Topic']==4]"
   ]
  },
  {
   "cell_type": "code",
   "execution_count": 982,
   "metadata": {},
   "outputs": [
    {
     "data": {
      "text/plain": [
       "303"
      ]
     },
     "execution_count": 982,
     "metadata": {},
     "output_type": "execute_result"
    }
   ],
   "source": [
    "len(filtered_df_2)"
   ]
  },
  {
   "cell_type": "code",
   "execution_count": 983,
   "metadata": {},
   "outputs": [],
   "source": [
    "#check = [9, 40, 36, 34,28]"
   ]
  },
  {
   "cell_type": "code",
   "execution_count": 910,
   "metadata": {},
   "outputs": [],
   "source": [
    "filtered_df = doc_df[doc_df['Topic'].isin(check)]"
   ]
  },
  {
   "cell_type": "code",
   "execution_count": 1016,
   "metadata": {},
   "outputs": [
    {
     "data": {
      "text/plain": [
       "303"
      ]
     },
     "execution_count": 1016,
     "metadata": {},
     "output_type": "execute_result"
    }
   ],
   "source": [
    "len(filtered_df_2.index)"
   ]
  },
  {
   "cell_type": "code",
   "execution_count": 1026,
   "metadata": {},
   "outputs": [],
   "source": [
    "filtered_df['orig_index'] = filtered_df.index"
   ]
  },
  {
   "cell_type": "code",
   "execution_count": 1027,
   "metadata": {},
   "outputs": [],
   "source": [
    "doc_look_up_df['map'] = doc_look_up_df.index"
   ]
  },
  {
   "cell_type": "code",
   "execution_count": 1028,
   "metadata": {},
   "outputs": [],
   "source": [
    "filtered_df['map'] = filtered_df.index"
   ]
  },
  {
   "cell_type": "code",
   "execution_count": 1029,
   "metadata": {},
   "outputs": [],
   "source": [
    "merged_df=pd.merge(left=doc_look_up_df, right=filtered_df, on='map', how='inner')"
   ]
  },
  {
   "cell_type": "code",
   "execution_count": 1030,
   "metadata": {},
   "outputs": [],
   "source": [
    "merged_df['orig_index'] = merged_df['orig_index_x']"
   ]
  },
  {
   "cell_type": "code",
   "execution_count": 1031,
   "metadata": {},
   "outputs": [],
   "source": [
    "df['orig_index'] = df.index"
   ]
  },
  {
   "cell_type": "code",
   "execution_count": 1032,
   "metadata": {},
   "outputs": [],
   "source": [
    "final_df = pd.merge(left=df, right=merged_df, on='orig_index', how='inner')"
   ]
  },
  {
   "cell_type": "code",
   "execution_count": 1033,
   "metadata": {},
   "outputs": [
    {
     "data": {
      "text/plain": [
       "namenr\n",
       "Park%am%Hauptbahnhof                                       21\n",
       "Ottopark                                                   11\n",
       "Nordhafenpark%Ost                                           8\n",
       "Hertzbergplatz-Grünanlage                                   7\n",
       "Annemirl-Bauer-Platz                                        7\n",
       "Spreeuferpromenade%zw.%Jannowitzbrücke%u.%Michaelbrücke     6\n",
       "Besselpark                                                  6\n",
       "Puschkinallee/%Schlesischer%Busch%AT%GA                     5\n",
       "Fischerinsel%11%an%der%Schwimmhalle                         5\n",
       "Hallesches%Ufer%zw.%Schöneberger%u.%Möckernbrücke           5\n",
       "Sellerpark                                                  5\n",
       "Blankensteinpark                                            4\n",
       "Platz%der%Republik                                          4\n",
       "Karl-Marx-Allee%70C-F                                       4\n",
       "Görlitzer%Park                                              4\n",
       "Name: count, dtype: int64"
      ]
     },
     "execution_count": 1033,
     "metadata": {},
     "output_type": "execute_result"
    }
   ],
   "source": [
    "final_df.namenr.value_counts().head(15)"
   ]
  },
  {
   "cell_type": "code",
   "execution_count": 1034,
   "metadata": {},
   "outputs": [
    {
     "data": {
      "text/plain": [
       "('Waldeckpark',\n",
       " 'Annemirl-Bauer-Platz',\n",
       " 'Hertzbergplatz-Grünanlage',\n",
       " 'Ottopark')"
      ]
     },
     "execution_count": 1034,
     "metadata": {},
     "output_type": "execute_result"
    }
   ],
   "source": [
    "'Waldeckpark', 'Annemirl-Bauer-Platz', 'Hertzbergplatz-Grünanlage', 'Ottopark',                                "
   ]
  }
 ],
 "metadata": {
  "kernelspec": {
   "display_name": "Python 3",
   "language": "python",
   "name": "python3"
  },
  "language_info": {
   "codemirror_mode": {
    "name": "ipython",
    "version": 3
   },
   "file_extension": ".py",
   "mimetype": "text/x-python",
   "name": "python",
   "nbconvert_exporter": "python",
   "pygments_lexer": "ipython3",
   "version": "3.11.10"
  }
 },
 "nbformat": 4,
 "nbformat_minor": 2
}
