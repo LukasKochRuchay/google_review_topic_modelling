{
 "cells": [
  {
   "cell_type": "code",
   "execution_count": 1,
   "metadata": {},
   "outputs": [],
   "source": [
    "import pandas as pd\n",
    "import geopandas as gpd\n",
    "import requests\n",
    "import json\n",
    "from deep_translator import GoogleTranslator\n",
    "import os"
   ]
  },
  {
   "cell_type": "markdown",
   "metadata": {},
   "source": [
    "### get review data"
   ]
  },
  {
   "cell_type": "code",
   "execution_count": 30,
   "metadata": {},
   "outputs": [],
   "source": [
    "key_google = os.environ.get('key_google')\n",
    "key_outscraper = os.environ.get('key_outscraper')"
   ]
  },
  {
   "cell_type": "markdown",
   "metadata": {},
   "source": [
    "##### get place IDs and review text via lat lon"
   ]
  },
  {
   "cell_type": "code",
   "execution_count": 3,
   "metadata": {},
   "outputs": [],
   "source": [
    "url_places = 'https://places.googleapis.com/v1/places:searchNearby'"
   ]
  },
  {
   "cell_type": "code",
   "execution_count": 4,
   "metadata": {},
   "outputs": [],
   "source": [
    "payload = json.dumps({\n",
    "  \"includedTypes\": [\n",
    "    \"park\"\n",
    "  ],\n",
    "  \"maxResultCount\": 1,\n",
    "  \"locationRestriction\": {\n",
    "    \"circle\": {\n",
    "      \"center\": {\n",
    "        \"latitude\": 52.543856,\n",
    "        \"longitude\": 13.286259\n",
    "      },\n",
    "      \"radius\": 100\n",
    "    }\n",
    "  }\n",
    "})\n",
    "\n",
    "headers = {\n",
    "  'X-Goog-FieldMask': 'places.id,places.displayName,places.formattedAddress,places.types,places.websiteUri',\n",
    "  'Content-Type': 'application/json',\n",
    "  'X-Goog-Api-Key': key_google\n",
    "}"
   ]
  },
  {
   "cell_type": "code",
   "execution_count": 5,
   "metadata": {},
   "outputs": [],
   "source": [
    "response = requests.request(\"POST\", url_places, headers=headers, data=payload)"
   ]
  },
  {
   "cell_type": "code",
   "execution_count": 6,
   "metadata": {},
   "outputs": [
    {
     "data": {
      "text/plain": [
       "{'places': [{'id': 'ChIJ896tRaNWqEcReIddyp_Sa04',\n",
       "   'types': ['park', 'premise', 'point_of_interest', 'establishment'],\n",
       "   'formattedAddress': '13 Berlin, Germany',\n",
       "   'displayName': {'text': 'Berlin', 'languageCode': 'en'}}]}"
      ]
     },
     "execution_count": 6,
     "metadata": {},
     "output_type": "execute_result"
    }
   ],
   "source": [
    "#ip adress need to be changed\n",
    "response.json()"
   ]
  },
  {
   "cell_type": "code",
   "execution_count": 7,
   "metadata": {},
   "outputs": [],
   "source": [
    "place_ids = [i['id'] for i in response.json()['places']]\n",
    "id = place_ids[0]"
   ]
  },
  {
   "cell_type": "code",
   "execution_count": 8,
   "metadata": {},
   "outputs": [],
   "source": [
    "headers = {\n",
    "  'X-API-KEY': key_outscraper\n",
    "}"
   ]
  },
  {
   "cell_type": "markdown",
   "metadata": {},
   "source": [
    "##### get place IDs and review text text search"
   ]
  },
  {
   "cell_type": "code",
   "execution_count": 11,
   "metadata": {},
   "outputs": [],
   "source": [
    "api_calls = pd.read_csv('../data/query_values.csv')"
   ]
  },
  {
   "cell_type": "code",
   "execution_count": 58,
   "metadata": {},
   "outputs": [],
   "source": [
    "def textsearch (query_value, key_google):\n",
    "    try:\n",
    "        url_text = f'https://maps.googleapis.com/maps/api/place/textsearch/json?query={query_value}&key={key_google}'\n",
    "        response = requests.request(\"GET\", url_text)\n",
    "        result = response.json().get('results')\n",
    "        if result:\n",
    "            place_id = result[0]['place_id']\n",
    "            return place_id\n",
    "        else:\n",
    "            print('no results')\n",
    "            return None\n",
    "    except requests.RequestException as e:\n",
    "        print(f\"HTTP request failed: {e}\")\n",
    "        return None"
   ]
  },
  {
   "cell_type": "code",
   "execution_count": 59,
   "metadata": {},
   "outputs": [
    {
     "name": "stdout",
     "output_type": "stream",
     "text": [
      "no results\n",
      "no results\n",
      "no results\n",
      "no results\n",
      "no results\n",
      "no results\n",
      "no results\n",
      "no results\n",
      "no results\n"
     ]
    }
   ],
   "source": [
    "api_calls['place_ids'] = api_calls['query_value'].apply(lambda x: textsearch(x, key_google))"
   ]
  },
  {
   "cell_type": "code",
   "execution_count": 102,
   "metadata": {},
   "outputs": [],
   "source": [
    "def check_reviews (place_id, key_google):\n",
    "    \n",
    "    headers = {\n",
    "    'X-Goog-FieldMask': 'reviews,id,displayName,rating,location',\n",
    "    f'X-Goog-Api-Key': key_google\n",
    "    }\n",
    "    \n",
    "    try:\n",
    "        url = f'https://places.googleapis.com/v1/places/{place_id}'\n",
    "        response = requests.request(\"GET\", url, headers=headers)\n",
    "        result =  response.json().get('reviews')\n",
    "        if result:\n",
    "            return True\n",
    "        else:\n",
    "            return False\n",
    "    except requests.RequestException as e:\n",
    "        print(f\"HTTP request failed: {e}\")\n",
    "        return None"
   ]
  },
  {
   "cell_type": "code",
   "execution_count": 100,
   "metadata": {},
   "outputs": [],
   "source": [
    "test = api_calls[:10]"
   ]
  },
  {
   "cell_type": "code",
   "execution_count": 103,
   "metadata": {},
   "outputs": [
    {
     "name": "stderr",
     "output_type": "stream",
     "text": [
      "/tmp/ipykernel_404/2498454680.py:1: SettingWithCopyWarning: \n",
      "A value is trying to be set on a copy of a slice from a DataFrame.\n",
      "Try using .loc[row_indexer,col_indexer] = value instead\n",
      "\n",
      "See the caveats in the documentation: https://pandas.pydata.org/pandas-docs/stable/user_guide/indexing.html#returning-a-view-versus-a-copy\n",
      "  test['reviews'] = test['place_ids'].apply(lambda x: check_reviews(x, key_google))\n"
     ]
    }
   ],
   "source": [
    "test['reviews'] = test['place_ids'].apply(lambda x: check_reviews(x, key_google))"
   ]
  },
  {
   "cell_type": "code",
   "execution_count": 104,
   "metadata": {},
   "outputs": [
    {
     "data": {
      "text/html": [
       "<div>\n",
       "<style scoped>\n",
       "    .dataframe tbody tr th:only-of-type {\n",
       "        vertical-align: middle;\n",
       "    }\n",
       "\n",
       "    .dataframe tbody tr th {\n",
       "        vertical-align: top;\n",
       "    }\n",
       "\n",
       "    .dataframe thead th {\n",
       "        text-align: right;\n",
       "    }\n",
       "</style>\n",
       "<table border=\"1\" class=\"dataframe\">\n",
       "  <thead>\n",
       "    <tr style=\"text-align: right;\">\n",
       "      <th></th>\n",
       "      <th>query_value</th>\n",
       "      <th>place_ids</th>\n",
       "      <th>reviews</th>\n",
       "    </tr>\n",
       "  </thead>\n",
       "  <tbody>\n",
       "    <tr>\n",
       "      <th>0</th>\n",
       "      <td>Jungfernheide/Plötzensee</td>\n",
       "      <td>ChIJZ9RRs0JRqEcR60IIK2HabF4</td>\n",
       "      <td>True</td>\n",
       "    </tr>\n",
       "    <tr>\n",
       "      <th>1</th>\n",
       "      <td>Schlossgarten</td>\n",
       "      <td>ChIJLQhWKi5RqEcRuLWq4wG9HDE</td>\n",
       "      <td>True</td>\n",
       "    </tr>\n",
       "    <tr>\n",
       "      <th>2</th>\n",
       "      <td>Jungfernheide/Plötzensee</td>\n",
       "      <td>ChIJZ9RRs0JRqEcR60IIK2HabF4</td>\n",
       "      <td>True</td>\n",
       "    </tr>\n",
       "    <tr>\n",
       "      <th>3</th>\n",
       "      <td>Savignyplatz</td>\n",
       "      <td>ChIJCeEX0vxQqEcRVuhtE5dxUq0</td>\n",
       "      <td>True</td>\n",
       "    </tr>\n",
       "    <tr>\n",
       "      <th>4</th>\n",
       "      <td>Schloßstraße</td>\n",
       "      <td>ChIJQeiNloZaqEcRkCl8zrm4Q50</td>\n",
       "      <td>False</td>\n",
       "    </tr>\n",
       "    <tr>\n",
       "      <th>5</th>\n",
       "      <td>Klausenerplatz</td>\n",
       "      <td>ChIJf65Iti5RqEcR_rER3tplFvk</td>\n",
       "      <td>False</td>\n",
       "    </tr>\n",
       "    <tr>\n",
       "      <th>6</th>\n",
       "      <td>Schloßstraße</td>\n",
       "      <td>ChIJQeiNloZaqEcRkCl8zrm4Q50</td>\n",
       "      <td>False</td>\n",
       "    </tr>\n",
       "    <tr>\n",
       "      <th>7</th>\n",
       "      <td>Tegeler%20Weg</td>\n",
       "      <td>ChIJwza5zDZRqEcRpnGRllTL9mw</td>\n",
       "      <td>False</td>\n",
       "    </tr>\n",
       "    <tr>\n",
       "      <th>8</th>\n",
       "      <td>Lietzensee</td>\n",
       "      <td>ChIJtWwWGtdQqEcRFct8sjKvQLM</td>\n",
       "      <td>True</td>\n",
       "    </tr>\n",
       "    <tr>\n",
       "      <th>9</th>\n",
       "      <td>Amtsgerichtsplatz</td>\n",
       "      <td>ChIJ72_VLNpQqEcRIaxo_BckNT0</td>\n",
       "      <td>False</td>\n",
       "    </tr>\n",
       "  </tbody>\n",
       "</table>\n",
       "</div>"
      ],
      "text/plain": [
       "                query_value                    place_ids  reviews\n",
       "0  Jungfernheide/Plötzensee  ChIJZ9RRs0JRqEcR60IIK2HabF4     True\n",
       "1             Schlossgarten  ChIJLQhWKi5RqEcRuLWq4wG9HDE     True\n",
       "2  Jungfernheide/Plötzensee  ChIJZ9RRs0JRqEcR60IIK2HabF4     True\n",
       "3              Savignyplatz  ChIJCeEX0vxQqEcRVuhtE5dxUq0     True\n",
       "4              Schloßstraße  ChIJQeiNloZaqEcRkCl8zrm4Q50    False\n",
       "5            Klausenerplatz  ChIJf65Iti5RqEcR_rER3tplFvk    False\n",
       "6              Schloßstraße  ChIJQeiNloZaqEcRkCl8zrm4Q50    False\n",
       "7             Tegeler%20Weg  ChIJwza5zDZRqEcRpnGRllTL9mw    False\n",
       "8                Lietzensee  ChIJtWwWGtdQqEcRFct8sjKvQLM     True\n",
       "9         Amtsgerichtsplatz  ChIJ72_VLNpQqEcRIaxo_BckNT0    False"
      ]
     },
     "execution_count": 104,
     "metadata": {},
     "output_type": "execute_result"
    }
   ],
   "source": [
    "test"
   ]
  },
  {
   "cell_type": "code",
   "execution_count": 81,
   "metadata": {},
   "outputs": [],
   "source": [
    "headers = {\n",
    "  'X-Goog-FieldMask': 'reviews,id,displayName,rating,location',\n",
    "  f'X-Goog-Api-Key': key_google\n",
    "}"
   ]
  },
  {
   "cell_type": "code",
   "execution_count": 82,
   "metadata": {},
   "outputs": [],
   "source": [
    "url = 'https://places.googleapis.com/v1/places/ChIJ4e0dyO1QqEcRQma_KJClVKc'"
   ]
  },
  {
   "cell_type": "code",
   "execution_count": 85,
   "metadata": {},
   "outputs": [],
   "source": [
    "response = requests.request(\"GET\", url, headers=headers)\n",
    "result = response.json()"
   ]
  },
  {
   "cell_type": "code",
   "execution_count": 91,
   "metadata": {},
   "outputs": [
    {
     "data": {
      "text/plain": [
       "[{'name': 'places/ChIJ4e0dyO1QqEcRQma_KJClVKc/reviews/ChdDSUhNMG9nS0VJQ0FnSUNIcU5HbjZRRRAB',\n",
       "  'relativePublishTimeDescription': '4 months ago',\n",
       "  'rating': 5,\n",
       "  'text': {'text': 'I love this place\\nSpicy, fresh and delicious Asian food.\\nBut unfortunately not all food kiosks accept PayPal or credit card payment methods. Most of them are “cash only”',\n",
       "   'languageCode': 'en'},\n",
       "  'originalText': {'text': 'I love this place\\nSpicy, fresh and delicious Asian food.\\nBut unfortunately not all food kiosks accept PayPal or credit card payment methods. Most of them are “cash only”',\n",
       "   'languageCode': 'en'},\n",
       "  'authorAttribution': {'displayName': 'Iryna Hruzda',\n",
       "   'uri': 'https://www.google.com/maps/contrib/109308918531320833198/reviews',\n",
       "   'photoUri': 'https://lh3.googleusercontent.com/a-/ALV-UjXEYtpmtGx_XLQOuZlbYtoLWXbMmP8E6ws-iwtmv3bngVdWdxY=s128-c0x00000000-cc-rp-mo-ba5'},\n",
       "  'publishTime': '2024-08-31T15:25:21.864824Z',\n",
       "  'flagContentUri': 'https://www.google.com/local/review/rap/report?postId=ChdDSUhNMG9nS0VJQ0FnSUNIcU5HbjZRRRAB&d=17924085&t=1',\n",
       "  'googleMapsUri': 'https://www.google.com/maps/reviews/data=!4m6!14m5!1m4!2m3!1sChdDSUhNMG9nS0VJQ0FnSUNIcU5HbjZRRRAB!2m1!1s0x47a850edc81dede1:0xa754a59028bf6642'},\n",
       " {'name': 'places/ChIJ4e0dyO1QqEcRQma_KJClVKc/reviews/ChdDSUhNMG9nS0VJQ0FnSURaNHM2YTlBRRAB',\n",
       "  'relativePublishTimeDescription': 'a year ago',\n",
       "  'rating': 4,\n",
       "  'text': {'text': 'Very nice concept! From Friday to Sunday you can enjoy many different drinks, dishes at the Thai food stalls. It’s not that expensive and you get big portions.\\nThey use reusable plates, containers and cutlery. When returning you get 1-3 euros back.\\n\\nGreat place to enjoy in the summer months. You can eat authentic food and sit in the park.',\n",
       "   'languageCode': 'en'},\n",
       "  'originalText': {'text': 'Very nice concept! From Friday to Sunday you can enjoy many different drinks, dishes at the Thai food stalls. It’s not that expensive and you get big portions.\\nThey use reusable plates, containers and cutlery. When returning you get 1-3 euros back.\\n\\nGreat place to enjoy in the summer months. You can eat authentic food and sit in the park.',\n",
       "   'languageCode': 'en'},\n",
       "  'authorAttribution': {'displayName': 'Menny',\n",
       "   'uri': 'https://www.google.com/maps/contrib/108739429124880188188/reviews',\n",
       "   'photoUri': 'https://lh3.googleusercontent.com/a/ACg8ocJ6u0Waypb7lgR8tpBUOzbapiCWKgt_l0TAErd6wj59q5iA7Os=s128-c0x00000000-cc-rp-mo-ba4'},\n",
       "  'publishTime': '2023-09-27T13:38:57.292560Z',\n",
       "  'flagContentUri': 'https://www.google.com/local/review/rap/report?postId=ChdDSUhNMG9nS0VJQ0FnSURaNHM2YTlBRRAB&d=17924085&t=1',\n",
       "  'googleMapsUri': 'https://www.google.com/maps/reviews/data=!4m6!14m5!1m4!2m3!1sChdDSUhNMG9nS0VJQ0FnSURaNHM2YTlBRRAB!2m1!1s0x47a850edc81dede1:0xa754a59028bf6642'},\n",
       " {'name': 'places/ChIJ4e0dyO1QqEcRQma_KJClVKc/reviews/ChdDSUhNMG9nS0VJQ0FnSURidXF1ZXZBRRAB',\n",
       "  'relativePublishTimeDescription': '5 months ago',\n",
       "  'rating': 5,\n",
       "  'text': {'text': 'Best place for authentic food. Very good vibes, super tasty food and drinks. 100% worth it',\n",
       "   'languageCode': 'en'},\n",
       "  'originalText': {'text': 'Best place for authentic food. Very good vibes, super tasty food and drinks. 100% worth it',\n",
       "   'languageCode': 'en'},\n",
       "  'authorAttribution': {'displayName': 'Angela Rodriguez',\n",
       "   'uri': 'https://www.google.com/maps/contrib/117378110374431639502/reviews',\n",
       "   'photoUri': 'https://lh3.googleusercontent.com/a-/ALV-UjUtVNGQMzDCftbV-L7GKk3dXbPe0An1mTVtg30IcbHCvyp_WkgRNg=s128-c0x00000000-cc-rp-mo-ba3'},\n",
       "  'publishTime': '2024-08-04T15:53:10.039874Z',\n",
       "  'flagContentUri': 'https://www.google.com/local/review/rap/report?postId=ChdDSUhNMG9nS0VJQ0FnSURidXF1ZXZBRRAB&d=17924085&t=1',\n",
       "  'googleMapsUri': 'https://www.google.com/maps/reviews/data=!4m6!14m5!1m4!2m3!1sChdDSUhNMG9nS0VJQ0FnSURidXF1ZXZBRRAB!2m1!1s0x47a850edc81dede1:0xa754a59028bf6642'},\n",
       " {'name': 'places/ChIJ4e0dyO1QqEcRQma_KJClVKc/reviews/ChZDSUhNMG9nS0VJQ0FnSUNac05XelNnEAE',\n",
       "  'relativePublishTimeDescription': 'a year ago',\n",
       "  'rating': 3,\n",
       "  'text': {'text': 'I tried the Pad Thai that was introduced on the website and it was tasty and flavorful. A bit too sweet for me. However, my expectation might be a bit too high. I thought there would be different variations of authentic Thai food and snacks, but most of the stands sell the same stuffs. I also tried the pork skewer and fried chicken wing. They didn’t heat it up but directly gave them to me wrapped in the kitchen roll. They were cold and oily. The colorful dumplings were also disappointing. There were barely fillings but dough and all of them tasted the same. Maybe I chose the wrong stand because I saw other people were eating those dumplings as well and they looked much better. I didn’t try the cricket. Just took a pic of them. Oversell it was an interesting experience. However, I don’t think I will go there again for food. A good Thai restaurant will be a better choice',\n",
       "   'languageCode': 'en'},\n",
       "  'originalText': {'text': 'I tried the Pad Thai that was introduced on the website and it was tasty and flavorful. A bit too sweet for me. However, my expectation might be a bit too high. I thought there would be different variations of authentic Thai food and snacks, but most of the stands sell the same stuffs. I also tried the pork skewer and fried chicken wing. They didn’t heat it up but directly gave them to me wrapped in the kitchen roll. They were cold and oily. The colorful dumplings were also disappointing. There were barely fillings but dough and all of them tasted the same. Maybe I chose the wrong stand because I saw other people were eating those dumplings as well and they looked much better. I didn’t try the cricket. Just took a pic of them. Oversell it was an interesting experience. However, I don’t think I will go there again for food. A good Thai restaurant will be a better choice',\n",
       "   'languageCode': 'en'},\n",
       "  'authorAttribution': {'displayName': 'Wei-Ting Lin',\n",
       "   'uri': 'https://www.google.com/maps/contrib/101295403377016217831/reviews',\n",
       "   'photoUri': 'https://lh3.googleusercontent.com/a-/ALV-UjWi8NH8oPradg65DsApzTNH_WFJD92gClLraeJ20OtoW1idlPiA=s128-c0x00000000-cc-rp-mo-ba5'},\n",
       "  'publishTime': '2023-09-02T17:17:42.855334Z',\n",
       "  'flagContentUri': 'https://www.google.com/local/review/rap/report?postId=ChZDSUhNMG9nS0VJQ0FnSUNac05XelNnEAE&d=17924085&t=1',\n",
       "  'googleMapsUri': 'https://www.google.com/maps/reviews/data=!4m6!14m5!1m4!2m3!1sChZDSUhNMG9nS0VJQ0FnSUNac05XelNnEAE!2m1!1s0x47a850edc81dede1:0xa754a59028bf6642'},\n",
       " {'name': 'places/ChIJ4e0dyO1QqEcRQma_KJClVKc/reviews/ChZDSUhNMG9nS0VJQ0FnSUNwajdTdUdREAE',\n",
       "  'relativePublishTimeDescription': 'a year ago',\n",
       "  'rating': 5,\n",
       "  'text': {'text': 'Totally recommend it this Thai market! The food are authentic and the vendors are very friendly. The market was smaller than what we expected, but there are a lot of food variety (mostly Thai with some Vietnamese, Chinese and Japanese cuisine). There is a picnic area and a playground, so family-friendly and good for group gathering.\\n\\nRemember to bring Tupperware so that you can order for takeaway and avoid paying 2€ each time. Otherwise, always remember to add 2€ to the price of your dish or drink.',\n",
       "   'languageCode': 'en'},\n",
       "  'originalText': {'text': 'Totally recommend it this Thai market! The food are authentic and the vendors are very friendly. The market was smaller than what we expected, but there are a lot of food variety (mostly Thai with some Vietnamese, Chinese and Japanese cuisine). There is a picnic area and a playground, so family-friendly and good for group gathering.\\n\\nRemember to bring Tupperware so that you can order for takeaway and avoid paying 2€ each time. Otherwise, always remember to add 2€ to the price of your dish or drink.',\n",
       "   'languageCode': 'en'},\n",
       "  'authorAttribution': {'displayName': 'Thanh-Hồng Lê',\n",
       "   'uri': 'https://www.google.com/maps/contrib/114749040483846991368/reviews',\n",
       "   'photoUri': 'https://lh3.googleusercontent.com/a/ACg8ocI4i2otI84Q9anYV4xaF37gD3fa6tSP1_GMmCfQJEv82_bcZ-Y=s128-c0x00000000-cc-rp-mo-ba5'},\n",
       "  'publishTime': '2023-08-12T15:42:08.989213Z',\n",
       "  'flagContentUri': 'https://www.google.com/local/review/rap/report?postId=ChZDSUhNMG9nS0VJQ0FnSUNwajdTdUdREAE&d=17924085&t=1',\n",
       "  'googleMapsUri': 'https://www.google.com/maps/reviews/data=!4m6!14m5!1m4!2m3!1sChZDSUhNMG9nS0VJQ0FnSUNwajdTdUdREAE!2m1!1s0x47a850edc81dede1:0xa754a59028bf6642'}]"
      ]
     },
     "execution_count": 91,
     "metadata": {},
     "output_type": "execute_result"
    }
   ],
   "source": [
    "result['reviews']"
   ]
  },
  {
   "cell_type": "code",
   "execution_count": 88,
   "metadata": {},
   "outputs": [
    {
     "data": {
      "text/plain": [
       "[{'name': 'places/ChIJ4e0dyO1QqEcRQma_KJClVKc/reviews/ChdDSUhNMG9nS0VJQ0FnSUNIcU5HbjZRRRAB',\n",
       "  'relativePublishTimeDescription': '4 months ago',\n",
       "  'rating': 5,\n",
       "  'text': {'text': 'I love this place\\nSpicy, fresh and delicious Asian food.\\nBut unfortunately not all food kiosks accept PayPal or credit card payment methods. Most of them are “cash only”',\n",
       "   'languageCode': 'en'},\n",
       "  'originalText': {'text': 'I love this place\\nSpicy, fresh and delicious Asian food.\\nBut unfortunately not all food kiosks accept PayPal or credit card payment methods. Most of them are “cash only”',\n",
       "   'languageCode': 'en'},\n",
       "  'authorAttribution': {'displayName': 'Iryna Hruzda',\n",
       "   'uri': 'https://www.google.com/maps/contrib/109308918531320833198/reviews',\n",
       "   'photoUri': 'https://lh3.googleusercontent.com/a-/ALV-UjXEYtpmtGx_XLQOuZlbYtoLWXbMmP8E6ws-iwtmv3bngVdWdxY=s128-c0x00000000-cc-rp-mo-ba5'},\n",
       "  'publishTime': '2024-08-31T15:25:21.864824Z',\n",
       "  'flagContentUri': 'https://www.google.com/local/review/rap/report?postId=ChdDSUhNMG9nS0VJQ0FnSUNIcU5HbjZRRRAB&d=17924085&t=1',\n",
       "  'googleMapsUri': 'https://www.google.com/maps/reviews/data=!4m6!14m5!1m4!2m3!1sChdDSUhNMG9nS0VJQ0FnSUNIcU5HbjZRRRAB!2m1!1s0x47a850edc81dede1:0xa754a59028bf6642'},\n",
       " {'name': 'places/ChIJ4e0dyO1QqEcRQma_KJClVKc/reviews/ChdDSUhNMG9nS0VJQ0FnSURaNHM2YTlBRRAB',\n",
       "  'relativePublishTimeDescription': 'a year ago',\n",
       "  'rating': 4,\n",
       "  'text': {'text': 'Very nice concept! From Friday to Sunday you can enjoy many different drinks, dishes at the Thai food stalls. It’s not that expensive and you get big portions.\\nThey use reusable plates, containers and cutlery. When returning you get 1-3 euros back.\\n\\nGreat place to enjoy in the summer months. You can eat authentic food and sit in the park.',\n",
       "   'languageCode': 'en'},\n",
       "  'originalText': {'text': 'Very nice concept! From Friday to Sunday you can enjoy many different drinks, dishes at the Thai food stalls. It’s not that expensive and you get big portions.\\nThey use reusable plates, containers and cutlery. When returning you get 1-3 euros back.\\n\\nGreat place to enjoy in the summer months. You can eat authentic food and sit in the park.',\n",
       "   'languageCode': 'en'},\n",
       "  'authorAttribution': {'displayName': 'Menny',\n",
       "   'uri': 'https://www.google.com/maps/contrib/108739429124880188188/reviews',\n",
       "   'photoUri': 'https://lh3.googleusercontent.com/a/ACg8ocJ6u0Waypb7lgR8tpBUOzbapiCWKgt_l0TAErd6wj59q5iA7Os=s128-c0x00000000-cc-rp-mo-ba4'},\n",
       "  'publishTime': '2023-09-27T13:38:57.292560Z',\n",
       "  'flagContentUri': 'https://www.google.com/local/review/rap/report?postId=ChdDSUhNMG9nS0VJQ0FnSURaNHM2YTlBRRAB&d=17924085&t=1',\n",
       "  'googleMapsUri': 'https://www.google.com/maps/reviews/data=!4m6!14m5!1m4!2m3!1sChdDSUhNMG9nS0VJQ0FnSURaNHM2YTlBRRAB!2m1!1s0x47a850edc81dede1:0xa754a59028bf6642'},\n",
       " {'name': 'places/ChIJ4e0dyO1QqEcRQma_KJClVKc/reviews/ChdDSUhNMG9nS0VJQ0FnSURidXF1ZXZBRRAB',\n",
       "  'relativePublishTimeDescription': '5 months ago',\n",
       "  'rating': 5,\n",
       "  'text': {'text': 'Best place for authentic food. Very good vibes, super tasty food and drinks. 100% worth it',\n",
       "   'languageCode': 'en'},\n",
       "  'originalText': {'text': 'Best place for authentic food. Very good vibes, super tasty food and drinks. 100% worth it',\n",
       "   'languageCode': 'en'},\n",
       "  'authorAttribution': {'displayName': 'Angela Rodriguez',\n",
       "   'uri': 'https://www.google.com/maps/contrib/117378110374431639502/reviews',\n",
       "   'photoUri': 'https://lh3.googleusercontent.com/a-/ALV-UjUtVNGQMzDCftbV-L7GKk3dXbPe0An1mTVtg30IcbHCvyp_WkgRNg=s128-c0x00000000-cc-rp-mo-ba3'},\n",
       "  'publishTime': '2024-08-04T15:53:10.039874Z',\n",
       "  'flagContentUri': 'https://www.google.com/local/review/rap/report?postId=ChdDSUhNMG9nS0VJQ0FnSURidXF1ZXZBRRAB&d=17924085&t=1',\n",
       "  'googleMapsUri': 'https://www.google.com/maps/reviews/data=!4m6!14m5!1m4!2m3!1sChdDSUhNMG9nS0VJQ0FnSURidXF1ZXZBRRAB!2m1!1s0x47a850edc81dede1:0xa754a59028bf6642'},\n",
       " {'name': 'places/ChIJ4e0dyO1QqEcRQma_KJClVKc/reviews/ChZDSUhNMG9nS0VJQ0FnSUNac05XelNnEAE',\n",
       "  'relativePublishTimeDescription': 'a year ago',\n",
       "  'rating': 3,\n",
       "  'text': {'text': 'I tried the Pad Thai that was introduced on the website and it was tasty and flavorful. A bit too sweet for me. However, my expectation might be a bit too high. I thought there would be different variations of authentic Thai food and snacks, but most of the stands sell the same stuffs. I also tried the pork skewer and fried chicken wing. They didn’t heat it up but directly gave them to me wrapped in the kitchen roll. They were cold and oily. The colorful dumplings were also disappointing. There were barely fillings but dough and all of them tasted the same. Maybe I chose the wrong stand because I saw other people were eating those dumplings as well and they looked much better. I didn’t try the cricket. Just took a pic of them. Oversell it was an interesting experience. However, I don’t think I will go there again for food. A good Thai restaurant will be a better choice',\n",
       "   'languageCode': 'en'},\n",
       "  'originalText': {'text': 'I tried the Pad Thai that was introduced on the website and it was tasty and flavorful. A bit too sweet for me. However, my expectation might be a bit too high. I thought there would be different variations of authentic Thai food and snacks, but most of the stands sell the same stuffs. I also tried the pork skewer and fried chicken wing. They didn’t heat it up but directly gave them to me wrapped in the kitchen roll. They were cold and oily. The colorful dumplings were also disappointing. There were barely fillings but dough and all of them tasted the same. Maybe I chose the wrong stand because I saw other people were eating those dumplings as well and they looked much better. I didn’t try the cricket. Just took a pic of them. Oversell it was an interesting experience. However, I don’t think I will go there again for food. A good Thai restaurant will be a better choice',\n",
       "   'languageCode': 'en'},\n",
       "  'authorAttribution': {'displayName': 'Wei-Ting Lin',\n",
       "   'uri': 'https://www.google.com/maps/contrib/101295403377016217831/reviews',\n",
       "   'photoUri': 'https://lh3.googleusercontent.com/a-/ALV-UjWi8NH8oPradg65DsApzTNH_WFJD92gClLraeJ20OtoW1idlPiA=s128-c0x00000000-cc-rp-mo-ba5'},\n",
       "  'publishTime': '2023-09-02T17:17:42.855334Z',\n",
       "  'flagContentUri': 'https://www.google.com/local/review/rap/report?postId=ChZDSUhNMG9nS0VJQ0FnSUNac05XelNnEAE&d=17924085&t=1',\n",
       "  'googleMapsUri': 'https://www.google.com/maps/reviews/data=!4m6!14m5!1m4!2m3!1sChZDSUhNMG9nS0VJQ0FnSUNac05XelNnEAE!2m1!1s0x47a850edc81dede1:0xa754a59028bf6642'},\n",
       " {'name': 'places/ChIJ4e0dyO1QqEcRQma_KJClVKc/reviews/ChZDSUhNMG9nS0VJQ0FnSUNwajdTdUdREAE',\n",
       "  'relativePublishTimeDescription': 'a year ago',\n",
       "  'rating': 5,\n",
       "  'text': {'text': 'Totally recommend it this Thai market! The food are authentic and the vendors are very friendly. The market was smaller than what we expected, but there are a lot of food variety (mostly Thai with some Vietnamese, Chinese and Japanese cuisine). There is a picnic area and a playground, so family-friendly and good for group gathering.\\n\\nRemember to bring Tupperware so that you can order for takeaway and avoid paying 2€ each time. Otherwise, always remember to add 2€ to the price of your dish or drink.',\n",
       "   'languageCode': 'en'},\n",
       "  'originalText': {'text': 'Totally recommend it this Thai market! The food are authentic and the vendors are very friendly. The market was smaller than what we expected, but there are a lot of food variety (mostly Thai with some Vietnamese, Chinese and Japanese cuisine). There is a picnic area and a playground, so family-friendly and good for group gathering.\\n\\nRemember to bring Tupperware so that you can order for takeaway and avoid paying 2€ each time. Otherwise, always remember to add 2€ to the price of your dish or drink.',\n",
       "   'languageCode': 'en'},\n",
       "  'authorAttribution': {'displayName': 'Thanh-Hồng Lê',\n",
       "   'uri': 'https://www.google.com/maps/contrib/114749040483846991368/reviews',\n",
       "   'photoUri': 'https://lh3.googleusercontent.com/a/ACg8ocI4i2otI84Q9anYV4xaF37gD3fa6tSP1_GMmCfQJEv82_bcZ-Y=s128-c0x00000000-cc-rp-mo-ba5'},\n",
       "  'publishTime': '2023-08-12T15:42:08.989213Z',\n",
       "  'flagContentUri': 'https://www.google.com/local/review/rap/report?postId=ChZDSUhNMG9nS0VJQ0FnSUNwajdTdUdREAE&d=17924085&t=1',\n",
       "  'googleMapsUri': 'https://www.google.com/maps/reviews/data=!4m6!14m5!1m4!2m3!1sChZDSUhNMG9nS0VJQ0FnSUNwajdTdUdREAE!2m1!1s0x47a850edc81dede1:0xa754a59028bf6642'}]"
      ]
     },
     "execution_count": 88,
     "metadata": {},
     "output_type": "execute_result"
    }
   ],
   "source": [
    "result.get('reviews')"
   ]
  },
  {
   "cell_type": "code",
   "execution_count": null,
   "metadata": {},
   "outputs": [],
   "source": []
  },
  {
   "cell_type": "code",
   "execution_count": null,
   "metadata": {},
   "outputs": [],
   "source": []
  },
  {
   "cell_type": "code",
   "execution_count": null,
   "metadata": {},
   "outputs": [],
   "source": []
  },
  {
   "cell_type": "markdown",
   "metadata": {},
   "source": [
    "##### get scrape jobs"
   ]
  },
  {
   "cell_type": "code",
   "execution_count": 71,
   "metadata": {},
   "outputs": [],
   "source": [
    "id = 'ChIJZ9RRs0JRqEcR60IIK2HabF4'"
   ]
  },
  {
   "cell_type": "code",
   "execution_count": 72,
   "metadata": {},
   "outputs": [],
   "source": [
    "url_scrapejobs = f'https://api.app.outscraper.com/maps/reviews-v3?limit=1000&async=false&query={id}&reviewsLimit=3'"
   ]
  },
  {
   "cell_type": "code",
   "execution_count": 73,
   "metadata": {},
   "outputs": [],
   "source": [
    "response = requests.request(\"GET\", url_scrapejobs, headers=headers)"
   ]
  },
  {
   "cell_type": "code",
   "execution_count": 74,
   "metadata": {},
   "outputs": [],
   "source": [
    "response = response.json()['data']"
   ]
  },
  {
   "cell_type": "code",
   "execution_count": 75,
   "metadata": {},
   "outputs": [
    {
     "data": {
      "text/plain": [
       "{'query': 'ChIJ4e0dyO1QqEcRQma_KJClVKc',\n",
       " 'name': 'Preußenpark',\n",
       " 'name_for_emails': 'Preußenpark',\n",
       " 'place_id': 'ChIJ4e0dyO1QqEcRQma_KJClVKc',\n",
       " 'google_id': '0x47a850edc81dede1:0xa754a59028bf6642',\n",
       " 'kgmid': '/g/11bzzy741f',\n",
       " 'full_address': 'Württembergische Str., 10707 Berlin, Germany',\n",
       " 'borough': 'Charlottenburg-Wilmersdorf',\n",
       " 'street': 'Württembergische Str.',\n",
       " 'postal_code': '10707',\n",
       " 'area_service': False,\n",
       " 'country_code': 'DE',\n",
       " 'country': 'Germany',\n",
       " 'city': 'Berlin',\n",
       " 'us_state': None,\n",
       " 'state': None,\n",
       " 'plus_code': '9F4MF8R7+JR',\n",
       " 'latitude': 52.491582,\n",
       " 'longitude': 13.3146104,\n",
       " 'h3': '891f1d498a3ffff',\n",
       " 'time_zone': 'Europe/Berlin',\n",
       " 'popular_times': None,\n",
       " 'site': 'https://thaipark.de/',\n",
       " 'phone': '+49 30 60264358',\n",
       " 'type': 'Market',\n",
       " 'logo': None,\n",
       " 'description': 'Tree-filled park featuring a playground & a large open space that hosts seasonal Thai-food vendors.',\n",
       " 'typical_time_spent': None,\n",
       " 'located_in': None,\n",
       " 'located_google_id': None,\n",
       " 'category': 'Markt',\n",
       " 'subtypes': 'Market, Thai restaurant',\n",
       " 'posts': None,\n",
       " 'reviews_tags': ['thai food',\n",
       "  'street food',\n",
       "  'meadow',\n",
       "  'asian food',\n",
       "  'authenticity',\n",
       "  'mango sticky rice',\n",
       "  'deposit',\n",
       "  'kitchen',\n",
       "  'green space',\n",
       "  'mojito'],\n",
       " 'rating': 4.3,\n",
       " 'reviews': 7123,\n",
       " 'reviews_data': [{'google_id': '0x47a850edc81dede1:0xa754a59028bf6642',\n",
       "   'review_id': 'ChdDSUhNMG9nS0VJQ0FnSUNIcU5HbjZRRRAB',\n",
       "   'review_pagination_id': 'CAESY0NBRVFBUnBFUTJwRlNVRlNTWEJEWjI5QlVEZGZURUZHWkZCZlgxOWZSV2hCUVV4SmQweFlaVWhMWkhWa09HNDJSVUZCUVVGQlIyZHVPVEpRZDBOaWJHSXhhR0pqV1VGRFNVRQ==',\n",
       "   'author_link': 'https://www.google.com/maps/contrib/109308918531320833198?hl=en',\n",
       "   'author_title': 'Iryna Hruzda',\n",
       "   'author_id': '109308918531320833198',\n",
       "   'author_image': 'https://lh3.googleusercontent.com/a-/ALV-UjXEYtpmtGx_XLQOuZlbYtoLWXbMmP8E6ws-iwtmv3bngVdWdxY=s120-c-rp-mo-ba5-br100',\n",
       "   'author_reviews_count': 112,\n",
       "   'author_ratings_count': 2,\n",
       "   'review_text': 'I love this place\\nSpicy, fresh and delicious Asian food.\\nBut unfortunately not all food kiosks accept PayPal or credit card payment methods. Most of them are “cash only”',\n",
       "   'review_img_urls': ['https://lh5.googleusercontent.com/p/AF1QipMdMnZcKiJ9Ow-KSYKaRpSGpj7YUW6UbBwB4Hre',\n",
       "    'https://lh5.googleusercontent.com/p/AF1QipNeVOfzixP_fQXDvZN6bd02DPaGcuzLCu9Hyg_f',\n",
       "    'https://lh5.googleusercontent.com/p/AF1QipMOv8jJ5kcYMYIwk1D7vQGDZ6T12Dc30b9-lTUT',\n",
       "    'https://lh5.googleusercontent.com/p/AF1QipO2c0fFZTPCTHsrCmIrjrQb2gYIITXx-IT-sT2Q',\n",
       "    'https://lh5.googleusercontent.com/p/AF1QipOmUa4Remh4szNcU1zjkF1LiPC5JSkkti1iXkHp',\n",
       "    'https://lh5.googleusercontent.com/p/AF1QipO5kf6XS4ZI-eIunyrfG9LIbT7FOBq7T8Um2tVu',\n",
       "    'https://lh5.googleusercontent.com/p/AF1QipNntcUMNKN9xr2GkOZISmcXAAqGr0TbInZJHsWc',\n",
       "    'https://lh5.googleusercontent.com/p/AF1QipPGDF0tIGSe9Zs1sgY8vZ8cXzlCvqhPlW7cTsjg',\n",
       "    'https://lh5.googleusercontent.com/p/AF1QipM1PuqZVP-AVpNsKGGSC2V9Gf_u2L9ZbqpjpihH'],\n",
       "   'review_img_url': 'https://lh5.googleusercontent.com/p/AF1QipMdMnZcKiJ9Ow-KSYKaRpSGpj7YUW6UbBwB4Hre=w150-h150-k-no-p',\n",
       "   'review_questions': None,\n",
       "   'review_photo_ids': ['AF1QipMdMnZcKiJ9Ow-KSYKaRpSGpj7YUW6UbBwB4Hre',\n",
       "    'AF1QipNeVOfzixP_fQXDvZN6bd02DPaGcuzLCu9Hyg_f',\n",
       "    'AF1QipMOv8jJ5kcYMYIwk1D7vQGDZ6T12Dc30b9-lTUT',\n",
       "    'AF1QipO2c0fFZTPCTHsrCmIrjrQb2gYIITXx-IT-sT2Q',\n",
       "    'AF1QipOmUa4Remh4szNcU1zjkF1LiPC5JSkkti1iXkHp',\n",
       "    'AF1QipO5kf6XS4ZI-eIunyrfG9LIbT7FOBq7T8Um2tVu',\n",
       "    'AF1QipNntcUMNKN9xr2GkOZISmcXAAqGr0TbInZJHsWc',\n",
       "    'AF1QipPGDF0tIGSe9Zs1sgY8vZ8cXzlCvqhPlW7cTsjg',\n",
       "    'AF1QipM1PuqZVP-AVpNsKGGSC2V9Gf_u2L9ZbqpjpihH'],\n",
       "   'owner_answer': None,\n",
       "   'owner_answer_timestamp': None,\n",
       "   'owner_answer_timestamp_datetime_utc': None,\n",
       "   'review_link': 'https://www.google.com/maps/reviews/data=!4m8!14m7!1m6!2m5!1sChdDSUhNMG9nS0VJQ0FnSUNIcU5HbjZRRRAB!2m1!1s0x0:0xa754a59028bf6642!3m1!1s2@1:CIHM0ogKEICAgICHqNGn6QE%7CCgwI4evMtgYQwNWwnAM%7C?hl=en',\n",
       "   'review_rating': 5,\n",
       "   'review_timestamp': 1725117921,\n",
       "   'review_datetime_utc': '08/31/2024 15:25:21',\n",
       "   'review_likes': 0,\n",
       "   'reviews_id': '-6389299932754385342'},\n",
       "  {'google_id': '0x47a850edc81dede1:0xa754a59028bf6642',\n",
       "   'review_id': 'ChdDSUhNMG9nS0VJQ0FnSURaNHM2YTlBRRAB',\n",
       "   'review_pagination_id': 'CAESY0NBRVFBaHBFUTJwRlNVRlNTWEJEWjI5QlVEZGZURUZOWnpKZlgxOWZSV2hETTNCNVJ5MUJOVFpMV1ZwT09HbGpjMEZCUVVGQlIyZHVPVEpSTkVOa1UydHBlRmhOV1VGRFNVRQ==',\n",
       "   'author_link': 'https://www.google.com/maps/contrib/108739429124880188188?hl=en',\n",
       "   'author_title': 'Menny',\n",
       "   'author_id': '108739429124880188188',\n",
       "   'author_image': 'https://lh3.googleusercontent.com/a/ACg8ocJ6u0Waypb7lgR8tpBUOzbapiCWKgt_l0TAErd6wj59q5iA7Os=s120-c-rp-mo-ba4-br100',\n",
       "   'author_reviews_count': 116,\n",
       "   'author_ratings_count': 0,\n",
       "   'review_text': 'Very nice concept! From Friday to Sunday you can enjoy many different drinks, dishes at the Thai food stalls. It’s not that expensive and you get big portions.\\nThey use reusable plates, containers and cutlery. When returning you get 1-3 euros back.\\n\\nGreat place to enjoy in the summer months. You can eat authentic food and sit in the park.',\n",
       "   'review_img_urls': ['https://lh5.googleusercontent.com/p/AF1QipPDzoXjTOtktihmSVz3vmarFyqtWcAchZ0IFQLK',\n",
       "    'https://lh5.googleusercontent.com/p/AF1QipNB48jXXtkzmjIqj5ukDKZMl_jFEJW-cZOjIQ6D',\n",
       "    'https://lh5.googleusercontent.com/p/AF1QipPqGh1tHC-TIDHMxgCG_vE0G7xI0eVynHTxLZjX'],\n",
       "   'review_img_url': 'https://lh5.googleusercontent.com/p/AF1QipPDzoXjTOtktihmSVz3vmarFyqtWcAchZ0IFQLK=w150-h150-k-no-p',\n",
       "   'review_questions': None,\n",
       "   'review_photo_ids': ['AF1QipPDzoXjTOtktihmSVz3vmarFyqtWcAchZ0IFQLK',\n",
       "    'AF1QipNB48jXXtkzmjIqj5ukDKZMl_jFEJW-cZOjIQ6D',\n",
       "    'AF1QipPqGh1tHC-TIDHMxgCG_vE0G7xI0eVynHTxLZjX'],\n",
       "   'owner_answer': None,\n",
       "   'owner_answer_timestamp': None,\n",
       "   'owner_answer_timestamp_datetime_utc': None,\n",
       "   'review_link': 'https://www.google.com/maps/reviews/data=!4m8!14m7!1m6!2m5!1sChdDSUhNMG9nS0VJQ0FnSURaNHM2YTlBRRAB!2m1!1s0x0:0xa754a59028bf6642!3m1!1s2@1:CIHM0ogKEICAgIDZ4s6a9AE%7CCgwI8eDQqAYQgLnAiwE%7C?hl=en',\n",
       "   'review_rating': 4,\n",
       "   'review_timestamp': 1695821937,\n",
       "   'review_datetime_utc': '09/27/2023 13:38:57',\n",
       "   'review_likes': 1,\n",
       "   'reviews_id': '-6389299932754385342'},\n",
       "  {'google_id': '0x47a850edc81dede1:0xa754a59028bf6642',\n",
       "   'review_id': 'ChdDSUhNMG9nS0VJQ0FnSURidXF1ZXZBRRAB',\n",
       "   'review_pagination_id': 'CAESY0NBRVFBeHBFUTJwRlNVRlNTWEJEWjI5QlVEZGZURUZRY1hGZlgxOWZSV2hCVEZwVWNETmFPVk5QZVU5U2RIUTJPRUZCUVVGQlIyZHVPVEpTVlVOaWRVaHVlRmRuV1VGRFNVRQ==',\n",
       "   'author_link': 'https://www.google.com/maps/contrib/117378110374431639502?hl=en',\n",
       "   'author_title': 'Angela Rodriguez',\n",
       "   'author_id': '117378110374431639502',\n",
       "   'author_image': 'https://lh3.googleusercontent.com/a-/ALV-UjUtVNGQMzDCftbV-L7GKk3dXbPe0An1mTVtg30IcbHCvyp_WkgRNg=s120-c-rp-mo-ba3-br100',\n",
       "   'author_reviews_count': 24,\n",
       "   'author_ratings_count': 17,\n",
       "   'review_text': 'Best place for authentic food. Very good vibes, super tasty food and drinks. 100% worth it',\n",
       "   'review_img_urls': ['https://lh5.googleusercontent.com/p/AF1QipOFSrrUgUp-M9uU28qTqSJmrB9jWtUSZ5_iwBZ1',\n",
       "    'https://lh5.googleusercontent.com/p/AF1QipP3CSVATP1q5EGL5D3Q7siSGJutFXZhDwUXZcYe',\n",
       "    'https://lh5.googleusercontent.com/p/AF1QipOBtPKGVt3afXOz8h2oEPjbZyE5K1zLQOHsWam4',\n",
       "    'https://lh5.googleusercontent.com/p/AF1QipOJSaJ8vbcK0Qcq6PZvnMZ4c4jGRono9PZJCOq_'],\n",
       "   'review_img_url': 'https://lh5.googleusercontent.com/p/AF1QipOFSrrUgUp-M9uU28qTqSJmrB9jWtUSZ5_iwBZ1=w150-h150-k-no-p',\n",
       "   'review_questions': None,\n",
       "   'review_photo_ids': ['AF1QipOFSrrUgUp-M9uU28qTqSJmrB9jWtUSZ5_iwBZ1',\n",
       "    'AF1QipP3CSVATP1q5EGL5D3Q7siSGJutFXZhDwUXZcYe',\n",
       "    'AF1QipOBtPKGVt3afXOz8h2oEPjbZyE5K1zLQOHsWam4',\n",
       "    'AF1QipOJSaJ8vbcK0Qcq6PZvnMZ4c4jGRono9PZJCOq_'],\n",
       "   'owner_answer': None,\n",
       "   'owner_answer_timestamp': None,\n",
       "   'owner_answer_timestamp_datetime_utc': None,\n",
       "   'review_link': 'https://www.google.com/maps/reviews/data=!4m8!14m7!1m6!2m5!1sChdDSUhNMG9nS0VJQ0FnSURidXF1ZXZBRRAB!2m1!1s0x0:0xa754a59028bf6642!3m1!1s2@1:CIHM0ogKEICAgIDbuquevAE%7CCgsI5se-tQYQ0NuBEw%7C?hl=en',\n",
       "   'review_rating': 5,\n",
       "   'review_timestamp': 1722786790,\n",
       "   'review_datetime_utc': '08/04/2024 15:53:10',\n",
       "   'review_likes': 0,\n",
       "   'reviews_id': '-6389299932754385342'}],\n",
       " 'photos_count': 9037,\n",
       " 'cid': '12057444140955166274',\n",
       " 'reviews_link': 'https://search.google.com/local/reviews?placeid=ChIJ4e0dyO1QqEcRQma_KJClVKc&authuser=0&hl=en&gl=IN',\n",
       " 'reviews_id': '-6389299932754385342',\n",
       " 'photo': 'https://lh5.googleusercontent.com/p/AF1QipOPMorbTIgMBRf1nKwYj_T9bthDNGh_IYd_i77e=w800-h500-k-no',\n",
       " 'street_view': 'https://lh5.googleusercontent.com/p/AF1QipO4xLrKmsUxmp9-vXV0mtaNiq3Bsnoq0ANNToo5=w1600-h1000-k-no',\n",
       " 'working_hours_old_format': None,\n",
       " 'working_hours': None,\n",
       " 'other_hours': None,\n",
       " 'business_status': 'CLOSED_TEMPORARILY',\n",
       " 'about': {'From the business': {'Identifies as women-owned': True},\n",
       "  'Service options': {'In-store shopping': True},\n",
       "  'Accessibility': {'Wheelchair-accessible car park': True,\n",
       "   'Wheelchair-accessible entrance': True,\n",
       "   'Wheelchair-accessible seating': True,\n",
       "   'Wheelchair-accessible toilet': True},\n",
       "  'Amenities': {'Gender-neutral toilets': True, 'Toilets': True},\n",
       "  'Crowd': {'LGBTQ+ friendly': True, 'Transgender safe space': True},\n",
       "  'Parking': {'Free parking lot': True, 'Free street parking': True},\n",
       "  'Other': {'LGBTQ+ friendly': True, 'Identifies as women-owned': True}},\n",
       " 'range': None,\n",
       " 'reviews_per_score': None,\n",
       " 'reviews_per_score_1': None,\n",
       " 'reviews_per_score_2': None,\n",
       " 'reviews_per_score_3': None,\n",
       " 'reviews_per_score_4': None,\n",
       " 'reviews_per_score_5': None,\n",
       " 'reservation_links': None,\n",
       " 'booking_appointment_link': None,\n",
       " 'menu_link': None,\n",
       " 'order_links': None,\n",
       " 'owner_id': None,\n",
       " 'verified': False,\n",
       " 'owner_title': 'Preußenpark',\n",
       " 'owner_link': None,\n",
       " 'location_link': 'https://www.google.com/maps/place/Preu%C3%9Fenpark/@52.491582,13.3146104,14z/data=!4m8!1m2!2m1!1sPreu%C3%9Fenpark!3m4!1s0x47a850edc81dede1:0xa754a59028bf6642!8m2!3d52.491582!4d13.3146104',\n",
       " 'location_reviews_link': 'https://www.google.com/maps/place/Preu%C3%9Fenpark/@52.491582,13.3146104,13.99z/data=!4m16!1m7!3m6!1s0x47a850edc81dede1:0xa754a59028bf6642!2sPreu%C3%9Fenpark!8m2!3d52.491582!4d13.3146104!16s%2Fg%2F11ckvg1dmb!3m7!1s0x47a850edc81dede1:0xa754a59028bf6642!8m2!3d52.491582!4d13.3146104!9m1!1b1!16s%2Fg%2F11ckvg1dmb?entry=ttu'}"
      ]
     },
     "execution_count": 75,
     "metadata": {},
     "output_type": "execute_result"
    }
   ],
   "source": [
    "response[0]"
   ]
  },
  {
   "cell_type": "code",
   "execution_count": 76,
   "metadata": {},
   "outputs": [],
   "source": [
    "df = pd.DataFrame(response[0]['reviews_data'])"
   ]
  },
  {
   "cell_type": "code",
   "execution_count": 77,
   "metadata": {},
   "outputs": [
    {
     "data": {
      "text/plain": [
       "0    I love this place\\nSpicy, fresh and delicious ...\n",
       "1    Very nice concept! From Friday to Sunday you c...\n",
       "2    Best place for authentic food. Very good vibes...\n",
       "Name: review_text, dtype: object"
      ]
     },
     "execution_count": 77,
     "metadata": {},
     "output_type": "execute_result"
    }
   ],
   "source": [
    "df.review_text"
   ]
  },
  {
   "cell_type": "code",
   "execution_count": 172,
   "metadata": {},
   "outputs": [
    {
     "data": {
      "text/plain": [
       "Index(['google_id', 'review_id', 'review_pagination_id', 'author_link',\n",
       "       'author_title', 'author_id', 'author_image', 'author_reviews_count',\n",
       "       'author_ratings_count', 'review_text', 'review_img_urls',\n",
       "       'review_img_url', 'review_questions', 'review_photo_ids',\n",
       "       'owner_answer', 'owner_answer_timestamp',\n",
       "       'owner_answer_timestamp_datetime_utc', 'review_link', 'review_rating',\n",
       "       'review_timestamp', 'review_datetime_utc', 'review_likes',\n",
       "       'reviews_id'],\n",
       "      dtype='object')"
      ]
     },
     "execution_count": 172,
     "metadata": {},
     "output_type": "execute_result"
    }
   ],
   "source": [
    "df.columns"
   ]
  },
  {
   "cell_type": "code",
   "execution_count": 173,
   "metadata": {},
   "outputs": [],
   "source": [
    "cols =['google_id','review_text', 'review_img_urls', 'review_rating', 'review_timestamp', 'review_likes']"
   ]
  },
  {
   "cell_type": "code",
   "execution_count": 174,
   "metadata": {},
   "outputs": [],
   "source": [
    "df = df[cols]"
   ]
  },
  {
   "cell_type": "code",
   "execution_count": 176,
   "metadata": {},
   "outputs": [
    {
     "data": {
      "text/plain": [
       "count    361.000000\n",
       "mean       3.623269\n",
       "std        1.522757\n",
       "min        1.000000\n",
       "25%        3.000000\n",
       "50%        4.000000\n",
       "75%        5.000000\n",
       "max        5.000000\n",
       "Name: review_rating, dtype: float64"
      ]
     },
     "execution_count": 176,
     "metadata": {},
     "output_type": "execute_result"
    }
   ],
   "source": [
    "df.review_rating.describe()"
   ]
  },
  {
   "cell_type": "code",
   "execution_count": 196,
   "metadata": {},
   "outputs": [
    {
     "name": "stderr",
     "output_type": "stream",
     "text": [
      "/tmp/ipykernel_3356/500012155.py:1: SettingWithCopyWarning: \n",
      "A value is trying to be set on a copy of a slice from a DataFrame.\n",
      "Try using .loc[row_indexer,col_indexer] = value instead\n",
      "\n",
      "See the caveats in the documentation: https://pandas.pydata.org/pandas-docs/stable/user_guide/indexing.html#returning-a-view-versus-a-copy\n",
      "  df['review_text_english'] = df['review_text'].apply(lambda x: GoogleTranslator(source='de', target='en').translate(x))\n"
     ]
    }
   ],
   "source": [
    "df['review_text_english'] = df['review_text'].apply(lambda x: GoogleTranslator(source='de', target='en').translate(x))\n",
    "#df['review_text_english'] = df['review_text_english'].apply(lambda x: GoogleTranslator(source='es', target='en').translate(x))"
   ]
  },
  {
   "cell_type": "code",
   "execution_count": 197,
   "metadata": {},
   "outputs": [
    {
     "data": {
      "text/plain": [
       "0      I happened to visit the park around midday on ...\n",
       "1      The park is nice, it surprised me that there w...\n",
       "2      Legenday park in Berlin! Somehow between Kreuz...\n",
       "3      I have to be honest and didn't feel particular...\n",
       "4      Watched a local men’s soccer game! Looks a lit...\n",
       "                             ...                        \n",
       "356    Precioso de day y tentador de noche.\\n\\nAquí e...\n",
       "357    Park that is getting old and not well maintain...\n",
       "358                          Very nice park to chill 😉😏😁\n",
       "359    Lots of dubious people! Especially with childr...\n",
       "360    Beautiful park where you can relax when the we...\n",
       "Name: review_text_english, Length: 361, dtype: object"
      ]
     },
     "execution_count": 197,
     "metadata": {},
     "output_type": "execute_result"
    }
   ],
   "source": [
    "df['review_text_english']"
   ]
  },
  {
   "cell_type": "code",
   "execution_count": 202,
   "metadata": {},
   "outputs": [],
   "source": [
    "df.to_csv('../data/raw/reviews_en_goerlitzerpark.csv')"
   ]
  },
  {
   "cell_type": "code",
   "execution_count": null,
   "metadata": {},
   "outputs": [],
   "source": []
  }
 ],
 "metadata": {
  "kernelspec": {
   "display_name": "Python 3",
   "language": "python",
   "name": "python3"
  },
  "language_info": {
   "codemirror_mode": {
    "name": "ipython",
    "version": 3
   },
   "file_extension": ".py",
   "mimetype": "text/x-python",
   "name": "python",
   "nbconvert_exporter": "python",
   "pygments_lexer": "ipython3",
   "version": "2.7.undefined"
  }
 },
 "nbformat": 4,
 "nbformat_minor": 2
}
